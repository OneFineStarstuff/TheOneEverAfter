{
  "nbformat": 4,
  "nbformat_minor": 0,
  "metadata": {
    "colab": {
      "private_outputs": true,
      "provenance": [],
      "authorship_tag": "ABX9TyPrixKGmJjSxWZwUc0nn0Dd",
      "include_colab_link": true
    },
    "kernelspec": {
      "name": "python3",
      "display_name": "Python 3"
    },
    "language_info": {
      "name": "python"
    }
  },
  "cells": [
    {
      "cell_type": "markdown",
      "metadata": {
        "id": "view-in-github",
        "colab_type": "text"
      },
      "source": [
        "<a href=\"https://colab.research.google.com/github/OneFineStarstuff/OneFineStardust/blob/main/Data_Handling_with_HDF5.ipynb\" target=\"_parent\"><img src=\"https://colab.research.google.com/assets/colab-badge.svg\" alt=\"Open In Colab\"/></a>"
      ]
    },
    {
      "cell_type": "code",
      "execution_count": null,
      "metadata": {
        "id": "F_W4mFhE-apq"
      },
      "outputs": [],
      "source": [
        "import h5py\n",
        "import numpy as np\n",
        "\n",
        "# Creating an HDF5 file and dataset\n",
        "with h5py.File('data.h5', 'w') as f:\n",
        "    dset = f.create_dataset(\"dataset_1\", (100,), dtype='i')\n",
        "    dset[:] = np.arange(100)\n",
        "\n",
        "# Reading from an HDF5 file\n",
        "with h5py.File('data.h5', 'r') as f:\n",
        "    data = f['dataset_1'][:]\n",
        "    print(\"Data read from HDF5 file:\", data)"
      ]
    }
  ]
}