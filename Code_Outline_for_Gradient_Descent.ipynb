{
  "nbformat": 4,
  "nbformat_minor": 0,
  "metadata": {
    "colab": {
      "private_outputs": true,
      "provenance": [],
      "authorship_tag": "ABX9TyNZbog+YmEY4pdK9xNB9M+H",
      "include_colab_link": true
    },
    "kernelspec": {
      "name": "python3",
      "display_name": "Python 3"
    },
    "language_info": {
      "name": "python"
    }
  },
  "cells": [
    {
      "cell_type": "markdown",
      "metadata": {
        "id": "view-in-github",
        "colab_type": "text"
      },
      "source": [
        "<a href=\"https://colab.research.google.com/github/OneFineStarstuff/OneFineStardust/blob/main/Code_Outline_for_Gradient_Descent.ipynb\" target=\"_parent\"><img src=\"https://colab.research.google.com/assets/colab-badge.svg\" alt=\"Open In Colab\"/></a>"
      ]
    },
    {
      "cell_type": "code",
      "execution_count": null,
      "metadata": {
        "id": "bsuKgc93OQus"
      },
      "outputs": [],
      "source": [
        "import numpy as np\n",
        "\n",
        "# Function to minimize\n",
        "def func(x, y):\n",
        "    return x**2 + y**2\n",
        "\n",
        "# Gradient of the function\n",
        "def grad(x, y):\n",
        "    return np.array([2*x, 2*y])\n",
        "\n",
        "# Gradient Descent\n",
        "learning_rate = 0.1\n",
        "num_iterations = 100\n",
        "x, y = 5, 5  # Initial guess\n",
        "\n",
        "for i in range(num_iterations):\n",
        "    gradient = grad(x, y)\n",
        "    x -= learning_rate * gradient[0]\n",
        "    y -= learning_rate * gradient[1]\n",
        "    print(f\"Iteration {i+1}: f({x:.4f}, {y:.4f}) = {func(x, y):.4f}\")\n",
        "\n",
        "print(f\"Minimum value at x={x:.4f}, y={y:.4f}\")"
      ]
    }
  ]
}