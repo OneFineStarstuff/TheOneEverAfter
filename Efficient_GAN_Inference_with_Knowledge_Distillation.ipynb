{
  "nbformat": 4,
  "nbformat_minor": 0,
  "metadata": {
    "colab": {
      "private_outputs": true,
      "provenance": [],
      "authorship_tag": "ABX9TyPCup+XVSq0gSPcqgLck/bm",
      "include_colab_link": true
    },
    "kernelspec": {
      "name": "python3",
      "display_name": "Python 3"
    },
    "language_info": {
      "name": "python"
    }
  },
  "cells": [
    {
      "cell_type": "markdown",
      "metadata": {
        "id": "view-in-github",
        "colab_type": "text"
      },
      "source": [
        "<a href=\"https://colab.research.google.com/github/OneFineStarstuff/OneFineStarstuff/blob/main/Efficient_GAN_Inference_with_Knowledge_Distillation.ipynb\" target=\"_parent\"><img src=\"https://colab.research.google.com/assets/colab-badge.svg\" alt=\"Open In Colab\"/></a>"
      ]
    },
    {
      "cell_type": "code",
      "execution_count": null,
      "metadata": {
        "id": "fIS0Rsx3L-1I"
      },
      "outputs": [],
      "source": [
        "import torch\n",
        "import torch.nn as nn\n",
        "import torch.optim as optim\n",
        "from torchvision import datasets, transforms\n",
        "from torch.utils.data import DataLoader\n",
        "\n",
        "# Define a simple teacher and student model\n",
        "class TeacherModel(nn.Module):\n",
        "    def __init__(self):\n",
        "        super(TeacherModel, self).__init__()\n",
        "        self.fc = nn.Linear(784, 10)\n",
        "\n",
        "    def forward(self, x):\n",
        "        x = x.view(x.size(0), -1)  # Flatten the input\n",
        "        return self.fc(x)\n",
        "\n",
        "class StudentModel(nn.Module):\n",
        "    def __init__(self):\n",
        "        super(StudentModel, self).__init__()\n",
        "        self.fc = nn.Linear(784, 10)\n",
        "\n",
        "    def forward(self, x):\n",
        "        x = x.view(x.size(0), -1)  # Flatten the input\n",
        "        return self.fc(x)\n",
        "\n",
        "# Initialize models\n",
        "teacher_model = TeacherModel()\n",
        "student_model = StudentModel()\n",
        "\n",
        "# Define optimizer and loss function\n",
        "optimizer = optim.Adam(student_model.parameters(), lr=0.001)\n",
        "criterion = nn.MSELoss()  # Using Mean Squared Error loss for distillation\n",
        "\n",
        "# Transform and DataLoader\n",
        "transform = transforms.Compose([\n",
        "    transforms.ToTensor(),\n",
        "    transforms.Normalize((0.5,), (0.5,))\n",
        "])\n",
        "\n",
        "train_dataset = datasets.MNIST(root='./data', train=True, transform=transform, download=True)\n",
        "train_loader = DataLoader(train_dataset, batch_size=64, shuffle=True)\n",
        "\n",
        "# Knowledge distillation function\n",
        "def distill_knowledge(teacher_model, student_model, data_loader, optimizer, criterion, num_epochs=10):\n",
        "    teacher_model.eval()  # Set teacher model to evaluation mode\n",
        "    for epoch in range(num_epochs):\n",
        "        for images, _ in data_loader:\n",
        "            images = images.to(device)\n",
        "\n",
        "            # Teacher forward pass\n",
        "            with torch.no_grad():\n",
        "                teacher_output = teacher_model(images)\n",
        "\n",
        "            # Student forward pass\n",
        "            student_output = student_model(images)\n",
        "\n",
        "            # Compute distillation loss\n",
        "            loss = criterion(student_output, teacher_output)\n",
        "\n",
        "            # Backpropagation and optimization\n",
        "            optimizer.zero_grad()\n",
        "            loss.backward()\n",
        "            optimizer.step()\n",
        "\n",
        "        print(f\"Epoch [{epoch+1}/{num_epochs}] Loss: {loss.item()}\")\n",
        "\n",
        "# Define device configuration\n",
        "device = torch.device(\"cuda\" if torch.cuda.is_available() else \"cpu\")\n",
        "teacher_model = teacher_model.to(device)\n",
        "student_model = student_model.to(device)\n",
        "\n",
        "# Perform knowledge distillation\n",
        "distill_knowledge(teacher_model, student_model, train_loader, optimizer, criterion, num_epochs=10)\n",
        "\n",
        "print(\"Knowledge distillation completed!\")"
      ]
    }
  ]
}