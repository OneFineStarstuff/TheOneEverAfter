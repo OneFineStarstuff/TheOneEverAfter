{
  "nbformat": 4,
  "nbformat_minor": 0,
  "metadata": {
    "colab": {
      "private_outputs": true,
      "provenance": [],
      "authorship_tag": "ABX9TyPBVeDrcECFI1IdehYhDvuF",
      "include_colab_link": true
    },
    "kernelspec": {
      "name": "python3",
      "display_name": "Python 3"
    },
    "language_info": {
      "name": "python"
    }
  },
  "cells": [
    {
      "cell_type": "markdown",
      "metadata": {
        "id": "view-in-github",
        "colab_type": "text"
      },
      "source": [
        "<a href=\"https://colab.research.google.com/github/OneFineStarstuff/OneFineStardust/blob/main/Creating_an_Interactive_Dashboard_with_Plotly_Dash.ipynb\" target=\"_parent\"><img src=\"https://colab.research.google.com/assets/colab-badge.svg\" alt=\"Open In Colab\"/></a>"
      ]
    },
    {
      "cell_type": "code",
      "source": [
        "pip install dash"
      ],
      "metadata": {
        "id": "vaUPEoT5qQjB"
      },
      "execution_count": null,
      "outputs": []
    },
    {
      "cell_type": "code",
      "execution_count": null,
      "metadata": {
        "id": "4ymBjk3vqFKx"
      },
      "outputs": [],
      "source": [
        "import dash\n",
        "from dash import dcc, html\n",
        "import plotly.express as px\n",
        "import pandas as pd\n",
        "\n",
        "# Load dataset for visualization (e.g., sales data)\n",
        "data = pd.read_csv('sales_data.csv')\n",
        "\n",
        "app = dash.Dash(__name__)\n",
        "\n",
        "app.layout = html.Div([\n",
        "    dcc.Graph(\n",
        "        id='sales-graph',\n",
        "        figure=px.bar(data, x='Month', y='Sales', title='Monthly Sales Data')\n",
        "    ),\n",
        "    html.Hr(),\n",
        "    dcc.Dropdown(\n",
        "        id='product-dropdown',\n",
        "        options=[{'label': product, 'value': product} for product in data['Product'].unique()],\n",
        "        value=data['Product'].unique()[0]\n",
        "    )\n",
        "])\n",
        "\n",
        "if __name__ == '__main__':\n",
        "    app.run_server(debug=True)"
      ]
    }
  ]
}