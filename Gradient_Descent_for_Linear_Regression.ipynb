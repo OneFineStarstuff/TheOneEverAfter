{
  "nbformat": 4,
  "nbformat_minor": 0,
  "metadata": {
    "colab": {
      "private_outputs": true,
      "provenance": [],
      "authorship_tag": "ABX9TyN9+5i45EKgVQbWxOKOKZiI",
      "include_colab_link": true
    },
    "kernelspec": {
      "name": "python3",
      "display_name": "Python 3"
    },
    "language_info": {
      "name": "python"
    }
  },
  "cells": [
    {
      "cell_type": "markdown",
      "metadata": {
        "id": "view-in-github",
        "colab_type": "text"
      },
      "source": [
        "<a href=\"https://colab.research.google.com/github/OneFineStarstuff/OneFineStardust/blob/main/Gradient_Descent_for_Linear_Regression.ipynb\" target=\"_parent\"><img src=\"https://colab.research.google.com/assets/colab-badge.svg\" alt=\"Open In Colab\"/></a>"
      ]
    },
    {
      "cell_type": "code",
      "execution_count": null,
      "metadata": {
        "id": "-FGWF-HwhtOs"
      },
      "outputs": [],
      "source": [
        "import numpy as np\n",
        "import matplotlib.pyplot as plt\n",
        "\n",
        "# Generate synthetic data\n",
        "np.random.seed(0)\n",
        "X = 2 * np.random.rand(100, 1)\n",
        "y = 4 + 3 * X + np.random.randn(100, 1)\n",
        "\n",
        "# Add bias term (intercept)\n",
        "X_b = np.c_[np.ones((100, 1)), X]  # add x0 = 1 to each instance\n",
        "\n",
        "# Gradient Descent parameters\n",
        "learning_rate = 0.1\n",
        "n_iterations = 1000\n",
        "m = len(X_b)\n",
        "\n",
        "# Initialize theta (weights)\n",
        "theta = np.random.randn(2, 1)\n",
        "\n",
        "# Gradient Descent loop\n",
        "for iteration in range(n_iterations):\n",
        "    gradients = (2/m) * X_b.T.dot(X_b.dot(theta) - y)\n",
        "    theta -= learning_rate * gradients\n",
        "\n",
        "print(\"Estimated coefficients:\", theta)\n",
        "\n",
        "# Plotting the results\n",
        "plt.scatter(X, y)\n",
        "plt.plot(X, X_b.dot(theta), color='red', label='Linear Regression Fit')\n",
        "plt.title('Gradient Descent Linear Regression')\n",
        "plt.xlabel('X')\n",
        "plt.ylabel('y')\n",
        "plt.legend()\n",
        "plt.show()"
      ]
    }
  ]
}