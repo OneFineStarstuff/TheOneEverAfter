{
  "nbformat": 4,
  "nbformat_minor": 0,
  "metadata": {
    "colab": {
      "private_outputs": true,
      "provenance": [],
      "authorship_tag": "ABX9TyOnLbZpH2l1J3jJKWu57nCu",
      "include_colab_link": true
    },
    "kernelspec": {
      "name": "python3",
      "display_name": "Python 3"
    },
    "language_info": {
      "name": "python"
    }
  },
  "cells": [
    {
      "cell_type": "markdown",
      "metadata": {
        "id": "view-in-github",
        "colab_type": "text"
      },
      "source": [
        "<a href=\"https://colab.research.google.com/github/OneFineStarstuff/OneFineStardust/blob/main/Self_Supervised_Learning_for_Generalization.ipynb\" target=\"_parent\"><img src=\"https://colab.research.google.com/assets/colab-badge.svg\" alt=\"Open In Colab\"/></a>"
      ]
    },
    {
      "cell_type": "code",
      "execution_count": null,
      "metadata": {
        "id": "wqvWjXeTHYL0"
      },
      "outputs": [],
      "source": [
        "import torch\n",
        "import torch.nn as nn\n",
        "import torch.nn.functional as F\n",
        "\n",
        "class ContrastiveLoss(nn.Module):\n",
        "    def __init__(self, margin=1.0):\n",
        "        super(ContrastiveLoss, self).__init__()\n",
        "        self.margin = margin\n",
        "\n",
        "    def forward(self, anchor, positive, negative):\n",
        "        pos_dist = F.pairwise_distance(anchor, positive)\n",
        "        neg_dist = F.pairwise_distance(anchor, negative)\n",
        "        loss = F.relu(pos_dist - neg_dist + self.margin)\n",
        "        return loss.mean()\n",
        "\n",
        "# Sample usage with embeddings\n",
        "anchor = torch.randn(10, 128)    # Anchor batch\n",
        "positive = torch.randn(10, 128)  # Positive samples (similar to anchor)\n",
        "negative = torch.randn(10, 128)  # Negative samples (dissimilar to anchor)\n",
        "\n",
        "loss_fn = ContrastiveLoss()\n",
        "loss = loss_fn(anchor, positive, negative)\n",
        "print(f\"Contrastive Loss: {loss.item()}\")"
      ]
    }
  ]
}