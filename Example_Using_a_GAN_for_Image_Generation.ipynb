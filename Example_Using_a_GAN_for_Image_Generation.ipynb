{
  "nbformat": 4,
  "nbformat_minor": 0,
  "metadata": {
    "colab": {
      "private_outputs": true,
      "provenance": [],
      "authorship_tag": "ABX9TyMLi302RAR1mh4rM9ddntdz",
      "include_colab_link": true
    },
    "kernelspec": {
      "name": "python3",
      "display_name": "Python 3"
    },
    "language_info": {
      "name": "python"
    }
  },
  "cells": [
    {
      "cell_type": "markdown",
      "metadata": {
        "id": "view-in-github",
        "colab_type": "text"
      },
      "source": [
        "<a href=\"https://colab.research.google.com/github/OneFineStarstuff/OneFineStardust/blob/main/Example_Using_a_GAN_for_Image_Generation.ipynb\" target=\"_parent\"><img src=\"https://colab.research.google.com/assets/colab-badge.svg\" alt=\"Open In Colab\"/></a>"
      ]
    },
    {
      "cell_type": "code",
      "execution_count": null,
      "metadata": {
        "id": "LISf7vqaec4c"
      },
      "outputs": [],
      "source": [
        "import numpy as np\n",
        "import matplotlib.pyplot as plt\n",
        "from keras.layers import Dense, Reshape, Flatten\n",
        "from keras.models import Sequential\n",
        "\n",
        "# Generator model\n",
        "def build_generator():\n",
        "    model = Sequential()\n",
        "    model.add(Dense(128, activation='relu', input_dim=100))\n",
        "    model.add(Dense(784, activation='tanh'))\n",
        "    model.add(Reshape((28, 28)))\n",
        "    return model\n",
        "\n",
        "# Create generator\n",
        "generator = build_generator()\n",
        "\n",
        "# Generate random noise\n",
        "noise = np.random.normal(0, 1, (1, 100))\n",
        "\n",
        "# Generate an image\n",
        "generated_image = generator.predict(noise)\n",
        "\n",
        "# Plot the generated image\n",
        "plt.imshow(generated_image[0], cmap='gray')\n",
        "plt.title('Generated Image')\n",
        "plt.axis('off')\n",
        "plt.show()"
      ]
    }
  ]
}