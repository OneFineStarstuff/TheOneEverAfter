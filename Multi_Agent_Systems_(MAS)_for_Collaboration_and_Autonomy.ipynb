{
  "nbformat": 4,
  "nbformat_minor": 0,
  "metadata": {
    "colab": {
      "private_outputs": true,
      "provenance": [],
      "authorship_tag": "ABX9TyMulAFSdAOs/+XpbmvsTfyS",
      "include_colab_link": true
    },
    "kernelspec": {
      "name": "python3",
      "display_name": "Python 3"
    },
    "language_info": {
      "name": "python"
    }
  },
  "cells": [
    {
      "cell_type": "markdown",
      "metadata": {
        "id": "view-in-github",
        "colab_type": "text"
      },
      "source": [
        "<a href=\"https://colab.research.google.com/github/OneFineStarstuff/OneFineStardust/blob/main/Multi_Agent_Systems_(MAS)_for_Collaboration_and_Autonomy.ipynb\" target=\"_parent\"><img src=\"https://colab.research.google.com/assets/colab-badge.svg\" alt=\"Open In Colab\"/></a>"
      ]
    },
    {
      "cell_type": "code",
      "execution_count": null,
      "metadata": {
        "id": "VkA9gE3tV3Cg"
      },
      "outputs": [],
      "source": [
        "import torch\n",
        "import torch.nn as nn\n",
        "import torch.optim as optim\n",
        "\n",
        "# Define a basic agent with a policy network\n",
        "class Agent(nn.Module):\n",
        "    def __init__(self, state_dim, action_dim):\n",
        "        super(Agent, self).__init__()\n",
        "        self.fc1 = nn.Linear(state_dim, 64)\n",
        "        self.fc2 = nn.Linear(64, action_dim)\n",
        "\n",
        "    def forward(self, state):\n",
        "        x = torch.relu(self.fc1(state))\n",
        "        return torch.softmax(self.fc2(x), dim=-1)\n",
        "\n",
        "# Multi-Agent environment interaction\n",
        "class MultiAgentEnv:\n",
        "    def __init__(self, n_agents, state_dim, action_dim):\n",
        "        self.agents = [Agent(state_dim, action_dim) for _ in range(n_agents)]\n",
        "        self.optimizers = [optim.Adam(agent.parameters(), lr=0.01) for agent in self.agents]\n",
        "\n",
        "    def step(self, states):\n",
        "        actions = []\n",
        "        for agent, state in zip(self.agents, states):\n",
        "            state_tensor = state.clone().detach().requires_grad_(True)\n",
        "            action_prob = agent(state_tensor)\n",
        "            action = torch.multinomial(action_prob, 1)\n",
        "            actions.append(action.item())\n",
        "        return actions\n",
        "\n",
        "# Example usage with 3 agents and a hypothetical environment\n",
        "state_dim = 5\n",
        "action_dim = 3\n",
        "env = MultiAgentEnv(n_agents=3, state_dim=state_dim, action_dim=action_dim)\n",
        "\n",
        "states = [torch.randn(state_dim) for _ in range(3)]  # Random initial states for each agent\n",
        "actions = env.step(states)\n",
        "print(f\"Agent actions: {actions}\")"
      ]
    }
  ]
}