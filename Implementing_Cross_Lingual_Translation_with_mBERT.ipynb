{
  "nbformat": 4,
  "nbformat_minor": 0,
  "metadata": {
    "colab": {
      "private_outputs": true,
      "provenance": [],
      "authorship_tag": "ABX9TyNtH5Xf5dKXsK6vR4xdlzzs",
      "include_colab_link": true
    },
    "kernelspec": {
      "name": "python3",
      "display_name": "Python 3"
    },
    "language_info": {
      "name": "python"
    }
  },
  "cells": [
    {
      "cell_type": "markdown",
      "metadata": {
        "id": "view-in-github",
        "colab_type": "text"
      },
      "source": [
        "<a href=\"https://colab.research.google.com/github/OneFineStarstuff/OneFineStarstuff/blob/main/Implementing_Cross_Lingual_Translation_with_mBERT.ipynb\" target=\"_parent\"><img src=\"https://colab.research.google.com/assets/colab-badge.svg\" alt=\"Open In Colab\"/></a>"
      ]
    },
    {
      "cell_type": "code",
      "execution_count": null,
      "metadata": {
        "id": "XckGU2-WjhRu"
      },
      "outputs": [],
      "source": [
        "from transformers import MBartForConditionalGeneration, MBart50Tokenizer\n",
        "\n",
        "# Cross-lingual translation with mBART\n",
        "model = MBartForConditionalGeneration.from_pretrained(\"facebook/mbart-large-50\")\n",
        "tokenizer = MBart50Tokenizer.from_pretrained(\"facebook/mbart-large-50\")\n",
        "\n",
        "input_text = \"Hello, how are you?\"\n",
        "# Tokenize the input text\n",
        "encoded_input = tokenizer(input_text, return_tensors=\"pt\")\n",
        "\n",
        "# Specify the target language code\n",
        "target_lang = \"es_XX\"  # Spanish\n",
        "forced_bos_token_id = tokenizer.lang_code_to_id[target_lang]\n",
        "\n",
        "# Generate translation\n",
        "translated_tokens = model.generate(**encoded_input, forced_bos_token_id=forced_bos_token_id)\n",
        "# Decode the translated tokens\n",
        "translated_text = tokenizer.decode(translated_tokens[0], skip_special_tokens=True)\n",
        "\n",
        "print(\"Translation:\", translated_text)"
      ]
    }
  ]
}