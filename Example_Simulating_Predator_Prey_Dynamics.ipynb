{
  "nbformat": 4,
  "nbformat_minor": 0,
  "metadata": {
    "colab": {
      "private_outputs": true,
      "provenance": [],
      "authorship_tag": "ABX9TyO1oCVWTEmfM2oxEJ9Cfw0z",
      "include_colab_link": true
    },
    "kernelspec": {
      "name": "python3",
      "display_name": "Python 3"
    },
    "language_info": {
      "name": "python"
    }
  },
  "cells": [
    {
      "cell_type": "markdown",
      "metadata": {
        "id": "view-in-github",
        "colab_type": "text"
      },
      "source": [
        "<a href=\"https://colab.research.google.com/github/OneFineStarstuff/OneFineStarstuff/blob/main/Example_Simulating_Predator_Prey_Dynamics.ipynb\" target=\"_parent\"><img src=\"https://colab.research.google.com/assets/colab-badge.svg\" alt=\"Open In Colab\"/></a>"
      ]
    },
    {
      "cell_type": "code",
      "execution_count": null,
      "metadata": {
        "id": "JYScNoQfgDm0"
      },
      "outputs": [],
      "source": [
        "import numpy as np\n",
        "import matplotlib.pyplot as plt\n",
        "\n",
        "# Parameters\n",
        "alpha = 0.1  # Prey birth rate\n",
        "beta = 0.02  # Predation rate\n",
        "delta = 0.01  # Predator reproduction rate\n",
        "gamma = 0.1  # Predator death rate\n",
        "t = np.linspace(0, 200, 1000)  # Time range\n",
        "\n",
        "# Initial conditions (Prey and Predator populations)\n",
        "X0 = 40  # Initial prey population\n",
        "Y0 = 9  # Initial predator population\n",
        "\n",
        "# Differential equations for the Lotka-Volterra model\n",
        "def lotka_volterra(XY, t, alpha, beta, delta, gamma):\n",
        "    X, Y = XY\n",
        "    dXdt = alpha * X - beta * X * Y  # Prey growth rate\n",
        "    dYdt = delta * X * Y - gamma * Y  # Predator growth rate\n",
        "    return [dXdt, dYdt]\n",
        "\n",
        "# Solve the system of equations\n",
        "from scipy.integrate import odeint\n",
        "XY0 = [X0, Y0]\n",
        "solution = odeint(lotka_volterra, XY0, t, args=(alpha, beta, delta, gamma))\n",
        "\n",
        "# Plot the results\n",
        "prey, predators = solution.T\n",
        "plt.plot(t, prey, label=\"Prey Population\")\n",
        "plt.plot(t, predators, label=\"Predator Population\")\n",
        "plt.title(\"Predator-Prey Dynamics (Lotka-Volterra Model)\")\n",
        "plt.xlabel(\"Time\")\n",
        "plt.ylabel(\"Population\")\n",
        "plt.legend()\n",
        "plt.grid(True)\n",
        "plt.show()"
      ]
    }
  ]
}