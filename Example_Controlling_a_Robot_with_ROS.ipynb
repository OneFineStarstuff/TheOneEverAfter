{
  "nbformat": 4,
  "nbformat_minor": 0,
  "metadata": {
    "colab": {
      "private_outputs": true,
      "provenance": [],
      "authorship_tag": "ABX9TyOqwOyP0w5kTDVdo6kIWpdC",
      "include_colab_link": true
    },
    "kernelspec": {
      "name": "python3",
      "display_name": "Python 3"
    },
    "language_info": {
      "name": "python"
    }
  },
  "cells": [
    {
      "cell_type": "markdown",
      "metadata": {
        "id": "view-in-github",
        "colab_type": "text"
      },
      "source": [
        "<a href=\"https://colab.research.google.com/github/OneFineStarstuff/OneFineStarstuff/blob/main/Example_Controlling_a_Robot_with_ROS.ipynb\" target=\"_parent\"><img src=\"https://colab.research.google.com/assets/colab-badge.svg\" alt=\"Open In Colab\"/></a>"
      ]
    },
    {
      "cell_type": "code",
      "execution_count": null,
      "metadata": {
        "id": "UISTCF344z-4"
      },
      "outputs": [],
      "source": [
        "import rospy\n",
        "from geometry_msgs.msg import Twist\n",
        "\n",
        "# Initialize the ROS node\n",
        "rospy.init_node('robot_controller')\n",
        "\n",
        "# Create a publisher to send velocity commands\n",
        "pub = rospy.Publisher('/cmd_vel', Twist, queue_size=10)\n",
        "\n",
        "# Define a velocity command\n",
        "vel_cmd = Twist()\n",
        "vel_cmd.linear.x = 0.5  # Move forward\n",
        "vel_cmd.angular.z = 0.0  # No rotation\n",
        "\n",
        "# Send the command for 5 seconds\n",
        "rate = rospy.Rate(10)  # 10 Hz\n",
        "for _ in range(50):\n",
        "    pub.publish(vel_cmd)\n",
        "    rate.sleep()\n",
        "\n",
        "# Stop the robot\n",
        "vel_cmd.linear.x = 0.0\n",
        "pub.publish(vel_cmd)"
      ]
    }
  ]
}