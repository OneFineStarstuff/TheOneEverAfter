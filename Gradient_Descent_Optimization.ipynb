{
  "nbformat": 4,
  "nbformat_minor": 0,
  "metadata": {
    "colab": {
      "private_outputs": true,
      "provenance": [],
      "authorship_tag": "ABX9TyOkO0QllJtNZw3PI9i6w5Lv",
      "include_colab_link": true
    },
    "kernelspec": {
      "name": "python3",
      "display_name": "Python 3"
    },
    "language_info": {
      "name": "python"
    }
  },
  "cells": [
    {
      "cell_type": "markdown",
      "metadata": {
        "id": "view-in-github",
        "colab_type": "text"
      },
      "source": [
        "<a href=\"https://colab.research.google.com/github/OneFineStarstuff/OneFineStardust/blob/main/Gradient_Descent_Optimization.ipynb\" target=\"_parent\"><img src=\"https://colab.research.google.com/assets/colab-badge.svg\" alt=\"Open In Colab\"/></a>"
      ]
    },
    {
      "cell_type": "code",
      "execution_count": null,
      "metadata": {
        "id": "_UWLW3fm9dw_"
      },
      "outputs": [],
      "source": [
        "import numpy as np\n",
        "import matplotlib.pyplot as plt\n",
        "\n",
        "# Define the function and its gradient\n",
        "def f(x):\n",
        "    return x**2 + 4*x + 4  # f(x) = (x + 2)^2\n",
        "\n",
        "def gradient(x):\n",
        "    return 2*x + 4\n",
        "\n",
        "# Gradient descent parameters\n",
        "learning_rate = 0.1\n",
        "x_start = 0\n",
        "num_iterations = 20\n",
        "\n",
        "# Store the values for plotting\n",
        "x_values = [x_start]\n",
        "y_values = [f(x_start)]\n",
        "\n",
        "# Gradient descent loop\n",
        "x = x_start\n",
        "for _ in range(num_iterations):\n",
        "    x -= learning_rate * gradient(x)\n",
        "    x_values.append(x)\n",
        "    y_values.append(f(x))\n",
        "\n",
        "# Plot the function and the path taken by gradient descent\n",
        "x_range = np.linspace(-6, 2, 100)\n",
        "plt.plot(x_range, f(x_range), label='f(x)', color='blue')\n",
        "plt.scatter(x_values, y_values, color='red', label='Gradient Descent Steps')\n",
        "plt.title('Gradient Descent Optimization')\n",
        "plt.xlabel('x')\n",
        "plt.ylabel('f(x)')\n",
        "plt.legend()\n",
        "plt.grid()\n",
        "plt.show()"
      ]
    }
  ]
}