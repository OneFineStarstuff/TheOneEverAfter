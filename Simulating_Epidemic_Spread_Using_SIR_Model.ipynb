{
  "nbformat": 4,
  "nbformat_minor": 0,
  "metadata": {
    "colab": {
      "private_outputs": true,
      "provenance": [],
      "authorship_tag": "ABX9TyMLresVaTlHwP9QdgSx/c96",
      "include_colab_link": true
    },
    "kernelspec": {
      "name": "python3",
      "display_name": "Python 3"
    },
    "language_info": {
      "name": "python"
    }
  },
  "cells": [
    {
      "cell_type": "markdown",
      "metadata": {
        "id": "view-in-github",
        "colab_type": "text"
      },
      "source": [
        "<a href=\"https://colab.research.google.com/github/OneFineStarstuff/OneFineStardust/blob/main/Simulating_Epidemic_Spread_Using_SIR_Model.ipynb\" target=\"_parent\"><img src=\"https://colab.research.google.com/assets/colab-badge.svg\" alt=\"Open In Colab\"/></a>"
      ]
    },
    {
      "cell_type": "code",
      "execution_count": null,
      "metadata": {
        "id": "j1wUk1jmrUPe"
      },
      "outputs": [],
      "source": [
        "import numpy as np\n",
        "import matplotlib.pyplot as plt\n",
        "\n",
        "# SIR model parameters\n",
        "beta = 0.3   # Infection rate per susceptible and infected individual\n",
        "gamma = 0.1   # Recovery rate\n",
        "\n",
        "# Initial conditions: S0: susceptible, I0: infected, R0: recovered\n",
        "S0 = 990   # Initial number of susceptible individuals\n",
        "I0 = 10    # Initial number of infected individuals\n",
        "R0 = 0     # Initial number of recovered individuals\n",
        "\n",
        "# Total population size (N)\n",
        "N = S0 + I0 + R0\n",
        "\n",
        "# Time parameters\n",
        "days = 160  # Simulation duration in days\n",
        "\n",
        "# Initialize arrays to hold results over time\n",
        "S = np.zeros(days)\n",
        "I = np.zeros(days)\n",
        "R = np.zeros(days)\n",
        "\n",
        "S[0], I[0], R[0] = S0, I0, R0\n",
        "\n",
        "for t in range(1, days):\n",
        "    S[t] = S[t-1] - beta * S[t-1] * I[t-1] / N   # Update susceptible individuals\n",
        "    I[t] = I[t-1] + beta * S[t-1] * I[t-1] / N - gamma * I[t-1]  # Update infected individuals\n",
        "    R[t] = R[t-1] + gamma * I[t-1]  # Update recovered individuals\n",
        "\n",
        "# Plotting the results of the simulation.\n",
        "plt.figure(figsize=(10, 5))\n",
        "plt.plot(S, label='Susceptible')\n",
        "plt.plot(I, label='Infected')\n",
        "plt.plot(R, label='Recovered')\n",
        "plt.title('Epidemic Spread Simulation (SIR Model)')\n",
        "plt.xlabel('Days')\n",
        "plt.ylabel('Population')\n",
        "plt.legend()\n",
        "plt.show()"
      ]
    }
  ]
}