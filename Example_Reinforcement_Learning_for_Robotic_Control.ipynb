{
  "nbformat": 4,
  "nbformat_minor": 0,
  "metadata": {
    "colab": {
      "private_outputs": true,
      "provenance": [],
      "authorship_tag": "ABX9TyOVbb8+RjhB0hkA190NEtC6",
      "include_colab_link": true
    },
    "kernelspec": {
      "name": "python3",
      "display_name": "Python 3"
    },
    "language_info": {
      "name": "python"
    }
  },
  "cells": [
    {
      "cell_type": "markdown",
      "metadata": {
        "id": "view-in-github",
        "colab_type": "text"
      },
      "source": [
        "<a href=\"https://colab.research.google.com/github/OneFineStarstuff/OneFineStardust/blob/main/Example_Reinforcement_Learning_for_Robotic_Control.ipynb\" target=\"_parent\"><img src=\"https://colab.research.google.com/assets/colab-badge.svg\" alt=\"Open In Colab\"/></a>"
      ]
    },
    {
      "cell_type": "code",
      "execution_count": null,
      "metadata": {
        "id": "mZQgblq1BPQE"
      },
      "outputs": [],
      "source": [
        "import gym\n",
        "\n",
        "# Create the CartPole environment with the new step API\n",
        "env = gym.make('CartPole-v1', new_step_api=True)\n",
        "\n",
        "# Initialize variables\n",
        "num_episodes = 1000\n",
        "total_rewards = []\n",
        "\n",
        "for episode in range(num_episodes):\n",
        "    state = env.reset()\n",
        "    total_reward = 0\n",
        "    done = False\n",
        "\n",
        "    while not done:\n",
        "        action = env.action_space.sample()  # Random action for exploration\n",
        "        next_state, reward, terminated, truncated, _ = env.step(action)  # Take action\n",
        "        done = terminated or truncated  # Update done flag\n",
        "        total_reward += reward\n",
        "        state = next_state\n",
        "\n",
        "    total_rewards.append(total_reward)\n",
        "\n",
        "# Plotting the total rewards over episodes\n",
        "import matplotlib.pyplot as plt\n",
        "\n",
        "plt.plot(total_rewards)\n",
        "plt.title('Total Rewards per Episode')\n",
        "plt.xlabel('Episode')\n",
        "plt.ylabel('Total Reward')\n",
        "plt.grid()\n",
        "plt.show()"
      ]
    }
  ]
}