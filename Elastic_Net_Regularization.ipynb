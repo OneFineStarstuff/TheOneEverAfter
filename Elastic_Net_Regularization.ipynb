{
  "nbformat": 4,
  "nbformat_minor": 0,
  "metadata": {
    "colab": {
      "private_outputs": true,
      "provenance": [],
      "authorship_tag": "ABX9TyNLtgPtYyYrzG/HLsXqxThD",
      "include_colab_link": true
    },
    "kernelspec": {
      "name": "python3",
      "display_name": "Python 3"
    },
    "language_info": {
      "name": "python"
    }
  },
  "cells": [
    {
      "cell_type": "markdown",
      "metadata": {
        "id": "view-in-github",
        "colab_type": "text"
      },
      "source": [
        "<a href=\"https://colab.research.google.com/github/OneFineStarstuff/OneFineStardust/blob/main/Elastic_Net_Regularization.ipynb\" target=\"_parent\"><img src=\"https://colab.research.google.com/assets/colab-badge.svg\" alt=\"Open In Colab\"/></a>"
      ]
    },
    {
      "cell_type": "code",
      "execution_count": null,
      "metadata": {
        "id": "EVamzPJJatK2"
      },
      "outputs": [],
      "source": [
        "import numpy as np\n",
        "from sklearn.linear_model import ElasticNet\n",
        "from sklearn.datasets import make_regression\n",
        "\n",
        "# Generate synthetic data for regression\n",
        "X, y = make_regression(n_samples=100, n_features=10, noise=0.1)\n",
        "\n",
        "# Fit Elastic Net regression model with both L1 and L2 regularization\n",
        "elastic_net_model = ElasticNet(alpha=1.0, l1_ratio=0.5)\n",
        "elastic_net_model.fit(X, y)\n",
        "\n",
        "# Print coefficients\n",
        "print(\"Elastic Net Coefficients:\", elastic_net_model.coef_)"
      ]
    }
  ]
}