{
  "nbformat": 4,
  "nbformat_minor": 0,
  "metadata": {
    "colab": {
      "private_outputs": true,
      "provenance": [],
      "authorship_tag": "ABX9TyNHRZ2gJRLhXupQXywrOJSj",
      "include_colab_link": true
    },
    "kernelspec": {
      "name": "python3",
      "display_name": "Python 3"
    },
    "language_info": {
      "name": "python"
    }
  },
  "cells": [
    {
      "cell_type": "markdown",
      "metadata": {
        "id": "view-in-github",
        "colab_type": "text"
      },
      "source": [
        "<a href=\"https://colab.research.google.com/github/OneFineStarstuff/OneFineStardust/blob/main/Code_Outline_for_PID_Controller_Simulation.ipynb\" target=\"_parent\"><img src=\"https://colab.research.google.com/assets/colab-badge.svg\" alt=\"Open In Colab\"/></a>"
      ]
    },
    {
      "cell_type": "code",
      "execution_count": null,
      "metadata": {
        "id": "zv8qFyIHNfKF"
      },
      "outputs": [],
      "source": [
        "import numpy as np\n",
        "import matplotlib.pyplot as plt\n",
        "\n",
        "# PID Controller Class\n",
        "class PIDController:\n",
        "    def __init__(self, kp, ki, kd, setpoint):\n",
        "        self.kp = kp\n",
        "        self.ki = ki\n",
        "        self.kd = kd\n",
        "        self.setpoint = setpoint\n",
        "        self.integral = 0\n",
        "        self.prev_error = 0\n",
        "\n",
        "    def compute(self, measurement, dt):\n",
        "        error = self.setpoint - measurement\n",
        "        self.integral += error * dt\n",
        "        derivative = (error - self.prev_error) / dt\n",
        "        output = self.kp * error + self.ki * self.integral + self.kd * derivative\n",
        "        self.prev_error = error\n",
        "        return output\n",
        "\n",
        "# Simulation parameters\n",
        "setpoint = 1.0\n",
        "measurement = 0.0\n",
        "pid = PIDController(kp=0.6, ki=0.3, kd=0.2, setpoint=setpoint)\n",
        "\n",
        "# Simulation loop\n",
        "measurements = []\n",
        "dt = 0.01\n",
        "for i in range(1000):\n",
        "    control_signal = pid.compute(measurement, dt)\n",
        "    measurement += control_signal * dt  # Simulated process response\n",
        "    measurements.append(measurement)\n",
        "\n",
        "plt.plot(measurements)\n",
        "plt.xlabel('Time step')\n",
        "plt.ylabel('Measurement')\n",
        "plt.title('PID Controller Response')\n",
        "plt.show()"
      ]
    }
  ]
}