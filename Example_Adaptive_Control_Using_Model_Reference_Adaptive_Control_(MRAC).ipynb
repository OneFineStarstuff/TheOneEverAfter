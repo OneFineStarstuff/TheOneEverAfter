{
  "nbformat": 4,
  "nbformat_minor": 0,
  "metadata": {
    "colab": {
      "private_outputs": true,
      "provenance": [],
      "authorship_tag": "ABX9TyPgrWZAfCengaAV/G1Zz3Sy",
      "include_colab_link": true
    },
    "kernelspec": {
      "name": "python3",
      "display_name": "Python 3"
    },
    "language_info": {
      "name": "python"
    }
  },
  "cells": [
    {
      "cell_type": "markdown",
      "metadata": {
        "id": "view-in-github",
        "colab_type": "text"
      },
      "source": [
        "<a href=\"https://colab.research.google.com/github/OneFineStarstuff/OneFineStardust/blob/main/Example_Adaptive_Control_Using_Model_Reference_Adaptive_Control_(MRAC).ipynb\" target=\"_parent\"><img src=\"https://colab.research.google.com/assets/colab-badge.svg\" alt=\"Open In Colab\"/></a>"
      ]
    },
    {
      "cell_type": "code",
      "execution_count": null,
      "metadata": {
        "id": "bmMkvpD7fVYG"
      },
      "outputs": [],
      "source": [
        "import numpy as np\n",
        "import matplotlib.pyplot as plt\n",
        "\n",
        "# System parameters\n",
        "A = np.array([[0, 1], [-2, -3]])\n",
        "B = np.array([[0], [1]])\n",
        "desired_output = 1.0  # Desired output\n",
        "\n",
        "# Adaptive controller parameters\n",
        "gamma = 0.5  # Adaptation gain\n",
        "\n",
        "# Simulation parameters\n",
        "dt = 0.01\n",
        "time_steps = 1000\n",
        "x = np.zeros((2, time_steps))  # State vector\n",
        "\n",
        "for t in range(1, time_steps):\n",
        "    u = gamma * (desired_output - x[0, t-1])  # Control input based on error\n",
        "    x[:, t] = x[:, t-1] + (A @ x[:, t-1] + B.flatten() * u) * dt  # Update state\n",
        "\n",
        "# Plotting results\n",
        "plt.plot(x[0], label='Output')\n",
        "plt.axhline(desired_output, color='r', linestyle='--', label='Desired Output')\n",
        "plt.title('Adaptive Control System Response')\n",
        "plt.xlabel('Time Steps')\n",
        "plt.ylabel('Output')\n",
        "plt.legend()\n",
        "plt.grid()\n",
        "plt.show()"
      ]
    }
  ]
}