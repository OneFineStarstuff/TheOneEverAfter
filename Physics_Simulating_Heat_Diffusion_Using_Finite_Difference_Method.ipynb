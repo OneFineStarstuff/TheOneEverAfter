{
  "nbformat": 4,
  "nbformat_minor": 0,
  "metadata": {
    "colab": {
      "private_outputs": true,
      "provenance": [],
      "authorship_tag": "ABX9TyMqOdJkO5bQCQlw1Z6K2reD",
      "include_colab_link": true
    },
    "kernelspec": {
      "name": "python3",
      "display_name": "Python 3"
    },
    "language_info": {
      "name": "python"
    }
  },
  "cells": [
    {
      "cell_type": "markdown",
      "metadata": {
        "id": "view-in-github",
        "colab_type": "text"
      },
      "source": [
        "<a href=\"https://colab.research.google.com/github/OneFineStarstuff/OneFineStarstuff/blob/main/Physics_Simulating_Heat_Diffusion_Using_Finite_Difference_Method.ipynb\" target=\"_parent\"><img src=\"https://colab.research.google.com/assets/colab-badge.svg\" alt=\"Open In Colab\"/></a>"
      ]
    },
    {
      "cell_type": "code",
      "execution_count": null,
      "metadata": {
        "id": "cG3Lf2amobQl"
      },
      "outputs": [],
      "source": [
        "import numpy as np\n",
        "import matplotlib.pyplot as plt\n",
        "\n",
        "# Parameters\n",
        "nx, ny = 50, 50  # Grid size\n",
        "dx = dy = 0.1    # Grid spacing\n",
        "alpha = 0.01     # Thermal diffusivity\n",
        "dt = 0.01        # Time step\n",
        "nt = 100         # Number of time steps\n",
        "\n",
        "# Initial temperature distribution\n",
        "T = np.zeros((nx, ny))\n",
        "T[20:30, 20:30] = 100  # Initial heat source in the center\n",
        "\n",
        "# Function to update temperature grid\n",
        "def update_temperature(T, alpha, dx, dy, dt):\n",
        "    T_new = T.copy()\n",
        "    T_new[1:-1, 1:-1] = (T[1:-1, 1:-1] +\n",
        "                         alpha * dt * ((T[2:, 1:-1] - 2*T[1:-1, 1:-1] + T[:-2, 1:-1]) / dx**2 +\n",
        "                                       (T[1:-1, 2:] - 2*T[1:-1, 1:-1] + T[1:-1, :-2]) / dy**2))\n",
        "    return T_new\n",
        "\n",
        "# Simulation loop\n",
        "for t in range(nt):\n",
        "    T = update_temperature(T, alpha, dx, dy, dt)\n",
        "\n",
        "# Plotting the temperature distribution\n",
        "plt.imshow(T, cmap='hot', origin='lower')\n",
        "plt.colorbar(label=\"Temperature\")\n",
        "plt.title(\"Heat Diffusion Simulation\")\n",
        "plt.xlabel(\"X position\")\n",
        "plt.ylabel(\"Y position\")\n",
        "plt.show()"
      ]
    }
  ]
}