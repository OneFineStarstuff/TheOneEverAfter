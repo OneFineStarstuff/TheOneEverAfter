{
  "nbformat": 4,
  "nbformat_minor": 0,
  "metadata": {
    "colab": {
      "private_outputs": true,
      "provenance": [],
      "authorship_tag": "ABX9TyMkO37IrKyV1BTZMNWiyN7P",
      "include_colab_link": true
    },
    "kernelspec": {
      "name": "python3",
      "display_name": "Python 3"
    },
    "language_info": {
      "name": "python"
    }
  },
  "cells": [
    {
      "cell_type": "markdown",
      "metadata": {
        "id": "view-in-github",
        "colab_type": "text"
      },
      "source": [
        "<a href=\"https://colab.research.google.com/github/OneFineStarstuff/OneFineStardust/blob/main/Solving_the_Schr%C3%B6dinger_Equation.ipynb\" target=\"_parent\"><img src=\"https://colab.research.google.com/assets/colab-badge.svg\" alt=\"Open In Colab\"/></a>"
      ]
    },
    {
      "cell_type": "code",
      "execution_count": null,
      "metadata": {
        "id": "Jj_zCLUJtVQ3"
      },
      "outputs": [],
      "source": [
        "import numpy as np\n",
        "import matplotlib.pyplot as plt\n",
        "\n",
        "# Parameters\n",
        "L = 1.0  # length of the box (m)\n",
        "N = 100  # number of points\n",
        "dx = L / N  # spatial step size\n",
        "x = np.linspace(0, L, N)\n",
        "\n",
        "# Potential energy (infinite potential well)\n",
        "V = np.zeros(N)\n",
        "V[0] = V[-1] = np.inf  # infinite walls\n",
        "\n",
        "# Hamiltonian matrix setup\n",
        "H = np.zeros((N, N))\n",
        "\n",
        "for i in range(1, N-1):\n",
        "    H[i, i] = -2 / dx**2 + V[i]\n",
        "    H[i, i-1] = H[i, i+1] = 1 / dx**2\n",
        "\n",
        "# Solve eigenvalue problem\n",
        "eigenvalues, eigenvectors = np.linalg.eigh(H)\n",
        "\n",
        "# Plotting the first three wavefunctions\n",
        "plt.figure(figsize=(10, 5))\n",
        "for n in range(3):\n",
        "    plt.plot(x, eigenvectors[:, n], label=f'n={n+1}, E={eigenvalues[n]:.2f}')\n",
        "\n",
        "plt.title('Wavefunctions of a Particle in a Box')\n",
        "plt.xlabel('Position (m)')\n",
        "plt.ylabel('Wavefunction')\n",
        "plt.legend()\n",
        "plt.grid()\n",
        "plt.show()"
      ]
    }
  ]
}