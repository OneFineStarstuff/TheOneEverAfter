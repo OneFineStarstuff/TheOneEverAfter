{
  "nbformat": 4,
  "nbformat_minor": 0,
  "metadata": {
    "colab": {
      "private_outputs": true,
      "provenance": [],
      "authorship_tag": "ABX9TyNxUjbl+kN6fnrKojF7udH1",
      "include_colab_link": true
    },
    "kernelspec": {
      "name": "python3",
      "display_name": "Python 3"
    },
    "language_info": {
      "name": "python"
    }
  },
  "cells": [
    {
      "cell_type": "markdown",
      "metadata": {
        "id": "view-in-github",
        "colab_type": "text"
      },
      "source": [
        "<a href=\"https://colab.research.google.com/github/OneFineStarstuff/OneFineStarstuff/blob/main/Hyperparameter_Tuning_Example_with_Optuna.ipynb\" target=\"_parent\"><img src=\"https://colab.research.google.com/assets/colab-badge.svg\" alt=\"Open In Colab\"/></a>"
      ]
    },
    {
      "cell_type": "code",
      "execution_count": null,
      "metadata": {
        "id": "I5-96QYeHPSE"
      },
      "outputs": [],
      "source": [
        "pip install optuna"
      ]
    },
    {
      "cell_type": "code",
      "source": [
        "import torch\n",
        "import torch.nn as nn\n",
        "import torch.optim as optim\n",
        "import optuna\n",
        "from torch.utils.data import DataLoader, TensorDataset\n",
        "\n",
        "# Define a simple model\n",
        "class Model(nn.Module):\n",
        "    def __init__(self, lr, batch_size):\n",
        "        super(Model, self).__init__()\n",
        "        self.fc = nn.Linear(28 * 28, 10)\n",
        "        self.optimizer = optim.Adam(self.parameters(), lr=lr)\n",
        "        self.batch_size = batch_size\n",
        "\n",
        "    def forward(self, x):\n",
        "        return self.fc(x)\n",
        "\n",
        "# Function to train and evaluate the model\n",
        "def train_and_evaluate(model):\n",
        "    # Dummy dataset\n",
        "    train_data = torch.randn(1000, 28 * 28)\n",
        "    train_labels = torch.randint(0, 10, (1000,))\n",
        "    train_dataset = TensorDataset(train_data, train_labels)\n",
        "    train_loader = DataLoader(train_dataset, batch_size=model.batch_size, shuffle=True)\n",
        "\n",
        "    criterion = nn.CrossEntropyLoss()\n",
        "    for epoch in range(10):  # Simulate 10 epochs of training\n",
        "        for batch_data, batch_labels in train_loader:\n",
        "            outputs = model(batch_data)\n",
        "            loss = criterion(outputs, batch_labels)\n",
        "            model.optimizer.zero_grad()\n",
        "            loss.backward()\n",
        "            model.optimizer.step()\n",
        "\n",
        "    # Simulated accuracy computation\n",
        "    accuracy = torch.rand(1).item()  # Random accuracy for demonstration\n",
        "    return accuracy\n",
        "\n",
        "# Optuna optimization\n",
        "def objective(trial):\n",
        "    lr = trial.suggest_float('lr', 1e-5, 1e-1, log=True)\n",
        "    batch_size = trial.suggest_categorical('batch_size', [16, 32, 64])\n",
        "    model = Model(lr=lr, batch_size=batch_size)\n",
        "    accuracy = train_and_evaluate(model)\n",
        "    return accuracy\n",
        "\n",
        "study = optuna.create_study(direction=\"maximize\")\n",
        "study.optimize(objective, n_trials=100)\n",
        "\n",
        "print(\"Best hyperparameters:\", study.best_params)"
      ],
      "metadata": {
        "id": "J1cxYPk7Hh7g"
      },
      "execution_count": null,
      "outputs": []
    }
  ]
}