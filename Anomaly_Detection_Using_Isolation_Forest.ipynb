{
  "nbformat": 4,
  "nbformat_minor": 0,
  "metadata": {
    "colab": {
      "private_outputs": true,
      "provenance": [],
      "authorship_tag": "ABX9TyNLU0FIFq/smQ6fslL0uauf",
      "include_colab_link": true
    },
    "kernelspec": {
      "name": "python3",
      "display_name": "Python 3"
    },
    "language_info": {
      "name": "python"
    }
  },
  "cells": [
    {
      "cell_type": "markdown",
      "metadata": {
        "id": "view-in-github",
        "colab_type": "text"
      },
      "source": [
        "<a href=\"https://colab.research.google.com/github/OneFineStarstuff/OneFineStarstuff/blob/main/Anomaly_Detection_Using_Isolation_Forest.ipynb\" target=\"_parent\"><img src=\"https://colab.research.google.com/assets/colab-badge.svg\" alt=\"Open In Colab\"/></a>"
      ]
    },
    {
      "cell_type": "code",
      "execution_count": null,
      "metadata": {
        "id": "vXClAfLz0O8d"
      },
      "outputs": [],
      "source": [
        "from sklearn.ensemble import IsolationForest\n",
        "from sklearn.datasets import load_digits\n",
        "\n",
        "X, _ = load_digits(return_X_y=True)\n",
        "iso_forest = IsolationForest(contamination=0.1)  # Adjust contamination based on dataset\n",
        "y_pred = iso_forest.fit_predict(X)\n",
        "\n",
        "print(\"Anomalies:\", (y_pred == -1).sum())"
      ]
    }
  ]
}