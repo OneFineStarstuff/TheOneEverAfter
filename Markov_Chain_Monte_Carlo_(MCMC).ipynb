{
  "nbformat": 4,
  "nbformat_minor": 0,
  "metadata": {
    "colab": {
      "private_outputs": true,
      "provenance": [],
      "authorship_tag": "ABX9TyPWivWL0bEAA93+Bo0Nr0zm",
      "include_colab_link": true
    },
    "kernelspec": {
      "name": "python3",
      "display_name": "Python 3"
    },
    "language_info": {
      "name": "python"
    }
  },
  "cells": [
    {
      "cell_type": "markdown",
      "metadata": {
        "id": "view-in-github",
        "colab_type": "text"
      },
      "source": [
        "<a href=\"https://colab.research.google.com/github/OneFineStarstuff/OneFineStardust/blob/main/Markov_Chain_Monte_Carlo_(MCMC).ipynb\" target=\"_parent\"><img src=\"https://colab.research.google.com/assets/colab-badge.svg\" alt=\"Open In Colab\"/></a>"
      ]
    },
    {
      "cell_type": "code",
      "execution_count": null,
      "metadata": {
        "id": "_HZPoVEZm7SB"
      },
      "outputs": [],
      "source": [
        "import numpy as np\n",
        "import matplotlib.pyplot as plt\n",
        "\n",
        "# Define the target distribution (e.g., a Gaussian)\n",
        "def target_distribution(x):\n",
        "    return np.exp(-0.5 * x**2)  # Standard normal distribution\n",
        "\n",
        "# Metropolis-Hastings algorithm\n",
        "def metropolis_hastings(initial, iterations):\n",
        "    samples = [initial]\n",
        "    current = initial\n",
        "\n",
        "    for _ in range(iterations):\n",
        "        proposal = current + np.random.normal(0, 1)  # Propose a new sample\n",
        "        acceptance_ratio = target_distribution(proposal) / target_distribution(current)\n",
        "\n",
        "        if np.random.rand() < acceptance_ratio:\n",
        "            current = proposal  # Accept the new sample\n",
        "        samples.append(current)\n",
        "\n",
        "    return np.array(samples)\n",
        "\n",
        "# Run MCMC\n",
        "initial_value = 0\n",
        "iterations = 10000\n",
        "samples = metropolis_hastings(initial_value, iterations)\n",
        "\n",
        "# Plot the results\n",
        "plt.hist(samples, bins=30, density=True, alpha=0.5, label='MCMC Samples')\n",
        "x = np.linspace(-4, 4, 100)\n",
        "plt.plot(x, target_distribution(x), label='Target Distribution', color='red')\n",
        "plt.title('Markov Chain Monte Carlo Sampling')\n",
        "plt.xlabel('x')\n",
        "plt.ylabel('Density')\n",
        "plt.legend()\n",
        "plt.show()"
      ]
    }
  ]
}