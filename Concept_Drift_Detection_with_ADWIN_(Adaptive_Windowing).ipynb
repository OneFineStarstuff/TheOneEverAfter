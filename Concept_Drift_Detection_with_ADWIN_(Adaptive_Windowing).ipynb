{
  "nbformat": 4,
  "nbformat_minor": 0,
  "metadata": {
    "colab": {
      "private_outputs": true,
      "provenance": [],
      "authorship_tag": "ABX9TyPmSHoTb2dNW0zMkGbpj8j7",
      "include_colab_link": true
    },
    "kernelspec": {
      "name": "python3",
      "display_name": "Python 3"
    },
    "language_info": {
      "name": "python"
    }
  },
  "cells": [
    {
      "cell_type": "markdown",
      "metadata": {
        "id": "view-in-github",
        "colab_type": "text"
      },
      "source": [
        "<a href=\"https://colab.research.google.com/github/OneFineStarstuff/OneFineStarstuff/blob/main/Concept_Drift_Detection_with_ADWIN_(Adaptive_Windowing).ipynb\" target=\"_parent\"><img src=\"https://colab.research.google.com/assets/colab-badge.svg\" alt=\"Open In Colab\"/></a>"
      ]
    },
    {
      "cell_type": "code",
      "execution_count": null,
      "metadata": {
        "id": "fL0GNqAWm2oc"
      },
      "outputs": [],
      "source": [
        "pip install river"
      ]
    },
    {
      "cell_type": "code",
      "source": [
        "from river import drift\n",
        "import numpy as np\n",
        "\n",
        "# Initialize ADWIN for drift detection\n",
        "adwin = drift.ADWIN()\n",
        "\n",
        "# Simulate a data stream with concept drift\n",
        "data_stream = np.concatenate([np.random.normal(0, 1, 1000), np.random.normal(1, 1, 1000)])\n",
        "\n",
        "# Process the data stream\n",
        "for data_point in data_stream:\n",
        "    adwin.update(data_point)\n",
        "    if adwin.drift_detected:\n",
        "        print(\"Drift detected, consider retraining the model\")"
      ],
      "metadata": {
        "id": "eYBzahN4nQIC"
      },
      "execution_count": null,
      "outputs": []
    }
  ]
}