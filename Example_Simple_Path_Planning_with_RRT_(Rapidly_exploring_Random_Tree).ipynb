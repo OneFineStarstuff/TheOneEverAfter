{
  "nbformat": 4,
  "nbformat_minor": 0,
  "metadata": {
    "colab": {
      "private_outputs": true,
      "provenance": [],
      "authorship_tag": "ABX9TyMdRuOiivVdPjwBcbpb28X/",
      "include_colab_link": true
    },
    "kernelspec": {
      "name": "python3",
      "display_name": "Python 3"
    },
    "language_info": {
      "name": "python"
    }
  },
  "cells": [
    {
      "cell_type": "markdown",
      "metadata": {
        "id": "view-in-github",
        "colab_type": "text"
      },
      "source": [
        "<a href=\"https://colab.research.google.com/github/OneFineStarstuff/OneFineStardust/blob/main/Example_Simple_Path_Planning_with_RRT_(Rapidly_exploring_Random_Tree).ipynb\" target=\"_parent\"><img src=\"https://colab.research.google.com/assets/colab-badge.svg\" alt=\"Open In Colab\"/></a>"
      ]
    },
    {
      "cell_type": "code",
      "execution_count": null,
      "metadata": {
        "id": "DBNV_YZ60U0n"
      },
      "outputs": [],
      "source": [
        "import numpy as np\n",
        "import matplotlib.pyplot as plt\n",
        "\n",
        "class RRT:\n",
        "    def __init__(self, start, goal, step_size=1.0):\n",
        "        self.start = start\n",
        "        self.goal = goal\n",
        "        self.step_size = step_size\n",
        "        self.tree = [start]\n",
        "\n",
        "    def get_random_point(self):\n",
        "        return np.random.rand(2) * 10  # Random point in a 10x10 area\n",
        "\n",
        "    def get_nearest_point(self, point):\n",
        "        return min(self.tree, key=lambda p: np.linalg.norm(np.array(p) - np.array(point)))\n",
        "\n",
        "    def step_towards(self, from_point, to_point):\n",
        "        direction = np.array(to_point) - np.array(from_point)\n",
        "        distance = np.linalg.norm(direction)\n",
        "        if distance < self.step_size:\n",
        "            return to_point\n",
        "        return from_point + (direction / distance) * self.step_size\n",
        "\n",
        "    def plan(self):\n",
        "        for _ in range(100):  # Number of iterations\n",
        "            random_point = self.get_random_point()\n",
        "            nearest_point = self.get_nearest_point(random_point)\n",
        "            new_point = self.step_towards(nearest_point, random_point)\n",
        "            self.tree.append(new_point)\n",
        "\n",
        "# Initialize RRT and plan a path\n",
        "rrt = RRT(start=(0, 0), goal=(9, 9))\n",
        "rrt.plan()\n",
        "\n",
        "# Plotting the RRT tree\n",
        "plt.scatter(*zip(*rrt.tree), color='blue')\n",
        "plt.scatter(*rrt.goal, color='red', marker='*', s=200)  # Goal point\n",
        "plt.title('RRT Path Planning')\n",
        "plt.xlim(0, 10)\n",
        "plt.ylim(0, 10)\n",
        "plt.grid(True)\n",
        "plt.show()"
      ]
    }
  ]
}