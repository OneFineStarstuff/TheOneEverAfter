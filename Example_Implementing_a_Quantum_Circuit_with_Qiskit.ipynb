{
  "nbformat": 4,
  "nbformat_minor": 0,
  "metadata": {
    "colab": {
      "private_outputs": true,
      "provenance": [],
      "authorship_tag": "ABX9TyM7TN8c/K7lnTQP+xA3fXuj",
      "include_colab_link": true
    },
    "kernelspec": {
      "name": "python3",
      "display_name": "Python 3"
    },
    "language_info": {
      "name": "python"
    }
  },
  "cells": [
    {
      "cell_type": "markdown",
      "metadata": {
        "id": "view-in-github",
        "colab_type": "text"
      },
      "source": [
        "<a href=\"https://colab.research.google.com/github/OneFineStarstuff/OneFineStarstuff/blob/main/Example_Implementing_a_Quantum_Circuit_with_Qiskit.ipynb\" target=\"_parent\"><img src=\"https://colab.research.google.com/assets/colab-badge.svg\" alt=\"Open In Colab\"/></a>"
      ]
    },
    {
      "cell_type": "code",
      "source": [
        "pip uninstall qiskit qiskit-aer -y"
      ],
      "metadata": {
        "id": "3qZ4IEEoQzYF"
      },
      "execution_count": null,
      "outputs": []
    },
    {
      "cell_type": "code",
      "source": [
        "!python -m venv myenv\n",
        "!source myenv/bin/activate  # For macOS/Linux\n",
        "!myenv\\Scripts\\activate     # For Windows"
      ],
      "metadata": {
        "id": "8Ei1FUl1RgL2"
      },
      "execution_count": null,
      "outputs": []
    },
    {
      "cell_type": "code",
      "source": [
        "!pip install qiskit\n",
        "!pip install qiskit-aer"
      ],
      "metadata": {
        "id": "tLty1N25OiPZ"
      },
      "execution_count": null,
      "outputs": []
    },
    {
      "cell_type": "code",
      "source": [
        "from qiskit import Aer\n",
        "print(Aer.get_version())"
      ],
      "metadata": {
        "id": "U0gkux-uRCMI"
      },
      "execution_count": null,
      "outputs": []
    },
    {
      "cell_type": "code",
      "execution_count": null,
      "metadata": {
        "id": "vO9V5VOrOVR_"
      },
      "outputs": [],
      "source": [
        "from qiskit import QuantumCircuit, Aer, execute\n",
        "from qiskit.visualization import plot_histogram\n",
        "\n",
        "# Create a Quantum Circuit with 2 qubits\n",
        "qc = QuantumCircuit(2)\n",
        "\n",
        "# Apply a Hadamard gate to the first qubit\n",
        "qc.h(0)\n",
        "\n",
        "# Apply a CNOT gate (control qubit 0, target qubit 1)\n",
        "qc.cx(0, 1)\n",
        "\n",
        "# Measure the qubits\n",
        "qc.measure_all()\n",
        "\n",
        "# Execute the circuit on a simulator\n",
        "simulator = Aer.get_backend('qasm_simulator')\n",
        "result = execute(qc, simulator, shots=1024).result()\n",
        "\n",
        "# Get the results and plot the outcome\n",
        "counts = result.get_counts(qc)\n",
        "plot_histogram(counts)"
      ]
    }
  ]
}