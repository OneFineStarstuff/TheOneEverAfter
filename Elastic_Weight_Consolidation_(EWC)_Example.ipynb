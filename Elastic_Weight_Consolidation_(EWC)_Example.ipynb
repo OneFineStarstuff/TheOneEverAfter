{
  "nbformat": 4,
  "nbformat_minor": 0,
  "metadata": {
    "colab": {
      "private_outputs": true,
      "provenance": [],
      "authorship_tag": "ABX9TyOxblpskEcyZAGyk8eMNBJQ",
      "include_colab_link": true
    },
    "kernelspec": {
      "name": "python3",
      "display_name": "Python 3"
    },
    "language_info": {
      "name": "python"
    }
  },
  "cells": [
    {
      "cell_type": "markdown",
      "metadata": {
        "id": "view-in-github",
        "colab_type": "text"
      },
      "source": [
        "<a href=\"https://colab.research.google.com/github/OneFineStarstuff/OneFineStarstuff/blob/main/Elastic_Weight_Consolidation_(EWC)_Example.ipynb\" target=\"_parent\"><img src=\"https://colab.research.google.com/assets/colab-badge.svg\" alt=\"Open In Colab\"/></a>"
      ]
    },
    {
      "cell_type": "code",
      "source": [
        "import torch\n",
        "import torch.nn as nn\n",
        "import torch.optim as optim\n",
        "\n",
        "class EWC:\n",
        "    def __init__(self, model, importance=1000):\n",
        "        self.model = model\n",
        "        self.importance = importance\n",
        "        self.old_params = {name: param.clone() for name, param in model.named_parameters()}\n",
        "        self.importance_matrix = None\n",
        "\n",
        "    def calculate_importance(self, dataset):\n",
        "        self.model.eval()\n",
        "        importance_matrix = {name: torch.zeros_like(param) for name, param in self.model.named_parameters()}\n",
        "        dataloader = torch.utils.data.DataLoader(dataset, batch_size=1, shuffle=True)\n",
        "        for data in dataloader:\n",
        "            self.model.zero_grad()\n",
        "            outputs = self.model(data[0])\n",
        "            loss = outputs.mean()\n",
        "            loss.backward()\n",
        "            for name, param in self.model.named_parameters():\n",
        "                importance_matrix[name] += param.grad.abs()\n",
        "\n",
        "        # Normalize importance values\n",
        "        self.importance_matrix = {name: imp / len(dataset) for name, imp in importance_matrix.items()}\n",
        "\n",
        "    def ewc_loss(self, new_task_loss):\n",
        "        # Penalize deviation from old task parameters\n",
        "        penalty = 0\n",
        "        for name, param in self.model.named_parameters():\n",
        "            old_param = self.old_params[name]\n",
        "            importance = self.importance_matrix[name]\n",
        "            penalty += (importance * (param - old_param) ** 2).sum()\n",
        "        return new_task_loss + self.importance * penalty\n",
        "\n",
        "# Example usage\n",
        "model = nn.Linear(10, 2)  # Example model\n",
        "ewc = EWC(model, importance=1000)\n",
        "\n",
        "# Simulate a dataset\n",
        "dataset = torch.utils.data.TensorDataset(torch.randn(100, 10), torch.randint(0, 2, (100,)))\n",
        "\n",
        "# Calculate importance matrix\n",
        "ewc.calculate_importance(dataset)\n",
        "\n",
        "# Define a new task loss\n",
        "criterion = nn.CrossEntropyLoss()\n",
        "new_task_outputs = model(torch.randn(10, 10))  # Example new task outputs\n",
        "new_task_labels = torch.randint(0, 2, (10,))\n",
        "new_task_loss = criterion(new_task_outputs, new_task_labels)\n",
        "\n",
        "# Calculate EWC loss\n",
        "total_loss = ewc.ewc_loss(new_task_loss)\n",
        "print(total_loss.item())"
      ],
      "metadata": {
        "id": "cL_rhxelEajO"
      },
      "execution_count": null,
      "outputs": []
    }
  ]
}