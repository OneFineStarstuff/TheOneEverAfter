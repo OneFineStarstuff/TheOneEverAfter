{
  "nbformat": 4,
  "nbformat_minor": 0,
  "metadata": {
    "colab": {
      "private_outputs": true,
      "provenance": [],
      "authorship_tag": "ABX9TyNNfQMiOMabFT70rPiOtAk0",
      "include_colab_link": true
    },
    "kernelspec": {
      "name": "python3",
      "display_name": "Python 3"
    },
    "language_info": {
      "name": "python"
    }
  },
  "cells": [
    {
      "cell_type": "markdown",
      "metadata": {
        "id": "view-in-github",
        "colab_type": "text"
      },
      "source": [
        "<a href=\"https://colab.research.google.com/github/OneFineStarstuff/OneFineStardust/blob/main/Environmental_Monitoring_via_IoT_Sensors.ipynb\" target=\"_parent\"><img src=\"https://colab.research.google.com/assets/colab-badge.svg\" alt=\"Open In Colab\"/></a>"
      ]
    },
    {
      "cell_type": "code",
      "source": [
        "!pip install Adafruit_DHT"
      ],
      "metadata": {
        "id": "y-X_NzRSxa_l"
      },
      "execution_count": null,
      "outputs": []
    },
    {
      "cell_type": "code",
      "execution_count": null,
      "metadata": {
        "id": "QrDC-3X2w0Xm"
      },
      "outputs": [],
      "source": [
        "import Adafruit_DHT as dht_sensor_module\n",
        "\n",
        "# Define the sensor type and the GPIO pin number\n",
        "dht_device_type_number = dht_sensor_module.DHT11  # Or any supported type like DHT22/DH42/etc.\n",
        "pin_for_connection_to_board_or_pi_gpio_pin_number = 17\n",
        "\n",
        "# Read the humidity and temperature values from the sensor\n",
        "humidity_percentage_value_read_from_sensors, temperature_in_degrees_celsius_value_read_from_sensors = \\\n",
        "    dht_sensor_module.read(dht_device_type_number, pin_for_connection_to_board_or_pi_gpio_pin_number)\n",
        "\n",
        "# Print the readings\n",
        "print(f\"Humidity reading: {humidity_percentage_value_read_from_sensors} %\")\n",
        "print(f\"Temperature Reading: {temperature_in_degrees_celsius_value_read_from_sensors} °C\")\n",
        "\n",
        "# Note:\n",
        "# * Ensure proper wiring connections according to the manufacturer's instructions before proceeding further steps.\n",
        "# * Also note down the appropriate pin numbers corresponding to the respective boards/pis being utilized."
      ]
    }
  ]
}