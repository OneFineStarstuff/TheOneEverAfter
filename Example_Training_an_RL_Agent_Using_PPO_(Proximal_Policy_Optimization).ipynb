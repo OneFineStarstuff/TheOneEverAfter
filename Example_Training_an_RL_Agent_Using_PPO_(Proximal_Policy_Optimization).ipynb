{
  "nbformat": 4,
  "nbformat_minor": 0,
  "metadata": {
    "colab": {
      "private_outputs": true,
      "provenance": [],
      "authorship_tag": "ABX9TyOl03oa9H0p3uDXlZ7xpyP8",
      "include_colab_link": true
    },
    "kernelspec": {
      "name": "python3",
      "display_name": "Python 3"
    },
    "language_info": {
      "name": "python"
    }
  },
  "cells": [
    {
      "cell_type": "markdown",
      "metadata": {
        "id": "view-in-github",
        "colab_type": "text"
      },
      "source": [
        "<a href=\"https://colab.research.google.com/github/OneFineStarstuff/OneFineStarstuff/blob/main/Example_Training_an_RL_Agent_Using_PPO_(Proximal_Policy_Optimization).ipynb\" target=\"_parent\"><img src=\"https://colab.research.google.com/assets/colab-badge.svg\" alt=\"Open In Colab\"/></a>"
      ]
    },
    {
      "cell_type": "code",
      "source": [
        "!pip install stable-baselines3\n",
        "!pip install gymnasium\n",
        "!pip install shimmy"
      ],
      "metadata": {
        "id": "pA-QZ-lkzdj5"
      },
      "execution_count": null,
      "outputs": []
    },
    {
      "cell_type": "code",
      "source": [
        "!pip show stable-baselines3\n",
        "!pip show gymnasium\n",
        "!pip show shimmy"
      ],
      "metadata": {
        "id": "BITPHaX81fTr"
      },
      "execution_count": null,
      "outputs": []
    },
    {
      "cell_type": "code",
      "execution_count": null,
      "metadata": {
        "id": "4AckQOOgzVFN"
      },
      "outputs": [],
      "source": [
        "import gymnasium as gym\n",
        "from stable_baselines3 import PPO\n",
        "\n",
        "# Create the environment with render mode\n",
        "env = gym.make('CartPole-v1', render_mode='human')\n",
        "\n",
        "# Instantiate the PPO agent\n",
        "model = PPO(\"MlpPolicy\", env, verbose=1)\n",
        "\n",
        "# Train the agent for 10000 timesteps\n",
        "model.learn(total_timesteps=10000)\n",
        "\n",
        "# Test the trained agent\n",
        "obs, info = env.reset()  # Get the observation and info from the reset\n",
        "\n",
        "for _ in range(1000):\n",
        "    action, _states = model.predict(obs)\n",
        "    obs, rewards, dones, trunc, info = env.step(action)  # Unpack five values\n",
        "    if dones or trunc:\n",
        "        obs, info = env.reset()  # Reset the environment when done\n",
        "    env.render()\n",
        "\n",
        "env.close()"
      ]
    }
  ]
}