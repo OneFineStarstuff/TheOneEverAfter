{
  "nbformat": 4,
  "nbformat_minor": 0,
  "metadata": {
    "colab": {
      "private_outputs": true,
      "provenance": [],
      "authorship_tag": "ABX9TyNd6mVbrl7IbQhzbs0TgaF8",
      "include_colab_link": true
    },
    "kernelspec": {
      "name": "python3",
      "display_name": "Python 3"
    },
    "language_info": {
      "name": "python"
    }
  },
  "cells": [
    {
      "cell_type": "markdown",
      "metadata": {
        "id": "view-in-github",
        "colab_type": "text"
      },
      "source": [
        "<a href=\"https://colab.research.google.com/github/OneFineStarstuff/OneFineStardust/blob/main/Securely_add_and_use_your_Google_OAuth_credentials_in_your_Colab_notebook.ipynb\" target=\"_parent\"><img src=\"https://colab.research.google.com/assets/colab-badge.svg\" alt=\"Open In Colab\"/></a>"
      ]
    },
    {
      "cell_type": "code",
      "execution_count": null,
      "metadata": {
        "id": "fcc_HHRq1cbs"
      },
      "outputs": [],
      "source": [
        "!pip install python-decouple"
      ]
    },
    {
      "cell_type": "code",
      "source": [
        "from google.colab import files\n",
        "files.upload()  # Upload your .env file containing the client_id and client_secret"
      ],
      "metadata": {
        "id": "QalD-qxg1el9"
      },
      "execution_count": null,
      "outputs": []
    },
    {
      "cell_type": "code",
      "source": [
        "from decouple import config\n",
        "\n",
        "client_id = config('GOOGLE_CLIENT_ID')\n",
        "client_secret = config('GOOGLE_CLIENT_SECRET')"
      ],
      "metadata": {
        "id": "MWYM4PzN1nX6"
      },
      "execution_count": null,
      "outputs": []
    },
    {
      "cell_type": "code",
      "source": [
        "from flask import Flask, redirect, url_for, session\n",
        "from authlib.integrations.flask_client import OAuth\n",
        "import os\n",
        "from decouple import config\n",
        "\n",
        "app = Flask(__name__)\n",
        "app.secret_key = os.urandom(24)  # Replace with your own secret key\n",
        "\n",
        "oauth = OAuth(app)\n",
        "oauth.register(\n",
        "    name='google',\n",
        "    client_id=config('GOOGLE_CLIENT_ID'),  # Load from .env\n",
        "    client_secret=config('GOOGLE_CLIENT_SECRET'),  # Load from .env\n",
        "    authorize_url='https://accounts.google.com/o/oauth2/auth',\n",
        "    authorize_params=None,\n",
        "    access_token_url='https://accounts.google.com/o/oauth2/token',\n",
        "    access_token_params=None,\n",
        "    refresh_token_url=None,\n",
        "    client_kwargs={'scope': 'openid profile email'},\n",
        "    server_metadata_url='https://accounts.google.com/.well-known/openid-configuration'\n",
        ")\n",
        "\n",
        "@app.route('/')\n",
        "def index():\n",
        "    return 'Welcome to the OAuth2 example!'\n",
        "\n",
        "@app.route('/login')\n",
        "def login():\n",
        "    redirect_uri = url_for('authorize', _external=True)\n",
        "    return oauth.google.authorize_redirect(redirect_uri)\n",
        "\n",
        "@app.route('/logout')\n",
        "def logout():\n",
        "    for key in list(session.keys()):\n",
        "        session.pop(key)\n",
        "    return 'You have been logged out.'\n",
        "\n",
        "@app.route('/login/authorize')\n",
        "def authorize():\n",
        "    token = oauth.google.authorize_access_token()\n",
        "    user_info = oauth.google.parse_id_token(token)\n",
        "\n",
        "    return 'Logged in as: ' + user_info['email']\n",
        "\n",
        "if __name__ == '__main__':\n",
        "    app.run(debug=True)"
      ],
      "metadata": {
        "id": "QMQiaqJh1tur"
      },
      "execution_count": null,
      "outputs": []
    }
  ]
}