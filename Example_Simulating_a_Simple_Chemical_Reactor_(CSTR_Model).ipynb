{
  "nbformat": 4,
  "nbformat_minor": 0,
  "metadata": {
    "colab": {
      "private_outputs": true,
      "provenance": [],
      "authorship_tag": "ABX9TyObBHOofJ/HFDfwPND1sS3U",
      "include_colab_link": true
    },
    "kernelspec": {
      "name": "python3",
      "display_name": "Python 3"
    },
    "language_info": {
      "name": "python"
    }
  },
  "cells": [
    {
      "cell_type": "markdown",
      "metadata": {
        "id": "view-in-github",
        "colab_type": "text"
      },
      "source": [
        "<a href=\"https://colab.research.google.com/github/OneFineStarstuff/OneFineStarstuff/blob/main/Example_Simulating_a_Simple_Chemical_Reactor_(CSTR_Model).ipynb\" target=\"_parent\"><img src=\"https://colab.research.google.com/assets/colab-badge.svg\" alt=\"Open In Colab\"/></a>"
      ]
    },
    {
      "cell_type": "code",
      "execution_count": null,
      "metadata": {
        "id": "qMFfSchWKS6t"
      },
      "outputs": [],
      "source": [
        "import numpy as np\n",
        "import matplotlib.pyplot as plt\n",
        "from scipy.integrate import odeint\n",
        "\n",
        "# Define reaction parameters\n",
        "k = 0.1  # Reaction rate constant\n",
        "Ca0 = 1.0  # Initial concentration of reactant A\n",
        "Q = 1.0  # Flow rate\n",
        "\n",
        "# Define the CSTR model (Continuous Stirred Tank Reactor)\n",
        "def cstr(Ca, t):\n",
        "    return Q * (Ca0 - Ca) - k * Ca\n",
        "\n",
        "# Time array for simulation\n",
        "t = np.linspace(0, 10, 100)\n",
        "\n",
        "# Solve the differential equation for concentration over time\n",
        "Ca = odeint(cstr, Ca0, t)\n",
        "\n",
        "# Plot the concentration of A over time\n",
        "plt.plot(t, Ca)\n",
        "plt.title(\"Concentration of Reactant A in CSTR\")\n",
        "plt.xlabel(\"Time\")\n",
        "plt.ylabel(\"Concentration (mol/L)\")\n",
        "plt.grid(True)\n",
        "plt.show()"
      ]
    }
  ]
}