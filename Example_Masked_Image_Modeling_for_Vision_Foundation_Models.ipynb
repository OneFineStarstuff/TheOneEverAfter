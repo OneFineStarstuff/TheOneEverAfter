{
  "nbformat": 4,
  "nbformat_minor": 0,
  "metadata": {
    "colab": {
      "private_outputs": true,
      "provenance": [],
      "authorship_tag": "ABX9TyMczPuih3ObCJsQaehIxf0e",
      "include_colab_link": true
    },
    "kernelspec": {
      "name": "python3",
      "display_name": "Python 3"
    },
    "language_info": {
      "name": "python"
    }
  },
  "cells": [
    {
      "cell_type": "markdown",
      "metadata": {
        "id": "view-in-github",
        "colab_type": "text"
      },
      "source": [
        "<a href=\"https://colab.research.google.com/github/OneFineStarstuff/OneFineStarstuff/blob/main/Example_Masked_Image_Modeling_for_Vision_Foundation_Models.ipynb\" target=\"_parent\"><img src=\"https://colab.research.google.com/assets/colab-badge.svg\" alt=\"Open In Colab\"/></a>"
      ]
    },
    {
      "cell_type": "code",
      "execution_count": null,
      "metadata": {
        "id": "s_2nrOWcqs1F"
      },
      "outputs": [],
      "source": [
        "import torch\n",
        "import torch.nn as nn\n",
        "import torch.optim as optim\n",
        "from torch.utils.data import DataLoader, TensorDataset\n",
        "\n",
        "# Define the masking function\n",
        "def mask_image(images, mask_ratio):\n",
        "    batch_size, channels, height, width = images.shape\n",
        "    num_pixels = height * width\n",
        "    mask = torch.rand(batch_size, channels, height, width) < mask_ratio\n",
        "    mask = mask.to(images.device)\n",
        "    masked_images = images.clone()\n",
        "    masked_images[mask] = 0\n",
        "    return masked_images, mask\n",
        "\n",
        "# Define the reconstruction loss function\n",
        "def reconstruction_loss(outputs, original_images, mask):\n",
        "    loss = nn.MSELoss()\n",
        "    return loss(outputs * mask, original_images * mask)\n",
        "\n",
        "class MaskedImageModeling(nn.Module):\n",
        "    def __init__(self, model, mask_ratio=0.15):\n",
        "        super().__init__()\n",
        "        self.model = model\n",
        "        self.mask_ratio = mask_ratio\n",
        "\n",
        "    def forward(self, images):\n",
        "        # Randomly mask a portion of the image\n",
        "        masked_images, mask = mask_image(images, self.mask_ratio)\n",
        "        outputs = self.model(masked_images)\n",
        "        loss = reconstruction_loss(outputs, images, mask)  # Compare reconstructed and original\n",
        "        return loss\n",
        "\n",
        "# Example model definition (e.g., a simple CNN)\n",
        "class SimpleCNN(nn.Module):\n",
        "    def __init__(self):\n",
        "        super(SimpleCNN, self).__init__()\n",
        "        self.conv1 = nn.Conv2d(3, 16, kernel_size=3, padding=1)\n",
        "        self.conv2 = nn.Conv2d(16, 32, kernel_size=3, padding=1)\n",
        "        self.fc1 = nn.Linear(32 * 8 * 8, 128)\n",
        "        self.fc2 = nn.Linear(128, 3 * 32 * 32)  # Output size to match the image size\n",
        "\n",
        "    def forward(self, x):\n",
        "        x = nn.ReLU()(self.conv1(x))\n",
        "        x = nn.MaxPool2d(2)(x)\n",
        "        x = nn.ReLU()(self.conv2(x))\n",
        "        x = nn.MaxPool2d(2)(x)\n",
        "        x = x.view(x.size(0), -1)\n",
        "        x = nn.ReLU()(self.fc1(x))\n",
        "        x = self.fc2(x)\n",
        "        x = x.view(x.size(0), 3, 32, 32)  # Reshape to image dimensions\n",
        "        return x\n",
        "\n",
        "# Example usage\n",
        "# Create a dummy dataset\n",
        "dummy_images = torch.randn(10, 3, 32, 32)  # 10 images, 3 channels, 32x32 pixels\n",
        "image_dataset = TensorDataset(dummy_images)\n",
        "image_dataloader = DataLoader(image_dataset, batch_size=2, shuffle=True)\n",
        "\n",
        "# Initialize model\n",
        "model = SimpleCNN()\n",
        "masked_image_model = MaskedImageModeling(model)\n",
        "optimizer = optim.Adam(masked_image_model.parameters(), lr=1e-4)\n",
        "\n",
        "for images in image_dataloader:\n",
        "    images = images[0]  # Extract images from the batch\n",
        "    optimizer.zero_grad()\n",
        "    loss = masked_image_model(images)\n",
        "    loss.backward()\n",
        "    optimizer.step()\n",
        "    print(f\"Loss: {loss.item()}\")"
      ]
    }
  ]
}