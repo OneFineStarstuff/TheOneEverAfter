{
  "nbformat": 4,
  "nbformat_minor": 0,
  "metadata": {
    "colab": {
      "private_outputs": true,
      "provenance": [],
      "authorship_tag": "ABX9TyMIMWdtlMBqB6Z2+LZ0Owzz",
      "include_colab_link": true
    },
    "kernelspec": {
      "name": "python3",
      "display_name": "Python 3"
    },
    "language_info": {
      "name": "python"
    }
  },
  "cells": [
    {
      "cell_type": "markdown",
      "metadata": {
        "id": "view-in-github",
        "colab_type": "text"
      },
      "source": [
        "<a href=\"https://colab.research.google.com/github/OneFineStarstuff/OneFineStardust/blob/main/Example_Simple_IoT_Data_Collection_with_MQTT.ipynb\" target=\"_parent\"><img src=\"https://colab.research.google.com/assets/colab-badge.svg\" alt=\"Open In Colab\"/></a>"
      ]
    },
    {
      "cell_type": "code",
      "source": [
        "!pip install paho-mqtt"
      ],
      "metadata": {
        "id": "fVAJNvI3oI2H"
      },
      "execution_count": null,
      "outputs": []
    },
    {
      "cell_type": "code",
      "execution_count": null,
      "metadata": {
        "id": "xWUEli3En9-f"
      },
      "outputs": [],
      "source": [
        "import paho.mqtt.client as mqtt\n",
        "import time\n",
        "\n",
        "# Define callback functions for MQTT events\n",
        "def on_connect(client, userdata, flags, rc):\n",
        "    print(\"Connected with result code \" + str(rc))\n",
        "    client.subscribe(\"sensor/data\")\n",
        "\n",
        "def on_message(client, userdata, msg):\n",
        "    print(f\"Received message: {msg.payload.decode()}\")\n",
        "\n",
        "# Create an MQTT client instance and set callbacks\n",
        "client = mqtt.Client()\n",
        "client.on_connect = on_connect\n",
        "client.on_message = on_message\n",
        "\n",
        "# Connect to the broker and start the loop to process messages\n",
        "client.connect(\"mqtt.eclipse.org\", 1883, 60)\n",
        "client.loop_start()\n",
        "\n",
        "# Simulate publishing sensor data every second\n",
        "while True:\n",
        "    client.publish(\"sensor/data\", \"Temperature: 22°C\")\n",
        "    time.sleep(1)"
      ]
    }
  ]
}