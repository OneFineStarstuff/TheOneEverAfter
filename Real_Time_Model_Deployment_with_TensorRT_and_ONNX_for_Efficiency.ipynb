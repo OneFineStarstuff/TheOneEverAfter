{
  "nbformat": 4,
  "nbformat_minor": 0,
  "metadata": {
    "colab": {
      "private_outputs": true,
      "provenance": [],
      "authorship_tag": "ABX9TyN/93lzimREPbKeQeGcaI6N",
      "include_colab_link": true
    },
    "kernelspec": {
      "name": "python3",
      "display_name": "Python 3"
    },
    "language_info": {
      "name": "python"
    }
  },
  "cells": [
    {
      "cell_type": "markdown",
      "metadata": {
        "id": "view-in-github",
        "colab_type": "text"
      },
      "source": [
        "<a href=\"https://colab.research.google.com/github/OneFineStarstuff/OneFineStarstuff/blob/main/Real_Time_Model_Deployment_with_TensorRT_and_ONNX_for_Efficiency.ipynb\" target=\"_parent\"><img src=\"https://colab.research.google.com/assets/colab-badge.svg\" alt=\"Open In Colab\"/></a>"
      ]
    },
    {
      "cell_type": "code",
      "source": [
        "pip install onnx"
      ],
      "metadata": {
        "id": "HtKh6Ge63oTZ"
      },
      "execution_count": null,
      "outputs": []
    },
    {
      "cell_type": "code",
      "source": [
        "pip install onnxruntime"
      ],
      "metadata": {
        "id": "5BAT8Pi93u2O"
      },
      "execution_count": null,
      "outputs": []
    },
    {
      "cell_type": "code",
      "execution_count": null,
      "metadata": {
        "id": "i4_vbmlg3Yvr"
      },
      "outputs": [],
      "source": [
        "import torch\n",
        "import onnx\n",
        "import onnxruntime as ort\n",
        "from torchvision import models\n",
        "\n",
        "# Convert a PyTorch model to ONNX format\n",
        "model = models.resnet18(weights=models.ResNet18_Weights.IMAGENET1K_V1)\n",
        "dummy_input = torch.randn(1, 3, 224, 224)\n",
        "torch.onnx.export(model, dummy_input, \"resnet18.onnx\")\n",
        "\n",
        "# Load ONNX model and run inference with ONNX Runtime\n",
        "onnx_model = onnx.load(\"resnet18.onnx\")\n",
        "onnx.checker.check_model(onnx_model)\n",
        "ort_session = ort.InferenceSession(\"resnet18.onnx\")\n",
        "\n",
        "def to_numpy(tensor):\n",
        "    return tensor.detach().cpu().numpy() if tensor.requires_grad else tensor.cpu().numpy()\n",
        "\n",
        "# Run inference\n",
        "outputs = ort_session.run(None, {ort_session.get_inputs()[0].name: to_numpy(dummy_input)})\n",
        "print(outputs)"
      ]
    }
  ]
}