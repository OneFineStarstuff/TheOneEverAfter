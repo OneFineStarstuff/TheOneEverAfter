{
  "nbformat": 4,
  "nbformat_minor": 0,
  "metadata": {
    "colab": {
      "private_outputs": true,
      "provenance": [],
      "authorship_tag": "ABX9TyOQJnWrX92u4RyY07eL6osL",
      "include_colab_link": true
    },
    "kernelspec": {
      "name": "python3",
      "display_name": "Python 3"
    },
    "language_info": {
      "name": "python"
    }
  },
  "cells": [
    {
      "cell_type": "markdown",
      "metadata": {
        "id": "view-in-github",
        "colab_type": "text"
      },
      "source": [
        "<a href=\"https://colab.research.google.com/github/OneFineStarstuff/OneFineStarstuff/blob/main/Simple_Example_with_Ray_Tune_for_Hyperparameter_Tuning.ipynb\" target=\"_parent\"><img src=\"https://colab.research.google.com/assets/colab-badge.svg\" alt=\"Open In Colab\"/></a>"
      ]
    },
    {
      "cell_type": "code",
      "source": [
        "pip install ray"
      ],
      "metadata": {
        "id": "1lPQDZRdI6cD"
      },
      "execution_count": null,
      "outputs": []
    },
    {
      "cell_type": "code",
      "source": [
        "pip install -U ray[tune]"
      ],
      "metadata": {
        "id": "YHdARxN9UuzX"
      },
      "execution_count": null,
      "outputs": []
    },
    {
      "cell_type": "code",
      "source": [
        "pip install --upgrade ray[tune]"
      ],
      "metadata": {
        "id": "d-BEV9LVZNZr"
      },
      "execution_count": null,
      "outputs": []
    },
    {
      "cell_type": "code",
      "execution_count": null,
      "metadata": {
        "id": "R7Mc-snoInsu"
      },
      "outputs": [],
      "source": [
        "import torch\n",
        "import torch.nn as nn\n",
        "import torch.optim as optim\n",
        "import torch.utils.data as data\n",
        "from torchvision import datasets, transforms\n",
        "from ray import tune\n",
        "import ray\n",
        "\n",
        "# Initialize Ray\n",
        "ray.shutdown()  # Properly shut down Ray before initializing\n",
        "ray.init(ignore_reinit_error=True)\n",
        "\n",
        "# Define a simple neural network\n",
        "class SimpleNet(nn.Module):\n",
        "    def __init__(self, hidden_size):\n",
        "        super(SimpleNet, self).__init__()\n",
        "        self.fc1 = nn.Linear(28 * 28, hidden_size)\n",
        "        self.relu = nn.ReLU()\n",
        "        self.fc2 = nn.Linear(hidden_size, 10)\n",
        "\n",
        "    def forward(self, x):\n",
        "        x = self.fc1(x)\n",
        "        x = self.relu(x)\n",
        "        x = self.fc2(x)\n",
        "        return x\n",
        "\n",
        "# Define training function\n",
        "def train_mnist(config):\n",
        "    try:\n",
        "        # Load data\n",
        "        transform = transforms.Compose([transforms.ToTensor(), transforms.Normalize((0.5,), (0.5,))])\n",
        "        train_dataset = datasets.MNIST(root='./data', train=True, transform=transform, download=True)\n",
        "        train_loader = data.DataLoader(train_dataset, batch_size=64, shuffle=True)\n",
        "\n",
        "        # Model, loss, optimizer\n",
        "        model = SimpleNet(config[\"hidden_size\"])\n",
        "        criterion = nn.CrossEntropyLoss()\n",
        "        optimizer = optim.Adam(model.parameters(), lr=config[\"lr\"])\n",
        "\n",
        "        # Training loop\n",
        "        for epoch in range(5):  # Run for a few epochs\n",
        "            model.train()\n",
        "            for images, labels in train_loader:\n",
        "                images = images.view(images.size(0), -1)  # Flatten images\n",
        "                optimizer.zero_grad()\n",
        "                outputs = model(images)\n",
        "                loss = criterion(outputs, labels)\n",
        "                loss.backward()\n",
        "                optimizer.step()\n",
        "\n",
        "        # Validation accuracy (using train set here for simplicity)\n",
        "        correct = 0\n",
        "        total = 0\n",
        "        model.eval()\n",
        "        with torch.no_grad():\n",
        "            for images, labels in train_loader:\n",
        "                images = images.view(images.size(0), -1)\n",
        "                outputs = model(images)\n",
        "                _, predicted = torch.max(outputs.data, 1)\n",
        "                total += labels.size(0)\n",
        "                correct += (predicted == labels).sum().item()\n",
        "\n",
        "        accuracy = correct / total\n",
        "        return {\"accuracy\": accuracy}\n",
        "    except Exception as e:\n",
        "        print(f\"Error occurred: {e}\")\n",
        "        return {\"accuracy\": 0.0}\n",
        "\n",
        "# Ray Tune experiment setup\n",
        "analysis = tune.run(\n",
        "    train_mnist,\n",
        "    config={\n",
        "        \"hidden_size\": tune.choice([32, 64, 128]),\n",
        "        \"lr\": tune.choice([0.001, 0.01, 0.1])\n",
        "    },\n",
        "    metric=\"accuracy\",  # Specify the metric\n",
        "    mode=\"max\",         # Specify the mode\n",
        "    num_samples=2,  # Reduced for testing\n",
        "    resources_per_trial={\"cpu\": 1},\n",
        "    verbose=1\n",
        ")\n",
        "\n",
        "print(\"Best config: \", analysis.best_config)\n",
        "\n",
        "# Shutdown Ray\n",
        "ray.shutdown()"
      ]
    }
  ]
}