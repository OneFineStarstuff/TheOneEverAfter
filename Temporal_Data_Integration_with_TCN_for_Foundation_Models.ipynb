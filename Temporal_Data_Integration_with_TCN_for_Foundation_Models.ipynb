{
  "nbformat": 4,
  "nbformat_minor": 0,
  "metadata": {
    "colab": {
      "private_outputs": true,
      "provenance": [],
      "authorship_tag": "ABX9TyMvKYDIqBM0FBoogHAgihXR",
      "include_colab_link": true
    },
    "kernelspec": {
      "name": "python3",
      "display_name": "Python 3"
    },
    "language_info": {
      "name": "python"
    }
  },
  "cells": [
    {
      "cell_type": "markdown",
      "metadata": {
        "id": "view-in-github",
        "colab_type": "text"
      },
      "source": [
        "<a href=\"https://colab.research.google.com/github/OneFineStarstuff/OneFineStarstuff/blob/main/Temporal_Data_Integration_with_TCN_for_Foundation_Models.ipynb\" target=\"_parent\"><img src=\"https://colab.research.google.com/assets/colab-badge.svg\" alt=\"Open In Colab\"/></a>"
      ]
    },
    {
      "cell_type": "code",
      "execution_count": null,
      "metadata": {
        "id": "MxXZJyBNibxs"
      },
      "outputs": [],
      "source": [
        "import torch\n",
        "import torch.nn as nn\n",
        "\n",
        "class TCN(nn.Module):\n",
        "    def __init__(self, input_size, output_size):\n",
        "        super(TCN, self).__init__()\n",
        "        self.network = nn.Sequential(\n",
        "            nn.Conv1d(input_size, output_size, kernel_size=2, stride=1, padding=1),\n",
        "            nn.ReLU(),\n",
        "            nn.Conv1d(output_size, output_size, kernel_size=2, stride=1)\n",
        "        )\n",
        "\n",
        "    def forward(self, x):\n",
        "        return self.network(x)\n",
        "\n",
        "# Example usage with dummy time series data\n",
        "input_size = 10\n",
        "output_size = 1\n",
        "batch_size = 5\n",
        "sequence_length = 50\n",
        "\n",
        "# Instantiate the TCN\n",
        "tcn = TCN(input_size=input_size, output_size=output_size)\n",
        "\n",
        "# Create dummy time series data (batch_size, input_size, sequence_length)\n",
        "time_series_data = torch.randn(batch_size, input_size, sequence_length)\n",
        "\n",
        "# Forward pass through the TCN\n",
        "output = tcn(time_series_data)\n",
        "print(output.shape)  # should match the expected output shape"
      ]
    }
  ]
}