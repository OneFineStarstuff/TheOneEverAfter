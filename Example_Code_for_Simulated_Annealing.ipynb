{
  "nbformat": 4,
  "nbformat_minor": 0,
  "metadata": {
    "colab": {
      "private_outputs": true,
      "provenance": [],
      "authorship_tag": "ABX9TyO7TDI2kW+GjLfxK6Del80e",
      "include_colab_link": true
    },
    "kernelspec": {
      "name": "python3",
      "display_name": "Python 3"
    },
    "language_info": {
      "name": "python"
    }
  },
  "cells": [
    {
      "cell_type": "markdown",
      "metadata": {
        "id": "view-in-github",
        "colab_type": "text"
      },
      "source": [
        "<a href=\"https://colab.research.google.com/github/OneFineStarstuff/OneFineStarstuff/blob/main/Example_Code_for_Simulated_Annealing.ipynb\" target=\"_parent\"><img src=\"https://colab.research.google.com/assets/colab-badge.svg\" alt=\"Open In Colab\"/></a>"
      ]
    },
    {
      "cell_type": "code",
      "execution_count": null,
      "metadata": {
        "id": "6OwfhoYS-QLE"
      },
      "outputs": [],
      "source": [
        "import numpy as np\n",
        "\n",
        "def objective_function(x):\n",
        "    return x[0]**2 + x[1]**2 + 3 * np.sin(2 * x[0]) * np.cos(2 * x[1])\n",
        "\n",
        "def simulated_annealing(objective, bounds, n_iterations, temp):\n",
        "    solution = bounds[:, 0] + (bounds[:, 1] - bounds[:, 0]) * np.random.rand(2)\n",
        "    solution_eval = objective(solution)\n",
        "    best = solution\n",
        "    best_eval = solution_eval\n",
        "\n",
        "    for i in range(n_iterations):\n",
        "        candidate = solution + np.random.normal(0, 1, size=2)\n",
        "        candidate_eval = objective(candidate)\n",
        "\n",
        "        if candidate_eval < solution_eval or np.exp((solution_eval - candidate_eval) / temp) > np.random.rand():\n",
        "            solution, solution_eval = candidate, candidate_eval\n",
        "            if candidate_eval < best_eval:\n",
        "                best, best_eval = candidate, candidate_eval\n",
        "\n",
        "        temp *= 0.9  # Temperature decay\n",
        "    return best, best_eval\n",
        "\n",
        "bounds = np.array([[-5.0, 5.0], [-5.0, 5.0]])\n",
        "best_solution, best_value = simulated_annealing(objective_function, bounds, 1000, temp=10)\n",
        "print(f\"Best Solution: {best_solution}, Best Value: {best_value:.4f}\")"
      ]
    }
  ]
}