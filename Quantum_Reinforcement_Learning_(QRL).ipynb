{
  "nbformat": 4,
  "nbformat_minor": 0,
  "metadata": {
    "colab": {
      "private_outputs": true,
      "provenance": [],
      "authorship_tag": "ABX9TyO1hX9LtnXDydFJLYgg21l1",
      "include_colab_link": true
    },
    "kernelspec": {
      "name": "python3",
      "display_name": "Python 3"
    },
    "language_info": {
      "name": "python"
    }
  },
  "cells": [
    {
      "cell_type": "markdown",
      "metadata": {
        "id": "view-in-github",
        "colab_type": "text"
      },
      "source": [
        "<a href=\"https://colab.research.google.com/github/OneFineStarstuff/TheOneEverAfter/blob/main/Quantum_Reinforcement_Learning_(QRL).ipynb\" target=\"_parent\"><img src=\"https://colab.research.google.com/assets/colab-badge.svg\" alt=\"Open In Colab\"/></a>"
      ]
    },
    {
      "cell_type": "code",
      "source": [
        "pip install pennylane"
      ],
      "metadata": {
        "id": "-JCDBk3DzCkV"
      },
      "execution_count": null,
      "outputs": []
    },
    {
      "cell_type": "code",
      "execution_count": null,
      "metadata": {
        "id": "twehNpdFy0to"
      },
      "outputs": [],
      "source": [
        "import pennylane as qml\n",
        "\n",
        "# Define a quantum device with 2 qubits\n",
        "dev = qml.device(\"default.qubit\", wires=2)\n",
        "\n",
        "# Quantum circuit used as the policy in QRL\n",
        "@qml.qnode(dev)\n",
        "def quantum_policy(state):\n",
        "    qml.RX(state[0], wires=0)\n",
        "    qml.RY(state[1], wires=1)\n",
        "    return qml.expval(qml.PauliZ(0))\n",
        "\n",
        "# Example state input\n",
        "state = [0.5, 1.0]\n",
        "\n",
        "# Execute the quantum circuit with the given state\n",
        "policy_output = quantum_policy(state)\n",
        "\n",
        "print(f'Policy Output: {policy_output}')"
      ]
    }
  ]
}