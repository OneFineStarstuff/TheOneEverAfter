{
  "nbformat": 4,
  "nbformat_minor": 0,
  "metadata": {
    "colab": {
      "private_outputs": true,
      "provenance": [],
      "authorship_tag": "ABX9TyNK2/OfzvWu2edxxEISTTKS",
      "include_colab_link": true
    },
    "kernelspec": {
      "name": "python3",
      "display_name": "Python 3"
    },
    "language_info": {
      "name": "python"
    }
  },
  "cells": [
    {
      "cell_type": "markdown",
      "metadata": {
        "id": "view-in-github",
        "colab_type": "text"
      },
      "source": [
        "<a href=\"https://colab.research.google.com/github/OneFineStarstuff/OneFineStarstuff/blob/main/Integrated_Gradients_and_Layer_wise_Relevance_Propagation_(LRP).ipynb\" target=\"_parent\"><img src=\"https://colab.research.google.com/assets/colab-badge.svg\" alt=\"Open In Colab\"/></a>"
      ]
    },
    {
      "cell_type": "code",
      "execution_count": null,
      "metadata": {
        "id": "0q-nI4Gh2XuC"
      },
      "outputs": [],
      "source": [
        "import torch\n",
        "import torch.nn as nn\n",
        "\n",
        "# Define Integrated Gradients function\n",
        "def integrated_gradients(inputs, baseline, model, steps=50):\n",
        "    # Ensure inputs and baseline require gradients\n",
        "    inputs.requires_grad = True\n",
        "\n",
        "    # Compute the scaled inputs\n",
        "    grads = []\n",
        "    for alpha in torch.linspace(0, 1, steps):\n",
        "        scaled_input = baseline + alpha * (inputs - baseline)\n",
        "        scaled_input = scaled_input.clone().detach().requires_grad_(True)\n",
        "\n",
        "        model.zero_grad()\n",
        "        output = model(scaled_input)\n",
        "\n",
        "        # Assuming a single output; adjust if multiple outputs\n",
        "        output = output[0]\n",
        "\n",
        "        output.backward(retain_graph=True)\n",
        "        grads.append(scaled_input.grad)\n",
        "\n",
        "    # Average the gradients\n",
        "    avg_grads = torch.mean(torch.stack(grads), dim=0)\n",
        "    integrated_grads = (inputs - baseline) * avg_grads\n",
        "\n",
        "    return integrated_grads\n",
        "\n",
        "# Example model\n",
        "class SimpleModel(nn.Module):\n",
        "    def __init__(self):\n",
        "        super(SimpleModel, self).__init__()\n",
        "        self.fc = nn.Linear(10, 1)\n",
        "\n",
        "    def forward(self, x):\n",
        "        return self.fc(x)\n",
        "\n",
        "# Initialize model\n",
        "model = SimpleModel()\n",
        "model.eval()\n",
        "\n",
        "# Example inputs and baseline\n",
        "inputs = torch.randn(1, 10, requires_grad=True)\n",
        "baseline = torch.zeros(1, 10, requires_grad=False)  # No need for gradients in baseline\n",
        "\n",
        "# Compute integrated gradients\n",
        "integrated_grads = integrated_gradients(inputs, baseline, model, steps=50)\n",
        "print(integrated_grads)"
      ]
    }
  ]
}