{
  "nbformat": 4,
  "nbformat_minor": 0,
  "metadata": {
    "colab": {
      "private_outputs": true,
      "provenance": [],
      "authorship_tag": "ABX9TyOtx2eAvXJgOb78gVzIk+ro",
      "include_colab_link": true
    },
    "kernelspec": {
      "name": "python3",
      "display_name": "Python 3"
    },
    "language_info": {
      "name": "python"
    }
  },
  "cells": [
    {
      "cell_type": "markdown",
      "metadata": {
        "id": "view-in-github",
        "colab_type": "text"
      },
      "source": [
        "<a href=\"https://colab.research.google.com/github/OneFineStarstuff/OneFineStarstuff/blob/main/Example_Simulating_First_Order_Reaction_Kinetics.ipynb\" target=\"_parent\"><img src=\"https://colab.research.google.com/assets/colab-badge.svg\" alt=\"Open In Colab\"/></a>"
      ]
    },
    {
      "cell_type": "code",
      "execution_count": null,
      "metadata": {
        "id": "fL9QSCf5fbhe"
      },
      "outputs": [],
      "source": [
        "import numpy as np\n",
        "import matplotlib.pyplot as plt\n",
        "\n",
        "# Parameters\n",
        "k = 0.1  # Reaction rate constant (1/s)\n",
        "A0 = 1.0  # Initial concentration of reactant A (mol/L)\n",
        "t = np.linspace(0, 50, 100)  # Time (s)\n",
        "\n",
        "# First-order reaction: A → Products\n",
        "A = A0 * np.exp(-k * t)\n",
        "\n",
        "# Plot concentration over time\n",
        "plt.plot(t, A, label='Concentration of A')\n",
        "plt.title(\"First-Order Reaction Kinetics\")\n",
        "plt.xlabel(\"Time (s)\")\n",
        "plt.ylabel(\"Concentration (mol/L)\")\n",
        "plt.grid(True)\n",
        "plt.show()"
      ]
    }
  ]
}