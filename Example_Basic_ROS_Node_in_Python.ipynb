{
  "nbformat": 4,
  "nbformat_minor": 0,
  "metadata": {
    "colab": {
      "private_outputs": true,
      "provenance": [],
      "authorship_tag": "ABX9TyO3BOxYVVv/TPycQMyvpe+S",
      "include_colab_link": true
    },
    "kernelspec": {
      "name": "python3",
      "display_name": "Python 3"
    },
    "language_info": {
      "name": "python"
    }
  },
  "cells": [
    {
      "cell_type": "markdown",
      "metadata": {
        "id": "view-in-github",
        "colab_type": "text"
      },
      "source": [
        "<a href=\"https://colab.research.google.com/github/OneFineStarstuff/OneFineStardust/blob/main/Example_Basic_ROS_Node_in_Python.ipynb\" target=\"_parent\"><img src=\"https://colab.research.google.com/assets/colab-badge.svg\" alt=\"Open In Colab\"/></a>"
      ]
    },
    {
      "cell_type": "code",
      "execution_count": null,
      "metadata": {
        "id": "di48Dj9tbiMk"
      },
      "outputs": [],
      "source": [
        "import rospy\n",
        "from std_msgs.msg import String\n",
        "\n",
        "def talker():\n",
        "    pub = rospy.Publisher('chatter', String, queue_size=10)\n",
        "    rospy.init_node('talker', anonymous=True)\n",
        "    rate = rospy.Rate(10)  # 10 Hz\n",
        "    while not rospy.is_shutdown():\n",
        "        hello_str = \"Hello ROS!\"\n",
        "        rospy.loginfo(hello_str)\n",
        "        pub.publish(hello_str)\n",
        "        rate.sleep()\n",
        "\n",
        "if __name__ == '__main__':\n",
        "    try:\n",
        "        talker()\n",
        "    except rospy.ROSInterruptException:\n",
        "        pass"
      ]
    }
  ]
}