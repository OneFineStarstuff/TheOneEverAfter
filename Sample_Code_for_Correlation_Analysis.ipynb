{
  "nbformat": 4,
  "nbformat_minor": 0,
  "metadata": {
    "colab": {
      "private_outputs": true,
      "provenance": [],
      "authorship_tag": "ABX9TyPLb14i3YfmvQO9ahIzxRA7",
      "include_colab_link": true
    },
    "kernelspec": {
      "name": "python3",
      "display_name": "Python 3"
    },
    "language_info": {
      "name": "python"
    }
  },
  "cells": [
    {
      "cell_type": "markdown",
      "metadata": {
        "id": "view-in-github",
        "colab_type": "text"
      },
      "source": [
        "<a href=\"https://colab.research.google.com/github/OneFineStarstuff/OneFineStardust/blob/main/Sample_Code_for_Correlation_Analysis.ipynb\" target=\"_parent\"><img src=\"https://colab.research.google.com/assets/colab-badge.svg\" alt=\"Open In Colab\"/></a>"
      ]
    },
    {
      "cell_type": "code",
      "execution_count": null,
      "metadata": {
        "id": "_yj20-1VG3it"
      },
      "outputs": [],
      "source": [
        "import numpy as np\n",
        "import pandas as pd\n",
        "import matplotlib.pyplot as plt\n",
        "from scipy.stats import pearsonr\n",
        "\n",
        "# Simulated data\n",
        "num_stars = 1000\n",
        "temperatures = np.random.uniform(low=3000, high=10000, size=num_stars)\n",
        "luminosities = np.random.uniform(low=0.1, high=100, size=num_stars)\n",
        "\n",
        "# Classify stars based on temperature\n",
        "star_types = np.where(temperatures > 6000, 'Hot', 'Cool')\n",
        "\n",
        "# Create DataFrame\n",
        "data = pd.DataFrame({'Temperature': temperatures, 'Luminosity': luminosities, 'Type': star_types})\n",
        "\n",
        "# Separate Hot Stars and Cool Stars\n",
        "cool_stars = data[data['Type'] == 'Cool']\n",
        "hot_stars = data[data['Type'] == 'Hot']\n",
        "\n",
        "# Calculate Pearson correlation for Cool Stars\n",
        "corr_cool, _ = pearsonr(cool_stars['Temperature'], cool_stars['Luminosity'])\n",
        "print(f'Pearson Correlation for Cool Stars: {corr_cool:.2f}')\n",
        "\n",
        "# Calculate Pearson correlation for Hot Stars\n",
        "corr_hot, _ = pearsonr(hot_stars['Temperature'], hot_stars['Luminosity'])\n",
        "print(f'Pearson Correlation for Hot Stars: {corr_hot:.2f}')\n",
        "\n",
        "# Plotting the scatter plot again with labels\n",
        "plt.figure(figsize=(10, 6))\n",
        "plt.scatter(cool_stars['Temperature'], cool_stars['Luminosity'], c='blue', alpha=0.5, label='Stars')\n",
        "plt.scatter(hot_stars['Temperature'], hot_stars['Luminosity'], c='red', alpha=0.5, label='Hot Stars')\n",
        "plt.title('Luminosity vs Temperature of Stars')\n",
        "plt.xlabel('Temperature (K)')\n",
        "plt.ylabel('Luminosity (Solar Units)')\n",
        "plt.legend()\n",
        "plt.grid()\n",
        "plt.show()"
      ]
    }
  ]
}