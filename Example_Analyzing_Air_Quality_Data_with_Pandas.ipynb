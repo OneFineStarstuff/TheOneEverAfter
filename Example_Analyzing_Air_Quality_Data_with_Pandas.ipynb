{
  "nbformat": 4,
  "nbformat_minor": 0,
  "metadata": {
    "colab": {
      "private_outputs": true,
      "provenance": [],
      "authorship_tag": "ABX9TyOFgKBgBAcTMzR31FZZ6W10",
      "include_colab_link": true
    },
    "kernelspec": {
      "name": "python3",
      "display_name": "Python 3"
    },
    "language_info": {
      "name": "python"
    }
  },
  "cells": [
    {
      "cell_type": "markdown",
      "metadata": {
        "id": "view-in-github",
        "colab_type": "text"
      },
      "source": [
        "<a href=\"https://colab.research.google.com/github/OneFineStarstuff/OneFineStardust/blob/main/Example_Analyzing_Air_Quality_Data_with_Pandas.ipynb\" target=\"_parent\"><img src=\"https://colab.research.google.com/assets/colab-badge.svg\" alt=\"Open In Colab\"/></a>"
      ]
    },
    {
      "cell_type": "code",
      "execution_count": null,
      "metadata": {
        "id": "4PTmoUOnN-Lv"
      },
      "outputs": [],
      "source": [
        "import pandas as pd\n",
        "\n",
        "# Load air quality dataset (CSV format)\n",
        "df = pd.read_csv('air_quality.csv')\n",
        "\n",
        "# Display basic statistics\n",
        "print(df.describe())\n",
        "\n",
        "# Filter data for a specific pollutant level threshold\n",
        "high_pollution_days = df[df['PM2.5'] > 35]\n",
        "print(high_pollution_days[['Date', 'PM2.5']])"
      ]
    }
  ]
}