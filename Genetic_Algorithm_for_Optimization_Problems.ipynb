{
  "nbformat": 4,
  "nbformat_minor": 0,
  "metadata": {
    "colab": {
      "private_outputs": true,
      "provenance": [],
      "authorship_tag": "ABX9TyMXcWAGCHqsxhzvA+VTWTEd",
      "include_colab_link": true
    },
    "kernelspec": {
      "name": "python3",
      "display_name": "Python 3"
    },
    "language_info": {
      "name": "python"
    }
  },
  "cells": [
    {
      "cell_type": "markdown",
      "metadata": {
        "id": "view-in-github",
        "colab_type": "text"
      },
      "source": [
        "<a href=\"https://colab.research.google.com/github/OneFineStarstuff/OneFineStardust/blob/main/Genetic_Algorithm_for_Optimization_Problems.ipynb\" target=\"_parent\"><img src=\"https://colab.research.google.com/assets/colab-badge.svg\" alt=\"Open In Colab\"/></a>"
      ]
    },
    {
      "cell_type": "code",
      "execution_count": null,
      "metadata": {
        "id": "YHT9fph1Y-7g"
      },
      "outputs": [],
      "source": [
        "import numpy as np\n",
        "\n",
        "def fitness_function(x):\n",
        "    return x**2 - 10*x + 25  # Example function: (x-5)^2\n",
        "\n",
        "def create_population(size, individual_length):\n",
        "    return np.random.randint(0, 10, size=(size, individual_length))\n",
        "\n",
        "def select_parents(population):\n",
        "    fitness_scores = [fitness_function(ind[0]) for ind in population]  # Use the first gene for fitness calculation\n",
        "    parents = population[np.argsort(fitness_scores)[:2]]  # Select two best individuals\n",
        "    return parents\n",
        "\n",
        "def crossover(parents):\n",
        "    crossover_point = np.random.randint(1, len(parents[0])-1)\n",
        "    child1 = np.concatenate((parents[0][:crossover_point], parents[1][crossover_point:]))\n",
        "    child2 = np.concatenate((parents[1][:crossover_point], parents[0][crossover_point:]))\n",
        "    return child1, child2\n",
        "\n",
        "def mutate(child):\n",
        "    mutation_index = np.random.randint(len(child))\n",
        "    child[mutation_index] = np.random.randint(0, 10)  # Random mutation\n",
        "    return child\n",
        "\n",
        "# Genetic Algorithm Execution\n",
        "population_size = 10\n",
        "individual_length = 5  # Example length of each individual\n",
        "generations = 20\n",
        "\n",
        "population = create_population(population_size, individual_length)\n",
        "\n",
        "for generation in range(generations):\n",
        "    parents = select_parents(population)\n",
        "    children = crossover(parents)\n",
        "    children = [mutate(child) for child in children]\n",
        "    population = np.concatenate((population, children))[:population_size]  # Keep population size constant\n",
        "\n",
        "best_solution = select_parents(population)[0]\n",
        "print(f'Best solution: {best_solution}, Fitness: {fitness_function(best_solution[0])}')"
      ]
    }
  ]
}