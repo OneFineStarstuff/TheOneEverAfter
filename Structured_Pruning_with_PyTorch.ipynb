{
  "nbformat": 4,
  "nbformat_minor": 0,
  "metadata": {
    "colab": {
      "private_outputs": true,
      "provenance": [],
      "authorship_tag": "ABX9TyOQCTKMZxpM7Agfvbdq8d7g",
      "include_colab_link": true
    },
    "kernelspec": {
      "name": "python3",
      "display_name": "Python 3"
    },
    "language_info": {
      "name": "python"
    }
  },
  "cells": [
    {
      "cell_type": "markdown",
      "metadata": {
        "id": "view-in-github",
        "colab_type": "text"
      },
      "source": [
        "<a href=\"https://colab.research.google.com/github/OneFineStarstuff/OneFineStarstuff/blob/main/Structured_Pruning_with_PyTorch.ipynb\" target=\"_parent\"><img src=\"https://colab.research.google.com/assets/colab-badge.svg\" alt=\"Open In Colab\"/></a>"
      ]
    },
    {
      "cell_type": "code",
      "execution_count": null,
      "metadata": {
        "id": "dkVWLi8kb4mM"
      },
      "outputs": [],
      "source": [
        "import torch\n",
        "import torch.nn as nn\n",
        "import torch.nn.utils.prune as prune\n",
        "\n",
        "# Define a simple model for demonstration\n",
        "class SimpleModel(nn.Module):\n",
        "    def __init__(self):\n",
        "        super(SimpleModel, self).__init__()\n",
        "        self.conv1 = nn.Conv2d(1, 10, kernel_size=5)\n",
        "        self.fc1 = nn.Linear(10 * 12 * 12, 50)\n",
        "        self.layer_to_prune = self.fc1\n",
        "\n",
        "    def forward(self, x):\n",
        "        x = F.relu(self.conv1(x))\n",
        "        x = x.view(-1, 10 * 12 * 12)\n",
        "        x = F.relu(self.fc1(x))\n",
        "        return x\n",
        "\n",
        "# Instantiate the model\n",
        "model = SimpleModel()\n",
        "\n",
        "# Apply structured pruning to the specified layer along the 0-th dimension (rows)\n",
        "prune.ln_structured(model.layer_to_prune, name=\"weight\", amount=0.3, n=2, dim=0)\n",
        "\n",
        "# Check sparsity\n",
        "sparsity = torch.sum(model.layer_to_prune.weight == 0).item() / model.layer_to_prune.weight.numel()\n",
        "print(f\"Sparsity level in pruned layer: {sparsity:.2f}\")\n",
        "\n",
        "# Optional: Remove pruning reparametrization if needed\n",
        "prune.remove(model.layer_to_prune, \"weight\")"
      ]
    }
  ]
}