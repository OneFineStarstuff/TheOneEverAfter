{
  "nbformat": 4,
  "nbformat_minor": 0,
  "metadata": {
    "colab": {
      "private_outputs": true,
      "provenance": [],
      "authorship_tag": "ABX9TyPyQKCa62qw16EamT+EAeOT",
      "include_colab_link": true
    },
    "kernelspec": {
      "name": "python3",
      "display_name": "Python 3"
    },
    "language_info": {
      "name": "python"
    }
  },
  "cells": [
    {
      "cell_type": "markdown",
      "metadata": {
        "id": "view-in-github",
        "colab_type": "text"
      },
      "source": [
        "<a href=\"https://colab.research.google.com/github/OneFineStarstuff/OneFineStarstuff/blob/main/Example_Simulating_a_First_Order_Chemical_Reaction.ipynb\" target=\"_parent\"><img src=\"https://colab.research.google.com/assets/colab-badge.svg\" alt=\"Open In Colab\"/></a>"
      ]
    },
    {
      "cell_type": "code",
      "execution_count": null,
      "metadata": {
        "id": "g28VkHvRVysk"
      },
      "outputs": [],
      "source": [
        "import numpy as np\n",
        "import matplotlib.pyplot as plt\n",
        "from scipy.integrate import odeint\n",
        "\n",
        "# First-order reaction: A -> B with rate constant k\n",
        "def reaction(concentration, t, k):\n",
        "    A = concentration[0]\n",
        "    dA_dt = -k * A  # Rate of change of A\n",
        "    return [dA_dt]\n",
        "\n",
        "# Initial concentration of A\n",
        "A0 = [1.0]\n",
        "\n",
        "# Time array for simulation\n",
        "t = np.linspace(0, 10, 100)\n",
        "\n",
        "# Rate constant\n",
        "k = 0.5\n",
        "\n",
        "# Solve the differential equation\n",
        "concentration = odeint(reaction, A0, t, args=(k,))\n",
        "\n",
        "# Plot the concentration of A over time\n",
        "plt.plot(t, concentration[:, 0], label=\"Concentration of A\")\n",
        "plt.title(\"First-Order Reaction A -> B\")\n",
        "plt.xlabel(\"Time\")\n",
        "plt.ylabel(\"Concentration\")\n",
        "plt.grid(True)\n",
        "plt.show()"
      ]
    }
  ]
}