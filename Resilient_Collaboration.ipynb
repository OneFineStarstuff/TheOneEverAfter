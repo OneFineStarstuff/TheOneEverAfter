{
  "nbformat": 4,
  "nbformat_minor": 0,
  "metadata": {
    "colab": {
      "private_outputs": true,
      "provenance": [],
      "authorship_tag": "ABX9TyOxBmTJZl1S8ehg9PwmZHjX",
      "include_colab_link": true
    },
    "kernelspec": {
      "name": "python3",
      "display_name": "Python 3"
    },
    "language_info": {
      "name": "python"
    }
  },
  "cells": [
    {
      "cell_type": "markdown",
      "metadata": {
        "id": "view-in-github",
        "colab_type": "text"
      },
      "source": [
        "<a href=\"https://colab.research.google.com/github/OneFineStarstuff/OneFineStardust/blob/main/Resilient_Collaboration.ipynb\" target=\"_parent\"><img src=\"https://colab.research.google.com/assets/colab-badge.svg\" alt=\"Open In Colab\"/></a>"
      ]
    },
    {
      "cell_type": "code",
      "execution_count": null,
      "metadata": {
        "id": "e1qPqSX7J6X5"
      },
      "outputs": [],
      "source": [
        "class ResilientCollaboration:\n",
        "    def __init__(self):\n",
        "        self.collaborators = []\n",
        "\n",
        "    def add_collaborator(self, field, name):\n",
        "        collaborator = {\"field\": field, \"name\": name}\n",
        "        self.collaborators.append(collaborator)\n",
        "        return collaborator\n",
        "\n",
        "    def get_collaborators(self):\n",
        "        return self.collaborators\n",
        "\n",
        "# Example usage\n",
        "collaboration = ResilientCollaboration()\n",
        "collaboration.add_collaborator(\"Ethics\", \"Dr. Smith\")\n",
        "collaboration.add_collaborator(\"Computer Science\", \"Dr. Lee\")\n",
        "collaboration.add_collaborator(\"Sociology\", \"Dr. Nguyen\")\n",
        "print(f\"Collaborators: {collaboration.get_collaborators()}\")"
      ]
    }
  ]
}