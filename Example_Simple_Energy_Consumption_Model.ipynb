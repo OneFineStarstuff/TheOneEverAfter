{
  "nbformat": 4,
  "nbformat_minor": 0,
  "metadata": {
    "colab": {
      "private_outputs": true,
      "provenance": [],
      "authorship_tag": "ABX9TyN+XqGr0aC/AKD94ekhOzHs",
      "include_colab_link": true
    },
    "kernelspec": {
      "name": "python3",
      "display_name": "Python 3"
    },
    "language_info": {
      "name": "python"
    }
  },
  "cells": [
    {
      "cell_type": "markdown",
      "metadata": {
        "id": "view-in-github",
        "colab_type": "text"
      },
      "source": [
        "<a href=\"https://colab.research.google.com/github/OneFineStarstuff/OneFineStardust/blob/main/Example_Simple_Energy_Consumption_Model.ipynb\" target=\"_parent\"><img src=\"https://colab.research.google.com/assets/colab-badge.svg\" alt=\"Open In Colab\"/></a>"
      ]
    },
    {
      "cell_type": "code",
      "execution_count": null,
      "metadata": {
        "id": "wcRGuObyO1jq"
      },
      "outputs": [],
      "source": [
        "import numpy as np\n",
        "import matplotlib.pyplot as plt\n",
        "\n",
        "# Simulated energy consumption data over a week (in kWh)\n",
        "days = np.arange(7)\n",
        "energy_consumption = [30 + np.random.normal(5) for _ in days]\n",
        "\n",
        "# Plotting energy consumption over the week\n",
        "plt.bar(days, energy_consumption)\n",
        "plt.xticks(days)\n",
        "plt.title('Weekly Energy Consumption')\n",
        "plt.xlabel('Days')\n",
        "plt.ylabel('Energy Consumption (kWh)')\n",
        "plt.grid(axis='y')\n",
        "plt.show()"
      ]
    }
  ]
}