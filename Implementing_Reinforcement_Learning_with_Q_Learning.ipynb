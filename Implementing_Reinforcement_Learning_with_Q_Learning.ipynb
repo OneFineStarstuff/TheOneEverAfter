{
  "nbformat": 4,
  "nbformat_minor": 0,
  "metadata": {
    "colab": {
      "private_outputs": true,
      "provenance": [],
      "authorship_tag": "ABX9TyMmqK48nXaQnDJ1/RAYF+9k",
      "include_colab_link": true
    },
    "kernelspec": {
      "name": "python3",
      "display_name": "Python 3"
    },
    "language_info": {
      "name": "python"
    }
  },
  "cells": [
    {
      "cell_type": "markdown",
      "metadata": {
        "id": "view-in-github",
        "colab_type": "text"
      },
      "source": [
        "<a href=\"https://colab.research.google.com/github/OneFineStarstuff/OneFineStardust/blob/main/Implementing_Reinforcement_Learning_with_Q_Learning.ipynb\" target=\"_parent\"><img src=\"https://colab.research.google.com/assets/colab-badge.svg\" alt=\"Open In Colab\"/></a>"
      ]
    },
    {
      "cell_type": "code",
      "execution_count": null,
      "metadata": {
        "id": "Z3uGkY-PRD8k"
      },
      "outputs": [],
      "source": [
        "import numpy as np\n",
        "\n",
        "# Define the environment\n",
        "grid_size = 5\n",
        "num_actions = 4  # Up, Down, Left, Right\n",
        "q_table = np.zeros((grid_size, grid_size, num_actions))\n",
        "\n",
        "# Parameters\n",
        "learning_rate = 0.1\n",
        "discount_factor = 0.9\n",
        "epsilon = 0.1  # Exploration rate\n",
        "\n",
        "# Define actions\n",
        "actions = {\n",
        "    0: (-1, 0),  # Up\n",
        "    1: (1, 0),   # Down\n",
        "    2: (0, -1),  # Left\n",
        "    3: (0, 1)    # Right\n",
        "}\n",
        "\n",
        "# Define rewards and terminal state\n",
        "goal_state = (grid_size - 1, grid_size - 1)  # Bottom-right corner\n",
        "reward_table = np.zeros((grid_size, grid_size))\n",
        "reward_table[goal_state] = 10  # Reward for reaching the goal\n",
        "\n",
        "# Q-learning algorithm\n",
        "for episode in range(1000):\n",
        "    state = (np.random.randint(0, grid_size), np.random.randint(0, grid_size))  # Random start state\n",
        "\n",
        "    while True:\n",
        "        if np.random.rand() < epsilon:\n",
        "            action = np.random.randint(0, num_actions)  # Explore action space\n",
        "        else:\n",
        "            action = np.argmax(q_table[state[0], state[1]])  # Exploit learned values\n",
        "\n",
        "        # Take action and observe new state and reward\n",
        "        next_state = (state[0] + actions[action][0], state[1] + actions[action][1])\n",
        "\n",
        "        # Ensure next_state is within grid bounds\n",
        "        next_state = (max(0, min(next_state[0], grid_size - 1)), max(0, min(next_state[1], grid_size - 1)))\n",
        "\n",
        "        reward = reward_table[next_state]\n",
        "\n",
        "        # Update Q-value using the Q-learning formula\n",
        "        q_table[state[0], state[1], action] += learning_rate * (reward + discount_factor * np.max(q_table[next_state[0], next_state[1]]) - q_table[state[0], state[1], action])\n",
        "\n",
        "        state = next_state\n",
        "\n",
        "        if state == goal_state:  # Define condition for episode termination\n",
        "            break\n",
        "\n",
        "# Print the final Q-table\n",
        "print(\"Final Q-table:\")\n",
        "print(q_table)"
      ]
    }
  ]
}