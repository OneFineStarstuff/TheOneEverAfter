{
  "nbformat": 4,
  "nbformat_minor": 0,
  "metadata": {
    "colab": {
      "private_outputs": true,
      "provenance": [],
      "authorship_tag": "ABX9TyNu6WvYgE5LvGm1WAHQ1OHq",
      "include_colab_link": true
    },
    "kernelspec": {
      "name": "python3",
      "display_name": "Python 3"
    },
    "language_info": {
      "name": "python"
    }
  },
  "cells": [
    {
      "cell_type": "markdown",
      "metadata": {
        "id": "view-in-github",
        "colab_type": "text"
      },
      "source": [
        "<a href=\"https://colab.research.google.com/github/OneFineStarstuff/OneFineStardust/blob/main/Example_Dijkstra's_Algorithm_for_Shortest_Path.ipynb\" target=\"_parent\"><img src=\"https://colab.research.google.com/assets/colab-badge.svg\" alt=\"Open In Colab\"/></a>"
      ]
    },
    {
      "cell_type": "code",
      "execution_count": null,
      "metadata": {
        "id": "yQve7u-N0uce"
      },
      "outputs": [],
      "source": [
        "import heapq\n",
        "\n",
        "def dijkstra(graph, start):\n",
        "    queue = []\n",
        "    heapq.heappush(queue, (0, start))\n",
        "    distances = {node: float('infinity') for node in graph}\n",
        "    distances[start] = 0\n",
        "\n",
        "    while queue:\n",
        "        current_distance, current_node = heapq.heappop(queue)\n",
        "\n",
        "        if current_distance > distances[current_node]:\n",
        "            continue\n",
        "\n",
        "        for neighbor, weight in graph[current_node].items():\n",
        "            distance = current_distance + weight\n",
        "\n",
        "            if distance < distances[neighbor]:\n",
        "                distances[neighbor] = distance\n",
        "                heapq.heappush(queue, (distance, neighbor))\n",
        "\n",
        "    return distances\n",
        "\n",
        "# Example graph represented as an adjacency list\n",
        "graph = {\n",
        "    'A': {'B': 1, 'C': 4},\n",
        "    'B': {'A': 1, 'C': 2, 'D': 5},\n",
        "    'C': {'A': 4, 'B': 2, 'D': 1},\n",
        "    'D': {'B': 5, 'C': 1}\n",
        "}\n",
        "\n",
        "# Find shortest paths from node A\n",
        "shortest_paths = dijkstra(graph, 'A')\n",
        "print(shortest_paths)"
      ]
    }
  ]
}