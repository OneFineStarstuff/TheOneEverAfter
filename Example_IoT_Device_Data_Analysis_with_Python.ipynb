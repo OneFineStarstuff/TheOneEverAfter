{
  "nbformat": 4,
  "nbformat_minor": 0,
  "metadata": {
    "colab": {
      "private_outputs": true,
      "provenance": [],
      "authorship_tag": "ABX9TyO8+C9FqcrA5M/4R5L8iy5+",
      "include_colab_link": true
    },
    "kernelspec": {
      "name": "python3",
      "display_name": "Python 3"
    },
    "language_info": {
      "name": "python"
    }
  },
  "cells": [
    {
      "cell_type": "markdown",
      "metadata": {
        "id": "view-in-github",
        "colab_type": "text"
      },
      "source": [
        "<a href=\"https://colab.research.google.com/github/OneFineStarstuff/OneFineStardust/blob/main/Example_IoT_Device_Data_Analysis_with_Python.ipynb\" target=\"_parent\"><img src=\"https://colab.research.google.com/assets/colab-badge.svg\" alt=\"Open In Colab\"/></a>"
      ]
    },
    {
      "cell_type": "code",
      "execution_count": null,
      "metadata": {
        "id": "tcafaptru2fv"
      },
      "outputs": [],
      "source": [
        "import pandas as pd\n",
        "import numpy as np\n",
        "\n",
        "# Simulate IoT data collection\n",
        "data = {'temperature': np.random.uniform(20.0, 30.0, 100),\n",
        "        'humidity': np.random.uniform(30.0, 70.0, 100)}\n",
        "\n",
        "df = pd.DataFrame(data)\n",
        "\n",
        "# Analyze data\n",
        "mean_temp = df['temperature'].mean()\n",
        "mean_humidity = df['humidity'].mean()\n",
        "\n",
        "print(f'Mean Temperature: {mean_temp:.2f} °C')\n",
        "print(f'Mean Humidity: {mean_humidity:.2f} %')"
      ]
    }
  ]
}