{
  "nbformat": 4,
  "nbformat_minor": 0,
  "metadata": {
    "colab": {
      "private_outputs": true,
      "provenance": [],
      "authorship_tag": "ABX9TyPpbvcPuUHRrn9YgCBdxKRA",
      "include_colab_link": true
    },
    "kernelspec": {
      "name": "python3",
      "display_name": "Python 3"
    },
    "language_info": {
      "name": "python"
    }
  },
  "cells": [
    {
      "cell_type": "markdown",
      "metadata": {
        "id": "view-in-github",
        "colab_type": "text"
      },
      "source": [
        "<a href=\"https://colab.research.google.com/github/OneFineStarstuff/OneFineStardust/blob/main/Reinforcement_Learning_with_Q_Learning.ipynb\" target=\"_parent\"><img src=\"https://colab.research.google.com/assets/colab-badge.svg\" alt=\"Open In Colab\"/></a>"
      ]
    },
    {
      "cell_type": "code",
      "execution_count": null,
      "metadata": {
        "id": "Xy6bwZobdmb1"
      },
      "outputs": [],
      "source": [
        "import numpy as np\n",
        "import random\n",
        "\n",
        "# Define the environment\n",
        "states = [0, 1, 2, 3]  # Simple state space\n",
        "actions = [0, 1]       # Two actions: 0 (left), 1 (right)\n",
        "Q = np.zeros((len(states), len(actions)))  # Q-table\n",
        "\n",
        "# Hyperparameters\n",
        "alpha = 0.1   # Learning rate\n",
        "gamma = 0.9   # Discount factor\n",
        "epsilon = 0.1 # Exploration rate\n",
        "\n",
        "# Simulate episodes\n",
        "for episode in range(1000):\n",
        "    state = random.choice(states)  # Start from a random state\n",
        "\n",
        "    while state != 3:  # Until reaching terminal state (3)\n",
        "        if random.uniform(0, 1) < epsilon:\n",
        "            action = random.choice(actions)  # Explore\n",
        "        else:\n",
        "            action = np.argmax(Q[state])      # Exploit\n",
        "\n",
        "        # Simulate the reward and next state (simple transition model)\n",
        "        if action == 0:  # Move left\n",
        "            next_state = max(0, state - 1)\n",
        "            reward = -1 if next_state < state else 0\n",
        "        else:           # Move right\n",
        "            next_state = min(len(states) - 1, state + 1)\n",
        "            reward = 1 if next_state > state else -1\n",
        "\n",
        "        # Update Q-value\n",
        "        Q[state, action] += alpha * (reward + gamma * np.max(Q[next_state]) - Q[state, action])\n",
        "\n",
        "        state = next_state\n",
        "\n",
        "print(\"Trained Q-Table:\")\n",
        "print(Q)"
      ]
    }
  ]
}