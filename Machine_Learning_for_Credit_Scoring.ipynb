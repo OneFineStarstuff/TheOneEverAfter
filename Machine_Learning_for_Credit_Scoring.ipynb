{
  "nbformat": 4,
  "nbformat_minor": 0,
  "metadata": {
    "colab": {
      "private_outputs": true,
      "provenance": [],
      "authorship_tag": "ABX9TyNcmhK9StA8tMN+w+EOPVkw",
      "include_colab_link": true
    },
    "kernelspec": {
      "name": "python3",
      "display_name": "Python 3"
    },
    "language_info": {
      "name": "python"
    }
  },
  "cells": [
    {
      "cell_type": "markdown",
      "metadata": {
        "id": "view-in-github",
        "colab_type": "text"
      },
      "source": [
        "<a href=\"https://colab.research.google.com/github/OneFineStarstuff/OneFineStardust/blob/main/Machine_Learning_for_Credit_Scoring.ipynb\" target=\"_parent\"><img src=\"https://colab.research.google.com/assets/colab-badge.svg\" alt=\"Open In Colab\"/></a>"
      ]
    },
    {
      "cell_type": "code",
      "execution_count": null,
      "metadata": {
        "id": "o-NEVjMb7GNQ"
      },
      "outputs": [],
      "source": [
        "import pandas as pd\n",
        "from sklearn.model_selection import train_test_split\n",
        "from sklearn.ensemble import RandomForestClassifier\n",
        "\n",
        "# Load credit scoring data\n",
        "data = pd.read_csv('credit_data.csv')\n",
        "\n",
        "# Prepare features and target variable\n",
        "X = data.drop('credit_score', axis=1)  # Features excluding target variable\n",
        "y = data['credit_score']  # Target variable\n",
        "\n",
        "# Split the dataset into training and testing sets\n",
        "X_train, X_test, y_train, y_test = train_test_split(X, y, test_size=0.25)\n",
        "\n",
        "# Train a Random Forest classifier\n",
        "model = RandomForestClassifier(n_estimators=100)\n",
        "model.fit(X_train, y_train)\n",
        "\n",
        "# Evaluate the model's performance on test data\n",
        "accuracy = model.score(X_test, y_test)\n",
        "print(f'Model Accuracy: {accuracy:.2f}')"
      ]
    }
  ]
}