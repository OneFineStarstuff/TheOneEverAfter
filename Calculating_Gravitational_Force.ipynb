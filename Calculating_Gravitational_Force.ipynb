{
  "nbformat": 4,
  "nbformat_minor": 0,
  "metadata": {
    "colab": {
      "private_outputs": true,
      "provenance": [],
      "authorship_tag": "ABX9TyN2NZZ2BALiagtO+AvIBnH3",
      "include_colab_link": true
    },
    "kernelspec": {
      "name": "python3",
      "display_name": "Python 3"
    },
    "language_info": {
      "name": "python"
    }
  },
  "cells": [
    {
      "cell_type": "markdown",
      "metadata": {
        "id": "view-in-github",
        "colab_type": "text"
      },
      "source": [
        "<a href=\"https://colab.research.google.com/github/OneFineStarstuff/OneFineStardust/blob/main/Calculating_Gravitational_Force.ipynb\" target=\"_parent\"><img src=\"https://colab.research.google.com/assets/colab-badge.svg\" alt=\"Open In Colab\"/></a>"
      ]
    },
    {
      "cell_type": "code",
      "execution_count": null,
      "metadata": {
        "id": "prI7ZSVzwo12"
      },
      "outputs": [],
      "source": [
        "def gravitational_force(m1, m2, r):\n",
        "    G = 6.67430e-11  # Gravitational constant\n",
        "    return G * (m1 * m2) / r**2\n",
        "\n",
        "# Example usage\n",
        "mass_earth = 5.972e24  # kg\n",
        "mass_moon = 7.348e22  # kg\n",
        "distance = 3.844e8  # meters\n",
        "\n",
        "force = gravitational_force(mass_earth, mass_moon, distance)\n",
        "print(\"Gravitational Force:\", force, \"N\")"
      ]
    }
  ]
}