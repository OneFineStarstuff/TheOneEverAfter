{
  "nbformat": 4,
  "nbformat_minor": 0,
  "metadata": {
    "colab": {
      "private_outputs": true,
      "provenance": [],
      "authorship_tag": "ABX9TyN7XBKLELaFUT1idCvNzEbC",
      "include_colab_link": true
    },
    "kernelspec": {
      "name": "python3",
      "display_name": "Python 3"
    },
    "language_info": {
      "name": "python"
    }
  },
  "cells": [
    {
      "cell_type": "markdown",
      "metadata": {
        "id": "view-in-github",
        "colab_type": "text"
      },
      "source": [
        "<a href=\"https://colab.research.google.com/github/OneFineStarstuff/OneFineStarstuff/blob/main/Example_Simulating_Carbon_Emission_Growth_and_Atmospheric_Concentration.ipynb\" target=\"_parent\"><img src=\"https://colab.research.google.com/assets/colab-badge.svg\" alt=\"Open In Colab\"/></a>"
      ]
    },
    {
      "cell_type": "code",
      "execution_count": null,
      "metadata": {
        "id": "RhqZYRNMdDUB"
      },
      "outputs": [],
      "source": [
        "import numpy as np\n",
        "import matplotlib.pyplot as plt\n",
        "\n",
        "# Parameters\n",
        "emission_rate = 10  # Annual emission rate (GtC/year)\n",
        "years = np.arange(0, 100, 1)  # Time range in years\n",
        "atmospheric_CO2 = 400  # Initial atmospheric CO2 concentration (ppm)\n",
        "absorption_rate = 2.5  # Natural absorption rate (GtC/year)\n",
        "decay_factor = 0.98  # Carbon decay in atmosphere\n",
        "\n",
        "# Simulation\n",
        "CO2_levels = [atmospheric_CO2]\n",
        "for year in years[1:]:\n",
        "    net_emission = emission_rate - absorption_rate\n",
        "    atmospheric_CO2 = CO2_levels[-1] * decay_factor + net_emission\n",
        "    CO2_levels.append(atmospheric_CO2)\n",
        "\n",
        "# Plot the results\n",
        "plt.plot(years, CO2_levels)\n",
        "plt.title(\"Atmospheric CO2 Levels Over Time\")\n",
        "plt.xlabel(\"Years\")\n",
        "plt.ylabel(\"CO2 Concentration (ppm)\")\n",
        "plt.grid(True)\n",
        "plt.show()"
      ]
    }
  ]
}