{
  "nbformat": 4,
  "nbformat_minor": 0,
  "metadata": {
    "colab": {
      "private_outputs": true,
      "provenance": [],
      "authorship_tag": "ABX9TyPSEX+t3/4JYzlFP0lTPgPQ",
      "include_colab_link": true
    },
    "kernelspec": {
      "name": "python3",
      "display_name": "Python 3"
    },
    "language_info": {
      "name": "python"
    }
  },
  "cells": [
    {
      "cell_type": "markdown",
      "metadata": {
        "id": "view-in-github",
        "colab_type": "text"
      },
      "source": [
        "<a href=\"https://colab.research.google.com/github/OneFineStarstuff/OneFineStarstuff/blob/main/Example_Simulating_the_Voter_Model_(Opinion_Dynamics).ipynb\" target=\"_parent\"><img src=\"https://colab.research.google.com/assets/colab-badge.svg\" alt=\"Open In Colab\"/></a>"
      ]
    },
    {
      "cell_type": "code",
      "execution_count": null,
      "metadata": {
        "id": "7xsKQGNUdw9-"
      },
      "outputs": [],
      "source": [
        "import numpy as np\n",
        "import matplotlib.pyplot as plt\n",
        "\n",
        "# Parameters\n",
        "population_size = 100\n",
        "initial_opinions = np.random.choice([0, 1], population_size)  # Random initial opinions (0 or 1)\n",
        "iterations = 500\n",
        "opinion_history = [initial_opinions.copy()]\n",
        "\n",
        "# Voter model simulation\n",
        "for _ in range(iterations):\n",
        "    individual = np.random.randint(0, population_size)  # Randomly select an individual\n",
        "    neighbor = np.random.randint(0, population_size)  # Randomly select a neighbor\n",
        "    initial_opinions[individual] = initial_opinions[neighbor]  # Update individual's opinion\n",
        "    opinion_history.append(initial_opinions.copy())\n",
        "\n",
        "# Convert opinion history to numpy array\n",
        "opinion_history = np.array(opinion_history)\n",
        "\n",
        "# Plot opinion dynamics over time\n",
        "plt.imshow(opinion_history.T, aspect='auto', cmap='gray_r', interpolation='nearest')\n",
        "plt.title(\"Opinion Dynamics (Voter Model)\")\n",
        "plt.xlabel(\"Iterations\")\n",
        "plt.ylabel(\"Individuals\")\n",
        "plt.show()"
      ]
    }
  ]
}