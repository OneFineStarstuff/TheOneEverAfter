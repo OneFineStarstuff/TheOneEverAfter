{
  "nbformat": 4,
  "nbformat_minor": 0,
  "metadata": {
    "colab": {
      "private_outputs": true,
      "provenance": [],
      "authorship_tag": "ABX9TyPlWrh0nXd7AnnMVqpjIdfS",
      "include_colab_link": true
    },
    "kernelspec": {
      "name": "python3",
      "display_name": "Python 3"
    },
    "language_info": {
      "name": "python"
    }
  },
  "cells": [
    {
      "cell_type": "markdown",
      "metadata": {
        "id": "view-in-github",
        "colab_type": "text"
      },
      "source": [
        "<a href=\"https://colab.research.google.com/github/OneFineStarstuff/OneFineStardust/blob/main/Genetic_Data_Analysis_Using_Bioinformatics_Libraries.ipynb\" target=\"_parent\"><img src=\"https://colab.research.google.com/assets/colab-badge.svg\" alt=\"Open In Colab\"/></a>"
      ]
    },
    {
      "cell_type": "code",
      "source": [
        "pip install Bio"
      ],
      "metadata": {
        "id": "mgAzrIrNsqgE"
      },
      "execution_count": null,
      "outputs": []
    },
    {
      "cell_type": "code",
      "execution_count": null,
      "metadata": {
        "id": "zJekt0o8sf6A"
      },
      "outputs": [],
      "source": [
        "from Bio import SeqIO\n",
        "\n",
        "# Load a FASTA file containing genetic sequences.\n",
        "sequences = SeqIO.parse(\"example.fasta\", \"fasta\")\n",
        "\n",
        "for seq_record in sequences:\n",
        "    print(f\"ID: {seq_record.id}\")\n",
        "    print(f\"Sequence: {seq_record.seq}\")\n",
        "    print(f\"Length: {len(seq_record)}\")"
      ]
    }
  ]
}