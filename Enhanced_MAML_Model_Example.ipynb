{
  "nbformat": 4,
  "nbformat_minor": 0,
  "metadata": {
    "colab": {
      "private_outputs": true,
      "provenance": [],
      "authorship_tag": "ABX9TyMxyC/SgHVy/7vAHuOMIaNK",
      "include_colab_link": true
    },
    "kernelspec": {
      "name": "python3",
      "display_name": "Python 3"
    },
    "language_info": {
      "name": "python"
    }
  },
  "cells": [
    {
      "cell_type": "markdown",
      "metadata": {
        "id": "view-in-github",
        "colab_type": "text"
      },
      "source": [
        "<a href=\"https://colab.research.google.com/github/OneFineStarstuff/OneFineStarstuff/blob/main/Enhanced_MAML_Model_Example.ipynb\" target=\"_parent\"><img src=\"https://colab.research.google.com/assets/colab-badge.svg\" alt=\"Open In Colab\"/></a>"
      ]
    },
    {
      "cell_type": "code",
      "execution_count": null,
      "metadata": {
        "id": "feA63NiNRUB9"
      },
      "outputs": [],
      "source": [
        "import torch\n",
        "import torch.nn as nn\n",
        "import torch.optim as optim\n",
        "\n",
        "# Example task loss function\n",
        "def compute_task_loss(model, task_data):\n",
        "    # Placeholder: replace with actual task loss computation\n",
        "    inputs, labels = task_data\n",
        "    outputs = model(inputs)\n",
        "    loss = nn.CrossEntropyLoss()(outputs, labels)\n",
        "    return loss\n",
        "\n",
        "class MAMLModel(nn.Module):\n",
        "    def __init__(self, model, lr_inner=0.01, lr_outer=0.001):\n",
        "        super().__init__()\n",
        "        self.model = model\n",
        "        self.lr_inner = lr_inner\n",
        "        self.optimizer = optim.Adam(self.model.parameters(), lr=lr_outer)\n",
        "\n",
        "    def forward(self, x):\n",
        "        return self.model(x)\n",
        "\n",
        "    def meta_train(self, tasks):\n",
        "        meta_loss = 0\n",
        "        for task_data in tasks:\n",
        "            # Clone the model for task-specific updates\n",
        "            task_model = self.clone_model(self.model)\n",
        "\n",
        "            # Inner loop: update parameters for each task\n",
        "            task_optimizer = optim.SGD(task_model.parameters(), lr=self.lr_inner)\n",
        "            task_loss = compute_task_loss(task_model, task_data)\n",
        "            task_optimizer.zero_grad()\n",
        "            task_loss.backward()\n",
        "            task_optimizer.step()\n",
        "\n",
        "            # Compute the loss on the updated task model\n",
        "            updated_task_loss = compute_task_loss(task_model, task_data)\n",
        "            meta_loss += updated_task_loss\n",
        "\n",
        "        # Outer loop: meta-update across tasks\n",
        "        self.optimizer.zero_grad()\n",
        "        meta_loss.backward()\n",
        "        self.optimizer.step()\n",
        "\n",
        "    def clone_model(self, model):\n",
        "        cloned_model = SimpleModel()  # or use type(model)() if model is of different type\n",
        "        cloned_model.load_state_dict(model.state_dict())\n",
        "        return cloned_model\n",
        "\n",
        "# Example usage\n",
        "class SimpleModel(nn.Module):\n",
        "    def __init__(self):\n",
        "        super(SimpleModel, self).__init__()\n",
        "        self.fc = nn.Linear(10, 2)\n",
        "\n",
        "    def forward(self, x):\n",
        "        return self.fc(x)\n",
        "\n",
        "# Create the model and MAML instance\n",
        "base_model = SimpleModel()\n",
        "maml_model = MAMLModel(base_model)\n",
        "\n",
        "# Example tasks (each with a batch of inputs and labels)\n",
        "tasks = [\n",
        "    (torch.randn(8, 10), torch.randint(0, 2, (8,))),\n",
        "    (torch.randn(8, 10), torch.randint(0, 2, (8,)))\n",
        "]\n",
        "\n",
        "# Meta-train the model\n",
        "maml_model.meta_train(tasks)"
      ]
    }
  ]
}