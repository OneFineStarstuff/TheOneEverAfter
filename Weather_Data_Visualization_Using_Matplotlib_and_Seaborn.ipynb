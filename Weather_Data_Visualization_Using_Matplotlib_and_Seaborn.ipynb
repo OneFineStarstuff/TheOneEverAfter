{
  "nbformat": 4,
  "nbformat_minor": 0,
  "metadata": {
    "colab": {
      "private_outputs": true,
      "provenance": [],
      "authorship_tag": "ABX9TyNv+jOGx5iod29HiCW1tXLF",
      "include_colab_link": true
    },
    "kernelspec": {
      "name": "python3",
      "display_name": "Python 3"
    },
    "language_info": {
      "name": "python"
    }
  },
  "cells": [
    {
      "cell_type": "markdown",
      "metadata": {
        "id": "view-in-github",
        "colab_type": "text"
      },
      "source": [
        "<a href=\"https://colab.research.google.com/github/OneFineStarstuff/OneFineStardust/blob/main/Weather_Data_Visualization_Using_Matplotlib_and_Seaborn.ipynb\" target=\"_parent\"><img src=\"https://colab.research.google.com/assets/colab-badge.svg\" alt=\"Open In Colab\"/></a>"
      ]
    },
    {
      "cell_type": "code",
      "execution_count": null,
      "metadata": {
        "id": "3uxYrZJdG3nF"
      },
      "outputs": [],
      "source": [
        "import pandas as pd\n",
        "import matplotlib.pyplot as plt\n",
        "import seaborn as sns\n",
        "\n",
        "# Load weather data\n",
        "data=pd.read_csv('weather_data.csv')\n",
        "\n",
        "# Convert date column to datetime\n",
        "data['date']=pd.to_datetime(data['date'])\n",
        "\n",
        "# Set date as index\n",
        "data.set_index('date', inplace=True)\n",
        "\n",
        "plt.figure(figsize=(12 ,6))\n",
        "\n",
        "# Plot temperature over time\n",
        "sns.lineplot(data=data,x=data.index,y='temperature')\n",
        "\n",
        "plt.title('Temperature Over Time')\n",
        "plt.xlabel('Date')\n",
        "plt.ylabel('Temperature (°C)')\n",
        "plt.show()"
      ]
    }
  ]
}