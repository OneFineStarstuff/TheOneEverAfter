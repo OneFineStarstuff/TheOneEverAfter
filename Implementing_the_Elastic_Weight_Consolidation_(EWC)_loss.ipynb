{
  "nbformat": 4,
  "nbformat_minor": 0,
  "metadata": {
    "colab": {
      "private_outputs": true,
      "provenance": [],
      "authorship_tag": "ABX9TyP89HTr3X3taydDLg+hz7do",
      "include_colab_link": true
    },
    "kernelspec": {
      "name": "python3",
      "display_name": "Python 3"
    },
    "language_info": {
      "name": "python"
    }
  },
  "cells": [
    {
      "cell_type": "markdown",
      "metadata": {
        "id": "view-in-github",
        "colab_type": "text"
      },
      "source": [
        "<a href=\"https://colab.research.google.com/github/OneFineStarstuff/TheOneEverAfter/blob/main/Implementing_the_Elastic_Weight_Consolidation_(EWC)_loss.ipynb\" target=\"_parent\"><img src=\"https://colab.research.google.com/assets/colab-badge.svg\" alt=\"Open In Colab\"/></a>"
      ]
    },
    {
      "cell_type": "code",
      "source": [
        "import torch\n",
        "import torch.nn as nn\n",
        "import torch.optim as optim\n",
        "\n",
        "# Placeholder for task-specific loss computation\n",
        "def compute_task_loss(agent, task_data):\n",
        "    # Example task loss computation (replace with actual task-specific logic)\n",
        "    inputs, targets = task_data\n",
        "    outputs = agent(inputs)\n",
        "    loss = nn.CrossEntropyLoss()(outputs, targets)\n",
        "    return loss\n",
        "\n",
        "# EWC loss computation\n",
        "def ewc_loss(agent, task_data, importance_weights, param_old):\n",
        "    # Standard loss for current task\n",
        "    loss = compute_task_loss(agent, task_data)\n",
        "\n",
        "    # Regularization for previous tasks\n",
        "    for name, param in agent.named_parameters():\n",
        "        if name in importance_weights:\n",
        "            loss += (importance_weights[name] * (param - param_old[name]).pow(2)).sum()\n",
        "\n",
        "    return loss\n",
        "\n",
        "# Function to save old parameters\n",
        "def save_old_params(agent):\n",
        "    return {name: param.clone().detach() for name, param in agent.named_parameters()}\n",
        "\n",
        "# Example model definition\n",
        "class SimpleModel(nn.Module):\n",
        "    def __init__(self, input_dim, output_dim):\n",
        "        super(SimpleModel, self).__init__()\n",
        "        self.fc = nn.Linear(input_dim, output_dim)\n",
        "\n",
        "    def forward(self, x):\n",
        "        return self.fc(x)\n",
        "\n",
        "# Initialize model, importance weights, and previous parameters\n",
        "input_dim = 10\n",
        "output_dim = 2\n",
        "model = SimpleModel(input_dim, output_dim)\n",
        "\n",
        "# Example task data (inputs and targets)\n",
        "inputs = torch.randn(32, input_dim)\n",
        "targets = torch.randint(0, output_dim, (32,))\n",
        "task_data = (inputs, targets)\n",
        "\n",
        "# Save old parameters\n",
        "param_old = save_old_params(model)\n",
        "\n",
        "# Example importance weights (replace with actual computation)\n",
        "importance_weights = {name: torch.ones_like(param) for name, param in model.named_parameters()}\n",
        "\n",
        "# Compute EWC loss\n",
        "loss = ewc_loss(model, task_data, importance_weights, param_old)\n",
        "\n",
        "print(f'EWC Loss: {loss.item()}')"
      ],
      "metadata": {
        "id": "KbNhZESGbe6Q"
      },
      "execution_count": null,
      "outputs": []
    }
  ]
}