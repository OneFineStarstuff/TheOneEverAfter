{
  "nbformat": 4,
  "nbformat_minor": 0,
  "metadata": {
    "colab": {
      "private_outputs": true,
      "provenance": [],
      "authorship_tag": "ABX9TyMiZGRcRIK4vchKfmQbfB6S",
      "include_colab_link": true
    },
    "kernelspec": {
      "name": "python3",
      "display_name": "Python 3"
    },
    "language_info": {
      "name": "python"
    }
  },
  "cells": [
    {
      "cell_type": "markdown",
      "metadata": {
        "id": "view-in-github",
        "colab_type": "text"
      },
      "source": [
        "<a href=\"https://colab.research.google.com/github/OneFineStarstuff/OneFineStardust/blob/main/Basic_implementation_of_AES_encryption_and_decryption_using_cryptography.ipynb\" target=\"_parent\"><img src=\"https://colab.research.google.com/assets/colab-badge.svg\" alt=\"Open In Colab\"/></a>"
      ]
    },
    {
      "cell_type": "code",
      "execution_count": null,
      "metadata": {
        "id": "7Wbtv7M4_aj2"
      },
      "outputs": [],
      "source": [
        "pip install cryptography"
      ]
    },
    {
      "cell_type": "code",
      "source": [
        "from cryptography.hazmat.backends import default_backend\n",
        "from cryptography.hazmat.primitives.ciphers import Cipher, algorithms, modes\n",
        "import os\n",
        "\n",
        "def encrypt_aes_gcm(plaintext, key):\n",
        "    # Generate a random 96-bit (12 bytes) nonce\n",
        "    nonce = os.urandom(12)\n",
        "\n",
        "    # Create a Cipher object using AES algorithm in GCM mode\n",
        "    cipher = Cipher(algorithms.AES(key), modes.GCM(nonce), backend=default_backend())\n",
        "    encryptor = cipher.encryptor()\n",
        "\n",
        "    # Encrypt the plaintext\n",
        "    ciphertext = encryptor.update(plaintext.encode()) + encryptor.finalize()\n",
        "\n",
        "    # Return the nonce and ciphertext for decryption later\n",
        "    return nonce, ciphertext, encryptor.tag\n",
        "\n",
        "def decrypt_aes_gcm(nonce, ciphertext, key, tag):\n",
        "    # Create a Cipher object using AES algorithm in GCM mode with the same nonce\n",
        "    cipher = Cipher(algorithms.AES(key), modes.GCM(nonce, tag), backend=default_backend())\n",
        "    decryptor = cipher.decryptor()\n",
        "\n",
        "    # Decrypt the ciphertext\n",
        "    plaintext = decryptor.update(ciphertext) + decryptor.finalize()\n",
        "\n",
        "    return plaintext.decode()\n",
        "\n",
        "# Example usage\n",
        "if __name__ == \"__main__\":\n",
        "    # Generate a random 256-bit (32 bytes) key\n",
        "    key = os.urandom(32)\n",
        "\n",
        "    # Define the plaintext message\n",
        "    plaintext = \"This is a secret message.\"\n",
        "\n",
        "    # Encrypt the message\n",
        "    nonce, ciphertext, tag = encrypt_aes_gcm(plaintext, key)\n",
        "\n",
        "    print(f\"Nonce: {nonce.hex()}\")\n",
        "    print(f\"Ciphertext: {ciphertext.hex()}\")\n",
        "\n",
        "    # Decrypt the message\n",
        "    decrypted_message = decrypt_aes_gcm(nonce, ciphertext, key, tag)\n",
        "\n",
        "    print(f\"Decrypted Message: {decrypted_message}\")"
      ],
      "metadata": {
        "id": "eSR0q2Gi_hLA"
      },
      "execution_count": null,
      "outputs": []
    }
  ]
}