{
  "nbformat": 4,
  "nbformat_minor": 0,
  "metadata": {
    "colab": {
      "private_outputs": true,
      "provenance": [],
      "authorship_tag": "ABX9TyN0XE8q52c7kvit3ABBlmuP",
      "include_colab_link": true
    },
    "kernelspec": {
      "name": "python3",
      "display_name": "Python 3"
    },
    "language_info": {
      "name": "python"
    }
  },
  "cells": [
    {
      "cell_type": "markdown",
      "metadata": {
        "id": "view-in-github",
        "colab_type": "text"
      },
      "source": [
        "<a href=\"https://colab.research.google.com/github/OneFineStarstuff/OneFineStarstuff/blob/main/Implementing_Mixed_Precision_Training_with_AMP.ipynb\" target=\"_parent\"><img src=\"https://colab.research.google.com/assets/colab-badge.svg\" alt=\"Open In Colab\"/></a>"
      ]
    },
    {
      "cell_type": "code",
      "execution_count": null,
      "metadata": {
        "id": "HbzOpybYCnD5"
      },
      "outputs": [],
      "source": [
        "import torch\n",
        "import torch.nn as nn\n",
        "import torch.optim as optim\n",
        "from torchvision import datasets, transforms\n",
        "from torch.utils.data import DataLoader\n",
        "\n",
        "# Device configuration\n",
        "device = torch.device(\"cuda\" if torch.cuda.is_available() else \"cpu\")\n",
        "\n",
        "# Assuming you have a Generator and Discriminator model defined\n",
        "class Generator(nn.Module):\n",
        "    def __init__(self):\n",
        "        super(Generator, self).__init__()\n",
        "        self.fc = nn.Linear(100, 784)\n",
        "\n",
        "    def forward(self, x):\n",
        "        return torch.tanh(self.fc(x))\n",
        "\n",
        "class Discriminator(nn.Module):\n",
        "    def __init__(self):\n",
        "        super(Discriminator, self).__init__()\n",
        "        self.fc = nn.Linear(784, 1)\n",
        "\n",
        "    def forward(self, x):\n",
        "        return torch.sigmoid(self.fc(x))\n",
        "\n",
        "# Initialize models\n",
        "generator = Generator().to(device)\n",
        "discriminator = Discriminator().to(device)\n",
        "\n",
        "# Loss function and optimizer\n",
        "criterion = nn.BCELoss()\n",
        "optimizer_G = optim.Adam(generator.parameters(), lr=0.001)\n",
        "optimizer_D = optim.Adam(discriminator.parameters(), lr=0.001)\n",
        "\n",
        "# Transform and DataLoader\n",
        "transform = transforms.Compose([\n",
        "    transforms.ToTensor(),\n",
        "    transforms.Normalize((0.5,), (0.5,))\n",
        "])\n",
        "\n",
        "train_dataset = datasets.MNIST(root='./data', train=True, transform=transform, download=True)\n",
        "train_loader = DataLoader(train_dataset, batch_size=64, shuffle=True)\n",
        "\n",
        "# GradScaler for mixed precision\n",
        "scaler = torch.amp.GradScaler(enabled=torch.cuda.is_available())\n",
        "\n",
        "# Training loop with mixed precision\n",
        "n_epochs = 10\n",
        "for epoch in range(n_epochs):\n",
        "    for real_data, _ in train_loader:\n",
        "        real_data = real_data.view(real_data.size(0), -1).to(device)\n",
        "        batch_size = real_data.size(0)\n",
        "        noise = torch.randn(batch_size, 100).to(device)\n",
        "        real_labels = torch.ones(batch_size, 1).to(device)\n",
        "        fake_labels = torch.zeros(batch_size, 1).to(device)\n",
        "\n",
        "        # Train Discriminator\n",
        "        with torch.amp.autocast(device_type='cuda', enabled=torch.cuda.is_available()):\n",
        "            fake_data = generator(noise)\n",
        "            real_loss = criterion(discriminator(real_data), real_labels)\n",
        "            fake_loss = criterion(discriminator(fake_data.detach()), fake_labels)\n",
        "            d_loss = real_loss + fake_loss\n",
        "\n",
        "        scaler.scale(d_loss).backward()\n",
        "        scaler.step(optimizer_D)\n",
        "        scaler.update()\n",
        "        optimizer_D.zero_grad()\n",
        "\n",
        "        # Train Generator\n",
        "        with torch.amp.autocast(device_type='cuda', enabled=torch.cuda.is_available()):\n",
        "            fake_data = generator(noise)\n",
        "            g_loss = criterion(discriminator(fake_data), real_labels)\n",
        "\n",
        "        scaler.scale(g_loss).backward()\n",
        "        scaler.step(optimizer_G)\n",
        "        scaler.update()\n",
        "        optimizer_G.zero_grad()\n",
        "\n",
        "    print(f\"Epoch [{epoch}/{n_epochs}]  Loss D: {d_loss.item()}, loss G: {g_loss.item()}\")\n",
        "\n",
        "print(\"Training completed!\")"
      ]
    }
  ]
}