{
  "nbformat": 4,
  "nbformat_minor": 0,
  "metadata": {
    "colab": {
      "private_outputs": true,
      "provenance": [],
      "authorship_tag": "ABX9TyOwfJycYcpP4JoeVsxQn3NJ",
      "include_colab_link": true
    },
    "kernelspec": {
      "name": "python3",
      "display_name": "Python 3"
    },
    "language_info": {
      "name": "python"
    }
  },
  "cells": [
    {
      "cell_type": "markdown",
      "metadata": {
        "id": "view-in-github",
        "colab_type": "text"
      },
      "source": [
        "<a href=\"https://colab.research.google.com/github/OneFineStarstuff/OneFineStardust/blob/main/Slack_Notifications.ipynb\" target=\"_parent\"><img src=\"https://colab.research.google.com/assets/colab-badge.svg\" alt=\"Open In Colab\"/></a>"
      ]
    },
    {
      "cell_type": "code",
      "execution_count": null,
      "metadata": {
        "id": "Jf8HKp7W9rkf"
      },
      "outputs": [],
      "source": [
        "import requests\n",
        "\n",
        "def send_slack_notification(message, webhook_url):\n",
        "    payload = {\"text\": message}\n",
        "    response = requests.post(webhook_url, json=payload)\n",
        "    return response.status_code\n",
        "\n",
        "# Example usage\n",
        "webhook_url = \"YOUR_SLACK_WEBHOOK_URL\"\n",
        "message = \"Drift detected in the model. Immediate action required.\"\n",
        "send_slack_notification(message, webhook_url)"
      ]
    }
  ]
}