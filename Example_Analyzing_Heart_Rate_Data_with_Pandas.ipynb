{
  "nbformat": 4,
  "nbformat_minor": 0,
  "metadata": {
    "colab": {
      "private_outputs": true,
      "provenance": [],
      "authorship_tag": "ABX9TyObLTcrl4M41/ly/IGO/ejv",
      "include_colab_link": true
    },
    "kernelspec": {
      "name": "python3",
      "display_name": "Python 3"
    },
    "language_info": {
      "name": "python"
    }
  },
  "cells": [
    {
      "cell_type": "markdown",
      "metadata": {
        "id": "view-in-github",
        "colab_type": "text"
      },
      "source": [
        "<a href=\"https://colab.research.google.com/github/OneFineStarstuff/OneFineStardust/blob/main/Example_Analyzing_Heart_Rate_Data_with_Pandas.ipynb\" target=\"_parent\"><img src=\"https://colab.research.google.com/assets/colab-badge.svg\" alt=\"Open In Colab\"/></a>"
      ]
    },
    {
      "cell_type": "code",
      "execution_count": null,
      "metadata": {
        "id": "pHy7iWErUo1y"
      },
      "outputs": [],
      "source": [
        "import pandas as pd\n",
        "import matplotlib.pyplot as plt\n",
        "\n",
        "# Simulated heart rate data (bpm) over time\n",
        "data = {'Time': pd.date_range(start='2023-01-01', periods=10, freq='H'),\n",
        "        'Heart Rate': [72, 75, 78, 80, 76, 74, 73, 77, 81, 79]}\n",
        "df_hr = pd.DataFrame(data)\n",
        "\n",
        "# Calculate average heart rate\n",
        "average_hr = df_hr['Heart Rate'].mean()\n",
        "print(f'Average Heart Rate: {average_hr:.2f} bpm')\n",
        "\n",
        "# Plotting heart rate data\n",
        "df_hr.plot(x='Time', y='Heart Rate', marker='o')\n",
        "plt.title('Heart Rate Monitoring')\n",
        "plt.xlabel('Time')\n",
        "plt.ylabel('Heart Rate (bpm)')\n",
        "plt.grid(True)\n",
        "plt.show()"
      ]
    }
  ]
}