{
  "nbformat": 4,
  "nbformat_minor": 0,
  "metadata": {
    "colab": {
      "private_outputs": true,
      "provenance": [],
      "authorship_tag": "ABX9TyM0lSPh5zdH6O7Jry50JyRs",
      "include_colab_link": true
    },
    "kernelspec": {
      "name": "python3",
      "display_name": "Python 3"
    },
    "language_info": {
      "name": "python"
    }
  },
  "cells": [
    {
      "cell_type": "markdown",
      "metadata": {
        "id": "view-in-github",
        "colab_type": "text"
      },
      "source": [
        "<a href=\"https://colab.research.google.com/github/OneFineStarstuff/OneFineStarstuff/blob/main/Example_using_a_simple_autoencoder_in_PyTorch.ipynb\" target=\"_parent\"><img src=\"https://colab.research.google.com/assets/colab-badge.svg\" alt=\"Open In Colab\"/></a>"
      ]
    },
    {
      "cell_type": "code",
      "execution_count": null,
      "metadata": {
        "id": "FpR8-oX5y32w"
      },
      "outputs": [],
      "source": [
        "import torch\n",
        "import torch.nn as nn\n",
        "import torch.optim as optim\n",
        "\n",
        "# Define a simple autoencoder model\n",
        "class Autoencoder(nn.Module):\n",
        "    def __init__(self):\n",
        "        super(Autoencoder, self).__init__()\n",
        "        self.encoder = nn.Sequential(\n",
        "            nn.Linear(100, 64),\n",
        "            nn.ReLU(),\n",
        "            nn.Linear(64, 32),\n",
        "            nn.ReLU(),\n",
        "            nn.Linear(32, 16)\n",
        "        )\n",
        "        self.decoder = nn.Sequential(\n",
        "            nn.Linear(16, 32),\n",
        "            nn.ReLU(),\n",
        "            nn.Linear(32, 64),\n",
        "            nn.ReLU(),\n",
        "            nn.Linear(64, 100),\n",
        "            nn.Sigmoid()\n",
        "        )\n",
        "\n",
        "    def forward(self, x):\n",
        "        x = self.encoder(x)\n",
        "        x = self.decoder(x)\n",
        "        return x\n",
        "\n",
        "# Function to detect anomaly\n",
        "def detect_anomaly(model, data, threshold=0.01):\n",
        "    model.eval()\n",
        "    with torch.no_grad():\n",
        "        reconstructions = model(data)\n",
        "        loss = torch.mean((data - reconstructions) ** 2, dim=1)\n",
        "        anomalies = loss > threshold\n",
        "    return anomalies\n",
        "\n",
        "# Simulated sensor data\n",
        "sensor_data = torch.randn(10, 100)\n",
        "\n",
        "# Load pre-trained model (replace with your actual model loading code)\n",
        "model = Autoencoder()\n",
        "# model.load_state_dict(torch.load('path_to_pretrained_model.pth'))\n",
        "\n",
        "# Detect anomaly in sensor data\n",
        "anomalies = detect_anomaly(model, sensor_data)\n",
        "print(\"Anomaly Detected:\", anomalies)"
      ]
    }
  ]
}