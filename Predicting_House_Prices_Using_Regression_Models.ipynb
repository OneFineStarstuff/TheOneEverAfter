{
  "nbformat": 4,
  "nbformat_minor": 0,
  "metadata": {
    "colab": {
      "private_outputs": true,
      "provenance": [],
      "authorship_tag": "ABX9TyOt4KqpRlGeAi+zVE+FSYEv",
      "include_colab_link": true
    },
    "kernelspec": {
      "name": "python3",
      "display_name": "Python 3"
    },
    "language_info": {
      "name": "python"
    }
  },
  "cells": [
    {
      "cell_type": "markdown",
      "metadata": {
        "id": "view-in-github",
        "colab_type": "text"
      },
      "source": [
        "<a href=\"https://colab.research.google.com/github/OneFineStarstuff/OneFineStardust/blob/main/Predicting_House_Prices_Using_Regression_Models.ipynb\" target=\"_parent\"><img src=\"https://colab.research.google.com/assets/colab-badge.svg\" alt=\"Open In Colab\"/></a>"
      ]
    },
    {
      "cell_type": "code",
      "execution_count": null,
      "metadata": {
        "id": "NWw4E9dSWKYL"
      },
      "outputs": [],
      "source": [
        "import pandas as pd\n",
        "from sklearn.model_selection import train_test_split\n",
        "from sklearn.linear_model import LinearRegression\n",
        "\n",
        "# Load housing data\n",
        "data=pd.read_csv('housing_data.csv')\n",
        "\n",
        "# Prepare features and target variable\n",
        "X=data[['size','bedrooms','location']]\n",
        "y=data['price']\n",
        "\n",
        "# Split dataset into training and testing sets\n",
        "X_train,X_test,y_train,y_test=train_test_split(X,y,test_size=0.2)\n",
        "\n",
        "# Train linear regression model\n",
        "model=LinearRegression()\n",
        "model.fit(X_train,y_train)\n",
        "\n",
        "# Evaluate model performance\n",
        "accuracy=model.score(X_test,y_test)\n",
        "print(f'Model Accuracy: {accuracy:.2f}')"
      ]
    }
  ]
}