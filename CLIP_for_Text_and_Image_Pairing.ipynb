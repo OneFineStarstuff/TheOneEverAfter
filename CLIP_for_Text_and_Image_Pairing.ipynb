{
  "nbformat": 4,
  "nbformat_minor": 0,
  "metadata": {
    "colab": {
      "private_outputs": true,
      "provenance": [],
      "authorship_tag": "ABX9TyNTDvwTCPxoq4V9g5mczOR5",
      "include_colab_link": true
    },
    "kernelspec": {
      "name": "python3",
      "display_name": "Python 3"
    },
    "language_info": {
      "name": "python"
    }
  },
  "cells": [
    {
      "cell_type": "markdown",
      "metadata": {
        "id": "view-in-github",
        "colab_type": "text"
      },
      "source": [
        "<a href=\"https://colab.research.google.com/github/OneFineStarstuff/OneFineStarstuff/blob/main/CLIP_for_Text_and_Image_Pairing.ipynb\" target=\"_parent\"><img src=\"https://colab.research.google.com/assets/colab-badge.svg\" alt=\"Open In Colab\"/></a>"
      ]
    },
    {
      "cell_type": "code",
      "execution_count": null,
      "metadata": {
        "id": "U4cRqGVnMDES"
      },
      "outputs": [],
      "source": [
        "from transformers import CLIPProcessor, CLIPModel\n",
        "from PIL import Image\n",
        "import requests\n",
        "from io import BytesIO\n",
        "import torch\n",
        "\n",
        "# Initialize the CLIP model and processor\n",
        "model = CLIPModel.from_pretrained(\"openai/clip-vit-base-patch32\")\n",
        "processor = CLIPProcessor.from_pretrained(\"openai/clip-vit-base-patch32\")\n",
        "\n",
        "# Example URLs for images from a reliable source\n",
        "image_urls = [\n",
        "    \"https://picsum.photos/200/300\",\n",
        "    \"https://picsum.photos/200/300?grayscale\",\n",
        "    \"https://picsum.photos/200/300/?blur\"\n",
        "]\n",
        "\n",
        "# Load images from URLs\n",
        "image_batch = []\n",
        "for url in image_urls:\n",
        "    response = requests.get(url)\n",
        "    img = Image.open(BytesIO(response.content)).convert(\"RGB\")\n",
        "    image_batch.append(img)\n",
        "\n",
        "# Process the inputs\n",
        "inputs = processor(text=\"a dog in a park\", images=image_batch, return_tensors=\"pt\", padding=True)\n",
        "\n",
        "# Get the model's output\n",
        "outputs = model(**inputs)\n",
        "\n",
        "# Extract the logits for image-text similarity\n",
        "logits_per_image = outputs.logits_per_image\n",
        "\n",
        "# Find the index of the best matching image\n",
        "matched_image_index = torch.argmax(logits_per_image).item()\n",
        "\n",
        "# Print the index of the matched image\n",
        "print(\"Matched image index:\", matched_image_index)"
      ]
    }
  ]
}