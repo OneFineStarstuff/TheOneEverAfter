{
  "nbformat": 4,
  "nbformat_minor": 0,
  "metadata": {
    "colab": {
      "private_outputs": true,
      "provenance": [],
      "authorship_tag": "ABX9TyO2FlXixycOEG79PEFN4ydM",
      "include_colab_link": true
    },
    "kernelspec": {
      "name": "python3",
      "display_name": "Python 3"
    },
    "language_info": {
      "name": "python"
    }
  },
  "cells": [
    {
      "cell_type": "markdown",
      "metadata": {
        "id": "view-in-github",
        "colab_type": "text"
      },
      "source": [
        "<a href=\"https://colab.research.google.com/github/OneFineStarstuff/OneFineStarstuff/blob/main/Example_Solving_an_ordinary_differential_equation_(ODE).ipynb\" target=\"_parent\"><img src=\"https://colab.research.google.com/assets/colab-badge.svg\" alt=\"Open In Colab\"/></a>"
      ]
    },
    {
      "cell_type": "code",
      "execution_count": null,
      "metadata": {
        "id": "6KojSOr_VayX"
      },
      "outputs": [],
      "source": [
        "import numpy as np\n",
        "from scipy.integrate import odeint\n",
        "import matplotlib.pyplot as plt\n",
        "\n",
        "# Define the differential equation dy/dt = -2y + 3\n",
        "def model(y, t):\n",
        "    dydt = -2 * y + 3\n",
        "    return dydt\n",
        "\n",
        "# Initial condition\n",
        "y0 = 0\n",
        "\n",
        "# Time points where solution is computed\n",
        "t = np.linspace(0, 10, 100)\n",
        "\n",
        "# Solve ODE\n",
        "solution = odeint(model, y0, t)\n",
        "\n",
        "# Plotting the solution\n",
        "plt.plot(t, solution)\n",
        "plt.xlabel('Time')\n",
        "plt.ylabel('Y(t)')\n",
        "plt.title('Solution of ODE: dy/dt = -2y + 3')\n",
        "plt.grid(True)\n",
        "plt.show()"
      ]
    }
  ]
}