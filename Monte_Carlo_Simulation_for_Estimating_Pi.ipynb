{
  "nbformat": 4,
  "nbformat_minor": 0,
  "metadata": {
    "colab": {
      "private_outputs": true,
      "provenance": [],
      "authorship_tag": "ABX9TyPlNV97zE3OpQswVNXZ89k7",
      "include_colab_link": true
    },
    "kernelspec": {
      "name": "python3",
      "display_name": "Python 3"
    },
    "language_info": {
      "name": "python"
    }
  },
  "cells": [
    {
      "cell_type": "markdown",
      "metadata": {
        "id": "view-in-github",
        "colab_type": "text"
      },
      "source": [
        "<a href=\"https://colab.research.google.com/github/OneFineStarstuff/OneFineStardust/blob/main/Monte_Carlo_Simulation_for_Estimating_Pi.ipynb\" target=\"_parent\"><img src=\"https://colab.research.google.com/assets/colab-badge.svg\" alt=\"Open In Colab\"/></a>"
      ]
    },
    {
      "cell_type": "code",
      "execution_count": null,
      "metadata": {
        "id": "wBvtsg4SuGAW"
      },
      "outputs": [],
      "source": [
        "import numpy as np\n",
        "\n",
        "# Number of random points to generate\n",
        "N = 1000000\n",
        "\n",
        "# Generate random points in the unit square [0,1) x [0,1)\n",
        "x_random = np.random.rand(N)\n",
        "y_random = np.random.rand(N)\n",
        "\n",
        "# Calculate distance from origin and count points inside the unit circle\n",
        "inside_circle = (x_random**2 + y_random**2) <= 1\n",
        "pi_estimate = (np.sum(inside_circle) / N) * 4\n",
        "\n",
        "print(f'Estimated value of π: {pi_estimate}')"
      ]
    }
  ]
}