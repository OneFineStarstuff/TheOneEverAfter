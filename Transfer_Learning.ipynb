{
  "nbformat": 4,
  "nbformat_minor": 0,
  "metadata": {
    "colab": {
      "private_outputs": true,
      "provenance": [],
      "authorship_tag": "ABX9TyNL/VrPXTt6juNJrLGEfUlj",
      "include_colab_link": true
    },
    "kernelspec": {
      "name": "python3",
      "display_name": "Python 3"
    },
    "language_info": {
      "name": "python"
    }
  },
  "cells": [
    {
      "cell_type": "markdown",
      "metadata": {
        "id": "view-in-github",
        "colab_type": "text"
      },
      "source": [
        "<a href=\"https://colab.research.google.com/github/OneFineStarstuff/OneFineStardust/blob/main/Transfer_Learning.ipynb\" target=\"_parent\"><img src=\"https://colab.research.google.com/assets/colab-badge.svg\" alt=\"Open In Colab\"/></a>"
      ]
    },
    {
      "cell_type": "code",
      "execution_count": null,
      "metadata": {
        "id": "qLuBP2RlGsh3"
      },
      "outputs": [],
      "source": [
        "import numpy as np\n",
        "import tensorflow as tf\n",
        "from tensorflow.keras.datasets import mnist\n",
        "from tensorflow.keras import layers, models, regularizers\n",
        "from tensorflow.keras.preprocessing.image import ImageDataGenerator\n",
        "from tensorflow.keras.applications import VGG16\n",
        "\n",
        "# Load the MNIST dataset\n",
        "(x_train, y_train), (x_test, y_test) = mnist.load_data()\n",
        "\n",
        "# Normalize the images to values between 0 and 1\n",
        "x_train = x_train.astype('float32') / 255\n",
        "x_test = x_test.astype('float32') / 255\n",
        "\n",
        "# Reshape data to fit model input shape (28, 28, 1)\n",
        "x_train_cnn = x_train.reshape((60000, 28, 28, 1))\n",
        "x_test_cnn = x_test.reshape((10000, 28, 28, 1))\n",
        "\n",
        "# Create an instance of ImageDataGenerator with augmentation options\n",
        "datagen = ImageDataGenerator(\n",
        "    rotation_range=10,\n",
        "    width_shift_range=0.1,\n",
        "    height_shift_range=0.1,\n",
        "    zoom_range=0.1,\n",
        "    horizontal_flip=False\n",
        ")\n",
        "datagen.fit(x_train_cnn)\n",
        "\n",
        "# Create a validation set from the training data\n",
        "x_train_cnn, x_val_cnn = x_train_cnn[:-12000], x_train_cnn[-12000:]\n",
        "y_train, y_val = y_train[:-12000], y_train[-12000:]\n",
        "\n",
        "# Load a pre-trained VGG16 model without the top layer (the classification part)\n",
        "base_model = VGG16(weights='imagenet', include_top=False, input_shape=(224, 224, 3))\n",
        "\n",
        "# Freeze the layers of the base model\n",
        "for layer in base_model.layers:\n",
        "    layer.trainable = False\n",
        "\n",
        "# Create a new model on top of the base model\n",
        "model_transfer = models.Sequential()\n",
        "model_transfer.add(layers.UpSampling2D(size=(8, 8), input_shape=(28, 28, 1)))  # Resizing input to match VGG16\n",
        "model_transfer.add(layers.Conv2D(3, (3, 3), padding='same'))  # Matching channel number to 3\n",
        "model_transfer.add(base_model)\n",
        "model_transfer.add(layers.Flatten())\n",
        "model_transfer.add(layers.Dense(256, activation='relu'))\n",
        "model_transfer.add(layers.Dense(10, activation='softmax'))\n",
        "\n",
        "# Compile and train the new model\n",
        "model_transfer.compile(optimizer='adam', loss='sparse_categorical_crossentropy', metrics=['accuracy'])\n",
        "model_transfer.fit(x_train_cnn, y_train, epochs=5, validation_data=(x_val_cnn, y_val))\n",
        "\n",
        "# Evaluate the model\n",
        "test_loss_transfer, test_acc_transfer = model_transfer.evaluate(x_test_cnn, y_test)\n",
        "print(f'Test accuracy: {test_acc_transfer}')"
      ]
    }
  ]
}