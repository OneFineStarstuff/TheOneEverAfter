{
  "nbformat": 4,
  "nbformat_minor": 0,
  "metadata": {
    "colab": {
      "private_outputs": true,
      "provenance": [],
      "authorship_tag": "ABX9TyNAQW6ky3w6yPO6VH/JWD9g",
      "include_colab_link": true
    },
    "kernelspec": {
      "name": "python3",
      "display_name": "Python 3"
    },
    "language_info": {
      "name": "python"
    }
  },
  "cells": [
    {
      "cell_type": "markdown",
      "metadata": {
        "id": "view-in-github",
        "colab_type": "text"
      },
      "source": [
        "<a href=\"https://colab.research.google.com/github/OneFineStarstuff/OneFineStardust/blob/main/Example_Data_Processing_at_the_Edge.ipynb\" target=\"_parent\"><img src=\"https://colab.research.google.com/assets/colab-badge.svg\" alt=\"Open In Colab\"/></a>"
      ]
    },
    {
      "cell_type": "code",
      "execution_count": null,
      "metadata": {
        "id": "YfKUx53ObFDw"
      },
      "outputs": [],
      "source": [
        "import random\n",
        "\n",
        "def process_sensor_data(data):\n",
        "    # Simulate processing of sensor data\n",
        "    return sum(data) / len(data)\n",
        "\n",
        "# Simulating edge device collecting temperature readings\n",
        "temperature_data = [random.uniform(20.0, 30.0) for _ in range(10)]\n",
        "average_temperature = process_sensor_data(temperature_data)\n",
        "\n",
        "print(f'Average Temperature: {average_temperature:.2f} °C')"
      ]
    }
  ]
}