{
  "nbformat": 4,
  "nbformat_minor": 0,
  "metadata": {
    "colab": {
      "private_outputs": true,
      "provenance": [],
      "authorship_tag": "ABX9TyPiZo6YMUmhQ0d03wItxr30",
      "include_colab_link": true
    },
    "kernelspec": {
      "name": "python3",
      "display_name": "Python 3"
    },
    "language_info": {
      "name": "python"
    }
  },
  "cells": [
    {
      "cell_type": "markdown",
      "metadata": {
        "id": "view-in-github",
        "colab_type": "text"
      },
      "source": [
        "<a href=\"https://colab.research.google.com/github/OneFineStarstuff/OneFineStarstuff/blob/main/Example_Analyzing_a_DNA_sequence_and_finding_specific_patterns.ipynb\" target=\"_parent\"><img src=\"https://colab.research.google.com/assets/colab-badge.svg\" alt=\"Open In Colab\"/></a>"
      ]
    },
    {
      "cell_type": "code",
      "source": [
        "pip install Bio"
      ],
      "metadata": {
        "id": "dyqOpTTkY9-U"
      },
      "execution_count": null,
      "outputs": []
    },
    {
      "cell_type": "code",
      "execution_count": null,
      "metadata": {
        "id": "X43J2xw0YziR"
      },
      "outputs": [],
      "source": [
        "from Bio.Seq import Seq\n",
        "\n",
        "# Define a DNA sequence and add trailing 'N' to make up a complete codon\n",
        "dna_seq = Seq(\"ATGCTAGCTAGGCTTAGCTGATCGT\" + 'N' * (3 - len(\"ATGCTAGCTAGGCTTAGCTGATCGT\") % 3))\n",
        "\n",
        "# Translate the DNA sequence to a protein sequence\n",
        "protein_seq = dna_seq.translate()\n",
        "\n",
        "# Find specific patterns (motifs) in the sequence\n",
        "motif = \"AGC\"\n",
        "motif_position = dna_seq.find(motif)\n",
        "\n",
        "print(f\"Protein sequence: {protein_seq}\")\n",
        "print(f\"Motif '{motif}' found at position: {motif_position}\")"
      ]
    }
  ]
}