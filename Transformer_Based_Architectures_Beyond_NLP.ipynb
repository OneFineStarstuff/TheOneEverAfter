{
  "nbformat": 4,
  "nbformat_minor": 0,
  "metadata": {
    "colab": {
      "private_outputs": true,
      "provenance": [],
      "authorship_tag": "ABX9TyMaN6qwoMTFGZhs0weNCJu5",
      "include_colab_link": true
    },
    "kernelspec": {
      "name": "python3",
      "display_name": "Python 3"
    },
    "language_info": {
      "name": "python"
    }
  },
  "cells": [
    {
      "cell_type": "markdown",
      "metadata": {
        "id": "view-in-github",
        "colab_type": "text"
      },
      "source": [
        "<a href=\"https://colab.research.google.com/github/OneFineStarstuff/OneFineStarstuff/blob/main/Transformer_Based_Architectures_Beyond_NLP.ipynb\" target=\"_parent\"><img src=\"https://colab.research.google.com/assets/colab-badge.svg\" alt=\"Open In Colab\"/></a>"
      ]
    },
    {
      "cell_type": "code",
      "execution_count": null,
      "metadata": {
        "id": "FSzPzyB6Emx4"
      },
      "outputs": [],
      "source": [
        "import torch\n",
        "import torch.nn as nn\n",
        "from transformers import ViTModel\n",
        "\n",
        "# Define a simple Vision Transformer\n",
        "class SimpleViT(nn.Module):\n",
        "    def __init__(self):\n",
        "        super(SimpleViT, self).__init__()\n",
        "        self.vit = ViTModel.from_pretrained(\"google/vit-base-patch16-224-in21k\")\n",
        "        self.classifier = nn.Linear(768, 10)  # Assume 10 classes\n",
        "\n",
        "    def forward(self, x):\n",
        "        x = self.vit(x).pooler_output\n",
        "        return self.classifier(x)\n",
        "\n",
        "# Example usage\n",
        "model = SimpleViT()\n",
        "image = torch.randn(1, 3, 224, 224)  # Dummy image\n",
        "output = model(image)\n",
        "print(output)"
      ]
    }
  ]
}