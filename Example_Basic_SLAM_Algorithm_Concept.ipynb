{
  "nbformat": 4,
  "nbformat_minor": 0,
  "metadata": {
    "colab": {
      "private_outputs": true,
      "provenance": [],
      "authorship_tag": "ABX9TyMklQFK0jBiFzAYufdxtqLv",
      "include_colab_link": true
    },
    "kernelspec": {
      "name": "python3",
      "display_name": "Python 3"
    },
    "language_info": {
      "name": "python"
    }
  },
  "cells": [
    {
      "cell_type": "markdown",
      "metadata": {
        "id": "view-in-github",
        "colab_type": "text"
      },
      "source": [
        "<a href=\"https://colab.research.google.com/github/OneFineStarstuff/OneFineStardust/blob/main/Example_Basic_SLAM_Algorithm_Concept.ipynb\" target=\"_parent\"><img src=\"https://colab.research.google.com/assets/colab-badge.svg\" alt=\"Open In Colab\"/></a>"
      ]
    },
    {
      "cell_type": "code",
      "execution_count": null,
      "metadata": {
        "id": "f4fQIE-0gwgc"
      },
      "outputs": [],
      "source": [
        "import numpy as np\n",
        "import matplotlib.pyplot as plt\n",
        "\n",
        "# Simulated robot movement\n",
        "def simulate_robot_movement(steps):\n",
        "    x = 0\n",
        "    y = 0\n",
        "    path = []\n",
        "\n",
        "    for _ in range(steps):\n",
        "        direction = np.random.choice(['N', 'E', 'S', 'W'])\n",
        "        if direction == 'N':\n",
        "            y += 1\n",
        "        elif direction == 'E':\n",
        "            x += 1\n",
        "        elif direction == 'S':\n",
        "            y -= 1\n",
        "        elif direction == 'W':\n",
        "            x -= 1\n",
        "        path.append((x, y))\n",
        "\n",
        "    return path\n",
        "\n",
        "# Simulate movement and plot the path\n",
        "path = simulate_robot_movement(100)\n",
        "x_vals, y_vals = zip(*path)\n",
        "\n",
        "plt.plot(x_vals, y_vals)\n",
        "plt.title('Simulated Robot Path')\n",
        "plt.xlabel('X Position')\n",
        "plt.ylabel('Y Position')\n",
        "plt.grid(True)\n",
        "plt.show()"
      ]
    }
  ]
}