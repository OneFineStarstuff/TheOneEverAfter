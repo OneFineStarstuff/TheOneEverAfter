{
  "nbformat": 4,
  "nbformat_minor": 0,
  "metadata": {
    "colab": {
      "private_outputs": true,
      "provenance": [],
      "authorship_tag": "ABX9TyNrwYgpEU40/3Z2kRFYi0RE",
      "include_colab_link": true
    },
    "kernelspec": {
      "name": "python3",
      "display_name": "Python 3"
    },
    "language_info": {
      "name": "python"
    }
  },
  "cells": [
    {
      "cell_type": "markdown",
      "metadata": {
        "id": "view-in-github",
        "colab_type": "text"
      },
      "source": [
        "<a href=\"https://colab.research.google.com/github/OneFineStarstuff/OneFineStardust/blob/main/Reinforcement_Learning_with_Policy_Gradient_(PPO).ipynb\" target=\"_parent\"><img src=\"https://colab.research.google.com/assets/colab-badge.svg\" alt=\"Open In Colab\"/></a>"
      ]
    },
    {
      "cell_type": "code",
      "execution_count": null,
      "metadata": {
        "id": "7udn6HUq5AgF"
      },
      "outputs": [],
      "source": [
        "import gym\n",
        "import torch\n",
        "import torch.nn as nn\n",
        "import torch.optim as optim\n",
        "import torch.nn.functional as F\n",
        "import numpy as np\n",
        "\n",
        "# Define the neural network policy\n",
        "class PolicyNetwork(nn.Module):\n",
        "    def __init__(self, state_dim, action_dim):\n",
        "        super(PolicyNetwork, self).__init__()\n",
        "        self.fc1 = nn.Linear(state_dim, 128)\n",
        "        self.fc2 = nn.Linear(128, 128)\n",
        "        self.fc3 = nn.Linear(128, action_dim)\n",
        "\n",
        "    def forward(self, x):\n",
        "        x = F.relu(self.fc1(x))\n",
        "        x = F.relu(self.fc2(x))\n",
        "        return F.softmax(self.fc3(x), dim=-1)\n",
        "\n",
        "# Proximal Policy Optimization (PPO) training loop\n",
        "def train_ppo(env, policy, n_steps=1000, gamma=0.99, clip_eps=0.2, lr=1e-3):\n",
        "    optimizer = optim.Adam(policy.parameters(), lr=lr)\n",
        "    state = env.reset()\n",
        "    state = torch.FloatTensor(state).unsqueeze(0).requires_grad_()\n",
        "\n",
        "    for step in range(n_steps):\n",
        "        action_probs = policy(state)\n",
        "\n",
        "        # Debugging print statement to check dimensions\n",
        "        print(f\"action_probs shape: {action_probs.shape}\")\n",
        "\n",
        "        # Ensure action_probs has the correct dimensions for multinomial\n",
        "        if action_probs.dim() == 3:  # If action_probs is 3D, make it 2D\n",
        "            action_probs = action_probs.squeeze(1)\n",
        "\n",
        "        action = action_probs.multinomial(num_samples=1)\n",
        "        next_state, reward, done, _ = env.step(action.item())\n",
        "\n",
        "        # Convert next_state and reward to torch Tensors\n",
        "        next_state = torch.FloatTensor(next_state).unsqueeze(0)\n",
        "        reward = torch.tensor([reward]).float()\n",
        "\n",
        "        # Placeholder old_action_probs - this will need to be defined correctly for a proper PPO implementation\n",
        "        old_action_probs = action_probs.detach()\n",
        "\n",
        "        # Calculate the advantage\n",
        "        td_target = reward + gamma * next_state.max()\n",
        "        advantage = td_target - state.max()\n",
        "\n",
        "        chosen_action_prob = action_probs.gather(1, action).squeeze(1)\n",
        "        old_chosen_action_prob = old_action_probs.gather(1, action).squeeze(1)\n",
        "        ratio = (chosen_action_prob / old_chosen_action_prob)\n",
        "\n",
        "        clip_adv = torch.clamp(ratio, 1 - clip_eps, 1 + clip_eps) * advantage\n",
        "\n",
        "        loss = -(torch.min(ratio * advantage, clip_adv)).mean()\n",
        "        optimizer.zero_grad()\n",
        "        loss.backward()\n",
        "        optimizer.step()\n",
        "\n",
        "        if done:\n",
        "            state = env.reset()\n",
        "            state = torch.FloatTensor(state).unsqueeze(0).requires_grad_()\n",
        "        else:\n",
        "            state = next_state.detach().numpy()\n",
        "            state = torch.FloatTensor(state).unsqueeze(0).requires_grad_()  # Reapply requires_grad_\n",
        "\n",
        "# Example usage with a simple environment\n",
        "env = gym.make(\"CartPole-v1\")\n",
        "policy = PolicyNetwork(env.observation_space.shape[0], env.action_space.n)\n",
        "train_ppo(env, policy)"
      ]
    }
  ]
}