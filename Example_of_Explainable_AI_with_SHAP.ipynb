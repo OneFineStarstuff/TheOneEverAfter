{
  "nbformat": 4,
  "nbformat_minor": 0,
  "metadata": {
    "colab": {
      "private_outputs": true,
      "provenance": [],
      "authorship_tag": "ABX9TyPS3aJ1m7TZPC5h/HGd4HjR",
      "include_colab_link": true
    },
    "kernelspec": {
      "name": "python3",
      "display_name": "Python 3"
    },
    "language_info": {
      "name": "python"
    }
  },
  "cells": [
    {
      "cell_type": "markdown",
      "metadata": {
        "id": "view-in-github",
        "colab_type": "text"
      },
      "source": [
        "<a href=\"https://colab.research.google.com/github/OneFineStarstuff/OneFineStardust/blob/main/Example_of_Explainable_AI_with_SHAP.ipynb\" target=\"_parent\"><img src=\"https://colab.research.google.com/assets/colab-badge.svg\" alt=\"Open In Colab\"/></a>"
      ]
    },
    {
      "cell_type": "code",
      "execution_count": null,
      "metadata": {
        "id": "_slsyTlSQXc-"
      },
      "outputs": [],
      "source": [
        "import shap\n",
        "import torch\n",
        "from torch import nn\n",
        "\n",
        "# Sample model for interpretability\n",
        "model = nn.Sequential(nn.Linear(10, 50), nn.ReLU(), nn.Linear(50, 1))\n",
        "\n",
        "# Sample data\n",
        "data = torch.randn(100, 10)\n",
        "explainer = shap.DeepExplainer(model, data)\n",
        "shap_values = explainer.shap_values(data)\n",
        "\n",
        "# Plot SHAP values for explanation\n",
        "shap.summary_plot(shap_values, data.numpy())"
      ]
    }
  ]
}