{
  "nbformat": 4,
  "nbformat_minor": 0,
  "metadata": {
    "colab": {
      "private_outputs": true,
      "provenance": [],
      "authorship_tag": "ABX9TyOLvl+w4Jg035KgDQeX2CVr",
      "include_colab_link": true
    },
    "kernelspec": {
      "name": "python3",
      "display_name": "Python 3"
    },
    "language_info": {
      "name": "python"
    }
  },
  "cells": [
    {
      "cell_type": "markdown",
      "metadata": {
        "id": "view-in-github",
        "colab_type": "text"
      },
      "source": [
        "<a href=\"https://colab.research.google.com/github/OneFineStarstuff/OneFineStardust/blob/main/Example_Using_SciPy_for_Optimization.ipynb\" target=\"_parent\"><img src=\"https://colab.research.google.com/assets/colab-badge.svg\" alt=\"Open In Colab\"/></a>"
      ]
    },
    {
      "cell_type": "code",
      "execution_count": null,
      "metadata": {
        "id": "J_gnGiq19yRa"
      },
      "outputs": [],
      "source": [
        "from scipy.optimize import minimize\n",
        "\n",
        "# Objective function to minimize\n",
        "def objective_function(x):\n",
        "    return (x - 3)**2\n",
        "\n",
        "# Initial guess\n",
        "x0 = 0\n",
        "\n",
        "# Perform optimization\n",
        "result = minimize(objective_function, x0)\n",
        "\n",
        "print(f'Minimum value found at x = {result.x[0]} with objective value = {result.fun}')"
      ]
    }
  ]
}