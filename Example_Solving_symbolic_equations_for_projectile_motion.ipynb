{
  "nbformat": 4,
  "nbformat_minor": 0,
  "metadata": {
    "colab": {
      "private_outputs": true,
      "provenance": [],
      "authorship_tag": "ABX9TyNU7puLLZtA29PTqKv+AlfG",
      "include_colab_link": true
    },
    "kernelspec": {
      "name": "python3",
      "display_name": "Python 3"
    },
    "language_info": {
      "name": "python"
    }
  },
  "cells": [
    {
      "cell_type": "markdown",
      "metadata": {
        "id": "view-in-github",
        "colab_type": "text"
      },
      "source": [
        "<a href=\"https://colab.research.google.com/github/OneFineStarstuff/OneFineStarstuff/blob/main/Example_Solving_symbolic_equations_for_projectile_motion.ipynb\" target=\"_parent\"><img src=\"https://colab.research.google.com/assets/colab-badge.svg\" alt=\"Open In Colab\"/></a>"
      ]
    },
    {
      "cell_type": "code",
      "execution_count": null,
      "metadata": {
        "id": "Dmjg01hSXFuI"
      },
      "outputs": [],
      "source": [
        "import sympy as sp\n",
        "\n",
        "# Define symbols for time, initial velocity, angle, and gravity\n",
        "t, v0, theta, g = sp.symbols('t v0 theta g')\n",
        "\n",
        "# Define the position equations for a projectile\n",
        "x = v0 * sp.cos(theta) * t\n",
        "y = v0 * sp.sin(theta) * t - (1/2) * g * t**2\n",
        "\n",
        "# Find the time when the projectile hits the ground (y = 0)\n",
        "time_of_flight = sp.solve(y, t)\n",
        "\n",
        "# Find the maximum height (when vertical velocity is zero)\n",
        "vy = sp.diff(y, t)  # Vertical velocity\n",
        "t_max_height = sp.solve(vy, t)\n",
        "max_height = y.subs(t, t_max_height[0])\n",
        "\n",
        "# Display the results\n",
        "print(f'Time of flight: {time_of_flight}')\n",
        "print(f'Maximum height: {max_height}')"
      ]
    }
  ]
}