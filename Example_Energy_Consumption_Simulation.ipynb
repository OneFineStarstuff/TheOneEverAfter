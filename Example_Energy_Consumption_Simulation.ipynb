{
  "nbformat": 4,
  "nbformat_minor": 0,
  "metadata": {
    "colab": {
      "private_outputs": true,
      "provenance": [],
      "authorship_tag": "ABX9TyNyW3bUm1i9RCXXlaEbJS7P",
      "include_colab_link": true
    },
    "kernelspec": {
      "name": "python3",
      "display_name": "Python 3"
    },
    "language_info": {
      "name": "python"
    }
  },
  "cells": [
    {
      "cell_type": "markdown",
      "metadata": {
        "id": "view-in-github",
        "colab_type": "text"
      },
      "source": [
        "<a href=\"https://colab.research.google.com/github/OneFineStarstuff/OneFineStardust/blob/main/Example_Energy_Consumption_Simulation.ipynb\" target=\"_parent\"><img src=\"https://colab.research.google.com/assets/colab-badge.svg\" alt=\"Open In Colab\"/></a>"
      ]
    },
    {
      "cell_type": "code",
      "execution_count": null,
      "metadata": {
        "id": "Sd6pY-Mjwjk-"
      },
      "outputs": [],
      "source": [
        "import numpy as np\n",
        "import matplotlib.pyplot as plt\n",
        "\n",
        "# Simulate energy consumption over time\n",
        "time = np.arange(0, 24, 1)  # Hours in a day\n",
        "energy_consumption = np.random.uniform(50, 150, size=time.shape)\n",
        "\n",
        "# Plotting energy consumption\n",
        "plt.plot(time, energy_consumption)\n",
        "plt.title('Energy Consumption Over a Day')\n",
        "plt.xlabel('Time (Hours)')\n",
        "plt.ylabel('Energy Consumption (kWh)')\n",
        "plt.grid(True)\n",
        "plt.show()"
      ]
    }
  ]
}