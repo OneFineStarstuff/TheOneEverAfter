{
  "nbformat": 4,
  "nbformat_minor": 0,
  "metadata": {
    "colab": {
      "private_outputs": true,
      "provenance": [],
      "authorship_tag": "ABX9TyPsKaf/iuc/me/bxo+XgDK5",
      "include_colab_link": true
    },
    "kernelspec": {
      "name": "python3",
      "display_name": "Python 3"
    },
    "language_info": {
      "name": "python"
    }
  },
  "cells": [
    {
      "cell_type": "markdown",
      "metadata": {
        "id": "view-in-github",
        "colab_type": "text"
      },
      "source": [
        "<a href=\"https://colab.research.google.com/github/OneFineStarstuff/OneFineStarstuff/blob/main/Model_Quantization_for_Reduced_Energy_Usage.ipynb\" target=\"_parent\"><img src=\"https://colab.research.google.com/assets/colab-badge.svg\" alt=\"Open In Colab\"/></a>"
      ]
    },
    {
      "cell_type": "code",
      "execution_count": null,
      "metadata": {
        "id": "AuSqVvgMaq5N"
      },
      "outputs": [],
      "source": [
        "import torch\n",
        "import torch.nn as nn\n",
        "import torch.optim as optim\n",
        "from torch.utils.data import DataLoader, TensorDataset\n",
        "\n",
        "# Define a simple model\n",
        "class MyModel(nn.Module):\n",
        "    def __init__(self):\n",
        "        super(MyModel, self).__init__()\n",
        "        self.fc1 = nn.Linear(784, 128)\n",
        "        self.fc2 = nn.Linear(128, 10)\n",
        "\n",
        "    def forward(self, x):\n",
        "        x = torch.relu(self.fc1(x))\n",
        "        x = self.fc2(x)\n",
        "        return x\n",
        "\n",
        "# Initialize and train your model as before\n",
        "model_fp32 = MyModel()\n",
        "optimizer = optim.Adam(model_fp32.parameters(), lr=0.001)\n",
        "criterion = nn.CrossEntropyLoss()\n",
        "\n",
        "# Dummy data creation\n",
        "X = torch.randn(1000, 784)  # Example data\n",
        "y = torch.randint(0, 10, (1000,))  # Example labels\n",
        "\n",
        "# Split data into DataLoader\n",
        "train_dataset = TensorDataset(X, y)\n",
        "train_loader = DataLoader(train_dataset, batch_size=32, shuffle=True)\n",
        "\n",
        "# Train the model\n",
        "model_fp32.train()\n",
        "for epoch in range(10):  # 10 epochs\n",
        "    for inputs, labels in train_loader:\n",
        "        optimizer.zero_grad()\n",
        "        outputs = model_fp32(inputs)\n",
        "        loss = criterion(outputs, labels)\n",
        "        loss.backward()\n",
        "        optimizer.step()\n",
        "\n",
        "# Set the model to evaluation mode\n",
        "model_fp32.eval()\n",
        "\n",
        "# Fuse modules (if applicable)\n",
        "# This step is essential for certain models like those with Conv2d, BatchNorm2d, ReLU\n",
        "# Not needed for this simple model\n",
        "# model_fp32 = torch.quantization.fuse_modules(model_fp32, [['conv', 'bn', 'relu']])\n",
        "\n",
        "# Prepare the model for quantization\n",
        "model_fp32.qconfig = torch.quantization.default_qconfig\n",
        "torch.quantization.prepare(model_fp32, inplace=True)\n",
        "\n",
        "# Calibration step (using some sample data)\n",
        "with torch.no_grad():\n",
        "    for inputs, _ in train_loader:\n",
        "        model_fp32(inputs)\n",
        "\n",
        "# Convert the model to quantized version\n",
        "model_int8 = torch.quantization.convert(model_fp32, inplace=True)\n",
        "\n",
        "# Check the quantized model\n",
        "print(model_int8)"
      ]
    }
  ]
}