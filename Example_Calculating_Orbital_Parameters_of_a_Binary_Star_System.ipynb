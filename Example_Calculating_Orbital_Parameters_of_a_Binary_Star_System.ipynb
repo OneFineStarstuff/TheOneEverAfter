{
  "nbformat": 4,
  "nbformat_minor": 0,
  "metadata": {
    "colab": {
      "private_outputs": true,
      "provenance": [],
      "authorship_tag": "ABX9TyNV4l6InUDCf2aUN8llSuYB",
      "include_colab_link": true
    },
    "kernelspec": {
      "name": "python3",
      "display_name": "Python 3"
    },
    "language_info": {
      "name": "python"
    }
  },
  "cells": [
    {
      "cell_type": "markdown",
      "metadata": {
        "id": "view-in-github",
        "colab_type": "text"
      },
      "source": [
        "<a href=\"https://colab.research.google.com/github/OneFineStarstuff/OneFineStarstuff/blob/main/Example_Calculating_Orbital_Parameters_of_a_Binary_Star_System.ipynb\" target=\"_parent\"><img src=\"https://colab.research.google.com/assets/colab-badge.svg\" alt=\"Open In Colab\"/></a>"
      ]
    },
    {
      "cell_type": "code",
      "execution_count": null,
      "metadata": {
        "id": "GCB-JcjnYzXu"
      },
      "outputs": [],
      "source": [
        "import numpy as np\n",
        "from astropy.constants import G, M_sun\n",
        "from astropy import units as u\n",
        "\n",
        "# Define the masses of the stars (in solar masses) and separation (in AU)\n",
        "m1 = 1 * M_sun  # Mass of first star\n",
        "m2 = 0.5 * M_sun  # Mass of second star\n",
        "separation = 1 * u.AU  # Separation between the stars\n",
        "\n",
        "# Calculate the orbital period using Kepler's third law\n",
        "orbital_period = np.sqrt((4 * np.pi**2 * separation**3) / (G * (m1 + m2))).to(u.year)\n",
        "\n",
        "# Print the results\n",
        "print(f\"Orbital Period: {orbital_period}\")"
      ]
    }
  ]
}