{
  "nbformat": 4,
  "nbformat_minor": 0,
  "metadata": {
    "colab": {
      "private_outputs": true,
      "provenance": [],
      "authorship_tag": "ABX9TyOgd0r8wtJnSyFw1kEe5KL4",
      "include_colab_link": true
    },
    "kernelspec": {
      "name": "python3",
      "display_name": "Python 3"
    },
    "language_info": {
      "name": "python"
    }
  },
  "cells": [
    {
      "cell_type": "markdown",
      "metadata": {
        "id": "view-in-github",
        "colab_type": "text"
      },
      "source": [
        "<a href=\"https://colab.research.google.com/github/OneFineStarstuff/OneFineStardust/blob/main/Example_Agent_Based_Modeling_of_Predator_Prey_Dynamics.ipynb\" target=\"_parent\"><img src=\"https://colab.research.google.com/assets/colab-badge.svg\" alt=\"Open In Colab\"/></a>"
      ]
    },
    {
      "cell_type": "code",
      "execution_count": null,
      "metadata": {
        "id": "T8byBAL2O0qF"
      },
      "outputs": [],
      "source": [
        "import numpy as np\n",
        "import matplotlib.pyplot as plt\n",
        "\n",
        "class PredatorPrey:\n",
        "    def __init__(self):\n",
        "        self.prey_population = 50  # Initial prey population\n",
        "        self.predator_population = 10  # Initial predator population\n",
        "\n",
        "    def update(self):\n",
        "        # Simple model: prey reproduce and predators eat prey\n",
        "        self.prey_population += np.random.poisson(5) - self.predator_population // 2\n",
        "        self.predator_population += np.random.poisson(1) * (self.prey_population // 10) - 1\n",
        "\n",
        "        # Ensure populations are non-negative\n",
        "        self.prey_population = max(self.prey_population, 0)\n",
        "        self.predator_population = max(self.predator_population, 0)\n",
        "\n",
        "# Simulate predator-prey dynamics over time steps\n",
        "model = PredatorPrey()\n",
        "time_steps = 50\n",
        "prey_history = []\n",
        "predator_history = []\n",
        "\n",
        "for _ in range(time_steps):\n",
        "    model.update()\n",
        "    prey_history.append(model.prey_population)\n",
        "    predator_history.append(model.predator_population)\n",
        "\n",
        "# Plotting results\n",
        "plt.plot(prey_history, label='Prey Population')\n",
        "plt.plot(predator_history, label='Predator Population')\n",
        "plt.title('Predator-Prey Dynamics')\n",
        "plt.xlabel('Time Steps')\n",
        "plt.ylabel('Population')\n",
        "plt.legend()\n",
        "plt.grid()\n",
        "plt.show()"
      ]
    }
  ]
}