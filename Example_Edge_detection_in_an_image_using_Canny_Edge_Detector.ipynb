{
  "nbformat": 4,
  "nbformat_minor": 0,
  "metadata": {
    "colab": {
      "private_outputs": true,
      "provenance": [],
      "authorship_tag": "ABX9TyNiu5pnstM5rw6PCf+cRNqa",
      "include_colab_link": true
    },
    "kernelspec": {
      "name": "python3",
      "display_name": "Python 3"
    },
    "language_info": {
      "name": "python"
    }
  },
  "cells": [
    {
      "cell_type": "markdown",
      "metadata": {
        "id": "view-in-github",
        "colab_type": "text"
      },
      "source": [
        "<a href=\"https://colab.research.google.com/github/OneFineStarstuff/OneFineStarstuff/blob/main/Example_Edge_detection_in_an_image_using_Canny_Edge_Detector.ipynb\" target=\"_parent\"><img src=\"https://colab.research.google.com/assets/colab-badge.svg\" alt=\"Open In Colab\"/></a>"
      ]
    },
    {
      "cell_type": "code",
      "execution_count": null,
      "metadata": {
        "id": "oiwDCHbQWAua"
      },
      "outputs": [],
      "source": [
        "import cv2\n",
        "import matplotlib.pyplot as plt\n",
        "\n",
        "# Read an image\n",
        "image = cv2.imread('scientific_image.jpg', cv2.IMREAD_GRAYSCALE)\n",
        "\n",
        "# Check if the image is loaded properly\n",
        "if image is None:\n",
        "    raise FileNotFoundError(\"The image file was not found or could not be loaded.\")\n",
        "\n",
        "# Ensure the image is in the correct data type\n",
        "if image.dtype != np.uint8:\n",
        "    image = image.astype(np.uint8)\n",
        "\n",
        "# Apply Canny edge detection\n",
        "edges = cv2.Canny(image, threshold1=100, threshold2=200)\n",
        "\n",
        "# Show the original image and the edges\n",
        "plt.subplot(121), plt.imshow(image, cmap='gray'), plt.title('Original Image')\n",
        "plt.subplot(122), plt.imshow(edges, cmap='gray'), plt.title('Edge Image')\n",
        "plt.show()"
      ]
    }
  ]
}