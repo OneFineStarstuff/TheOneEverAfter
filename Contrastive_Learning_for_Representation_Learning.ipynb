{
  "nbformat": 4,
  "nbformat_minor": 0,
  "metadata": {
    "colab": {
      "private_outputs": true,
      "provenance": [],
      "authorship_tag": "ABX9TyPee5l30ipTsaDJeefTqaot",
      "include_colab_link": true
    },
    "kernelspec": {
      "name": "python3",
      "display_name": "Python 3"
    },
    "language_info": {
      "name": "python"
    }
  },
  "cells": [
    {
      "cell_type": "markdown",
      "metadata": {
        "id": "view-in-github",
        "colab_type": "text"
      },
      "source": [
        "<a href=\"https://colab.research.google.com/github/OneFineStarstuff/OneFineStarstuff/blob/main/Contrastive_Learning_for_Representation_Learning.ipynb\" target=\"_parent\"><img src=\"https://colab.research.google.com/assets/colab-badge.svg\" alt=\"Open In Colab\"/></a>"
      ]
    },
    {
      "cell_type": "code",
      "execution_count": null,
      "metadata": {
        "id": "aACQ2m8Joomx"
      },
      "outputs": [],
      "source": [
        "import torch\n",
        "import torch.nn.functional as F\n",
        "\n",
        "def contrastive_loss(z_i, z_j, temperature=0.5):\n",
        "    # Normalize embeddings to unit vectors\n",
        "    z_i = F.normalize(z_i, p=2, dim=1)\n",
        "    z_j = F.normalize(z_j, p=2, dim=1)\n",
        "\n",
        "    # Concatenate embeddings\n",
        "    embeddings = torch.cat([z_i, z_j], dim=0)\n",
        "\n",
        "    # Compute similarity matrix\n",
        "    sim_matrix = torch.matmul(embeddings, embeddings.T) / temperature\n",
        "\n",
        "    # Create labels\n",
        "    batch_size = z_i.size(0)\n",
        "    labels = torch.cat([torch.arange(batch_size), torch.arange(batch_size)], dim=0).to(embeddings.device)\n",
        "\n",
        "    # Mask to avoid similarity of embeddings with themselves\n",
        "    mask = torch.eye(labels.size(0), device=embeddings.device).bool()\n",
        "    sim_matrix = sim_matrix.masked_fill(mask, float('-inf'))\n",
        "\n",
        "    # Cross entropy loss\n",
        "    loss = F.cross_entropy(sim_matrix, labels)\n",
        "\n",
        "    return loss\n",
        "\n",
        "# Example usage\n",
        "z_i = torch.randn(32, 128)  # Example embeddings for 32 samples, 128-dimensional\n",
        "z_j = torch.randn(32, 128)\n",
        "\n",
        "loss = contrastive_loss(z_i, z_j)\n",
        "print(f\"Contrastive Loss: {loss.item()}\")"
      ]
    }
  ]
}