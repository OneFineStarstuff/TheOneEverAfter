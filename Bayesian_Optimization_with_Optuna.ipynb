{
  "nbformat": 4,
  "nbformat_minor": 0,
  "metadata": {
    "colab": {
      "private_outputs": true,
      "provenance": [],
      "authorship_tag": "ABX9TyNdW9Lb1QSNLCtX8ajikhgi",
      "include_colab_link": true
    },
    "kernelspec": {
      "name": "python3",
      "display_name": "Python 3"
    },
    "language_info": {
      "name": "python"
    }
  },
  "cells": [
    {
      "cell_type": "markdown",
      "metadata": {
        "id": "view-in-github",
        "colab_type": "text"
      },
      "source": [
        "<a href=\"https://colab.research.google.com/github/OneFineStarstuff/OneFineStarstuff/blob/main/Bayesian_Optimization_with_Optuna.ipynb\" target=\"_parent\"><img src=\"https://colab.research.google.com/assets/colab-badge.svg\" alt=\"Open In Colab\"/></a>"
      ]
    },
    {
      "cell_type": "code",
      "execution_count": null,
      "metadata": {
        "id": "W0VewfCZWV4a"
      },
      "outputs": [],
      "source": [
        "pip install optuna"
      ]
    },
    {
      "cell_type": "code",
      "source": [
        "import torch\n",
        "import torch.nn as nn\n",
        "import torch.optim as optim\n",
        "import optuna\n",
        "\n",
        "# Dummy model creation function\n",
        "def create_model(dropout=0.5):\n",
        "    class SimpleModel(nn.Module):\n",
        "        def __init__(self, dropout):\n",
        "            super(SimpleModel, self).__init__()\n",
        "            self.fc1 = nn.Linear(10, 50)\n",
        "            self.dropout = nn.Dropout(dropout)\n",
        "            self.fc2 = nn.Linear(50, 2)\n",
        "\n",
        "        def forward(self, x):\n",
        "            x = torch.relu(self.fc1(x))\n",
        "            x = self.dropout(x)\n",
        "            x = self.fc2(x)\n",
        "            return x\n",
        "\n",
        "    return SimpleModel(dropout)\n",
        "\n",
        "# Dummy validation function\n",
        "def validate_model(model):\n",
        "    # This is just a placeholder for demonstration purposes\n",
        "    # Replace with your actual validation logic\n",
        "    return torch.randn(1).item()\n",
        "\n",
        "# Objective function for Optuna\n",
        "def objective(trial):\n",
        "    # Suggest hyperparameters for optimization\n",
        "    lr = trial.suggest_float('lr', 1e-5, 1e-1, log=True)\n",
        "    dropout_rate = trial.suggest_float('dropout', 0.1, 0.5)\n",
        "\n",
        "    model = create_model(dropout=dropout_rate)\n",
        "    optimizer = optim.Adam(model.parameters(), lr=lr)\n",
        "\n",
        "    # Run training and return validation loss\n",
        "    return validate_model(model)\n",
        "\n",
        "# Create a study and optimize hyperparameters\n",
        "study = optuna.create_study(direction=\"minimize\")\n",
        "study.optimize(objective, n_trials=50)\n",
        "\n",
        "# Print best hyperparameters\n",
        "print('Best trial:')\n",
        "trial = study.best_trial\n",
        "print(f'  Value: {trial.value}')\n",
        "print('  Params:')\n",
        "for key, value in trial.params.items():\n",
        "    print(f'    {key}: {value}')"
      ],
      "metadata": {
        "id": "NfjGKcNHWozk"
      },
      "execution_count": null,
      "outputs": []
    }
  ]
}