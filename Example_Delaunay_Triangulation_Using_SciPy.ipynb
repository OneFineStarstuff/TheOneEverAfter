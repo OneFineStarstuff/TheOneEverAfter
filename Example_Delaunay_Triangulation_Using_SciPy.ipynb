{
  "nbformat": 4,
  "nbformat_minor": 0,
  "metadata": {
    "colab": {
      "private_outputs": true,
      "provenance": [],
      "authorship_tag": "ABX9TyOgvMJG136jcP1Bj7sY/u1W",
      "include_colab_link": true
    },
    "kernelspec": {
      "name": "python3",
      "display_name": "Python 3"
    },
    "language_info": {
      "name": "python"
    }
  },
  "cells": [
    {
      "cell_type": "markdown",
      "metadata": {
        "id": "view-in-github",
        "colab_type": "text"
      },
      "source": [
        "<a href=\"https://colab.research.google.com/github/OneFineStarstuff/OneFineStardust/blob/main/Example_Delaunay_Triangulation_Using_SciPy.ipynb\" target=\"_parent\"><img src=\"https://colab.research.google.com/assets/colab-badge.svg\" alt=\"Open In Colab\"/></a>"
      ]
    },
    {
      "cell_type": "code",
      "execution_count": null,
      "metadata": {
        "id": "0ufB_4j1Xqbh"
      },
      "outputs": [],
      "source": [
        "import numpy as np\n",
        "import matplotlib.pyplot as plt\n",
        "from scipy.spatial import Delaunay\n",
        "\n",
        "# Generate random points for triangulation\n",
        "points = np.random.rand(30, 2)\n",
        "\n",
        "# Perform Delaunay triangulation\n",
        "triangles = Delaunay(points)\n",
        "\n",
        "# Plotting the results\n",
        "plt.triplot(points[:, 0], points[:, 1], triangles.simplices)\n",
        "plt.plot(points[:, 0], points[:, 1], 'o')\n",
        "plt.title('Delaunay Triangulation')\n",
        "plt.xlabel('X-axis')\n",
        "plt.ylabel('Y-axis')\n",
        "plt.grid()\n",
        "plt.show()"
      ]
    }
  ]
}