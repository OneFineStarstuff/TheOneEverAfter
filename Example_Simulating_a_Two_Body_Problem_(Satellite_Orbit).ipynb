{
  "nbformat": 4,
  "nbformat_minor": 0,
  "metadata": {
    "colab": {
      "private_outputs": true,
      "provenance": [],
      "authorship_tag": "ABX9TyNd6Xujec5MkJO8RKs/k6L4",
      "include_colab_link": true
    },
    "kernelspec": {
      "name": "python3",
      "display_name": "Python 3"
    },
    "language_info": {
      "name": "python"
    }
  },
  "cells": [
    {
      "cell_type": "markdown",
      "metadata": {
        "id": "view-in-github",
        "colab_type": "text"
      },
      "source": [
        "<a href=\"https://colab.research.google.com/github/OneFineStarstuff/OneFineStarstuff/blob/main/Example_Simulating_a_Two_Body_Problem_(Satellite_Orbit).ipynb\" target=\"_parent\"><img src=\"https://colab.research.google.com/assets/colab-badge.svg\" alt=\"Open In Colab\"/></a>"
      ]
    },
    {
      "cell_type": "code",
      "execution_count": null,
      "metadata": {
        "id": "rO9NZjodg8sH"
      },
      "outputs": [],
      "source": [
        "import numpy as np\n",
        "import matplotlib.pyplot as plt\n",
        "\n",
        "# Define constants\n",
        "G = 6.67430e-11  # Gravitational constant (m^3 kg^-1 s^-2)\n",
        "M = 5.972e24  # Mass of Earth (kg)\n",
        "R = 6.371e6  # Radius of Earth (m)\n",
        "\n",
        "# Initial conditions for satellite\n",
        "x0 = R + 35786e3  # Initial position (m) (Geostationary orbit altitude)\n",
        "y0 = 0  # Initial position (m)\n",
        "vx0 = 0  # Initial velocity in x-direction (m/s)\n",
        "vy0 = 3074  # Initial velocity in y-direction (m/s)\n",
        "\n",
        "# Time step and duration\n",
        "dt = 60  # Time step (seconds)\n",
        "T = 86400  # Total simulation time (1 day in seconds)\n",
        "\n",
        "# Initialize arrays for position and velocity\n",
        "x = [x0]\n",
        "y = [y0]\n",
        "vx = [vx0]\n",
        "vy = [vy0]\n",
        "\n",
        "# Function to calculate gravitational force\n",
        "def gravitational_force(x, y):\n",
        "    r = np.sqrt(x**2 + y**2)\n",
        "    F = G * M / r**2\n",
        "    return -F * x / r, -F * y / r\n",
        "\n",
        "# Time loop for simulation\n",
        "for t in range(int(T / dt)):\n",
        "    Fx, Fy = gravitational_force(x[-1], y[-1])\n",
        "    vx_new = vx[-1] + Fx * dt\n",
        "    vy_new = vy[-1] + Fy * dt\n",
        "    x_new = x[-1] + vx_new * dt\n",
        "    y_new = y[-1] + vy_new * dt\n",
        "\n",
        "    x.append(x_new)\n",
        "    y.append(y_new)\n",
        "    vx.append(vx_new)\n",
        "    vy.append(vy_new)\n",
        "\n",
        "# Plot the orbit\n",
        "plt.plot(x, y)\n",
        "plt.title(\"Satellite Orbit Around Earth\")\n",
        "plt.xlabel(\"x-position (m)\")\n",
        "plt.ylabel(\"y-position (m)\")\n",
        "plt.gca().set_aspect('equal', adjustable='box')\n",
        "plt.grid(True)\n",
        "plt.show()"
      ]
    }
  ]
}