{
  "nbformat": 4,
  "nbformat_minor": 0,
  "metadata": {
    "colab": {
      "private_outputs": true,
      "provenance": [],
      "authorship_tag": "ABX9TyO1DMfv6OCRcZ4Lb2gETqA1",
      "include_colab_link": true
    },
    "kernelspec": {
      "name": "python3",
      "display_name": "Python 3"
    },
    "language_info": {
      "name": "python"
    }
  },
  "cells": [
    {
      "cell_type": "markdown",
      "metadata": {
        "id": "view-in-github",
        "colab_type": "text"
      },
      "source": [
        "<a href=\"https://colab.research.google.com/github/OneFineStarstuff/OneFineStarstuff/blob/main/Example_Molecular_Descriptor_Calculation_with_RDKit.ipynb\" target=\"_parent\"><img src=\"https://colab.research.google.com/assets/colab-badge.svg\" alt=\"Open In Colab\"/></a>"
      ]
    },
    {
      "cell_type": "code",
      "source": [
        "pip install rdkit"
      ],
      "metadata": {
        "id": "z_ogMIC_0fN9"
      },
      "execution_count": null,
      "outputs": []
    },
    {
      "cell_type": "code",
      "execution_count": null,
      "metadata": {
        "id": "Q-Tjw9kJ0WKL"
      },
      "outputs": [],
      "source": [
        "from rdkit import Chem\n",
        "from rdkit.Chem import Descriptors\n",
        "\n",
        "# Create a molecule from its SMILES notation\n",
        "mol = Chem.MolFromSmiles('CCO')\n",
        "\n",
        "# Calculate molecular descriptors\n",
        "mol_weight = Descriptors.MolWt(mol)\n",
        "logP = Descriptors.MolLogP(mol)\n",
        "num_rotatable_bonds = Descriptors.NumRotatableBonds(mol)\n",
        "\n",
        "print(f\"Molecular Weight: {mol_weight}\")\n",
        "print(f\"LogP (Partition Coefficient): {logP}\")\n",
        "print(f\"Number of Rotatable Bonds: {num_rotatable_bonds}\")"
      ]
    }
  ]
}