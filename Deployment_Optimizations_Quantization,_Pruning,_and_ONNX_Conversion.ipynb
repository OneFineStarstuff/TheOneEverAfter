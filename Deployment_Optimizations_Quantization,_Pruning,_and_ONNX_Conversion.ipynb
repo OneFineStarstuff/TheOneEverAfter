{
  "nbformat": 4,
  "nbformat_minor": 0,
  "metadata": {
    "colab": {
      "private_outputs": true,
      "provenance": [],
      "authorship_tag": "ABX9TyNnTKmmVCCE+u/s+P9/HTia",
      "include_colab_link": true
    },
    "kernelspec": {
      "name": "python3",
      "display_name": "Python 3"
    },
    "language_info": {
      "name": "python"
    }
  },
  "cells": [
    {
      "cell_type": "markdown",
      "metadata": {
        "id": "view-in-github",
        "colab_type": "text"
      },
      "source": [
        "<a href=\"https://colab.research.google.com/github/OneFineStarstuff/OneFineStarstuff/blob/main/Deployment_Optimizations_Quantization%2C_Pruning%2C_and_ONNX_Conversion.ipynb\" target=\"_parent\"><img src=\"https://colab.research.google.com/assets/colab-badge.svg\" alt=\"Open In Colab\"/></a>"
      ]
    },
    {
      "cell_type": "code",
      "source": [
        "pip install onnx"
      ],
      "metadata": {
        "id": "iUceXYwrnVno"
      },
      "execution_count": null,
      "outputs": []
    },
    {
      "cell_type": "code",
      "source": [
        "import torch\n",
        "import torch.nn as nn\n",
        "import torch.onnx\n",
        "from transformers import AutoModelForCausalLM, AutoTokenizer\n",
        "\n",
        "# Initialize student model and tokenizer\n",
        "student_model = AutoModelForCausalLM.from_pretrained(\"distilgpt2\")\n",
        "\n",
        "# Create a dummy input for the export\n",
        "tokenizer = AutoTokenizer.from_pretrained(\"distilgpt2\")\n",
        "dummy_input = tokenizer(\"This is a dummy input\", return_tensors=\"pt\")\n",
        "\n",
        "# Create a wrapper model to handle input_ids only\n",
        "class WrappedModel(nn.Module):\n",
        "    def __init__(self, model):\n",
        "        super(WrappedModel, self).__init__()\n",
        "        self.model = model\n",
        "\n",
        "    def forward(self, input_ids):\n",
        "        attention_mask = (input_ids != tokenizer.pad_token_id).to(dtype=torch.long) if tokenizer.pad_token_id is not None else torch.ones_like(input_ids)\n",
        "        return self.model(input_ids=input_ids, attention_mask=attention_mask).logits\n",
        "\n",
        "wrapped_model = WrappedModel(student_model)\n",
        "\n",
        "# Export the non-quantized model to ONNX format\n",
        "torch.onnx.export(wrapped_model, dummy_input[\"input_ids\"], \"model.onnx\", export_params=True, input_names=['input_ids'], output_names=['output'], opset_version=14)\n",
        "\n",
        "print(\"Export to ONNX complete!\")"
      ],
      "metadata": {
        "id": "KD5nSz0ymnuT"
      },
      "execution_count": null,
      "outputs": []
    },
    {
      "cell_type": "code",
      "source": [
        "pip install onnxruntime"
      ],
      "metadata": {
        "id": "lcR2gVjjnkt_"
      },
      "execution_count": null,
      "outputs": []
    },
    {
      "cell_type": "code",
      "source": [
        "import onnx\n",
        "import onnxruntime\n",
        "import onnxruntime.quantization as quantization\n",
        "\n",
        "# Load your ONNX model\n",
        "model_path = \"model.onnx\"\n",
        "onnx_model = onnx.load(model_path)\n",
        "\n",
        "# Quantize the model using ONNX Runtime\n",
        "quantized_model_path = \"quantized_model.onnx\"\n",
        "quantization.quantize_dynamic(model_path, quantized_model_path)\n",
        "\n",
        "print(\"Post-training quantization complete!\")"
      ],
      "metadata": {
        "id": "0-rhwYaEnhQb"
      },
      "execution_count": null,
      "outputs": []
    },
    {
      "cell_type": "code",
      "source": [
        "import torch\n",
        "import torch.nn as nn\n",
        "import torch.onnx\n",
        "from transformers import AutoModelForCausalLM, AutoTokenizer\n",
        "\n",
        "# Initialize student model and tokenizer\n",
        "student_model = AutoModelForCausalLM.from_pretrained(\"distilgpt2\")\n",
        "\n",
        "# Create a dummy input for the export\n",
        "tokenizer = AutoTokenizer.from_pretrained(\"distilgpt2\")\n",
        "dummy_input = tokenizer(\"This is a dummy input\", return_tensors=\"pt\")\n",
        "\n",
        "# Create a wrapper model to handle input_ids only\n",
        "class WrappedModel(nn.Module):\n",
        "    def __init__(self, model):\n",
        "        super(WrappedModel, self).__init__()\n",
        "        self.model = model\n",
        "\n",
        "    def forward(self, input_ids):\n",
        "        attention_mask = (input_ids != tokenizer.pad_token_id).to(dtype=torch.long) if tokenizer.pad_token_id is not None else torch.ones_like(input_ids)\n",
        "        return self.model(input_ids=input_ids, attention_mask=attention_mask).logits\n",
        "\n",
        "wrapped_model = WrappedModel(student_model)\n",
        "\n",
        "# Export the non-quantized model to ONNX format\n",
        "torch.onnx.export(wrapped_model, dummy_input[\"input_ids\"], \"model.onnx\", export_params=True, input_names=['input_ids'], output_names=['output'], opset_version=14)\n",
        "\n",
        "print(\"Export to ONNX complete!\")\n",
        "\n",
        "import onnx\n",
        "import onnxruntime\n",
        "import onnxruntime.quantization as quantization\n",
        "\n",
        "# Load your ONNX model\n",
        "model_path = \"model.onnx\"\n",
        "onnx_model = onnx.load(model_path)\n",
        "\n",
        "# Quantize the model using ONNX Runtime\n",
        "quantized_model_path = \"quantized_model.onnx\"\n",
        "quantization.quantize_dynamic(model_path, quantized_model_path)\n",
        "\n",
        "print(\"Post-training quantization complete!\")"
      ],
      "metadata": {
        "id": "FRlb0MU5kxUQ"
      },
      "execution_count": null,
      "outputs": []
    }
  ]
}