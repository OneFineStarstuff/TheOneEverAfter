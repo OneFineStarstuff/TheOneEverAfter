{
  "nbformat": 4,
  "nbformat_minor": 0,
  "metadata": {
    "colab": {
      "private_outputs": true,
      "provenance": [],
      "authorship_tag": "ABX9TyP5lVMb7T8hEZBd2LgE4R2/",
      "include_colab_link": true
    },
    "kernelspec": {
      "name": "python3",
      "display_name": "Python 3"
    },
    "language_info": {
      "name": "python"
    }
  },
  "cells": [
    {
      "cell_type": "markdown",
      "metadata": {
        "id": "view-in-github",
        "colab_type": "text"
      },
      "source": [
        "<a href=\"https://colab.research.google.com/github/OneFineStarstuff/OneFineStarstuff/blob/main/Generative_Adversarial_Networks_(GANs)_for_Synthetic_Data_Creation.ipynb\" target=\"_parent\"><img src=\"https://colab.research.google.com/assets/colab-badge.svg\" alt=\"Open In Colab\"/></a>"
      ]
    },
    {
      "cell_type": "code",
      "execution_count": null,
      "metadata": {
        "id": "zxeFpjp3qxti"
      },
      "outputs": [],
      "source": [
        "import torch\n",
        "import torch.nn as nn\n",
        "import torch.optim as optim\n",
        "\n",
        "# Generator network\n",
        "class Generator(nn.Module):\n",
        "    def __init__(self, input_dim, output_dim):\n",
        "        super(Generator, self).__init__()\n",
        "        self.fc = nn.Sequential(\n",
        "            nn.Linear(input_dim, 128),\n",
        "            nn.ReLU(),\n",
        "            nn.Linear(128, output_dim),\n",
        "            nn.Tanh()\n",
        "        )\n",
        "\n",
        "    def forward(self, x):\n",
        "        return self.fc(x)\n",
        "\n",
        "# Discriminator network\n",
        "class Discriminator(nn.Module):\n",
        "    def __init__(self, input_dim):\n",
        "        super(Discriminator, self).__init__()\n",
        "        self.fc = nn.Sequential(\n",
        "            nn.Linear(input_dim, 128),\n",
        "            nn.ReLU(),\n",
        "            nn.Linear(128, 1),\n",
        "            nn.Sigmoid()\n",
        "        )\n",
        "\n",
        "    def forward(self, x):\n",
        "        return self.fc(x)\n",
        "\n",
        "# Training loop\n",
        "z_dim = 100  # Latent space dimension\n",
        "data_dim = 784  # Assuming image data (28x28 pixels)\n",
        "G = Generator(input_dim=z_dim, output_dim=data_dim)\n",
        "D = Discriminator(input_dim=data_dim)\n",
        "\n",
        "criterion = nn.BCELoss()\n",
        "optimizer_G = optim.Adam(G.parameters(), lr=0.0002)\n",
        "optimizer_D = optim.Adam(D.parameters(), lr=0.0002)\n",
        "\n",
        "for epoch in range(10000):\n",
        "    # Train Discriminator\n",
        "    optimizer_D.zero_grad()\n",
        "    real_data = torch.randn(64, data_dim)  # Real data placeholder\n",
        "    fake_data = G(torch.randn(64, z_dim)).detach()\n",
        "    loss_D = criterion(D(real_data), torch.ones(64, 1)) + criterion(D(fake_data), torch.zeros(64, 1))\n",
        "    loss_D.backward()\n",
        "    optimizer_D.step()\n",
        "\n",
        "    # Train Generator\n",
        "    optimizer_G.zero_grad()\n",
        "    fake_data = G(torch.randn(64, z_dim))\n",
        "    loss_G = criterion(D(fake_data), torch.ones(64, 1))\n",
        "    loss_G.backward()\n",
        "    optimizer_G.step()"
      ]
    }
  ]
}