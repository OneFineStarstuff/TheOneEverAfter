{
  "nbformat": 4,
  "nbformat_minor": 0,
  "metadata": {
    "colab": {
      "private_outputs": true,
      "provenance": [],
      "authorship_tag": "ABX9TyP+85LWFjcX+VYaZXQcddDT",
      "include_colab_link": true
    },
    "kernelspec": {
      "name": "python3",
      "display_name": "Python 3"
    },
    "language_info": {
      "name": "python"
    }
  },
  "cells": [
    {
      "cell_type": "markdown",
      "metadata": {
        "id": "view-in-github",
        "colab_type": "text"
      },
      "source": [
        "<a href=\"https://colab.research.google.com/github/OneFineStarstuff/OneFineStardust/blob/main/Workforce_Reskilling.ipynb\" target=\"_parent\"><img src=\"https://colab.research.google.com/assets/colab-badge.svg\" alt=\"Open In Colab\"/></a>"
      ]
    },
    {
      "cell_type": "code",
      "execution_count": null,
      "metadata": {
        "id": "jbiCoz51G10F"
      },
      "outputs": [],
      "source": [
        "class WorkforceReskilling:\n",
        "    def __init__(self):\n",
        "        self.reskilling_programs = []\n",
        "\n",
        "    def start_reskilling_program(self, skill, target_group, duration):\n",
        "        program = {\"skill\": skill, \"target_group\": target_group, \"duration\": duration}\n",
        "        self.reskilling_programs.append(program)\n",
        "        return program\n",
        "\n",
        "    def get_reskilling_programs(self):\n",
        "        return self.reskilling_programs\n",
        "\n",
        "# Example usage\n",
        "reskilling = WorkforceReskilling()\n",
        "reskilling.start_reskilling_program(\"Data Science\", \"IT Professionals\", 6)  # 6-month program\n",
        "reskilling.start_reskilling_program(\"AI Ethics\", \"Policymakers\", 3)  # 3-month program\n",
        "print(f\"Reskilling Programs: {reskilling.get_reskilling_programs()}\")"
      ]
    }
  ]
}