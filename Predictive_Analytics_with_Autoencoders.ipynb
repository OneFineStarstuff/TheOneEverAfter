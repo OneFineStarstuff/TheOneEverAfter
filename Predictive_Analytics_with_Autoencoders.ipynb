{
  "nbformat": 4,
  "nbformat_minor": 0,
  "metadata": {
    "colab": {
      "private_outputs": true,
      "provenance": [],
      "authorship_tag": "ABX9TyP40VWKvHLuwnxhjnMelBRW",
      "include_colab_link": true
    },
    "kernelspec": {
      "name": "python3",
      "display_name": "Python 3"
    },
    "language_info": {
      "name": "python"
    }
  },
  "cells": [
    {
      "cell_type": "markdown",
      "metadata": {
        "id": "view-in-github",
        "colab_type": "text"
      },
      "source": [
        "<a href=\"https://colab.research.google.com/github/OneFineStarstuff/OneFineStardust/blob/main/Predictive_Analytics_with_Autoencoders.ipynb\" target=\"_parent\"><img src=\"https://colab.research.google.com/assets/colab-badge.svg\" alt=\"Open In Colab\"/></a>"
      ]
    },
    {
      "cell_type": "code",
      "execution_count": null,
      "metadata": {
        "id": "vBZEKP2mLYmD"
      },
      "outputs": [],
      "source": [
        "import torch\n",
        "import torchvision\n",
        "import torch.optim as optim\n",
        "\n",
        "# Load MNIST dataset (MNIST is commonly used for handwritten digit recognition)\n",
        "mnist_dataset = torchvision.datasets.MNIST(root='.', download=True, transform=torchvision.transforms.ToTensor())\n",
        "\n",
        "# Load MNIST images and labels\n",
        "images, mnist_labels = mnist_dataset.data, mnist_dataset.targets\n",
        "\n",
        "# Define device and dataloader\n",
        "device = torch.device('cuda' if torch.cuda.is_available() else 'cpu')\n",
        "loader = torch.utils.data.DataLoader(mnist_dataset, batch_size=32, shuffle=True)\n",
        "\n",
        "# Define encoder architecture\n",
        "class Autoencoder(torch.nn.Module):\n",
        "    def __init__(self):\n",
        "        super(Autoencoder, self).__init__()\n",
        "        self.encoder = torch.nn.Sequential(\n",
        "            torch.nn.Linear(28 * 28, 128),\n",
        "            torch.nn.ReLU(),\n",
        "            torch.nn.Linear(128, 64),\n",
        "            torch.nn.ReLU(),\n",
        "            torch.nn.Linear(64, 12),\n",
        "            torch.nn.ReLU()\n",
        "        )\n",
        "        self.decoder = torch.nn.Sequential(\n",
        "            torch.nn.Linear(12, 64),\n",
        "            torch.nn.ReLU(),\n",
        "            torch.nn.Linear(64, 128),\n",
        "            torch.nn.ReLU(),\n",
        "            torch.nn.Linear(128, 28 * 28),\n",
        "            torch.nn.Sigmoid()\n",
        "        )\n",
        "\n",
        "    def forward(self, x):\n",
        "        x = self.encoder(x)\n",
        "        x = self.decoder(x)\n",
        "        return x\n",
        "\n",
        "autoencoder = Autoencoder().to(device)\n",
        "\n",
        "# Train the autoencoder\n",
        "criterion = torch.nn.MSELoss()\n",
        "optimizer = optim.Adam(autoencoder.parameters(), lr=0.001)\n",
        "\n",
        "# Training loop\n",
        "for epoch in range(10):\n",
        "    for data in loader:\n",
        "        img, _ = data\n",
        "        img = img.view(img.size(0), -1).to(device).float()  # Convert to float\n",
        "        output = autoencoder(img)\n",
        "        loss = criterion(output, img)\n",
        "\n",
        "        optimizer.zero_grad()\n",
        "        loss.backward()\n",
        "        optimizer.step()\n",
        "\n",
        "    print(f\"Epoch [{epoch+1}/10], Loss: {loss.item():.4f}\")\n",
        "\n",
        "# Save the trained autoencoder model\n",
        "torch.save(autoencoder.state_dict(), \"autoencoder.pth\")\n",
        "\n",
        "# Encode and reconstruct images\n",
        "encoded_images = []\n",
        "reconstructed_images = []\n",
        "autoencoder.eval()\n",
        "with torch.no_grad():\n",
        "    for img, label in zip(images, mnist_labels):\n",
        "        img = img.view(-1, 28 * 28).to(device).float()  # Convert to float\n",
        "        encoded_img = autoencoder.encoder(img)\n",
        "        reconstructed_img = autoencoder.decoder(encoded_img)\n",
        "        encoded_images.append(encoded_img.cpu())\n",
        "        reconstructed_images.append(reconstructed_img.cpu())\n",
        "\n",
        "# Compare decoded images with originals\n",
        "original_images = images.view(-1, 28 * 28).float()  # Convert to float\n",
        "difference = []\n",
        "\n",
        "for orig, dec in zip(original_images, reconstructed_images):\n",
        "    diff = torch.sum(torch.abs(orig - dec))\n",
        "    difference.append(diff.item())\n",
        "\n",
        "print(f\"Average difference: {sum(difference) / len(original_images):.4f}\")"
      ]
    }
  ]
}