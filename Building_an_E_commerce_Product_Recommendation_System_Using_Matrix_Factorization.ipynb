{
  "nbformat": 4,
  "nbformat_minor": 0,
  "metadata": {
    "colab": {
      "private_outputs": true,
      "provenance": [],
      "authorship_tag": "ABX9TyP9Fnml9OtRPseMfr6oqNxB",
      "include_colab_link": true
    },
    "kernelspec": {
      "name": "python3",
      "display_name": "Python 3"
    },
    "language_info": {
      "name": "python"
    }
  },
  "cells": [
    {
      "cell_type": "markdown",
      "metadata": {
        "id": "view-in-github",
        "colab_type": "text"
      },
      "source": [
        "<a href=\"https://colab.research.google.com/github/OneFineStarstuff/OneFineStardust/blob/main/Building_an_E_commerce_Product_Recommendation_System_Using_Matrix_Factorization.ipynb\" target=\"_parent\"><img src=\"https://colab.research.google.com/assets/colab-badge.svg\" alt=\"Open In Colab\"/></a>"
      ]
    },
    {
      "cell_type": "code",
      "execution_count": null,
      "metadata": {
        "id": "WrYmcLnFeUkD"
      },
      "outputs": [],
      "source": [
        "import pandas as pd\n",
        "from sklearn.decomposition import TruncatedSVD\n",
        "\n",
        "# Load user-item ratings data\n",
        "ratings=pd.read_csv('ratings.csv')\n",
        "\n",
        "user_item_matrix=ratings.pivot(index='userId',columns='itemId',values='rating').fillna(0)\n",
        "\n",
        "svd=SVD(n_components=50) # Number of latent factors\n",
        "\n",
        "matrix_factorization=svd.fit_transform(user_item_matrix.values.T)\n",
        "\n",
        "print(matrix_factorization)"
      ]
    }
  ]
}