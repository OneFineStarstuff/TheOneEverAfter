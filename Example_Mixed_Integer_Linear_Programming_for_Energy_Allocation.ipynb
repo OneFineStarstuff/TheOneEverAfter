{
  "nbformat": 4,
  "nbformat_minor": 0,
  "metadata": {
    "colab": {
      "private_outputs": true,
      "provenance": [],
      "authorship_tag": "ABX9TyM3vpkacQAIQ23e1lp4OQEK",
      "include_colab_link": true
    },
    "kernelspec": {
      "name": "python3",
      "display_name": "Python 3"
    },
    "language_info": {
      "name": "python"
    }
  },
  "cells": [
    {
      "cell_type": "markdown",
      "metadata": {
        "id": "view-in-github",
        "colab_type": "text"
      },
      "source": [
        "<a href=\"https://colab.research.google.com/github/OneFineStarstuff/OneFineStardust/blob/main/Example_Mixed_Integer_Linear_Programming_for_Energy_Allocation.ipynb\" target=\"_parent\"><img src=\"https://colab.research.google.com/assets/colab-badge.svg\" alt=\"Open In Colab\"/></a>"
      ]
    },
    {
      "cell_type": "code",
      "execution_count": null,
      "metadata": {
        "id": "euGAq-jQMh-a"
      },
      "outputs": [],
      "source": [
        "from scipy.optimize import linprog\n",
        "\n",
        "# Coefficients of the objective function (minimize cost)\n",
        "c = [20, 30]  # Cost per unit of energy from source A and B\n",
        "\n",
        "# Coefficients for inequality constraints (energy production limits)\n",
        "A_ub = [[-1, -1], [-1, 0], [0, -1]]\n",
        "b_ub = [-1000, -500, -300]  # Maximum energy constraints\n",
        "\n",
        "# Bounds for variables (energy from A and B must be non-negative)\n",
        "x_bounds = [(0, None), (0, None)]\n",
        "\n",
        "# Solve linear programming problem with integer constraints\n",
        "result = linprog(c, A_ub=A_ub, b_ub=b_ub, bounds=x_bounds)\n",
        "\n",
        "print(f'Optimal energy allocation: {result.x}')\n",
        "print(f'Minimized cost: {result.fun}')"
      ]
    }
  ]
}