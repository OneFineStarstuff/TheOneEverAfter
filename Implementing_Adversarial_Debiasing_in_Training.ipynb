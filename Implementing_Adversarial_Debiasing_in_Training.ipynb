{
  "nbformat": 4,
  "nbformat_minor": 0,
  "metadata": {
    "colab": {
      "private_outputs": true,
      "provenance": [],
      "authorship_tag": "ABX9TyPyy6JyQYlxVDSwV2jANPH0",
      "include_colab_link": true
    },
    "kernelspec": {
      "name": "python3",
      "display_name": "Python 3"
    },
    "language_info": {
      "name": "python"
    }
  },
  "cells": [
    {
      "cell_type": "markdown",
      "metadata": {
        "id": "view-in-github",
        "colab_type": "text"
      },
      "source": [
        "<a href=\"https://colab.research.google.com/github/OneFineStarstuff/OneFineStarstuff/blob/main/Implementing_Adversarial_Debiasing_in_Training.ipynb\" target=\"_parent\"><img src=\"https://colab.research.google.com/assets/colab-badge.svg\" alt=\"Open In Colab\"/></a>"
      ]
    },
    {
      "cell_type": "code",
      "source": [
        "!pip install fairlearn\n",
        "!pip install scikit-learn"
      ],
      "metadata": {
        "id": "21Z3rzYQgEPm"
      },
      "execution_count": null,
      "outputs": []
    },
    {
      "cell_type": "code",
      "source": [
        "import numpy as np\n",
        "from sklearn.model_selection import train_test_split\n",
        "from sklearn.linear_model import LogisticRegression\n",
        "from sklearn.metrics import accuracy_score, confusion_matrix, f1_score\n",
        "from fairlearn.reductions import ExponentiatedGradient, DemographicParity\n",
        "\n",
        "# Example dataset (replace with your actual data)\n",
        "X, y = np.random.rand(1000, 10), np.random.randint(0, 2, 1000)\n",
        "protected_attribute = np.random.randint(0, 2, 1000)  # Binary protected attribute (e.g., gender)\n",
        "\n",
        "# Split the data into training and testing sets\n",
        "X_train, X_test, y_train, y_test, protected_train, protected_test = train_test_split(\n",
        "    X, y, protected_attribute, test_size=0.2, random_state=42\n",
        ")\n",
        "\n",
        "# Base model (Logistic Regression for simplicity)\n",
        "base_model = LogisticRegression(solver='liblinear')\n",
        "\n",
        "# Define the fairness constraint\n",
        "constraint = DemographicParity()\n",
        "\n",
        "# Apply adversarial debiasing using Exponentiated Gradient reduction technique\n",
        "mitigator = ExponentiatedGradient(base_model, constraints=constraint)\n",
        "mitigator.fit(X_train, y_train, sensitive_features=protected_train)\n",
        "\n",
        "# Evaluate the model\n",
        "y_pred = mitigator.predict(X_test)\n",
        "accuracy = accuracy_score(y_test, y_pred)\n",
        "conf_matrix = confusion_matrix(y_test, y_pred)\n",
        "f1 = f1_score(y_test, y_pred)\n",
        "\n",
        "print(\"Model training with adversarial debiasing complete!\")\n",
        "print(f\"Accuracy: {accuracy}\")\n",
        "print(f\"Confusion Matrix:\\n{conf_matrix}\")\n",
        "print(f\"F1 Score: {f1}\")"
      ],
      "metadata": {
        "id": "P9AMGz60d3E0"
      },
      "execution_count": null,
      "outputs": []
    }
  ]
}