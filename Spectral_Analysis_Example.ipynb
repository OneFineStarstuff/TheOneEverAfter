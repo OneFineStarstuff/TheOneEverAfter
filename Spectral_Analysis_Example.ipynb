{
  "nbformat": 4,
  "nbformat_minor": 0,
  "metadata": {
    "colab": {
      "private_outputs": true,
      "provenance": [],
      "authorship_tag": "ABX9TyN3zNj/KgPmI48bDE5kvcVz",
      "include_colab_link": true
    },
    "kernelspec": {
      "name": "python3",
      "display_name": "Python 3"
    },
    "language_info": {
      "name": "python"
    }
  },
  "cells": [
    {
      "cell_type": "markdown",
      "metadata": {
        "id": "view-in-github",
        "colab_type": "text"
      },
      "source": [
        "<a href=\"https://colab.research.google.com/github/OneFineStarstuff/OneFineStardust/blob/main/Spectral_Analysis_Example.ipynb\" target=\"_parent\"><img src=\"https://colab.research.google.com/assets/colab-badge.svg\" alt=\"Open In Colab\"/></a>"
      ]
    },
    {
      "cell_type": "code",
      "execution_count": null,
      "metadata": {
        "id": "uYUmFj2JBoaa"
      },
      "outputs": [],
      "source": [
        "import numpy as np\n",
        "import matplotlib.pyplot as plt\n",
        "\n",
        "# Simulated spectrum data (wavelength in nm, intensity)\n",
        "wavelengths = np.linspace(400, 700, 1000)  # Visible spectrum range\n",
        "intensity = np.exp(-((wavelengths - 550)**2) / (2 * (10)**2)) + np.random.normal(scale=0.05, size=wavelengths.shape)\n",
        "\n",
        "# Plotting the spectrum\n",
        "plt.plot(wavelengths, intensity)\n",
        "plt.title('Simulated Stellar Spectrum')\n",
        "plt.xlabel('Wavelength (nm)')\n",
        "plt.ylabel('Intensity')\n",
        "plt.grid()\n",
        "plt.show()\n",
        "\n",
        "# Calculate redshift if needed (example value)\n",
        "z = 0.05  # Redshift value\n",
        "observed_wavelengths = wavelengths * (1 + z)\n",
        "\n",
        "# Plotting observed spectrum with redshift applied\n",
        "plt.plot(observed_wavelengths, intensity)\n",
        "plt.title('Observed Spectrum with Redshift')\n",
        "plt.xlabel('Wavelength (nm)')\n",
        "plt.ylabel('Intensity')\n",
        "plt.grid()\n",
        "plt.show()"
      ]
    }
  ]
}