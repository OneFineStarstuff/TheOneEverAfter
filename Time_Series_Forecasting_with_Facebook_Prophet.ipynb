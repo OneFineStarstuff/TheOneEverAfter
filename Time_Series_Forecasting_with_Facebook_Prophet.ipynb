{
  "nbformat": 4,
  "nbformat_minor": 0,
  "metadata": {
    "colab": {
      "private_outputs": true,
      "provenance": [],
      "authorship_tag": "ABX9TyObu3/7nFOF9Yq89ZC63Up4",
      "include_colab_link": true
    },
    "kernelspec": {
      "name": "python3",
      "display_name": "Python 3"
    },
    "language_info": {
      "name": "python"
    }
  },
  "cells": [
    {
      "cell_type": "markdown",
      "metadata": {
        "id": "view-in-github",
        "colab_type": "text"
      },
      "source": [
        "<a href=\"https://colab.research.google.com/github/OneFineStarstuff/OneFineStardust/blob/main/Time_Series_Forecasting_with_Facebook_Prophet.ipynb\" target=\"_parent\"><img src=\"https://colab.research.google.com/assets/colab-badge.svg\" alt=\"Open In Colab\"/></a>"
      ]
    },
    {
      "cell_type": "code",
      "execution_count": null,
      "metadata": {
        "id": "0wq-U7OtJ9Ds"
      },
      "outputs": [],
      "source": [
        "import pandas as pd\n",
        "from fbprophet import Prophet\n",
        "\n",
        "# Load your time series data (must have 'ds' and 'y' columns)\n",
        "data = pd.read_csv('time_series_data.csv')\n",
        "data['ds'] = pd.to_datetime(data['date'])  # Ensure 'date' is in datetime format\n",
        "data['y'] = data['value']  # The value to forecast\n",
        "\n",
        "# Initialize and fit the model\n",
        "model = Prophet()\n",
        "model.fit(data[['ds', 'y']])\n",
        "\n",
        "# Create future dates for prediction\n",
        "future = model.make_future_dataframe(periods=30)  # Predict next 30 days\n",
        "forecast = model.predict(future)\n",
        "\n",
        "# Plot the forecast results\n",
        "model.plot(forecast)"
      ]
    }
  ]
}