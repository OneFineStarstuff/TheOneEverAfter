{
  "nbformat": 4,
  "nbformat_minor": 0,
  "metadata": {
    "colab": {
      "private_outputs": true,
      "provenance": [],
      "authorship_tag": "ABX9TyPOaeT3uga1BsCMw/NNQAFp",
      "include_colab_link": true
    },
    "kernelspec": {
      "name": "python3",
      "display_name": "Python 3"
    },
    "language_info": {
      "name": "python"
    }
  },
  "cells": [
    {
      "cell_type": "markdown",
      "metadata": {
        "id": "view-in-github",
        "colab_type": "text"
      },
      "source": [
        "<a href=\"https://colab.research.google.com/github/OneFineStarstuff/OneFineStardust/blob/main/Reinforcement_Learning_with_Deep_Q_Learning.ipynb\" target=\"_parent\"><img src=\"https://colab.research.google.com/assets/colab-badge.svg\" alt=\"Open In Colab\"/></a>"
      ]
    },
    {
      "cell_type": "code",
      "execution_count": null,
      "metadata": {
        "id": "kWomDtXz3hs0"
      },
      "outputs": [],
      "source": [
        "import numpy as np\n",
        "import gym\n",
        "import random\n",
        "from collections import deque\n",
        "from tensorflow.keras import Sequential\n",
        "from tensorflow.keras.layers import Dense\n",
        "from tensorflow.keras.optimizers import Adam\n",
        "\n",
        "# Create the environment\n",
        "env = gym.make('CartPole-v1')\n",
        "\n",
        "# Set parameters for the DQN\n",
        "state_size = env.observation_space.shape[0]\n",
        "action_size = env.action_space.n\n",
        "batch_size = 32\n",
        "\n",
        "# Build the DQN model\n",
        "def build_model():\n",
        "    model = Sequential()\n",
        "    model.add(Dense(24, input_dim=state_size, activation='relu'))\n",
        "    model.add(Dense(24, activation='relu'))\n",
        "    model.add(Dense(action_size, activation='linear'))\n",
        "    model.compile(loss='mse', optimizer=Adam(learning_rate=0.001))\n",
        "    return model\n",
        "\n",
        "model = build_model()\n",
        "target_model = build_model()\n",
        "memory = deque(maxlen=2000)\n",
        "\n",
        "# Helper function to update target model\n",
        "def update_target_model():\n",
        "    target_model.set_weights(model.get_weights())\n",
        "\n",
        "# Training the DQN\n",
        "episodes = 1000\n",
        "epsilon = 1.0  # Exploration rate\n",
        "epsilon_min = 0.01\n",
        "epsilon_decay = 0.995\n",
        "gamma = 0.95  # Discount rate\n",
        "\n",
        "update_target_model()  # Initial copy\n",
        "\n",
        "for e in range(episodes):\n",
        "    state = env.reset()\n",
        "    state = np.reshape(state, [1, state_size])\n",
        "    done = False\n",
        "    total_reward = 0\n",
        "\n",
        "    while not done:\n",
        "        # Choose action based on epsilon-greedy policy\n",
        "        if np.random.rand() <= epsilon:  # Exploration\n",
        "            action = random.randrange(action_size)\n",
        "        else:  # Exploitation\n",
        "            q_values = model.predict(state)\n",
        "            action = np.argmax(q_values[0])\n",
        "\n",
        "        next_state, reward, done, _ = env.step(action)\n",
        "        next_state = np.reshape(next_state, [1, state_size])\n",
        "        total_reward += reward\n",
        "\n",
        "        if done:\n",
        "            reward = -10  # Penalize for ending the episode\n",
        "\n",
        "        memory.append((state, action, reward, next_state, done))\n",
        "        state = next_state\n",
        "\n",
        "        if len(memory) > batch_size:\n",
        "            minibatch = random.sample(memory, batch_size)\n",
        "            for s, a, r, s_next, d in minibatch:\n",
        "                target = r\n",
        "                if not d:\n",
        "                    target = r + gamma * np.amax(target_model.predict(s_next)[0])\n",
        "                target_f = model.predict(s)\n",
        "                target_f[0][a] = target\n",
        "                model.fit(s, target_f, epochs=1, verbose=0)\n",
        "            update_target_model()\n",
        "\n",
        "        if done:\n",
        "            print(f\"Episode: {e+1}/{episodes}, Score: {total_reward}, Epsilon: {epsilon:.2f}\")\n",
        "            break\n",
        "\n",
        "    if epsilon > epsilon_min:\n",
        "        epsilon *= epsilon_decay\n",
        "\n",
        "env.close()"
      ]
    }
  ]
}