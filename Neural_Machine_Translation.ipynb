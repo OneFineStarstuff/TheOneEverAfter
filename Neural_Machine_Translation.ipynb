{
  "nbformat": 4,
  "nbformat_minor": 0,
  "metadata": {
    "colab": {
      "private_outputs": true,
      "provenance": [],
      "authorship_tag": "ABX9TyPHUu0b7hRbMHs6ZiO11tiH",
      "include_colab_link": true
    },
    "kernelspec": {
      "name": "python3",
      "display_name": "Python 3"
    },
    "language_info": {
      "name": "python"
    }
  },
  "cells": [
    {
      "cell_type": "markdown",
      "metadata": {
        "id": "view-in-github",
        "colab_type": "text"
      },
      "source": [
        "<a href=\"https://colab.research.google.com/github/OneFineStarstuff/OneFineStardust/blob/main/Neural_Machine_Translation.ipynb\" target=\"_parent\"><img src=\"https://colab.research.google.com/assets/colab-badge.svg\" alt=\"Open In Colab\"/></a>"
      ]
    },
    {
      "cell_type": "code",
      "source": [
        "import numpy as np\n",
        "import tensorflow as tf\n",
        "from tensorflow import keras\n",
        "from tensorflow.keras import layers\n",
        "\n",
        "# Define the vocab_size and embedding_dim\n",
        "vocab_size = 5000  # Example value, change this based on your vocabulary size\n",
        "embedding_dim = 128  # Example value, change this based on your preference\n",
        "\n",
        "# Sample training data (this should be your actual training dataset)\n",
        "train_data = np.random.randint(vocab_size, size=(1000, 100))  # Example shape (1000 samples, each of length 100)\n",
        "train_labels = np.random.randint(vocab_size, size=(1000, 100, vocab_size))  # Example shape (1000 labels, each of length 100, with vocab_size classes)\n",
        "\n",
        "# Define the model\n",
        "model = keras.Sequential([\n",
        "    layers.Embedding(input_dim=vocab_size, output_dim=embedding_dim),\n",
        "    layers.LSTM(128, return_sequences=True),\n",
        "    layers.LSTM(64, return_sequences=True),  # Ensure the output is a sequence\n",
        "    layers.TimeDistributed(layers.Dense(vocab_size, activation='softmax'))  # Use TimeDistributed to apply Dense layer to each timestep\n",
        "])\n",
        "\n",
        "model.compile(loss='categorical_crossentropy', optimizer='adam', metrics=['accuracy'])\n",
        "\n",
        "# Train the model\n",
        "model.fit(train_data, train_labels, epochs=10)"
      ],
      "metadata": {
        "id": "kYjPRcpuOmmT"
      },
      "execution_count": null,
      "outputs": []
    }
  ]
}