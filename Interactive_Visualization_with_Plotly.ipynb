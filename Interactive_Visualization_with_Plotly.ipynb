{
  "nbformat": 4,
  "nbformat_minor": 0,
  "metadata": {
    "colab": {
      "private_outputs": true,
      "provenance": [],
      "authorship_tag": "ABX9TyMjNpDFcGZk81ldrdJoD+qY",
      "include_colab_link": true
    },
    "kernelspec": {
      "name": "python3",
      "display_name": "Python 3"
    },
    "language_info": {
      "name": "python"
    }
  },
  "cells": [
    {
      "cell_type": "markdown",
      "metadata": {
        "id": "view-in-github",
        "colab_type": "text"
      },
      "source": [
        "<a href=\"https://colab.research.google.com/github/OneFineStarstuff/OneFineStardust/blob/main/Interactive_Visualization_with_Plotly.ipynb\" target=\"_parent\"><img src=\"https://colab.research.google.com/assets/colab-badge.svg\" alt=\"Open In Colab\"/></a>"
      ]
    },
    {
      "cell_type": "code",
      "execution_count": null,
      "metadata": {
        "id": "oj9sd33K_GuY"
      },
      "outputs": [],
      "source": [
        "import plotly.graph_objs as go\n",
        "import numpy as np\n",
        "\n",
        "# Generate sample data\n",
        "x = np.linspace(0, 10, 100)\n",
        "y = np.sin(x)\n",
        "\n",
        "# Create an interactive plot\n",
        "fig = go.Figure(data=go.Scatter(x=x, y=y, mode='lines', name='Sine Wave'))\n",
        "fig.update_layout(title='Interactive Sine Wave Plot',\n",
        "                  xaxis_title='X-axis',\n",
        "                  yaxis_title='Y-axis')\n",
        "fig.show()"
      ]
    }
  ]
}