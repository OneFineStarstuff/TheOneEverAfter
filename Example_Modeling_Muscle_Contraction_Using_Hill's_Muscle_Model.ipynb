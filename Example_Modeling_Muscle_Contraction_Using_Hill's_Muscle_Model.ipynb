{
  "nbformat": 4,
  "nbformat_minor": 0,
  "metadata": {
    "colab": {
      "private_outputs": true,
      "provenance": [],
      "authorship_tag": "ABX9TyNSg3bW4mp6qrVWLv+fZSsr",
      "include_colab_link": true
    },
    "kernelspec": {
      "name": "python3",
      "display_name": "Python 3"
    },
    "language_info": {
      "name": "python"
    }
  },
  "cells": [
    {
      "cell_type": "markdown",
      "metadata": {
        "id": "view-in-github",
        "colab_type": "text"
      },
      "source": [
        "<a href=\"https://colab.research.google.com/github/OneFineStarstuff/OneFineStarstuff/blob/main/Example_Modeling_Muscle_Contraction_Using_Hill's_Muscle_Model.ipynb\" target=\"_parent\"><img src=\"https://colab.research.google.com/assets/colab-badge.svg\" alt=\"Open In Colab\"/></a>"
      ]
    },
    {
      "cell_type": "code",
      "execution_count": null,
      "metadata": {
        "id": "mcNjF8ZNYO29"
      },
      "outputs": [],
      "source": [
        "import numpy as np\n",
        "import matplotlib.pyplot as plt\n",
        "from scipy.integrate import odeint\n",
        "\n",
        "# Hill's muscle model parameters\n",
        "max_force = 1500  # Max force (N)\n",
        "v_max = 12  # Maximum contraction velocity (m/s)\n",
        "a = 0.25  # Force-velocity constant\n",
        "b = 1.0  # Constant factor\n",
        "\n",
        "# Define the muscle force-velocity relationship\n",
        "def muscle_model(v, t):\n",
        "    force = max_force * (1 - (v / v_max)) / (1 + (v / b))\n",
        "    return force\n",
        "\n",
        "# Time array for simulation\n",
        "t = np.linspace(0, 1, 100)\n",
        "\n",
        "# Simulate the muscle contraction velocity over time\n",
        "v = odeint(muscle_model, 0, t)\n",
        "\n",
        "# Plot the force-velocity relationship\n",
        "plt.plot(t, v)\n",
        "plt.title(\"Muscle Contraction Velocity Over Time\")\n",
        "plt.xlabel(\"Time (s)\")\n",
        "plt.ylabel(\"Velocity (m/s)\")\n",
        "plt.grid(True)\n",
        "plt.show()"
      ]
    }
  ]
}