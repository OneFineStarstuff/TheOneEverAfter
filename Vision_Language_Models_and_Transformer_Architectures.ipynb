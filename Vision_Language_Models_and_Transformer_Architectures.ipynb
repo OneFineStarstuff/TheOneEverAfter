{
  "nbformat": 4,
  "nbformat_minor": 0,
  "metadata": {
    "colab": {
      "private_outputs": true,
      "provenance": [],
      "authorship_tag": "ABX9TyNtaIC7B/cJ6kkMPnTuCT0E",
      "include_colab_link": true
    },
    "kernelspec": {
      "name": "python3",
      "display_name": "Python 3"
    },
    "language_info": {
      "name": "python"
    }
  },
  "cells": [
    {
      "cell_type": "markdown",
      "metadata": {
        "id": "view-in-github",
        "colab_type": "text"
      },
      "source": [
        "<a href=\"https://colab.research.google.com/github/OneFineStarstuff/OneFineStarstuff/blob/main/Vision_Language_Models_and_Transformer_Architectures.ipynb\" target=\"_parent\"><img src=\"https://colab.research.google.com/assets/colab-badge.svg\" alt=\"Open In Colab\"/></a>"
      ]
    },
    {
      "cell_type": "code",
      "execution_count": null,
      "metadata": {
        "id": "wYn7W82o-DhH"
      },
      "outputs": [],
      "source": [
        "from PIL import Image\n",
        "import requests\n",
        "from transformers import CLIPProcessor, CLIPModel\n",
        "\n",
        "# Use a valid image URL\n",
        "image_url = \"https://images.unsplash.com/photo-1517602302552-471fe67acf66\"\n",
        "response = requests.get(image_url, stream=True)\n",
        "response.raise_for_status()\n",
        "image = Image.open(response.raw)\n",
        "\n",
        "# Initialize the CLIP model and processor\n",
        "model = CLIPModel.from_pretrained(\"openai/clip-vit-base-patch32\")\n",
        "processor = CLIPProcessor.from_pretrained(\"openai/clip-vit-base-patch32\")\n",
        "\n",
        "# Encode text and image inputs\n",
        "inputs = processor(text=\"A picture of a sunset\", images=image, return_tensors=\"pt\")\n",
        "outputs = model(**inputs)\n",
        "\n",
        "# Extract features\n",
        "image_features = outputs.image_embeds\n",
        "text_features = outputs.text_embeds\n",
        "\n",
        "print(\"Image features:\", image_features)\n",
        "print(\"Text features:\", text_features)"
      ]
    }
  ]
}