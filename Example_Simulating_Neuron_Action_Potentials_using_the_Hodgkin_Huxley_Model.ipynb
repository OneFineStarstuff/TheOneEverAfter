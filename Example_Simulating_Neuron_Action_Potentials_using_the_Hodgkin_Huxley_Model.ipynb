{
  "nbformat": 4,
  "nbformat_minor": 0,
  "metadata": {
    "colab": {
      "private_outputs": true,
      "provenance": [],
      "authorship_tag": "ABX9TyOj+R/nqUXm1/BynKv+5Mqs",
      "include_colab_link": true
    },
    "kernelspec": {
      "name": "python3",
      "display_name": "Python 3"
    },
    "language_info": {
      "name": "python"
    }
  },
  "cells": [
    {
      "cell_type": "markdown",
      "metadata": {
        "id": "view-in-github",
        "colab_type": "text"
      },
      "source": [
        "<a href=\"https://colab.research.google.com/github/OneFineStarstuff/OneFineStarstuff/blob/main/Example_Simulating_Neuron_Action_Potentials_using_the_Hodgkin_Huxley_Model.ipynb\" target=\"_parent\"><img src=\"https://colab.research.google.com/assets/colab-badge.svg\" alt=\"Open In Colab\"/></a>"
      ]
    },
    {
      "cell_type": "code",
      "execution_count": null,
      "metadata": {
        "id": "1XnQ5DPUZkPW"
      },
      "outputs": [],
      "source": [
        "import numpy as np\n",
        "import matplotlib.pyplot as plt\n",
        "from scipy.integrate import odeint\n",
        "\n",
        "# Hodgkin-Huxley model parameters\n",
        "Cm = 1.0  # Membrane capacitance (uF/cm^2)\n",
        "gNa = 120  # Sodium (Na) conductance (mS/cm^2)\n",
        "gK = 36  # Potassium (K) conductance (mS/cm^2)\n",
        "gL = 0.3  # Leak conductance (mS/cm^2)\n",
        "ENa = 50  # Sodium equilibrium potential (mV)\n",
        "EK = -77  # Potassium equilibrium potential (mV)\n",
        "EL = -54.4  # Leak equilibrium potential (mV)\n",
        "\n",
        "# Define the differential equations for the model\n",
        "def hh_model(y, t, I):\n",
        "    V, m, h, n = y\n",
        "\n",
        "    # Membrane currents\n",
        "    INa = gNa * (m**3) * h * (V - ENa)\n",
        "    IK = gK * (n**4) * (V - EK)\n",
        "    IL = gL * (V - EL)\n",
        "\n",
        "    # Differential equations\n",
        "    dVdt = (I(t) - INa - IK - IL) / Cm\n",
        "    dmdt = 0.1 * (25 - V) / (np.exp((25 - V) / 10) - 1) * (1 - m) - 4 * np.exp(-V / 18) * m\n",
        "    dhdt = 0.07 * np.exp(-V / 20) * (1 - h) - 1 / (np.exp((30 - V) / 10) + 1) * h\n",
        "    dndt = 0.01 * (10 - V) / (np.exp((10 - V) / 10) - 1) * (1 - n) - 0.125 * np.exp(-V / 80) * n\n",
        "\n",
        "    return [dVdt, dmdt, dhdt, dndt]\n",
        "\n",
        "# Define a current pulse input\n",
        "def I(t):\n",
        "    if 10 < t < 20:\n",
        "        return 10  # Pulse current (uA/cm^2)\n",
        "    else:\n",
        "        return 0\n",
        "\n",
        "# Initial conditions: membrane potential, m, h, n\n",
        "y0 = [-65, 0.05, 0.6, 0.32]\n",
        "\n",
        "# Time array for simulation\n",
        "t = np.linspace(0, 50, 1000)\n",
        "\n",
        "# Solve the Hodgkin-Huxley equations\n",
        "solution = odeint(hh_model, y0, t, args=(I,))\n",
        "\n",
        "# Plot the membrane potential over time\n",
        "plt.plot(t, solution[:, 0])\n",
        "plt.title(\"Neuron Action Potential\")\n",
        "plt.xlabel(\"Time (ms)\")\n",
        "plt.ylabel(\"Membrane Potential (mV)\")\n",
        "plt.grid(True)\n",
        "plt.show()"
      ]
    }
  ]
}