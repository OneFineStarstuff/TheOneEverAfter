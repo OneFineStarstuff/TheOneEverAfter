{
  "nbformat": 4,
  "nbformat_minor": 0,
  "metadata": {
    "colab": {
      "private_outputs": true,
      "provenance": [],
      "authorship_tag": "ABX9TyOAdNL1BC47bd3Uv8ybZaoa",
      "include_colab_link": true
    },
    "kernelspec": {
      "name": "python3",
      "display_name": "Python 3"
    },
    "language_info": {
      "name": "python"
    }
  },
  "cells": [
    {
      "cell_type": "markdown",
      "metadata": {
        "id": "view-in-github",
        "colab_type": "text"
      },
      "source": [
        "<a href=\"https://colab.research.google.com/github/OneFineStarstuff/OneFineStarstuff/blob/main/Ensembling_with_Bagging_and_Stacking.ipynb\" target=\"_parent\"><img src=\"https://colab.research.google.com/assets/colab-badge.svg\" alt=\"Open In Colab\"/></a>"
      ]
    },
    {
      "cell_type": "code",
      "execution_count": null,
      "metadata": {
        "id": "v3xeUTlqXG14"
      },
      "outputs": [],
      "source": [
        "import torch\n",
        "\n",
        "class EnsembleModel:\n",
        "    def __init__(self, models):\n",
        "        self.models = models\n",
        "\n",
        "    def predict(self, x):\n",
        "        # Ensure the models are in evaluation mode\n",
        "        for model in self.models:\n",
        "            model.eval()\n",
        "\n",
        "        with torch.no_grad():  # Disable gradient tracking\n",
        "            # Ensure input is on the same device as the models\n",
        "            device = next(self.models[0].parameters()).device\n",
        "            x = x.to(device)\n",
        "\n",
        "            # Collect predictions from all models\n",
        "            predictions = [model(x) for model in self.models]\n",
        "            # Average the predictions\n",
        "            return torch.mean(torch.stack(predictions), dim=0)\n",
        "\n",
        "# Example usage:\n",
        "# models = [model1, model2, model3]\n",
        "# ensemble_model = EnsembleModel(models)\n",
        "# input_data = torch.randn(1, 3, 32, 32)  # Example input data\n",
        "# output = ensemble_model.predict(input_data)"
      ]
    }
  ]
}