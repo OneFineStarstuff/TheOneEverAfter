{
  "nbformat": 4,
  "nbformat_minor": 0,
  "metadata": {
    "colab": {
      "private_outputs": true,
      "provenance": [],
      "authorship_tag": "ABX9TyPqxUpyzIQoqRJFhfTsTTxg",
      "include_colab_link": true
    },
    "kernelspec": {
      "name": "python3",
      "display_name": "Python 3"
    },
    "language_info": {
      "name": "python"
    }
  },
  "cells": [
    {
      "cell_type": "markdown",
      "metadata": {
        "id": "view-in-github",
        "colab_type": "text"
      },
      "source": [
        "<a href=\"https://colab.research.google.com/github/OneFineStarstuff/OneFineStarstuff/blob/main/Example_Plotting_Geospatial_Data_with_GeoPandas.ipynb\" target=\"_parent\"><img src=\"https://colab.research.google.com/assets/colab-badge.svg\" alt=\"Open In Colab\"/></a>"
      ]
    },
    {
      "cell_type": "code",
      "execution_count": null,
      "metadata": {
        "id": "942GLrig9WoL"
      },
      "outputs": [],
      "source": [
        "import geopandas as gpd\n",
        "import matplotlib.pyplot as plt\n",
        "\n",
        "# Load a shapefile containing geographic data\n",
        "gdf = gpd.read_file('path/to/shapefile.shp')\n",
        "\n",
        "# Plot the geographic data\n",
        "gdf.plot()\n",
        "plt.title('Geospatial Data Visualization')\n",
        "plt.show()\n",
        "\n",
        "# Calculate the area of each polygon in the shapefile\n",
        "gdf['area'] = gdf.area\n",
        "print(gdf[['name', 'area']].head())"
      ]
    }
  ]
}