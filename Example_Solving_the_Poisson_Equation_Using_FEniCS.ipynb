{
  "nbformat": 4,
  "nbformat_minor": 0,
  "metadata": {
    "colab": {
      "private_outputs": true,
      "provenance": [],
      "authorship_tag": "ABX9TyM1x7ubbpxx+TOMdEKt7Jt7",
      "include_colab_link": true
    },
    "kernelspec": {
      "name": "python3",
      "display_name": "Python 3"
    },
    "language_info": {
      "name": "python"
    }
  },
  "cells": [
    {
      "cell_type": "markdown",
      "metadata": {
        "id": "view-in-github",
        "colab_type": "text"
      },
      "source": [
        "<a href=\"https://colab.research.google.com/github/OneFineStarstuff/OneFineStarstuff/blob/main/Example_Solving_the_Poisson_Equation_Using_FEniCS.ipynb\" target=\"_parent\"><img src=\"https://colab.research.google.com/assets/colab-badge.svg\" alt=\"Open In Colab\"/></a>"
      ]
    },
    {
      "cell_type": "code",
      "source": [
        "!pip install fenics"
      ],
      "metadata": {
        "id": "5rFPeFMptDUN"
      },
      "execution_count": null,
      "outputs": []
    },
    {
      "cell_type": "code",
      "source": [
        "!conda create -n fenicsproject -c conda-forge fenics\n",
        "!conda activate fenicsproject"
      ],
      "metadata": {
        "id": "575V-Rdct7Sc"
      },
      "execution_count": null,
      "outputs": []
    },
    {
      "cell_type": "code",
      "source": [
        "!pip install docker\n",
        "!docker run -ti -v $(pwd):/home/shared -w /home/shared quay.io/fenicsproject/stable:current"
      ],
      "metadata": {
        "id": "4kBw4Kxwt-No"
      },
      "execution_count": null,
      "outputs": []
    },
    {
      "cell_type": "code",
      "source": [
        "!sudo apt-get update\n",
        "!sudo apt-get install -y fenics"
      ],
      "metadata": {
        "id": "HuyGEOz1t_eZ"
      },
      "execution_count": null,
      "outputs": []
    },
    {
      "cell_type": "code",
      "source": [
        "import sys\n",
        "sys.path.append('/usr/local/lib/python3.10/dist-packages')"
      ],
      "metadata": {
        "id": "T820cKLHuKkh"
      },
      "execution_count": null,
      "outputs": []
    },
    {
      "cell_type": "code",
      "source": [
        "!pip install fenics-dolfinx"
      ],
      "metadata": {
        "id": "3nNqCIIXuNS2"
      },
      "execution_count": null,
      "outputs": []
    },
    {
      "cell_type": "code",
      "execution_count": null,
      "metadata": {
        "id": "9UvxPxMtszJi"
      },
      "outputs": [],
      "source": [
        "import fenics\n",
        "import matplotlib.pyplot as plt\n",
        "\n",
        "# Create a mesh and define the function space\n",
        "mesh = fenics.UnitSquareMesh(32, 32)\n",
        "V = fenics.FunctionSpace(mesh, 'P', 1)\n",
        "\n",
        "# Define boundary condition\n",
        "u_D = fenics.Expression('1 + x[0]*x[0] + 2*x[1]*x[1]', degree=2)\n",
        "\n",
        "def boundary(x, on_boundary):\n",
        "    return on_boundary\n",
        "\n",
        "bc = fenics.DirichletBC(V, u_D, boundary)\n",
        "\n",
        "# Define the source function f and the variational problem\n",
        "f = fenics.Constant(-6.0)\n",
        "u = fenics.TrialFunction(V)\n",
        "v = fenics.TestFunction(V)\n",
        "a = fenics.dot(fenics.grad(u), fenics.grad(v)) * fenics.dx\n",
        "L = f * v * fenics.dx\n",
        "\n",
        "# Compute the solution\n",
        "u = fenics.Function(V)\n",
        "fenics.solve(a == L, u, bc)\n",
        "\n",
        "# Plot the solution\n",
        "fenics.plot(u)\n",
        "plt.title(\"Solution of the Poisson Equation\")\n",
        "plt.show()"
      ]
    }
  ]
}