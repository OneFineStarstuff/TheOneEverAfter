{
  "nbformat": 4,
  "nbformat_minor": 0,
  "metadata": {
    "colab": {
      "private_outputs": true,
      "provenance": [],
      "authorship_tag": "ABX9TyOUDf15nyFNYJnnsjJg/hpa",
      "include_colab_link": true
    },
    "kernelspec": {
      "name": "python3",
      "display_name": "Python 3"
    },
    "language_info": {
      "name": "python"
    }
  },
  "cells": [
    {
      "cell_type": "markdown",
      "metadata": {
        "id": "view-in-github",
        "colab_type": "text"
      },
      "source": [
        "<a href=\"https://colab.research.google.com/github/OneFineStarstuff/OneFineStarstuff/blob/main/Example_Simulating_Robot_Arm_Kinematics.ipynb\" target=\"_parent\"><img src=\"https://colab.research.google.com/assets/colab-badge.svg\" alt=\"Open In Colab\"/></a>"
      ]
    },
    {
      "cell_type": "code",
      "execution_count": null,
      "metadata": {
        "id": "8N_H7JWE3NVi"
      },
      "outputs": [],
      "source": [
        "import numpy as np\n",
        "\n",
        "# Define Denavit-Hartenberg (DH) parameters\n",
        "theta1, theta2 = np.radians([45, 30])  # Joint angles\n",
        "a1, a2 = 1.0, 1.0  # Link lengths\n",
        "\n",
        "# Define transformation matrices using DH parameters\n",
        "T1 = np.array([[np.cos(theta1), -np.sin(theta1), 0, a1 * np.cos(theta1)],\n",
        "               [np.sin(theta1), np.cos(theta1), 0, a1 * np.sin(theta1)],\n",
        "               [0, 0, 1, 0],\n",
        "               [0, 0, 0, 1]])\n",
        "\n",
        "T2 = np.array([[np.cos(theta2), -np.sin(theta2), 0, a2 * np.cos(theta2)],\n",
        "               [np.sin(theta2), np.cos(theta2), 0, a2 * np.sin(theta2)],\n",
        "               [0, 0, 1, 0],\n",
        "               [0, 0, 0, 1]])\n",
        "\n",
        "# Compute the final transformation matrix\n",
        "T_final = np.dot(T1, T2)\n",
        "\n",
        "# Extract the position of the end-effector\n",
        "end_effector_position = T_final[:2, 3]\n",
        "print(f\"End-Effector Position: {end_effector_position}\")"
      ]
    }
  ]
}