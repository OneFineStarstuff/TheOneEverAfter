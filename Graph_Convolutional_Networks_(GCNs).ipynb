{
  "nbformat": 4,
  "nbformat_minor": 0,
  "metadata": {
    "colab": {
      "private_outputs": true,
      "provenance": [],
      "authorship_tag": "ABX9TyPw/Y8nEw9KCXrxVlJSHVZD",
      "include_colab_link": true
    },
    "kernelspec": {
      "name": "python3",
      "display_name": "Python 3"
    },
    "language_info": {
      "name": "python"
    }
  },
  "cells": [
    {
      "cell_type": "markdown",
      "metadata": {
        "id": "view-in-github",
        "colab_type": "text"
      },
      "source": [
        "<a href=\"https://colab.research.google.com/github/OneFineStarstuff/OneFineStarstuff/blob/main/Graph_Convolutional_Networks_(GCNs).ipynb\" target=\"_parent\"><img src=\"https://colab.research.google.com/assets/colab-badge.svg\" alt=\"Open In Colab\"/></a>"
      ]
    },
    {
      "cell_type": "code",
      "source": [
        "pip install torch_geometric"
      ],
      "metadata": {
        "id": "HJNfv_mMAf-C"
      },
      "execution_count": null,
      "outputs": []
    },
    {
      "cell_type": "code",
      "execution_count": null,
      "metadata": {
        "id": "Xq-jwdUlAKZ8"
      },
      "outputs": [],
      "source": [
        "import torch\n",
        "import torch.nn.functional as F\n",
        "from torch_geometric.nn import GCNConv\n",
        "from torch_geometric.data import Data\n",
        "\n",
        "# Define the GCN class\n",
        "class GCN(torch.nn.Module):\n",
        "    def __init__(self, in_channels, out_channels):\n",
        "        super(GCN, self).__init__()\n",
        "        self.conv1 = GCNConv(in_channels, 16)\n",
        "        self.conv2 = GCNConv(16, out_channels)\n",
        "\n",
        "    def forward(self, x, edge_index):\n",
        "        x = F.relu(self.conv1(x, edge_index))\n",
        "        x = self.conv2(x, edge_index)\n",
        "        return F.log_softmax(x, dim=1)\n",
        "\n",
        "# Example data (replace with your actual graph data)\n",
        "node_features = torch.tensor([[2, 1], [1, 2], [2, 2], [1, 1]], dtype=torch.float)\n",
        "edge_index = torch.tensor([[0, 1, 2, 3, 0, 3], [1, 0, 3, 2, 3, 0]], dtype=torch.long)\n",
        "\n",
        "# Create a PyTorch Geometric Data object\n",
        "data = Data(x=node_features, edge_index=edge_index)\n",
        "\n",
        "# Initialize the model\n",
        "in_channels = node_features.size(1)\n",
        "out_channels = 2  # Example output dimension (e.g., number of classes for classification)\n",
        "model = GCN(in_channels, out_channels)\n",
        "\n",
        "# Perform a forward pass\n",
        "model.eval()\n",
        "with torch.no_grad():\n",
        "    out = model(data.x, data.edge_index)\n",
        "print(out)"
      ]
    }
  ]
}