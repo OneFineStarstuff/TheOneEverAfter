{
  "nbformat": 4,
  "nbformat_minor": 0,
  "metadata": {
    "colab": {
      "private_outputs": true,
      "provenance": [],
      "authorship_tag": "ABX9TyMmRQym0cbDaPtiCc+E+74s",
      "include_colab_link": true
    },
    "kernelspec": {
      "name": "python3",
      "display_name": "Python 3"
    },
    "language_info": {
      "name": "python"
    }
  },
  "cells": [
    {
      "cell_type": "markdown",
      "metadata": {
        "id": "view-in-github",
        "colab_type": "text"
      },
      "source": [
        "<a href=\"https://colab.research.google.com/github/OneFineStarstuff/OneFineStarstuff/blob/main/Example_Implementing_Q_Learning_for_a_Simple_Grid_Environment.ipynb\" target=\"_parent\"><img src=\"https://colab.research.google.com/assets/colab-badge.svg\" alt=\"Open In Colab\"/></a>"
      ]
    },
    {
      "cell_type": "code",
      "execution_count": null,
      "metadata": {
        "id": "SsuMRiPpM5Kn"
      },
      "outputs": [],
      "source": [
        "import numpy as np\n",
        "\n",
        "# Define the grid environment\n",
        "grid_size = (5, 5)\n",
        "rewards = np.zeros(grid_size)\n",
        "rewards[4, 4] = 1  # Reward for reaching the goal\n",
        "\n",
        "# Define parameters for Q-learning\n",
        "q_table = np.zeros((*grid_size, 4))  # 4 actions: up, down, left, right\n",
        "learning_rate = 0.1\n",
        "discount_factor = 0.95\n",
        "epsilon = 0.9  # Exploration rate\n",
        "\n",
        "# Q-learning algorithm\n",
        "def choose_action(state):\n",
        "    if np.random.rand() < epsilon:\n",
        "        return np.random.randint(4)  # Explore\n",
        "    return np.argmax(q_table[state])  # Exploit\n",
        "\n",
        "def take_action(state, action):\n",
        "    row, col = state\n",
        "    if action == 0:  # Up\n",
        "        row = max(0, row - 1)\n",
        "    elif action == 1:  # Down\n",
        "        row = min(grid_size[0] - 1, row + 1)\n",
        "    elif action == 2:  # Left\n",
        "        col = max(0, col - 1)\n",
        "    elif action == 3:  # Right\n",
        "        col = min(grid_size[1] - 1, col + 1)\n",
        "    return (row, col)\n",
        "\n",
        "# Train the agent\n",
        "episodes = 1000\n",
        "for episode in range(episodes):\n",
        "    state = (0, 0)  # Start position\n",
        "    for step in range(100):  # Limit the steps in each episode\n",
        "        action = choose_action(state)\n",
        "        next_state = take_action(state, action)\n",
        "        reward = rewards[next_state]\n",
        "\n",
        "        # Update Q-table using the Q-learning update rule\n",
        "        best_next_action = np.argmax(q_table[next_state])\n",
        "        q_table[state][action] = q_table[state][action] + learning_rate * (\n",
        "            reward + discount_factor * q_table[next_state][best_next_action] - q_table[state][action])\n",
        "\n",
        "        state = next_state\n",
        "\n",
        "        # End episode if goal is reached\n",
        "        if state == (4, 4):\n",
        "            break\n",
        "\n",
        "# Print the learned Q-table\n",
        "print(\"Learned Q-Table:\")\n",
        "print(q_table)\n",
        "\n",
        "# Test the learned policy\n",
        "state = (0, 0)\n",
        "for step in range(100):\n",
        "    action = np.argmax(q_table[state])\n",
        "    print(f\"Step {step}: {state} -> Action: {action}\")\n",
        "    state = take_action(state, action)\n",
        "    if state == (4, 4):\n",
        "        print(\"Reached the goal!\")\n",
        "        break"
      ]
    }
  ]
}