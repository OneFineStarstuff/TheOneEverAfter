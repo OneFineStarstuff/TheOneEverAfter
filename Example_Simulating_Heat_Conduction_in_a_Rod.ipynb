{
  "nbformat": 4,
  "nbformat_minor": 0,
  "metadata": {
    "colab": {
      "private_outputs": true,
      "provenance": [],
      "authorship_tag": "ABX9TyMEkXzWVLUMZUAF85p2M8d8",
      "include_colab_link": true
    },
    "kernelspec": {
      "name": "python3",
      "display_name": "Python 3"
    },
    "language_info": {
      "name": "python"
    }
  },
  "cells": [
    {
      "cell_type": "markdown",
      "metadata": {
        "id": "view-in-github",
        "colab_type": "text"
      },
      "source": [
        "<a href=\"https://colab.research.google.com/github/OneFineStarstuff/OneFineStarstuff/blob/main/Example_Simulating_Heat_Conduction_in_a_Rod.ipynb\" target=\"_parent\"><img src=\"https://colab.research.google.com/assets/colab-badge.svg\" alt=\"Open In Colab\"/></a>"
      ]
    },
    {
      "cell_type": "code",
      "execution_count": null,
      "metadata": {
        "id": "bV6A5Xt-emDJ"
      },
      "outputs": [],
      "source": [
        "import numpy as np\n",
        "import matplotlib.pyplot as plt\n",
        "\n",
        "# Parameters\n",
        "length = 1.0  # Length of the rod (m)\n",
        "nx = 50  # Number of spatial points\n",
        "dx = length / (nx - 1)  # Spatial step size\n",
        "alpha = 1e-4  # Thermal diffusivity (m^2/s)\n",
        "dt = 0.01  # Time step size (s)\n",
        "nt = 500  # Number of time steps\n",
        "\n",
        "# Initial temperature distribution (e.g., high at one end)\n",
        "temperature = np.zeros(nx)\n",
        "temperature[0] = 100  # Set initial high temperature at one end\n",
        "\n",
        "# Time stepping loop\n",
        "for n in range(nt):\n",
        "    temperature_new = temperature.copy()\n",
        "    for i in range(1, nx - 1):\n",
        "        temperature_new[i] = temperature[i] + alpha * dt / dx**2 * (temperature[i+1] - 2*temperature[i] + temperature[i-1])\n",
        "    temperature = temperature_new\n",
        "\n",
        "# Plot the final temperature distribution\n",
        "x = np.linspace(0, length, nx)\n",
        "plt.plot(x, temperature, label='Final Temperature Distribution')\n",
        "plt.title(\"Heat Conduction in a Rod\")\n",
        "plt.xlabel(\"Position (m)\")\n",
        "plt.ylabel(\"Temperature (Celsius)\")\n",
        "plt.grid(True)\n",
        "plt.show()"
      ]
    }
  ]
}