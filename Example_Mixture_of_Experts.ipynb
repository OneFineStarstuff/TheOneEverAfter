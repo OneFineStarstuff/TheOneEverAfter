{
  "nbformat": 4,
  "nbformat_minor": 0,
  "metadata": {
    "colab": {
      "private_outputs": true,
      "provenance": [],
      "authorship_tag": "ABX9TyMQVcjMNMo/ykyL/M9LTe74",
      "include_colab_link": true
    },
    "kernelspec": {
      "name": "python3",
      "display_name": "Python 3"
    },
    "language_info": {
      "name": "python"
    }
  },
  "cells": [
    {
      "cell_type": "markdown",
      "metadata": {
        "id": "view-in-github",
        "colab_type": "text"
      },
      "source": [
        "<a href=\"https://colab.research.google.com/github/OneFineStarstuff/OneFineStarstuff/blob/main/Example_Mixture_of_Experts.ipynb\" target=\"_parent\"><img src=\"https://colab.research.google.com/assets/colab-badge.svg\" alt=\"Open In Colab\"/></a>"
      ]
    },
    {
      "cell_type": "code",
      "execution_count": null,
      "metadata": {
        "id": "pi6v1tcpwv47"
      },
      "outputs": [],
      "source": [
        "import torch\n",
        "import torch.nn as nn\n",
        "import torch.nn.functional as F\n",
        "\n",
        "class MixtureOfExperts(nn.Module):\n",
        "    def __init__(self, num_experts, expert_dim, input_dim):\n",
        "        super().__init__()\n",
        "        self.experts = nn.ModuleList([nn.Linear(input_dim, expert_dim) for _ in range(num_experts)])\n",
        "        self.gating_network = nn.Linear(input_dim, num_experts)\n",
        "\n",
        "    def forward(self, x):\n",
        "        gating_weights = F.softmax(self.gating_network(x), dim=-1)  # (batch_size, num_experts)\n",
        "        expert_outputs = torch.stack([expert(x) for expert in self.experts], dim=1)  # (batch_size, num_experts, expert_dim)\n",
        "        gating_weights = gating_weights.unsqueeze(2)  # (batch_size, num_experts, 1)\n",
        "        output = torch.sum(gating_weights * expert_outputs, dim=1)  # (batch_size, expert_dim)\n",
        "        return output\n",
        "\n",
        "# Example usage\n",
        "input_dim = 10\n",
        "expert_dim = 5\n",
        "num_experts = 3\n",
        "\n",
        "model = MixtureOfExperts(num_experts, expert_dim, input_dim)\n",
        "\n",
        "# Create a dummy input\n",
        "dummy_input = torch.randn(4, input_dim)  # Batch size of 4\n",
        "\n",
        "# Forward pass through the mixture of experts model\n",
        "output = model(dummy_input)\n",
        "print(output)"
      ]
    }
  ]
}