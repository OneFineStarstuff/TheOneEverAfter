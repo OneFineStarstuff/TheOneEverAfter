{
  "nbformat": 4,
  "nbformat_minor": 0,
  "metadata": {
    "colab": {
      "private_outputs": true,
      "provenance": [],
      "authorship_tag": "ABX9TyMKbWsIDecQ7TGoc2nyLTqp",
      "include_colab_link": true
    },
    "kernelspec": {
      "name": "python3",
      "display_name": "Python 3"
    },
    "language_info": {
      "name": "python"
    }
  },
  "cells": [
    {
      "cell_type": "markdown",
      "metadata": {
        "id": "view-in-github",
        "colab_type": "text"
      },
      "source": [
        "<a href=\"https://colab.research.google.com/github/OneFineStarstuff/OneFineStarstuff/blob/main/Mathematics_(Optimization_Advanced_Algorithms_and_Metaheuristics).ipynb\" target=\"_parent\"><img src=\"https://colab.research.google.com/assets/colab-badge.svg\" alt=\"Open In Colab\"/></a>"
      ]
    },
    {
      "cell_type": "code",
      "execution_count": null,
      "metadata": {
        "id": "LB9Ni4ms0ToS"
      },
      "outputs": [],
      "source": [
        "import numpy as np\n",
        "\n",
        "# PSO parameters\n",
        "num_particles = 30\n",
        "iterations = 100\n",
        "w = 0.5       # Inertia weight\n",
        "c1, c2 = 1.5, 1.5  # Cognitive and social coefficients\n",
        "\n",
        "# Initialize particle positions and velocities\n",
        "positions = np.random.uniform(-10, 10, (num_particles, 2))\n",
        "velocities = np.random.uniform(-1, 1, (num_particles, 2))\n",
        "best_particle_positions = positions.copy()\n",
        "best_global_position = positions[np.argmin([np.sum(p**2) for p in positions])]\n",
        "\n",
        "# PSO loop\n",
        "for _ in range(iterations):\n",
        "    for i in range(num_particles):\n",
        "        # Update particle velocities and positions\n",
        "        r1, r2 = np.random.rand(2)\n",
        "        velocities[i] = (w * velocities[i] + c1 * r1 * (best_particle_positions[i] - positions[i]) +\n",
        "                         c2 * r2 * (best_global_position - positions[i]))\n",
        "        positions[i] += velocities[i]\n",
        "\n",
        "        # Update personal and global bests\n",
        "        if np.sum(positions[i]**2) < np.sum(best_particle_positions[i]**2):\n",
        "            best_particle_positions[i] = positions[i]\n",
        "        if np.sum(positions[i]**2) < np.sum(best_global_position**2):\n",
        "            best_global_position = positions[i]\n",
        "\n",
        "print(f\"Best position found: {best_global_position}, Fitness: {np.sum(best_global_position**2)}\")"
      ]
    }
  ]
}