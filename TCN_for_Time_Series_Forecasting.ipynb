{
  "nbformat": 4,
  "nbformat_minor": 0,
  "metadata": {
    "colab": {
      "private_outputs": true,
      "provenance": [],
      "authorship_tag": "ABX9TyMSacHQ1OBsY9F8NSX7YUth",
      "include_colab_link": true
    },
    "kernelspec": {
      "name": "python3",
      "display_name": "Python 3"
    },
    "language_info": {
      "name": "python"
    }
  },
  "cells": [
    {
      "cell_type": "markdown",
      "metadata": {
        "id": "view-in-github",
        "colab_type": "text"
      },
      "source": [
        "<a href=\"https://colab.research.google.com/github/OneFineStarstuff/OneFineStarstuff/blob/main/TCN_for_Time_Series_Forecasting.ipynb\" target=\"_parent\"><img src=\"https://colab.research.google.com/assets/colab-badge.svg\" alt=\"Open In Colab\"/></a>"
      ]
    },
    {
      "cell_type": "code",
      "execution_count": null,
      "metadata": {
        "id": "TQUdwKYjFFli"
      },
      "outputs": [],
      "source": [
        "import torch\n",
        "import torch.nn as nn\n",
        "import torch.optim as optim\n",
        "from torch.utils.data import DataLoader, TensorDataset\n",
        "\n",
        "# Define the TCN model\n",
        "class TCN(nn.Module):\n",
        "    def __init__(self, input_size, output_size, num_channels, kernel_size=3):\n",
        "        super(TCN, self).__init__()\n",
        "        self.tcn = nn.Sequential(\n",
        "            nn.Conv1d(input_size, num_channels, kernel_size=kernel_size, padding=1, dilation=1),\n",
        "            nn.ReLU(),\n",
        "            nn.Conv1d(num_channels, num_channels, kernel_size=kernel_size, padding=2, dilation=2),\n",
        "            nn.ReLU(),\n",
        "            nn.Conv1d(num_channels, output_size, kernel_size=kernel_size, padding=4, dilation=4)  # Adjust this layer\n",
        "        )\n",
        "\n",
        "    def forward(self, x):\n",
        "        return self.tcn(x)\n",
        "\n",
        "# Generate synthetic data\n",
        "input_size = 1\n",
        "output_size = 1\n",
        "num_channels = 32\n",
        "num_samples = 1000\n",
        "sequence_length = 10\n",
        "\n",
        "X = torch.randn(num_samples, input_size, sequence_length)\n",
        "y = torch.randn(num_samples, output_size, sequence_length)\n",
        "\n",
        "dataset = TensorDataset(X, y)\n",
        "dataloader = DataLoader(dataset, batch_size=32, shuffle=True)\n",
        "\n",
        "# Initialize the model, loss function, and optimizer\n",
        "model = TCN(input_size=input_size, output_size=output_size, num_channels=num_channels)\n",
        "criterion = nn.MSELoss()\n",
        "optimizer = optim.Adam(model.parameters(), lr=0.001)\n",
        "\n",
        "# Training loop\n",
        "num_epochs = 10\n",
        "for epoch in range(num_epochs):\n",
        "    model.train()\n",
        "    running_loss = 0.0\n",
        "    for inputs, targets in dataloader:\n",
        "        optimizer.zero_grad()\n",
        "        outputs = model(inputs)\n",
        "\n",
        "        # Ensure output and target sizes match\n",
        "        if outputs.shape != targets.shape:\n",
        "            targets = targets[:, :, :outputs.shape[2]]\n",
        "\n",
        "        loss = criterion(outputs, targets)\n",
        "        loss.backward()\n",
        "        optimizer.step()\n",
        "        running_loss += loss.item()\n",
        "\n",
        "    avg_loss = running_loss / len(dataloader)\n",
        "    print(f\"Epoch [{epoch+1}/{num_epochs}], Loss: {avg_loss:.4f}\")\n",
        "\n",
        "print(\"Training completed!\")"
      ]
    }
  ]
}