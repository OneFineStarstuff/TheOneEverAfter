{
  "nbformat": 4,
  "nbformat_minor": 0,
  "metadata": {
    "colab": {
      "private_outputs": true,
      "provenance": [],
      "authorship_tag": "ABX9TyM+ONUqvPKqOCcR47/lWlG4",
      "include_colab_link": true
    },
    "kernelspec": {
      "name": "python3",
      "display_name": "Python 3"
    },
    "language_info": {
      "name": "python"
    }
  },
  "cells": [
    {
      "cell_type": "markdown",
      "metadata": {
        "id": "view-in-github",
        "colab_type": "text"
      },
      "source": [
        "<a href=\"https://colab.research.google.com/github/OneFineStarstuff/OneFineStardust/blob/main/Creating_a_Simple_Game_with_Pygame.ipynb\" target=\"_parent\"><img src=\"https://colab.research.google.com/assets/colab-badge.svg\" alt=\"Open In Colab\"/></a>"
      ]
    },
    {
      "cell_type": "code",
      "execution_count": null,
      "metadata": {
        "id": "UxsT6mnMF_lI"
      },
      "outputs": [],
      "source": [
        "import pygame\n",
        "import random\n",
        "\n",
        "# Initialize Pygame\n",
        "pygame.init()\n",
        "\n",
        "# Set up display parameters\n",
        "width, height = 800, 600\n",
        "screen = pygame.display.set_mode((width, height))\n",
        "pygame.display.set_caption('Collect the Items')\n",
        "\n",
        "# Define colors\n",
        "WHITE = (255, 255, 255)\n",
        "RED = (255, 0, 0)\n",
        "GREEN = (0, 255, 0)\n",
        "\n",
        "# Game variables\n",
        "player_pos = [400, 300]\n",
        "item_pos = [random.randint(0, width - 20), random.randint(0, height - 20)]\n",
        "score = 0\n",
        "\n",
        "# Main game loop\n",
        "running = True\n",
        "while running:\n",
        "    for event in pygame.event.get():\n",
        "        if event.type == pygame.QUIT:\n",
        "            running = False\n",
        "\n",
        "    keys = pygame.key.get_pressed()\n",
        "    if keys[pygame.K_LEFT]:\n",
        "        player_pos[0] -= 5\n",
        "    if keys[pygame.K_RIGHT]:\n",
        "        player_pos[0] += 5\n",
        "    if keys[pygame.K_UP]:\n",
        "        player_pos[1] -= 5\n",
        "    if keys[pygame.K_DOWN]:\n",
        "        player_pos[1] += 5\n",
        "\n",
        "    # Collision detection with item\n",
        "    if (player_pos[0] < item_pos[0] < player_pos[0] + 20) and (player_pos[1] < item_pos[1] < player_pos[1] + 20):\n",
        "        score += 1\n",
        "        item_pos = [random.randint(0, width - 20), random.randint(0, height - 20)]\n",
        "\n",
        "    # Drawing everything on the screen\n",
        "    screen.fill(WHITE)\n",
        "    pygame.draw.rect(screen, GREEN, (player_pos[0], player_pos[1], 20, 20))   # Player character\n",
        "    pygame.draw.rect(screen, RED, (item_pos[0], item_pos[1], 20, 20))       # Item to collect\n",
        "\n",
        "    # Display score on screen\n",
        "    font = pygame.font.SysFont(None, 35)\n",
        "    score_text = font.render(f'Score: {score}', True, (0, 0, 0))\n",
        "    screen.blit(score_text, (10, 10))\n",
        "\n",
        "    pygame.display.flip()\n",
        "    pygame.time.delay(30)\n",
        "\n",
        "pygame.quit()"
      ]
    }
  ]
}