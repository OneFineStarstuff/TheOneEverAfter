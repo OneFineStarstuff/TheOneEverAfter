{
  "nbformat": 4,
  "nbformat_minor": 0,
  "metadata": {
    "colab": {
      "private_outputs": true,
      "provenance": [],
      "authorship_tag": "ABX9TyNzi5O2QPtpkdBndQK+8yO8",
      "include_colab_link": true
    },
    "kernelspec": {
      "name": "python3",
      "display_name": "Python 3"
    },
    "language_info": {
      "name": "python"
    }
  },
  "cells": [
    {
      "cell_type": "markdown",
      "metadata": {
        "id": "view-in-github",
        "colab_type": "text"
      },
      "source": [
        "<a href=\"https://colab.research.google.com/github/OneFineStarstuff/OneFineStarstuff/blob/main/Federated_Learning_for_Privacy_Preserving_AI.ipynb\" target=\"_parent\"><img src=\"https://colab.research.google.com/assets/colab-badge.svg\" alt=\"Open In Colab\"/></a>"
      ]
    },
    {
      "cell_type": "code",
      "execution_count": null,
      "metadata": {
        "id": "dMv8BF3cRSfu"
      },
      "outputs": [],
      "source": [
        "import torch\n",
        "import torch.nn as nn\n",
        "import torch.optim as optim\n",
        "\n",
        "# Define simple neural network for federated learning\n",
        "class SimpleNet(nn.Module):\n",
        "    def __init__(self, input_dim, output_dim):\n",
        "        super(SimpleNet, self).__init__()\n",
        "        self.fc1 = nn.Linear(input_dim, 128)\n",
        "        self.fc2 = nn.Linear(128, output_dim)\n",
        "\n",
        "    def forward(self, x):\n",
        "        x = torch.relu(self.fc1(x))\n",
        "        return self.fc2(x)\n",
        "\n",
        "# Simulated federated learning function\n",
        "def federated_learning(num_devices, data, model, num_rounds=5):\n",
        "    global_model = model\n",
        "    device_models = [SimpleNet(input_dim=4, output_dim=3) for _ in range(num_devices)]\n",
        "\n",
        "    for round in range(num_rounds):\n",
        "        # Simulate training on each device\n",
        "        for device_model in device_models:\n",
        "            device_optimizer = optim.SGD(device_model.parameters(), lr=0.01)\n",
        "            device_model.load_state_dict(global_model.state_dict())  # Sync models\n",
        "\n",
        "            # Train each model locally on device data\n",
        "            for X, y in data:\n",
        "                device_optimizer.zero_grad()\n",
        "                outputs = device_model(X)\n",
        "                loss = nn.CrossEntropyLoss()(outputs, y)\n",
        "                loss.backward()\n",
        "                device_optimizer.step()\n",
        "\n",
        "        # Aggregate weights from all devices\n",
        "        global_dict = global_model.state_dict()\n",
        "        for key in global_dict.keys():\n",
        "            global_dict[key] = torch.mean(\n",
        "                torch.stack([device_model.state_dict()[key] for device_model in device_models]), dim=0\n",
        "            )\n",
        "        global_model.load_state_dict(global_dict)\n",
        "\n",
        "    return global_model\n",
        "\n",
        "# Example usage (dummy data)\n",
        "model = SimpleNet(input_dim=4, output_dim=3)\n",
        "dummy_data = [(torch.randn(32, 4), torch.randint(0, 3, (32,)))]\n",
        "trained_model = federated_learning(num_devices=5, data=dummy_data, model=model)"
      ]
    }
  ]
}