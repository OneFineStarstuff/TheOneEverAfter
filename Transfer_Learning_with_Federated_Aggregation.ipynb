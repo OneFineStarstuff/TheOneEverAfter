{
  "nbformat": 4,
  "nbformat_minor": 0,
  "metadata": {
    "colab": {
      "private_outputs": true,
      "provenance": [],
      "authorship_tag": "ABX9TyMzd11sCCSxNeviMC4SLkgG",
      "include_colab_link": true
    },
    "kernelspec": {
      "name": "python3",
      "display_name": "Python 3"
    },
    "language_info": {
      "name": "python"
    }
  },
  "cells": [
    {
      "cell_type": "markdown",
      "metadata": {
        "id": "view-in-github",
        "colab_type": "text"
      },
      "source": [
        "<a href=\"https://colab.research.google.com/github/OneFineStarstuff/OneFineStarstuff/blob/main/Transfer_Learning_with_Federated_Aggregation.ipynb\" target=\"_parent\"><img src=\"https://colab.research.google.com/assets/colab-badge.svg\" alt=\"Open In Colab\"/></a>"
      ]
    },
    {
      "cell_type": "code",
      "execution_count": null,
      "metadata": {
        "id": "qSuilWBojvwb"
      },
      "outputs": [],
      "source": [
        "import torch\n",
        "import torch.nn as nn\n",
        "import torch.optim as optim\n",
        "\n",
        "class SimpleNN(nn.Module):\n",
        "    def __init__(self):\n",
        "        super(SimpleNN, self).__init__()\n",
        "        self.fc1 = nn.Linear(10, 5)\n",
        "        self.fc2 = nn.Linear(5, 1)\n",
        "\n",
        "    def forward(self, x):\n",
        "        x = torch.relu(self.fc1(x))\n",
        "        x = self.fc2(x)\n",
        "        return x\n",
        "\n",
        "def federated_transfer(global_model, client_data, epochs=1, lr=0.01):\n",
        "    for client in client_data:\n",
        "        # Copy global model to local model\n",
        "        local_model = SimpleNN()\n",
        "        local_model.load_state_dict(global_model.state_dict())\n",
        "\n",
        "        # Define loss and optimizer\n",
        "        criterion = nn.MSELoss()\n",
        "        optimizer = optim.SGD(local_model.parameters(), lr=lr)\n",
        "\n",
        "        # Training loop\n",
        "        local_model.train()\n",
        "        for epoch in range(epochs):\n",
        "            for data, target in client_data[client]:\n",
        "                optimizer.zero_grad()\n",
        "                output = local_model(data)\n",
        "                loss = criterion(output, target)\n",
        "                loss.backward()\n",
        "                optimizer.step()\n",
        "\n",
        "        # Get the local update\n",
        "        local_update = {k: v - global_model.state_dict()[k] for k, v in local_model.state_dict().items()}\n",
        "\n",
        "        # Aggregate updates into the global model\n",
        "        global_model = aggregate_updates(global_model, local_update)\n",
        "\n",
        "    return global_model\n",
        "\n",
        "def aggregate_updates(global_model, local_update):\n",
        "    # Example of simple averaging for aggregation\n",
        "    global_dict = global_model.state_dict()\n",
        "    for k in global_dict.keys():\n",
        "        global_dict[k] += local_update[k] / len(local_update)\n",
        "    global_model.load_state_dict(global_dict)\n",
        "    return global_model\n",
        "\n",
        "# Example usage\n",
        "global_model = SimpleNN()\n",
        "client_data = {\n",
        "    'client1': [(torch.randn(10), torch.tensor([1.0]))],\n",
        "    'client2': [(torch.randn(10), torch.tensor([2.0]))]\n",
        "}\n",
        "\n",
        "updated_global_model = federated_transfer(global_model, client_data)"
      ]
    }
  ]
}