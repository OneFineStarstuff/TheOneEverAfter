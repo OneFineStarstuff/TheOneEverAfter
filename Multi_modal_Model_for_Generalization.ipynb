{
  "nbformat": 4,
  "nbformat_minor": 0,
  "metadata": {
    "colab": {
      "private_outputs": true,
      "provenance": [],
      "authorship_tag": "ABX9TyNw0TOEzQMyml35qHrPiMFG",
      "include_colab_link": true
    },
    "kernelspec": {
      "name": "python3",
      "display_name": "Python 3"
    },
    "language_info": {
      "name": "python"
    }
  },
  "cells": [
    {
      "cell_type": "markdown",
      "metadata": {
        "id": "view-in-github",
        "colab_type": "text"
      },
      "source": [
        "<a href=\"https://colab.research.google.com/github/OneFineStarstuff/OneFineStardust/blob/main/Multi_modal_Model_for_Generalization.ipynb\" target=\"_parent\"><img src=\"https://colab.research.google.com/assets/colab-badge.svg\" alt=\"Open In Colab\"/></a>"
      ]
    },
    {
      "cell_type": "code",
      "execution_count": null,
      "metadata": {
        "id": "gFzhdgZUDPgK"
      },
      "outputs": [],
      "source": [
        "import torch\n",
        "import torch.nn as nn\n",
        "import torch.nn.functional as F\n",
        "\n",
        "class MultiModalNetwork(nn.Module):\n",
        "    def __init__(self, text_dim, image_dim, output_dim):\n",
        "        super(MultiModalNetwork, self).__init__()\n",
        "        self.text_fc = nn.Linear(text_dim, 128)\n",
        "        self.image_fc = nn.Linear(image_dim, 128)\n",
        "        self.output_fc = nn.Linear(256, output_dim)\n",
        "\n",
        "    def forward(self, text_input, image_input):\n",
        "        text_out = F.relu(self.text_fc(text_input))\n",
        "        image_out = F.relu(self.image_fc(image_input))\n",
        "        combined = torch.cat((text_out, image_out), dim=1)\n",
        "        output = self.output_fc(combined)\n",
        "        return output\n",
        "\n",
        "# Example usage\n",
        "text_input = torch.randn(5, 300)  # Example text features\n",
        "image_input = torch.randn(5, 2048)  # Example image features\n",
        "model = MultiModalNetwork(300, 2048, 10)\n",
        "output = model(text_input, image_input)\n",
        "\n",
        "print(output)"
      ]
    }
  ]
}