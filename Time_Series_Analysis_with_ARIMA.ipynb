{
  "nbformat": 4,
  "nbformat_minor": 0,
  "metadata": {
    "colab": {
      "private_outputs": true,
      "provenance": [],
      "authorship_tag": "ABX9TyOWHRhZgjLgK9MeV7QtynMz",
      "include_colab_link": true
    },
    "kernelspec": {
      "name": "python3",
      "display_name": "Python 3"
    },
    "language_info": {
      "name": "python"
    }
  },
  "cells": [
    {
      "cell_type": "markdown",
      "metadata": {
        "id": "view-in-github",
        "colab_type": "text"
      },
      "source": [
        "<a href=\"https://colab.research.google.com/github/OneFineStarstuff/OneFineStardust/blob/main/Time_Series_Analysis_with_ARIMA.ipynb\" target=\"_parent\"><img src=\"https://colab.research.google.com/assets/colab-badge.svg\" alt=\"Open In Colab\"/></a>"
      ]
    },
    {
      "cell_type": "code",
      "execution_count": null,
      "metadata": {
        "id": "LdUqJzf1q5fE"
      },
      "outputs": [],
      "source": [
        "import pandas as pd\n",
        "import numpy as np\n",
        "import matplotlib.pyplot as plt\n",
        "from statsmodels.tsa.arima.model import ARIMA\n",
        "\n",
        "# Generate synthetic time series data\n",
        "np.random.seed(0)\n",
        "data = pd.Series(np.random.randn(100).cumsum())\n",
        "\n",
        "# Fit ARIMA model (p=1, d=1, q=1)\n",
        "model = ARIMA(data, order=(1, 1, 1))\n",
        "model_fit = model.fit()\n",
        "\n",
        "# Forecast future values\n",
        "forecast = model_fit.forecast(steps=10)\n",
        "\n",
        "# Plot the results\n",
        "plt.plot(data.index, data, label='Original Data')\n",
        "plt.plot(range(len(data), len(data) + len(forecast)), forecast, label='Forecast', color='red')\n",
        "plt.title('ARIMA Forecasting')\n",
        "plt.xlabel('Time')\n",
        "plt.ylabel('Value')\n",
        "plt.legend()\n",
        "plt.show()"
      ]
    }
  ]
}