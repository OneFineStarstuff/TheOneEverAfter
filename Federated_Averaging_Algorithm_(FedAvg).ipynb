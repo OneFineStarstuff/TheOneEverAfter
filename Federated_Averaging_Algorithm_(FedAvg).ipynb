{
  "nbformat": 4,
  "nbformat_minor": 0,
  "metadata": {
    "colab": {
      "private_outputs": true,
      "provenance": [],
      "authorship_tag": "ABX9TyPA58M/xYTkPO3/cXxIxkEO",
      "include_colab_link": true
    },
    "kernelspec": {
      "name": "python3",
      "display_name": "Python 3"
    },
    "language_info": {
      "name": "python"
    }
  },
  "cells": [
    {
      "cell_type": "markdown",
      "metadata": {
        "id": "view-in-github",
        "colab_type": "text"
      },
      "source": [
        "<a href=\"https://colab.research.google.com/github/OneFineStarstuff/OneFineStarstuff/blob/main/Federated_Averaging_Algorithm_(FedAvg).ipynb\" target=\"_parent\"><img src=\"https://colab.research.google.com/assets/colab-badge.svg\" alt=\"Open In Colab\"/></a>"
      ]
    },
    {
      "cell_type": "code",
      "execution_count": null,
      "metadata": {
        "id": "XJzN7ywvz7H9"
      },
      "outputs": [],
      "source": [
        "import torch\n",
        "import torch.nn as nn\n",
        "import torch.optim as optim\n",
        "from torch.utils.data import DataLoader, random_split, TensorDataset\n",
        "\n",
        "# Example dataset (let's create a synthetic dataset for demonstration)\n",
        "data = torch.randn(1000, 10)  # 1000 samples, 10 features\n",
        "labels = torch.randint(0, 2, (1000,))  # Binary classification\n",
        "\n",
        "# Create a TensorDataset\n",
        "dataset = TensorDataset(data, labels)\n",
        "\n",
        "# Split the dataset into 5 local data splits\n",
        "num_devices = 5\n",
        "local_data_splits = random_split(dataset, [len(dataset) // num_devices] * num_devices)\n",
        "\n",
        "# Define the model architecture\n",
        "class SimpleModel(nn.Module):\n",
        "    def __init__(self):\n",
        "        super(SimpleModel, self).__init__()\n",
        "        self.fc = nn.Linear(10, 2)  # Example model with 10 input features and 2 output classes\n",
        "\n",
        "    def forward(self, x):\n",
        "        return self.fc(x)\n",
        "\n",
        "# Local training function\n",
        "def train_local_model(data, model, epochs=5, lr=0.01):\n",
        "    model.train()\n",
        "    optimizer = optim.SGD(model.parameters(), lr=lr)\n",
        "    criterion = nn.CrossEntropyLoss()\n",
        "\n",
        "    data_loader = DataLoader(data, batch_size=32, shuffle=True)\n",
        "\n",
        "    for epoch in range(epochs):\n",
        "        for inputs, labels in data_loader:\n",
        "            optimizer.zero_grad()\n",
        "            outputs = model(inputs)\n",
        "            loss = criterion(outputs, labels)\n",
        "            loss.backward()\n",
        "            optimizer.step()\n",
        "    return model.state_dict()\n",
        "\n",
        "# Function to average weights\n",
        "def average_weights(local_models):\n",
        "    global_weights = local_models[0]\n",
        "    for key in global_weights.keys():\n",
        "        for i in range(1, len(local_models)):\n",
        "            global_weights[key] += local_models[i][key]\n",
        "        global_weights[key] = torch.div(global_weights[key], len(local_models))\n",
        "    return global_weights\n",
        "\n",
        "# Assuming 'initial_model' is the same model architecture used on each device\n",
        "initial_model = SimpleModel\n",
        "\n",
        "# Train local models and collect their weights\n",
        "local_models = []\n",
        "for data in local_data_splits:\n",
        "    model = initial_model()  # Initialize the model\n",
        "    local_model_weights = train_local_model(data, model)\n",
        "    local_models.append(local_model_weights)\n",
        "\n",
        "# Server computes the average of the models\n",
        "global_weights = average_weights(local_models)\n",
        "global_model = initial_model()\n",
        "global_model.load_state_dict(global_weights)\n",
        "\n",
        "print(\"Federated learning process completed!\")"
      ]
    }
  ]
}