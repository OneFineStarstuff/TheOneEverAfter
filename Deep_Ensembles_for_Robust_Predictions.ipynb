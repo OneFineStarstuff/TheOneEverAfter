{
  "nbformat": 4,
  "nbformat_minor": 0,
  "metadata": {
    "colab": {
      "private_outputs": true,
      "provenance": [],
      "authorship_tag": "ABX9TyO50Ctc7ZY3ZCWUi8YdFjCD",
      "include_colab_link": true
    },
    "kernelspec": {
      "name": "python3",
      "display_name": "Python 3"
    },
    "language_info": {
      "name": "python"
    }
  },
  "cells": [
    {
      "cell_type": "markdown",
      "metadata": {
        "id": "view-in-github",
        "colab_type": "text"
      },
      "source": [
        "<a href=\"https://colab.research.google.com/github/OneFineStarstuff/OneFineStarstuff/blob/main/Deep_Ensembles_for_Robust_Predictions.ipynb\" target=\"_parent\"><img src=\"https://colab.research.google.com/assets/colab-badge.svg\" alt=\"Open In Colab\"/></a>"
      ]
    },
    {
      "cell_type": "code",
      "execution_count": null,
      "metadata": {
        "id": "1CwBiwkOlVwI"
      },
      "outputs": [],
      "source": [
        "import torch\n",
        "import torch.nn as nn\n",
        "\n",
        "# Define a simple model class\n",
        "class SimpleModel(nn.Module):\n",
        "    def __init__(self):\n",
        "        super(SimpleModel, self).__init__()\n",
        "        self.fc = nn.Linear(10, 1)\n",
        "\n",
        "    def forward(self, x):\n",
        "        return self.fc(x)\n",
        "\n",
        "# Initialize dummy models\n",
        "model1 = SimpleModel()\n",
        "model2 = SimpleModel()\n",
        "model3 = SimpleModel()\n",
        "models = [model1, model2, model3]\n",
        "\n",
        "# Dummy input data\n",
        "input_data = torch.randn(1, 10)\n",
        "\n",
        "# Ensemble prediction function\n",
        "def ensemble_predict(models, input_data):\n",
        "    predictions = [model(input_data) for model in models]\n",
        "    mean_prediction = torch.mean(torch.stack(predictions), dim=0)\n",
        "    uncertainty = torch.var(torch.stack(predictions), dim=0)\n",
        "    return mean_prediction, uncertainty\n",
        "\n",
        "# Get ensemble predictions\n",
        "mean_prediction, uncertainty = ensemble_predict(models, input_data)\n",
        "\n",
        "print(\"Mean Prediction:\", mean_prediction)\n",
        "print(\"Uncertainty:\", uncertainty)"
      ]
    }
  ]
}