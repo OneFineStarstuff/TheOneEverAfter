{
  "nbformat": 4,
  "nbformat_minor": 0,
  "metadata": {
    "colab": {
      "private_outputs": true,
      "provenance": [],
      "authorship_tag": "ABX9TyOtUWwDAXXkqh3lWLFomeOa",
      "include_colab_link": true
    },
    "kernelspec": {
      "name": "python3",
      "display_name": "Python 3"
    },
    "language_info": {
      "name": "python"
    }
  },
  "cells": [
    {
      "cell_type": "markdown",
      "metadata": {
        "id": "view-in-github",
        "colab_type": "text"
      },
      "source": [
        "<a href=\"https://colab.research.google.com/github/OneFineStarstuff/OneFineStarstuff/blob/main/Data_Augmentation_with_GANs_(Generative_Adversarial_Networks).ipynb\" target=\"_parent\"><img src=\"https://colab.research.google.com/assets/colab-badge.svg\" alt=\"Open In Colab\"/></a>"
      ]
    },
    {
      "cell_type": "code",
      "execution_count": null,
      "metadata": {
        "id": "TdRhLgkupgNR"
      },
      "outputs": [],
      "source": [
        "import torch\n",
        "import torch.nn as nn\n",
        "\n",
        "# Define the generator class\n",
        "class Generator(nn.Module):\n",
        "    def __init__(self):\n",
        "        super().__init__()\n",
        "        # Define generator layers\n",
        "        self.fc = nn.Sequential(\n",
        "            nn.Linear(100, 256),\n",
        "            nn.ReLU(),\n",
        "            nn.Linear(256, 784),\n",
        "            nn.Tanh()\n",
        "        )\n",
        "\n",
        "    def forward(self, x):\n",
        "        return self.fc(x)\n",
        "\n",
        "# Generate synthetic samples\n",
        "batch_size = 64  # Define batch size\n",
        "noise = torch.randn(batch_size, 100)  # Create random noise\n",
        "\n",
        "# Initialize the generator and generate synthetic data\n",
        "generator = Generator()\n",
        "synthetic_data = generator(noise)\n",
        "\n",
        "# Reshape synthetic data to the image format (e.g., for MNIST dataset)\n",
        "synthetic_images = synthetic_data.view(batch_size, 1, 28, 28)  # Reshape to (batch_size, channels, height, width)\n",
        "\n",
        "# Print the shape of the synthetic images\n",
        "print(\"Shape of synthetic images:\", synthetic_images.shape)"
      ]
    }
  ]
}