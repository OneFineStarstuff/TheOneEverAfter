{
  "nbformat": 4,
  "nbformat_minor": 0,
  "metadata": {
    "colab": {
      "private_outputs": true,
      "provenance": [],
      "authorship_tag": "ABX9TyPJkXxHIdsjtMuDqYeoeFky",
      "include_colab_link": true
    },
    "kernelspec": {
      "name": "python3",
      "display_name": "Python 3"
    },
    "language_info": {
      "name": "python"
    }
  },
  "cells": [
    {
      "cell_type": "markdown",
      "metadata": {
        "id": "view-in-github",
        "colab_type": "text"
      },
      "source": [
        "<a href=\"https://colab.research.google.com/github/OneFineStarstuff/OneFineStarstuff/blob/main/Fairness_Constraints_and_Techniques.ipynb\" target=\"_parent\"><img src=\"https://colab.research.google.com/assets/colab-badge.svg\" alt=\"Open In Colab\"/></a>"
      ]
    },
    {
      "cell_type": "code",
      "source": [
        "pip install aif360"
      ],
      "metadata": {
        "id": "_ofrEKDFzhBL"
      },
      "execution_count": null,
      "outputs": []
    },
    {
      "cell_type": "code",
      "source": [
        "!mkdir -p /usr/local/lib/python3.10/dist-packages/aif360/data/raw/adult"
      ],
      "metadata": {
        "id": "pToxcykX1cmC"
      },
      "execution_count": null,
      "outputs": []
    },
    {
      "cell_type": "code",
      "source": [
        "!mv adult.data /usr/local/lib/python3.10/dist-packages/aif360/data/raw/adult\n",
        "!mv adult.test /usr/local/lib/python3.10/dist-packages/aif360/data/raw/adult\n",
        "!mv adult.names /usr/local/lib/python3.10/dist-packages/aif360/data/raw/adult"
      ],
      "metadata": {
        "id": "IqFozi6A1vKA"
      },
      "execution_count": null,
      "outputs": []
    },
    {
      "cell_type": "code",
      "source": [
        "!pip install 'aif360[Reductions]'\n",
        "!pip install 'aif360[inFairness]'"
      ],
      "metadata": {
        "id": "323YT5bl0jfg"
      },
      "execution_count": null,
      "outputs": []
    },
    {
      "cell_type": "code",
      "execution_count": null,
      "metadata": {
        "id": "v8Olrad-yY3X"
      },
      "outputs": [],
      "source": [
        "from aif360.datasets import AdultDataset\n",
        "from aif360.metrics import BinaryLabelDatasetMetric\n",
        "from aif360.algorithms.inprocessing import PrejudiceRemover\n",
        "\n",
        "# Load the dataset\n",
        "dataset = AdultDataset()\n",
        "\n",
        "# Define privileged and unprivileged groups\n",
        "privileged_groups = [{'sex': 1}]\n",
        "unprivileged_groups = [{'sex': 0}]\n",
        "\n",
        "# BinaryLabelDatasetMetric for fairness evaluation\n",
        "metric = BinaryLabelDatasetMetric(dataset, unprivileged_groups=unprivileged_groups, privileged_groups=privileged_groups)\n",
        "\n",
        "# Output some fairness metrics\n",
        "print(\"Difference in mean outcomes between unprivileged and privileged groups = %f\" % metric.mean_difference())\n",
        "\n",
        "# Prejudice Remover Model\n",
        "pr_model = PrejudiceRemover(sensitive_attr='sex', eta=1.0)\n",
        "pr_model.fit(dataset)\n",
        "\n",
        "# Make predictions\n",
        "predictions = pr_model.predict(dataset)\n",
        "\n",
        "# Evaluate the predictions\n",
        "new_metric = BinaryLabelDatasetMetric(predictions, unprivileged_groups=unprivileged_groups, privileged_groups=privileged_groups)\n",
        "print(\"New difference in mean outcomes between unprivileged and privileged groups = %f\" % new_metric.mean_difference())"
      ]
    }
  ]
}