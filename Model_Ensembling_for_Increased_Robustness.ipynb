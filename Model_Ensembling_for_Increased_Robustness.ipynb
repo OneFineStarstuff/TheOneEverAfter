{
  "nbformat": 4,
  "nbformat_minor": 0,
  "metadata": {
    "colab": {
      "private_outputs": true,
      "provenance": [],
      "authorship_tag": "ABX9TyPin64WtSFqB6hfFX9wFEQI",
      "include_colab_link": true
    },
    "kernelspec": {
      "name": "python3",
      "display_name": "Python 3"
    },
    "language_info": {
      "name": "python"
    }
  },
  "cells": [
    {
      "cell_type": "markdown",
      "metadata": {
        "id": "view-in-github",
        "colab_type": "text"
      },
      "source": [
        "<a href=\"https://colab.research.google.com/github/OneFineStarstuff/OneFineStarstuff/blob/main/Model_Ensembling_for_Increased_Robustness.ipynb\" target=\"_parent\"><img src=\"https://colab.research.google.com/assets/colab-badge.svg\" alt=\"Open In Colab\"/></a>"
      ]
    },
    {
      "cell_type": "code",
      "execution_count": null,
      "metadata": {
        "id": "-tViB4DmfHEm"
      },
      "outputs": [],
      "source": [
        "import torch\n",
        "import torch.nn as nn\n",
        "from transformers import AutoModelForCausalLM, AutoTokenizer\n",
        "\n",
        "# Define individual models\n",
        "model1 = AutoModelForCausalLM.from_pretrained(\"gpt2\")\n",
        "model2 = AutoModelForCausalLM.from_pretrained(\"gpt2-medium\")\n",
        "model3 = AutoModelForCausalLM.from_pretrained(\"gpt2-large\")\n",
        "\n",
        "# Define the ensemble model class\n",
        "class EnsembleFoundationModel(nn.Module):\n",
        "    def __init__(self, models):\n",
        "        super().__init__()\n",
        "        self.models = nn.ModuleList(models)\n",
        "\n",
        "    def forward(self, input_ids, attention_mask):\n",
        "        outputs = [model(input_ids, attention_mask=attention_mask).logits for model in self.models]\n",
        "        return torch.mean(torch.stack(outputs), dim=0)  # Average predictions for ensemble\n",
        "\n",
        "# Instantiate the ensemble model with the pre-trained models\n",
        "model_ensemble = EnsembleFoundationModel([model1, model2, model3])\n",
        "\n",
        "# Initialize tokenizer\n",
        "tokenizer = AutoTokenizer.from_pretrained(\"gpt2\")\n",
        "\n",
        "# Example input text\n",
        "input_text = \"Once upon a time\"\n",
        "\n",
        "# Tokenize input text\n",
        "inputs = tokenizer(input_text, return_tensors=\"pt\")\n",
        "input_ids = inputs[\"input_ids\"]\n",
        "attention_mask = inputs[\"attention_mask\"]\n",
        "\n",
        "# Get ensemble model output\n",
        "outputs = model_ensemble(input_ids=input_ids, attention_mask=attention_mask)\n",
        "\n",
        "# Decode the generated tokens (if needed)\n",
        "generated_text = tokenizer.decode(torch.argmax(outputs, dim=-1).squeeze(), skip_special_tokens=True)\n",
        "\n",
        "print(\"Generated text:\", generated_text)"
      ]
    }
  ]
}