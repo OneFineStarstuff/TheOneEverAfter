{
  "nbformat": 4,
  "nbformat_minor": 0,
  "metadata": {
    "colab": {
      "private_outputs": true,
      "provenance": [],
      "authorship_tag": "ABX9TyNxqQaK8V5NiN4qbZYa6YOn",
      "include_colab_link": true
    },
    "kernelspec": {
      "name": "python3",
      "display_name": "Python 3"
    },
    "language_info": {
      "name": "python"
    }
  },
  "cells": [
    {
      "cell_type": "markdown",
      "metadata": {
        "id": "view-in-github",
        "colab_type": "text"
      },
      "source": [
        "<a href=\"https://colab.research.google.com/github/OneFineStarstuff/OneFineStardust/blob/main/Robotics_Simulation_with_ROS_(Robot_Operating_System).ipynb\" target=\"_parent\"><img src=\"https://colab.research.google.com/assets/colab-badge.svg\" alt=\"Open In Colab\"/></a>"
      ]
    },
    {
      "cell_type": "code",
      "execution_count": null,
      "metadata": {
        "id": "XvNth_gmbile"
      },
      "outputs": [],
      "source": [
        "# Install ROS (if not already installed)\n",
        "!sudo apt-get install ros-noetic-desktop-full"
      ]
    },
    {
      "cell_type": "code",
      "source": [
        "!sudo apt-get install ros-<your_ros_distro>-rospy"
      ],
      "metadata": {
        "id": "ID6hxPm1b_eZ"
      },
      "execution_count": null,
      "outputs": []
    },
    {
      "cell_type": "code",
      "source": [
        "import rospy\n",
        "from geometry_msgs.msg import Twist\n",
        "\n",
        "def move_robot():\n",
        "    rospy.init_node('robot_mover', anonymous=True)\n",
        "    pub = rospy.Publisher('/cmd_vel', Twist, queue_size=10)\n",
        "    rate = rospy.Rate(10)  # 10hz\n",
        "    move_cmd = Twist()\n",
        "\n",
        "    # Move forward\n",
        "    move_cmd.linear.x = 0.5  # Move forward at 0.5 m/s\n",
        "    move_cmd.angular.z = 0.0  # No rotation\n",
        "\n",
        "    while not rospy.is_shutdown():\n",
        "        pub.publish(move_cmd)\n",
        "        rate.sleep()\n",
        "\n",
        "if __name__ == '__main__':\n",
        "    try:\n",
        "        move_robot()\n",
        "    except rospy.ROSInterruptException:\n",
        "        pass"
      ],
      "metadata": {
        "id": "p5kiZhKzbpkd"
      },
      "execution_count": null,
      "outputs": []
    }
  ]
}