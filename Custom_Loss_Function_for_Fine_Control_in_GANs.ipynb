{
  "nbformat": 4,
  "nbformat_minor": 0,
  "metadata": {
    "colab": {
      "private_outputs": true,
      "provenance": [],
      "authorship_tag": "ABX9TyOdmsdOCNeAY5UfFU+IIsU0",
      "include_colab_link": true
    },
    "kernelspec": {
      "name": "python3",
      "display_name": "Python 3"
    },
    "language_info": {
      "name": "python"
    }
  },
  "cells": [
    {
      "cell_type": "markdown",
      "metadata": {
        "id": "view-in-github",
        "colab_type": "text"
      },
      "source": [
        "<a href=\"https://colab.research.google.com/github/OneFineStarstuff/OneFineStarstuff/blob/main/Custom_Loss_Function_for_Fine_Control_in_GANs.ipynb\" target=\"_parent\"><img src=\"https://colab.research.google.com/assets/colab-badge.svg\" alt=\"Open In Colab\"/></a>"
      ]
    },
    {
      "cell_type": "code",
      "execution_count": null,
      "metadata": {
        "id": "kQrboh3oKYq-"
      },
      "outputs": [],
      "source": [
        "import torch\n",
        "import torch.nn.functional as F\n",
        "from torchvision import models\n",
        "\n",
        "class PerceptualLoss(torch.nn.Module):\n",
        "    def __init__(self):\n",
        "        super(PerceptualLoss, self).__init__()\n",
        "        vgg = models.vgg19(weights=models.VGG19_Weights.IMAGENET1K_V1).features\n",
        "        self.model = torch.nn.Sequential(*list(vgg[:36]))  # Use the first 36 layers of VGG19\n",
        "        self.layers = {'3': 'relu1_2', '8': 'relu2_2', '17': 'relu3_3', '26': 'relu4_3', '35': 'relu5_3'}  # Corrected layer names\n",
        "\n",
        "    def forward(self, real, generated):\n",
        "        real_feats = self.extract_features(real)\n",
        "        gen_feats = self.extract_features(generated)\n",
        "        loss = 0\n",
        "        for layer in self.layers.values():\n",
        "            loss += F.l1_loss(real_feats[layer], gen_feats[layer])\n",
        "        return loss\n",
        "\n",
        "    def extract_features(self, x):\n",
        "        features = {}\n",
        "        for name, layer in self.model._modules.items():\n",
        "            x = layer(x)\n",
        "            if name in self.layers:\n",
        "                features[self.layers[name]] = x\n",
        "        return features\n",
        "\n",
        "# Example usage\n",
        "device = torch.device(\"cuda\" if torch.cuda.is_available() else \"cpu\")\n",
        "perceptual_loss = PerceptualLoss().to(device)\n",
        "\n",
        "real = torch.randn(1, 3, 224, 224).to(device)  # Example real image tensor\n",
        "generated = torch.randn(1, 3, 224, 224).to(device)  # Example generated image tensor\n",
        "\n",
        "loss = perceptual_loss(real, generated)\n",
        "print(f\"Perceptual Loss: {loss.item()}\")"
      ]
    }
  ]
}