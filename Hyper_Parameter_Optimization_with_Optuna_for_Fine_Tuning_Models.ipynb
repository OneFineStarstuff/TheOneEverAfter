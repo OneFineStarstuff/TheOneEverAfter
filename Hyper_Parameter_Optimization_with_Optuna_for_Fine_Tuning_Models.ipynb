{
  "nbformat": 4,
  "nbformat_minor": 0,
  "metadata": {
    "colab": {
      "private_outputs": true,
      "provenance": [],
      "authorship_tag": "ABX9TyMf0pV3z0PPGJRoU6xm5r4W",
      "include_colab_link": true
    },
    "kernelspec": {
      "name": "python3",
      "display_name": "Python 3"
    },
    "language_info": {
      "name": "python"
    }
  },
  "cells": [
    {
      "cell_type": "markdown",
      "metadata": {
        "id": "view-in-github",
        "colab_type": "text"
      },
      "source": [
        "<a href=\"https://colab.research.google.com/github/OneFineStarstuff/OneFineStarstuff/blob/main/Hyper_Parameter_Optimization_with_Optuna_for_Fine_Tuning_Models.ipynb\" target=\"_parent\"><img src=\"https://colab.research.google.com/assets/colab-badge.svg\" alt=\"Open In Colab\"/></a>"
      ]
    },
    {
      "cell_type": "code",
      "source": [
        "pip install optuna"
      ],
      "metadata": {
        "id": "fPvgqLAAdbY7"
      },
      "execution_count": null,
      "outputs": []
    },
    {
      "cell_type": "code",
      "execution_count": null,
      "metadata": {
        "id": "5V-IchZydNUP"
      },
      "outputs": [],
      "source": [
        "import optuna\n",
        "import torch\n",
        "import torch.nn as nn\n",
        "import torch.optim as optim\n",
        "\n",
        "# Define the model\n",
        "class SimpleNet(nn.Module):\n",
        "    def __init__(self, input_dim, hidden_dim, output_dim):\n",
        "        super(SimpleNet, self).__init__()\n",
        "        self.fc1 = nn.Linear(input_dim, hidden_dim)\n",
        "        self.fc2 = nn.Linear(hidden_dim, output_dim)\n",
        "\n",
        "    def forward(self, x):\n",
        "        x = torch.relu(self.fc1(x))\n",
        "        return self.fc2(x)\n",
        "\n",
        "# Define the objective function\n",
        "def objective(trial):\n",
        "    hidden_dim = trial.suggest_int(\"hidden_dim\", 32, 128)\n",
        "    learning_rate = trial.suggest_float(\"lr\", 1e-5, 1e-2)\n",
        "\n",
        "    model = SimpleNet(input_dim=10, hidden_dim=hidden_dim, output_dim=1)\n",
        "    optimizer = optim.Adam(model.parameters(), lr=learning_rate)\n",
        "    criterion = nn.MSELoss()\n",
        "\n",
        "    # Dummy training loop\n",
        "    for epoch in range(10):\n",
        "        optimizer.zero_grad()\n",
        "        dummy_data = torch.randn(32, 10)\n",
        "        dummy_target = torch.randn(32, 1)\n",
        "        output = model(dummy_data)\n",
        "        loss = criterion(output, dummy_target)\n",
        "        loss.backward()\n",
        "        optimizer.step()\n",
        "\n",
        "    return loss.item()\n",
        "\n",
        "# Run Optuna optimization\n",
        "study = optuna.create_study(direction=\"minimize\")\n",
        "study.optimize(objective, n_trials=50)\n",
        "\n",
        "print(\"Best parameters found:\", study.best_params)"
      ]
    }
  ]
}