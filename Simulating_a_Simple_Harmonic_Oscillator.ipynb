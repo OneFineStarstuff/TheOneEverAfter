{
  "nbformat": 4,
  "nbformat_minor": 0,
  "metadata": {
    "colab": {
      "private_outputs": true,
      "provenance": [],
      "authorship_tag": "ABX9TyMNcjB4Irl3fizk5uz2G0Fz",
      "include_colab_link": true
    },
    "kernelspec": {
      "name": "python3",
      "display_name": "Python 3"
    },
    "language_info": {
      "name": "python"
    }
  },
  "cells": [
    {
      "cell_type": "markdown",
      "metadata": {
        "id": "view-in-github",
        "colab_type": "text"
      },
      "source": [
        "<a href=\"https://colab.research.google.com/github/OneFineStarstuff/OneFineStardust/blob/main/Simulating_a_Simple_Harmonic_Oscillator.ipynb\" target=\"_parent\"><img src=\"https://colab.research.google.com/assets/colab-badge.svg\" alt=\"Open In Colab\"/></a>"
      ]
    },
    {
      "cell_type": "code",
      "execution_count": null,
      "metadata": {
        "id": "TFEd6sGUsZau"
      },
      "outputs": [],
      "source": [
        "import numpy as np\n",
        "import matplotlib.pyplot as plt\n",
        "\n",
        "# Parameters\n",
        "m = 1.0  # mass (kg)\n",
        "k = 1.0  # spring constant (N/m)\n",
        "x0 = 1.0  # initial position (m)\n",
        "v0 = 0.0  # initial velocity (m/s)\n",
        "t_max = 10.0  # total time (s)\n",
        "dt = 0.01  # time step (s)\n",
        "\n",
        "# Time array\n",
        "t = np.arange(0, t_max, dt)\n",
        "\n",
        "# Initialize arrays for position and velocity\n",
        "x = np.zeros_like(t)\n",
        "v = np.zeros_like(t)\n",
        "\n",
        "# Initial conditions\n",
        "x[0] = x0\n",
        "v[0] = v0\n",
        "\n",
        "# Numerical integration using Euler's method\n",
        "for i in range(1, len(t)):\n",
        "    a = -k/m * x[i-1]  # acceleration\n",
        "    v[i] = v[i-1] + a * dt  # update velocity\n",
        "    x[i] = x[i-1] + v[i-1] * dt  # update position\n",
        "\n",
        "# Plotting the results\n",
        "plt.figure(figsize=(10, 5))\n",
        "plt.plot(t, x, label='Position (m)')\n",
        "plt.plot(t, v, label='Velocity (m/s)')\n",
        "plt.title('Simple Harmonic Oscillator')\n",
        "plt.xlabel('Time (s)')\n",
        "plt.ylabel('Position / Velocity')\n",
        "plt.legend()\n",
        "plt.grid()\n",
        "plt.show()"
      ]
    }
  ]
}