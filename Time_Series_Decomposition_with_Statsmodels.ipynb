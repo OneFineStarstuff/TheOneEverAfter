{
  "nbformat": 4,
  "nbformat_minor": 0,
  "metadata": {
    "colab": {
      "private_outputs": true,
      "provenance": [],
      "authorship_tag": "ABX9TyNNImdSBZKJpd2J3SNB4NfH",
      "include_colab_link": true
    },
    "kernelspec": {
      "name": "python3",
      "display_name": "Python 3"
    },
    "language_info": {
      "name": "python"
    }
  },
  "cells": [
    {
      "cell_type": "markdown",
      "metadata": {
        "id": "view-in-github",
        "colab_type": "text"
      },
      "source": [
        "<a href=\"https://colab.research.google.com/github/OneFineStarstuff/OneFineStardust/blob/main/Time_Series_Decomposition_with_Statsmodels.ipynb\" target=\"_parent\"><img src=\"https://colab.research.google.com/assets/colab-badge.svg\" alt=\"Open In Colab\"/></a>"
      ]
    },
    {
      "cell_type": "code",
      "execution_count": null,
      "metadata": {
        "id": "7Kxy2cGN16nf"
      },
      "outputs": [],
      "source": [
        "import pandas as pd\n",
        "import numpy as np\n",
        "import matplotlib.pyplot as plt\n",
        "from statsmodels.tsa.seasonal import seasonal_decompose\n",
        "\n",
        "# Generate synthetic time series data with trend and seasonality\n",
        "np.random.seed(0)\n",
        "time = pd.date_range(start='2020-01-01', periods=100)\n",
        "data = pd.Series(np.sin(np.linspace(0, 3 * np.pi, 100)) + np.random.normal(size=100) * 0.5 + np.linspace(0, 5, 100), index=time)\n",
        "\n",
        "# Decompose the time series using additive model\n",
        "result = seasonal_decompose(data, model='additive')\n",
        "\n",
        "# Plot the decomposition results\n",
        "result.plot()\n",
        "plt.show()"
      ]
    }
  ]
}