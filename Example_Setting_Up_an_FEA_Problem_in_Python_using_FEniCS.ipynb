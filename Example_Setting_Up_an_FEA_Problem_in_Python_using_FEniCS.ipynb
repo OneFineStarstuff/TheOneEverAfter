{
  "nbformat": 4,
  "nbformat_minor": 0,
  "metadata": {
    "colab": {
      "private_outputs": true,
      "provenance": [],
      "authorship_tag": "ABX9TyPhbvO4qg3zZsaGye7yQNfa",
      "include_colab_link": true
    },
    "kernelspec": {
      "name": "python3",
      "display_name": "Python 3"
    },
    "language_info": {
      "name": "python"
    }
  },
  "cells": [
    {
      "cell_type": "markdown",
      "metadata": {
        "id": "view-in-github",
        "colab_type": "text"
      },
      "source": [
        "<a href=\"https://colab.research.google.com/github/OneFineStarstuff/OneFineStardust/blob/main/Example_Setting_Up_an_FEA_Problem_in_Python_using_FEniCS.ipynb\" target=\"_parent\"><img src=\"https://colab.research.google.com/assets/colab-badge.svg\" alt=\"Open In Colab\"/></a>"
      ]
    },
    {
      "cell_type": "code",
      "source": [
        "!docker run -ti -v $(pwd):/home/fenics/shared -w /home/fenics/shared quay.io/fenicsproject/stable:latest"
      ],
      "metadata": {
        "id": "7W2dtUZpGfzP"
      },
      "execution_count": null,
      "outputs": []
    },
    {
      "cell_type": "code",
      "source": [
        "!conda create -n fenicsproject -c conda-forge fenics\n",
        "!conda activate fenicsproject"
      ],
      "metadata": {
        "id": "9KVu_cQGHY_H"
      },
      "execution_count": null,
      "outputs": []
    },
    {
      "cell_type": "code",
      "source": [
        "!sudo apt-get install fenics"
      ],
      "metadata": {
        "id": "-r27R-IFHuA0"
      },
      "execution_count": null,
      "outputs": []
    },
    {
      "cell_type": "code",
      "execution_count": null,
      "metadata": {
        "id": "i1v7cUuSGTtZ"
      },
      "outputs": [],
      "source": [
        "from dolfin import *\n",
        "\n",
        "# Create mesh and define function space\n",
        "mesh = UnitSquareMesh(10, 10)\n",
        "V = FunctionSpace(mesh, 'P', 1)\n",
        "\n",
        "# Define boundary condition\n",
        "u_bc = Constant(0.0)\n",
        "bc = DirichletBC(V, u_bc, 'on_boundary')\n",
        "\n",
        "# Define variational problem\n",
        "u = TrialFunction(V)\n",
        "v = TestFunction(V)\n",
        "f = Constant(1.0)\n",
        "a = dot(grad(u), grad(v)) * dx\n",
        "L = f * v * dx\n",
        "\n",
        "# Compute solution\n",
        "u_sol = Function(V)\n",
        "solve(a == L, u_sol, bc)\n",
        "\n",
        "# Plot solution\n",
        "plot(u_sol)"
      ]
    }
  ]
}