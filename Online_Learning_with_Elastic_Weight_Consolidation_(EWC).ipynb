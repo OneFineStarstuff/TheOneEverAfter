{
  "nbformat": 4,
  "nbformat_minor": 0,
  "metadata": {
    "colab": {
      "private_outputs": true,
      "provenance": [],
      "authorship_tag": "ABX9TyPHiqFKPbe67KrXrOiMTYJg",
      "include_colab_link": true
    },
    "kernelspec": {
      "name": "python3",
      "display_name": "Python 3"
    },
    "language_info": {
      "name": "python"
    }
  },
  "cells": [
    {
      "cell_type": "markdown",
      "metadata": {
        "id": "view-in-github",
        "colab_type": "text"
      },
      "source": [
        "<a href=\"https://colab.research.google.com/github/OneFineStarstuff/OneFineStarstuff/blob/main/Online_Learning_with_Elastic_Weight_Consolidation_(EWC).ipynb\" target=\"_parent\"><img src=\"https://colab.research.google.com/assets/colab-badge.svg\" alt=\"Open In Colab\"/></a>"
      ]
    },
    {
      "cell_type": "code",
      "source": [
        "import torch\n",
        "import torch.nn as nn\n",
        "\n",
        "# Define a simple model for demonstration\n",
        "class SimpleModel(nn.Module):\n",
        "    def __init__(self):\n",
        "        super(SimpleModel, self).__init__()\n",
        "        self.fc = nn.Linear(10, 2)\n",
        "\n",
        "    def forward(self, x):\n",
        "        return self.fc(x)\n",
        "\n",
        "# Function to calculate Fisher Information\n",
        "def calculate_fisher_information(model, data):\n",
        "    model.eval()\n",
        "    fisher_information = {name: torch.zeros_like(param) for name, param in model.named_parameters()}\n",
        "\n",
        "    for inputs, labels in data:\n",
        "        model.zero_grad()\n",
        "        outputs = model(inputs)\n",
        "        loss = nn.CrossEntropyLoss()(outputs, labels)\n",
        "        loss.backward()\n",
        "\n",
        "        for name, param in model.named_parameters():\n",
        "            fisher_information[name] += param.grad ** 2\n",
        "\n",
        "    for name in fisher_information:\n",
        "        fisher_information[name] /= len(data)\n",
        "\n",
        "    return fisher_information\n",
        "\n",
        "# Function to calculate EWC loss\n",
        "def ewc_loss(model, model_previous, fisher_information, importance_factor):\n",
        "    penalty = 0\n",
        "    for name, param in model.named_parameters():\n",
        "        fisher = fisher_information[name]\n",
        "        prev_param = model_previous[name]\n",
        "        penalty += (fisher * (param - prev_param) ** 2).sum()\n",
        "    return importance_factor * penalty\n",
        "\n",
        "# Example data for Fisher Information calculation\n",
        "data = [(torch.randn(1, 10), torch.tensor([0])) for _ in range(10)]\n",
        "model = SimpleModel()\n",
        "model_previous = {name: param.clone() for name, param in model.named_parameters()}\n",
        "\n",
        "# Calculate Fisher Information\n",
        "fisher_information = calculate_fisher_information(model, data)\n",
        "\n",
        "# Calculate EWC loss\n",
        "importance_factor = 1000\n",
        "loss = ewc_loss(model, model_previous, fisher_information, importance_factor)\n",
        "\n",
        "print(\"EWC Loss:\", loss.item())"
      ],
      "metadata": {
        "id": "qtUPfwZJkJC8"
      },
      "execution_count": null,
      "outputs": []
    }
  ]
}