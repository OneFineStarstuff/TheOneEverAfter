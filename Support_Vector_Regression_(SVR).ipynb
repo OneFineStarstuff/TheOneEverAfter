{
  "nbformat": 4,
  "nbformat_minor": 0,
  "metadata": {
    "colab": {
      "private_outputs": true,
      "provenance": [],
      "authorship_tag": "ABX9TyPYXyD+FAcR0KXhlBAxAgGK",
      "include_colab_link": true
    },
    "kernelspec": {
      "name": "python3",
      "display_name": "Python 3"
    },
    "language_info": {
      "name": "python"
    }
  },
  "cells": [
    {
      "cell_type": "markdown",
      "metadata": {
        "id": "view-in-github",
        "colab_type": "text"
      },
      "source": [
        "<a href=\"https://colab.research.google.com/github/OneFineStarstuff/OneFineStardust/blob/main/Support_Vector_Regression_(SVR).ipynb\" target=\"_parent\"><img src=\"https://colab.research.google.com/assets/colab-badge.svg\" alt=\"Open In Colab\"/></a>"
      ]
    },
    {
      "cell_type": "code",
      "execution_count": null,
      "metadata": {
        "id": "8fjRKIUZIe9p"
      },
      "outputs": [],
      "source": [
        "from sklearn.datasets import make_regression\n",
        "from sklearn.svm import SVR\n",
        "import numpy as np\n",
        "import matplotlib.pyplot as plt\n",
        "\n",
        "# Generate synthetic data for regression\n",
        "X, y = make_regression(n_samples=100, n_features=1, noise=0.1)\n",
        "X = X.flatten()\n",
        "\n",
        "# Fit SVR model\n",
        "svr_model = SVR(kernel='rbf', C=100, gamma='scale', epsilon=.1)\n",
        "svr_model.fit(X.reshape(-1, 1), y)\n",
        "\n",
        "# Predict using the SVR model\n",
        "y_pred = svr_model.predict(X.reshape(-1, 1))\n",
        "\n",
        "# Plot the results\n",
        "plt.scatter(X, y, color='blue', label='Data')\n",
        "plt.plot(X, y_pred, color='red', label='SVR Prediction')\n",
        "plt.title('Support Vector Regression')\n",
        "plt.xlabel('Feature')\n",
        "plt.ylabel('Target')\n",
        "plt.legend()\n",
        "plt.show()"
      ]
    }
  ]
}