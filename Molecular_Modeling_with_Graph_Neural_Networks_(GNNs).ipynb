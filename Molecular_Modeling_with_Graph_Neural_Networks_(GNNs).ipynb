{
  "nbformat": 4,
  "nbformat_minor": 0,
  "metadata": {
    "colab": {
      "private_outputs": true,
      "provenance": [],
      "authorship_tag": "ABX9TyM1k1rNDeTrd7/Vu3XGiquk",
      "include_colab_link": true
    },
    "kernelspec": {
      "name": "python3",
      "display_name": "Python 3"
    },
    "language_info": {
      "name": "python"
    }
  },
  "cells": [
    {
      "cell_type": "markdown",
      "metadata": {
        "id": "view-in-github",
        "colab_type": "text"
      },
      "source": [
        "<a href=\"https://colab.research.google.com/github/OneFineStarstuff/OneFineStarstuff/blob/main/Molecular_Modeling_with_Graph_Neural_Networks_(GNNs).ipynb\" target=\"_parent\"><img src=\"https://colab.research.google.com/assets/colab-badge.svg\" alt=\"Open In Colab\"/></a>"
      ]
    },
    {
      "cell_type": "code",
      "source": [
        "pip install torch_geometric"
      ],
      "metadata": {
        "id": "BG484D23Z7Rk"
      },
      "execution_count": null,
      "outputs": []
    },
    {
      "cell_type": "code",
      "execution_count": null,
      "metadata": {
        "id": "psxgtFAFZex_"
      },
      "outputs": [],
      "source": [
        "import torch\n",
        "import torch.nn as nn\n",
        "import torch.optim as optim\n",
        "from torch_geometric.data import Data\n",
        "from torch_geometric.loader import DataLoader\n",
        "from torch_geometric.nn import GCNConv\n",
        "\n",
        "# Define the GCN model\n",
        "class MolecularGNN(nn.Module):\n",
        "    def __init__(self, in_channels, hidden_channels, out_channels):\n",
        "        super(MolecularGNN, self).__init__()\n",
        "        self.conv1 = GCNConv(in_channels, hidden_channels)\n",
        "        self.conv2 = GCNConv(hidden_channels, out_channels)\n",
        "\n",
        "    def forward(self, x, edge_index):\n",
        "        x = self.conv1(x, edge_index).relu()\n",
        "        x = self.conv2(x, edge_index)\n",
        "        return x\n",
        "\n",
        "# Example molecular data (randomly generated for illustration)\n",
        "num_nodes = 10\n",
        "in_channels = 5\n",
        "hidden_channels = 16\n",
        "out_channels = 2\n",
        "\n",
        "# Random node features and edge indices\n",
        "x = torch.randn((num_nodes, in_channels), dtype=torch.float)\n",
        "edge_index = torch.tensor([\n",
        "    [0, 1, 1, 2, 2, 3, 3, 4],\n",
        "    [1, 0, 2, 1, 3, 2, 4, 3]\n",
        "], dtype=torch.long)  # Example edge connections\n",
        "\n",
        "# Labels for each node\n",
        "y = torch.randint(0, out_channels, (num_nodes,), dtype=torch.long)\n",
        "\n",
        "# Create a Data object\n",
        "data = Data(x=x, edge_index=edge_index, y=y)\n",
        "dataset = [data]\n",
        "loader = DataLoader(dataset, batch_size=1, shuffle=True)\n",
        "\n",
        "# Initialize model, optimizer, and loss function\n",
        "model = MolecularGNN(in_channels, hidden_channels, out_channels)\n",
        "optimizer = optim.Adam(model.parameters(), lr=0.01)\n",
        "criterion = nn.CrossEntropyLoss()\n",
        "\n",
        "# Training loop\n",
        "model.train()\n",
        "for epoch in range(100):  # Example: 100 epochs\n",
        "    for batch in loader:\n",
        "        optimizer.zero_grad()\n",
        "        out = model(batch.x, batch.edge_index)\n",
        "        loss = criterion(out, batch.y)\n",
        "        loss.backward()\n",
        "        optimizer.step()\n",
        "    print(f'Epoch {epoch+1}, Loss: {loss.item()}')\n",
        "\n",
        "print(\"Training complete!\")"
      ]
    }
  ]
}