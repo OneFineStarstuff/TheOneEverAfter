{
  "nbformat": 4,
  "nbformat_minor": 0,
  "metadata": {
    "colab": {
      "private_outputs": true,
      "provenance": [],
      "authorship_tag": "ABX9TyNFWScevo7nkomFKfIyQMQj",
      "include_colab_link": true
    },
    "kernelspec": {
      "name": "python3",
      "display_name": "Python 3"
    },
    "language_info": {
      "name": "python"
    }
  },
  "cells": [
    {
      "cell_type": "markdown",
      "metadata": {
        "id": "view-in-github",
        "colab_type": "text"
      },
      "source": [
        "<a href=\"https://colab.research.google.com/github/OneFineStarstuff/OneFineStarstuff/blob/main/Fast_Gradient_Sign_Method_(FGSM)_for_Adversarial_Example_Generation.ipynb\" target=\"_parent\"><img src=\"https://colab.research.google.com/assets/colab-badge.svg\" alt=\"Open In Colab\"/></a>"
      ]
    },
    {
      "cell_type": "code",
      "source": [
        "import torch\n",
        "import torch.nn as nn\n",
        "import torch.nn.functional as F\n",
        "import torch.optim as optim\n",
        "from torchvision import datasets, transforms, models\n",
        "from torch.utils.data import DataLoader\n",
        "\n",
        "# Define and load the model (example: ResNet18)\n",
        "device = torch.device('cuda' if torch.cuda.is_available() else 'cpu')\n",
        "model = models.resnet18(weights=models.ResNet18_Weights.IMAGENET1K_V1)\n",
        "model.fc = nn.Linear(model.fc.in_features, 10)  # Assuming CIFAR-10 with 10 classes\n",
        "model = model.to(device)\n",
        "\n",
        "# Load the test dataset\n",
        "transform = transforms.Compose([\n",
        "    transforms.Resize(224),\n",
        "    transforms.ToTensor(),\n",
        "    transforms.Normalize((0.4914, 0.4822, 0.4465), (0.247, 0.243, 0.261))  # CIFAR-10 normalization\n",
        "])\n",
        "\n",
        "test_dataset = datasets.CIFAR10(root='./data', train=False, download=True, transform=transform)\n",
        "test_loader = DataLoader(test_dataset, batch_size=64, shuffle=False)\n",
        "\n",
        "# Define the FGSM attack function\n",
        "def fgsm_attack(model, images, labels, epsilon):\n",
        "    images.requires_grad = True\n",
        "    outputs = model(images)\n",
        "    loss = F.cross_entropy(outputs, labels)\n",
        "    model.zero_grad()\n",
        "    loss.backward()\n",
        "    perturbed_image = images + epsilon * images.grad.sign()\n",
        "    return torch.clamp(perturbed_image, 0, 1)\n",
        "\n",
        "# Function to calculate accuracy\n",
        "def calculate_accuracy(model, loader):\n",
        "    correct = 0\n",
        "    total = 0\n",
        "    for images, labels in loader:\n",
        "        images, labels = images.to(device), labels.to(device)\n",
        "        outputs = model(images)\n",
        "        _, predicted = torch.max(outputs.data, 1)\n",
        "        total += labels.size(0)\n",
        "        correct += (predicted == labels).sum().item()\n",
        "    return 100 * correct / total\n",
        "\n",
        "# Evaluate on clean images\n",
        "clean_accuracy = calculate_accuracy(model, test_loader)\n",
        "print(f'Accuracy on clean images: {clean_accuracy:.2f}%')\n",
        "\n",
        "# Evaluate on adversarial examples\n",
        "epsilon = 0.1  # Perturbation magnitude\n",
        "correct = 0\n",
        "total = 0\n",
        "\n",
        "model.eval()  # Set model to evaluation mode\n",
        "for images, labels in test_loader:\n",
        "    images, labels = images.to(device), labels.to(device)\n",
        "\n",
        "    # Generate adversarial examples\n",
        "    perturbed_images = fgsm_attack(model, images, labels, epsilon)\n",
        "\n",
        "    # Re-classify the perturbed images\n",
        "    outputs = model(perturbed_images)\n",
        "    _, predicted = torch.max(outputs.data, 1)\n",
        "\n",
        "    total += labels.size(0)\n",
        "    correct += (predicted == labels).sum().item()\n",
        "\n",
        "# Calculate accuracy\n",
        "adversarial_accuracy = 100 * correct / total\n",
        "print(f'Accuracy on adversarial examples: {adversarial_accuracy:.2f}%')"
      ],
      "metadata": {
        "id": "oXNwq3QNrIet"
      },
      "execution_count": null,
      "outputs": []
    }
  ]
}