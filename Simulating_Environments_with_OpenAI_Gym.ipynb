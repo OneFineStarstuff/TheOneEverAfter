{
  "nbformat": 4,
  "nbformat_minor": 0,
  "metadata": {
    "colab": {
      "private_outputs": true,
      "provenance": [],
      "authorship_tag": "ABX9TyNoeRvlrltINfgTcVfS5NCU",
      "include_colab_link": true
    },
    "kernelspec": {
      "name": "python3",
      "display_name": "Python 3"
    },
    "language_info": {
      "name": "python"
    }
  },
  "cells": [
    {
      "cell_type": "markdown",
      "metadata": {
        "id": "view-in-github",
        "colab_type": "text"
      },
      "source": [
        "<a href=\"https://colab.research.google.com/github/OneFineStarstuff/OneFineStardust/blob/main/Simulating_Environments_with_OpenAI_Gym.ipynb\" target=\"_parent\"><img src=\"https://colab.research.google.com/assets/colab-badge.svg\" alt=\"Open In Colab\"/></a>"
      ]
    },
    {
      "cell_type": "code",
      "execution_count": null,
      "metadata": {
        "id": "hx_hknL3bMSg"
      },
      "outputs": [],
      "source": [
        "import gym\n",
        "from gym import spaces\n",
        "import numpy as np\n",
        "\n",
        "class CustomEnv(gym.Env):\n",
        "    def __init__(self):\n",
        "        super(CustomEnv, self).__init__()\n",
        "        self.observation_space = spaces.Box(low=-1.0, high=1.0, shape=(3,), dtype=np.float32)\n",
        "        self.action_space = spaces.Discrete(2)\n",
        "\n",
        "    def reset(self):\n",
        "        self.state = np.random.uniform(-1, 1, size=(3,))\n",
        "        return self.state\n",
        "\n",
        "    def step(self, action):\n",
        "        reward = 1 if action == np.argmax(self.state) else -1\n",
        "        done = np.random.rand() > 0.95\n",
        "        self.state = np.random.uniform(-1, 1, size=(3,))\n",
        "        return self.state, reward, done, {}\n",
        "\n",
        "env = CustomEnv()\n",
        "state = env.reset()\n",
        "print(f\"Initial state: {state}\")"
      ]
    }
  ]
}