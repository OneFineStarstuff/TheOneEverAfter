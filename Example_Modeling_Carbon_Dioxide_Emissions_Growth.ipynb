{
  "nbformat": 4,
  "nbformat_minor": 0,
  "metadata": {
    "colab": {
      "private_outputs": true,
      "provenance": [],
      "authorship_tag": "ABX9TyN3es64H7srxxt7PtJywzCs",
      "include_colab_link": true
    },
    "kernelspec": {
      "name": "python3",
      "display_name": "Python 3"
    },
    "language_info": {
      "name": "python"
    }
  },
  "cells": [
    {
      "cell_type": "markdown",
      "metadata": {
        "id": "view-in-github",
        "colab_type": "text"
      },
      "source": [
        "<a href=\"https://colab.research.google.com/github/OneFineStarstuff/OneFineStarstuff/blob/main/Example_Modeling_Carbon_Dioxide_Emissions_Growth.ipynb\" target=\"_parent\"><img src=\"https://colab.research.google.com/assets/colab-badge.svg\" alt=\"Open In Colab\"/></a>"
      ]
    },
    {
      "cell_type": "code",
      "execution_count": null,
      "metadata": {
        "id": "_XGLmE9_SWm1"
      },
      "outputs": [],
      "source": [
        "import numpy as np\n",
        "import matplotlib.pyplot as plt\n",
        "\n",
        "# Define parameters for CO2 emissions growth\n",
        "years = np.arange(2020, 2101)\n",
        "initial_emission = 35  # Billion metric tons in 2020\n",
        "growth_rate = 0.02  # 2% annual growth in emissions\n",
        "\n",
        "# Calculate emissions over time\n",
        "emissions = initial_emission * (1 + growth_rate) ** (years - 2020)\n",
        "\n",
        "# Plot the emissions growth\n",
        "plt.plot(years, emissions)\n",
        "plt.title(\"Projected CO2 Emissions Growth (2020-2100)\")\n",
        "plt.xlabel(\"Year\")\n",
        "plt.ylabel(\"CO2 Emissions (Billion Metric Tons)\")\n",
        "plt.grid(True)\n",
        "plt.show()"
      ]
    }
  ]
}