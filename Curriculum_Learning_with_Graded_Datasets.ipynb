{
  "nbformat": 4,
  "nbformat_minor": 0,
  "metadata": {
    "colab": {
      "private_outputs": true,
      "provenance": [],
      "authorship_tag": "ABX9TyONV6teln9+bgM5EGgCxS0w",
      "include_colab_link": true
    },
    "kernelspec": {
      "name": "python3",
      "display_name": "Python 3"
    },
    "language_info": {
      "name": "python"
    }
  },
  "cells": [
    {
      "cell_type": "markdown",
      "metadata": {
        "id": "view-in-github",
        "colab_type": "text"
      },
      "source": [
        "<a href=\"https://colab.research.google.com/github/OneFineStarstuff/OneFineStarstuff/blob/main/Curriculum_Learning_with_Graded_Datasets.ipynb\" target=\"_parent\"><img src=\"https://colab.research.google.com/assets/colab-badge.svg\" alt=\"Open In Colab\"/></a>"
      ]
    },
    {
      "cell_type": "code",
      "execution_count": null,
      "metadata": {
        "id": "fnEEKFqWsDbP"
      },
      "outputs": [],
      "source": [
        "import torch\n",
        "from torch.utils.data import Dataset, DataLoader\n",
        "\n",
        "# Example data and difficulty order\n",
        "data = [\"easy\", \"medium\", \"hard\", \"very hard\"]\n",
        "difficulty_order = {\"easy\": 1, \"medium\": 2, \"hard\": 3, \"very hard\": 4}\n",
        "\n",
        "# Define the CurriculumDataset class\n",
        "class CurriculumDataset(Dataset):\n",
        "    def __init__(self, data, difficulty_order):\n",
        "        self.data = sorted(data, key=lambda x: difficulty_order[x])\n",
        "\n",
        "    def __getitem__(self, index):\n",
        "        return self.data[index]\n",
        "\n",
        "    def __len__(self):\n",
        "        return len(self.data)\n",
        "\n",
        "# Initialize dataset in order of difficulty\n",
        "dataset = CurriculumDataset(data, difficulty_order)\n",
        "\n",
        "# Create a DataLoader to iterate through the dataset\n",
        "dataloader = DataLoader(dataset, batch_size=2, shuffle=False)\n",
        "\n",
        "# Iterate through the dataset\n",
        "for batch in dataloader:\n",
        "    print(batch)"
      ]
    }
  ]
}