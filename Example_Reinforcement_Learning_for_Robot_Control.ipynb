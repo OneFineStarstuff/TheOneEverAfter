{
  "nbformat": 4,
  "nbformat_minor": 0,
  "metadata": {
    "colab": {
      "private_outputs": true,
      "provenance": [],
      "authorship_tag": "ABX9TyOBMJG1XRmRG2sXs+fU35Ir",
      "include_colab_link": true
    },
    "kernelspec": {
      "name": "python3",
      "display_name": "Python 3"
    },
    "language_info": {
      "name": "python"
    }
  },
  "cells": [
    {
      "cell_type": "markdown",
      "metadata": {
        "id": "view-in-github",
        "colab_type": "text"
      },
      "source": [
        "<a href=\"https://colab.research.google.com/github/OneFineStarstuff/OneFineStardust/blob/main/Example_Reinforcement_Learning_for_Robot_Control.ipynb\" target=\"_parent\"><img src=\"https://colab.research.google.com/assets/colab-badge.svg\" alt=\"Open In Colab\"/></a>"
      ]
    },
    {
      "cell_type": "code",
      "execution_count": null,
      "metadata": {
        "id": "p69uiejoZJuO"
      },
      "outputs": [],
      "source": [
        "import numpy as np\n",
        "\n",
        "class SimpleRobot:\n",
        "    def __init__(self):\n",
        "        self.position = 0  # Initial position\n",
        "\n",
        "    def move(self, action):\n",
        "        self.position += action  # Action could be -1 (left) or +1 (right)\n",
        "\n",
        "    def reward(self):\n",
        "        return -abs(self.position)  # Reward is higher when closer to the origin\n",
        "\n",
        "# Training the robot\n",
        "robot = SimpleRobot()\n",
        "num_episodes = 1000\n",
        "for _ in range(num_episodes):\n",
        "    action = np.random.choice([-1, 1])  # Randomly choose to move left or right\n",
        "    robot.move(action)\n",
        "    print(f'Position: {robot.position}, Reward: {robot.reward()}')"
      ]
    }
  ]
}