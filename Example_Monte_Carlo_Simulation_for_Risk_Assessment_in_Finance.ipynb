{
  "nbformat": 4,
  "nbformat_minor": 0,
  "metadata": {
    "colab": {
      "private_outputs": true,
      "provenance": [],
      "authorship_tag": "ABX9TyO2cRa5elb1Ci2CaFbrowIY",
      "include_colab_link": true
    },
    "kernelspec": {
      "name": "python3",
      "display_name": "Python 3"
    },
    "language_info": {
      "name": "python"
    }
  },
  "cells": [
    {
      "cell_type": "markdown",
      "metadata": {
        "id": "view-in-github",
        "colab_type": "text"
      },
      "source": [
        "<a href=\"https://colab.research.google.com/github/OneFineStarstuff/OneFineStardust/blob/main/Example_Monte_Carlo_Simulation_for_Risk_Assessment_in_Finance.ipynb\" target=\"_parent\"><img src=\"https://colab.research.google.com/assets/colab-badge.svg\" alt=\"Open In Colab\"/></a>"
      ]
    },
    {
      "cell_type": "code",
      "execution_count": null,
      "metadata": {
        "id": "CB6xHIQpdHvH"
      },
      "outputs": [],
      "source": [
        "import numpy as np\n",
        "import matplotlib.pyplot as plt\n",
        "\n",
        "# Parameters for the simulation\n",
        "num_simulations = 10000\n",
        "mean_return = 0.07  # Expected annual return\n",
        "std_dev = 0.15      # Standard deviation of returns\n",
        "initial_investment = 10000  # Initial investment amount\n",
        "\n",
        "# Simulate random returns for each year over a period of time (e.g., 30 years)\n",
        "simulated_returns = np.random.normal(mean_return, std_dev, (num_simulations, 30))\n",
        "final_values = initial_investment * np.exp(np.cumsum(simulated_returns, axis=1))\n",
        "\n",
        "# Plotting the distribution of final values after 30 years\n",
        "plt.hist(final_values[:, -1], bins=50)\n",
        "plt.title('Monte Carlo Simulation of Investment Returns After 30 Years')\n",
        "plt.xlabel('Final Value')\n",
        "plt.ylabel('Frequency')\n",
        "plt.grid(axis='y')\n",
        "plt.show()"
      ]
    }
  ]
}