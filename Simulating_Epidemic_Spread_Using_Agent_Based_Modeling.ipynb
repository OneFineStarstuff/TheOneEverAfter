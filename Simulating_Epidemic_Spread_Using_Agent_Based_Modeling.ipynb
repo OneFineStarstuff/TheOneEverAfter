{
  "nbformat": 4,
  "nbformat_minor": 0,
  "metadata": {
    "colab": {
      "private_outputs": true,
      "provenance": [],
      "authorship_tag": "ABX9TyMDotgDBw+ZksUyu8SpJAR5",
      "include_colab_link": true
    },
    "kernelspec": {
      "name": "python3",
      "display_name": "Python 3"
    },
    "language_info": {
      "name": "python"
    }
  },
  "cells": [
    {
      "cell_type": "markdown",
      "metadata": {
        "id": "view-in-github",
        "colab_type": "text"
      },
      "source": [
        "<a href=\"https://colab.research.google.com/github/OneFineStarstuff/OneFineStardust/blob/main/Simulating_Epidemic_Spread_Using_Agent_Based_Modeling.ipynb\" target=\"_parent\"><img src=\"https://colab.research.google.com/assets/colab-badge.svg\" alt=\"Open In Colab\"/></a>"
      ]
    },
    {
      "cell_type": "code",
      "execution_count": null,
      "metadata": {
        "id": "tqLssPW5fA0d"
      },
      "outputs": [],
      "source": [
        "import numpy as np\n",
        "import matplotlib.pyplot as plt\n",
        "\n",
        "class Person:\n",
        "    def __init__(self):\n",
        "        self.infected = False\n",
        "\n",
        "    def infect(self):\n",
        "        self.infected = True\n",
        "\n",
        "def simulate_epidemic(num_people=100):\n",
        "    people = [Person() for _ in range(num_people)]\n",
        "    people[np.random.randint(num_people)].infect()  # Infect one person randomly\n",
        "\n",
        "    infected_count = []\n",
        "\n",
        "    for day in range(30):  # Simulate for days\n",
        "        new_infections = 0\n",
        "        for person in people:\n",
        "            if person.infected:  # If person is infected, infect others randomly based on probability of transmission.\n",
        "                new_infections += np.random.binomial(num_people - 1, p=0.05)  # Probability of transmission set at 0.05\n",
        "\n",
        "        infected_count.append(new_infections)\n",
        "\n",
        "    plt.plot(range(len(infected_count)), infected_count, label='Infections per Day')\n",
        "\n",
        "    plt.xlabel('Days')\n",
        "    plt.ylabel('New Infections')\n",
        "    plt.title('Epidemic Spread Simulation')\n",
        "    plt.legend()\n",
        "    plt.show()\n",
        "\n",
        "simulate_epidemic()"
      ]
    }
  ]
}