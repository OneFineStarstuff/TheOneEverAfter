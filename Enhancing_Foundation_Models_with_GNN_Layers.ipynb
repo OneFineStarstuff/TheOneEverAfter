{
  "nbformat": 4,
  "nbformat_minor": 0,
  "metadata": {
    "colab": {
      "private_outputs": true,
      "provenance": [],
      "authorship_tag": "ABX9TyP0L1dgva6FYGf3VsBpxEjH",
      "include_colab_link": true
    },
    "kernelspec": {
      "name": "python3",
      "display_name": "Python 3"
    },
    "language_info": {
      "name": "python"
    }
  },
  "cells": [
    {
      "cell_type": "markdown",
      "metadata": {
        "id": "view-in-github",
        "colab_type": "text"
      },
      "source": [
        "<a href=\"https://colab.research.google.com/github/OneFineStarstuff/OneFineStarstuff/blob/main/Enhancing_Foundation_Models_with_GNN_Layers.ipynb\" target=\"_parent\"><img src=\"https://colab.research.google.com/assets/colab-badge.svg\" alt=\"Open In Colab\"/></a>"
      ]
    },
    {
      "cell_type": "code",
      "source": [
        "pip install torch_geometric"
      ],
      "metadata": {
        "id": "WGUgdLj6m4s1"
      },
      "execution_count": null,
      "outputs": []
    },
    {
      "cell_type": "code",
      "execution_count": null,
      "metadata": {
        "id": "Xn1Eyc6SlKum"
      },
      "outputs": [],
      "source": [
        "import torch\n",
        "import torch.nn as nn\n",
        "from torch_geometric.data import Data\n",
        "from torch_geometric.nn import GCNConv\n",
        "\n",
        "class GNNModel(nn.Module):\n",
        "    def __init__(self, in_channels, out_channels):\n",
        "        super(GNNModel, self).__init__()\n",
        "        self.conv1 = GCNConv(in_channels, 16)\n",
        "        self.conv2 = GCNConv(16, out_channels)\n",
        "\n",
        "    def forward(self, data):\n",
        "        x, edge_index = data.x, data.edge_index\n",
        "        x = self.conv1(x, edge_index).relu()\n",
        "        x = self.conv2(x, edge_index)\n",
        "        return x\n",
        "\n",
        "# Example usage with dummy graph data\n",
        "num_nodes = 4\n",
        "num_node_features = 10\n",
        "\n",
        "# Node feature matrix with shape [num_nodes, num_node_features]\n",
        "x = torch.randn((num_nodes, num_node_features))\n",
        "\n",
        "# Edge index matrix with shape [2, num_edges]\n",
        "edge_index = torch.tensor([[0, 1, 2, 3], [1, 0, 3, 2]], dtype=torch.long)\n",
        "\n",
        "# Create a Data object\n",
        "graph_data = Data(x=x, edge_index=edge_index)\n",
        "\n",
        "# Instantiate the GNN model\n",
        "gnn = GNNModel(in_channels=num_node_features, out_channels=1)\n",
        "\n",
        "# Forward pass through the GNN\n",
        "output = gnn(graph_data)\n",
        "print(output)"
      ]
    }
  ]
}