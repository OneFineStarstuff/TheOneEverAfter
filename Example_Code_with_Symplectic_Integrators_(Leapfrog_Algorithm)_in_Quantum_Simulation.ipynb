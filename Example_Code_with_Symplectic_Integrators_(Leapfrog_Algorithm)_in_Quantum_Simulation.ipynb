{
  "nbformat": 4,
  "nbformat_minor": 0,
  "metadata": {
    "colab": {
      "private_outputs": true,
      "provenance": [],
      "authorship_tag": "ABX9TyOCboA+m8oqv6WyAoCS135t",
      "include_colab_link": true
    },
    "kernelspec": {
      "name": "python3",
      "display_name": "Python 3"
    },
    "language_info": {
      "name": "python"
    }
  },
  "cells": [
    {
      "cell_type": "markdown",
      "metadata": {
        "id": "view-in-github",
        "colab_type": "text"
      },
      "source": [
        "<a href=\"https://colab.research.google.com/github/OneFineStarstuff/OneFineStarstuff/blob/main/Example_Code_with_Symplectic_Integrators_(Leapfrog_Algorithm)_in_Quantum_Simulation.ipynb\" target=\"_parent\"><img src=\"https://colab.research.google.com/assets/colab-badge.svg\" alt=\"Open In Colab\"/></a>"
      ]
    },
    {
      "cell_type": "code",
      "execution_count": null,
      "metadata": {
        "id": "ESD6gfIn1mNm"
      },
      "outputs": [],
      "source": [
        "import numpy as np\n",
        "import matplotlib.pyplot as plt\n",
        "\n",
        "# Parameters\n",
        "N = 1000\n",
        "L = 1e-8\n",
        "dx = L / N\n",
        "dt = 1e-20  # Smaller time step to prevent overflow\n",
        "mass = 9.10938356e-31\n",
        "hbar = 1.0545718e-34\n",
        "\n",
        "# Define potential and wavefunction\n",
        "x = np.linspace(0, L, N)\n",
        "V = np.zeros(N)\n",
        "V[N//4:N//2] = 1e-18\n",
        "psi = np.exp(-((x - L/4)**2) / (2 * (L/20)**2)) * np.exp(1j * 5 * x)\n",
        "\n",
        "def evolve_wavefunction_leapfrog(psi, V, dx, dt):\n",
        "    # Initial half-step of the leapfrog integrator\n",
        "    psi_half = psi - (1j * dt / (2 * hbar)) * V * psi\n",
        "    for _ in range(1000):\n",
        "        # Full-step position and momentum updates\n",
        "        psi = psi_half - (1j * hbar * dt / (mass * dx**2)) * (np.roll(psi_half, 1) - 2 * psi_half + np.roll(psi_half, -1))\n",
        "        psi_half = psi - (1j * dt / (2 * hbar)) * V * psi\n",
        "        # Normalize the wavefunction\n",
        "        norm = np.sqrt(np.sum(np.abs(psi)**2) * dx)\n",
        "        psi /= norm\n",
        "    return psi\n",
        "\n",
        "# Evolve and plot\n",
        "psi = evolve_wavefunction_leapfrog(psi, V, dx, dt)\n",
        "plt.plot(x, np.abs(psi)**2)\n",
        "plt.xlabel(\"Position\")\n",
        "plt.ylabel(\"Probability Density\")\n",
        "plt.title(\"Quantum Particle Simulation with Leapfrog Integrator\")\n",
        "plt.show()"
      ]
    }
  ]
}