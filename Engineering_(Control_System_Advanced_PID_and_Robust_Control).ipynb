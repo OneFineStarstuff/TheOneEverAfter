{
  "nbformat": 4,
  "nbformat_minor": 0,
  "metadata": {
    "colab": {
      "private_outputs": true,
      "provenance": [],
      "authorship_tag": "ABX9TyPhPFMvIAvcIYw7yhCg9aHe",
      "include_colab_link": true
    },
    "kernelspec": {
      "name": "python3",
      "display_name": "Python 3"
    },
    "language_info": {
      "name": "python"
    }
  },
  "cells": [
    {
      "cell_type": "markdown",
      "metadata": {
        "id": "view-in-github",
        "colab_type": "text"
      },
      "source": [
        "<a href=\"https://colab.research.google.com/github/OneFineStarstuff/OneFineStarstuff/blob/main/Engineering_(Control_System_Advanced_PID_and_Robust_Control).ipynb\" target=\"_parent\"><img src=\"https://colab.research.google.com/assets/colab-badge.svg\" alt=\"Open In Colab\"/></a>"
      ]
    },
    {
      "cell_type": "code",
      "execution_count": null,
      "metadata": {
        "id": "-a9kwwtwtgvL"
      },
      "outputs": [],
      "source": [
        "class AdaptivePID:\n",
        "    def __init__(self, kp, ki, kd, setpoint):\n",
        "        self.kp = kp\n",
        "        self.ki = ki\n",
        "        self.kd = kd\n",
        "        self.setpoint = setpoint\n",
        "        self.integral = 0\n",
        "        self.prev_error = 0\n",
        "        self.adaptive_gain = 1.0  # Adaptive factor for robust control\n",
        "\n",
        "    def compute(self, measurement, dt):\n",
        "        error = self.setpoint - measurement\n",
        "        self.integral += error * dt\n",
        "        derivative = (error - self.prev_error) / dt\n",
        "        # Adaptive adjustment of PID gains based on error magnitude\n",
        "        if abs(error) > 0.5:  # Arbitrary threshold for adaptation\n",
        "            self.adaptive_gain *= 1.1  # Increase gain if error is large\n",
        "        output = (self.kp * error + self.ki * self.integral +\n",
        "                  self.kd * derivative) * self.adaptive_gain\n",
        "        self.prev_error = error\n",
        "        return output\n",
        "\n",
        "# Use similar loop as before for testing the adaptive PID response"
      ]
    }
  ]
}