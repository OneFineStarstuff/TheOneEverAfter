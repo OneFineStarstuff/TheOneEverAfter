{
  "nbformat": 4,
  "nbformat_minor": 0,
  "metadata": {
    "colab": {
      "private_outputs": true,
      "provenance": [],
      "authorship_tag": "ABX9TyOGXUTztugtUTDdCoZWflAi",
      "include_colab_link": true
    },
    "kernelspec": {
      "name": "python3",
      "display_name": "Python 3"
    },
    "language_info": {
      "name": "python"
    }
  },
  "cells": [
    {
      "cell_type": "markdown",
      "metadata": {
        "id": "view-in-github",
        "colab_type": "text"
      },
      "source": [
        "<a href=\"https://colab.research.google.com/github/OneFineStarstuff/OneFineStarstuff/blob/main/Example_Running_a_Simple_Molecular_Dynamics_Simulation_with_PyLammps.ipynb\" target=\"_parent\"><img src=\"https://colab.research.google.com/assets/colab-badge.svg\" alt=\"Open In Colab\"/></a>"
      ]
    },
    {
      "cell_type": "code",
      "source": [
        "pip install lammps"
      ],
      "metadata": {
        "id": "0TJsnLOAvfLd"
      },
      "execution_count": null,
      "outputs": []
    },
    {
      "cell_type": "code",
      "source": [
        "from lammps import PyLammps\n",
        "\n",
        "# Create an instance of the LAMMPS interface\n",
        "lmp = PyLammps()\n",
        "\n",
        "# Set up a Lennard-Jones potential for Argon atoms\n",
        "lmp.units(\"lj\")\n",
        "lmp.atom_style(\"atomic\")\n",
        "lmp.lattice(\"fcc\", 0.8442)\n",
        "lmp.region(\"box\", \"block\", 0, 5, 0, 5, 0, 5)\n",
        "lmp.create_box(1, \"box\")\n",
        "lmp.create_atoms(1, \"box\")\n",
        "lmp.mass(1, 1.0)\n",
        "lmp.velocity(\"all\", \"create\", 1.44, 87287)\n",
        "lmp.pair_style(\"lj/cut\", 2.5)\n",
        "lmp.pair_coeff(1, 1, 1.0, 1.0, 2.5)\n",
        "\n",
        "# Setup thermo output\n",
        "lmp.thermo_style(\"custom step temp press\")\n",
        "lmp.thermo(100)  # Output every 100 timesteps\n",
        "\n",
        "# Run the simulation for 1000 time steps\n",
        "lmp.timestep(0.005)\n",
        "lmp.run(1000)\n",
        "\n",
        "def read_log_file(logfile_path):\n",
        "    with open(logfile_path, 'r') as file:\n",
        "        lines = file.readlines()\n",
        "\n",
        "    headers = None  # Initialize headers as None\n",
        "    for line in lines:\n",
        "        if \"Step\" in line and \"Temp\" in line and \"Press\" in line:\n",
        "            headers = line.split()\n",
        "        elif headers and any(char.isdigit() for char in line):\n",
        "            data = line.split()\n",
        "            print(f\"Step: {data[headers.index('Step')]}, Temperature: {data[headers.index('Temp')]}, Pressure: {data[headers.index('Press')]}\")\n",
        "\n",
        "logfile_path = \"log.lammps\"  # Make sure this path points to the correct log file\n",
        "read_log_file(logfile_path)"
      ],
      "metadata": {
        "id": "CsiHTifWwMcm"
      },
      "execution_count": null,
      "outputs": []
    }
  ]
}