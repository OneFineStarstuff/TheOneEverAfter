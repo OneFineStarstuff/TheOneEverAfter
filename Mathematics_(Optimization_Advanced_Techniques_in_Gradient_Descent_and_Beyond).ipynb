{
  "nbformat": 4,
  "nbformat_minor": 0,
  "metadata": {
    "colab": {
      "private_outputs": true,
      "provenance": [],
      "authorship_tag": "ABX9TyPduDkoyCzJ9DRBGq3XrM6s",
      "include_colab_link": true
    },
    "kernelspec": {
      "name": "python3",
      "display_name": "Python 3"
    },
    "language_info": {
      "name": "python"
    }
  },
  "cells": [
    {
      "cell_type": "markdown",
      "metadata": {
        "id": "view-in-github",
        "colab_type": "text"
      },
      "source": [
        "<a href=\"https://colab.research.google.com/github/OneFineStarstuff/OneFineStarstuff/blob/main/Mathematics_(Optimization_Advanced_Techniques_in_Gradient_Descent_and_Beyond).ipynb\" target=\"_parent\"><img src=\"https://colab.research.google.com/assets/colab-badge.svg\" alt=\"Open In Colab\"/></a>"
      ]
    },
    {
      "cell_type": "code",
      "execution_count": null,
      "metadata": {
        "id": "TnzrTGBJuMMx"
      },
      "outputs": [],
      "source": [
        "import numpy as np\n",
        "\n",
        "def func(x, y):\n",
        "    return x**2 + y**2\n",
        "\n",
        "def grad(x, y):\n",
        "    return np.array([2*x, 2*y])\n",
        "\n",
        "def adam_optimizer(grad_func, initial_guess, lr=0.1, beta1=0.9, beta2=0.999, eps=1e-8, max_iters=1000):\n",
        "    x, y = initial_guess\n",
        "    m = np.zeros(2)\n",
        "    v = np.zeros(2)\n",
        "    t = 0\n",
        "\n",
        "    for _ in range(max_iters):\n",
        "        t += 1\n",
        "        grad = grad_func(x, y)\n",
        "        m = beta1 * m + (1 - beta1) * grad\n",
        "        v = beta2 * v + (1 - beta2) * (grad**2)\n",
        "        m_hat = m / (1 - beta1**t)\n",
        "        v_hat = v / (1 - beta2**t)\n",
        "\n",
        "        x -= lr * m_hat[0] / (np.sqrt(v_hat[0]) + eps)\n",
        "        y -= lr * m_hat[1] / (np.sqrt(v_hat[1]) + eps)\n",
        "\n",
        "        print(f\"Iteration {_+1}: f({x:.4f}, {y:.4f}) = {func(x, y):.4f}\")\n",
        "\n",
        "    return x, y\n",
        "\n",
        "adam_optimizer(grad, initial_guess=(5, 5))"
      ]
    }
  ]
}