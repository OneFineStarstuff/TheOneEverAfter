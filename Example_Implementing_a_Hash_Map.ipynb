{
  "nbformat": 4,
  "nbformat_minor": 0,
  "metadata": {
    "colab": {
      "private_outputs": true,
      "provenance": [],
      "authorship_tag": "ABX9TyNAjWyMGxNBfu6shSNpzO6c",
      "include_colab_link": true
    },
    "kernelspec": {
      "name": "python3",
      "display_name": "Python 3"
    },
    "language_info": {
      "name": "python"
    }
  },
  "cells": [
    {
      "cell_type": "markdown",
      "metadata": {
        "id": "view-in-github",
        "colab_type": "text"
      },
      "source": [
        "<a href=\"https://colab.research.google.com/github/OneFineStarstuff/OneFineStardust/blob/main/Example_Implementing_a_Hash_Map.ipynb\" target=\"_parent\"><img src=\"https://colab.research.google.com/assets/colab-badge.svg\" alt=\"Open In Colab\"/></a>"
      ]
    },
    {
      "cell_type": "code",
      "execution_count": null,
      "metadata": {
        "id": "R4mFuG3DjvDr"
      },
      "outputs": [],
      "source": [
        "class HashMap:\n",
        "    def __init__(self):\n",
        "        self.size = 10\n",
        "        self.map = [[] for _ in range(self.size)]\n",
        "\n",
        "    def _hash(self, key):\n",
        "        return hash(key) % self.size\n",
        "\n",
        "    def set(self, key, value):\n",
        "        hashed_key = self._hash(key)\n",
        "        for pair in self.map[hashed_key]:\n",
        "            if pair[0] == key:\n",
        "                pair[1] = value\n",
        "                return\n",
        "        self.map[hashed_key].append([key, value])\n",
        "\n",
        "    def get(self, key):\n",
        "        hashed_key = self._hash(key)\n",
        "        for pair in self.map[hashed_key]:\n",
        "            if pair[0] == key:\n",
        "                return pair[1]\n",
        "        return None\n",
        "\n",
        "# Example usage of HashMap\n",
        "hmap = HashMap()\n",
        "hmap.set(\"name\", \"Alice\")\n",
        "print(hmap.get(\"name\"))  # Output: Alice"
      ]
    }
  ]
}