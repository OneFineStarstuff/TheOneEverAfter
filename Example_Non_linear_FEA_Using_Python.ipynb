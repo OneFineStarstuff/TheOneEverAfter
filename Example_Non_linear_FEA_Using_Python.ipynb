{
  "nbformat": 4,
  "nbformat_minor": 0,
  "metadata": {
    "colab": {
      "private_outputs": true,
      "provenance": [],
      "authorship_tag": "ABX9TyPrb866kKThuGW40L1z8poC",
      "include_colab_link": true
    },
    "kernelspec": {
      "name": "python3",
      "display_name": "Python 3"
    },
    "language_info": {
      "name": "python"
    }
  },
  "cells": [
    {
      "cell_type": "markdown",
      "metadata": {
        "id": "view-in-github",
        "colab_type": "text"
      },
      "source": [
        "<a href=\"https://colab.research.google.com/github/OneFineStarstuff/OneFineStardust/blob/main/Example_Non_linear_FEA_Using_Python.ipynb\" target=\"_parent\"><img src=\"https://colab.research.google.com/assets/colab-badge.svg\" alt=\"Open In Colab\"/></a>"
      ]
    },
    {
      "cell_type": "code",
      "execution_count": null,
      "metadata": {
        "id": "sM_1r4zL8LKt"
      },
      "outputs": [],
      "source": [
        "import numpy as np\n",
        "\n",
        "# Define parameters for a non-linear material model (e.g., plasticity)\n",
        "E_initial = 210e9  # Initial Young's modulus (Pa)\n",
        "yield_stress = 250e6  # Yield stress (Pa)\n",
        "plastic_strain = 0.0\n",
        "\n",
        "def non_linear_material_model(stress):\n",
        "    global plastic_strain\n",
        "    if stress > yield_stress:\n",
        "        plastic_strain += (stress - yield_stress) / E_initial\n",
        "        return yield_stress + E_initial * plastic_strain\n",
        "    return stress\n",
        "\n",
        "# Simulate loading and unloading cycles\n",
        "stresses = np.linspace(0, 300e6, num=10)\n",
        "results = [non_linear_material_model(stress) for stress in stresses]\n",
        "\n",
        "# Plotting results\n",
        "import matplotlib.pyplot as plt\n",
        "\n",
        "plt.plot(stresses, results)\n",
        "plt.title('Non-linear Material Behavior')\n",
        "plt.xlabel('Applied Stress (Pa)')\n",
        "plt.ylabel('Resulting Stress (Pa)')\n",
        "plt.grid(True)\n",
        "plt.show()"
      ]
    }
  ]
}