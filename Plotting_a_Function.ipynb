{
  "nbformat": 4,
  "nbformat_minor": 0,
  "metadata": {
    "colab": {
      "private_outputs": true,
      "provenance": [],
      "authorship_tag": "ABX9TyNEh67mnNdpI0Q8jApqMgmt",
      "include_colab_link": true
    },
    "kernelspec": {
      "name": "python3",
      "display_name": "Python 3"
    },
    "language_info": {
      "name": "python"
    }
  },
  "cells": [
    {
      "cell_type": "markdown",
      "metadata": {
        "id": "view-in-github",
        "colab_type": "text"
      },
      "source": [
        "<a href=\"https://colab.research.google.com/github/OneFineStarstuff/OneFineStardust/blob/main/Plotting_a_Function.ipynb\" target=\"_parent\"><img src=\"https://colab.research.google.com/assets/colab-badge.svg\" alt=\"Open In Colab\"/></a>"
      ]
    },
    {
      "cell_type": "code",
      "execution_count": null,
      "metadata": {
        "id": "_DTDu8wY1Ft_"
      },
      "outputs": [],
      "source": [
        "import numpy as np\n",
        "import matplotlib.pyplot as plt\n",
        "\n",
        "# Define the function\n",
        "def f(x):\n",
        "    return np.sin(x) * np.exp(-0.1 * x)\n",
        "\n",
        "# Generate x values\n",
        "x_values = np.linspace(0, 10, 100)\n",
        "y_values = f(x_values)\n",
        "\n",
        "# Plot the function\n",
        "plt.plot(x_values, y_values)\n",
        "plt.title('Plot of f(x) = sin(x) * exp(-0.1x)')\n",
        "plt.xlabel('x')\n",
        "plt.ylabel('f(x)')\n",
        "plt.grid()\n",
        "plt.show()"
      ]
    }
  ]
}