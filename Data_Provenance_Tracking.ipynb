{
  "nbformat": 4,
  "nbformat_minor": 0,
  "metadata": {
    "colab": {
      "private_outputs": true,
      "provenance": [],
      "authorship_tag": "ABX9TyMVwHwtAGqxVSE3ol4u/iJQ",
      "include_colab_link": true
    },
    "kernelspec": {
      "name": "python3",
      "display_name": "Python 3"
    },
    "language_info": {
      "name": "python"
    }
  },
  "cells": [
    {
      "cell_type": "markdown",
      "metadata": {
        "id": "view-in-github",
        "colab_type": "text"
      },
      "source": [
        "<a href=\"https://colab.research.google.com/github/OneFineStarstuff/OneFineStardust/blob/main/Data_Provenance_Tracking.ipynb\" target=\"_parent\"><img src=\"https://colab.research.google.com/assets/colab-badge.svg\" alt=\"Open In Colab\"/></a>"
      ]
    },
    {
      "cell_type": "code",
      "execution_count": null,
      "metadata": {
        "id": "yHw8dFzwZngw"
      },
      "outputs": [],
      "source": [
        "import hashlib\n",
        "import pandas as pd\n",
        "\n",
        "def hash_dataframe(df):\n",
        "    return hashlib.sha256(pd.util.hash_pandas_object(df, index=True).values).hexdigest()\n",
        "\n",
        "def log_data_provenance(data, transformation_steps):\n",
        "    provenance_log = {\n",
        "        'data_hash': hash_dataframe(data),\n",
        "        'transformation_steps': transformation_steps,\n",
        "        'timestamp': pd.Timestamp.now(),\n",
        "    }\n",
        "    # Save log to a file or database\n",
        "    return provenance_log"
      ]
    }
  ]
}