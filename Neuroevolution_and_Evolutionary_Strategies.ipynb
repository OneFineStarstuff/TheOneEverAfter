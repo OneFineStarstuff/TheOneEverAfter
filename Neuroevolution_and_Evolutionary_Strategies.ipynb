{
  "nbformat": 4,
  "nbformat_minor": 0,
  "metadata": {
    "colab": {
      "private_outputs": true,
      "provenance": [],
      "authorship_tag": "ABX9TyOc5gjnaRdsMc/e4nn98QL5",
      "include_colab_link": true
    },
    "kernelspec": {
      "name": "python3",
      "display_name": "Python 3"
    },
    "language_info": {
      "name": "python"
    }
  },
  "cells": [
    {
      "cell_type": "markdown",
      "metadata": {
        "id": "view-in-github",
        "colab_type": "text"
      },
      "source": [
        "<a href=\"https://colab.research.google.com/github/OneFineStarstuff/TheOneEverAfter/blob/main/Neuroevolution_and_Evolutionary_Strategies.ipynb\" target=\"_parent\"><img src=\"https://colab.research.google.com/assets/colab-badge.svg\" alt=\"Open In Colab\"/></a>"
      ]
    },
    {
      "cell_type": "code",
      "execution_count": null,
      "metadata": {
        "id": "JEnNuTzrZVF_"
      },
      "outputs": [],
      "source": [
        "import random\n",
        "\n",
        "# Evaluate fitness of each agent and select the best ones\n",
        "def select_best(population, fitness_scores, num_selected):\n",
        "    selected_indices = sorted(range(len(fitness_scores)), key=lambda i: fitness_scores[i], reverse=True)[:num_selected]\n",
        "    return [population[i] for i in selected_indices]\n",
        "\n",
        "# Simple mutation function example\n",
        "def mutate_fn(agent):\n",
        "    mutation_prob = 0.1\n",
        "    for i in range(len(agent)):\n",
        "        if random.random() < mutation_prob:\n",
        "            agent[i] += random.uniform(-1, 1)\n",
        "    return agent\n",
        "\n",
        "# Simple crossover function example\n",
        "def crossover_fn(parent1, parent2):\n",
        "    crossover_point = random.randint(1, len(parent1) - 1)\n",
        "    child = parent1[:crossover_point] + parent2[crossover_point:]\n",
        "    return child\n",
        "\n",
        "# Genetic algorithm implementation\n",
        "def genetic_algorithm(population, fitness_fn, num_generations, num_selected, mutate_fn, crossover_fn):\n",
        "    for generation in range(num_generations):\n",
        "        # Evaluate fitness of each agent\n",
        "        fitness_scores = [fitness_fn(agent) for agent in population]\n",
        "\n",
        "        # Selection\n",
        "        selected = select_best(population, fitness_scores, num_selected)\n",
        "\n",
        "        # Crossover and mutation to create new population\n",
        "        new_population = []\n",
        "        for i in range(len(population) // 2):\n",
        "            parent1, parent2 = random.choices(selected, k=2)\n",
        "            child = crossover_fn(parent1, parent2)\n",
        "            new_population.append(mutate_fn(child))\n",
        "\n",
        "        # Ensure new_population has the same size as the original population\n",
        "        while len(new_population) < len(population):\n",
        "            parent1, parent2 = random.choices(selected, k=2)\n",
        "            child = crossover_fn(parent1, parent2)\n",
        "            new_population.append(mutate_fn(child))\n",
        "\n",
        "        population = new_population\n",
        "\n",
        "        if generation % 10 == 0:\n",
        "            best_fitness = max(fitness_scores)\n",
        "            print(f'Generation {generation}, Best Fitness: {best_fitness}')\n",
        "\n",
        "    # Return the final population\n",
        "    return population\n",
        "\n",
        "# Example fitness function\n",
        "def fitness_fn(agent):\n",
        "    # Placeholder for a real fitness function\n",
        "    return sum(agent)\n",
        "\n",
        "# Example usage\n",
        "if __name__ == \"__main__\":\n",
        "    population_size = 20\n",
        "    agent_length = 10\n",
        "    num_generations = 100\n",
        "    num_selected = 10\n",
        "\n",
        "    # Initialize population with random agents\n",
        "    population = [[random.uniform(-10, 10) for _ in range(agent_length)] for _ in range(population_size)]\n",
        "\n",
        "    # Run genetic algorithm\n",
        "    final_population = genetic_algorithm(population, fitness_fn, num_generations, num_selected, mutate_fn, crossover_fn)\n",
        "    print(f'Final Population: {final_population}')"
      ]
    }
  ]
}