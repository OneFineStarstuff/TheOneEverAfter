{
  "nbformat": 4,
  "nbformat_minor": 0,
  "metadata": {
    "colab": {
      "private_outputs": true,
      "provenance": [],
      "authorship_tag": "ABX9TyOBvhTKfqbYyDBWVcGuyqtp",
      "include_colab_link": true
    },
    "kernelspec": {
      "name": "python3",
      "display_name": "Python 3"
    },
    "language_info": {
      "name": "python"
    }
  },
  "cells": [
    {
      "cell_type": "markdown",
      "metadata": {
        "id": "view-in-github",
        "colab_type": "text"
      },
      "source": [
        "<a href=\"https://colab.research.google.com/github/OneFineStarstuff/OneFineStarstuff/blob/main/Data_Efficient_Training_with_Active_Learning.ipynb\" target=\"_parent\"><img src=\"https://colab.research.google.com/assets/colab-badge.svg\" alt=\"Open In Colab\"/></a>"
      ]
    },
    {
      "cell_type": "code",
      "source": [
        "import torch\n",
        "import torch.nn as nn\n",
        "from transformers import AutoModelForCausalLM, AutoTokenizer\n",
        "\n",
        "def select_most_uncertain_samples(model, tokenizer, unlabeled_data, num_samples=10):\n",
        "    model.eval()\n",
        "    uncertainties = []\n",
        "    processed_data = []\n",
        "\n",
        "    for text in unlabeled_data:\n",
        "        inputs = tokenizer(text, return_tensors=\"pt\")\n",
        "        input_ids = inputs[\"input_ids\"]\n",
        "        attention_mask = inputs[\"attention_mask\"]\n",
        "\n",
        "        with torch.no_grad():\n",
        "            logits = model(input_ids=input_ids, attention_mask=attention_mask).logits\n",
        "            # Compute the uncertainty over the entire sequence\n",
        "            softmax_probs = logits.softmax(dim=-1)\n",
        "            max_probs, _ = torch.max(softmax_probs, dim=-1)\n",
        "            sequence_uncertainty = -torch.mean(max_probs)\n",
        "            uncertainties.append(sequence_uncertainty.item())\n",
        "            processed_data.append(inputs)\n",
        "\n",
        "    selected_indices = sorted(range(len(uncertainties)), key=lambda i: uncertainties[i], reverse=True)[:num_samples]\n",
        "    selected_samples = [processed_data[i] for i in selected_indices]\n",
        "\n",
        "    return selected_samples\n",
        "\n",
        "# Placeholder function for training the model on selected samples\n",
        "def train_model_on_selected_samples(model, selected_samples, labels):\n",
        "    model.train()\n",
        "    # Implement your training loop here\n",
        "    for inputs, label in zip(selected_samples, labels):\n",
        "        input_ids = inputs[\"input_ids\"]\n",
        "        attention_mask = inputs[\"attention_mask\"]\n",
        "        # Perform training step with the labeled data\n",
        "        # ...\n",
        "\n",
        "# Example usage\n",
        "unlabeled_data = [\n",
        "    \"This is an example sentence.\",\n",
        "    \"Another example sentence here.\",\n",
        "    # Add more unlabeled data here\n",
        "]\n",
        "\n",
        "labels = [0, 1]  # Manually labeled examples\n",
        "\n",
        "# Define the number of active learning iterations\n",
        "active_learning_iterations = 5\n",
        "\n",
        "# Define your model and tokenizer (e.g., GPT-2)\n",
        "model_name = \"gpt2\"\n",
        "model = AutoModelForCausalLM.from_pretrained(model_name)\n",
        "tokenizer = AutoTokenizer.from_pretrained(model_name)\n",
        "\n",
        "for _ in range(active_learning_iterations):\n",
        "    selected_samples = select_most_uncertain_samples(model, tokenizer, unlabeled_data, num_samples=2)\n",
        "    train_model_on_selected_samples(model, selected_samples, labels)\n",
        "\n",
        "print(\"Active learning complete!\")"
      ],
      "metadata": {
        "id": "OhUt-jFOguSd"
      },
      "execution_count": null,
      "outputs": []
    }
  ]
}