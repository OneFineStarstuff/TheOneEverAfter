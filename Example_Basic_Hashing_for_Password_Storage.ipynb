{
  "nbformat": 4,
  "nbformat_minor": 0,
  "metadata": {
    "colab": {
      "private_outputs": true,
      "provenance": [],
      "authorship_tag": "ABX9TyOiliGNDcxeREKjIKy1Erm6",
      "include_colab_link": true
    },
    "kernelspec": {
      "name": "python3",
      "display_name": "Python 3"
    },
    "language_info": {
      "name": "python"
    }
  },
  "cells": [
    {
      "cell_type": "markdown",
      "metadata": {
        "id": "view-in-github",
        "colab_type": "text"
      },
      "source": [
        "<a href=\"https://colab.research.google.com/github/OneFineStarstuff/OneFineStardust/blob/main/Example_Basic_Hashing_for_Password_Storage.ipynb\" target=\"_parent\"><img src=\"https://colab.research.google.com/assets/colab-badge.svg\" alt=\"Open In Colab\"/></a>"
      ]
    },
    {
      "cell_type": "code",
      "execution_count": null,
      "metadata": {
        "id": "WaexjEDIvzkZ"
      },
      "outputs": [],
      "source": [
        "import hashlib\n",
        "\n",
        "def hash_password(password):\n",
        "    # Hash a password using SHA-256\n",
        "    return hashlib.sha256(password.encode()).hexdigest()\n",
        "\n",
        "# Example usage\n",
        "password = \"securepassword\"\n",
        "hashed_password = hash_password(password)\n",
        "\n",
        "print(f\"Original Password: {password}\")\n",
        "print(f\"Hashed Password: {hashed_password}\")"
      ]
    }
  ]
}