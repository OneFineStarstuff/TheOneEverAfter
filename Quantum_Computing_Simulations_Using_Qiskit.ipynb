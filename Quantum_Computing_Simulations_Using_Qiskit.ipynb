{
  "nbformat": 4,
  "nbformat_minor": 0,
  "metadata": {
    "colab": {
      "private_outputs": true,
      "provenance": [],
      "authorship_tag": "ABX9TyN/FTwW28EzzE0l2fvXEDmm",
      "include_colab_link": true
    },
    "kernelspec": {
      "name": "python3",
      "display_name": "Python 3"
    },
    "language_info": {
      "name": "python"
    }
  },
  "cells": [
    {
      "cell_type": "markdown",
      "metadata": {
        "id": "view-in-github",
        "colab_type": "text"
      },
      "source": [
        "<a href=\"https://colab.research.google.com/github/OneFineStarstuff/OneFineStardust/blob/main/Quantum_Computing_Simulations_Using_Qiskit.ipynb\" target=\"_parent\"><img src=\"https://colab.research.google.com/assets/colab-badge.svg\" alt=\"Open In Colab\"/></a>"
      ]
    },
    {
      "cell_type": "code",
      "source": [
        "!pip install qiskit"
      ],
      "metadata": {
        "id": "YmMKK9mWvQg1"
      },
      "execution_count": null,
      "outputs": []
    },
    {
      "cell_type": "code",
      "execution_count": null,
      "metadata": {
        "id": "tVdT3Umru2pi"
      },
      "outputs": [],
      "source": [
        "from qiskit import QuantumCircuit, execute, BasicAer\n",
        "\n",
        "# Create a new quantum circuit with two qubits and one classical bit each.\n",
        "qc = QuantumCircuit(2, 2)\n",
        "\n",
        "# Apply Hadamard gate on both qubits followed by CNOT gates between them.\n",
        "qc.h([0])\n",
        "qc.cx(0, 1)\n",
        "qc.barrier()\n",
        "\n",
        "# Measure all qubits into their respective registers.\n",
        "qc.measure_all()\n",
        "\n",
        "# Run simulation on simulator backend from Aer toolkit provided by Qiskit.\n",
        "simulator_backend = BasicAer.get_backend('qasm_simulator')\n",
        "job_result = execute(qc.build(), simulator_backend).result()\n",
        "\n",
        "counts_result = job_result.get_counts(qc.name)\n",
        "print(counts_result)"
      ]
    }
  ]
}