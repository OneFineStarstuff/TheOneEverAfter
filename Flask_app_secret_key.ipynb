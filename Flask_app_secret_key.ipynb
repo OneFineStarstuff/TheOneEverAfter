{
  "nbformat": 4,
  "nbformat_minor": 0,
  "metadata": {
    "colab": {
      "private_outputs": true,
      "provenance": [],
      "authorship_tag": "ABX9TyPoCd6DPR2UDdveqP145Q68",
      "include_colab_link": true
    },
    "kernelspec": {
      "name": "python3",
      "display_name": "Python 3"
    },
    "language_info": {
      "name": "python"
    }
  },
  "cells": [
    {
      "cell_type": "markdown",
      "metadata": {
        "id": "view-in-github",
        "colab_type": "text"
      },
      "source": [
        "<a href=\"https://colab.research.google.com/github/OneFineStarstuff/OneFineStardust/blob/main/Flask_app_secret_key.ipynb\" target=\"_parent\"><img src=\"https://colab.research.google.com/assets/colab-badge.svg\" alt=\"Open In Colab\"/></a>"
      ]
    },
    {
      "cell_type": "code",
      "execution_count": null,
      "metadata": {
        "id": "IEv1Z2LI3Q4x"
      },
      "outputs": [],
      "source": [
        "import os\n",
        "secret_key = os.urandom(24)\n",
        "print(secret_key)"
      ]
    },
    {
      "cell_type": "code",
      "source": [
        "from flask import Flask\n",
        "import os\n",
        "\n",
        "app = Flask(__name__)\n",
        "app.secret_key = os.urandom(24)  # Generate a random secret key\n",
        "\n",
        "@app.route('/')\n",
        "def index():\n",
        "    return 'Welcome to the secure Flask app!'\n",
        "\n",
        "if __name__ == '__main__':\n",
        "    app.run(debug=True)"
      ],
      "metadata": {
        "id": "bY2dzras4puq"
      },
      "execution_count": null,
      "outputs": []
    },
    {
      "cell_type": "code",
      "source": [
        "# Save the generated secret key in an environment variable\n",
        "!export FLASK_SECRET_KEY='b'\\xa3t\\x82\\xeb\\xa6\\x94\\\\\\xa4k\\xef#\\xe5[E\\x9f\\xfd\\x0f\\xf6\\xf4\\xb5E\\x16\\xc0\\x99''"
      ],
      "metadata": {
        "id": "ccJX01pb4rwf"
      },
      "execution_count": null,
      "outputs": []
    },
    {
      "cell_type": "code",
      "source": [
        "from flask import Flask\n",
        "import os\n",
        "\n",
        "app = Flask(__name__)\n",
        "app.secret_key = os.getenv('FLASK_SECRET_KEY', 'default_secret_key')\n",
        "\n",
        "@app.route('/')\n",
        "def index():\n",
        "    return 'Welcome to the secure Flask app!'\n",
        "\n",
        "if __name__ == '__main__':\n",
        "    app.run(debug=True)"
      ],
      "metadata": {
        "id": "cICCezEZ4ufZ"
      },
      "execution_count": null,
      "outputs": []
    }
  ]
}