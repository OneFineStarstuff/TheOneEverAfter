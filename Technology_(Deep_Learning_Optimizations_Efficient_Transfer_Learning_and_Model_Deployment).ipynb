{
  "nbformat": 4,
  "nbformat_minor": 0,
  "metadata": {
    "colab": {
      "private_outputs": true,
      "provenance": [],
      "authorship_tag": "ABX9TyPEEStBzAiuJlNnh+T+Laf4",
      "include_colab_link": true
    },
    "kernelspec": {
      "name": "python3",
      "display_name": "Python 3"
    },
    "language_info": {
      "name": "python"
    }
  },
  "cells": [
    {
      "cell_type": "markdown",
      "metadata": {
        "id": "view-in-github",
        "colab_type": "text"
      },
      "source": [
        "<a href=\"https://colab.research.google.com/github/OneFineStarstuff/OneFineStarstuff/blob/main/Technology_(Deep_Learning_Optimizations_Efficient_Transfer_Learning_and_Model_Deployment).ipynb\" target=\"_parent\"><img src=\"https://colab.research.google.com/assets/colab-badge.svg\" alt=\"Open In Colab\"/></a>"
      ]
    },
    {
      "cell_type": "code",
      "source": [
        "pip install onnx"
      ],
      "metadata": {
        "id": "z0-v7LoGycry"
      },
      "execution_count": null,
      "outputs": []
    },
    {
      "cell_type": "code",
      "execution_count": null,
      "metadata": {
        "id": "vsi8qdIwx3vl"
      },
      "outputs": [],
      "source": [
        "import torch\n",
        "from torchvision import models\n",
        "\n",
        "# Load pre-trained model and prepare for quantization\n",
        "model = models.resnet18(weights=models.ResNet18_Weights.IMAGENET1K_V1)\n",
        "model.eval()\n",
        "\n",
        "# Export to ONNX for efficient deployment\n",
        "dummy_input = torch.randn(1, 3, 224, 224)\n",
        "torch.onnx.export(model, dummy_input, \"resnet18.onnx\")\n",
        "\n",
        "print(\"Model exported to ONNX format.\")"
      ]
    }
  ]
}