{
  "nbformat": 4,
  "nbformat_minor": 0,
  "metadata": {
    "colab": {
      "private_outputs": true,
      "provenance": [],
      "authorship_tag": "ABX9TyOGMoOhycy97jTIa867qJyZ",
      "include_colab_link": true
    },
    "kernelspec": {
      "name": "python3",
      "display_name": "Python 3"
    },
    "language_info": {
      "name": "python"
    }
  },
  "cells": [
    {
      "cell_type": "markdown",
      "metadata": {
        "id": "view-in-github",
        "colab_type": "text"
      },
      "source": [
        "<a href=\"https://colab.research.google.com/github/OneFineStarstuff/OneFineStarstuff/blob/main/Knowledge_Distillation_for_Model_Compression.ipynb\" target=\"_parent\"><img src=\"https://colab.research.google.com/assets/colab-badge.svg\" alt=\"Open In Colab\"/></a>"
      ]
    },
    {
      "cell_type": "code",
      "execution_count": null,
      "metadata": {
        "id": "vj8M-GsIiSf7"
      },
      "outputs": [],
      "source": [
        "import torch\n",
        "import torch.nn as nn\n",
        "import torch.nn.functional as F\n",
        "from torch.optim import Adam\n",
        "from transformers import AutoModelForCausalLM, AutoTokenizer\n",
        "from torch.utils.data import DataLoader\n",
        "\n",
        "# Define the DistillationLoss class\n",
        "class DistillationLoss(nn.Module):\n",
        "    def __init__(self, temperature=2.0):\n",
        "        super(DistillationLoss, self).__init__()\n",
        "        self.temperature = temperature\n",
        "\n",
        "    def forward(self, teacher_logits, student_logits):\n",
        "        teacher_probs = F.softmax(teacher_logits / self.temperature, dim=-1)\n",
        "        student_probs = F.softmax(student_logits / self.temperature, dim=-1)\n",
        "        return F.kl_div(student_probs.log(), teacher_probs, reduction=\"batchmean\")\n",
        "\n",
        "# Initialize teacher and student models and the tokenizer\n",
        "teacher_model = AutoModelForCausalLM.from_pretrained(\"gpt2\")\n",
        "student_model = AutoModelForCausalLM.from_pretrained(\"distilgpt2\")\n",
        "tokenizer = AutoTokenizer.from_pretrained(\"gpt2\")\n",
        "\n",
        "# Example training data (dataloader)\n",
        "data = [\n",
        "    {\"input_ids\": tokenizer(\"Example sentence one\", return_tensors=\"pt\")[\"input_ids\"].squeeze()},\n",
        "    {\"input_ids\": tokenizer(\"Example sentence two\", return_tensors=\"pt\")[\"input_ids\"].squeeze()},\n",
        "    # Add more training data here\n",
        "]\n",
        "\n",
        "train_dataloader = DataLoader(data, batch_size=2, shuffle=True)\n",
        "optimizer = Adam(student_model.parameters(), lr=5e-5)\n",
        "\n",
        "# Instantiate the distillation loss function\n",
        "distillation_loss_fn = DistillationLoss()\n",
        "\n",
        "teacher_model.eval()  # Freeze the teacher model\n",
        "\n",
        "# Training loop\n",
        "for epoch in range(3):  # Adjust number of epochs as needed\n",
        "    student_model.train()\n",
        "    for batch in train_dataloader:\n",
        "        input_ids = batch[\"input_ids\"].to(student_model.device)\n",
        "\n",
        "        # Forward pass for student model\n",
        "        student_logits = student_model(input_ids=input_ids).logits\n",
        "\n",
        "        # Forward pass for teacher model (no gradients)\n",
        "        with torch.no_grad():\n",
        "            teacher_logits = teacher_model(input_ids=input_ids).logits\n",
        "\n",
        "        # Compute distillation loss\n",
        "        loss = distillation_loss_fn(teacher_logits, student_logits)\n",
        "\n",
        "        # Backward pass and optimization\n",
        "        optimizer.zero_grad()\n",
        "        loss.backward()\n",
        "        optimizer.step()\n",
        "\n",
        "        print(f\"Epoch: {epoch + 1}, Loss: {loss.item()}\")\n",
        "\n",
        "print(\"Training complete!\")"
      ]
    }
  ]
}