{
  "nbformat": 4,
  "nbformat_minor": 0,
  "metadata": {
    "colab": {
      "private_outputs": true,
      "provenance": [],
      "authorship_tag": "ABX9TyPTtRHS3kzDqyXqu2CPqfXX",
      "include_colab_link": true
    },
    "kernelspec": {
      "name": "python3",
      "display_name": "Python 3"
    },
    "language_info": {
      "name": "python"
    }
  },
  "cells": [
    {
      "cell_type": "markdown",
      "metadata": {
        "id": "view-in-github",
        "colab_type": "text"
      },
      "source": [
        "<a href=\"https://colab.research.google.com/github/OneFineStarstuff/OneFineStarstuff/blob/main/Example_Two_Compartment_Model_for_Drug_Absorption.ipynb\" target=\"_parent\"><img src=\"https://colab.research.google.com/assets/colab-badge.svg\" alt=\"Open In Colab\"/></a>"
      ]
    },
    {
      "cell_type": "code",
      "execution_count": null,
      "metadata": {
        "id": "JitPy_dzcMue"
      },
      "outputs": [],
      "source": [
        "import numpy as np\n",
        "import matplotlib.pyplot as plt\n",
        "from scipy.integrate import odeint\n",
        "\n",
        "# Define the compartmental model equations\n",
        "def compartment_model(y, t, k_a, k_e):\n",
        "    drug_gut, drug_blood = y\n",
        "    d_drug_gut_dt = -k_a * drug_gut  # Absorption from the gut\n",
        "    d_drug_blood_dt = k_a * drug_gut - k_e * drug_blood  # Elimination from the blood\n",
        "    return [d_drug_gut_dt, d_drug_blood_dt]\n",
        "\n",
        "# Parameters for the model\n",
        "k_a = 0.2  # Absorption rate constant (1/h)\n",
        "k_e = 0.1  # Elimination rate constant (1/h)\n",
        "initial_drug_gut = 100  # Initial drug in the gut (mg)\n",
        "initial_drug_blood = 0  # Initial drug in the blood (mg)\n",
        "\n",
        "# Time array for simulation (24 hours)\n",
        "t = np.linspace(0, 24, 1000)\n",
        "\n",
        "# Solve the system of equations\n",
        "solution = odeint(compartment_model, [initial_drug_gut, initial_drug_blood], t, args=(k_a, k_e))\n",
        "\n",
        "# Plot the drug concentration over time\n",
        "plt.plot(t, solution[:, 0], label='Drug in Gut')\n",
        "plt.plot(t, solution[:, 1], label='Drug in Blood')\n",
        "plt.title(\"Drug Concentration Over Time (Two-Compartment Model)\")\n",
        "plt.xlabel(\"Time (hours)\")\n",
        "plt.ylabel(\"Drug Concentration (mg)\")\n",
        "plt.legend()\n",
        "plt.grid(True)\n",
        "plt.show()"
      ]
    }
  ]
}