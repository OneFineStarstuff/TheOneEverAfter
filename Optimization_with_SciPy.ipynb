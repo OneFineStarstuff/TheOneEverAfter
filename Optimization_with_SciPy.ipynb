{
  "nbformat": 4,
  "nbformat_minor": 0,
  "metadata": {
    "colab": {
      "private_outputs": true,
      "provenance": [],
      "authorship_tag": "ABX9TyMaqfGAt8Hr+Ylg/mmouEnl",
      "include_colab_link": true
    },
    "kernelspec": {
      "name": "python3",
      "display_name": "Python 3"
    },
    "language_info": {
      "name": "python"
    }
  },
  "cells": [
    {
      "cell_type": "markdown",
      "metadata": {
        "id": "view-in-github",
        "colab_type": "text"
      },
      "source": [
        "<a href=\"https://colab.research.google.com/github/OneFineStarstuff/OneFineStardust/blob/main/Optimization_with_SciPy.ipynb\" target=\"_parent\"><img src=\"https://colab.research.google.com/assets/colab-badge.svg\" alt=\"Open In Colab\"/></a>"
      ]
    },
    {
      "cell_type": "code",
      "execution_count": null,
      "metadata": {
        "id": "ITFdml8d4d61"
      },
      "outputs": [],
      "source": [
        "from scipy.optimize import minimize\n",
        "\n",
        "# Define the function to minimize\n",
        "def objective_function(x):\n",
        "    return (x - 3)**2 + 5\n",
        "\n",
        "# Initial guess\n",
        "initial_guess = [0]\n",
        "\n",
        "# Perform the optimization\n",
        "result = minimize(objective_function, initial_guess)\n",
        "\n",
        "print(\"Optimal value of x:\", result.x)\n",
        "print(\"Minimum value of the function:\", result.fun)"
      ]
    }
  ]
}