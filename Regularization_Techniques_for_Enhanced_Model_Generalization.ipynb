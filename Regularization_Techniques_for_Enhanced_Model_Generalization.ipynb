{
  "nbformat": 4,
  "nbformat_minor": 0,
  "metadata": {
    "colab": {
      "private_outputs": true,
      "provenance": [],
      "authorship_tag": "ABX9TyMUNy+a5wrER1Hy99Ixs2Wo",
      "include_colab_link": true
    },
    "kernelspec": {
      "name": "python3",
      "display_name": "Python 3"
    },
    "language_info": {
      "name": "python"
    }
  },
  "cells": [
    {
      "cell_type": "markdown",
      "metadata": {
        "id": "view-in-github",
        "colab_type": "text"
      },
      "source": [
        "<a href=\"https://colab.research.google.com/github/OneFineStarstuff/OneFineStarstuff/blob/main/Regularization_Techniques_for_Enhanced_Model_Generalization.ipynb\" target=\"_parent\"><img src=\"https://colab.research.google.com/assets/colab-badge.svg\" alt=\"Open In Colab\"/></a>"
      ]
    },
    {
      "cell_type": "code",
      "execution_count": null,
      "metadata": {
        "id": "B3TVHuAX-biN"
      },
      "outputs": [],
      "source": [
        "import torch\n",
        "import torch.nn as nn\n",
        "import torch.nn.utils as utils\n",
        "\n",
        "class SpectralNormConvNet(nn.Module):\n",
        "    def __init__(self, in_channels, out_channels):\n",
        "        super(SpectralNormConvNet, self).__init__()\n",
        "        self.conv1 = utils.spectral_norm(nn.Conv2d(in_channels, 64, kernel_size=3, stride=1, padding=1))\n",
        "        self.conv2 = utils.spectral_norm(nn.Conv2d(64, 128, kernel_size=3, stride=1, padding=1))\n",
        "        self.fc1 = utils.spectral_norm(nn.Linear(128 * 7 * 7, 256))\n",
        "        self.fc2 = utils.spectral_norm(nn.Linear(256, out_channels))\n",
        "        self.pool = nn.MaxPool2d(kernel_size=2, stride=2, padding=0)\n",
        "        self.relu = nn.ReLU()\n",
        "\n",
        "    def forward(self, x):\n",
        "        x = self.relu(self.conv1(x))\n",
        "        x = self.pool(x)\n",
        "        x = self.relu(self.conv2(x))\n",
        "        x = self.pool(x)\n",
        "        x = x.view(x.size(0), -1)\n",
        "        x = self.relu(self.fc1(x))\n",
        "        x = self.fc2(x)\n",
        "        return x\n",
        "\n",
        "# Example usage\n",
        "in_channels = 1\n",
        "out_channels = 10  # Example for classification into 10 classes (e.g., MNIST)\n",
        "model = SpectralNormConvNet(in_channels, out_channels)\n",
        "\n",
        "# Print the model to inspect layers\n",
        "print(model)"
      ]
    }
  ]
}