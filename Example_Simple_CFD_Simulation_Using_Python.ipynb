{
  "nbformat": 4,
  "nbformat_minor": 0,
  "metadata": {
    "colab": {
      "private_outputs": true,
      "provenance": [],
      "authorship_tag": "ABX9TyNRXa71Tekp3ib603DCQNEx",
      "include_colab_link": true
    },
    "kernelspec": {
      "name": "python3",
      "display_name": "Python 3"
    },
    "language_info": {
      "name": "python"
    }
  },
  "cells": [
    {
      "cell_type": "markdown",
      "metadata": {
        "id": "view-in-github",
        "colab_type": "text"
      },
      "source": [
        "<a href=\"https://colab.research.google.com/github/OneFineStarstuff/OneFineStardust/blob/main/Example_Simple_CFD_Simulation_Using_Python.ipynb\" target=\"_parent\"><img src=\"https://colab.research.google.com/assets/colab-badge.svg\" alt=\"Open In Colab\"/></a>"
      ]
    },
    {
      "cell_type": "code",
      "execution_count": null,
      "metadata": {
        "id": "etaFkKM-YCED"
      },
      "outputs": [],
      "source": [
        "import numpy as np\n",
        "import matplotlib.pyplot as plt\n",
        "\n",
        "# Parameters for a simple diffusion equation\n",
        "L = 10.0  # Length of the domain\n",
        "N = 100   # Number of spatial points\n",
        "dx = L / (N - 1)\n",
        "D = 1.0   # Diffusion coefficient\n",
        "dt = 0.01 # Time step\n",
        "T = 1.0   # Total time\n",
        "\n",
        "# Initial condition: Gaussian distribution\n",
        "x = np.linspace(0, L, N)\n",
        "u_initial = np.exp(-((x - L/2)**2) / (2 * (0.5)**2))\n",
        "\n",
        "# Time-stepping loop for diffusion equation\n",
        "u = u_initial.copy()\n",
        "for n in range(int(T/dt)):\n",
        "    u[1:-1] += D * dt / dx**2 * (u[2:] - 2*u[1:-1] + u[:-2])\n",
        "\n",
        "# Plotting results\n",
        "plt.plot(x, u_initial, label='Initial Condition')\n",
        "plt.plot(x, u, label='After Diffusion')\n",
        "plt.title('Diffusion Simulation')\n",
        "plt.xlabel('Position')\n",
        "plt.ylabel('Concentration')\n",
        "plt.legend()\n",
        "plt.grid(True)\n",
        "plt.show()"
      ]
    }
  ]
}