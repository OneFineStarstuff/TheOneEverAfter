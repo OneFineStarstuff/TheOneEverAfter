{
  "nbformat": 4,
  "nbformat_minor": 0,
  "metadata": {
    "colab": {
      "private_outputs": true,
      "provenance": [],
      "authorship_tag": "ABX9TyPHllxNuuUrDUCw/7wPaFCe",
      "include_colab_link": true
    },
    "kernelspec": {
      "name": "python3",
      "display_name": "Python 3"
    },
    "language_info": {
      "name": "python"
    }
  },
  "cells": [
    {
      "cell_type": "markdown",
      "metadata": {
        "id": "view-in-github",
        "colab_type": "text"
      },
      "source": [
        "<a href=\"https://colab.research.google.com/github/OneFineStarstuff/OneFineStarstuff/blob/main/Example_Implementing_Linear_Regression_from_Scratch.ipynb\" target=\"_parent\"><img src=\"https://colab.research.google.com/assets/colab-badge.svg\" alt=\"Open In Colab\"/></a>"
      ]
    },
    {
      "cell_type": "code",
      "execution_count": null,
      "metadata": {
        "id": "2vDvhp4FXOSb"
      },
      "outputs": [],
      "source": [
        "import numpy as np\n",
        "import matplotlib.pyplot as plt\n",
        "\n",
        "# Function to calculate mean squared error\n",
        "def mean_squared_error(y_true, y_pred):\n",
        "    return np.mean((y_true - y_pred) ** 2)\n",
        "\n",
        "# Function to perform linear regression\n",
        "def linear_regression(X, y, learning_rate, iterations):\n",
        "    m = 0  # Slope\n",
        "    b = 0  # Intercept\n",
        "    n = len(y)\n",
        "\n",
        "    for _ in range(iterations):\n",
        "        y_pred = m * X + b\n",
        "        dm = (-2/n) * sum(X * (y - y_pred))  # Derivative of loss w.r.t m\n",
        "        db = (-2/n) * sum(y - y_pred)  # Derivative of loss w.r.t b\n",
        "        m -= learning_rate * dm  # Update slope\n",
        "        b -= learning_rate * db  # Update intercept\n",
        "\n",
        "    return m, b\n",
        "\n",
        "# Example data (X, y)\n",
        "X = np.array([1, 2, 3, 4, 5])\n",
        "y = np.array([2, 4, 5, 4, 5])\n",
        "\n",
        "# Parameters\n",
        "learning_rate = 0.01\n",
        "iterations = 1000\n",
        "\n",
        "# Perform linear regression\n",
        "m, b = linear_regression(X, y, learning_rate, iterations)\n",
        "\n",
        "# Predict values\n",
        "y_pred = m * X + b\n",
        "\n",
        "# Plot the results\n",
        "plt.scatter(X, y, color='blue', label='Actual data')\n",
        "plt.plot(X, y_pred, color='red', label='Fitted line')\n",
        "plt.title('Linear Regression')\n",
        "plt.xlabel('X')\n",
        "plt.ylabel('y')\n",
        "plt.legend()\n",
        "plt.show()\n",
        "\n",
        "print(f\"Slope: {m}, Intercept: {b}\")"
      ]
    }
  ]
}