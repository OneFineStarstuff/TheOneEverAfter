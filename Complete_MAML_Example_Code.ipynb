{
  "nbformat": 4,
  "nbformat_minor": 0,
  "metadata": {
    "colab": {
      "private_outputs": true,
      "provenance": [],
      "authorship_tag": "ABX9TyNeXaVBTRV7jWkDFrH17BUC",
      "include_colab_link": true
    },
    "kernelspec": {
      "name": "python3",
      "display_name": "Python 3"
    },
    "language_info": {
      "name": "python"
    }
  },
  "cells": [
    {
      "cell_type": "markdown",
      "metadata": {
        "id": "view-in-github",
        "colab_type": "text"
      },
      "source": [
        "<a href=\"https://colab.research.google.com/github/OneFineStarstuff/OneFineStardust/blob/main/Complete_MAML_Example_Code.ipynb\" target=\"_parent\"><img src=\"https://colab.research.google.com/assets/colab-badge.svg\" alt=\"Open In Colab\"/></a>"
      ]
    },
    {
      "cell_type": "code",
      "execution_count": null,
      "metadata": {
        "id": "iNzbHwglb3Ss"
      },
      "outputs": [],
      "source": [
        "import torch\n",
        "import torch.nn as nn\n",
        "import torch.optim as optim\n",
        "import numpy as np\n",
        "\n",
        "# Set random seeds for reproducibility\n",
        "torch.manual_seed(0)\n",
        "np.random.seed(0)\n",
        "\n",
        "# Define a simple neural network\n",
        "class NeuralNet(nn.Module):\n",
        "    def __init__(self):\n",
        "        super(NeuralNet, self).__init__()\n",
        "        self.fc1 = nn.Linear(1, 10)\n",
        "        self.fc2 = nn.Linear(10, 1)\n",
        "\n",
        "    def forward(self, x):\n",
        "        x = torch.relu(self.fc1(x))\n",
        "        x = self.fc2(x)\n",
        "        return x\n",
        "\n",
        "# Function to generate synthetic data for tasks\n",
        "def generate_task_data(num_tasks=10, num_samples=20):\n",
        "    tasks = []\n",
        "    for _ in range(num_tasks):\n",
        "        # Random linear function parameters\n",
        "        slope = np.random.rand()\n",
        "        intercept = np.random.rand()\n",
        "\n",
        "        # Generate samples\n",
        "        x = np.random.rand(num_samples, 1).astype(np.float32) * 10  # Random x values\n",
        "        y = slope * x + intercept + np.random.normal(0, 0.5, size=x.shape).astype(np.float32)  # y = mx + b + noise\n",
        "\n",
        "        tasks.append((torch.tensor(x), torch.tensor(y)))\n",
        "    return tasks\n",
        "\n",
        "# MAML training function\n",
        "def train_maml(model, tasks, inner_steps=1, outer_steps=10, inner_lr=0.01, outer_lr=0.001):\n",
        "    optimizer = optim.Adam(model.parameters(), lr=outer_lr)\n",
        "\n",
        "    for outer_step in range(outer_steps):\n",
        "        meta_loss = 0\n",
        "\n",
        "        for task in tasks:\n",
        "            x_train, y_train = task\n",
        "\n",
        "            # Clone the model for inner updates\n",
        "            temp_model = NeuralNet()\n",
        "            temp_model.load_state_dict(model.state_dict())\n",
        "\n",
        "            # Inner loop (fine-tuning)\n",
        "            inner_optimizer = optim.SGD(temp_model.parameters(), lr=inner_lr)\n",
        "            for _ in range(inner_steps):\n",
        "                y_pred_train = temp_model(x_train)\n",
        "                inner_loss = nn.MSELoss()(y_pred_train.squeeze(), y_train.squeeze())\n",
        "                inner_optimizer.zero_grad()\n",
        "                inner_loss.backward()\n",
        "                inner_optimizer.step()\n",
        "\n",
        "            # Outer loop (meta-update)\n",
        "            x_test, y_test = generate_task_data(num_tasks=1)[0]  # Generate new test data for this task\n",
        "            y_pred_test = temp_model(x_test)\n",
        "            outer_loss = nn.MSELoss()(y_pred_test.squeeze(), y_test.squeeze())\n",
        "            meta_loss += outer_loss\n",
        "\n",
        "        # Average meta loss and update model parameters\n",
        "        meta_loss /= len(tasks)\n",
        "        optimizer.zero_grad()\n",
        "        meta_loss.backward()\n",
        "        optimizer.step()\n",
        "\n",
        "        print(f'Outer Step {outer_step + 1}/{outer_steps}, Meta Loss: {meta_loss.item():.4f}')\n",
        "\n",
        "# Main execution\n",
        "if __name__ == \"__main__\":\n",
        "    num_tasks = 5  # Number of tasks to generate\n",
        "    tasks = generate_task_data(num_tasks=num_tasks)\n",
        "\n",
        "    model_maml = NeuralNet()\n",
        "    train_maml(model_maml, tasks)"
      ]
    }
  ]
}