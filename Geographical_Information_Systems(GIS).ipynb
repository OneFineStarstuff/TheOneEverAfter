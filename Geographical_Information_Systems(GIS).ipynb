{
  "nbformat": 4,
  "nbformat_minor": 0,
  "metadata": {
    "colab": {
      "private_outputs": true,
      "provenance": [],
      "authorship_tag": "ABX9TyM96o2ovhZk7FZblr56X+no",
      "include_colab_link": true
    },
    "kernelspec": {
      "name": "python3",
      "display_name": "Python 3"
    },
    "language_info": {
      "name": "python"
    }
  },
  "cells": [
    {
      "cell_type": "markdown",
      "metadata": {
        "id": "view-in-github",
        "colab_type": "text"
      },
      "source": [
        "<a href=\"https://colab.research.google.com/github/OneFineStarstuff/OneFineStardust/blob/main/Geographical_Information_Systems(GIS).ipynb\" target=\"_parent\"><img src=\"https://colab.research.google.com/assets/colab-badge.svg\" alt=\"Open In Colab\"/></a>"
      ]
    },
    {
      "cell_type": "code",
      "execution_count": null,
      "metadata": {
        "id": "Yt-o9-vf1Obh"
      },
      "outputs": [],
      "source": [
        "import folium\n",
        "from folium.plugins import MarkerCluster\n",
        "import random\n",
        "\n",
        "# Define the map location and initial zoom level\n",
        "map_location = [37, -122]  # Placeholder coordinates\n",
        "map_zoom_start = 13\n",
        "\n",
        "# Create the folium map\n",
        "folium_map = folium.Map(location=map_location, zoom_start=map_zoom_start)\n",
        "\n",
        "# Define the marker cluster group\n",
        "marker_cluster_group = MarkerCluster().add_to(folium_map)\n",
        "\n",
        "# Function to add a marker to the folium map\n",
        "def add_marker_to_folium_map(lat, long, text):\n",
        "    folium.Marker(\n",
        "        location=(lat, long),\n",
        "        icon=folium.Icon(color='blue'),  # Use one of the predefined colors\n",
        "        popup=text,\n",
        "    ).add_to(marker_cluster_group)\n",
        "\n",
        "# Define the icon URL\n",
        "icon_url = 'https://raw.githubusercontent.com/pointhi/leaflet-color-markers/master/img/marker-icon.png'\n",
        "\n",
        "# Add markers to the map\n",
        "add_marker_to_folium_map(36, -119, 'Marker One')\n",
        "add_marker_to_folium_map(35, -118, 'Marker Two')\n",
        "\n",
        "# Add random markers with random icon colors\n",
        "for _ in range(10):  # Adding 10 random markers as an example\n",
        "    lat, long = random.uniform(34, 38), random.uniform(-123, -117)\n",
        "    color_code = f'#{random.randint(0, 0xFFFFFF):06x}'  # Generate a random hex color code\n",
        "    folium.Marker(\n",
        "        location=(lat, long),\n",
        "        icon=folium.Icon(color='blue'),  # Use one of the predefined colors\n",
        "        popup=f\"Random Marker ({color_code})\",\n",
        "    ).add_to(marker_cluster_group)\n",
        "\n",
        "# Save the map to an HTML file\n",
        "folium_map.save(\"folium_map.html\")"
      ]
    }
  ]
}