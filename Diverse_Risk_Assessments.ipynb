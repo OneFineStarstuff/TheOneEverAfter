{
  "nbformat": 4,
  "nbformat_minor": 0,
  "metadata": {
    "colab": {
      "private_outputs": true,
      "provenance": [],
      "authorship_tag": "ABX9TyPQMPD8x3jA8hXoXHZIPto4",
      "include_colab_link": true
    },
    "kernelspec": {
      "name": "python3",
      "display_name": "Python 3"
    },
    "language_info": {
      "name": "python"
    }
  },
  "cells": [
    {
      "cell_type": "markdown",
      "metadata": {
        "id": "view-in-github",
        "colab_type": "text"
      },
      "source": [
        "<a href=\"https://colab.research.google.com/github/OneFineStarstuff/OneFineStardust/blob/main/Diverse_Risk_Assessments.ipynb\" target=\"_parent\"><img src=\"https://colab.research.google.com/assets/colab-badge.svg\" alt=\"Open In Colab\"/></a>"
      ]
    },
    {
      "cell_type": "code",
      "execution_count": null,
      "metadata": {
        "id": "rDVhMcaqbjz0"
      },
      "outputs": [],
      "source": [
        "class RiskAssessment:\n",
        "    def __init__(self):\n",
        "        self.risks = []\n",
        "\n",
        "    def assess_risk(self, risk, impact, field):\n",
        "        risk_entry = {\"risk\": risk, \"impact\": impact, \"field\": field}\n",
        "        self.risks.append(risk_entry)\n",
        "        return risk_entry\n",
        "\n",
        "    def get_risks(self):\n",
        "        return self.risks\n",
        "\n",
        "# Example usage\n",
        "risk_assessment = RiskAssessment()\n",
        "risk_assessment.assess_risk(\"Data Breach\", \"High\", \"Security\")\n",
        "risk_assessment.assess_risk(\"Psychological Impact\", \"Medium\", \"Psychology\")\n",
        "print(f\"Risk Assessments: {risk_assessment.get_risks()}\")"
      ]
    }
  ]
}