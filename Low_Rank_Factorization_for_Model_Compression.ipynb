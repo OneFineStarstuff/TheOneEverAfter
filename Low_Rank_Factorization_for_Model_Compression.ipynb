{
  "nbformat": 4,
  "nbformat_minor": 0,
  "metadata": {
    "colab": {
      "private_outputs": true,
      "provenance": [],
      "authorship_tag": "ABX9TyOeYZ2ZnNcnRD4dXEJYWhBB",
      "include_colab_link": true
    },
    "kernelspec": {
      "name": "python3",
      "display_name": "Python 3"
    },
    "language_info": {
      "name": "python"
    }
  },
  "cells": [
    {
      "cell_type": "markdown",
      "metadata": {
        "id": "view-in-github",
        "colab_type": "text"
      },
      "source": [
        "<a href=\"https://colab.research.google.com/github/OneFineStarstuff/OneFineStarstuff/blob/main/Low_Rank_Factorization_for_Model_Compression.ipynb\" target=\"_parent\"><img src=\"https://colab.research.google.com/assets/colab-badge.svg\" alt=\"Open In Colab\"/></a>"
      ]
    },
    {
      "cell_type": "code",
      "execution_count": null,
      "metadata": {
        "id": "Nz8yCPVSuywV"
      },
      "outputs": [],
      "source": [
        "import torch\n",
        "import torch.nn as nn\n",
        "\n",
        "# Define a simple neural network layer for demonstration\n",
        "class SimpleModel(nn.Module):\n",
        "    def __init__(self):\n",
        "        super(SimpleModel, self).__init__()\n",
        "        self.layer = nn.Linear(50, 50)  # Example layer with weights to compress\n",
        "\n",
        "    def forward(self, x):\n",
        "        return self.layer(x)\n",
        "\n",
        "# Initialize the model\n",
        "model = SimpleModel()\n",
        "\n",
        "# Function to perform low-rank approximation\n",
        "def low_rank_approximation(weight_matrix, rank=10):\n",
        "    U, S, V = torch.svd(weight_matrix)\n",
        "    return U[:, :rank] @ torch.diag(S[:rank]) @ V[:rank, :]\n",
        "\n",
        "# Apply low-rank factorization to the weight matrix of the model's layer\n",
        "compressed_weight = low_rank_approximation(model.layer.weight.data)\n",
        "\n",
        "# Replace the original weights with the compressed weights\n",
        "model.layer.weight.data = compressed_weight\n",
        "\n",
        "# Print the shape of the original and compressed weight matrices\n",
        "print(\"Original weight shape:\", model.layer.weight.shape)\n",
        "print(\"Compressed weight shape:\", compressed_weight.shape)"
      ]
    }
  ]
}