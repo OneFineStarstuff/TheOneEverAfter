{
  "nbformat": 4,
  "nbformat_minor": 0,
  "metadata": {
    "colab": {
      "private_outputs": true,
      "provenance": [],
      "authorship_tag": "ABX9TyPTyqIfcwOYOy34vt+glwR6",
      "include_colab_link": true
    },
    "kernelspec": {
      "name": "python3",
      "display_name": "Python 3"
    },
    "language_info": {
      "name": "python"
    }
  },
  "cells": [
    {
      "cell_type": "markdown",
      "metadata": {
        "id": "view-in-github",
        "colab_type": "text"
      },
      "source": [
        "<a href=\"https://colab.research.google.com/github/OneFineStarstuff/OneFineStarstuff/blob/main/Example_RSA_Encryption_and_Decryption.ipynb\" target=\"_parent\"><img src=\"https://colab.research.google.com/assets/colab-badge.svg\" alt=\"Open In Colab\"/></a>"
      ]
    },
    {
      "cell_type": "code",
      "source": [
        "pip install pycryptodome"
      ],
      "metadata": {
        "id": "BhhgOwxEJXgq"
      },
      "execution_count": null,
      "outputs": []
    },
    {
      "cell_type": "code",
      "execution_count": null,
      "metadata": {
        "id": "G3eij81lJHUj"
      },
      "outputs": [],
      "source": [
        "from Crypto.PublicKey import RSA\n",
        "from Crypto.Cipher import PKCS1_OAEP\n",
        "import binascii\n",
        "\n",
        "# Generate RSA key pair\n",
        "key = RSA.generate(2048)\n",
        "public_key = key.publickey()\n",
        "\n",
        "# Encrypt a message\n",
        "message = \"Advanced STEM Education\".encode(\"utf-8\")\n",
        "cipher = PKCS1_OAEP.new(public_key)\n",
        "ciphertext = cipher.encrypt(message)\n",
        "print(f\"Encrypted Message: {binascii.hexlify(ciphertext)}\")\n",
        "\n",
        "# Decrypt the message\n",
        "cipher = PKCS1_OAEP.new(key)\n",
        "decrypted_message = cipher.decrypt(ciphertext)\n",
        "print(f\"Decrypted Message: {decrypted_message.decode('utf-8')}\")"
      ]
    }
  ]
}