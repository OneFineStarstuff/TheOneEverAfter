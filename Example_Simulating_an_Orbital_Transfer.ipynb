{
  "nbformat": 4,
  "nbformat_minor": 0,
  "metadata": {
    "colab": {
      "private_outputs": true,
      "provenance": [],
      "authorship_tag": "ABX9TyNLWtS98isQk91IR1fsObZr",
      "include_colab_link": true
    },
    "kernelspec": {
      "name": "python3",
      "display_name": "Python 3"
    },
    "language_info": {
      "name": "python"
    }
  },
  "cells": [
    {
      "cell_type": "markdown",
      "metadata": {
        "id": "view-in-github",
        "colab_type": "text"
      },
      "source": [
        "<a href=\"https://colab.research.google.com/github/OneFineStarstuff/OneFineStarstuff/blob/main/Example_Simulating_an_Orbital_Transfer.ipynb\" target=\"_parent\"><img src=\"https://colab.research.google.com/assets/colab-badge.svg\" alt=\"Open In Colab\"/></a>"
      ]
    },
    {
      "cell_type": "code",
      "source": [
        "pip install poliastro"
      ],
      "metadata": {
        "id": "4zZ-jFDKq2AL"
      },
      "execution_count": null,
      "outputs": []
    },
    {
      "cell_type": "code",
      "execution_count": null,
      "metadata": {
        "id": "w3_z0lcdqpHB"
      },
      "outputs": [],
      "source": [
        "from poliastro.bodies import Earth, Mars, Sun\n",
        "from poliastro.twobody import Orbit\n",
        "from poliastro.maneuver import Maneuver\n",
        "from astropy import units as u\n",
        "from astropy.time import Time\n",
        "\n",
        "# Define initial orbit around Earth\n",
        "launch_date = Time(\"2024-10-01\", scale=\"tdb\")\n",
        "initial_orbit = Orbit.circular(Earth, alt=400 * u.km, epoch=launch_date)\n",
        "\n",
        "# Semi-major axis of Mars' orbit around the Sun\n",
        "mars_a = 1.524 * u.au  # Average distance from the Sun\n",
        "\n",
        "# Define the Hohmann transfer maneuver\n",
        "hohmann_maneuver = Maneuver.hohmann(initial_orbit, mars_a)\n",
        "\n",
        "# Apply the maneuver to get the transfer orbit\n",
        "transfer_orbit = initial_orbit.apply_maneuver(hohmann_maneuver)\n",
        "\n",
        "# Duration of the transfer (time of flight)\n",
        "transfer_time = hohmann_maneuver.get_total_time()\n",
        "\n",
        "# Propagate the orbit to the time of arrival\n",
        "arrival_date = launch_date + transfer_time\n",
        "arrival_orbit = transfer_orbit.propagate(transfer_time)\n",
        "\n",
        "# Print the results\n",
        "print(f\"Transfer Orbit Parameters:\\n{transfer_orbit}\")\n",
        "print(f\"Arrival Orbit Parameters:\\n{arrival_orbit}\")"
      ]
    }
  ]
}