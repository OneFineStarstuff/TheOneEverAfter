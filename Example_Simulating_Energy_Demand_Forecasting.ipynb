{
  "nbformat": 4,
  "nbformat_minor": 0,
  "metadata": {
    "colab": {
      "private_outputs": true,
      "provenance": [],
      "authorship_tag": "ABX9TyMwl12vCxSNlzS18LGN4XPC",
      "include_colab_link": true
    },
    "kernelspec": {
      "name": "python3",
      "display_name": "Python 3"
    },
    "language_info": {
      "name": "python"
    }
  },
  "cells": [
    {
      "cell_type": "markdown",
      "metadata": {
        "id": "view-in-github",
        "colab_type": "text"
      },
      "source": [
        "<a href=\"https://colab.research.google.com/github/OneFineStarstuff/OneFineStardust/blob/main/Example_Simulating_Energy_Demand_Forecasting.ipynb\" target=\"_parent\"><img src=\"https://colab.research.google.com/assets/colab-badge.svg\" alt=\"Open In Colab\"/></a>"
      ]
    },
    {
      "cell_type": "code",
      "execution_count": null,
      "metadata": {
        "id": "pcZ3ny0XS7G4"
      },
      "outputs": [],
      "source": [
        "import numpy as np\n",
        "import pandas as pd\n",
        "import matplotlib.pyplot as plt\n",
        "\n",
        "# Simulate energy demand data over a week (in kWh)\n",
        "np.random.seed(42)\n",
        "days = pd.date_range(start='2023-01-01', periods=7)\n",
        "demand = np.random.randint(1000, 2000, size=len(days))\n",
        "\n",
        "# Create DataFrame\n",
        "df_demand = pd.DataFrame({'Date': days, 'Demand': demand})\n",
        "\n",
        "# Plotting energy demand over the week\n",
        "plt.plot(df_demand['Date'], df_demand['Demand'], marker='o')\n",
        "plt.title('Energy Demand Forecasting')\n",
        "plt.xlabel('Date')\n",
        "plt.ylabel('Energy Demand (kWh)')\n",
        "plt.xticks(rotation=45)\n",
        "plt.grid(True)\n",
        "plt.show()"
      ]
    }
  ]
}