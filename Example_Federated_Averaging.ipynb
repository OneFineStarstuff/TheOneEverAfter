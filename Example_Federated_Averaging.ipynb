{
  "nbformat": 4,
  "nbformat_minor": 0,
  "metadata": {
    "colab": {
      "private_outputs": true,
      "provenance": [],
      "authorship_tag": "ABX9TyPKNd+z+DO+3ZdkKtTKGsPQ",
      "include_colab_link": true
    },
    "kernelspec": {
      "name": "python3",
      "display_name": "Python 3"
    },
    "language_info": {
      "name": "python"
    }
  },
  "cells": [
    {
      "cell_type": "markdown",
      "metadata": {
        "id": "view-in-github",
        "colab_type": "text"
      },
      "source": [
        "<a href=\"https://colab.research.google.com/github/OneFineStarstuff/OneFineStarstuff/blob/main/Example_Federated_Averaging.ipynb\" target=\"_parent\"><img src=\"https://colab.research.google.com/assets/colab-badge.svg\" alt=\"Open In Colab\"/></a>"
      ]
    },
    {
      "cell_type": "code",
      "execution_count": null,
      "metadata": {
        "id": "PxSsW6HMC8lK"
      },
      "outputs": [],
      "source": [
        "import torch\n",
        "import torch.nn as nn\n",
        "import torch.optim as optim\n",
        "from torch.utils.data import DataLoader, TensorDataset\n",
        "\n",
        "# Define a simple neural network\n",
        "class SimpleNet(nn.Module):\n",
        "    def __init__(self):\n",
        "        super(SimpleNet, self).__init__()\n",
        "        self.fc1 = nn.Linear(2, 40)\n",
        "        self.fc2 = nn.Linear(40, 1)\n",
        "\n",
        "    def forward(self, x):\n",
        "        x = torch.relu(self.fc1(x))\n",
        "        x = self.fc2(x)\n",
        "        return x\n",
        "\n",
        "# Function to train model locally on client's data\n",
        "def train_model_locally(model, data, epochs=5, lr=0.01):\n",
        "    model.train()\n",
        "    optimizer = optim.SGD(model.parameters(), lr=lr)\n",
        "    criterion = nn.MSELoss()\n",
        "    dataloader = DataLoader(data, batch_size=32, shuffle=True)\n",
        "\n",
        "    for epoch in range(epochs):\n",
        "        for inputs, targets in dataloader:\n",
        "            optimizer.zero_grad()\n",
        "            outputs = model(inputs)\n",
        "            loss = criterion(outputs, targets)\n",
        "            loss.backward()\n",
        "            optimizer.step()\n",
        "\n",
        "    return model\n",
        "\n",
        "# Function to average weights\n",
        "def average_weights(weights):\n",
        "    avg_weights = weights[0]\n",
        "    for key in avg_weights.keys():\n",
        "        for weight in weights[1:]:\n",
        "            avg_weights[key] += weight[key]\n",
        "        avg_weights[key] = avg_weights[key] / len(weights)\n",
        "    return avg_weights\n",
        "\n",
        "# Create and initialize the global model\n",
        "global_model = SimpleNet()\n",
        "\n",
        "# Simulate data for clients\n",
        "client_data = [\n",
        "    TensorDataset(torch.randn(100, 2), torch.randn(100, 1)),  # Client 1\n",
        "    TensorDataset(torch.randn(100, 2), torch.randn(100, 1)),  # Client 2\n",
        "    # Add more clients as needed\n",
        "]\n",
        "\n",
        "# Federated learning loop\n",
        "num_rounds = 10\n",
        "for round in range(num_rounds):\n",
        "    client_weights = []\n",
        "\n",
        "    # Train on each client's data\n",
        "    for data in client_data:\n",
        "        local_model = SimpleNet()\n",
        "        local_model.load_state_dict(global_model.state_dict())\n",
        "        model_client = train_model_locally(local_model, data)\n",
        "        client_weights.append(model_client.state_dict())\n",
        "\n",
        "    # Average the weights\n",
        "    average_weights_dict = average_weights(client_weights)\n",
        "    global_model.load_state_dict(average_weights_dict)\n",
        "\n",
        "    print(f\"Round {round + 1}/{num_rounds} completed.\")\n",
        "\n",
        "print(\"Federated learning completed!\")"
      ]
    }
  ]
}