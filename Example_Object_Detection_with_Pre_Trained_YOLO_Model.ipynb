{
  "nbformat": 4,
  "nbformat_minor": 0,
  "metadata": {
    "colab": {
      "private_outputs": true,
      "provenance": [],
      "authorship_tag": "ABX9TyOKjJIUvfcqwshMoC4l120V",
      "include_colab_link": true
    },
    "kernelspec": {
      "name": "python3",
      "display_name": "Python 3"
    },
    "language_info": {
      "name": "python"
    }
  },
  "cells": [
    {
      "cell_type": "markdown",
      "metadata": {
        "id": "view-in-github",
        "colab_type": "text"
      },
      "source": [
        "<a href=\"https://colab.research.google.com/github/OneFineStarstuff/OneFineStarstuff/blob/main/Example_Object_Detection_with_Pre_Trained_YOLO_Model.ipynb\" target=\"_parent\"><img src=\"https://colab.research.google.com/assets/colab-badge.svg\" alt=\"Open In Colab\"/></a>"
      ]
    },
    {
      "cell_type": "code",
      "execution_count": null,
      "metadata": {
        "id": "xnCDKNMrBxuo"
      },
      "outputs": [],
      "source": [
        "import cv2\n",
        "\n",
        "# Load YOLO pre-trained weights and config\n",
        "net = cv2.dnn.readNet(\"yolov3.weights\", \"yolov3.cfg\")\n",
        "\n",
        "# Load COCO class labels\n",
        "with open(\"coco.names\", \"r\") as f:\n",
        "    classes = [line.strip() for line in f.readlines()]\n",
        "\n",
        "# Load an image\n",
        "img = cv2.imread('image.jpg')\n",
        "\n",
        "# Prepare the image for YOLO\n",
        "blob = cv2.dnn.blobFromImage(img, 0.00392, (416, 416), (0, 0, 0), True, crop=False)\n",
        "net.setInput(blob)\n",
        "\n",
        "# Run the model and get the detected objects\n",
        "outs = net.forward([net.getUnconnectedOutLayersNames()])\n",
        "\n",
        "# Post-processing to extract class IDs and bounding boxes\n",
        "for out in outs:\n",
        "    for detection in out:\n",
        "        scores = detection[5:]\n",
        "        class_id = np.argmax(scores)\n",
        "        confidence = scores[class_id]\n",
        "        if confidence > 0.5:\n",
        "            # Extract object details and draw bounding box\n",
        "            center_x, center_y, width, height = detection[0:4] * np.array([img.shape[1], img.shape[0], img.shape[1], img.shape[0]])\n",
        "            x = int(center_x - width / 2)\n",
        "            y = int(center_y - height / 2)\n",
        "            cv2.rectangle(img, (x, y), (x + int(width), y + int(height)), (0, 255, 0), 2)\n",
        "            cv2.putText(img, classes[class_id], (x, y - 5), cv2.FONT_HERSHEY_SIMPLEX, 1, (0, 255, 0), 2)\n",
        "\n",
        "# Show the output image\n",
        "cv2.imshow('Object Detection', img)\n",
        "cv2.waitKey(0)\n",
        "cv2.destroyAllWindows()"
      ]
    }
  ]
}