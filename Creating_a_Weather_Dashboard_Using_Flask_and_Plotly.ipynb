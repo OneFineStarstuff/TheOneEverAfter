{
  "nbformat": 4,
  "nbformat_minor": 0,
  "metadata": {
    "colab": {
      "private_outputs": true,
      "provenance": [],
      "authorship_tag": "ABX9TyOHFaL8xSF8LJQZvWuYogrq",
      "include_colab_link": true
    },
    "kernelspec": {
      "name": "python3",
      "display_name": "Python 3"
    },
    "language_info": {
      "name": "python"
    }
  },
  "cells": [
    {
      "cell_type": "markdown",
      "metadata": {
        "id": "view-in-github",
        "colab_type": "text"
      },
      "source": [
        "<a href=\"https://colab.research.google.com/github/OneFineStarstuff/OneFineStardust/blob/main/Creating_a_Weather_Dashboard_Using_Flask_and_Plotly.ipynb\" target=\"_parent\"><img src=\"https://colab.research.google.com/assets/colab-badge.svg\" alt=\"Open In Colab\"/></a>"
      ]
    },
    {
      "cell_type": "code",
      "execution_count": null,
      "metadata": {
        "id": "Mv1gs6XWXYX1"
      },
      "outputs": [],
      "source": [
        "from flask import Flask, render_template\n",
        "import requests\n",
        "import plotly.express as px\n",
        "\n",
        "app=Flask(__name__)\n",
        "\n",
        "@app.route('/')\n",
        "def home():\n",
        "    api_key='YOUR_API_KEY'\n",
        "    city='London'\n",
        "    weather_data=requests.get(f'http://api.openweathermap.org/data/2.5/weather?q={city}&appid={api_key}').json()\n",
        "\n",
        "    temp=weather_data['main']['temp'] - 273.15 # Convert Kelvin to Celsius\n",
        "\n",
        "    fig=px.bar(x=['Temperature'],y=[temp],title=f'Temperature in {city}')\n",
        "\n",
        "    return render_template('index.html',plot=fig.to_html())\n",
        "\n",
        "if __name__=='__main__':\n",
        "    app.run(debug=True)"
      ]
    }
  ]
}