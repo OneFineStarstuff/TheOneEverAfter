{
  "nbformat": 4,
  "nbformat_minor": 0,
  "metadata": {
    "colab": {
      "private_outputs": true,
      "provenance": [],
      "authorship_tag": "ABX9TyN/gh5Yj/0HU4unNowof6SV",
      "include_colab_link": true
    },
    "kernelspec": {
      "name": "python3",
      "display_name": "Python 3"
    },
    "language_info": {
      "name": "python"
    }
  },
  "cells": [
    {
      "cell_type": "markdown",
      "metadata": {
        "id": "view-in-github",
        "colab_type": "text"
      },
      "source": [
        "<a href=\"https://colab.research.google.com/github/OneFineStarstuff/OneFineStarstuff/blob/main/Domain_Adaptive_Pretraining_(DAPT).ipynb\" target=\"_parent\"><img src=\"https://colab.research.google.com/assets/colab-badge.svg\" alt=\"Open In Colab\"/></a>"
      ]
    },
    {
      "cell_type": "code",
      "execution_count": null,
      "metadata": {
        "id": "C7B73tAoyacS"
      },
      "outputs": [],
      "source": [
        "import torch\n",
        "from transformers import AdamW\n",
        "\n",
        "def domain_adaptive_pretrain(model, domain_data_loader, learning_rate=5e-5):\n",
        "    model.train()\n",
        "    optimizer = AdamW(model.parameters(), lr=learning_rate)\n",
        "\n",
        "    for batch in domain_data_loader:\n",
        "        optimizer.zero_grad()\n",
        "        input_ids, attention_mask = batch[\"input_ids\"], batch[\"attention_mask\"]\n",
        "        outputs = model(input_ids=input_ids, attention_mask=attention_mask)\n",
        "        loss = outputs.loss\n",
        "        loss.backward()\n",
        "        optimizer.step()\n",
        "\n",
        "# Example usage\n",
        "# Assuming you have a domain-specific data loader (domain_data_loader) and a model (model)\n",
        "# domain_data_loader = ...\n",
        "# model = ...\n",
        "\n",
        "# Perform domain-adaptive pretraining\n",
        "# domain_adaptive_pretrain(model, domain_data_loader)"
      ]
    }
  ]
}