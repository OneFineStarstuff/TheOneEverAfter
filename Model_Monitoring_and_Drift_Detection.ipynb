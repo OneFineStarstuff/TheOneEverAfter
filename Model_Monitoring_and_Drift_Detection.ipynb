{
  "nbformat": 4,
  "nbformat_minor": 0,
  "metadata": {
    "colab": {
      "private_outputs": true,
      "provenance": [],
      "authorship_tag": "ABX9TyPmXVQl21CxnQZ5VFYkMcfp",
      "include_colab_link": true
    },
    "kernelspec": {
      "name": "python3",
      "display_name": "Python 3"
    },
    "language_info": {
      "name": "python"
    }
  },
  "cells": [
    {
      "cell_type": "markdown",
      "metadata": {
        "id": "view-in-github",
        "colab_type": "text"
      },
      "source": [
        "<a href=\"https://colab.research.google.com/github/OneFineStarstuff/OneFineStarstuff/blob/main/Model_Monitoring_and_Drift_Detection.ipynb\" target=\"_parent\"><img src=\"https://colab.research.google.com/assets/colab-badge.svg\" alt=\"Open In Colab\"/></a>"
      ]
    },
    {
      "cell_type": "code",
      "source": [
        "pip install evidently"
      ],
      "metadata": {
        "id": "QkBpf80iU0D1"
      },
      "execution_count": null,
      "outputs": []
    },
    {
      "cell_type": "code",
      "execution_count": null,
      "metadata": {
        "id": "7_8ZK8lzT_WY"
      },
      "outputs": [],
      "source": [
        "import pandas as pd\n",
        "\n",
        "# Example: Load train and production data\n",
        "train_data = pd.read_csv('path_to_train_data.csv')\n",
        "production_data = pd.read_csv('path_to_production_data.csv')\n",
        "\n",
        "from evidently import ColumnMapping\n",
        "from evidently.report import Report\n",
        "from evidently.metric_preset import DataDriftPreset\n",
        "\n",
        "report = Report(metrics=[DataDriftPreset()])\n",
        "report.run(reference_data=train_data, current_data=production_data)\n",
        "report.show()"
      ]
    }
  ]
}