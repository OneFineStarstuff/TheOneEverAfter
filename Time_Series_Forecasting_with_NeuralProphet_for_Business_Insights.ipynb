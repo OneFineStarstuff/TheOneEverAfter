{
  "nbformat": 4,
  "nbformat_minor": 0,
  "metadata": {
    "colab": {
      "private_outputs": true,
      "provenance": [],
      "authorship_tag": "ABX9TyP53z3+4B/2ZCK3wxBvSXQ4",
      "include_colab_link": true
    },
    "kernelspec": {
      "name": "python3",
      "display_name": "Python 3"
    },
    "language_info": {
      "name": "python"
    }
  },
  "cells": [
    {
      "cell_type": "markdown",
      "metadata": {
        "id": "view-in-github",
        "colab_type": "text"
      },
      "source": [
        "<a href=\"https://colab.research.google.com/github/OneFineStarstuff/OneFineStarstuff/blob/main/Time_Series_Forecasting_with_NeuralProphet_for_Business_Insights.ipynb\" target=\"_parent\"><img src=\"https://colab.research.google.com/assets/colab-badge.svg\" alt=\"Open In Colab\"/></a>"
      ]
    },
    {
      "cell_type": "code",
      "source": [
        "pip install neuralprophet"
      ],
      "metadata": {
        "id": "Rl4vIKnjGnKr"
      },
      "execution_count": null,
      "outputs": []
    },
    {
      "cell_type": "code",
      "execution_count": null,
      "metadata": {
        "id": "XQj1dh5-Ga4i"
      },
      "outputs": [],
      "source": [
        "from neuralprophet import NeuralProphet\n",
        "import pandas as pd\n",
        "\n",
        "# Load and prepare data\n",
        "data = pd.read_csv(\"time_series_data.csv\")  # Assume CSV with columns 'ds' and 'y'\n",
        "model = NeuralProphet()\n",
        "\n",
        "# Fit the model\n",
        "model.fit(data, freq=\"D\")  # Daily frequency\n",
        "\n",
        "# Make future predictions\n",
        "future = model.make_future_dataframe(data, periods=365)  # Forecast 1 year ahead\n",
        "forecast = model.predict(future)\n",
        "\n",
        "# Plot forecast results\n",
        "model.plot(forecast)"
      ]
    }
  ]
}