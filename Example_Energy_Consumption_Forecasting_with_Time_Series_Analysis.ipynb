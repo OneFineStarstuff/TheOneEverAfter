{
  "nbformat": 4,
  "nbformat_minor": 0,
  "metadata": {
    "colab": {
      "private_outputs": true,
      "provenance": [],
      "authorship_tag": "ABX9TyNo4r3rTuYp8sIS8lFicIW+",
      "include_colab_link": true
    },
    "kernelspec": {
      "name": "python3",
      "display_name": "Python 3"
    },
    "language_info": {
      "name": "python"
    }
  },
  "cells": [
    {
      "cell_type": "markdown",
      "metadata": {
        "id": "view-in-github",
        "colab_type": "text"
      },
      "source": [
        "<a href=\"https://colab.research.google.com/github/OneFineStarstuff/OneFineStardust/blob/main/Example_Energy_Consumption_Forecasting_with_Time_Series_Analysis.ipynb\" target=\"_parent\"><img src=\"https://colab.research.google.com/assets/colab-badge.svg\" alt=\"Open In Colab\"/></a>"
      ]
    },
    {
      "cell_type": "code",
      "execution_count": null,
      "metadata": {
        "id": "HTDz-pycxFB5"
      },
      "outputs": [],
      "source": [
        "import pandas as pd\n",
        "from statsmodels.tsa.arima.model import ARIMA\n",
        "import matplotlib.pyplot as plt\n",
        "import numpy as np\n",
        "\n",
        "# Simulated time series data (e.g., energy consumption)\n",
        "dates = pd.date_range(start='2023-01-01', periods=100)\n",
        "data = pd.Series(np.random.randn(100).cumsum(), index=dates)\n",
        "\n",
        "# Fit ARIMA model to the data\n",
        "model = ARIMA(data, order=(5, 1, 0))\n",
        "model_fit = model.fit()\n",
        "\n",
        "# Forecast future values\n",
        "forecast = model_fit.forecast(steps=10)\n",
        "\n",
        "# Plotting the results\n",
        "plt.plot(data.index, data.values, label='Historical Data')\n",
        "plt.plot(forecast.index[-10:], forecast.values, label='Forecast', color='red')\n",
        "plt.title('Time Series Forecasting with ARIMA')\n",
        "plt.xlabel('Date')\n",
        "plt.ylabel('Values')\n",
        "plt.legend()\n",
        "plt.grid(True)\n",
        "plt.show()"
      ]
    }
  ]
}