{
  "nbformat": 4,
  "nbformat_minor": 0,
  "metadata": {
    "colab": {
      "private_outputs": true,
      "provenance": [],
      "authorship_tag": "ABX9TyNTcPRhglA7whAOvzhQlouY",
      "include_colab_link": true
    },
    "kernelspec": {
      "name": "python3",
      "display_name": "Python 3"
    },
    "language_info": {
      "name": "python"
    }
  },
  "cells": [
    {
      "cell_type": "markdown",
      "metadata": {
        "id": "view-in-github",
        "colab_type": "text"
      },
      "source": [
        "<a href=\"https://colab.research.google.com/github/OneFineStarstuff/OneFineStarstuff/blob/main/Example_using_SHAP_with_a_healthcare_diagnostic_model.ipynb\" target=\"_parent\"><img src=\"https://colab.research.google.com/assets/colab-badge.svg\" alt=\"Open In Colab\"/></a>"
      ]
    },
    {
      "cell_type": "code",
      "execution_count": null,
      "metadata": {
        "id": "5rgDJT_E_cY5"
      },
      "outputs": [],
      "source": [
        "pip install shap scikit-learn pandas"
      ]
    },
    {
      "cell_type": "code",
      "source": [
        "import shap\n",
        "import pandas as pd\n",
        "import numpy as np\n",
        "from sklearn.ensemble import RandomForestClassifier\n",
        "from sklearn.model_selection import train_test_split\n",
        "\n",
        "# Hypothetical function to get patient records\n",
        "def get_patient_records():\n",
        "    # Example data: Replace with actual patient data loading logic\n",
        "    data = pd.DataFrame({\n",
        "        'age': [25, 34, 45, 52],\n",
        "        'blood_pressure': [120, 140, 130, 125],\n",
        "        'cholesterol': [200, 220, 180, 190],\n",
        "        'label': [0, 1, 1, 0]\n",
        "    })\n",
        "    return data\n",
        "\n",
        "# Load patient data\n",
        "data = get_patient_records()\n",
        "X = data.drop('label', axis=1)\n",
        "y = data['label']\n",
        "\n",
        "# Split data\n",
        "X_train, X_test, y_train, y_test = train_test_split(X, y, test_size=0.2, random_state=42)\n",
        "\n",
        "# Train a random forest classifier\n",
        "model = RandomForestClassifier()\n",
        "model.fit(X_train, y_train)\n",
        "\n",
        "# Explain the model's predictions using SHAP\n",
        "explainer = shap.TreeExplainer(model)\n",
        "shap_values = explainer.shap_values(X_test)\n",
        "\n",
        "# Print the shapes of shap_values and X_test\n",
        "print(\"Shapes of shap_values and X_test:\")\n",
        "print(\"shap_values:\", [sv.shape for sv in shap_values])\n",
        "print(\"X_test:\", X_test.shape)\n",
        "\n",
        "# Use the first sample for explanation\n",
        "sample_index = 0\n",
        "\n",
        "# Examine and adjust SHAP values for binary classification\n",
        "shap_values_for_sample = shap_values[0][sample_index]\n",
        "expected_value = explainer.expected_value[0]\n",
        "\n",
        "# Adjust SHAP values to match the number of features if needed\n",
        "while len(shap_values_for_sample) != X_test.shape[1]:\n",
        "    shap_values_for_sample = np.pad(shap_values_for_sample, (0, X_test.shape[1] - len(shap_values_for_sample)), 'constant')\n",
        "\n",
        "print(\"Adjusted SHAP Values:\", shap_values_for_sample)\n",
        "\n",
        "# Ensure the SHAP values and feature lengths match\n",
        "assert len(shap_values_for_sample) == X_test.shape[1], \"SHAP values length does not match the number of features.\"\n",
        "\n",
        "# Plot the explanation with correct dimensions\n",
        "shap.initjs()\n",
        "shap.force_plot(expected_value, shap_values_for_sample, X_test.iloc[sample_index], feature_names=X.columns.tolist())"
      ],
      "metadata": {
        "id": "5Nal4D6q_xlR"
      },
      "execution_count": null,
      "outputs": []
    }
  ]
}