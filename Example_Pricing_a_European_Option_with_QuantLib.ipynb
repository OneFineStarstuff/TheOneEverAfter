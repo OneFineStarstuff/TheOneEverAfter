{
  "nbformat": 4,
  "nbformat_minor": 0,
  "metadata": {
    "colab": {
      "private_outputs": true,
      "provenance": [],
      "authorship_tag": "ABX9TyMJu9OmAohGlD7mviFFCRje",
      "include_colab_link": true
    },
    "kernelspec": {
      "name": "python3",
      "display_name": "Python 3"
    },
    "language_info": {
      "name": "python"
    }
  },
  "cells": [
    {
      "cell_type": "markdown",
      "metadata": {
        "id": "view-in-github",
        "colab_type": "text"
      },
      "source": [
        "<a href=\"https://colab.research.google.com/github/OneFineStarstuff/OneFineStarstuff/blob/main/Example_Pricing_a_European_Option_with_QuantLib.ipynb\" target=\"_parent\"><img src=\"https://colab.research.google.com/assets/colab-badge.svg\" alt=\"Open In Colab\"/></a>"
      ]
    },
    {
      "cell_type": "code",
      "source": [
        "pip install QuantLib"
      ],
      "metadata": {
        "id": "s3hnpH2YpTLJ"
      },
      "execution_count": null,
      "outputs": []
    },
    {
      "cell_type": "code",
      "execution_count": null,
      "metadata": {
        "id": "G3QlDM4PpGXj"
      },
      "outputs": [],
      "source": [
        "import QuantLib as ql\n",
        "\n",
        "# Set the option parameters\n",
        "expiry_date = ql.Date(30, 10, 2024)\n",
        "spot_price = 100\n",
        "strike_price = 105\n",
        "risk_free_rate = 0.01\n",
        "volatility = 0.2\n",
        "\n",
        "# Construct the option\n",
        "payoff = ql.PlainVanillaPayoff(ql.Option.Call, strike_price)\n",
        "exercise = ql.EuropeanExercise(expiry_date)\n",
        "option = ql.VanillaOption(payoff, exercise)\n",
        "\n",
        "# Set up the Black-Scholes process\n",
        "calendar = ql.UnitedStates(ql.UnitedStates.NYSE)\n",
        "day_count = ql.Actual365Fixed()\n",
        "todays_date = ql.Date(1, 10, 2024)\n",
        "ql.Settings.instance().evaluationDate = todays_date\n",
        "\n",
        "spot_handle = ql.QuoteHandle(ql.SimpleQuote(spot_price))\n",
        "rate_handle = ql.YieldTermStructureHandle(ql.FlatForward(todays_date, ql.QuoteHandle(ql.SimpleQuote(risk_free_rate)), day_count))\n",
        "volatility_handle = ql.BlackVolTermStructureHandle(ql.BlackConstantVol(todays_date, calendar, volatility, day_count))\n",
        "\n",
        "# Set up the Black-Scholes model\n",
        "bsm_process = ql.BlackScholesProcess(spot_handle, rate_handle, volatility_handle)\n",
        "\n",
        "# Set the pricing engine\n",
        "engine = ql.AnalyticEuropeanEngine(bsm_process)\n",
        "option.setPricingEngine(engine)\n",
        "\n",
        "# Price the option\n",
        "option_price = option.NPV()\n",
        "print(f\"Option Price: {option_price}\")"
      ]
    }
  ]
}