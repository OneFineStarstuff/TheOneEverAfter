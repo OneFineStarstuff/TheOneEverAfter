{
  "nbformat": 4,
  "nbformat_minor": 0,
  "metadata": {
    "colab": {
      "private_outputs": true,
      "provenance": [],
      "authorship_tag": "ABX9TyP1aZOAiT7cZqVCPpW4qc/y",
      "include_colab_link": true
    },
    "kernelspec": {
      "name": "python3",
      "display_name": "Python 3"
    },
    "language_info": {
      "name": "python"
    }
  },
  "cells": [
    {
      "cell_type": "markdown",
      "metadata": {
        "id": "view-in-github",
        "colab_type": "text"
      },
      "source": [
        "<a href=\"https://colab.research.google.com/github/OneFineStarstuff/OneFineStarstuff/blob/main/Using_RDKit_for_Molecular_Tasks.ipynb\" target=\"_parent\"><img src=\"https://colab.research.google.com/assets/colab-badge.svg\" alt=\"Open In Colab\"/></a>"
      ]
    },
    {
      "cell_type": "code",
      "source": [
        "pip install rdkit"
      ],
      "metadata": {
        "id": "8umjkYi4j_44"
      },
      "execution_count": null,
      "outputs": []
    },
    {
      "cell_type": "code",
      "execution_count": null,
      "metadata": {
        "id": "5167HqHJjJiX"
      },
      "outputs": [],
      "source": [
        "from rdkit import Chem\n",
        "from rdkit.Chem import Descriptors\n",
        "from rdkit.Chem.rdchem import Mol\n",
        "\n",
        "# Generate a simple molecule\n",
        "smiles = 'CCO'  # Ethanol\n",
        "molecule = Chem.MolFromSmiles(smiles)\n",
        "\n",
        "# Print the generated molecule in SMILES format\n",
        "print(\"Generated molecule in SMILES format:\", Chem.MolToSmiles(molecule))\n",
        "\n",
        "# Calculate some properties\n",
        "def calculate_properties(mol: Mol):\n",
        "    properties = {\n",
        "        \"Molecular Weight\": Descriptors.MolWt(mol),\n",
        "        \"LogP\": Descriptors.MolLogP(mol),\n",
        "        \"Number of Hydrogen Bond Donors\": Descriptors.NumHDonors(mol),\n",
        "        \"Number of Hydrogen Bond Acceptors\": Descriptors.NumHAcceptors(mol)\n",
        "    }\n",
        "    return properties\n",
        "\n",
        "# Print the properties of the molecule\n",
        "properties = calculate_properties(molecule)\n",
        "print(\"Molecule Properties:\")\n",
        "for prop, value in properties.items():\n",
        "    print(f\"{prop}: {value}\")"
      ]
    }
  ]
}