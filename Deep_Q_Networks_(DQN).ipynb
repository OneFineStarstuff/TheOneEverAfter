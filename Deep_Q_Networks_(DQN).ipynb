{
  "nbformat": 4,
  "nbformat_minor": 0,
  "metadata": {
    "colab": {
      "private_outputs": true,
      "provenance": [],
      "authorship_tag": "ABX9TyNIfwsVtX6Q7Y++BQHtFLC8",
      "include_colab_link": true
    },
    "kernelspec": {
      "name": "python3",
      "display_name": "Python 3"
    },
    "language_info": {
      "name": "python"
    }
  },
  "cells": [
    {
      "cell_type": "markdown",
      "metadata": {
        "id": "view-in-github",
        "colab_type": "text"
      },
      "source": [
        "<a href=\"https://colab.research.google.com/github/OneFineStarstuff/OneFineStarstuff/blob/main/Deep_Q_Networks_(DQN).ipynb\" target=\"_parent\"><img src=\"https://colab.research.google.com/assets/colab-badge.svg\" alt=\"Open In Colab\"/></a>"
      ]
    },
    {
      "cell_type": "code",
      "execution_count": null,
      "metadata": {
        "id": "RctBHrG264VT"
      },
      "outputs": [],
      "source": [
        "import torch\n",
        "import torch.nn as nn\n",
        "import torch.optim as optim\n",
        "\n",
        "class DQN(nn.Module):\n",
        "    def __init__(self, state_dim, action_dim):\n",
        "        super(DQN, self).__init__()\n",
        "        self.fc1 = nn.Linear(state_dim, 128)\n",
        "        self.fc2 = nn.Linear(128, action_dim)\n",
        "\n",
        "    def forward(self, state):\n",
        "        x = torch.relu(self.fc1(state))\n",
        "        return self.fc2(x)\n",
        "\n",
        "# Q-learning update\n",
        "def update_q_values(state, action, reward, next_state, model, target_model, optimizer, gamma=0.99):\n",
        "    model.train()\n",
        "    state_action_values = model(state).gather(1, action.unsqueeze(1))\n",
        "\n",
        "    with torch.no_grad():\n",
        "        next_state_values = target_model(next_state).max(1)[0]\n",
        "        expected_state_action_values = reward + (gamma * next_state_values)\n",
        "\n",
        "    loss = nn.functional.mse_loss(state_action_values, expected_state_action_values.unsqueeze(1))\n",
        "\n",
        "    optimizer.zero_grad()\n",
        "    loss.backward()\n",
        "    optimizer.step()\n",
        "\n",
        "# Example usage\n",
        "state_dim = 4\n",
        "action_dim = 2\n",
        "model = DQN(state_dim, action_dim)\n",
        "target_model = DQN(state_dim, action_dim)\n",
        "\n",
        "optimizer = optim.Adam(model.parameters(), lr=1e-3)\n",
        "\n",
        "state = torch.randn(1, state_dim)\n",
        "action = torch.tensor([1])\n",
        "reward = torch.tensor([1.0])\n",
        "next_state = torch.randn(1, state_dim)\n",
        "\n",
        "update_q_values(state, action, reward, next_state, model, target_model, optimizer, gamma=0.99)\n",
        "print(\"Q-values updated successfully!\")"
      ]
    }
  ]
}