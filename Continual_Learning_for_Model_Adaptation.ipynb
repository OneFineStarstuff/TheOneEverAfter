{
  "nbformat": 4,
  "nbformat_minor": 0,
  "metadata": {
    "colab": {
      "private_outputs": true,
      "provenance": [],
      "authorship_tag": "ABX9TyPRlZmLCo1ZKqoRlp0gxchy",
      "include_colab_link": true
    },
    "kernelspec": {
      "name": "python3",
      "display_name": "Python 3"
    },
    "language_info": {
      "name": "python"
    }
  },
  "cells": [
    {
      "cell_type": "markdown",
      "metadata": {
        "id": "view-in-github",
        "colab_type": "text"
      },
      "source": [
        "<a href=\"https://colab.research.google.com/github/OneFineStarstuff/OneFineStarstuff/blob/main/Continual_Learning_for_Model_Adaptation.ipynb\" target=\"_parent\"><img src=\"https://colab.research.google.com/assets/colab-badge.svg\" alt=\"Open In Colab\"/></a>"
      ]
    },
    {
      "cell_type": "code",
      "execution_count": null,
      "metadata": {
        "id": "h6ZYw_pIAFK5"
      },
      "outputs": [],
      "source": [
        "import torch\n",
        "import torch.nn as nn\n",
        "import torch.optim as optim\n",
        "\n",
        "# Define a simple model and EWC loss\n",
        "class SimpleNN(nn.Module):\n",
        "    def __init__(self):\n",
        "        super(SimpleNN, self).__init__()\n",
        "        self.fc = nn.Linear(10, 2)\n",
        "\n",
        "    def forward(self, x):\n",
        "        return self.fc(x)\n",
        "\n",
        "model = SimpleNN()\n",
        "optimizer = optim.SGD(model.parameters(), lr=0.01)\n",
        "criterion = nn.CrossEntropyLoss()\n",
        "\n",
        "# Elastic weight consolidation (EWC) setup\n",
        "old_params = {name: param.clone() for name, param in model.named_parameters()}\n",
        "ewc_lambda = 0.4  # Regularization strength\n",
        "\n",
        "# Training loop with EWC\n",
        "for epoch in range(10):\n",
        "    # Dummy data for training\n",
        "    data = torch.randn(32, 10)\n",
        "    labels = torch.randint(0, 2, (32,))\n",
        "\n",
        "    # Compute loss and EWC penalty\n",
        "    optimizer.zero_grad()\n",
        "    outputs = model(data)\n",
        "    loss = criterion(outputs, labels)\n",
        "    ewc_penalty = sum(((param - old_params[name])**2).sum() for name, param in model.named_parameters())\n",
        "    total_loss = loss + ewc_lambda * ewc_penalty\n",
        "    total_loss.backward()\n",
        "    optimizer.step()"
      ]
    }
  ]
}