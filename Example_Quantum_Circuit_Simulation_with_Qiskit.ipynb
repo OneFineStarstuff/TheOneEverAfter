{
  "nbformat": 4,
  "nbformat_minor": 0,
  "metadata": {
    "colab": {
      "private_outputs": true,
      "provenance": [],
      "authorship_tag": "ABX9TyOrtaGLsVdv+DlT4FSV2XpT",
      "include_colab_link": true
    },
    "kernelspec": {
      "name": "python3",
      "display_name": "Python 3"
    },
    "language_info": {
      "name": "python"
    }
  },
  "cells": [
    {
      "cell_type": "markdown",
      "metadata": {
        "id": "view-in-github",
        "colab_type": "text"
      },
      "source": [
        "<a href=\"https://colab.research.google.com/github/OneFineStarstuff/OneFineStardust/blob/main/Example_Quantum_Circuit_Simulation_with_Qiskit.ipynb\" target=\"_parent\"><img src=\"https://colab.research.google.com/assets/colab-badge.svg\" alt=\"Open In Colab\"/></a>"
      ]
    },
    {
      "cell_type": "code",
      "source": [
        "pip install qiskit"
      ],
      "metadata": {
        "id": "SoVhVFnqZx2l"
      },
      "execution_count": null,
      "outputs": []
    },
    {
      "cell_type": "code",
      "source": [
        "pip install qiskit-aer"
      ],
      "metadata": {
        "id": "vOrKMd8eaJ7F"
      },
      "execution_count": null,
      "outputs": []
    },
    {
      "cell_type": "code",
      "execution_count": null,
      "metadata": {
        "id": "KtqL6H7XZl8z"
      },
      "outputs": [],
      "source": [
        "from qiskit import QuantumCircuit, Aer, execute\n",
        "\n",
        "# Create a quantum circuit with 2 qubits\n",
        "qc = QuantumCircuit(2)\n",
        "\n",
        "# Apply a Hadamard gate to the first qubit\n",
        "qc.h(0)\n",
        "\n",
        "# Apply a CNOT gate (controlled NOT) with qubit 0 controlling qubit 1\n",
        "qc.cx(0, 1)\n",
        "\n",
        "# Measure the qubits\n",
        "qc.measure_all()\n",
        "\n",
        "# Simulate the circuit\n",
        "simulator = Aer.get_backend('qasm_simulator')\n",
        "result = execute(qc, simulator).result()\n",
        "counts = result.get_counts(qc)\n",
        "\n",
        "print(\"Measurement results:\", counts)"
      ]
    }
  ]
}