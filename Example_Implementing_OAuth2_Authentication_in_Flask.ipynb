{
  "nbformat": 4,
  "nbformat_minor": 0,
  "metadata": {
    "colab": {
      "private_outputs": true,
      "provenance": [],
      "authorship_tag": "ABX9TyMrxJfW7YNC9aXKv3AtoAe3",
      "include_colab_link": true
    },
    "kernelspec": {
      "name": "python3",
      "display_name": "Python 3"
    },
    "language_info": {
      "name": "python"
    }
  },
  "cells": [
    {
      "cell_type": "markdown",
      "metadata": {
        "id": "view-in-github",
        "colab_type": "text"
      },
      "source": [
        "<a href=\"https://colab.research.google.com/github/OneFineStarstuff/OneFineStardust/blob/main/Example_Implementing_OAuth2_Authentication_in_Flask.ipynb\" target=\"_parent\"><img src=\"https://colab.research.google.com/assets/colab-badge.svg\" alt=\"Open In Colab\"/></a>"
      ]
    },
    {
      "cell_type": "code",
      "execution_count": null,
      "metadata": {
        "id": "vz2tgqMRBHBV"
      },
      "outputs": [],
      "source": [
        "from flask import Flask, redirect, url_for\n",
        "from flask_oauthlib.client import OAuth\n",
        "\n",
        "app = Flask(__name__)\n",
        "oauth = OAuth(app)\n",
        "\n",
        "google = oauth.remote_app(\n",
        "    'google',\n",
        "    consumer_key='YOUR_GOOGLE_CLIENT_ID',\n",
        "    consumer_secret='YOUR_GOOGLE_CLIENT_SECRET',\n",
        "    request_token_params={\n",
        "        'scope': 'email',\n",
        "    },\n",
        "    base_url='https://www.googleapis.com/oauth2/v1/',\n",
        "    request_token_url=None,\n",
        "    access_token_method='POST',\n",
        "    access_token_url='https://accounts.google.com/o/oauth2/token',\n",
        "    authorize_url='https://accounts.google.com/o/oauth2/auth',\n",
        ")\n",
        "\n",
        "@app.route('/')\n",
        "def index():\n",
        "    return 'Welcome to the OAuth2 example!'\n",
        "\n",
        "@app.route('/login')\n",
        "def login():\n",
        "    return google.authorize(callback=url_for('authorized', _external=True))\n",
        "\n",
        "@app.route('/logout')\n",
        "def logout():\n",
        "    return 'You have been logged out.'\n",
        "\n",
        "@app.route('/login/authorized')\n",
        "def authorized():\n",
        "    response = google.authorized_response()\n",
        "\n",
        "    if response is None or 'access_token' not in response:\n",
        "        return 'Access denied: reason={} error={}'.format(\n",
        "            request.args['error_reason'],\n",
        "            request.args['error_description']\n",
        "        )\n",
        "\n",
        "    access_token = response['access_token']\n",
        "\n",
        "    user_info = google.get('userinfo')\n",
        "\n",
        "    return 'Logged in as: ' + user_info.data['email']\n",
        "\n",
        "if __name__ == '__main__':\n",
        "    app.run(debug=True)"
      ]
    }
  ]
}