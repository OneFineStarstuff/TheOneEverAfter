{
  "nbformat": 4,
  "nbformat_minor": 0,
  "metadata": {
    "colab": {
      "private_outputs": true,
      "provenance": [],
      "authorship_tag": "ABX9TyMshUr2CBhiza/evcjqLiJH",
      "include_colab_link": true
    },
    "kernelspec": {
      "name": "python3",
      "display_name": "Python 3"
    },
    "language_info": {
      "name": "python"
    }
  },
  "cells": [
    {
      "cell_type": "markdown",
      "metadata": {
        "id": "view-in-github",
        "colab_type": "text"
      },
      "source": [
        "<a href=\"https://colab.research.google.com/github/OneFineStarstuff/OneFineStardust/blob/main/Example_Predictive_Maintenance_Using_Time_Series_Analysis.ipynb\" target=\"_parent\"><img src=\"https://colab.research.google.com/assets/colab-badge.svg\" alt=\"Open In Colab\"/></a>"
      ]
    },
    {
      "cell_type": "code",
      "execution_count": null,
      "metadata": {
        "id": "ZnnlwCqxhUiH"
      },
      "outputs": [],
      "source": [
        "import pandas as pd\n",
        "import numpy as np\n",
        "\n",
        "# Simulated time series data for machine performance metrics (e.g., vibration levels)\n",
        "dates = pd.date_range(start='2023-01-01', periods=100)\n",
        "vibration_levels = np.random.normal(loc=5.0, scale=1.5, size=len(dates))\n",
        "df_vibration = pd.DataFrame({'Date': dates, 'Vibration': vibration_levels})\n",
        "\n",
        "# Simple moving average for smoothing the data\n",
        "df_vibration['SMA'] = df_vibration['Vibration'].rolling(window=5).mean()\n",
        "\n",
        "# Plotting the time series data with moving average\n",
        "import matplotlib.pyplot as plt\n",
        "\n",
        "plt.plot(df_vibration['Date'], df_vibration['Vibration'], label='Vibration Levels')\n",
        "plt.plot(df_vibration['Date'], df_vibration['SMA'], label='5-Day SMA', color='orange')\n",
        "plt.title('Machine Vibration Levels Over Time')\n",
        "plt.xlabel('Date')\n",
        "plt.ylabel('Vibration Level')\n",
        "plt.legend()\n",
        "plt.grid(True)\n",
        "plt.show()"
      ]
    }
  ]
}