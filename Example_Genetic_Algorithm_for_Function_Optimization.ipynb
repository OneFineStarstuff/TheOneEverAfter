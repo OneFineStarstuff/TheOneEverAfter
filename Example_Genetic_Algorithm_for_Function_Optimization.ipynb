{
  "nbformat": 4,
  "nbformat_minor": 0,
  "metadata": {
    "colab": {
      "private_outputs": true,
      "provenance": [],
      "authorship_tag": "ABX9TyPjnCAFgxRST2Ks4SuW3A1+",
      "include_colab_link": true
    },
    "kernelspec": {
      "name": "python3",
      "display_name": "Python 3"
    },
    "language_info": {
      "name": "python"
    }
  },
  "cells": [
    {
      "cell_type": "markdown",
      "metadata": {
        "id": "view-in-github",
        "colab_type": "text"
      },
      "source": [
        "<a href=\"https://colab.research.google.com/github/OneFineStarstuff/OneFineStardust/blob/main/Example_Genetic_Algorithm_for_Function_Optimization.ipynb\" target=\"_parent\"><img src=\"https://colab.research.google.com/assets/colab-badge.svg\" alt=\"Open In Colab\"/></a>"
      ]
    },
    {
      "cell_type": "code",
      "execution_count": null,
      "metadata": {
        "id": "81xedToM4sEm"
      },
      "outputs": [],
      "source": [
        "import numpy as np\n",
        "\n",
        "def fitness_function(x):\n",
        "    return -x**2 + x + 5  # Example function to maximize\n",
        "\n",
        "def select_parents(population):\n",
        "    fitness_scores = np.array([fitness_function(ind) for ind in population])\n",
        "    parents_indices = np.argsort(fitness_scores)[-2:]  # Select top two parents\n",
        "    return population[parents_indices]\n",
        "\n",
        "def crossover(parent1, parent2):\n",
        "    return (parent1 + parent2) / 2\n",
        "\n",
        "def mutate(child):\n",
        "    mutation_rate = 0.1\n",
        "    if np.random.rand() < mutation_rate:\n",
        "        child += np.random.normal(0, 1)  # Add random noise to child\n",
        "    return child\n",
        "\n",
        "# Initialize population\n",
        "population_size = 10\n",
        "generations = 20\n",
        "population = np.random.uniform(-10, 10, size=population_size)\n",
        "\n",
        "for generation in range(generations):\n",
        "    parents = select_parents(population)\n",
        "    new_population = []\n",
        "\n",
        "    for _ in range(population_size // 2):\n",
        "        child1 = crossover(parents[0], parents[1])\n",
        "        child1 = mutate(child1)\n",
        "        new_population.append(child1)\n",
        "\n",
        "    population[:len(new_population)] = new_population\n",
        "\n",
        "best_solution = population[np.argmax([fitness_function(ind) for ind in population])]\n",
        "print(f'Best solution found: {best_solution}')"
      ]
    }
  ]
}