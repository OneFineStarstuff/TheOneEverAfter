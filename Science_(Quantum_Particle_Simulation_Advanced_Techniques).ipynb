{
  "nbformat": 4,
  "nbformat_minor": 0,
  "metadata": {
    "colab": {
      "private_outputs": true,
      "provenance": [],
      "authorship_tag": "ABX9TyM+u1gzkMVqwxFJGKimVpFp",
      "include_colab_link": true
    },
    "kernelspec": {
      "name": "python3",
      "display_name": "Python 3"
    },
    "language_info": {
      "name": "python"
    }
  },
  "cells": [
    {
      "cell_type": "markdown",
      "metadata": {
        "id": "view-in-github",
        "colab_type": "text"
      },
      "source": [
        "<a href=\"https://colab.research.google.com/github/OneFineStarstuff/OneFineStarstuff/blob/main/Science_(Quantum_Particle_Simulation_Advanced_Techniques).ipynb\" target=\"_parent\"><img src=\"https://colab.research.google.com/assets/colab-badge.svg\" alt=\"Open In Colab\"/></a>"
      ]
    },
    {
      "cell_type": "code",
      "execution_count": null,
      "metadata": {
        "id": "-LjN9WcbpGuG"
      },
      "outputs": [],
      "source": [
        "import numpy as np\n",
        "from numba import jit, complex128\n",
        "import matplotlib.pyplot as plt\n",
        "\n",
        "# Parameters and constants\n",
        "hbar = 1.0545718e-34\n",
        "m = 9.10938356e-31\n",
        "N = 1000\n",
        "L = 1e-8\n",
        "dx = L / N\n",
        "dt = 1e-18\n",
        "\n",
        "@jit(nopython=True)\n",
        "def evolve_wavefunction(psi, V, dx, dt):\n",
        "    for i in range(1, len(psi)-1):\n",
        "        psi[i] = psi[i] - (1j * hbar * dt / (2 * m * dx**2)) * (\n",
        "            psi[i+1] - 2 * psi[i] + psi[i-1]\n",
        "        ) - (1j * dt / hbar) * V[i] * psi[i]\n",
        "    return psi\n",
        "\n",
        "@jit(nopython=True)\n",
        "def normalize_wavefunction(psi):\n",
        "    norm = np.sqrt(np.sum(np.abs(psi)**2))\n",
        "    return psi / norm\n",
        "\n",
        "x = np.linspace(0, L, N)\n",
        "V = np.zeros_like(x)\n",
        "V[N//4:N//2] = 1e-18\n",
        "\n",
        "psi = np.exp(-((x - L/4)**2) / (2 * (L/20)**2)) * np.exp(1j * 5 * x)\n",
        "psi = normalize_wavefunction(psi)  # Normalize initially\n",
        "\n",
        "for t in range(1000):\n",
        "    psi = evolve_wavefunction(psi, V, dx, dt)\n",
        "    psi = normalize_wavefunction(psi)  # Normalize after each step\n",
        "    if t % 100 == 0:\n",
        "        plt.plot(x, np.abs(psi)**2)\n",
        "plt.xlabel('Position (x)')\n",
        "plt.ylabel('Probability Density')\n",
        "plt.title('Wavefunction Evolution Over Time')\n",
        "plt.show()"
      ]
    }
  ]
}