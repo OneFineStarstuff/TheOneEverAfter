{
  "nbformat": 4,
  "nbformat_minor": 0,
  "metadata": {
    "colab": {
      "private_outputs": true,
      "provenance": [],
      "authorship_tag": "ABX9TyNwY85/NKomhYiSbiUEHe5Z",
      "include_colab_link": true
    },
    "kernelspec": {
      "name": "python3",
      "display_name": "Python 3"
    },
    "language_info": {
      "name": "python"
    }
  },
  "cells": [
    {
      "cell_type": "markdown",
      "metadata": {
        "id": "view-in-github",
        "colab_type": "text"
      },
      "source": [
        "<a href=\"https://colab.research.google.com/github/OneFineStarstuff/OneFineStardust/blob/main/Example_Simple_IoT_Device_Simulation_with_Python.ipynb\" target=\"_parent\"><img src=\"https://colab.research.google.com/assets/colab-badge.svg\" alt=\"Open In Colab\"/></a>"
      ]
    },
    {
      "cell_type": "code",
      "execution_count": null,
      "metadata": {
        "id": "H9z7wksaE67s"
      },
      "outputs": [],
      "source": [
        "import random\n",
        "import time\n",
        "\n",
        "def read_sensor():\n",
        "    # Simulate reading a temperature sensor\n",
        "    return random.uniform(20.0, 30.0)  # Random temperature between 20°C and 30°C\n",
        "\n",
        "while True:\n",
        "    temperature = read_sensor()\n",
        "    print(f'Temperature: {temperature:.2f} °C')\n",
        "    time.sleep(5)  # Wait for 5 seconds before reading again"
      ]
    }
  ]
}