{
  "nbformat": 4,
  "nbformat_minor": 0,
  "metadata": {
    "colab": {
      "private_outputs": true,
      "provenance": [],
      "authorship_tag": "ABX9TyPNk+4UMKrsn7I6ZXd6lzWk",
      "include_colab_link": true
    },
    "kernelspec": {
      "name": "python3",
      "display_name": "Python 3"
    },
    "language_info": {
      "name": "python"
    }
  },
  "cells": [
    {
      "cell_type": "markdown",
      "metadata": {
        "id": "view-in-github",
        "colab_type": "text"
      },
      "source": [
        "<a href=\"https://colab.research.google.com/github/OneFineStarstuff/OneFineStarstuff/blob/main/Example_Simulating_a_PID_Controller.ipynb\" target=\"_parent\"><img src=\"https://colab.research.google.com/assets/colab-badge.svg\" alt=\"Open In Colab\"/></a>"
      ]
    },
    {
      "cell_type": "code",
      "execution_count": null,
      "metadata": {
        "id": "KYb_XZHVejrp"
      },
      "outputs": [],
      "source": [
        "import numpy as np\n",
        "import matplotlib.pyplot as plt\n",
        "from scipy.integrate import odeint\n",
        "\n",
        "# Define the system to be controlled (e.g., a simple mass-spring-damper system)\n",
        "def system(x, t, u):\n",
        "    m = 1.0  # Mass\n",
        "    c = 0.5  # Damping coefficient\n",
        "    k = 5.0  # Spring constant\n",
        "    dxdt = x[1]\n",
        "    dvdt = (-c * x[1] - k * x[0] + u) / m\n",
        "    return [dxdt, dvdt]\n",
        "\n",
        "# Define the PID controller\n",
        "def PID_controller(e, e_sum, e_diff, Kp, Ki, Kd):\n",
        "    return Kp * e + Ki * e_sum + Kd * e_diff\n",
        "\n",
        "# Time array for simulation\n",
        "t = np.linspace(0, 10, 1000)\n",
        "dt = t[1] - t[0]\n",
        "\n",
        "# Initial conditions\n",
        "x = [0.0, 0.0]  # Initial position and velocity\n",
        "setpoint = 1.0  # Desired position\n",
        "Kp, Ki, Kd = 10.0, 1.0, 0.1  # PID parameters\n",
        "u = 0  # Control input\n",
        "e_sum = 0  # Integral of the error\n",
        "previous_error = 0  # Previous error for derivative term\n",
        "\n",
        "# Store results\n",
        "positions = []\n",
        "\n",
        "# Simulate the system with PID control\n",
        "for i in range(len(t)):\n",
        "    # Calculate the error\n",
        "    error = setpoint - x[0]\n",
        "\n",
        "    # Update the integral and derivative of the error\n",
        "    e_sum += error * dt\n",
        "    e_diff = (error - previous_error) / dt\n",
        "\n",
        "    # Calculate the control input using the PID controller\n",
        "    u = PID_controller(error, e_sum, e_diff, Kp, Ki, Kd)\n",
        "\n",
        "    # Update the system state\n",
        "    x = odeint(system, x, [t[i], t[i] + dt], args=(u,))[1]\n",
        "\n",
        "    # Store the position\n",
        "    positions.append(x[0])\n",
        "\n",
        "    # Update the previous error\n",
        "    previous_error = error\n",
        "\n",
        "# Plot the system's response\n",
        "plt.plot(t, positions, label=\"System Response\")\n",
        "plt.plot(t, np.ones_like(t) * setpoint, 'r--', label=\"Setpoint\")\n",
        "plt.title(\"System Response with PID Control\")\n",
        "plt.xlabel(\"Time (s)\")\n",
        "plt.ylabel(\"Position\")\n",
        "plt.legend()\n",
        "plt.grid(True)\n",
        "plt.show()"
      ]
    }
  ]
}