{
  "nbformat": 4,
  "nbformat_minor": 0,
  "metadata": {
    "colab": {
      "private_outputs": true,
      "provenance": [],
      "authorship_tag": "ABX9TyOqWtQ26Rv1dEmpRTrq/3Uo",
      "include_colab_link": true
    },
    "kernelspec": {
      "name": "python3",
      "display_name": "Python 3"
    },
    "language_info": {
      "name": "python"
    }
  },
  "cells": [
    {
      "cell_type": "markdown",
      "metadata": {
        "id": "view-in-github",
        "colab_type": "text"
      },
      "source": [
        "<a href=\"https://colab.research.google.com/github/OneFineStarstuff/OneFineStarstuff/blob/main/Model_trained_with_differential_privacy_using_Opacus.ipynb\" target=\"_parent\"><img src=\"https://colab.research.google.com/assets/colab-badge.svg\" alt=\"Open In Colab\"/></a>"
      ]
    },
    {
      "cell_type": "code",
      "source": [
        "pip install opacus"
      ],
      "metadata": {
        "id": "xWt26AWsvn08"
      },
      "execution_count": null,
      "outputs": []
    },
    {
      "cell_type": "code",
      "execution_count": null,
      "metadata": {
        "id": "fYbnoPdVvLnX"
      },
      "outputs": [],
      "source": [
        "import torch\n",
        "import torch.nn as nn\n",
        "import torch.optim as optim\n",
        "from torch.utils.data import DataLoader, TensorDataset\n",
        "from opacus import PrivacyEngine\n",
        "\n",
        "# Placeholder for your data\n",
        "data = torch.randn(1000, 100)\n",
        "labels = torch.randint(0, 2, (1000,))\n",
        "\n",
        "# Create a dataset and dataloader\n",
        "dataset = TensorDataset(data, labels)\n",
        "dataloader = DataLoader(dataset, batch_size=32, shuffle=True)\n",
        "\n",
        "# Define a simple model\n",
        "class SimpleModel(nn.Module):\n",
        "    def __init__(self):\n",
        "        super(SimpleModel, self).__init__()\n",
        "        self.fc1 = nn.Linear(100, 64)\n",
        "        self.fc2 = nn.Linear(64, 1)\n",
        "\n",
        "    def forward(self, x):\n",
        "        x = torch.relu(self.fc1(x))\n",
        "        x = torch.sigmoid(self.fc2(x))\n",
        "        return x\n",
        "\n",
        "model = SimpleModel()\n",
        "\n",
        "# Define a loss function and optimizer\n",
        "criterion = nn.BCELoss()\n",
        "optimizer = optim.Adam(model.parameters(), lr=0.001)\n",
        "\n",
        "# Initialize Privacy Engine and attach it to the optimizer\n",
        "privacy_engine = PrivacyEngine()\n",
        "model, optimizer, dataloader = privacy_engine.make_private(\n",
        "    module=model,\n",
        "    optimizer=optimizer,\n",
        "    data_loader=dataloader,\n",
        "    noise_multiplier=1.1,\n",
        "    max_grad_norm=1.0,\n",
        ")\n",
        "\n",
        "# Train the model with differential privacy\n",
        "for epoch in range(10):\n",
        "    for data, labels in dataloader:\n",
        "        optimizer.zero_grad()\n",
        "        outputs = model(data)\n",
        "        loss = criterion(outputs, labels.float().view(-1, 1))  # Ensure the shapes match\n",
        "        loss.backward()\n",
        "        optimizer.step()\n",
        "\n",
        "print(\"Model trained with differential privacy using Opacus.\")"
      ]
    }
  ]
}