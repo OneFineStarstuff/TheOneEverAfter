{
  "nbformat": 4,
  "nbformat_minor": 0,
  "metadata": {
    "colab": {
      "private_outputs": true,
      "provenance": [],
      "authorship_tag": "ABX9TyPHYxlk36/rjqDnSw98RZaI",
      "include_colab_link": true
    },
    "kernelspec": {
      "name": "python3",
      "display_name": "Python 3"
    },
    "language_info": {
      "name": "python"
    }
  },
  "cells": [
    {
      "cell_type": "markdown",
      "metadata": {
        "id": "view-in-github",
        "colab_type": "text"
      },
      "source": [
        "<a href=\"https://colab.research.google.com/github/OneFineStarstuff/OneFineStardust/blob/main/Example_Basic_CFD_Simulation_Using_Finite_Volume_Method.ipynb\" target=\"_parent\"><img src=\"https://colab.research.google.com/assets/colab-badge.svg\" alt=\"Open In Colab\"/></a>"
      ]
    },
    {
      "cell_type": "code",
      "execution_count": null,
      "metadata": {
        "id": "nSiJU3cWh4kA"
      },
      "outputs": [],
      "source": [
        "import numpy as np\n",
        "import matplotlib.pyplot as plt\n",
        "\n",
        "# Parameters for the simulation grid\n",
        "nx = 50   # Number of spatial points\n",
        "nt = 50   # Number of time steps\n",
        "dx = 2 / (nx - 1)   # Spatial step size\n",
        "dt = 0.01   # Time step size\n",
        "\n",
        "# Initialize the field (e.g., temperature)\n",
        "u = np.zeros(nx)\n",
        "u[int(nx/4):int(nx/2)] = 1  # Initial condition: pulse in the middle\n",
        "\n",
        "# Time-stepping loop for diffusion equation\n",
        "for n in range(nt):\n",
        "    un = u.copy()\n",
        "    for i in range(1, nx-1):\n",
        "        u[i] = un[i] + dt * (un[i+1] - 2*un[i] + un[i-1]) / dx**2\n",
        "\n",
        "# Plotting results\n",
        "plt.plot(np.linspace(0, 2, nx), u)\n",
        "plt.title('Diffusion Equation Solution')\n",
        "plt.xlabel('Distance')\n",
        "plt.ylabel('Concentration')\n",
        "plt.grid()\n",
        "plt.show()"
      ]
    }
  ]
}