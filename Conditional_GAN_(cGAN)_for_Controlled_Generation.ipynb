{
  "nbformat": 4,
  "nbformat_minor": 0,
  "metadata": {
    "colab": {
      "private_outputs": true,
      "provenance": [],
      "authorship_tag": "ABX9TyM4t/5NSvmXHEvOO+b7Dzzt",
      "include_colab_link": true
    },
    "kernelspec": {
      "name": "python3",
      "display_name": "Python 3"
    },
    "language_info": {
      "name": "python"
    }
  },
  "cells": [
    {
      "cell_type": "markdown",
      "metadata": {
        "id": "view-in-github",
        "colab_type": "text"
      },
      "source": [
        "<a href=\"https://colab.research.google.com/github/OneFineStarstuff/OneFineStarstuff/blob/main/Conditional_GAN_(cGAN)_for_Controlled_Generation.ipynb\" target=\"_parent\"><img src=\"https://colab.research.google.com/assets/colab-badge.svg\" alt=\"Open In Colab\"/></a>"
      ]
    },
    {
      "cell_type": "code",
      "execution_count": null,
      "metadata": {
        "id": "o9mcUO66jDxW"
      },
      "outputs": [],
      "source": [
        "import torch\n",
        "import torch.nn as nn\n",
        "\n",
        "# Define the Generator class\n",
        "class Generator(nn.Module):\n",
        "    def __init__(self, noise_dim, label_dim, output_dim):\n",
        "        super(Generator, self).__init__()\n",
        "        self.model = nn.Sequential(\n",
        "            nn.Linear(noise_dim + label_dim, 128),\n",
        "            nn.ReLU(),\n",
        "            nn.Linear(128, output_dim),\n",
        "            nn.Tanh()\n",
        "        )\n",
        "\n",
        "    def forward(self, noise, labels):\n",
        "        x = torch.cat([noise, labels], dim=1)\n",
        "        return self.model(x)\n",
        "\n",
        "# Define dimensions\n",
        "noise_dim = 100\n",
        "label_dim = 10\n",
        "output_dim = 28 * 28  # Example for generating 28x28 images\n",
        "\n",
        "# Initialize the generator\n",
        "generator = Generator(noise_dim, label_dim, output_dim)\n",
        "\n",
        "# Generate random noise and labels\n",
        "noise = torch.randn(1, noise_dim)\n",
        "labels = torch.randn(1, label_dim)\n",
        "\n",
        "# Generate a sample\n",
        "generated_sample = generator(noise, labels)\n",
        "print(generated_sample.shape)"
      ]
    }
  ]
}