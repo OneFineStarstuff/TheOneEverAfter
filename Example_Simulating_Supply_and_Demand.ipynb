{
  "nbformat": 4,
  "nbformat_minor": 0,
  "metadata": {
    "colab": {
      "private_outputs": true,
      "provenance": [],
      "authorship_tag": "ABX9TyNN5IxEG/bXp7ZCHatng6nd",
      "include_colab_link": true
    },
    "kernelspec": {
      "name": "python3",
      "display_name": "Python 3"
    },
    "language_info": {
      "name": "python"
    }
  },
  "cells": [
    {
      "cell_type": "markdown",
      "metadata": {
        "id": "view-in-github",
        "colab_type": "text"
      },
      "source": [
        "<a href=\"https://colab.research.google.com/github/OneFineStarstuff/OneFineStarstuff/blob/main/Example_Simulating_Supply_and_Demand.ipynb\" target=\"_parent\"><img src=\"https://colab.research.google.com/assets/colab-badge.svg\" alt=\"Open In Colab\"/></a>"
      ]
    },
    {
      "cell_type": "code",
      "execution_count": null,
      "metadata": {
        "id": "Bl6RcMcXQNfH"
      },
      "outputs": [],
      "source": [
        "import numpy as np\n",
        "import matplotlib.pyplot as plt\n",
        "\n",
        "# Define the supply and demand functions\n",
        "def demand(p):\n",
        "    return 100 - 2 * p  # Decreasing demand with price\n",
        "\n",
        "def supply(p):\n",
        "    return 10 + 3 * p  # Increasing supply with price\n",
        "\n",
        "# Generate price points\n",
        "prices = np.linspace(0, 50, 500)\n",
        "\n",
        "# Calculate corresponding supply and demand\n",
        "demand_curve = demand(prices)\n",
        "supply_curve = supply(prices)\n",
        "\n",
        "# Plot supply and demand curves\n",
        "plt.plot(prices, demand_curve, label=\"Demand Curve\")\n",
        "plt.plot(prices, supply_curve, label=\"Supply Curve\")\n",
        "plt.xlabel(\"Price\")\n",
        "plt.ylabel(\"Quantity\")\n",
        "plt.title(\"Supply and Demand Simulation\")\n",
        "plt.axvline(x=20, color='gray', linestyle='--')  # Indicate equilibrium price\n",
        "plt.axhline(y=70, color='gray', linestyle='--')  # Indicate equilibrium quantity\n",
        "plt.legend()\n",
        "plt.grid(True)\n",
        "plt.show()"
      ]
    }
  ]
}