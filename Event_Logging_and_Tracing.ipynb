{
  "nbformat": 4,
  "nbformat_minor": 0,
  "metadata": {
    "colab": {
      "private_outputs": true,
      "provenance": [],
      "authorship_tag": "ABX9TyPcbiftEUWfusLQzy7wHvY+",
      "include_colab_link": true
    },
    "kernelspec": {
      "name": "python3",
      "display_name": "Python 3"
    },
    "language_info": {
      "name": "python"
    }
  },
  "cells": [
    {
      "cell_type": "markdown",
      "metadata": {
        "id": "view-in-github",
        "colab_type": "text"
      },
      "source": [
        "<a href=\"https://colab.research.google.com/github/OneFineStarstuff/OneFineStardust/blob/main/Event_Logging_and_Tracing.ipynb\" target=\"_parent\"><img src=\"https://colab.research.google.com/assets/colab-badge.svg\" alt=\"Open In Colab\"/></a>"
      ]
    },
    {
      "cell_type": "code",
      "execution_count": null,
      "metadata": {
        "id": "8M948qLU-Be6"
      },
      "outputs": [],
      "source": [
        "import logging\n",
        "from opentelemetry import trace\n",
        "from opentelemetry.sdk.trace import TracerProvider\n",
        "from opentelemetry.sdk.trace.export import BatchSpanProcessor, ConsoleSpanExporter\n",
        "\n",
        "# Configure logging\n",
        "logging.basicConfig(level=logging.INFO, filename='model_logs.log', filemode='a',\n",
        "                    format='%(asctime)s - %(levelname)s - %(message)s')\n",
        "\n",
        "def log_model_event(event):\n",
        "    logging.info(event)\n",
        "\n",
        "log_model_event(\"Model training started.\")\n",
        "log_model_event(\"Model training completed.\")\n",
        "\n",
        "# Tracing setup\n",
        "trace.set_tracer_provider(TracerProvider())\n",
        "span_processor = BatchSpanProcessor(ConsoleSpanExporter())\n",
        "trace.get_tracer_provider().add_span_processor(span_processor)\n",
        "\n",
        "tracer = trace.get_tracer(__name__)\n",
        "\n",
        "with tracer.start_as_current_span(\"main\"):\n",
        "    with tracer.start_as_current_span(\"data_loading\"):\n",
        "        # Data loading code\n",
        "        pass\n",
        "\n",
        "    with tracer.start_as_current_span(\"model_inference\"):\n",
        "        # Model inference code\n",
        "        pass"
      ]
    }
  ]
}