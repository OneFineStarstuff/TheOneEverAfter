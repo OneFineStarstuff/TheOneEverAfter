{
  "nbformat": 4,
  "nbformat_minor": 0,
  "metadata": {
    "colab": {
      "private_outputs": true,
      "provenance": [],
      "authorship_tag": "ABX9TyNFpVtf3PSjcOI2WxGth6mr",
      "include_colab_link": true
    },
    "kernelspec": {
      "name": "python3",
      "display_name": "Python 3"
    },
    "language_info": {
      "name": "python"
    }
  },
  "cells": [
    {
      "cell_type": "markdown",
      "metadata": {
        "id": "view-in-github",
        "colab_type": "text"
      },
      "source": [
        "<a href=\"https://colab.research.google.com/github/OneFineStarstuff/OneFineStarstuff/blob/main/Engineering_(Advanced_Control_Systems_Model_Predictive_Control_and_Robustness_Testing).ipynb\" target=\"_parent\"><img src=\"https://colab.research.google.com/assets/colab-badge.svg\" alt=\"Open In Colab\"/></a>"
      ]
    },
    {
      "cell_type": "code",
      "execution_count": null,
      "metadata": {
        "id": "f0Rhl2C3zNhI"
      },
      "outputs": [],
      "source": [
        "import numpy as np\n",
        "import matplotlib.pyplot as plt\n",
        "\n",
        "# MPC parameters\n",
        "horizon = 5  # Prediction horizon\n",
        "dt = 0.1     # Time step\n",
        "setpoint = 1.0\n",
        "x = 0.0      # Initial state\n",
        "u = 0.0      # Control input\n",
        "\n",
        "# Define cost function for MPC\n",
        "def cost_function(x, u, setpoint, horizon, dt):\n",
        "    cost = 0.0\n",
        "    for _ in range(horizon):\n",
        "        error = setpoint - x\n",
        "        cost += error**2 + 0.01 * u**2  # Weighted sum of state and control effort\n",
        "        x = x + u * dt  # System dynamics\n",
        "    return cost\n",
        "\n",
        "# Simulation loop\n",
        "for _ in range(50):\n",
        "    best_u = min(np.linspace(-1, 1, 50), key=lambda u: cost_function(x, u, setpoint, horizon, dt))\n",
        "    x = x + best_u * dt\n",
        "    plt.plot(_, x, 'ro')\n",
        "plt.xlabel(\"Time step\")\n",
        "plt.ylabel(\"System state\")\n",
        "plt.title(\"MPC Response\")\n",
        "plt.show()"
      ]
    }
  ]
}