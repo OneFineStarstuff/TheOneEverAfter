{
  "nbformat": 4,
  "nbformat_minor": 0,
  "metadata": {
    "colab": {
      "private_outputs": true,
      "provenance": [],
      "authorship_tag": "ABX9TyNgLgoqT1pl/6EJkxt16VaZ",
      "include_colab_link": true
    },
    "kernelspec": {
      "name": "python3",
      "display_name": "Python 3"
    },
    "language_info": {
      "name": "python"
    }
  },
  "cells": [
    {
      "cell_type": "markdown",
      "metadata": {
        "id": "view-in-github",
        "colab_type": "text"
      },
      "source": [
        "<a href=\"https://colab.research.google.com/github/OneFineStarstuff/OneFineStardust/blob/main/Long_Term_Memory_Systems_for_Knowledge_Retention.ipynb\" target=\"_parent\"><img src=\"https://colab.research.google.com/assets/colab-badge.svg\" alt=\"Open In Colab\"/></a>"
      ]
    },
    {
      "cell_type": "code",
      "execution_count": null,
      "metadata": {
        "id": "wnOCOCZMfw0A"
      },
      "outputs": [],
      "source": [
        "import torch\n",
        "\n",
        "class MemoryBank:\n",
        "    def __init__(self, memory_size, memory_dim):\n",
        "        self.memory = torch.zeros(memory_size, memory_dim)\n",
        "\n",
        "    def write(self, key, value):\n",
        "        # Write memory at the nearest slot to the key\n",
        "        idx = torch.argmax(torch.matmul(self.memory, key))\n",
        "        self.memory[idx] = value\n",
        "\n",
        "    def read(self, key):\n",
        "        idx = torch.argmax(torch.matmul(self.memory, key))\n",
        "        return self.memory[idx]\n",
        "\n",
        "# Example usage\n",
        "memory_bank = MemoryBank(memory_size=10, memory_dim=5)\n",
        "key = torch.randn(5)\n",
        "value = torch.randn(5)\n",
        "memory_bank.write(key, value)\n",
        "retrieved_value = memory_bank.read(key)\n",
        "print(f\"Retrieved value: {retrieved_value}\")"
      ]
    }
  ]
}