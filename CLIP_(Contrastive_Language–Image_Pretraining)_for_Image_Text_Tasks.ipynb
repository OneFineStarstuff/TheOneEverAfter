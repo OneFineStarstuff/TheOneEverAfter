{
  "nbformat": 4,
  "nbformat_minor": 0,
  "metadata": {
    "colab": {
      "private_outputs": true,
      "provenance": [],
      "authorship_tag": "ABX9TyOtNKdSQCH4RQnlay6ApcoB",
      "include_colab_link": true
    },
    "kernelspec": {
      "name": "python3",
      "display_name": "Python 3"
    },
    "language_info": {
      "name": "python"
    }
  },
  "cells": [
    {
      "cell_type": "markdown",
      "metadata": {
        "id": "view-in-github",
        "colab_type": "text"
      },
      "source": [
        "<a href=\"https://colab.research.google.com/github/OneFineStarstuff/OneFineStarstuff/blob/main/CLIP_(Contrastive_Language%E2%80%93Image_Pretraining)_for_Image_Text_Tasks.ipynb\" target=\"_parent\"><img src=\"https://colab.research.google.com/assets/colab-badge.svg\" alt=\"Open In Colab\"/></a>"
      ]
    },
    {
      "cell_type": "code",
      "execution_count": null,
      "metadata": {
        "id": "QuV4r9RSydJO"
      },
      "outputs": [],
      "source": [
        "pip install transformers torch pillow"
      ]
    },
    {
      "cell_type": "code",
      "source": [
        "from transformers import CLIPProcessor, CLIPModel\n",
        "from PIL import Image\n",
        "import requests\n",
        "import torch\n",
        "\n",
        "# Load pre-trained CLIP model and processor\n",
        "model = CLIPModel.from_pretrained(\"openai/clip-vit-base-patch32\")\n",
        "processor = CLIPProcessor.from_pretrained(\"openai/clip-vit-base-patch32\")\n",
        "\n",
        "# Load an example image from the web (replace with your own image path if needed)\n",
        "url = \"https://images.unsplash.com/photo-1567306226416-28f0efdc88ce\"  # A valid example image URL\n",
        "image = Image.open(requests.get(url, stream=True).raw)\n",
        "\n",
        "# Prepare inputs\n",
        "inputs = processor(text=[\"A cat\", \"A dog\"], images=image, return_tensors=\"pt\")\n",
        "\n",
        "# Forward pass\n",
        "outputs = model(**inputs)\n",
        "\n",
        "# Logits per image and probabilities\n",
        "logits_per_image = outputs.logits_per_image\n",
        "probs = logits_per_image.softmax(dim=1)\n",
        "\n",
        "print(\"Logits per image:\", logits_per_image)\n",
        "print(\"Probabilities:\", probs)"
      ],
      "metadata": {
        "id": "xeyr5L2oy0M1"
      },
      "execution_count": null,
      "outputs": []
    }
  ]
}