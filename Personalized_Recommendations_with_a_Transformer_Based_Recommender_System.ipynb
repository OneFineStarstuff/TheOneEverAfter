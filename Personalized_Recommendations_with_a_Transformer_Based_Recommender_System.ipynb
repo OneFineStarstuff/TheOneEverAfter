{
  "nbformat": 4,
  "nbformat_minor": 0,
  "metadata": {
    "colab": {
      "private_outputs": true,
      "provenance": [],
      "authorship_tag": "ABX9TyNL9kaQNiBcTI86XsLNkBkP",
      "include_colab_link": true
    },
    "kernelspec": {
      "name": "python3",
      "display_name": "Python 3"
    },
    "language_info": {
      "name": "python"
    }
  },
  "cells": [
    {
      "cell_type": "markdown",
      "metadata": {
        "id": "view-in-github",
        "colab_type": "text"
      },
      "source": [
        "<a href=\"https://colab.research.google.com/github/OneFineStarstuff/OneFineStarstuff/blob/main/Personalized_Recommendations_with_a_Transformer_Based_Recommender_System.ipynb\" target=\"_parent\"><img src=\"https://colab.research.google.com/assets/colab-badge.svg\" alt=\"Open In Colab\"/></a>"
      ]
    },
    {
      "cell_type": "code",
      "execution_count": null,
      "metadata": {
        "id": "Ao0CDhJOlbDl"
      },
      "outputs": [],
      "source": [
        "import torch\n",
        "import torch.nn as nn\n",
        "import torch.optim as optim\n",
        "from torch.utils.data import DataLoader, Dataset\n",
        "\n",
        "# Sample dataset\n",
        "class RecommendationDataset(Dataset):\n",
        "    def __init__(self, user_ids, item_ids, ratings):\n",
        "        self.user_ids = user_ids\n",
        "        self.item_ids = item_ids\n",
        "        self.ratings = ratings\n",
        "\n",
        "    def __len__(self):\n",
        "        return len(self.user_ids)\n",
        "\n",
        "    def __getitem__(self, idx):\n",
        "        return self.user_ids[idx], self.item_ids[idx], self.ratings[idx]\n",
        "\n",
        "# Neural Collaborative Filtering Model\n",
        "class NCF(nn.Module):\n",
        "    def __init__(self, num_users, num_items, embedding_dim):\n",
        "        super(NCF, self).__init__()\n",
        "        self.user_embedding = nn.Embedding(num_users, embedding_dim)\n",
        "        self.item_embedding = nn.Embedding(num_items, embedding_dim)\n",
        "        self.fc1 = nn.Linear(embedding_dim * 2, 128)\n",
        "        self.fc2 = nn.Linear(128, 64)\n",
        "        self.fc3 = nn.Linear(64, 1)\n",
        "        self.relu = nn.ReLU()\n",
        "\n",
        "    def forward(self, user_ids, item_ids):\n",
        "        user_embed = self.user_embedding(user_ids)\n",
        "        item_embed = self.item_embedding(item_ids)\n",
        "        x = torch.cat([user_embed, item_embed], dim=-1)\n",
        "        x = self.relu(self.fc1(x))\n",
        "        x = self.relu(self.fc2(x))\n",
        "        x = self.fc3(x)\n",
        "        return x\n",
        "\n",
        "# Create dummy data\n",
        "user_ids = torch.tensor([0, 1, 2, 0, 1, 2], dtype=torch.long)\n",
        "item_ids = torch.tensor([0, 1, 2, 1, 2, 0], dtype=torch.long)\n",
        "ratings = torch.tensor([5, 4, 3, 4, 5, 2], dtype=torch.float)\n",
        "\n",
        "dataset = RecommendationDataset(user_ids, item_ids, ratings)\n",
        "dataloader = DataLoader(dataset, batch_size=2, shuffle=True)\n",
        "\n",
        "# Model and training setup\n",
        "num_users = 3\n",
        "num_items = 3\n",
        "embedding_dim = 8\n",
        "model = NCF(num_users, num_items, embedding_dim)\n",
        "criterion = nn.MSELoss()\n",
        "optimizer = optim.Adam(model.parameters(), lr=0.01)\n",
        "\n",
        "# Training loop\n",
        "num_epochs = 10\n",
        "for epoch in range(num_epochs):\n",
        "    for user_ids, item_ids, ratings in dataloader:\n",
        "        optimizer.zero_grad()\n",
        "        outputs = model(user_ids, item_ids)\n",
        "        loss = criterion(outputs.squeeze(), ratings)\n",
        "        loss.backward()\n",
        "        optimizer.step()\n",
        "    print(f'Epoch {epoch + 1}, Loss: {loss.item():.4f}')\n",
        "\n",
        "# Making a recommendation for a user\n",
        "user_id = torch.tensor([0], dtype=torch.long)\n",
        "item_id = torch.tensor([1], dtype=torch.long)\n",
        "model.eval()\n",
        "with torch.no_grad():\n",
        "    recommendation_score = model(user_id, item_id).item()\n",
        "    print(f\"Recommendation score for user {user_id.item()} and item {item_id.item()}: {recommendation_score:.4f}\")"
      ]
    }
  ]
}