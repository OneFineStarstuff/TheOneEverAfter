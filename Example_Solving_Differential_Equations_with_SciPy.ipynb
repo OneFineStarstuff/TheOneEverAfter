{
  "nbformat": 4,
  "nbformat_minor": 0,
  "metadata": {
    "colab": {
      "private_outputs": true,
      "provenance": [],
      "authorship_tag": "ABX9TyOnMH67RlcExrmhz6w3IAse",
      "include_colab_link": true
    },
    "kernelspec": {
      "name": "python3",
      "display_name": "Python 3"
    },
    "language_info": {
      "name": "python"
    }
  },
  "cells": [
    {
      "cell_type": "markdown",
      "metadata": {
        "id": "view-in-github",
        "colab_type": "text"
      },
      "source": [
        "<a href=\"https://colab.research.google.com/github/OneFineStarstuff/OneFineStardust/blob/main/Example_Solving_Differential_Equations_with_SciPy.ipynb\" target=\"_parent\"><img src=\"https://colab.research.google.com/assets/colab-badge.svg\" alt=\"Open In Colab\"/></a>"
      ]
    },
    {
      "cell_type": "code",
      "execution_count": null,
      "metadata": {
        "id": "9otmZ6SQB4AS"
      },
      "outputs": [],
      "source": [
        "from scipy.integrate import solve_ivp\n",
        "import numpy as np\n",
        "import matplotlib.pyplot as plt\n",
        "\n",
        "# Define the differential equation dy/dt = -y\n",
        "def model(t, y):\n",
        "    return -y\n",
        "\n",
        "# Initial condition\n",
        "y0 = [5]\n",
        "\n",
        "# Time span for the solution\n",
        "t_span = (0, 10)\n",
        "\n",
        "# Solve the ODE\n",
        "solution = solve_ivp(model, t_span, y0, t_eval=np.linspace(0, 10, 100))\n",
        "\n",
        "# Plot the results\n",
        "plt.plot(solution.t, solution.y[0])\n",
        "plt.title('Solution of dy/dt = -y')\n",
        "plt.xlabel('Time')\n",
        "plt.ylabel('y(t)')\n",
        "plt.grid(True)\n",
        "plt.show()"
      ]
    }
  ]
}