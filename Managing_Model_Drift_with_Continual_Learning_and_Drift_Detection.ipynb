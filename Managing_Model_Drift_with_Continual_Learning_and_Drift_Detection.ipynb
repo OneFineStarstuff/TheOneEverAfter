{
  "nbformat": 4,
  "nbformat_minor": 0,
  "metadata": {
    "colab": {
      "private_outputs": true,
      "provenance": [],
      "authorship_tag": "ABX9TyOEai2RkPeDI8PyGqjl4M7i",
      "include_colab_link": true
    },
    "kernelspec": {
      "name": "python3",
      "display_name": "Python 3"
    },
    "language_info": {
      "name": "python"
    }
  },
  "cells": [
    {
      "cell_type": "markdown",
      "metadata": {
        "id": "view-in-github",
        "colab_type": "text"
      },
      "source": [
        "<a href=\"https://colab.research.google.com/github/OneFineStarstuff/OneFineStarstuff/blob/main/Managing_Model_Drift_with_Continual_Learning_and_Drift_Detection.ipynb\" target=\"_parent\"><img src=\"https://colab.research.google.com/assets/colab-badge.svg\" alt=\"Open In Colab\"/></a>"
      ]
    },
    {
      "cell_type": "code",
      "execution_count": null,
      "metadata": {
        "id": "CErq0CijDlwG"
      },
      "outputs": [],
      "source": [
        "import pandas as pd\n",
        "from scipy.stats import ks_2samp\n",
        "\n",
        "def drift_detection(new_data, reference_data):\n",
        "    drift_metrics = {}\n",
        "    for feature in reference_data.columns:\n",
        "        ks_stat, p_value = ks_2samp(reference_data[feature], new_data[feature])\n",
        "        drift_metrics[feature] = p_value < 0.05  # Flag drift if p-value is below 0.05\n",
        "    return drift_metrics\n",
        "\n",
        "# Example usage\n",
        "# Create sample data\n",
        "reference_data = pd.DataFrame({\n",
        "    'feature1': [1, 2, 3, 4, 5],\n",
        "    'feature2': [5, 6, 7, 8, 9]\n",
        "})\n",
        "\n",
        "new_data = pd.DataFrame({\n",
        "    'feature1': [1, 2, 2, 3, 4],\n",
        "    'feature2': [5, 5, 6, 7, 7]\n",
        "})\n",
        "\n",
        "# Detect drift\n",
        "drift_metrics = drift_detection(new_data, reference_data)\n",
        "print(drift_metrics)"
      ]
    }
  ]
}