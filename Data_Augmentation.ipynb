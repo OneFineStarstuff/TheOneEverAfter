{
  "nbformat": 4,
  "nbformat_minor": 0,
  "metadata": {
    "colab": {
      "private_outputs": true,
      "provenance": [],
      "authorship_tag": "ABX9TyPclaa6WEQK01LOAjjAoCZx",
      "include_colab_link": true
    },
    "kernelspec": {
      "name": "python3",
      "display_name": "Python 3"
    },
    "language_info": {
      "name": "python"
    }
  },
  "cells": [
    {
      "cell_type": "markdown",
      "metadata": {
        "id": "view-in-github",
        "colab_type": "text"
      },
      "source": [
        "<a href=\"https://colab.research.google.com/github/OneFineStarstuff/OneFineStardust/blob/main/Data_Augmentation.ipynb\" target=\"_parent\"><img src=\"https://colab.research.google.com/assets/colab-badge.svg\" alt=\"Open In Colab\"/></a>"
      ]
    },
    {
      "cell_type": "code",
      "execution_count": null,
      "metadata": {
        "id": "KeKgoT3Q_Whh"
      },
      "outputs": [],
      "source": [
        "import albumentations as A\n",
        "from albumentations.pytorch import ToTensorV2\n",
        "from PIL import Image\n",
        "import numpy as np\n",
        "\n",
        "# Define the augmentation pipeline\n",
        "augmentor = A.Compose([\n",
        "    A.RandomRotate90(),\n",
        "    A.HorizontalFlip(),  # Use HorizontalFlip or VerticalFlip instead of Flip\n",
        "    A.Transpose(),\n",
        "    A.RandomBrightnessContrast(),\n",
        "    ToTensorV2()\n",
        "])\n",
        "\n",
        "def augment_image(image):\n",
        "    augmented = augmentor(image=image)\n",
        "    return augmented['image']\n",
        "\n",
        "# Load image using PIL and convert to NumPy array\n",
        "image_path = 'path/to/your/image.jpg'\n",
        "image = np.array(Image.open(image_path))\n",
        "\n",
        "# Apply augmentation\n",
        "augmented_image = augment_image(image)"
      ]
    }
  ]
}