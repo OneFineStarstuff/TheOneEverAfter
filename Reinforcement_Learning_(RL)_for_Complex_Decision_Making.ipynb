{
  "nbformat": 4,
  "nbformat_minor": 0,
  "metadata": {
    "colab": {
      "private_outputs": true,
      "provenance": [],
      "authorship_tag": "ABX9TyOc8ZZj5e19qR1zsr1v/AkU",
      "include_colab_link": true
    },
    "kernelspec": {
      "name": "python3",
      "display_name": "Python 3"
    },
    "language_info": {
      "name": "python"
    }
  },
  "cells": [
    {
      "cell_type": "markdown",
      "metadata": {
        "id": "view-in-github",
        "colab_type": "text"
      },
      "source": [
        "<a href=\"https://colab.research.google.com/github/OneFineStarstuff/OneFineStarstuff/blob/main/Reinforcement_Learning_(RL)_for_Complex_Decision_Making.ipynb\" target=\"_parent\"><img src=\"https://colab.research.google.com/assets/colab-badge.svg\" alt=\"Open In Colab\"/></a>"
      ]
    },
    {
      "cell_type": "code",
      "execution_count": null,
      "metadata": {
        "id": "VhYXE7Mj1BAH"
      },
      "outputs": [],
      "source": [
        "import gym\n",
        "import torch\n",
        "import torch.nn as nn\n",
        "import torch.optim as optim\n",
        "\n",
        "# Define a policy network\n",
        "class Policy(nn.Module):\n",
        "    def __init__(self):\n",
        "        super(Policy, self).__init__()\n",
        "        self.fc = nn.Sequential(\n",
        "            nn.Linear(4, 128),\n",
        "            nn.ReLU(),\n",
        "            nn.Linear(128, 2),\n",
        "            nn.Softmax(dim=-1)\n",
        "        )\n",
        "\n",
        "    def forward(self, x):\n",
        "        return self.fc(x)\n",
        "\n",
        "# Training function using policy gradient\n",
        "def train(env, policy, optimizer, gamma=0.99, num_episodes=1000):\n",
        "    for episode in range(num_episodes):\n",
        "        state = env.reset()\n",
        "        rewards = []\n",
        "        log_probs = []\n",
        "\n",
        "        # Run an episode\n",
        "        while True:\n",
        "            state = torch.tensor(state, dtype=torch.float32).unsqueeze(0)\n",
        "            probs = policy(state)\n",
        "            action = torch.multinomial(probs, 1).item()\n",
        "            log_prob = torch.log(probs[0, action])\n",
        "\n",
        "            next_state, reward, terminated, truncated, _ = env.step(action)\n",
        "            done = terminated or truncated\n",
        "            rewards.append(reward)\n",
        "            log_probs.append(log_prob)\n",
        "\n",
        "            if done:\n",
        "                break\n",
        "            state = next_state\n",
        "\n",
        "        # Compute discounted rewards\n",
        "        discounted_rewards = []\n",
        "        R = 0\n",
        "        for r in reversed(rewards):\n",
        "            R = r + gamma * R\n",
        "            discounted_rewards.insert(0, R)\n",
        "\n",
        "        # Normalize rewards\n",
        "        discounted_rewards = torch.tensor(discounted_rewards)\n",
        "        discounted_rewards = (discounted_rewards - discounted_rewards.mean()) / (discounted_rewards.std() + 1e-5)\n",
        "\n",
        "        # Compute loss and update policy\n",
        "        loss = -(torch.stack(log_probs) * discounted_rewards).sum()\n",
        "        optimizer.zero_grad()\n",
        "        loss.backward()\n",
        "        optimizer.step()\n",
        "\n",
        "# Initialize environment, policy, and optimizer\n",
        "env = gym.make('CartPole-v1', new_step_api=True)\n",
        "policy = Policy()\n",
        "optimizer = optim.Adam(policy.parameters(), lr=0.01)\n",
        "\n",
        "# Train the agent\n",
        "train(env, policy, optimizer)"
      ]
    }
  ]
}