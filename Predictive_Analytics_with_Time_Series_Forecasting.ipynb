{
  "nbformat": 4,
  "nbformat_minor": 0,
  "metadata": {
    "colab": {
      "private_outputs": true,
      "provenance": [],
      "authorship_tag": "ABX9TyMxn5Gxg0932PyD7tySQK58",
      "include_colab_link": true
    },
    "kernelspec": {
      "name": "python3",
      "display_name": "Python 3"
    },
    "language_info": {
      "name": "python"
    }
  },
  "cells": [
    {
      "cell_type": "markdown",
      "metadata": {
        "id": "view-in-github",
        "colab_type": "text"
      },
      "source": [
        "<a href=\"https://colab.research.google.com/github/OneFineStarstuff/OneFineStardust/blob/main/Predictive_Analytics_with_Time_Series_Forecasting.ipynb\" target=\"_parent\"><img src=\"https://colab.research.google.com/assets/colab-badge.svg\" alt=\"Open In Colab\"/></a>"
      ]
    },
    {
      "cell_type": "code",
      "execution_count": null,
      "metadata": {
        "id": "wX53BDOLYK9X"
      },
      "outputs": [],
      "source": [
        "import pandas as pd\n",
        "import numpy as np\n",
        "import matplotlib.pyplot as plt\n",
        "from statsmodels.tsa.arima.model import ARIMA\n",
        "\n",
        "# Load the dataset\n",
        "data = pd.read_csv('time_series_data.csv', parse_dates=['date'], index_col='date')\n",
        "\n",
        "# Plot the data\n",
        "data.plot()\n",
        "plt.title('Time Series Data')\n",
        "plt.show()\n",
        "\n",
        "# Fit the ARIMA model\n",
        "model = ARIMA(data, order=(5, 1, 0))  # (p,d,q) parameters\n",
        "model_fit = model.fit()\n",
        "\n",
        "# Make predictions\n",
        "forecast = model_fit.forecast(steps=10)\n",
        "print(forecast)\n",
        "\n",
        "# Plot forecasted values\n",
        "plt.plot(data.index, data['value'], label='Historical Data')\n",
        "plt.plot(pd.date_range(start=data.index[-1], periods=11, freq='D')[1:], forecast, label='Forecast', color='red')\n",
        "plt.legend()\n",
        "plt.show()"
      ]
    }
  ]
}