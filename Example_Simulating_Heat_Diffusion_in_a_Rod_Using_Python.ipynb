{
  "nbformat": 4,
  "nbformat_minor": 0,
  "metadata": {
    "colab": {
      "private_outputs": true,
      "provenance": [],
      "authorship_tag": "ABX9TyNTWifBse+sB1dOu0ZOmqH1",
      "include_colab_link": true
    },
    "kernelspec": {
      "name": "python3",
      "display_name": "Python 3"
    },
    "language_info": {
      "name": "python"
    }
  },
  "cells": [
    {
      "cell_type": "markdown",
      "metadata": {
        "id": "view-in-github",
        "colab_type": "text"
      },
      "source": [
        "<a href=\"https://colab.research.google.com/github/OneFineStarstuff/OneFineStarstuff/blob/main/Example_Simulating_Heat_Diffusion_in_a_Rod_Using_Python.ipynb\" target=\"_parent\"><img src=\"https://colab.research.google.com/assets/colab-badge.svg\" alt=\"Open In Colab\"/></a>"
      ]
    },
    {
      "cell_type": "code",
      "execution_count": null,
      "metadata": {
        "id": "6kb5eKqwcwHS"
      },
      "outputs": [],
      "source": [
        "import numpy as np\n",
        "import matplotlib.pyplot as plt\n",
        "\n",
        "# Define parameters\n",
        "length = 1.0  # Length of the rod (m)\n",
        "time_total = 10  # Total time for the simulation (s)\n",
        "alpha = 0.01  # Thermal diffusivity (m^2/s)\n",
        "nx = 50  # Number of spatial points\n",
        "nt = 500  # Number of time points\n",
        "dx = length / (nx - 1)  # Spatial step size\n",
        "dt = time_total / nt  # Time step size\n",
        "T_initial = 100  # Initial temperature of the rod (degrees Celsius)\n",
        "T_ambient = 20  # Ambient temperature (degrees Celsius)\n",
        "\n",
        "# Create arrays for temperature\n",
        "T = np.ones(nx) * T_ambient  # Initialize to ambient temperature\n",
        "T[0] = T_initial  # Initial condition: hot at one end\n",
        "\n",
        "# Function to calculate heat transfer using finite differences\n",
        "def heat_diffusion(T, alpha, dx, dt):\n",
        "    T_new = np.copy(T)\n",
        "    for i in range(1, nx - 1):\n",
        "        T_new[i] = T[i] + alpha * dt / dx**2 * (T[i+1] - 2*T[i] + T[i-1])\n",
        "    return T_new\n",
        "\n",
        "# Time loop to simulate heat diffusion\n",
        "for t in range(nt):\n",
        "    T = heat_diffusion(T, alpha, dx, dt)\n",
        "\n",
        "# Plot the temperature distribution along the rod\n",
        "x = np.linspace(0, length, nx)\n",
        "plt.plot(x, T)\n",
        "plt.title(\"Temperature Distribution Along the Rod\")\n",
        "plt.xlabel(\"Position (m)\")\n",
        "plt.ylabel(\"Temperature (°C)\")\n",
        "plt.grid(True)\n",
        "plt.show()"
      ]
    }
  ]
}