{
  "nbformat": 4,
  "nbformat_minor": 0,
  "metadata": {
    "colab": {
      "private_outputs": true,
      "provenance": [],
      "authorship_tag": "ABX9TyPROHx6Z6fihYpdWIDXbHBo",
      "include_colab_link": true
    },
    "kernelspec": {
      "name": "python3",
      "display_name": "Python 3"
    },
    "language_info": {
      "name": "python"
    }
  },
  "cells": [
    {
      "cell_type": "markdown",
      "metadata": {
        "id": "view-in-github",
        "colab_type": "text"
      },
      "source": [
        "<a href=\"https://colab.research.google.com/github/OneFineStarstuff/OneFineStardust/blob/main/Example_Simple_GUI_with_Tkinter_in_Python.ipynb\" target=\"_parent\"><img src=\"https://colab.research.google.com/assets/colab-badge.svg\" alt=\"Open In Colab\"/></a>"
      ]
    },
    {
      "cell_type": "code",
      "execution_count": null,
      "metadata": {
        "id": "Yink5bxSDypi"
      },
      "outputs": [],
      "source": [
        "import tkinter as tk\n",
        "\n",
        "def greet():\n",
        "    print(\"Hello, World!\")\n",
        "\n",
        "# Create the main window\n",
        "root = tk.Tk()\n",
        "root.title(\"Simple GUI\")\n",
        "\n",
        "# Create a button widget\n",
        "button = tk.Button(root, text=\"Greet\", command=greet)\n",
        "button.pack(pady=20)\n",
        "\n",
        "# Run the application\n",
        "root.mainloop()"
      ]
    }
  ]
}