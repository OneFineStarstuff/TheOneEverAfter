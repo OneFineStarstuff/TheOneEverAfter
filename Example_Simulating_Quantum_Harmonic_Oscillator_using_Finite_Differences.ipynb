{
  "nbformat": 4,
  "nbformat_minor": 0,
  "metadata": {
    "colab": {
      "private_outputs": true,
      "provenance": [],
      "authorship_tag": "ABX9TyMMfdyybM3loInntK6Jl6nF",
      "include_colab_link": true
    },
    "kernelspec": {
      "name": "python3",
      "display_name": "Python 3"
    },
    "language_info": {
      "name": "python"
    }
  },
  "cells": [
    {
      "cell_type": "markdown",
      "metadata": {
        "id": "view-in-github",
        "colab_type": "text"
      },
      "source": [
        "<a href=\"https://colab.research.google.com/github/OneFineStarstuff/OneFineStarstuff/blob/main/Example_Simulating_Quantum_Harmonic_Oscillator_using_Finite_Differences.ipynb\" target=\"_parent\"><img src=\"https://colab.research.google.com/assets/colab-badge.svg\" alt=\"Open In Colab\"/></a>"
      ]
    },
    {
      "cell_type": "code",
      "execution_count": null,
      "metadata": {
        "id": "FqYi2TdSd5C6"
      },
      "outputs": [],
      "source": [
        "import numpy as np\n",
        "import matplotlib.pyplot as plt\n",
        "\n",
        "# Define constants\n",
        "hbar = 1.0  # Reduced Planck's constant\n",
        "m = 1.0  # Mass of the particle\n",
        "omega = 1.0  # Frequency of the oscillator\n",
        "N = 100  # Number of grid points\n",
        "x_max = 5.0  # Maximum position\n",
        "x_min = -5.0  # Minimum position\n",
        "dx = (x_max - x_min) / (N - 1)  # Spatial step\n",
        "\n",
        "# Generate the position grid\n",
        "x = np.linspace(x_min, x_max, N)\n",
        "\n",
        "# Define the potential energy for the harmonic oscillator\n",
        "V = 0.5 * m * omega**2 * x**2\n",
        "\n",
        "# Define the kinetic energy using finite differences\n",
        "T = np.zeros((N, N))\n",
        "for i in range(1, N - 1):\n",
        "    T[i, i - 1] = -hbar**2 / (2 * m * dx**2)\n",
        "    T[i, i + 1] = -hbar**2 / (2 * m * dx**2)\n",
        "    T[i, i] = hbar**2 / (m * dx**2)\n",
        "\n",
        "# Define the Hamiltonian as the sum of kinetic and potential energies\n",
        "H = T + np.diag(V)\n",
        "\n",
        "# Solve for the eigenvalues and eigenvectors\n",
        "eigenvalues, eigenvectors = np.linalg.eigh(H)\n",
        "\n",
        "# Plot the potential and the first three eigenstates\n",
        "plt.plot(x, V, label='Potential')\n",
        "for n in range(3):\n",
        "    plt.plot(x, eigenvalues[n] + eigenvectors[:, n]**2, label=f'Energy Level {n+1}')\n",
        "plt.title(\"Quantum Harmonic Oscillator Energy Levels and Wavefunctions\")\n",
        "plt.xlabel(\"Position\")\n",
        "plt.ylabel(\"Energy\")\n",
        "plt.legend()\n",
        "plt.grid(True)\n",
        "plt.show()"
      ]
    }
  ]
}