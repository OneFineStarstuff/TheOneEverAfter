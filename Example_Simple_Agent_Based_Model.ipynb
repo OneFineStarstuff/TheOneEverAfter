{
  "nbformat": 4,
  "nbformat_minor": 0,
  "metadata": {
    "colab": {
      "private_outputs": true,
      "provenance": [],
      "authorship_tag": "ABX9TyN22PeMR7ZNbpbONDH+xvxc",
      "include_colab_link": true
    },
    "kernelspec": {
      "name": "python3",
      "display_name": "Python 3"
    },
    "language_info": {
      "name": "python"
    }
  },
  "cells": [
    {
      "cell_type": "markdown",
      "metadata": {
        "id": "view-in-github",
        "colab_type": "text"
      },
      "source": [
        "<a href=\"https://colab.research.google.com/github/OneFineStarstuff/OneFineStardust/blob/main/Example_Simple_Agent_Based_Model.ipynb\" target=\"_parent\"><img src=\"https://colab.research.google.com/assets/colab-badge.svg\" alt=\"Open In Colab\"/></a>"
      ]
    },
    {
      "cell_type": "code",
      "execution_count": null,
      "metadata": {
        "id": "hGqWl6dkFN-6"
      },
      "outputs": [],
      "source": [
        "import numpy as np\n",
        "import matplotlib.pyplot as plt\n",
        "\n",
        "class Agent:\n",
        "    def __init__(self):\n",
        "        self.position = np.random.rand(2) * 10  # Random initial position\n",
        "\n",
        "    def move(self):\n",
        "        self.position += (np.random.rand(2) - 0.5)  # Move randomly\n",
        "\n",
        "# Create agents\n",
        "num_agents = 50\n",
        "agents = [Agent() for _ in range(num_agents)]\n",
        "\n",
        "# Simulate movement over time steps\n",
        "positions_over_time = []\n",
        "for _ in range(100):\n",
        "    for agent in agents:\n",
        "        agent.move()\n",
        "    positions_over_time.append([agent.position.copy() for agent in agents])\n",
        "\n",
        "# Plotting the final positions of agents\n",
        "final_positions = np.array(positions_over_time[-1])\n",
        "plt.scatter(final_positions[:, 0], final_positions[:, 1])\n",
        "plt.title('Final Positions of Agents')\n",
        "plt.xlim(0, 10)\n",
        "plt.ylim(0, 10)\n",
        "plt.grid()\n",
        "plt.show()"
      ]
    }
  ]
}