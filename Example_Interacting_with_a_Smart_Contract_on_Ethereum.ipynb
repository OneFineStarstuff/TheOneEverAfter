{
  "nbformat": 4,
  "nbformat_minor": 0,
  "metadata": {
    "colab": {
      "private_outputs": true,
      "provenance": [],
      "authorship_tag": "ABX9TyPKYYN9b1KtWKNqcAZorFL/",
      "include_colab_link": true
    },
    "kernelspec": {
      "name": "python3",
      "display_name": "Python 3"
    },
    "language_info": {
      "name": "python"
    }
  },
  "cells": [
    {
      "cell_type": "markdown",
      "metadata": {
        "id": "view-in-github",
        "colab_type": "text"
      },
      "source": [
        "<a href=\"https://colab.research.google.com/github/OneFineStarstuff/OneFineStarstuff/blob/main/Example_Interacting_with_a_Smart_Contract_on_Ethereum.ipynb\" target=\"_parent\"><img src=\"https://colab.research.google.com/assets/colab-badge.svg\" alt=\"Open In Colab\"/></a>"
      ]
    },
    {
      "cell_type": "code",
      "source": [
        "pip install web3"
      ],
      "metadata": {
        "id": "xWkJNdNI-w_l"
      },
      "execution_count": null,
      "outputs": []
    },
    {
      "cell_type": "code",
      "execution_count": null,
      "metadata": {
        "id": "dm7pxiSl-h0A"
      },
      "outputs": [],
      "source": [
        "from web3 import Web3\n",
        "\n",
        "# Connect to an Ethereum node (e.g., using Infura)\n",
        "w3 = Web3(Web3.HTTPProvider('https://mainnet.infura.io/v3/YOUR_INFURA_PROJECT_ID'))\n",
        "\n",
        "# Check connection\n",
        "if w3.is_connected():\n",
        "    print(\"Connected to Ethereum node\")\n",
        "\n",
        "# Load the contract ABI and address\n",
        "contract_address = '0xYourContractAddress'\n",
        "abi = '[{\"constant\":true,\"inputs\":[],\"name\":\"myFunction\",\"outputs\":[{\"name\":\"\",\"type\":\"string\"}],\"payable\":false,\"stateMutability\":\"view\",\"type\":\"function\"}]'\n",
        "\n",
        "# Interact with the smart contract\n",
        "contract = w3.eth.contract(address=contract_address, abi=abi)\n",
        "result = contract.functions.myFunction().call()\n",
        "print(f\"Smart Contract Output: {result}\")"
      ]
    }
  ]
}