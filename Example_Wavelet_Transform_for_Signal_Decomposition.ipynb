{
  "nbformat": 4,
  "nbformat_minor": 0,
  "metadata": {
    "colab": {
      "private_outputs": true,
      "provenance": [],
      "authorship_tag": "ABX9TyPrVc3WB4CneO0ReShJh6iU",
      "include_colab_link": true
    },
    "kernelspec": {
      "name": "python3",
      "display_name": "Python 3"
    },
    "language_info": {
      "name": "python"
    }
  },
  "cells": [
    {
      "cell_type": "markdown",
      "metadata": {
        "id": "view-in-github",
        "colab_type": "text"
      },
      "source": [
        "<a href=\"https://colab.research.google.com/github/OneFineStarstuff/OneFineStardust/blob/main/Example_Wavelet_Transform_for_Signal_Decomposition.ipynb\" target=\"_parent\"><img src=\"https://colab.research.google.com/assets/colab-badge.svg\" alt=\"Open In Colab\"/></a>"
      ]
    },
    {
      "cell_type": "code",
      "source": [
        "!pip install pywt"
      ],
      "metadata": {
        "id": "Zwj8qFJVg0Py"
      },
      "execution_count": null,
      "outputs": []
    },
    {
      "cell_type": "code",
      "execution_count": null,
      "metadata": {
        "id": "2jISPDu5goWb"
      },
      "outputs": [],
      "source": [
        "import numpy as np\n",
        "import pywt\n",
        "import matplotlib.pyplot as plt\n",
        "\n",
        "# Generate a sample signal with noise\n",
        "t = np.linspace(0, 1, num=1000)\n",
        "signal = np.sin(2 * np.pi * 50 * t) + np.random.normal(scale=0.5, size=t.shape)\n",
        "\n",
        "# Perform Continuous Wavelet Transform (CWT)\n",
        "coeffs, freqs = pywt.cwt(signal, 'cmor', scales=np.arange(1, 128))\n",
        "\n",
        "# Plotting the original signal and its CWT coefficients\n",
        "plt.figure(figsize=(12, 6))\n",
        "plt.subplot(2, 1, 1)\n",
        "plt.plot(t, signal)\n",
        "plt.title('Original Signal')\n",
        "plt.subplot(2, 1, 2)\n",
        "plt.imshow(np.abs(coeffs), aspect='auto', extent=[0, 1, 1, 128], cmap='jet')\n",
        "plt.title('Continuous Wavelet Transform Coefficients')\n",
        "plt.ylabel('Scale')\n",
        "plt.xlabel('Time')\n",
        "plt.colorbar(label='Magnitude')\n",
        "plt.show()"
      ]
    }
  ]
}