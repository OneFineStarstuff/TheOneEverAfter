{
  "nbformat": 4,
  "nbformat_minor": 0,
  "metadata": {
    "colab": {
      "private_outputs": true,
      "provenance": [],
      "authorship_tag": "ABX9TyMceAR4WVF3WAR5yVvLswFX",
      "include_colab_link": true
    },
    "kernelspec": {
      "name": "python3",
      "display_name": "Python 3"
    },
    "language_info": {
      "name": "python"
    }
  },
  "cells": [
    {
      "cell_type": "markdown",
      "metadata": {
        "id": "view-in-github",
        "colab_type": "text"
      },
      "source": [
        "<a href=\"https://colab.research.google.com/github/OneFineStarstuff/OneFineStarstuff/blob/main/Example_Simulating_Supply_and_Demand_Curves.ipynb\" target=\"_parent\"><img src=\"https://colab.research.google.com/assets/colab-badge.svg\" alt=\"Open In Colab\"/></a>"
      ]
    },
    {
      "cell_type": "code",
      "execution_count": null,
      "metadata": {
        "id": "yRUdknW3a_p7"
      },
      "outputs": [],
      "source": [
        "import numpy as np\n",
        "import matplotlib.pyplot as plt\n",
        "\n",
        "# Parameters for supply and demand curves\n",
        "price = np.linspace(0, 100, 200)  # Price range\n",
        "\n",
        "# Supply and demand functions\n",
        "def demand(p):\n",
        "    return 100 - 0.8 * p  # Linear demand curve\n",
        "\n",
        "def supply(p):\n",
        "    return 0.5 * p  # Linear supply curve\n",
        "\n",
        "# Calculate quantities\n",
        "quantity_demanded = demand(price)\n",
        "quantity_supplied = supply(price)\n",
        "\n",
        "# Plot supply and demand curves\n",
        "plt.plot(price, quantity_demanded, label=\"Demand\")\n",
        "plt.plot(price, quantity_supplied, label=\"Supply\")\n",
        "plt.title(\"Supply and Demand Curves\")\n",
        "plt.xlabel(\"Price\")\n",
        "plt.ylabel(\"Quantity\")\n",
        "plt.axvline(x=40, color='gray', linestyle='--', label='Equilibrium Price')\n",
        "plt.axhline(y=20, color='gray', linestyle='--', label='Equilibrium Quantity')\n",
        "plt.legend()\n",
        "plt.grid(True)\n",
        "plt.show()"
      ]
    }
  ]
}