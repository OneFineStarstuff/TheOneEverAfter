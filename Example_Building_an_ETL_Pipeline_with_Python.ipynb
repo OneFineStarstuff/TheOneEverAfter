{
  "nbformat": 4,
  "nbformat_minor": 0,
  "metadata": {
    "colab": {
      "private_outputs": true,
      "provenance": [],
      "authorship_tag": "ABX9TyNMISUCzZzcgHwz3Ch6lrmg",
      "include_colab_link": true
    },
    "kernelspec": {
      "name": "python3",
      "display_name": "Python 3"
    },
    "language_info": {
      "name": "python"
    }
  },
  "cells": [
    {
      "cell_type": "markdown",
      "metadata": {
        "id": "view-in-github",
        "colab_type": "text"
      },
      "source": [
        "<a href=\"https://colab.research.google.com/github/OneFineStarstuff/OneFineStardust/blob/main/Example_Building_an_ETL_Pipeline_with_Python.ipynb\" target=\"_parent\"><img src=\"https://colab.research.google.com/assets/colab-badge.svg\" alt=\"Open In Colab\"/></a>"
      ]
    },
    {
      "cell_type": "code",
      "execution_count": null,
      "metadata": {
        "id": "9u5gcFAiVluk"
      },
      "outputs": [],
      "source": [
        "import pandas as pd\n",
        "\n",
        "# Extract data from a CSV file\n",
        "data = pd.read_csv('data.csv')\n",
        "\n",
        "# Transform data: Clean and preprocess\n",
        "data['column'] = data['column'].fillna(0)  # Fill missing values\n",
        "\n",
        "# Load data into a new CSV file\n",
        "data.to_csv('cleaned_data.csv', index=False)"
      ]
    }
  ]
}