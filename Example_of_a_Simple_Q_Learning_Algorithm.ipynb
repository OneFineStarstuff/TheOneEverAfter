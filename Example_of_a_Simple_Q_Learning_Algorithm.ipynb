{
  "nbformat": 4,
  "nbformat_minor": 0,
  "metadata": {
    "colab": {
      "private_outputs": true,
      "provenance": [],
      "authorship_tag": "ABX9TyP82iIHp9rfTCdxGeGv7SVF",
      "include_colab_link": true
    },
    "kernelspec": {
      "name": "python3",
      "display_name": "Python 3"
    },
    "language_info": {
      "name": "python"
    }
  },
  "cells": [
    {
      "cell_type": "markdown",
      "metadata": {
        "id": "view-in-github",
        "colab_type": "text"
      },
      "source": [
        "<a href=\"https://colab.research.google.com/github/OneFineStarstuff/OneFineStardust/blob/main/Example_of_a_Simple_Q_Learning_Algorithm.ipynb\" target=\"_parent\"><img src=\"https://colab.research.google.com/assets/colab-badge.svg\" alt=\"Open In Colab\"/></a>"
      ]
    },
    {
      "cell_type": "code",
      "execution_count": null,
      "metadata": {
        "id": "KG0NdvEzlX2w"
      },
      "outputs": [],
      "source": [
        "import numpy as np\n",
        "\n",
        "# Initialize parameters\n",
        "num_states = 10\n",
        "num_actions = 2\n",
        "Q = np.zeros((num_states, num_actions))  # Q-table\n",
        "learning_rate = 0.1\n",
        "discount_factor = 0.9\n",
        "\n",
        "# Example of updating Q-values\n",
        "def update_Q(state, action, reward, next_state):\n",
        "    best_next_action = np.argmax(Q[next_state])\n",
        "    td_target = reward + discount_factor * Q[next_state][best_next_action]\n",
        "    Q[state][action] += learning_rate * (td_target - Q[state][action])"
      ]
    }
  ]
}