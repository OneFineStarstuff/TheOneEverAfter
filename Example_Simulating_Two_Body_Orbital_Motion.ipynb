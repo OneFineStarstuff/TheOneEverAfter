{
  "nbformat": 4,
  "nbformat_minor": 0,
  "metadata": {
    "colab": {
      "private_outputs": true,
      "provenance": [],
      "authorship_tag": "ABX9TyMdfXrzSUYYY8w0wMxYoXpm",
      "include_colab_link": true
    },
    "kernelspec": {
      "name": "python3",
      "display_name": "Python 3"
    },
    "language_info": {
      "name": "python"
    }
  },
  "cells": [
    {
      "cell_type": "markdown",
      "metadata": {
        "id": "view-in-github",
        "colab_type": "text"
      },
      "source": [
        "<a href=\"https://colab.research.google.com/github/OneFineStarstuff/OneFineStarstuff/blob/main/Example_Simulating_Two_Body_Orbital_Motion.ipynb\" target=\"_parent\"><img src=\"https://colab.research.google.com/assets/colab-badge.svg\" alt=\"Open In Colab\"/></a>"
      ]
    },
    {
      "cell_type": "code",
      "execution_count": null,
      "metadata": {
        "id": "_ZcXSOM_jGF0"
      },
      "outputs": [],
      "source": [
        "import numpy as np\n",
        "import matplotlib.pyplot as plt\n",
        "from scipy.integrate import solve_ivp\n",
        "\n",
        "# Gravitational constant\n",
        "G = 6.67430e-11  # m^3 kg^-1 s^-2\n",
        "\n",
        "# Mass of the Earth and Sun\n",
        "m1 = 5.972e24  # Mass of the Earth (kg)\n",
        "m2 = 1.989e30  # Mass of the Sun (kg)\n",
        "\n",
        "# Initial position and velocity of the Earth\n",
        "r1 = np.array([1.496e11, 0], dtype=float)  # Initial position of Earth (m)\n",
        "v1 = np.array([0, 29.78e3], dtype=float)  # Initial velocity of Earth (m/s)\n",
        "\n",
        "# Combined state vector [x1, y1, vx1, vy1]\n",
        "state0 = [*r1, *v1]\n",
        "\n",
        "# Function defining the differential equations\n",
        "def orbital_derivatives(t, state):\n",
        "    x1, y1, vx1, vy1 = state\n",
        "    r = np.sqrt(x1**2 + y1**2)\n",
        "    f = G * m1 * m2 / r**2\n",
        "\n",
        "    # Forces on Earth\n",
        "    fx = -f * x1 / r\n",
        "    fy = -f * y1 / r\n",
        "\n",
        "    # Derivatives\n",
        "    dx1dt = vx1\n",
        "    dy1dt = vy1\n",
        "    dvx1dt = fx / m1\n",
        "    dvy1dt = fy / m1\n",
        "\n",
        "    return [dx1dt, dy1dt, dvx1dt, dvy1dt]\n",
        "\n",
        "# Time span\n",
        "t_span = (0, 3.154e7)  # One year in seconds\n",
        "t_eval = np.linspace(0, 3.154e7, 1000)\n",
        "\n",
        "# Solve the system of equations\n",
        "solution = solve_ivp(orbital_derivatives, t_span, state0, t_eval=t_eval)\n",
        "x1, y1 = solution.y[0], solution.y[1]\n",
        "\n",
        "# Plot the orbital path\n",
        "plt.plot(x1, y1, label=\"Earth Orbit\")\n",
        "plt.scatter([0], [0], color=\"orange\", label=\"Sun\")  # Sun at the origin\n",
        "plt.xlabel(\"x (m)\")\n",
        "plt.ylabel(\"y (m)\")\n",
        "plt.title(\"Orbital Motion (Two-Body Simulation)\")\n",
        "plt.legend()\n",
        "plt.grid(True)\n",
        "plt.show()"
      ]
    }
  ]
}