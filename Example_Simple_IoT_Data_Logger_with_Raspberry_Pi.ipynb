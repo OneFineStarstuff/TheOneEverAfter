{
  "nbformat": 4,
  "nbformat_minor": 0,
  "metadata": {
    "colab": {
      "private_outputs": true,
      "provenance": [],
      "authorship_tag": "ABX9TyPtpsAcEtJq8lpO53vE1TYF",
      "include_colab_link": true
    },
    "kernelspec": {
      "name": "python3",
      "display_name": "Python 3"
    },
    "language_info": {
      "name": "python"
    }
  },
  "cells": [
    {
      "cell_type": "markdown",
      "metadata": {
        "id": "view-in-github",
        "colab_type": "text"
      },
      "source": [
        "<a href=\"https://colab.research.google.com/github/OneFineStarstuff/OneFineStardust/blob/main/Example_Simple_IoT_Data_Logger_with_Raspberry_Pi.ipynb\" target=\"_parent\"><img src=\"https://colab.research.google.com/assets/colab-badge.svg\" alt=\"Open In Colab\"/></a>"
      ]
    },
    {
      "cell_type": "code",
      "source": [
        "!pip install Adafruit_DHT"
      ],
      "metadata": {
        "id": "BEI3kM0DmH5A"
      },
      "execution_count": null,
      "outputs": []
    },
    {
      "cell_type": "code",
      "source": [
        "!sudo apt-get update\n",
        "!sudo apt-get install build-essential python-dev python-openssl"
      ],
      "metadata": {
        "id": "5W5vHydCnaTk"
      },
      "execution_count": null,
      "outputs": []
    },
    {
      "cell_type": "code",
      "source": [
        "!sudo apt-get update\n",
        "!sudo apt-get upgrade"
      ],
      "metadata": {
        "id": "u0iuqgPdoFjA"
      },
      "execution_count": null,
      "outputs": []
    },
    {
      "cell_type": "code",
      "source": [
        "!sudo apt-get install -y build-essential python3-dev python3-pip"
      ],
      "metadata": {
        "id": "2NoIbXiPofY6"
      },
      "execution_count": null,
      "outputs": []
    },
    {
      "cell_type": "code",
      "source": [
        "!pip install adafruit-circuitpython-dht\n",
        "!sudo apt-get install libgpiod2"
      ],
      "metadata": {
        "id": "bSKbrZZiosWK"
      },
      "execution_count": null,
      "outputs": []
    },
    {
      "cell_type": "code",
      "execution_count": null,
      "metadata": {
        "id": "QPGrhXwCl7el"
      },
      "outputs": [],
      "source": [
        "import time\n",
        "import board\n",
        "import adafruit_dht\n",
        "\n",
        "# Set the sensor type and GPIO pin\n",
        "dhtDevice = adafruit_dht.DHT11(board.D4)  # Replace with appropriate pin\n",
        "\n",
        "while True:\n",
        "    try:\n",
        "        temperature = dhtDevice.temperature\n",
        "        humidity = dhtDevice.humidity\n",
        "        if humidity is not None and temperature is not None:\n",
        "            print(f'Temperature: {temperature}°C, Humidity: {humidity}%')\n",
        "        else:\n",
        "            print('Failed to retrieve data from sensor')\n",
        "    except RuntimeError as error:\n",
        "        # Errors happen fairly often, DHT's are hard to read, just keep going\n",
        "        print(error.args[0])\n",
        "    time.sleep(10)  # Log every 10 seconds"
      ]
    }
  ]
}