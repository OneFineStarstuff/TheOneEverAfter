{
  "nbformat": 4,
  "nbformat_minor": 0,
  "metadata": {
    "colab": {
      "private_outputs": true,
      "provenance": [],
      "authorship_tag": "ABX9TyN0YQpjgSpTzwFi7HoYGJ++",
      "include_colab_link": true
    },
    "kernelspec": {
      "name": "python3",
      "display_name": "Python 3"
    },
    "language_info": {
      "name": "python"
    }
  },
  "cells": [
    {
      "cell_type": "markdown",
      "metadata": {
        "id": "view-in-github",
        "colab_type": "text"
      },
      "source": [
        "<a href=\"https://colab.research.google.com/github/OneFineStarstuff/OneFineStardust/blob/main/Movie_Recommender_System.ipynb\" target=\"_parent\"><img src=\"https://colab.research.google.com/assets/colab-badge.svg\" alt=\"Open In Colab\"/></a>"
      ]
    },
    {
      "cell_type": "code",
      "execution_count": null,
      "metadata": {
        "id": "89XhzhWCQCAW"
      },
      "outputs": [],
      "source": [
        "import pandas as pd\n",
        "from sklearn.metrics.pairwise import cosine_similarity\n",
        "\n",
        "# Load movie data\n",
        "movies = pd.read_csv('movies.csv')\n",
        "ratings = pd.read_csv('ratings.csv')\n",
        "\n",
        "# Create a pivot table\n",
        "pivot_table = ratings.pivot_table(index='userId', columns='movieId', values='rating')\n",
        "\n",
        "# Calculate cosine similarity\n",
        "similarity_matrix = cosine_similarity(pivot_table.fillna(0))\n",
        "\n",
        "# Function to recommend movies\n",
        "def recommend_movies(movie_id):\n",
        "    similar_scores = list(enumerate(similarity_matrix[movie_id]))\n",
        "    similar_scores = sorted(similar_scores, key=lambda x: x[1], reverse=True)\n",
        "    return [movies.iloc[i[0]] for i in similar_scores[1:6]]\n",
        "\n",
        "recommended_movies = recommend_movies(0)  # Replace 0 with the movie ID you want recommendations for."
      ]
    }
  ]
}