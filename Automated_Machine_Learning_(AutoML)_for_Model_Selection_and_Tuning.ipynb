{
  "nbformat": 4,
  "nbformat_minor": 0,
  "metadata": {
    "colab": {
      "private_outputs": true,
      "provenance": [],
      "authorship_tag": "ABX9TyNoQg8po+QHWhbHTuuBV9op",
      "include_colab_link": true
    },
    "kernelspec": {
      "name": "python3",
      "display_name": "Python 3"
    },
    "language_info": {
      "name": "python"
    }
  },
  "cells": [
    {
      "cell_type": "markdown",
      "metadata": {
        "id": "view-in-github",
        "colab_type": "text"
      },
      "source": [
        "<a href=\"https://colab.research.google.com/github/OneFineStarstuff/OneFineStarstuff/blob/main/Automated_Machine_Learning_(AutoML)_for_Model_Selection_and_Tuning.ipynb\" target=\"_parent\"><img src=\"https://colab.research.google.com/assets/colab-badge.svg\" alt=\"Open In Colab\"/></a>"
      ]
    },
    {
      "cell_type": "code",
      "source": [
        "pip install tpot"
      ],
      "metadata": {
        "id": "byj4t4T1N60M"
      },
      "execution_count": null,
      "outputs": []
    },
    {
      "cell_type": "code",
      "execution_count": null,
      "metadata": {
        "id": "-DwLQj44NrmX"
      },
      "outputs": [],
      "source": [
        "from tpot import TPOTClassifier\n",
        "from sklearn.datasets import load_iris\n",
        "from sklearn.model_selection import train_test_split\n",
        "\n",
        "# Load data and split it\n",
        "data = load_iris()\n",
        "X_train, X_test, y_train, y_test = train_test_split(data.data, data.target, train_size=0.75)\n",
        "\n",
        "# Initialize TPOT classifier\n",
        "tpot = TPOTClassifier(generations=5, population_size=50, verbosity=2)\n",
        "tpot.fit(X_train, y_train)\n",
        "\n",
        "# Score and export the best model\n",
        "print(\"Test Accuracy:\", tpot.score(X_test, y_test))\n",
        "tpot.export(\"best_pipeline.py\")"
      ]
    }
  ]
}