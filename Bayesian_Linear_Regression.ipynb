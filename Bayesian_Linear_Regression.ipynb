{
  "nbformat": 4,
  "nbformat_minor": 0,
  "metadata": {
    "colab": {
      "private_outputs": true,
      "provenance": [],
      "authorship_tag": "ABX9TyMu14g9fpaJhWs29ZYdz6C+",
      "include_colab_link": true
    },
    "kernelspec": {
      "name": "python3",
      "display_name": "Python 3"
    },
    "language_info": {
      "name": "python"
    }
  },
  "cells": [
    {
      "cell_type": "markdown",
      "metadata": {
        "id": "view-in-github",
        "colab_type": "text"
      },
      "source": [
        "<a href=\"https://colab.research.google.com/github/OneFineStarstuff/OneFineStardust/blob/main/Bayesian_Linear_Regression.ipynb\" target=\"_parent\"><img src=\"https://colab.research.google.com/assets/colab-badge.svg\" alt=\"Open In Colab\"/></a>"
      ]
    },
    {
      "cell_type": "code",
      "source": [
        "pip install pymc3"
      ],
      "metadata": {
        "id": "Fj3xxIY9_ZZQ"
      },
      "execution_count": null,
      "outputs": []
    },
    {
      "cell_type": "code",
      "source": [
        "!pip install mkl"
      ],
      "metadata": {
        "id": "jHBJWYlzAQrF"
      },
      "execution_count": null,
      "outputs": []
    },
    {
      "cell_type": "code",
      "source": [
        "!pip install update numpy"
      ],
      "metadata": {
        "id": "TXP57nr0AY-7"
      },
      "execution_count": null,
      "outputs": []
    },
    {
      "cell_type": "code",
      "source": [
        "pip show theano pymc3"
      ],
      "metadata": {
        "id": "2M0aD1e7Baq7"
      },
      "execution_count": null,
      "outputs": []
    },
    {
      "cell_type": "code",
      "source": [
        "pip install --upgrade theano pymc3"
      ],
      "metadata": {
        "id": "E4jovoCHBd2y"
      },
      "execution_count": null,
      "outputs": []
    },
    {
      "cell_type": "code",
      "execution_count": null,
      "metadata": {
        "id": "sBZTOtHG_PNK"
      },
      "outputs": [],
      "source": [
        "import os\n",
        "os.environ['MKL_THREADING_LAYER'] = 'GNU'\n",
        "os.environ[\"THEANO_FLAGS\"] = \"blas__ldflags=\"\n",
        "\n",
        "import numpy as np\n",
        "import matplotlib.pyplot as plt\n",
        "import pymc3 as pm\n",
        "from theano import tensor as tt\n",
        "\n",
        "# Generate synthetic data\n",
        "np.random.seed(0)\n",
        "X = np.random.rand(100, 1) * 10\n",
        "y = 2 * X.squeeze() + 1 + np.random.randn(100) * 2\n",
        "\n",
        "# Bayesian Linear Regression Model\n",
        "with pm.Model() as model:\n",
        "    # Priors for unknown model parameters\n",
        "    alpha = pm.Normal('alpha', mu=0, sigma=10)\n",
        "    beta = pm.Normal('beta', mu=0, sigma=10)\n",
        "    sigma = pm.HalfNormal('sigma', sigma=1)\n",
        "\n",
        "    # Expected value of outcome\n",
        "    mu = alpha + beta * X.squeeze()\n",
        "\n",
        "    # Likelihood (sampling distribution) of observations\n",
        "    Y_obs = pm.Normal('Y_obs', mu=mu, sigma=sigma, observed=y)\n",
        "\n",
        "    # Inference\n",
        "    trace = pm.sample(2000, return_inferencedata=False)\n",
        "\n",
        "# Plotting the results\n",
        "pm.plot_trace(trace)\n",
        "plt.show()"
      ]
    }
  ]
}