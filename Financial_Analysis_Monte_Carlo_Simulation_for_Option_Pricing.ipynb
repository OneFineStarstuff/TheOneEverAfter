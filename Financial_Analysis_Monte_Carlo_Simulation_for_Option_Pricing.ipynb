{
  "nbformat": 4,
  "nbformat_minor": 0,
  "metadata": {
    "colab": {
      "private_outputs": true,
      "provenance": [],
      "authorship_tag": "ABX9TyMmWZYgI5YfshVd/rwMnr15",
      "include_colab_link": true
    },
    "kernelspec": {
      "name": "python3",
      "display_name": "Python 3"
    },
    "language_info": {
      "name": "python"
    }
  },
  "cells": [
    {
      "cell_type": "markdown",
      "metadata": {
        "id": "view-in-github",
        "colab_type": "text"
      },
      "source": [
        "<a href=\"https://colab.research.google.com/github/OneFineStarstuff/OneFineStarstuff/blob/main/Financial_Analysis_Monte_Carlo_Simulation_for_Option_Pricing.ipynb\" target=\"_parent\"><img src=\"https://colab.research.google.com/assets/colab-badge.svg\" alt=\"Open In Colab\"/></a>"
      ]
    },
    {
      "cell_type": "code",
      "execution_count": null,
      "metadata": {
        "id": "VZPtm5lxpSqY"
      },
      "outputs": [],
      "source": [
        "import numpy as np\n",
        "\n",
        "# Parameters\n",
        "S0 = 100         # Initial stock price\n",
        "K = 105          # Strike price\n",
        "T = 1            # Time to maturity (in years)\n",
        "r = 0.05         # Risk-free interest rate\n",
        "sigma = 0.2      # Volatility\n",
        "n_simulations = 10000\n",
        "\n",
        "# Monte Carlo simulation for option price\n",
        "payoffs = []\n",
        "for _ in range(n_simulations):\n",
        "    ST = S0 * np.exp((r - 0.5 * sigma**2) * T + sigma * np.sqrt(T) * np.random.normal())\n",
        "    payoffs.append(max(ST - K, 0))\n",
        "\n",
        "# Calculate option price\n",
        "option_price = np.exp(-r * T) * np.mean(payoffs)\n",
        "print(f\"European Call Option Price: {option_price:.2f}\")"
      ]
    }
  ]
}