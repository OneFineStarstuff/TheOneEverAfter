{
  "nbformat": 4,
  "nbformat_minor": 0,
  "metadata": {
    "colab": {
      "private_outputs": true,
      "provenance": [],
      "authorship_tag": "ABX9TyPElVGqQuzlJwDZTVvEOq2X",
      "include_colab_link": true
    },
    "kernelspec": {
      "name": "python3",
      "display_name": "Python 3"
    },
    "language_info": {
      "name": "python"
    }
  },
  "cells": [
    {
      "cell_type": "markdown",
      "metadata": {
        "id": "view-in-github",
        "colab_type": "text"
      },
      "source": [
        "<a href=\"https://colab.research.google.com/github/OneFineStarstuff/OneFineStardust/blob/main/Example_Convex_Hull_Algorithm_(Graham's_Scan).ipynb\" target=\"_parent\"><img src=\"https://colab.research.google.com/assets/colab-badge.svg\" alt=\"Open In Colab\"/></a>"
      ]
    },
    {
      "cell_type": "code",
      "execution_count": null,
      "metadata": {
        "id": "Cm45zopxi1GK"
      },
      "outputs": [],
      "source": [
        "import numpy as np\n",
        "import matplotlib.pyplot as plt\n",
        "\n",
        "def convex_hull(points):\n",
        "    points = sorted(points, key=lambda p: (p[0], p[1]))\n",
        "\n",
        "    def cross(o, a, b):\n",
        "        return (a[0] - o[0]) * (b[1] - o[1]) - (a[1] - o[1]) * (b[0] - o[0])\n",
        "\n",
        "    lower_hull = []\n",
        "    for p in points:\n",
        "        while len(lower_hull) >= 2 and cross(lower_hull[-2], lower_hull[-1], p) <= 0:\n",
        "            lower_hull.pop()\n",
        "        lower_hull.append(p)\n",
        "\n",
        "    upper_hull = []\n",
        "    for p in reversed(points):\n",
        "        while len(upper_hull) >= 2 and cross(upper_hull[-2], upper_hull[-1], p) <= 0:\n",
        "            upper_hull.pop()\n",
        "        upper_hull.append(p)\n",
        "\n",
        "    return lower_hull[:-1] + upper_hull[:-1]\n",
        "\n",
        "# Generate random points for testing the convex hull algorithm\n",
        "np.random.seed(42)\n",
        "points = np.random.rand(30, 2)\n",
        "\n",
        "# Calculate the convex hull points\n",
        "hull_points = convex_hull(points)\n",
        "\n",
        "# Plotting the results\n",
        "plt.scatter(points[:, 0], points[:, 1], label='Points')\n",
        "hull_x, hull_y = zip(*hull_points)\n",
        "plt.plot(hull_x + (hull_x[0],), hull_y + (hull_y[0],), 'r-', label='Convex Hull')\n",
        "plt.title('Convex Hull using Graham\\'s Scan')\n",
        "plt.xlabel('X-axis')\n",
        "plt.ylabel('Y-axis')\n",
        "plt.legend()\n",
        "plt.grid()\n",
        "plt.show()"
      ]
    }
  ]
}