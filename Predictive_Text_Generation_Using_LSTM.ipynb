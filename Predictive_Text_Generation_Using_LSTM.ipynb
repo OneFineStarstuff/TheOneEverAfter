{
  "nbformat": 4,
  "nbformat_minor": 0,
  "metadata": {
    "colab": {
      "private_outputs": true,
      "provenance": [],
      "authorship_tag": "ABX9TyMiv0LyavDb8YWW7HrOBRv0",
      "include_colab_link": true
    },
    "kernelspec": {
      "name": "python3",
      "display_name": "Python 3"
    },
    "language_info": {
      "name": "python"
    }
  },
  "cells": [
    {
      "cell_type": "markdown",
      "metadata": {
        "id": "view-in-github",
        "colab_type": "text"
      },
      "source": [
        "<a href=\"https://colab.research.google.com/github/OneFineStarstuff/OneFineStardust/blob/main/Predictive_Text_Generation_Using_LSTM.ipynb\" target=\"_parent\"><img src=\"https://colab.research.google.com/assets/colab-badge.svg\" alt=\"Open In Colab\"/></a>"
      ]
    },
    {
      "cell_type": "code",
      "execution_count": null,
      "metadata": {
        "id": "EI0V0ScQ8Mrc"
      },
      "outputs": [],
      "source": [
        "import numpy as np\n",
        "from tensorflow.keras.models import Sequential\n",
        "from tensorflow.keras.layers import LSTM, Dense, Embedding\n",
        "from tensorflow.keras.preprocessing.text import Tokenizer\n",
        "from tensorflow.keras.preprocessing.sequence import pad_sequences\n",
        "from tensorflow.keras.utils import to_categorical\n",
        "\n",
        "# Prepare your dataset (text corpus)\n",
        "text_corpus = \"Your text corpus goes here. This is an example text corpus for generating sequences.\"\n",
        "\n",
        "# Tokenization and sequence generation\n",
        "tokenizer = Tokenizer()\n",
        "tokenizer.fit_on_texts([text_corpus])\n",
        "sequences = tokenizer.texts_to_sequences([text_corpus])[0]\n",
        "vocab_size = len(tokenizer.word_index) + 1\n",
        "\n",
        "# Debugging print statements\n",
        "print(\"Text Corpus:\", text_corpus)\n",
        "print(\"Sequences:\", sequences)\n",
        "print(\"Vocabulary Size:\", vocab_size)\n",
        "\n",
        "# Prepare input and output sequences\n",
        "sequence_length = 5  # Example sequence length\n",
        "X, y = [], []\n",
        "\n",
        "for i in range(sequence_length, len(sequences)):\n",
        "    X.append(sequences[i-sequence_length:i])\n",
        "    y.append(sequences[i])\n",
        "\n",
        "X = np.array(X)\n",
        "y = np.array(y)\n",
        "\n",
        "# Debugging print statements\n",
        "print(\"Shape of X:\", X.shape)  # Ensure X has the correct shape\n",
        "print(\"Shape of y:\", y.shape)  # Ensure y has the correct shape\n",
        "\n",
        "# One-hot encode the output labels\n",
        "y = to_categorical(y, num_classes=vocab_size)\n",
        "\n",
        "# Define model parameters\n",
        "embedding_dim = 50  # Example embedding dimension\n",
        "\n",
        "# Build the model\n",
        "model = Sequential()\n",
        "model.add(Embedding(input_dim=vocab_size, output_dim=embedding_dim, input_length=sequence_length))\n",
        "model.add(LSTM(units=128))\n",
        "model.add(Dense(vocab_size, activation='softmax'))\n",
        "\n",
        "model.compile(loss='categorical_crossentropy', optimizer='adam')\n",
        "\n",
        "# Train your model with sequences generated from the text corpus\n",
        "model.fit(X, y, epochs=10, batch_size=8)  # Set batch_size smaller than dataset size\n",
        "\n",
        "# Use the trained model for generating text predictions later on"
      ]
    }
  ]
}