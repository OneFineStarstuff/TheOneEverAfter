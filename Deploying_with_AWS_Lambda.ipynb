{
  "nbformat": 4,
  "nbformat_minor": 0,
  "metadata": {
    "colab": {
      "private_outputs": true,
      "provenance": [],
      "authorship_tag": "ABX9TyPhCo4UNoB++Qk/cPrf4oFk",
      "include_colab_link": true
    },
    "kernelspec": {
      "name": "python3",
      "display_name": "Python 3"
    },
    "language_info": {
      "name": "python"
    }
  },
  "cells": [
    {
      "cell_type": "markdown",
      "metadata": {
        "id": "view-in-github",
        "colab_type": "text"
      },
      "source": [
        "<a href=\"https://colab.research.google.com/github/OneFineStarstuff/OneFineStarstuff/blob/main/Deploying_with_AWS_Lambda.ipynb\" target=\"_parent\"><img src=\"https://colab.research.google.com/assets/colab-badge.svg\" alt=\"Open In Colab\"/></a>"
      ]
    },
    {
      "cell_type": "code",
      "execution_count": null,
      "metadata": {
        "id": "3zbBENNWlKzN"
      },
      "outputs": [],
      "source": [
        "pip install boto3"
      ]
    },
    {
      "cell_type": "code",
      "source": [
        "import boto3\n",
        "import json\n",
        "import os\n",
        "\n",
        "# Set AWS credentials (replace with your actual credentials)\n",
        "os.environ['AWS_ACCESS_KEY_ID'] = 'your_access_key_id'\n",
        "os.environ['AWS_SECRET_ACCESS_KEY'] = 'your_secret_access_key'\n",
        "\n",
        "# Define payload for Lambda function\n",
        "payload = {\n",
        "    \"key1\": \"value1\",\n",
        "    \"key2\": \"value2\",\n",
        "    \"key3\": \"value3\"\n",
        "}\n",
        "\n",
        "# Initialize a session using Amazon S3\n",
        "lambda_client = boto3.client('lambda', region_name='us-west-2')  # replace with your region\n",
        "\n",
        "# Invoke AWS Lambda function\n",
        "response = lambda_client.invoke(\n",
        "    FunctionName='YourLambdaFunction',  # replace with your Lambda function name\n",
        "    InvocationType='RequestResponse',\n",
        "    Payload=json.dumps(payload),\n",
        ")\n",
        "\n",
        "# Read and print the response\n",
        "response_payload = response['Payload'].read()\n",
        "print(response_payload.decode('utf-8'))"
      ],
      "metadata": {
        "id": "kzKHuKiJlVgt"
      },
      "execution_count": null,
      "outputs": []
    }
  ]
}