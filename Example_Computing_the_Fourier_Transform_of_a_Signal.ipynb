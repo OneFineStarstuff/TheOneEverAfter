{
  "nbformat": 4,
  "nbformat_minor": 0,
  "metadata": {
    "colab": {
      "private_outputs": true,
      "provenance": [],
      "authorship_tag": "ABX9TyNi46p2HHbylK2C2py++HPy",
      "include_colab_link": true
    },
    "kernelspec": {
      "name": "python3",
      "display_name": "Python 3"
    },
    "language_info": {
      "name": "python"
    }
  },
  "cells": [
    {
      "cell_type": "markdown",
      "metadata": {
        "id": "view-in-github",
        "colab_type": "text"
      },
      "source": [
        "<a href=\"https://colab.research.google.com/github/OneFineStarstuff/OneFineStarstuff/blob/main/Example_Computing_the_Fourier_Transform_of_a_Signal.ipynb\" target=\"_parent\"><img src=\"https://colab.research.google.com/assets/colab-badge.svg\" alt=\"Open In Colab\"/></a>"
      ]
    },
    {
      "cell_type": "code",
      "execution_count": null,
      "metadata": {
        "id": "1evmRagaHazk"
      },
      "outputs": [],
      "source": [
        "import numpy as np\n",
        "import matplotlib.pyplot as plt\n",
        "\n",
        "# Generate a time-domain signal (a sum of sine waves)\n",
        "sampling_rate = 1000  # Samples per second\n",
        "t = np.linspace(0, 1, sampling_rate)\n",
        "freq1, freq2 = 50, 120  # Frequencies of the sine waves\n",
        "signal = np.sin(2 * np.pi * freq1 * t) + np.sin(2 * np.pi * freq2 * t)\n",
        "\n",
        "# Perform Fourier Transform\n",
        "signal_fft = np.fft.fft(signal)\n",
        "frequencies = np.fft.fftfreq(len(signal), 1 / sampling_rate)\n",
        "\n",
        "# Plot the magnitude of the Fourier Transform\n",
        "plt.plot(frequencies[:len(frequencies)//2], np.abs(signal_fft[:len(signal)//2]))\n",
        "plt.title(\"Frequency Spectrum of the Signal\")\n",
        "plt.xlabel(\"Frequency (Hz)\")\n",
        "plt.ylabel(\"Amplitude\")\n",
        "plt.grid(True)\n",
        "plt.show()"
      ]
    }
  ]
}