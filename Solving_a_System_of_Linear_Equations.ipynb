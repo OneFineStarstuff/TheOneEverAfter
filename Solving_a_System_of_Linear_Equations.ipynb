{
  "nbformat": 4,
  "nbformat_minor": 0,
  "metadata": {
    "colab": {
      "private_outputs": true,
      "provenance": [],
      "authorship_tag": "ABX9TyNO0SYoiPR+hP9G5Hixuixu",
      "include_colab_link": true
    },
    "kernelspec": {
      "name": "python3",
      "display_name": "Python 3"
    },
    "language_info": {
      "name": "python"
    }
  },
  "cells": [
    {
      "cell_type": "markdown",
      "metadata": {
        "id": "view-in-github",
        "colab_type": "text"
      },
      "source": [
        "<a href=\"https://colab.research.google.com/github/OneFineStarstuff/OneFineStardust/blob/main/Solving_a_System_of_Linear_Equations.ipynb\" target=\"_parent\"><img src=\"https://colab.research.google.com/assets/colab-badge.svg\" alt=\"Open In Colab\"/></a>"
      ]
    },
    {
      "cell_type": "code",
      "execution_count": null,
      "metadata": {
        "id": "pN3oINDtyWBv"
      },
      "outputs": [],
      "source": [
        "import numpy as np\n",
        "\n",
        "# Coefficient matrix\n",
        "A = np.array([[3, 2], [1, 2]])\n",
        "\n",
        "# Constants\n",
        "B = np.array([5, 4])\n",
        "\n",
        "# Solving the system of equations\n",
        "solution = np.linalg.solve(A, B)\n",
        "\n",
        "print(\"Solution:\", solution)"
      ]
    }
  ]
}