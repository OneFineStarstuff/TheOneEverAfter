{
  "nbformat": 4,
  "nbformat_minor": 0,
  "metadata": {
    "colab": {
      "private_outputs": true,
      "provenance": [],
      "authorship_tag": "ABX9TyPrAo94ZkcohX45zlqICEcA",
      "include_colab_link": true
    },
    "kernelspec": {
      "name": "python3",
      "display_name": "Python 3"
    },
    "language_info": {
      "name": "python"
    }
  },
  "cells": [
    {
      "cell_type": "markdown",
      "metadata": {
        "id": "view-in-github",
        "colab_type": "text"
      },
      "source": [
        "<a href=\"https://colab.research.google.com/github/OneFineStarstuff/OneFineStarstuff/blob/main/Example_Implementing_Apriori_Algorithm_for_Market_Basket_Analysis.ipynb\" target=\"_parent\"><img src=\"https://colab.research.google.com/assets/colab-badge.svg\" alt=\"Open In Colab\"/></a>"
      ]
    },
    {
      "cell_type": "code",
      "source": [
        "pip install --upgrade mlxtend"
      ],
      "metadata": {
        "id": "5KzxYWWtD5ML"
      },
      "execution_count": null,
      "outputs": []
    },
    {
      "cell_type": "code",
      "source": [
        "import mlxtend\n",
        "print(mlxtend.__version__)"
      ],
      "metadata": {
        "id": "ex3ImbrjFGuS"
      },
      "execution_count": null,
      "outputs": []
    },
    {
      "cell_type": "code",
      "execution_count": null,
      "metadata": {
        "id": "7QgbexWrDFas"
      },
      "outputs": [],
      "source": [
        "from mlxtend.frequent_patterns import apriori\n",
        "import pandas as pd\n",
        "\n",
        "# Load transaction data\n",
        "data = {'milk': [1, 0, 1, 1, 0], 'bread': [1, 1, 0, 1, 0], 'butter': [0, 1, 1, 0, 1], 'eggs': [1, 1, 1, 0, 0]}\n",
        "df = pd.DataFrame(data)\n",
        "\n",
        "# Convert the dataframe to boolean type\n",
        "df = df.astype(bool)\n",
        "\n",
        "# Apply the Apriori algorithm to find frequent itemsets\n",
        "frequent_itemsets = apriori(df, min_support=0.5, use_colnames=True)\n",
        "\n",
        "# Manually calculate the necessary information for association rules\n",
        "def calculate_association_rules(frequent_itemsets, min_confidence):\n",
        "    rules = []\n",
        "    for idx, row in frequent_itemsets.iterrows():\n",
        "        antecedent_support = row['support']\n",
        "        for consequent_idx, consequent_row in frequent_itemsets.iterrows():\n",
        "            if row['itemsets'] != consequent_row['itemsets']:\n",
        "                support = min(antecedent_support, consequent_row['support'])\n",
        "                confidence = support / antecedent_support\n",
        "                if confidence >= min_confidence:\n",
        "                    rules.append({\n",
        "                        'antecedent': row['itemsets'],\n",
        "                        'consequent': consequent_row['itemsets'],\n",
        "                        'support': support,\n",
        "                        'confidence': confidence\n",
        "                    })\n",
        "    return pd.DataFrame(rules)\n",
        "\n",
        "# Generate association rules with a lower confidence threshold\n",
        "rules = calculate_association_rules(frequent_itemsets, min_confidence=0.5)\n",
        "\n",
        "# Print the rules\n",
        "print(rules)"
      ]
    }
  ]
}