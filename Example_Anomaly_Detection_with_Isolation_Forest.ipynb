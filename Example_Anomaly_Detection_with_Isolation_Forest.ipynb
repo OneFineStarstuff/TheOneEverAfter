{
  "nbformat": 4,
  "nbformat_minor": 0,
  "metadata": {
    "colab": {
      "private_outputs": true,
      "provenance": [],
      "authorship_tag": "ABX9TyPnKMoi8kB3QtZOfI4FK7IU",
      "include_colab_link": true
    },
    "kernelspec": {
      "name": "python3",
      "display_name": "Python 3"
    },
    "language_info": {
      "name": "python"
    }
  },
  "cells": [
    {
      "cell_type": "markdown",
      "metadata": {
        "id": "view-in-github",
        "colab_type": "text"
      },
      "source": [
        "<a href=\"https://colab.research.google.com/github/OneFineStarstuff/OneFineStardust/blob/main/Example_Anomaly_Detection_with_Isolation_Forest.ipynb\" target=\"_parent\"><img src=\"https://colab.research.google.com/assets/colab-badge.svg\" alt=\"Open In Colab\"/></a>"
      ]
    },
    {
      "cell_type": "code",
      "execution_count": null,
      "metadata": {
        "id": "l14VZPEdfJtZ"
      },
      "outputs": [],
      "source": [
        "import numpy as np\n",
        "import pandas as pd\n",
        "from sklearn.ensemble import IsolationForest\n",
        "\n",
        "# Simulated data: normal and anomalous points\n",
        "data = np.random.normal(loc=0, scale=1, size=(100, 2))\n",
        "anomalies = np.random.uniform(low=-4, high=4, size=(10, 2))\n",
        "data_with_anomalies = np.vstack([data, anomalies])\n",
        "\n",
        "# Create a DataFrame\n",
        "df = pd.DataFrame(data_with_anomalies, columns=['Feature1', 'Feature2'])\n",
        "\n",
        "# Fit Isolation Forest model\n",
        "model = IsolationForest(contamination=0.1)\n",
        "df['Anomaly'] = model.fit_predict(df[['Feature1', 'Feature2']])\n",
        "\n",
        "# Plotting the results\n",
        "import matplotlib.pyplot as plt\n",
        "\n",
        "plt.scatter(df['Feature1'], df['Feature2'], c=df['Anomaly'], cmap='coolwarm')\n",
        "plt.title('Anomaly Detection using Isolation Forest')\n",
        "plt.xlabel('Feature 1')\n",
        "plt.ylabel('Feature 2')\n",
        "plt.grid(True)\n",
        "plt.show()"
      ]
    }
  ]
}