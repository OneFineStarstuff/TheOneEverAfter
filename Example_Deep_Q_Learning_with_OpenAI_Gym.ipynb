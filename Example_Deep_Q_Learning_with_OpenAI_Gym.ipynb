{
  "nbformat": 4,
  "nbformat_minor": 0,
  "metadata": {
    "colab": {
      "private_outputs": true,
      "provenance": [],
      "authorship_tag": "ABX9TyPEWXh/A4Ccv6LPo35Gsoa+",
      "include_colab_link": true
    },
    "kernelspec": {
      "name": "python3",
      "display_name": "Python 3"
    },
    "language_info": {
      "name": "python"
    }
  },
  "cells": [
    {
      "cell_type": "markdown",
      "metadata": {
        "id": "view-in-github",
        "colab_type": "text"
      },
      "source": [
        "<a href=\"https://colab.research.google.com/github/OneFineStarstuff/OneFineStardust/blob/main/Example_Deep_Q_Learning_with_OpenAI_Gym.ipynb\" target=\"_parent\"><img src=\"https://colab.research.google.com/assets/colab-badge.svg\" alt=\"Open In Colab\"/></a>"
      ]
    },
    {
      "cell_type": "code",
      "execution_count": null,
      "metadata": {
        "id": "jcjatVdPwveF"
      },
      "outputs": [],
      "source": [
        "import numpy as np\n",
        "import gym\n",
        "import random\n",
        "from collections import deque\n",
        "\n",
        "def discretize_state(state, bins):\n",
        "    \"\"\"Discretizes the continuous state into a tuple of integers.\"\"\"\n",
        "    discretized_state = []\n",
        "    for i, value in enumerate(state):\n",
        "        discretized_state.append(np.digitize(value, bins[i]) - 1)\n",
        "    return tuple(discretized_state)\n",
        "\n",
        "# Create the environment\n",
        "env = gym.make('CartPole-v1')\n",
        "\n",
        "# Hyperparameters\n",
        "episodes = 1000\n",
        "gamma = 0.99  # Discount factor\n",
        "epsilon = 1.0  # Exploration rate\n",
        "epsilon_min = 0.01\n",
        "epsilon_decay = 0.995\n",
        "learning_rate = 0.001\n",
        "bins = [np.linspace(-4.8, 4.8, 10),\n",
        "        np.linspace(-4, 4, 10),\n",
        "        np.linspace(-.418, .418, 10),\n",
        "        np.linspace(-4, 4, 10)]\n",
        "\n",
        "# Initialize the Q-table with bins\n",
        "state_size = [10, 10, 10, 10]  # Number of bins for each state dimension\n",
        "action_size = env.action_space.n\n",
        "q_table = np.zeros(state_size + [action_size])\n",
        "\n",
        "# Training the agent\n",
        "for episode in range(episodes):\n",
        "    state = discretize_state(env.reset(), bins)\n",
        "    done = False\n",
        "\n",
        "    while not done:\n",
        "        if np.random.rand() <= epsilon:\n",
        "            action = env.action_space.sample()  # Explore\n",
        "        else:\n",
        "            action = np.argmax(q_table[state])  # Exploit\n",
        "\n",
        "        next_state, reward, done, _ = env.step(action)\n",
        "        next_state = discretize_state(next_state, bins)\n",
        "\n",
        "        # Update Q-value using Bellman equation\n",
        "        q_table[state][action] += learning_rate * (reward + gamma * np.max(q_table[next_state]) - q_table[state][action])\n",
        "\n",
        "        state = next_state\n",
        "\n",
        "    if epsilon > epsilon_min:\n",
        "        epsilon *= epsilon_decay\n",
        "\n",
        "env.close()"
      ]
    }
  ]
}