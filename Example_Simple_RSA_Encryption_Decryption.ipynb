{
  "nbformat": 4,
  "nbformat_minor": 0,
  "metadata": {
    "colab": {
      "private_outputs": true,
      "provenance": [],
      "authorship_tag": "ABX9TyMYyBrFhyfwJCyUFWBISRWJ",
      "include_colab_link": true
    },
    "kernelspec": {
      "name": "python3",
      "display_name": "Python 3"
    },
    "language_info": {
      "name": "python"
    }
  },
  "cells": [
    {
      "cell_type": "markdown",
      "metadata": {
        "id": "view-in-github",
        "colab_type": "text"
      },
      "source": [
        "<a href=\"https://colab.research.google.com/github/OneFineStarstuff/OneFineStarstuff/blob/main/Example_Simple_RSA_Encryption_Decryption.ipynb\" target=\"_parent\"><img src=\"https://colab.research.google.com/assets/colab-badge.svg\" alt=\"Open In Colab\"/></a>"
      ]
    },
    {
      "cell_type": "code",
      "execution_count": null,
      "metadata": {
        "id": "ZqsIrwbsWeDt"
      },
      "outputs": [],
      "source": [
        "import numpy as np\n",
        "\n",
        "# Function to compute the greatest common divisor\n",
        "def gcd(a, b):\n",
        "    while b != 0:\n",
        "        a, b = b, a % b\n",
        "    return a\n",
        "\n",
        "# Function to compute the modular inverse\n",
        "def mod_inverse(e, phi):\n",
        "    for d in range(1, phi):\n",
        "        if (e * d) % phi == 1:\n",
        "            return d\n",
        "    return None\n",
        "\n",
        "# Function to generate RSA keys\n",
        "def generate_rsa_keys(p, q):\n",
        "    n = p * q\n",
        "    phi = (p - 1) * (q - 1)\n",
        "\n",
        "    # Choose e such that 1 < e < phi and gcd(e, phi) = 1\n",
        "    e = 2\n",
        "    while gcd(e, phi) != 1:\n",
        "        e += 1\n",
        "\n",
        "    # Compute the modular inverse of e\n",
        "    d = mod_inverse(e, phi)\n",
        "\n",
        "    # Public and private keys\n",
        "    public_key = (e, n)\n",
        "    private_key = (d, n)\n",
        "    return public_key, private_key\n",
        "\n",
        "# Function to encrypt a message\n",
        "def encrypt(message, public_key):\n",
        "    e, n = public_key\n",
        "    return [pow(ord(char), e, n) for char in message]\n",
        "\n",
        "# Function to decrypt a message\n",
        "def decrypt(ciphertext, private_key):\n",
        "    d, n = private_key\n",
        "    return ''.join([chr(pow(char, d, n)) for char in ciphertext])\n",
        "\n",
        "# Example usage\n",
        "p, q = 61, 53  # Two prime numbers\n",
        "public_key, private_key = generate_rsa_keys(p, q)\n",
        "\n",
        "message = \"HELLO\"\n",
        "ciphertext = encrypt(message, public_key)\n",
        "decrypted_message = decrypt(ciphertext, private_key)\n",
        "\n",
        "print(\"Original message:\", message)\n",
        "print(\"Encrypted message:\", ciphertext)\n",
        "print(\"Decrypted message:\", decrypted_message)"
      ]
    }
  ]
}