{
  "nbformat": 4,
  "nbformat_minor": 0,
  "metadata": {
    "colab": {
      "private_outputs": true,
      "provenance": [],
      "authorship_tag": "ABX9TyM2lN+h8ZGVf6jA6bF8Zbd+",
      "include_colab_link": true
    },
    "kernelspec": {
      "name": "python3",
      "display_name": "Python 3"
    },
    "language_info": {
      "name": "python"
    }
  },
  "cells": [
    {
      "cell_type": "markdown",
      "metadata": {
        "id": "view-in-github",
        "colab_type": "text"
      },
      "source": [
        "<a href=\"https://colab.research.google.com/github/OneFineStarstuff/OneFineStarstuff/blob/main/Example_Simulating_Carbon_Emissions_Over_Time.ipynb\" target=\"_parent\"><img src=\"https://colab.research.google.com/assets/colab-badge.svg\" alt=\"Open In Colab\"/></a>"
      ]
    },
    {
      "cell_type": "code",
      "execution_count": null,
      "metadata": {
        "id": "KmLovMt1Q6w5"
      },
      "outputs": [],
      "source": [
        "import numpy as np\n",
        "import matplotlib.pyplot as plt\n",
        "\n",
        "# Time array (years)\n",
        "t = np.linspace(0, 100, 1000)\n",
        "\n",
        "# Define carbon emission model (exponential growth and a decrease phase)\n",
        "def carbon_emission(t):\n",
        "    if t <= 50:\n",
        "        return 10 * np.exp(0.03 * t)  # Exponential growth phase\n",
        "    else:\n",
        "        return 10 * np.exp(0.03 * 50) * np.exp(-0.02 * (t - 50))  # Decrease phase\n",
        "\n",
        "# Calculate emissions over time\n",
        "emissions = [carbon_emission(year) for year in t]\n",
        "\n",
        "# Plot carbon emissions\n",
        "plt.plot(t, emissions)\n",
        "plt.title(\"Simulated Carbon Emissions Over Time\")\n",
        "plt.xlabel(\"Time (years)\")\n",
        "plt.ylabel(\"Emissions (units)\")\n",
        "plt.grid(True)\n",
        "plt.show()"
      ]
    }
  ]
}