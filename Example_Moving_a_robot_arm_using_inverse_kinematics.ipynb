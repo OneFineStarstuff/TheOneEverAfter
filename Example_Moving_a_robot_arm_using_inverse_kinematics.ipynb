{
  "nbformat": 4,
  "nbformat_minor": 0,
  "metadata": {
    "colab": {
      "private_outputs": true,
      "provenance": [],
      "authorship_tag": "ABX9TyPVIMdwZg+AH2RO0XR2C/Dl",
      "include_colab_link": true
    },
    "kernelspec": {
      "name": "python3",
      "display_name": "Python 3"
    },
    "language_info": {
      "name": "python"
    }
  },
  "cells": [
    {
      "cell_type": "markdown",
      "metadata": {
        "id": "view-in-github",
        "colab_type": "text"
      },
      "source": [
        "<a href=\"https://colab.research.google.com/github/OneFineStarstuff/OneFineStarstuff/blob/main/Example_Moving_a_robot_arm_using_inverse_kinematics.ipynb\" target=\"_parent\"><img src=\"https://colab.research.google.com/assets/colab-badge.svg\" alt=\"Open In Colab\"/></a>"
      ]
    },
    {
      "cell_type": "code",
      "execution_count": null,
      "metadata": {
        "id": "O9x1CdpCX8tm"
      },
      "outputs": [],
      "source": [
        "import numpy as np\n",
        "from math import cos, sin, atan2\n",
        "\n",
        "# Define robot arm lengths (link1, link2)\n",
        "link1 = 1.0\n",
        "link2 = 1.0\n",
        "\n",
        "# Target position (x, y)\n",
        "target_x = 1.5\n",
        "target_y = 1.0\n",
        "\n",
        "# Inverse kinematics: calculate joint angles\n",
        "d = (target_x**2 + target_y**2 - link1**2 - link2**2) / (2 * link1 * link2)\n",
        "theta2 = atan2(np.sqrt(1 - d**2), d)\n",
        "theta1 = atan2(target_y, target_x) - atan2(link2 * sin(theta2), link1 + link2 * cos(theta2))\n",
        "\n",
        "print(f'Joint angles: Theta1 = {np.degrees(theta1)}°, Theta2 = {np.degrees(theta2)}°')"
      ]
    }
  ]
}