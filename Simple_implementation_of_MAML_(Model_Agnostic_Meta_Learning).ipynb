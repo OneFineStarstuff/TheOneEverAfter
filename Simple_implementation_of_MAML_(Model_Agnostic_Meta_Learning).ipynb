{
  "nbformat": 4,
  "nbformat_minor": 0,
  "metadata": {
    "colab": {
      "private_outputs": true,
      "provenance": [],
      "authorship_tag": "ABX9TyOm9bJWnbICUCAtwkd42kwF",
      "include_colab_link": true
    },
    "kernelspec": {
      "name": "python3",
      "display_name": "Python 3"
    },
    "language_info": {
      "name": "python"
    }
  },
  "cells": [
    {
      "cell_type": "markdown",
      "metadata": {
        "id": "view-in-github",
        "colab_type": "text"
      },
      "source": [
        "<a href=\"https://colab.research.google.com/github/OneFineStarstuff/OneFineStarstuff/blob/main/Simple_implementation_of_MAML_(Model_Agnostic_Meta_Learning).ipynb\" target=\"_parent\"><img src=\"https://colab.research.google.com/assets/colab-badge.svg\" alt=\"Open In Colab\"/></a>"
      ]
    },
    {
      "cell_type": "code",
      "execution_count": null,
      "metadata": {
        "id": "1IVrSNHCBGr-"
      },
      "outputs": [],
      "source": [
        "import torch\n",
        "import torch.nn as nn\n",
        "import torch.optim as optim\n",
        "\n",
        "# Define a simple neural network\n",
        "class SimpleNet(nn.Module):\n",
        "    def __init__(self):\n",
        "        super(SimpleNet, self).__init__()\n",
        "        self.fc1 = nn.Linear(1, 40)\n",
        "        self.fc2 = nn.Linear(40, 1)\n",
        "\n",
        "    def forward(self, x):\n",
        "        x = torch.relu(self.fc1(x))\n",
        "        x = self.fc2(x)\n",
        "        return x\n",
        "\n",
        "# MAML class\n",
        "class MAML:\n",
        "    def __init__(self, model, lr_inner=0.01, lr_outer=0.001):\n",
        "        self.model = model\n",
        "        self.lr_inner = lr_inner\n",
        "        self.lr_outer = lr_outer\n",
        "        self.optimizer = optim.Adam(self.model.parameters(), lr=self.lr_outer)\n",
        "        self.criterion = nn.MSELoss()\n",
        "\n",
        "    def clone_model(self):\n",
        "        cloned_model = SimpleNet()\n",
        "        cloned_model.load_state_dict(self.model.state_dict())\n",
        "        return cloned_model\n",
        "\n",
        "    def inner_update(self, model, x, y):\n",
        "        model.train()\n",
        "        loss = self.criterion(model(x), y)\n",
        "        model.zero_grad()\n",
        "        loss.backward()\n",
        "        with torch.no_grad():\n",
        "            for param in model.parameters():\n",
        "                param -= self.lr_inner * param.grad\n",
        "        return model\n",
        "\n",
        "    def outer_update(self, support_data, query_data):\n",
        "        self.optimizer.zero_grad()\n",
        "\n",
        "        for task in support_data.keys():\n",
        "            x_s, y_s = support_data[task]\n",
        "            x_q, y_q = query_data[task]\n",
        "\n",
        "            model_inner = self.clone_model()\n",
        "            model_inner = self.inner_update(model_inner, x_s, y_s)\n",
        "\n",
        "            loss = self.criterion(model_inner(x_q), y_q)\n",
        "            loss.backward()\n",
        "\n",
        "        self.optimizer.step()\n",
        "\n",
        "# Example training loop\n",
        "def train_maml(maml, tasks_support, tasks_query, epochs=100):\n",
        "    for epoch in range(epochs):\n",
        "        maml.outer_update(tasks_support, tasks_query)\n",
        "        print(f\"Epoch {epoch+1}/{epochs} completed.\")\n",
        "\n",
        "# Generate dummy data for demonstration\n",
        "support_data = {0: (torch.randn(10, 1), torch.randn(10, 1))}\n",
        "query_data = {0: (torch.randn(10, 1), torch.randn(10, 1))}\n",
        "\n",
        "# Initialize model and MAML\n",
        "model = SimpleNet()\n",
        "maml = MAML(model)\n",
        "\n",
        "# Train MAML\n",
        "train_maml(maml, support_data, query_data, epochs=5)"
      ]
    }
  ]
}