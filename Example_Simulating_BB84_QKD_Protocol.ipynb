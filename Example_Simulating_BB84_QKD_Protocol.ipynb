{
  "nbformat": 4,
  "nbformat_minor": 0,
  "metadata": {
    "colab": {
      "private_outputs": true,
      "provenance": [],
      "authorship_tag": "ABX9TyM/EG8pkJKCyyIvIWIpcVz0",
      "include_colab_link": true
    },
    "kernelspec": {
      "name": "python3",
      "display_name": "Python 3"
    },
    "language_info": {
      "name": "python"
    }
  },
  "cells": [
    {
      "cell_type": "markdown",
      "metadata": {
        "id": "view-in-github",
        "colab_type": "text"
      },
      "source": [
        "<a href=\"https://colab.research.google.com/github/OneFineStarstuff/OneFineStarstuff/blob/main/Example_Simulating_BB84_QKD_Protocol.ipynb\" target=\"_parent\"><img src=\"https://colab.research.google.com/assets/colab-badge.svg\" alt=\"Open In Colab\"/></a>"
      ]
    },
    {
      "cell_type": "code",
      "execution_count": null,
      "metadata": {
        "id": "fNeW4m-uCXFC"
      },
      "outputs": [],
      "source": [
        "import numpy as np\n",
        "\n",
        "# Define possible polarization bases\n",
        "bases = ['Z', 'X']  # Z-basis (rectilinear), X-basis (diagonal)\n",
        "polarizations = {'Z': [0, 1], 'X': [45, 135]}  # Polarization angles in degrees\n",
        "\n",
        "# Simulate Alice's random bit and basis choices\n",
        "n_bits = 100\n",
        "alice_bits = np.random.randint(2, size=n_bits)\n",
        "alice_bases = np.random.choice(bases, n_bits)\n",
        "\n",
        "# Simulate Bob's random basis choices\n",
        "bob_bases = np.random.choice(bases, n_bits)\n",
        "\n",
        "# Bob measures and records bits only when bases match\n",
        "bob_bits = []\n",
        "for i in range(n_bits):\n",
        "    if alice_bases[i] == bob_bases[i]:\n",
        "        bob_bits.append(alice_bits[i])\n",
        "\n",
        "# Key generation: Alice and Bob compare bases publicly\n",
        "print(f\"Shared Key: {bob_bits}\")"
      ]
    }
  ]
}