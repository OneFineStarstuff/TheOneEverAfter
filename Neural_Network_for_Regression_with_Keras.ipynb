{
  "nbformat": 4,
  "nbformat_minor": 0,
  "metadata": {
    "colab": {
      "private_outputs": true,
      "provenance": [],
      "authorship_tag": "ABX9TyNuow34RbX2w/9CGJ8rouKP",
      "include_colab_link": true
    },
    "kernelspec": {
      "name": "python3",
      "display_name": "Python 3"
    },
    "language_info": {
      "name": "python"
    }
  },
  "cells": [
    {
      "cell_type": "markdown",
      "metadata": {
        "id": "view-in-github",
        "colab_type": "text"
      },
      "source": [
        "<a href=\"https://colab.research.google.com/github/OneFineStarstuff/OneFineStardust/blob/main/Neural_Network_for_Regression_with_Keras.ipynb\" target=\"_parent\"><img src=\"https://colab.research.google.com/assets/colab-badge.svg\" alt=\"Open In Colab\"/></a>"
      ]
    },
    {
      "cell_type": "code",
      "execution_count": null,
      "metadata": {
        "id": "wljigdFAlxqJ"
      },
      "outputs": [],
      "source": [
        "import numpy as np\n",
        "import matplotlib.pyplot as plt\n",
        "from tensorflow.keras import Sequential\n",
        "from tensorflow.keras.layers import Dense\n",
        "\n",
        "# Generate synthetic data\n",
        "X = np.linspace(0, 10, 100)\n",
        "y = np.sin(X) + np.random.normal(0, 0.1, X.shape)  # Sinusoidal data with noise\n",
        "\n",
        "# Reshape X for Keras\n",
        "X = X.reshape(-1, 1)\n",
        "\n",
        "# Create a neural network model for regression\n",
        "model = Sequential()\n",
        "model.add(Dense(10, activation='relu', input_shape=(1,)))\n",
        "model.add(Dense(1))  # Single output for regression\n",
        "\n",
        "# Compile the model\n",
        "model.compile(optimizer='adam', loss='mean_squared_error')\n",
        "\n",
        "# Train the model\n",
        "model.fit(X, y, epochs=100)\n",
        "\n",
        "# Predict using the trained model\n",
        "y_pred = model.predict(X)\n",
        "\n",
        "# Plot the results\n",
        "plt.scatter(X, y, label='Data')\n",
        "plt.plot(X, y_pred, color='red', label='Neural Network Prediction')\n",
        "plt.title('Neural Network Regression')\n",
        "plt.xlabel('X')\n",
        "plt.ylabel('y')\n",
        "plt.legend()\n",
        "plt.show()"
      ]
    }
  ]
}