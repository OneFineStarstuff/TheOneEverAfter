{
  "nbformat": 4,
  "nbformat_minor": 0,
  "metadata": {
    "colab": {
      "private_outputs": true,
      "provenance": [],
      "authorship_tag": "ABX9TyPC5M5Nx4fMQjnTtZVuipQx",
      "include_colab_link": true
    },
    "kernelspec": {
      "name": "python3",
      "display_name": "Python 3"
    },
    "language_info": {
      "name": "python"
    }
  },
  "cells": [
    {
      "cell_type": "markdown",
      "metadata": {
        "id": "view-in-github",
        "colab_type": "text"
      },
      "source": [
        "<a href=\"https://colab.research.google.com/github/OneFineStarstuff/OneFineStardust/blob/main/Example_Linear_Programming_with_SciPy.ipynb\" target=\"_parent\"><img src=\"https://colab.research.google.com/assets/colab-badge.svg\" alt=\"Open In Colab\"/></a>"
      ]
    },
    {
      "cell_type": "code",
      "execution_count": null,
      "metadata": {
        "id": "Z-LtVzBwRqlS"
      },
      "outputs": [],
      "source": [
        "import numpy as np\n",
        "from scipy.optimize import linprog\n",
        "\n",
        "# Coefficients of the objective function (minimize)\n",
        "c = [-1, -2]  # Objective function: maximize profit\n",
        "\n",
        "# Coefficients for inequality constraints\n",
        "A = [[-1, -2], [-4, -1]]\n",
        "b = [-8, -10]\n",
        "\n",
        "# Bounds for variables (x0 and x1)\n",
        "x_bounds = [(0, None), (0, None)]\n",
        "\n",
        "# Solve linear programming problem\n",
        "result = linprog(c, A_ub=A, b_ub=b, bounds=x_bounds, method='highs')\n",
        "\n",
        "# Check if the optimization was successful\n",
        "if result.success:\n",
        "    print(f'Optimal value: {-result.fun}')  # Maximizing the profit\n",
        "    print(f'Optimal solution: {result.x}')\n",
        "else:\n",
        "    print('Optimization failed:', result.message)"
      ]
    }
  ]
}