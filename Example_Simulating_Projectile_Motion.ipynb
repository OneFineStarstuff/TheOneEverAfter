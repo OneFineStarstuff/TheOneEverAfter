{
  "nbformat": 4,
  "nbformat_minor": 0,
  "metadata": {
    "colab": {
      "private_outputs": true,
      "provenance": [],
      "authorship_tag": "ABX9TyMdpUc10nZmvGsqD/ROGmfU",
      "include_colab_link": true
    },
    "kernelspec": {
      "name": "python3",
      "display_name": "Python 3"
    },
    "language_info": {
      "name": "python"
    }
  },
  "cells": [
    {
      "cell_type": "markdown",
      "metadata": {
        "id": "view-in-github",
        "colab_type": "text"
      },
      "source": [
        "<a href=\"https://colab.research.google.com/github/OneFineStarstuff/OneFineStarstuff/blob/main/Example_Simulating_Projectile_Motion.ipynb\" target=\"_parent\"><img src=\"https://colab.research.google.com/assets/colab-badge.svg\" alt=\"Open In Colab\"/></a>"
      ]
    },
    {
      "cell_type": "code",
      "execution_count": null,
      "metadata": {
        "id": "GmA7o1ZoX9aH"
      },
      "outputs": [],
      "source": [
        "import numpy as np\n",
        "import matplotlib.pyplot as plt\n",
        "\n",
        "# Constants\n",
        "g = 9.81  # Acceleration due to gravity (m/s^2)\n",
        "theta = 45  # Launch angle (degrees)\n",
        "v0 = 20  # Initial velocity (m/s)\n",
        "\n",
        "# Initial velocities in x and y directions\n",
        "v0x = v0 * np.cos(np.radians(theta))\n",
        "v0y = v0 * np.sin(np.radians(theta))\n",
        "\n",
        "# Time of flight and time array\n",
        "T = 2 * v0y / g  # Total time of flight\n",
        "t = np.linspace(0, T, num=500)  # Time array\n",
        "\n",
        "# Positions in x and y directions\n",
        "x = v0x * t\n",
        "y = v0y * t - 0.5 * g * t**2\n",
        "\n",
        "# Plot the trajectory\n",
        "plt.plot(x, y)\n",
        "plt.title(\"Projectile Motion\")\n",
        "plt.xlabel(\"Distance (m)\")\n",
        "plt.ylabel(\"Height (m)\")\n",
        "plt.grid(True)\n",
        "plt.show()"
      ]
    }
  ]
}