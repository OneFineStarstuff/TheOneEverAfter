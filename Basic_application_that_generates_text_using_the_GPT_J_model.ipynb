{
  "nbformat": 4,
  "nbformat_minor": 0,
  "metadata": {
    "colab": {
      "private_outputs": true,
      "provenance": [],
      "authorship_tag": "ABX9TyO6lahPruUpBw5REzA9gJ3E",
      "include_colab_link": true
    },
    "kernelspec": {
      "name": "python3",
      "display_name": "Python 3"
    },
    "language_info": {
      "name": "python"
    }
  },
  "cells": [
    {
      "cell_type": "markdown",
      "metadata": {
        "id": "view-in-github",
        "colab_type": "text"
      },
      "source": [
        "<a href=\"https://colab.research.google.com/github/OneFineStarstuff/OneFineStardust/blob/main/Basic_application_that_generates_text_using_the_GPT_J_model.ipynb\" target=\"_parent\"><img src=\"https://colab.research.google.com/assets/colab-badge.svg\" alt=\"Open In Colab\"/></a>"
      ]
    },
    {
      "cell_type": "code",
      "execution_count": null,
      "metadata": {
        "id": "0kgiSwcpMTx8"
      },
      "outputs": [],
      "source": [
        "pip install requests"
      ]
    },
    {
      "cell_type": "code",
      "source": [
        "import requests\n",
        "\n",
        "# Define your API endpoint and headers\n",
        "API_URL = \"https://api.eleuther.ai/completion\"  # Example URL for GPT-J\n",
        "HEADERS = {\n",
        "    \"Content-Type\": \"application/json\"\n",
        "}\n",
        "\n",
        "def generate_text(prompt):\n",
        "    payload = {\n",
        "        \"context\": prompt,\n",
        "        \"model\": \"GPT-J\",\n",
        "        \"max_length\": 100,  # Adjust the length of generated text\n",
        "        \"temperature\": 0.7,  # Controls randomness in output\n",
        "    }\n",
        "\n",
        "    response = requests.post(API_URL, json=payload, headers=HEADERS)\n",
        "\n",
        "    if response.status_code == 200:\n",
        "        result = response.json()\n",
        "        return result['completions'][0]['text']\n",
        "    else:\n",
        "        return f\"Error: {response.status_code}, {response.text}\"\n",
        "\n",
        "if __name__ == \"__main__\":\n",
        "    user_prompt = input(\"Enter your prompt: \")\n",
        "    generated_output = generate_text(user_prompt)\n",
        "    print(\"Generated Text:\")\n",
        "    print(generated_output)"
      ],
      "metadata": {
        "id": "EG6XrsqHMVu4"
      },
      "execution_count": null,
      "outputs": []
    },
    {
      "cell_type": "code",
      "source": [
        "import requests\n",
        "\n",
        "# Define your API endpoint and headers\n",
        "API_URL = \"https://api.eleuther.ai/completion\"  # Example URL for GPT-J\n",
        "HEADERS = {\n",
        "    \"Content-Type\": \"application/json\"\n",
        "}\n",
        "\n",
        "def generate_text(prompt):\n",
        "    payload = {\n",
        "        \"context\": prompt,\n",
        "        \"model\": \"GPT-J\",\n",
        "        \"max_length\": 100,  # Adjust the length of generated text\n",
        "        \"temperature\": 0.7,  # Controls randomness in output\n",
        "    }\n",
        "\n",
        "    # Bypass SSL verification (not recommended for production)\n",
        "    response = requests.post(API_URL, json=payload, headers=HEADERS, verify=False)\n",
        "\n",
        "    if response.status_code == 200:\n",
        "        result = response.json()\n",
        "        return result['completions'][0]['text']\n",
        "    else:\n",
        "        return f\"Error: {response.status_code}, {response.text}\"\n",
        "\n",
        "if __name__ == \"__main__\":\n",
        "    user_prompt = input(\"Enter your prompt: \")\n",
        "    generated_output = generate_text(user_prompt)\n",
        "    print(\"Generated Text:\")\n",
        "    print(generated_output)"
      ],
      "metadata": {
        "id": "798NJV-lNGAM"
      },
      "execution_count": null,
      "outputs": []
    }
  ]
}