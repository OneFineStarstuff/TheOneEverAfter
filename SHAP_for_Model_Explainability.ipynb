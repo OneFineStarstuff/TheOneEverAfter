{
  "nbformat": 4,
  "nbformat_minor": 0,
  "metadata": {
    "colab": {
      "private_outputs": true,
      "provenance": [],
      "authorship_tag": "ABX9TyMhnzHu1SFZ/EfYziLKsGOF",
      "include_colab_link": true
    },
    "kernelspec": {
      "name": "python3",
      "display_name": "Python 3"
    },
    "language_info": {
      "name": "python"
    }
  },
  "cells": [
    {
      "cell_type": "markdown",
      "metadata": {
        "id": "view-in-github",
        "colab_type": "text"
      },
      "source": [
        "<a href=\"https://colab.research.google.com/github/OneFineStarstuff/OneFineStarstuff/blob/main/SHAP_for_Model_Explainability.ipynb\" target=\"_parent\"><img src=\"https://colab.research.google.com/assets/colab-badge.svg\" alt=\"Open In Colab\"/></a>"
      ]
    },
    {
      "cell_type": "code",
      "execution_count": null,
      "metadata": {
        "id": "CL13Aytm-iv_"
      },
      "outputs": [],
      "source": [
        "pip install shap"
      ]
    },
    {
      "cell_type": "code",
      "source": [
        "import shap\n",
        "import numpy as np\n",
        "import pandas as pd\n",
        "from sklearn.ensemble import RandomForestClassifier\n",
        "from sklearn.datasets import load_iris\n",
        "from sklearn.model_selection import train_test_split\n",
        "\n",
        "# Load dataset\n",
        "data = load_iris()\n",
        "X = pd.DataFrame(data.data, columns=data.feature_names)\n",
        "y = data.target\n",
        "\n",
        "# Split data into train and test sets\n",
        "X_train, X_test, y_train, y_test = train_test_split(X, y, test_size=0.3, random_state=42)\n",
        "\n",
        "# Train a RandomForest model\n",
        "model = RandomForestClassifier()\n",
        "model.fit(X_train, y_train)\n",
        "\n",
        "# Generate SHAP values for model interpretability using TreeExplainer\n",
        "explainer = shap.TreeExplainer(model)\n",
        "shap_values = explainer.shap_values(X_test)\n",
        "\n",
        "# Verify and print shapes\n",
        "print(f\"X_test shape: {X_test.shape}\")\n",
        "for i, sv in enumerate(shap_values):\n",
        "    print(f\"Class {i} SHAP values shape: {sv.shape}\")\n",
        "\n",
        "# Correct the dimensions for SHAP values\n",
        "corrected_shap_values = [sv.T for sv in shap_values if sv.shape[1] == X_test.shape[1]]\n",
        "\n",
        "# Plot SHAP summary for each class separately\n",
        "for class_idx, sv in enumerate(corrected_shap_values):\n",
        "    print(f\"SHAP summary plot for class {class_idx}:\")\n",
        "    shap.summary_plot(sv, X_test, feature_names=X_test.columns)"
      ],
      "metadata": {
        "id": "NW13BLgr-2EL"
      },
      "execution_count": null,
      "outputs": []
    }
  ]
}