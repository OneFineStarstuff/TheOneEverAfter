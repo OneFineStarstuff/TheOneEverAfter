{
  "nbformat": 4,
  "nbformat_minor": 0,
  "metadata": {
    "colab": {
      "private_outputs": true,
      "provenance": [],
      "authorship_tag": "ABX9TyNGTICDFZCGXK+LEeRc1WnR",
      "include_colab_link": true
    },
    "kernelspec": {
      "name": "python3",
      "display_name": "Python 3"
    },
    "language_info": {
      "name": "python"
    }
  },
  "cells": [
    {
      "cell_type": "markdown",
      "metadata": {
        "id": "view-in-github",
        "colab_type": "text"
      },
      "source": [
        "<a href=\"https://colab.research.google.com/github/OneFineStarstuff/OneFineStarstuff/blob/main/Example_Simulating_Light_Interference_Using_the_Double_Slit_Experiment.ipynb\" target=\"_parent\"><img src=\"https://colab.research.google.com/assets/colab-badge.svg\" alt=\"Open In Colab\"/></a>"
      ]
    },
    {
      "cell_type": "code",
      "execution_count": null,
      "metadata": {
        "id": "kYNl_yHAIMTh"
      },
      "outputs": [],
      "source": [
        "import numpy as np\n",
        "import matplotlib.pyplot as plt\n",
        "\n",
        "# Define parameters for the double-slit experiment\n",
        "wavelength = 500e-9  # 500 nm (green light)\n",
        "slit_distance = 1e-3  # Distance between slits (1 mm)\n",
        "screen_distance = 1.0  # Distance to the screen (1 m)\n",
        "screen_width = 0.05  # Width of the screen (5 cm)\n",
        "\n",
        "# Generate an array of points along the screen\n",
        "x = np.linspace(-screen_width / 2, screen_width / 2, 1000)\n",
        "\n",
        "# Calculate the intensity of the interference pattern\n",
        "intensity = (np.cos(np.pi * slit_distance * x / (wavelength * screen_distance)))**2\n",
        "\n",
        "# Plot the interference pattern\n",
        "plt.plot(x, intensity)\n",
        "plt.title(\"Double-Slit Interference Pattern\")\n",
        "plt.xlabel(\"Position on Screen (m)\")\n",
        "plt.ylabel(\"Intensity\")\n",
        "plt.grid(True)\n",
        "plt.show()"
      ]
    }
  ]
}