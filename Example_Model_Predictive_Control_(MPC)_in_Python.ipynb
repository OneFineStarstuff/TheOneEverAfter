{
  "nbformat": 4,
  "nbformat_minor": 0,
  "metadata": {
    "colab": {
      "private_outputs": true,
      "provenance": [],
      "authorship_tag": "ABX9TyNHJ0OeRFZM0MbTPz0+JO0S",
      "include_colab_link": true
    },
    "kernelspec": {
      "name": "python3",
      "display_name": "Python 3"
    },
    "language_info": {
      "name": "python"
    }
  },
  "cells": [
    {
      "cell_type": "markdown",
      "metadata": {
        "id": "view-in-github",
        "colab_type": "text"
      },
      "source": [
        "<a href=\"https://colab.research.google.com/github/OneFineStarstuff/OneFineStardust/blob/main/Example_Model_Predictive_Control_(MPC)_in_Python.ipynb\" target=\"_parent\"><img src=\"https://colab.research.google.com/assets/colab-badge.svg\" alt=\"Open In Colab\"/></a>"
      ]
    },
    {
      "cell_type": "code",
      "execution_count": null,
      "metadata": {
        "id": "fQBRGl6akRP-"
      },
      "outputs": [],
      "source": [
        "import numpy as np\n",
        "import matplotlib.pyplot as plt\n",
        "from scipy.optimize import minimize\n",
        "\n",
        "# Define system dynamics\n",
        "A = np.array([[1, 1], [0, 1]])\n",
        "B = np.array([[0], [1]])\n",
        "Q = np.eye(2)  # State cost matrix\n",
        "R = 1          # Control cost\n",
        "\n",
        "# MPC controller parameters\n",
        "N = 10  # Prediction horizon\n",
        "\n",
        "def mpc_control(x0):\n",
        "    def cost_function(u):\n",
        "        x = x0.copy()\n",
        "        cost = 0.0\n",
        "        for i in range(N):\n",
        "            x = A @ x + B.flatten() * u[i]\n",
        "            cost += x.T @ Q @ x + R * (u[i] ** 2)\n",
        "        return cost.item()\n",
        "\n",
        "    u0 = np.zeros(N)  # Initial guess for control inputs\n",
        "    result = minimize(cost_function, u0)\n",
        "    return result.x[0]  # Return the first control input\n",
        "\n",
        "# Initial state\n",
        "x0 = np.array([0, 0])  # Starting at origin\n",
        "\n",
        "# Simulate the system response using MPC\n",
        "time_steps = 50\n",
        "states = []\n",
        "for _ in range(time_steps):\n",
        "    u_optimal = mpc_control(x0)\n",
        "    x0 = A @ x0 + B.flatten() * u_optimal  # Update state based on optimal control input\n",
        "    states.append(x0)\n",
        "\n",
        "# Plotting the results\n",
        "states = np.array(states)\n",
        "plt.plot(states[:, 0], label='Position')\n",
        "plt.plot(states[:, 1], label='Velocity')\n",
        "plt.title('MPC Controlled System Response')\n",
        "plt.xlabel('Time Steps')\n",
        "plt.ylabel('State Values')\n",
        "plt.legend()\n",
        "plt.grid()\n",
        "plt.show()"
      ]
    }
  ]
}