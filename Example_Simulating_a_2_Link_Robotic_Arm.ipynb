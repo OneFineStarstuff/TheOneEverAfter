{
  "nbformat": 4,
  "nbformat_minor": 0,
  "metadata": {
    "colab": {
      "private_outputs": true,
      "provenance": [],
      "authorship_tag": "ABX9TyOi6Q//fi710Sxj/BOA3qw+",
      "include_colab_link": true
    },
    "kernelspec": {
      "name": "python3",
      "display_name": "Python 3"
    },
    "language_info": {
      "name": "python"
    }
  },
  "cells": [
    {
      "cell_type": "markdown",
      "metadata": {
        "id": "view-in-github",
        "colab_type": "text"
      },
      "source": [
        "<a href=\"https://colab.research.google.com/github/OneFineStarstuff/OneFineStarstuff/blob/main/Example_Simulating_a_2_Link_Robotic_Arm.ipynb\" target=\"_parent\"><img src=\"https://colab.research.google.com/assets/colab-badge.svg\" alt=\"Open In Colab\"/></a>"
      ]
    },
    {
      "cell_type": "code",
      "execution_count": null,
      "metadata": {
        "id": "nR5xG4YgVLR6"
      },
      "outputs": [],
      "source": [
        "import numpy as np\n",
        "import matplotlib.pyplot as plt\n",
        "\n",
        "# Function to compute the forward kinematics of a 2-link robotic arm\n",
        "def forward_kinematics(theta1, theta2, l1, l2):\n",
        "    x1 = l1 * np.cos(theta1)\n",
        "    y1 = l1 * np.sin(theta1)\n",
        "    x2 = x1 + l2 * np.cos(theta1 + theta2)\n",
        "    y2 = y1 + l2 * np.sin(theta1 + theta2)\n",
        "    return x1, y1, x2, y2\n",
        "\n",
        "# Lengths of the links\n",
        "l1, l2 = 2.0, 1.5\n",
        "\n",
        "# Joint angles (in radians)\n",
        "theta1 = np.pi / 4\n",
        "theta2 = np.pi / 6\n",
        "\n",
        "# Compute the positions of the joints and end effector\n",
        "x1, y1, x2, y2 = forward_kinematics(theta1, theta2, l1, l2)\n",
        "\n",
        "# Plot the robotic arm\n",
        "plt.plot([0, x1, x2], [0, y1, y2], marker='o')\n",
        "plt.xlim(-3, 3)\n",
        "plt.ylim(-3, 3)\n",
        "plt.title(\"2-Link Robotic Arm\")\n",
        "plt.xlabel(\"X position\")\n",
        "plt.ylabel(\"Y position\")\n",
        "plt.grid(True)\n",
        "plt.show()"
      ]
    }
  ]
}