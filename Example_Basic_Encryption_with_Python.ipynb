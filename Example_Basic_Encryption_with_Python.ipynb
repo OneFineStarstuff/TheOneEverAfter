{
  "nbformat": 4,
  "nbformat_minor": 0,
  "metadata": {
    "colab": {
      "private_outputs": true,
      "provenance": [],
      "authorship_tag": "ABX9TyMXqz4aTyHV/6ZNMVZaaGn7",
      "include_colab_link": true
    },
    "kernelspec": {
      "name": "python3",
      "display_name": "Python 3"
    },
    "language_info": {
      "name": "python"
    }
  },
  "cells": [
    {
      "cell_type": "markdown",
      "metadata": {
        "id": "view-in-github",
        "colab_type": "text"
      },
      "source": [
        "<a href=\"https://colab.research.google.com/github/OneFineStarstuff/OneFineStardust/blob/main/Example_Basic_Encryption_with_Python.ipynb\" target=\"_parent\"><img src=\"https://colab.research.google.com/assets/colab-badge.svg\" alt=\"Open In Colab\"/></a>"
      ]
    },
    {
      "cell_type": "code",
      "execution_count": null,
      "metadata": {
        "id": "etySUUgwC4Pr"
      },
      "outputs": [],
      "source": [
        "from cryptography.fernet import Fernet\n",
        "\n",
        "# Generate a key\n",
        "key = Fernet.generate_key()\n",
        "cipher_suite = Fernet(key)\n",
        "\n",
        "# Encrypt a message\n",
        "message = b\"Secure this message\"\n",
        "cipher_text = cipher_suite.encrypt(message)\n",
        "\n",
        "# Decrypt the message\n",
        "plain_text = cipher_suite.decrypt(cipher_text)\n",
        "\n",
        "print(f'Cipher Text: {cipher_text}')\n",
        "print(f'Decrypted Text: {plain_text.decode()}')"
      ]
    }
  ]
}