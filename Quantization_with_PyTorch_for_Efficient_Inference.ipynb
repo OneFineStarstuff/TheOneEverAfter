{
  "nbformat": 4,
  "nbformat_minor": 0,
  "metadata": {
    "colab": {
      "private_outputs": true,
      "provenance": [],
      "authorship_tag": "ABX9TyPfPLADFIg0nykDZPtg7oBI",
      "include_colab_link": true
    },
    "kernelspec": {
      "name": "python3",
      "display_name": "Python 3"
    },
    "language_info": {
      "name": "python"
    }
  },
  "cells": [
    {
      "cell_type": "markdown",
      "metadata": {
        "id": "view-in-github",
        "colab_type": "text"
      },
      "source": [
        "<a href=\"https://colab.research.google.com/github/OneFineStarstuff/OneFineStarstuff/blob/main/Quantization_with_PyTorch_for_Efficient_Inference.ipynb\" target=\"_parent\"><img src=\"https://colab.research.google.com/assets/colab-badge.svg\" alt=\"Open In Colab\"/></a>"
      ]
    },
    {
      "cell_type": "code",
      "execution_count": null,
      "metadata": {
        "id": "56paQKpLhpyZ"
      },
      "outputs": [],
      "source": [
        "import torch\n",
        "import torch.nn as nn\n",
        "import torch.optim as optim\n",
        "import torch.quantization as tq\n",
        "import torch.quantization.observer as observer\n",
        "from torch.utils.data import DataLoader, TensorDataset\n",
        "\n",
        "# Define a simple model\n",
        "class SimpleModel(nn.Module):\n",
        "    def __init__(self):\n",
        "        super(SimpleModel, self).__init__()\n",
        "        self.fc = nn.Linear(10, 2)\n",
        "\n",
        "    def forward(self, x):\n",
        "        return self.fc(x)\n",
        "\n",
        "# Create dummy data\n",
        "data = torch.randn(100, 10)\n",
        "labels = torch.randint(0, 2, (100,))\n",
        "dataset = TensorDataset(data, labels)\n",
        "data_loader = DataLoader(dataset, batch_size=16, shuffle=True)\n",
        "\n",
        "# Initialize the model, loss function, and optimizer\n",
        "model = SimpleModel()\n",
        "criterion = nn.CrossEntropyLoss()\n",
        "optimizer = optim.Adam(model.parameters(), lr=0.001)\n",
        "\n",
        "# Train the model (for demonstration purposes)\n",
        "model.train()\n",
        "for epoch in range(5):\n",
        "    for inputs, labels in data_loader:\n",
        "        optimizer.zero_grad()\n",
        "        outputs = model(inputs)\n",
        "        loss = criterion(outputs, labels)\n",
        "        loss.backward()\n",
        "        optimizer.step()\n",
        "    print(f\"Epoch {epoch+1}, Loss: {loss.item()}\")\n",
        "\n",
        "# Quantization configuration\n",
        "model.qconfig = tq.QConfig(\n",
        "    activation=observer.default_observer.with_args(dtype=torch.quint8, quant_min=0, quant_max=255),\n",
        "    weight=observer.default_per_channel_weight_observer\n",
        ")\n",
        "\n",
        "# Prepare model for quantization\n",
        "tq.prepare(model, inplace=True)\n",
        "\n",
        "# Calibrate the model with a few batches of data\n",
        "model.eval()\n",
        "with torch.no_grad():\n",
        "    for inputs, _ in data_loader:\n",
        "        model(inputs)\n",
        "\n",
        "# Convert to quantized version\n",
        "tq.convert(model, inplace=True)\n",
        "\n",
        "# Verify the quantized model\n",
        "print(model)"
      ]
    }
  ]
}