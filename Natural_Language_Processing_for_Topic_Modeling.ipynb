{
  "nbformat": 4,
  "nbformat_minor": 0,
  "metadata": {
    "colab": {
      "private_outputs": true,
      "provenance": [],
      "authorship_tag": "ABX9TyOxxqV7pWYwyV7hAKPvvKKA",
      "include_colab_link": true
    },
    "kernelspec": {
      "name": "python3",
      "display_name": "Python 3"
    },
    "language_info": {
      "name": "python"
    }
  },
  "cells": [
    {
      "cell_type": "markdown",
      "metadata": {
        "id": "view-in-github",
        "colab_type": "text"
      },
      "source": [
        "<a href=\"https://colab.research.google.com/github/OneFineStarstuff/OneFineStardust/blob/main/Natural_Language_Processing_for_Topic_Modeling.ipynb\" target=\"_parent\"><img src=\"https://colab.research.google.com/assets/colab-badge.svg\" alt=\"Open In Colab\"/></a>"
      ]
    },
    {
      "cell_type": "code",
      "execution_count": null,
      "metadata": {
        "id": "pkH9rjOHD91B"
      },
      "outputs": [],
      "source": [
        "import pandas as pd\n",
        "from sklearn.feature_extraction.text import CountVectorizer\n",
        "from sklearn.decomposition import LatentDirichletAllocation\n",
        "\n",
        "# Load your dataset\n",
        "data = pd.read_csv('documents.csv')  # Assume this contains a 'text' column\n",
        "\n",
        "# Vectorize the text data\n",
        "vectorizer = CountVectorizer(stop_words='english')\n",
        "doc_term_matrix = vectorizer.fit_transform(data['text'])\n",
        "\n",
        "# Fit the LDA model\n",
        "lda = LatentDirichletAllocation(n_components=5, random_state=0)  # 5 topics\n",
        "lda.fit(doc_term_matrix)\n",
        "\n",
        "# Display the topics found by LDA\n",
        "for index, topic in enumerate(lda.components_):\n",
        "    print(f\"Topic {index + 1}:\")\n",
        "    print([vectorizer.get_feature_names_out()[i] for i in topic.argsort()[-10:]])"
      ]
    }
  ]
}