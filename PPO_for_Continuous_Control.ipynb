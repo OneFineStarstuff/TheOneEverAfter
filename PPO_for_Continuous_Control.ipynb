{
  "nbformat": 4,
  "nbformat_minor": 0,
  "metadata": {
    "colab": {
      "private_outputs": true,
      "provenance": [],
      "authorship_tag": "ABX9TyMTZaKgqwE682WmSS/C0xRk",
      "include_colab_link": true
    },
    "kernelspec": {
      "name": "python3",
      "display_name": "Python 3"
    },
    "language_info": {
      "name": "python"
    }
  },
  "cells": [
    {
      "cell_type": "markdown",
      "metadata": {
        "id": "view-in-github",
        "colab_type": "text"
      },
      "source": [
        "<a href=\"https://colab.research.google.com/github/OneFineStarstuff/OneFineStarstuff/blob/main/PPO_for_Continuous_Control.ipynb\" target=\"_parent\"><img src=\"https://colab.research.google.com/assets/colab-badge.svg\" alt=\"Open In Colab\"/></a>"
      ]
    },
    {
      "cell_type": "code",
      "source": [
        "pip install stable_baselines3"
      ],
      "metadata": {
        "id": "gXjrVIk8d9BH"
      },
      "execution_count": null,
      "outputs": []
    },
    {
      "cell_type": "code",
      "source": [
        "pip install shimmy"
      ],
      "metadata": {
        "id": "ThiSLgpSeMys"
      },
      "execution_count": null,
      "outputs": []
    },
    {
      "cell_type": "code",
      "source": [
        "pip install gymnasium"
      ],
      "metadata": {
        "id": "KljfYV3ke7Zb"
      },
      "execution_count": null,
      "outputs": []
    },
    {
      "cell_type": "code",
      "source": [
        "!pip install gymnasium==0.29.1\n",
        "!pip install shimmy==0.2.1"
      ],
      "metadata": {
        "id": "7gEBRrs4gIXY"
      },
      "execution_count": null,
      "outputs": []
    },
    {
      "cell_type": "code",
      "execution_count": null,
      "metadata": {
        "id": "IOGCDo2TdhZp"
      },
      "outputs": [],
      "source": [
        "import gymnasium as gym\n",
        "import torch\n",
        "from stable_baselines3 import PPO\n",
        "from stable_baselines3.common.vec_env import DummyVecEnv, VecMonitor\n",
        "from stable_baselines3.common.evaluation import evaluate_policy\n",
        "\n",
        "# Create the environment\n",
        "def make_env():\n",
        "    env = gym.make(\"Pendulum-v1\")\n",
        "    env = VecMonitor(DummyVecEnv([lambda: env]))\n",
        "    return env\n",
        "\n",
        "env = make_env()\n",
        "\n",
        "# Define and train PPO model\n",
        "model = PPO(\"MlpPolicy\", env, verbose=1)\n",
        "model.learn(total_timesteps=10000)\n",
        "\n",
        "# Save the model\n",
        "model.save(\"ppo_pendulum\")\n",
        "\n",
        "# Load the model\n",
        "model = PPO.load(\"ppo_pendulum\", env=env)\n",
        "\n",
        "# Evaluate the model\n",
        "mean_reward, std_reward = evaluate_policy(model, env, n_eval_episodes=10)\n",
        "print(f\"Mean reward: {mean_reward:.2f} +/- {std_reward:.2f}\")\n",
        "\n",
        "# Test the trained model\n",
        "obs = env.reset()\n",
        "for _ in range(1000):\n",
        "    action, _ = model.predict(obs)\n",
        "    obs, reward, done, info = env.step(action)\n",
        "    if done:\n",
        "        obs = env.reset()"
      ]
    }
  ]
}