{
  "nbformat": 4,
  "nbformat_minor": 0,
  "metadata": {
    "colab": {
      "private_outputs": true,
      "provenance": [],
      "authorship_tag": "ABX9TyNQiTW82p0cTgcn1pnbEIlm",
      "include_colab_link": true
    },
    "kernelspec": {
      "name": "python3",
      "display_name": "Python 3"
    },
    "language_info": {
      "name": "python"
    }
  },
  "cells": [
    {
      "cell_type": "markdown",
      "metadata": {
        "id": "view-in-github",
        "colab_type": "text"
      },
      "source": [
        "<a href=\"https://colab.research.google.com/github/OneFineStarstuff/OneFineStardust/blob/main/Implementing_Principal_Component_Analysis_(PCA).ipynb\" target=\"_parent\"><img src=\"https://colab.research.google.com/assets/colab-badge.svg\" alt=\"Open In Colab\"/></a>"
      ]
    },
    {
      "cell_type": "code",
      "execution_count": null,
      "metadata": {
        "id": "fYvvciW6do_M"
      },
      "outputs": [],
      "source": [
        "import pandas as pd\n",
        "from sklearn.decomposition import PCA\n",
        "import matplotlib.pyplot as plt\n",
        "\n",
        "# Load dataset\n",
        "data=pd.read_csv('iris.csv')\n",
        "\n",
        "X=data.drop('species', axis=1)\n",
        "\n",
        "# Apply PCA\n",
        "pca=PCA(n_components=2)\n",
        "principal_components=pca.fit_transform(X)\n",
        "\n",
        "principal_df=pd.DataFrame(data=principal_components ,columns=['PC1','PC2'])\n",
        "\n",
        "plt.figure(figsize=(8 ,6))\n",
        "plt.scatter(principal_df['PC1'],principal_df['PC2'],c=data['species'].astype('category').cat.codes)\n",
        "plt.xlabel('Principal Component 1')\n",
        "plt.ylabel('Principal Component 2')\n",
        "plt.title('PCA of Iris Dataset')\n",
        "plt.show()"
      ]
    }
  ]
}