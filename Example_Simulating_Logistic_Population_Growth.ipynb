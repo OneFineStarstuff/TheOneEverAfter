{
  "nbformat": 4,
  "nbformat_minor": 0,
  "metadata": {
    "colab": {
      "private_outputs": true,
      "provenance": [],
      "authorship_tag": "ABX9TyOhT/1mIMqjSYSP0/YyuNkv",
      "include_colab_link": true
    },
    "kernelspec": {
      "name": "python3",
      "display_name": "Python 3"
    },
    "language_info": {
      "name": "python"
    }
  },
  "cells": [
    {
      "cell_type": "markdown",
      "metadata": {
        "id": "view-in-github",
        "colab_type": "text"
      },
      "source": [
        "<a href=\"https://colab.research.google.com/github/OneFineStarstuff/OneFineStarstuff/blob/main/Example_Simulating_Logistic_Population_Growth.ipynb\" target=\"_parent\"><img src=\"https://colab.research.google.com/assets/colab-badge.svg\" alt=\"Open In Colab\"/></a>"
      ]
    },
    {
      "cell_type": "code",
      "execution_count": null,
      "metadata": {
        "id": "-tBQ_gkocYA9"
      },
      "outputs": [],
      "source": [
        "import numpy as np\n",
        "import matplotlib.pyplot as plt\n",
        "\n",
        "# Logistic growth model: P(t) = K / (1 + ((K - P0) / P0) * exp(-r * t))\n",
        "def logistic_growth(t, P0, r, K):\n",
        "    return K / (1 + ((K - P0) / P0) * np.exp(-r * t))\n",
        "\n",
        "# Parameters\n",
        "P0 = 10  # Initial population\n",
        "r = 0.5  # Growth rate\n",
        "K = 100  # Carrying capacity\n",
        "t = np.linspace(0, 20, 100)  # Time range\n",
        "\n",
        "# Simulate population growth\n",
        "population = logistic_growth(t, P0, r, K)\n",
        "\n",
        "# Plot the results\n",
        "plt.plot(t, population)\n",
        "plt.title(\"Logistic Population Growth\")\n",
        "plt.xlabel(\"Time\")\n",
        "plt.ylabel(\"Population\")\n",
        "plt.grid(True)\n",
        "plt.show()"
      ]
    }
  ]
}