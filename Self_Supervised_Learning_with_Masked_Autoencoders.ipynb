{
  "nbformat": 4,
  "nbformat_minor": 0,
  "metadata": {
    "colab": {
      "private_outputs": true,
      "provenance": [],
      "authorship_tag": "ABX9TyNklhxMd/4b9YifDsTOz/JV",
      "include_colab_link": true
    },
    "kernelspec": {
      "name": "python3",
      "display_name": "Python 3"
    },
    "language_info": {
      "name": "python"
    }
  },
  "cells": [
    {
      "cell_type": "markdown",
      "metadata": {
        "id": "view-in-github",
        "colab_type": "text"
      },
      "source": [
        "<a href=\"https://colab.research.google.com/github/OneFineStarstuff/OneFineStarstuff/blob/main/Self_Supervised_Learning_with_Masked_Autoencoders.ipynb\" target=\"_parent\"><img src=\"https://colab.research.google.com/assets/colab-badge.svg\" alt=\"Open In Colab\"/></a>"
      ]
    },
    {
      "cell_type": "code",
      "execution_count": null,
      "metadata": {
        "id": "C6rryHxMcQ2q"
      },
      "outputs": [],
      "source": [
        "import torch\n",
        "from transformers import BertForMaskedLM, BertTokenizer\n",
        "\n",
        "model = BertForMaskedLM.from_pretrained(\"bert-base-uncased\")\n",
        "tokenizer = BertTokenizer.from_pretrained(\"bert-base-uncased\")\n",
        "\n",
        "# Masked language model input\n",
        "text = \"Machine learning models can [MASK] complex patterns.\"\n",
        "inputs = tokenizer(text, return_tensors=\"pt\")\n",
        "outputs = model(**inputs)\n",
        "\n",
        "# Get the predicted token ID for the masked position\n",
        "masked_index = torch.where(inputs[\"input_ids\"] == tokenizer.mask_token_id)[1].item()\n",
        "logits = outputs.logits\n",
        "predicted_token_id = torch.argmax(logits[0, masked_index]).item()\n",
        "\n",
        "# Convert predicted token ID to the corresponding word\n",
        "predicted_token = tokenizer.decode([predicted_token_id])\n",
        "print(f\"Predicted token: {predicted_token}\")"
      ]
    }
  ]
}