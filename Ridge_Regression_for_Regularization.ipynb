{
  "nbformat": 4,
  "nbformat_minor": 0,
  "metadata": {
    "colab": {
      "private_outputs": true,
      "provenance": [],
      "authorship_tag": "ABX9TyNf0oTZFN9K5UzGxHZq2Ib7",
      "include_colab_link": true
    },
    "kernelspec": {
      "name": "python3",
      "display_name": "Python 3"
    },
    "language_info": {
      "name": "python"
    }
  },
  "cells": [
    {
      "cell_type": "markdown",
      "metadata": {
        "id": "view-in-github",
        "colab_type": "text"
      },
      "source": [
        "<a href=\"https://colab.research.google.com/github/OneFineStarstuff/OneFineStardust/blob/main/Ridge_Regression_for_Regularization.ipynb\" target=\"_parent\"><img src=\"https://colab.research.google.com/assets/colab-badge.svg\" alt=\"Open In Colab\"/></a>"
      ]
    },
    {
      "cell_type": "code",
      "execution_count": null,
      "metadata": {
        "id": "9AgVi-Scjgqf"
      },
      "outputs": [],
      "source": [
        "import numpy as np\n",
        "import matplotlib.pyplot as plt\n",
        "from sklearn.linear_model import Ridge\n",
        "from sklearn.datasets import make_regression\n",
        "\n",
        "# Generate synthetic data for regression\n",
        "X, y, coef = make_regression(n_samples=100, n_features=1, noise=0.1, coef=True)\n",
        "\n",
        "# Fit Ridge regression model\n",
        "ridge_model = Ridge(alpha=1.0)\n",
        "ridge_model.fit(X, y)\n",
        "\n",
        "# Print coefficients\n",
        "print(\"Ridge Coefficient:\", ridge_model.coef_)\n",
        "\n",
        "# Plotting the results\n",
        "plt.scatter(X, y, label='Data')\n",
        "plt.plot(X, ridge_model.predict(X), color='red', label='Ridge Regression Fit')\n",
        "plt.title('Ridge Regression')\n",
        "plt.xlabel('X')\n",
        "plt.ylabel('y')\n",
        "plt.legend()\n",
        "plt.show()"
      ]
    }
  ]
}