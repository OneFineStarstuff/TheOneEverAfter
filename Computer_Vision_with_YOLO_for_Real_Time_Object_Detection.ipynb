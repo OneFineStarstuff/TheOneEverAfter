{
  "nbformat": 4,
  "nbformat_minor": 0,
  "metadata": {
    "colab": {
      "private_outputs": true,
      "provenance": [],
      "authorship_tag": "ABX9TyMqYKXqBA/FF0lCT9iLMCn3",
      "include_colab_link": true
    },
    "kernelspec": {
      "name": "python3",
      "display_name": "Python 3"
    },
    "language_info": {
      "name": "python"
    }
  },
  "cells": [
    {
      "cell_type": "markdown",
      "metadata": {
        "id": "view-in-github",
        "colab_type": "text"
      },
      "source": [
        "<a href=\"https://colab.research.google.com/github/OneFineStarstuff/OneFineStarstuff/blob/main/Computer_Vision_with_YOLO_for_Real_Time_Object_Detection.ipynb\" target=\"_parent\"><img src=\"https://colab.research.google.com/assets/colab-badge.svg\" alt=\"Open In Colab\"/></a>"
      ]
    },
    {
      "cell_type": "code",
      "source": [
        "pip install ultralytics"
      ],
      "metadata": {
        "id": "LDgbnL3FSIIi"
      },
      "execution_count": null,
      "outputs": []
    },
    {
      "cell_type": "code",
      "execution_count": null,
      "metadata": {
        "id": "RVVujiYVR8St"
      },
      "outputs": [],
      "source": [
        "from ultralytics import YOLO\n",
        "\n",
        "# Load a pre-trained YOLO model\n",
        "model = YOLO(\"yolov8n.pt\")  # You can choose different sizes like yolov8s.pt for larger models\n",
        "\n",
        "# Run inference on an image or video file\n",
        "results = model(\"image.jpg\")  # Replace \"image.jpg\" with the path to your image\n",
        "\n",
        "# Display the results\n",
        "results.show()  # Visualizes bounding boxes, labels, and confidence scores\n",
        "\n",
        "# Custom Training (optional)\n",
        "# model.train(data=\"coco128.yaml\", epochs=10, imgsz=640) # Train on a custom dataset"
      ]
    }
  ]
}