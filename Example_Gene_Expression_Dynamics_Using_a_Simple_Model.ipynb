{
  "nbformat": 4,
  "nbformat_minor": 0,
  "metadata": {
    "colab": {
      "private_outputs": true,
      "provenance": [],
      "authorship_tag": "ABX9TyPXdNaLQaZM7404OXwGdK6t",
      "include_colab_link": true
    },
    "kernelspec": {
      "name": "python3",
      "display_name": "Python 3"
    },
    "language_info": {
      "name": "python"
    }
  },
  "cells": [
    {
      "cell_type": "markdown",
      "metadata": {
        "id": "view-in-github",
        "colab_type": "text"
      },
      "source": [
        "<a href=\"https://colab.research.google.com/github/OneFineStarstuff/OneFineStarstuff/blob/main/Example_Gene_Expression_Dynamics_Using_a_Simple_Model.ipynb\" target=\"_parent\"><img src=\"https://colab.research.google.com/assets/colab-badge.svg\" alt=\"Open In Colab\"/></a>"
      ]
    },
    {
      "cell_type": "code",
      "execution_count": null,
      "metadata": {
        "id": "7WAWNFllhfR2"
      },
      "outputs": [],
      "source": [
        "import numpy as np\n",
        "import matplotlib.pyplot as plt\n",
        "from scipy.integrate import odeint\n",
        "\n",
        "# Define the system of differential equations for gene expression\n",
        "def gene_expression(y, t, alpha, beta):\n",
        "    mRNA, protein = y\n",
        "    dmRNA_dt = alpha - beta * mRNA\n",
        "    dprotein_dt = mRNA - beta * protein\n",
        "    return [dmRNA_dt, dprotein_dt]\n",
        "\n",
        "# Parameters\n",
        "alpha = 1.0  # Transcription rate\n",
        "beta = 0.5   # Degradation rate\n",
        "\n",
        "# Initial conditions: [mRNA, protein]\n",
        "y0 = [0, 0]\n",
        "\n",
        "# Time points for simulation\n",
        "t = np.linspace(0, 50, 1000)\n",
        "\n",
        "# Solve the differential equations\n",
        "solution = odeint(gene_expression, y0, t, args=(alpha, beta))\n",
        "\n",
        "# Plot the results\n",
        "plt.plot(t, solution[:, 0], label='mRNA')\n",
        "plt.plot(t, solution[:, 1], label='Protein')\n",
        "plt.title(\"Gene Expression Dynamics\")\n",
        "plt.xlabel(\"Time\")\n",
        "plt.ylabel(\"Concentration\")\n",
        "plt.legend()\n",
        "plt.grid(True)\n",
        "plt.show()"
      ]
    }
  ]
}