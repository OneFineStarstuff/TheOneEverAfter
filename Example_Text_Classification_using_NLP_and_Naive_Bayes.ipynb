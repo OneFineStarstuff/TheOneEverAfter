{
  "nbformat": 4,
  "nbformat_minor": 0,
  "metadata": {
    "colab": {
      "private_outputs": true,
      "provenance": [],
      "authorship_tag": "ABX9TyPcwd5fkDVuBSm7a7S6jpN4",
      "include_colab_link": true
    },
    "kernelspec": {
      "name": "python3",
      "display_name": "Python 3"
    },
    "language_info": {
      "name": "python"
    }
  },
  "cells": [
    {
      "cell_type": "markdown",
      "metadata": {
        "id": "view-in-github",
        "colab_type": "text"
      },
      "source": [
        "<a href=\"https://colab.research.google.com/github/OneFineStarstuff/OneFineStarstuff/blob/main/Example_Text_Classification_using_NLP_and_Naive_Bayes.ipynb\" target=\"_parent\"><img src=\"https://colab.research.google.com/assets/colab-badge.svg\" alt=\"Open In Colab\"/></a>"
      ]
    },
    {
      "cell_type": "code",
      "execution_count": null,
      "metadata": {
        "id": "oyPZ63pHMG3P"
      },
      "outputs": [],
      "source": [
        "from sklearn.feature_extraction.text import CountVectorizer\n",
        "from sklearn.naive_bayes import MultinomialNB\n",
        "\n",
        "# Sample text data\n",
        "texts = [\"I love studying STEM subjects\",\n",
        "         \"Math and Science are my favorites\",\n",
        "         \"I enjoy learning Python programming\",\n",
        "         \"History and arts are not as interesting\"]\n",
        "\n",
        "# Labels (1: STEM-related, 0: not STEM-related)\n",
        "labels = [1, 1, 1, 0]\n",
        "\n",
        "# Convert text data to feature vectors\n",
        "vectorizer = CountVectorizer()\n",
        "X = vectorizer.fit_transform(texts)\n",
        "\n",
        "# Train a Naive Bayes classifier\n",
        "model = MultinomialNB()\n",
        "model.fit(X, labels)\n",
        "\n",
        "# Test the classifier with a new sentence\n",
        "test_sentence = [\"Python is an amazing programming language for data analysis\"]\n",
        "test_vector = vectorizer.transform(test_sentence)\n",
        "prediction = model.predict(test_vector)\n",
        "print(f\"Prediction: {'STEM-related' if prediction[0] == 1 else 'Not STEM-related'}\")"
      ]
    }
  ]
}