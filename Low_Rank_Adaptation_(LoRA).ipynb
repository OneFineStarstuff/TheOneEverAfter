{
  "nbformat": 4,
  "nbformat_minor": 0,
  "metadata": {
    "colab": {
      "private_outputs": true,
      "provenance": [],
      "authorship_tag": "ABX9TyOft2UNnzRsInTFZWPGjZDO",
      "include_colab_link": true
    },
    "kernelspec": {
      "name": "python3",
      "display_name": "Python 3"
    },
    "language_info": {
      "name": "python"
    }
  },
  "cells": [
    {
      "cell_type": "markdown",
      "metadata": {
        "id": "view-in-github",
        "colab_type": "text"
      },
      "source": [
        "<a href=\"https://colab.research.google.com/github/OneFineStarstuff/OneFineStarstuff/blob/main/Low_Rank_Adaptation_(LoRA).ipynb\" target=\"_parent\"><img src=\"https://colab.research.google.com/assets/colab-badge.svg\" alt=\"Open In Colab\"/></a>"
      ]
    },
    {
      "cell_type": "code",
      "execution_count": null,
      "metadata": {
        "id": "IjRXCBR5FKc0"
      },
      "outputs": [],
      "source": [
        "import torch\n",
        "import torch.nn as nn\n",
        "from transformers import AutoModel, AutoTokenizer\n",
        "\n",
        "class LoRALayer(nn.Module):\n",
        "    def __init__(self, in_features, out_features, rank=4):\n",
        "        super(LoRALayer, self).__init__()\n",
        "        self.lora_A = nn.Parameter(torch.randn(in_features, rank))\n",
        "        self.lora_B = nn.Parameter(torch.randn(rank, out_features))\n",
        "        self.scale = 0.1\n",
        "\n",
        "    def forward(self, x):\n",
        "        return x + self.scale * (x @ self.lora_A @ self.lora_B)\n",
        "\n",
        "class LoRAFoundationModel(nn.Module):\n",
        "    def __init__(self, model):\n",
        "        super(LoRAFoundationModel, self).__init__()\n",
        "        self.model = model\n",
        "        self.lora_layer = LoRALayer(in_features=768, out_features=768)\n",
        "\n",
        "    def forward(self, input_ids, attention_mask=None):\n",
        "        # Extract the last hidden state from the model output\n",
        "        outputs = self.model(input_ids=input_ids, attention_mask=attention_mask)\n",
        "        hidden_state = outputs.last_hidden_state  # Extracting the actual tensor data\n",
        "        lora_output = self.lora_layer(hidden_state)\n",
        "        return lora_output\n",
        "\n",
        "# Example usage\n",
        "# Load a pre-trained transformer model from Hugging Face\n",
        "base_model = AutoModel.from_pretrained(\"bert-base-uncased\")\n",
        "tokenizer = AutoTokenizer.from_pretrained(\"bert-base-uncased\")\n",
        "\n",
        "# Initialize the LoRAFoundationModel with the base model\n",
        "lora_model = LoRAFoundationModel(base_model)\n",
        "\n",
        "# Create a dummy input\n",
        "input_text = \"This is an example sentence.\"\n",
        "inputs = tokenizer(input_text, return_tensors=\"pt\")\n",
        "\n",
        "# Forward pass through the LoRAFoundationModel\n",
        "outputs = lora_model(inputs[\"input_ids\"], inputs[\"attention_mask\"])\n",
        "print(outputs)"
      ]
    }
  ]
}