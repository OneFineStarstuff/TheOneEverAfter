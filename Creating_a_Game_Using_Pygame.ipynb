{
  "nbformat": 4,
  "nbformat_minor": 0,
  "metadata": {
    "colab": {
      "private_outputs": true,
      "provenance": [],
      "authorship_tag": "ABX9TyPNZ5fHE8zfzp8xybyrzmPU",
      "include_colab_link": true
    },
    "kernelspec": {
      "name": "python3",
      "display_name": "Python 3"
    },
    "language_info": {
      "name": "python"
    }
  },
  "cells": [
    {
      "cell_type": "markdown",
      "metadata": {
        "id": "view-in-github",
        "colab_type": "text"
      },
      "source": [
        "<a href=\"https://colab.research.google.com/github/OneFineStarstuff/OneFineStardust/blob/main/Creating_a_Game_Using_Pygame.ipynb\" target=\"_parent\"><img src=\"https://colab.research.google.com/assets/colab-badge.svg\" alt=\"Open In Colab\"/></a>"
      ]
    },
    {
      "cell_type": "code",
      "execution_count": null,
      "metadata": {
        "id": "P8pNEjrJfu7o"
      },
      "outputs": [],
      "source": [
        "import pygame\n",
        "\n",
        "# Initialize Pygame\n",
        "pygame.init()\n",
        "\n",
        "# Set up display parameters\n",
        "width, height = 800, 600\n",
        "screen = pygame.display.set_mode((width, height))\n",
        "pygame.display.set_caption('Simple Game')\n",
        "\n",
        "# Main game loop\n",
        "running = True\n",
        "while running:\n",
        "    for event in pygame.event.get():\n",
        "        if event.type == pygame.QUIT:\n",
        "            running = False\n",
        "\n",
        "    screen.fill((0, 0, 0))  # Fill screen with black color\n",
        "\n",
        "    # Game logic and drawing go here\n",
        "\n",
        "    pygame.display.flip()  # Update the display\n",
        "\n",
        "pygame.quit()"
      ]
    }
  ]
}