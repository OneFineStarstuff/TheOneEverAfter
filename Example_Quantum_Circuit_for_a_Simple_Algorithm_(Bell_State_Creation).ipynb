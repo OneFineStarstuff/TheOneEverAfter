{
  "nbformat": 4,
  "nbformat_minor": 0,
  "metadata": {
    "colab": {
      "private_outputs": true,
      "provenance": [],
      "authorship_tag": "ABX9TyNal1krovvfT+Wp7ARsyvZz",
      "include_colab_link": true
    },
    "kernelspec": {
      "name": "python3",
      "display_name": "Python 3"
    },
    "language_info": {
      "name": "python"
    }
  },
  "cells": [
    {
      "cell_type": "markdown",
      "metadata": {
        "id": "view-in-github",
        "colab_type": "text"
      },
      "source": [
        "<a href=\"https://colab.research.google.com/github/OneFineStarstuff/OneFineStarstuff/blob/main/Example_Quantum_Circuit_for_a_Simple_Algorithm_(Bell_State_Creation).ipynb\" target=\"_parent\"><img src=\"https://colab.research.google.com/assets/colab-badge.svg\" alt=\"Open In Colab\"/></a>"
      ]
    },
    {
      "cell_type": "code",
      "execution_count": null,
      "metadata": {
        "id": "5rTJ9EEuRa0j"
      },
      "outputs": [],
      "source": [
        "!pip install qiskit\n",
        "!pip install qiskit-aer"
      ]
    },
    {
      "cell_type": "code",
      "source": [
        "!pip install pylatexenc matplotlib"
      ],
      "metadata": {
        "id": "J035kbrgSwmt"
      },
      "execution_count": null,
      "outputs": []
    },
    {
      "cell_type": "code",
      "source": [
        "from qiskit import QuantumCircuit, transpile\n",
        "from qiskit.visualization import plot_histogram\n",
        "from qiskit_aer import AerSimulator\n",
        "\n",
        "# Create a quantum circuit with 2 qubits\n",
        "qc = QuantumCircuit(2)\n",
        "\n",
        "# Apply a Hadamard gate on the first qubit\n",
        "qc.h(0)\n",
        "\n",
        "# Apply a CNOT gate (controlled-NOT) with the first qubit controlling the second\n",
        "qc.cx(0, 1)\n",
        "\n",
        "# Measure the qubits\n",
        "qc.measure_all()\n",
        "\n",
        "# Draw the circuit\n",
        "qc.draw(output='mpl')\n",
        "\n",
        "# Simulate the quantum circuit\n",
        "simulator = AerSimulator()\n",
        "compiled_circuit = transpile(qc, simulator)\n",
        "result = simulator.run(compiled_circuit).result()\n",
        "\n",
        "# Get the result of the measurement\n",
        "counts = result.get_counts(qc)\n",
        "print(\"Measurement Results:\", counts)\n",
        "\n",
        "# Plot the results\n",
        "plot_histogram(counts)"
      ],
      "metadata": {
        "id": "h7jIj_qiSXMw"
      },
      "execution_count": null,
      "outputs": []
    },
    {
      "cell_type": "code",
      "source": [
        "!pip install qiskit\n",
        "!pip install qiskit-aer\n",
        "!pip install pylatexenc\n",
        "!pip install matplotlib"
      ],
      "metadata": {
        "id": "vRbEM4QhUnsP"
      },
      "execution_count": null,
      "outputs": []
    },
    {
      "cell_type": "code",
      "source": [
        "import importlib.util\n",
        "\n",
        "# Check if pylatexenc is installed\n",
        "if importlib.util.find_spec(\"pylatexenc\") is None:\n",
        "    print(\"pylatexenc is not installed.\")\n",
        "else:\n",
        "    print(\"pylatexenc is installed.\")\n",
        "\n",
        "# Check if matplotlib is installed\n",
        "if importlib.util.find_spec(\"matplotlib\") is None:\n",
        "    print(\"matplotlib is not installed.\")\n",
        "else:\n",
        "    print(\"matplotlib is installed.\")"
      ],
      "metadata": {
        "id": "0L5ljCVEUp5v"
      },
      "execution_count": null,
      "outputs": []
    },
    {
      "cell_type": "code",
      "source": [
        "from qiskit import QuantumCircuit, transpile\n",
        "from qiskit.visualization import plot_histogram\n",
        "from qiskit_aer import AerSimulator\n",
        "\n",
        "# Create a quantum circuit with 2 qubits\n",
        "qc = QuantumCircuit(2)\n",
        "\n",
        "# Apply a Hadamard gate on the first qubit\n",
        "qc.h(0)\n",
        "\n",
        "# Apply a CNOT gate (controlled-NOT) with the first qubit controlling the second\n",
        "qc.cx(0, 1)\n",
        "\n",
        "# Measure the qubits\n",
        "qc.measure_all()\n",
        "\n",
        "# Draw the circuit\n",
        "qc.draw(output='mpl')\n",
        "\n",
        "# Simulate the quantum circuit\n",
        "simulator = AerSimulator()\n",
        "compiled_circuit = transpile(qc, simulator)\n",
        "result = simulator.run(compiled_circuit).result()\n",
        "\n",
        "# Get the result of the measurement\n",
        "counts = result.get_counts(qc)\n",
        "print(\"Measurement Results:\", counts)\n",
        "\n",
        "# Plot the results\n",
        "plot_histogram(counts)"
      ],
      "metadata": {
        "id": "v8Ob5gQeU9DT"
      },
      "execution_count": null,
      "outputs": []
    }
  ]
}