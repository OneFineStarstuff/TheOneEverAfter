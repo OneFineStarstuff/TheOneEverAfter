{
  "nbformat": 4,
  "nbformat_minor": 0,
  "metadata": {
    "colab": {
      "private_outputs": true,
      "provenance": [],
      "authorship_tag": "ABX9TyNA01Htro3QIY3p8ieXQXq8",
      "include_colab_link": true
    },
    "kernelspec": {
      "name": "python3",
      "display_name": "Python 3"
    },
    "language_info": {
      "name": "python"
    }
  },
  "cells": [
    {
      "cell_type": "markdown",
      "metadata": {
        "id": "view-in-github",
        "colab_type": "text"
      },
      "source": [
        "<a href=\"https://colab.research.google.com/github/OneFineStarstuff/OneFineStardust/blob/main/Simulating_Particle_Motion_in_Physics_Using_NumPy.ipynb\" target=\"_parent\"><img src=\"https://colab.research.google.com/assets/colab-badge.svg\" alt=\"Open In Colab\"/></a>"
      ]
    },
    {
      "cell_type": "code",
      "execution_count": null,
      "metadata": {
        "id": "NPCiTR_NDA_8"
      },
      "outputs": [],
      "source": [
        "import numpy as np\n",
        "import matplotlib.pyplot as plt\n",
        "\n",
        "# Simulation parameters\n",
        "num_particles=1000\n",
        "time_steps=100\n",
        "\n",
        "positions=np.zeros((num_particles ,time_steps))\n",
        "velocities=np.random.rand(num_particles) * 10\n",
        "\n",
        "for t in range(1,time_steps):\n",
        " for i in range(num_particles):\n",
        "  positions[i,t]=positions[i,t-1]+velocities[i]\n",
        "\n",
        "plt.figure(figsize=(10 ,6))\n",
        "for i in range(num_particles):\n",
        " plt.plot(range(time_steps),positions[i,:])\n",
        "\n",
        "plt.title('Particle Motion Simulation')\n",
        "plt.xlabel('Time Steps')\n",
        "plt.ylabel('Position')\n",
        "plt.show()"
      ]
    }
  ]
}