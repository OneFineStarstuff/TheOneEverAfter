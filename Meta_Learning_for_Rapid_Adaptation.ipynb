{
  "nbformat": 4,
  "nbformat_minor": 0,
  "metadata": {
    "colab": {
      "private_outputs": true,
      "provenance": [],
      "authorship_tag": "ABX9TyMQgPtQApppTUBYi8D1bf+w",
      "include_colab_link": true
    },
    "kernelspec": {
      "name": "python3",
      "display_name": "Python 3"
    },
    "language_info": {
      "name": "python"
    }
  },
  "cells": [
    {
      "cell_type": "markdown",
      "metadata": {
        "id": "view-in-github",
        "colab_type": "text"
      },
      "source": [
        "<a href=\"https://colab.research.google.com/github/OneFineStarstuff/OneFineStarstuff/blob/main/Meta_Learning_for_Rapid_Adaptation.ipynb\" target=\"_parent\"><img src=\"https://colab.research.google.com/assets/colab-badge.svg\" alt=\"Open In Colab\"/></a>"
      ]
    },
    {
      "cell_type": "code",
      "source": [
        "python -m venv myenv\n",
        "source myenv/bin/activate  # On Windows, use `myenv\\Scripts\\activate`"
      ],
      "metadata": {
        "id": "6BPa7_c8mYfD"
      },
      "execution_count": null,
      "outputs": []
    },
    {
      "cell_type": "code",
      "source": [
        "pip install torch==1.9.0"
      ],
      "metadata": {
        "id": "RjXKrBw_nED6"
      },
      "execution_count": null,
      "outputs": []
    },
    {
      "cell_type": "code",
      "source": [
        "pip install torchmeta"
      ],
      "metadata": {
        "id": "KgjZNRWlnHZl"
      },
      "execution_count": null,
      "outputs": []
    },
    {
      "cell_type": "code",
      "source": [
        "!pip install torch==1.9.0\n",
        "!pip install torchmeta"
      ],
      "metadata": {
        "id": "HCdrDgs_nRGM"
      },
      "execution_count": null,
      "outputs": []
    },
    {
      "cell_type": "code",
      "execution_count": null,
      "metadata": {
        "id": "UWmWNPHqmLGx"
      },
      "outputs": [],
      "source": [
        "from torchmeta.datasets.helpers import omniglot\n",
        "from torchmeta.utils.data import BatchMetaDataLoader\n",
        "from torchmeta.modules import MetaModule, MetaSequential\n",
        "import torch\n",
        "import torch.nn as nn\n",
        "import torch.nn.functional as F\n",
        "import torch.optim as optim\n",
        "\n",
        "# Define a meta-learning compatible network\n",
        "class MetaModel(MetaModule):\n",
        "    def __init__(self, input_dim, output_dim):\n",
        "        super(MetaModel, self).__init__()\n",
        "        self.net = MetaSequential(\n",
        "            nn.Linear(input_dim, 64),\n",
        "            nn.ReLU(),\n",
        "            nn.Linear(64, output_dim)\n",
        "        )\n",
        "\n",
        "    def forward(self, x):\n",
        "        return self.net(x)\n",
        "\n",
        "# Train on few-shot tasks using meta-learning techniques\n",
        "dataset = omniglot(\"data\", ways=5, shots=1, test_shots=15, meta_train=True, download=True)\n",
        "meta_loader = BatchMetaDataLoader(dataset, batch_size=16, num_workers=4)\n",
        "\n",
        "model = MetaModel(input_dim=28*28, output_dim=5)\n",
        "optimizer = optim.Adam(model.parameters(), lr=0.001)\n",
        "\n",
        "for batch in meta_loader:\n",
        "    model.zero_grad()\n",
        "    train_inputs, train_targets = batch[\"train\"]\n",
        "    test_inputs, test_targets = batch[\"test\"]\n",
        "\n",
        "    # Meta-training step\n",
        "    train_loss = F.cross_entropy(model(train_inputs), train_targets)\n",
        "    train_loss.backward()\n",
        "    optimizer.step()\n",
        "\n",
        "    # Meta-testing step\n",
        "    with torch.no_grad():\n",
        "        test_loss = F.cross_entropy(model(test_inputs), test_targets)\n",
        "        print(f\"Meta-test loss: {test_loss.item()}\")"
      ]
    }
  ]
}