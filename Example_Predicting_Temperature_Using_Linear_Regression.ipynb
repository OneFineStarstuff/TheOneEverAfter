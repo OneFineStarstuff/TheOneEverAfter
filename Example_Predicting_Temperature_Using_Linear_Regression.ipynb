{
  "nbformat": 4,
  "nbformat_minor": 0,
  "metadata": {
    "colab": {
      "private_outputs": true,
      "provenance": [],
      "authorship_tag": "ABX9TyPVAOTEdCVPwlYct/E4EPS4",
      "include_colab_link": true
    },
    "kernelspec": {
      "name": "python3",
      "display_name": "Python 3"
    },
    "language_info": {
      "name": "python"
    }
  },
  "cells": [
    {
      "cell_type": "markdown",
      "metadata": {
        "id": "view-in-github",
        "colab_type": "text"
      },
      "source": [
        "<a href=\"https://colab.research.google.com/github/OneFineStarstuff/OneFineStarstuff/blob/main/Example_Predicting_Temperature_Using_Linear_Regression.ipynb\" target=\"_parent\"><img src=\"https://colab.research.google.com/assets/colab-badge.svg\" alt=\"Open In Colab\"/></a>"
      ]
    },
    {
      "cell_type": "code",
      "execution_count": null,
      "metadata": {
        "id": "CRoVbCQNK0pU"
      },
      "outputs": [],
      "source": [
        "import pandas as pd\n",
        "from sklearn.linear_model import LinearRegression\n",
        "import matplotlib.pyplot as plt\n",
        "\n",
        "# Load dataset (hypothetical weather data)\n",
        "data = pd.DataFrame({\n",
        "    'day': [1, 2, 3, 4, 5, 6, 7],\n",
        "    'temperature': [30, 32, 34, 31, 33, 35, 36]\n",
        "})\n",
        "\n",
        "# Prepare the data\n",
        "X = data['day'].values.reshape(-1, 1)\n",
        "y = data['temperature'].values\n",
        "\n",
        "# Train a linear regression model\n",
        "model = LinearRegression()\n",
        "model.fit(X, y)\n",
        "\n",
        "# Make predictions\n",
        "predictions = model.predict(X)\n",
        "\n",
        "# Plot the results\n",
        "plt.scatter(X, y, color='blue', label='Actual')\n",
        "plt.plot(X, predictions, color='red', label='Predicted')\n",
        "plt.title(\"Temperature Prediction\")\n",
        "plt.xlabel(\"Day\")\n",
        "plt.ylabel(\"Temperature (°C)\")\n",
        "plt.legend()\n",
        "plt.show()"
      ]
    }
  ]
}