{
  "nbformat": 4,
  "nbformat_minor": 0,
  "metadata": {
    "colab": {
      "private_outputs": true,
      "provenance": [],
      "authorship_tag": "ABX9TyMMX8WACQGd6+/ZKHFv+ran",
      "include_colab_link": true
    },
    "kernelspec": {
      "name": "python3",
      "display_name": "Python 3"
    },
    "language_info": {
      "name": "python"
    }
  },
  "cells": [
    {
      "cell_type": "markdown",
      "metadata": {
        "id": "view-in-github",
        "colab_type": "text"
      },
      "source": [
        "<a href=\"https://colab.research.google.com/github/OneFineStarstuff/OneFineStarstuff/blob/main/Example_Simulating_Solar_Power_Output.ipynb\" target=\"_parent\"><img src=\"https://colab.research.google.com/assets/colab-badge.svg\" alt=\"Open In Colab\"/></a>"
      ]
    },
    {
      "cell_type": "code",
      "execution_count": null,
      "metadata": {
        "id": "Xy0aVdyExkS0"
      },
      "outputs": [],
      "source": [
        "import numpy as np\n",
        "import matplotlib.pyplot as plt\n",
        "\n",
        "# Parameters for the solar panel (example values)\n",
        "panel_area = 10  # m^2\n",
        "efficiency = 0.15  # 15% efficiency\n",
        "solar_irradiance = 1000  # W/m^2 (constant for simplicity)\n",
        "hours_of_sunlight = np.linspace(0, 24, 100)\n",
        "\n",
        "# Calculate the power output (kW)\n",
        "power_output = panel_area * efficiency * solar_irradiance * np.sin(np.pi * hours_of_sunlight / 24)\n",
        "\n",
        "# Plot the solar power output over the day\n",
        "plt.plot(hours_of_sunlight, power_output)\n",
        "plt.title('Solar Power Output Over a Day')\n",
        "plt.xlabel('Time (hours)')\n",
        "plt.ylabel('Power Output (kW)')\n",
        "plt.grid(True)\n",
        "plt.show()"
      ]
    }
  ]
}