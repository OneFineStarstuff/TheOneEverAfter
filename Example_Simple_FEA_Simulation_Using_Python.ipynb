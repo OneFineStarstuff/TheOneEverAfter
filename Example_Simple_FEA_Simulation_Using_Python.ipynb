{
  "nbformat": 4,
  "nbformat_minor": 0,
  "metadata": {
    "colab": {
      "private_outputs": true,
      "provenance": [],
      "authorship_tag": "ABX9TyOrSyVZt/CugDmKK7wylRPJ",
      "include_colab_link": true
    },
    "kernelspec": {
      "name": "python3",
      "display_name": "Python 3"
    },
    "language_info": {
      "name": "python"
    }
  },
  "cells": [
    {
      "cell_type": "markdown",
      "metadata": {
        "id": "view-in-github",
        "colab_type": "text"
      },
      "source": [
        "<a href=\"https://colab.research.google.com/github/OneFineStarstuff/OneFineStardust/blob/main/Example_Simple_FEA_Simulation_Using_Python.ipynb\" target=\"_parent\"><img src=\"https://colab.research.google.com/assets/colab-badge.svg\" alt=\"Open In Colab\"/></a>"
      ]
    },
    {
      "cell_type": "code",
      "execution_count": null,
      "metadata": {
        "id": "715fbDVNWWE4"
      },
      "outputs": [],
      "source": [
        "import numpy as np\n",
        "import matplotlib.pyplot as plt\n",
        "\n",
        "# Define parameters for a 1D bar element\n",
        "length = 10.0  # Length of the bar\n",
        "num_elements = 10\n",
        "num_nodes = num_elements + 1\n",
        "E = 210e9  # Young's modulus (Pa)\n",
        "A = 0.01   # Cross-sectional area (m^2)\n",
        "\n",
        "# Create stiffness matrix\n",
        "K = np.zeros((num_nodes, num_nodes))\n",
        "for i in range(num_elements):\n",
        "    k = E * A / (length / num_elements) * np.array([[1, -1], [-1, 1]])\n",
        "    K[i:i+2, i:i+2] += k\n",
        "\n",
        "# Apply boundary conditions (fixed at node 0)\n",
        "K_reduced = K[1:, 1:]\n",
        "\n",
        "# Apply load (N)\n",
        "F = np.zeros(num_nodes)\n",
        "F[-1] = 1000  # Load at the last node\n",
        "\n",
        "# Solve for displacements\n",
        "u = np.zeros(num_nodes)\n",
        "u[1:] = np.linalg.solve(K_reduced, F[1:])\n",
        "\n",
        "# Plotting results\n",
        "plt.plot(range(num_nodes), u, marker='o')\n",
        "plt.title('Node Displacements in FEA')\n",
        "plt.xlabel('Node Number')\n",
        "plt.ylabel('Displacement (m)')\n",
        "plt.grid(True)\n",
        "plt.show()"
      ]
    }
  ]
}