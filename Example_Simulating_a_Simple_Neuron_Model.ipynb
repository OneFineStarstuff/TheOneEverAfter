{
  "nbformat": 4,
  "nbformat_minor": 0,
  "metadata": {
    "colab": {
      "private_outputs": true,
      "provenance": [],
      "authorship_tag": "ABX9TyORfDk68/4+KSnQw58Tq+yb",
      "include_colab_link": true
    },
    "kernelspec": {
      "name": "python3",
      "display_name": "Python 3"
    },
    "language_info": {
      "name": "python"
    }
  },
  "cells": [
    {
      "cell_type": "markdown",
      "metadata": {
        "id": "view-in-github",
        "colab_type": "text"
      },
      "source": [
        "<a href=\"https://colab.research.google.com/github/OneFineStarstuff/OneFineStarstuff/blob/main/Example_Simulating_a_Simple_Neuron_Model.ipynb\" target=\"_parent\"><img src=\"https://colab.research.google.com/assets/colab-badge.svg\" alt=\"Open In Colab\"/></a>"
      ]
    },
    {
      "cell_type": "code",
      "execution_count": null,
      "metadata": {
        "id": "g6QPQIlBeVn3"
      },
      "outputs": [],
      "source": [
        "import nest\n",
        "import matplotlib.pyplot as plt\n",
        "\n",
        "# Reset the NEST simulation kernel\n",
        "nest.ResetKernel()\n",
        "\n",
        "# Create a neuron (using the integrate-and-fire neuron model)\n",
        "neuron = nest.Create('iaf_psc_alpha')\n",
        "\n",
        "# Create a spike generator and a spike recorder\n",
        "spike_generator = nest.Create('spike_generator', params={'spike_times': [10.0, 50.0, 90.0]})\n",
        "spike_recorder = nest.Create('spike_recorder')\n",
        "\n",
        "# Connect the spike generator to the neuron, and the neuron to the spike recorder\n",
        "nest.Connect(spike_generator, neuron)\n",
        "nest.Connect(neuron, spike_recorder)\n",
        "\n",
        "# Simulate the network for 100 ms\n",
        "nest.Simulate(100.0)\n",
        "\n",
        "# Get the recorded spike times\n",
        "events = nest.GetStatus(spike_recorder, 'events')[0]\n",
        "spike_times = events['times']\n",
        "print(f\"Neuron Spike Times: {spike_times}\")\n",
        "\n",
        "# Optional: Plot the spike times\n",
        "plt.plot(spike_times, np.ones_like(spike_times), 'o')\n",
        "plt.xlabel('Time (ms)')\n",
        "plt.ylabel('Spike')\n",
        "plt.title('Neuron Spike Times')\n",
        "plt.show()"
      ]
    }
  ]
}