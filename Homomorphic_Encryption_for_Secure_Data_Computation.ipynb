{
  "nbformat": 4,
  "nbformat_minor": 0,
  "metadata": {
    "colab": {
      "private_outputs": true,
      "provenance": [],
      "authorship_tag": "ABX9TyNzf3xy4DQ5Ls91obgh6Zlz",
      "include_colab_link": true
    },
    "kernelspec": {
      "name": "python3",
      "display_name": "Python 3"
    },
    "language_info": {
      "name": "python"
    }
  },
  "cells": [
    {
      "cell_type": "markdown",
      "metadata": {
        "id": "view-in-github",
        "colab_type": "text"
      },
      "source": [
        "<a href=\"https://colab.research.google.com/github/OneFineStarstuff/OneFineStarstuff/blob/main/Homomorphic_Encryption_for_Secure_Data_Computation.ipynb\" target=\"_parent\"><img src=\"https://colab.research.google.com/assets/colab-badge.svg\" alt=\"Open In Colab\"/></a>"
      ]
    },
    {
      "cell_type": "code",
      "source": [
        "pip install tenseal"
      ],
      "metadata": {
        "id": "0OsOhAw3ggcv"
      },
      "execution_count": null,
      "outputs": []
    },
    {
      "cell_type": "code",
      "execution_count": null,
      "metadata": {
        "id": "GAVNtfa-gQRu"
      },
      "outputs": [],
      "source": [
        "import tenseal as ts\n",
        "\n",
        "# Initialize homomorphic encryption parameters\n",
        "context = ts.context(\n",
        "    ts.SCHEME_TYPE.CKKS,\n",
        "    poly_modulus_degree=8192,\n",
        "    coeff_mod_bit_sizes=[60, 40, 40, 60]\n",
        ")\n",
        "context.global_scale = 2**40\n",
        "context.generate_galois_keys()\n",
        "\n",
        "# Encode and encrypt data\n",
        "data = [1.0, 2.0, 3.0, 4.0]  # Example data\n",
        "plain_vector = ts.plain_tensor(data)\n",
        "encrypted_vector = ts.ckks_tensor(context, plain_vector)\n",
        "\n",
        "# Decrypt and decode data to verify\n",
        "decrypted_vector = encrypted_vector.decrypt()\n",
        "decoded_data = decrypted_vector.tolist()\n",
        "\n",
        "print(\"Original data:\", data)\n",
        "print(\"Decoded data:\", decoded_data)"
      ]
    }
  ]
}