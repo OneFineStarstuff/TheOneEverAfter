{
  "nbformat": 4,
  "nbformat_minor": 0,
  "metadata": {
    "colab": {
      "private_outputs": true,
      "provenance": [],
      "authorship_tag": "ABX9TyPNfw56ksFptcY8eJWW7bwo",
      "include_colab_link": true
    },
    "kernelspec": {
      "name": "python3",
      "display_name": "Python 3"
    },
    "language_info": {
      "name": "python"
    }
  },
  "cells": [
    {
      "cell_type": "markdown",
      "metadata": {
        "id": "view-in-github",
        "colab_type": "text"
      },
      "source": [
        "<a href=\"https://colab.research.google.com/github/OneFineStarstuff/OneFineStarstuff/blob/main/Example_Performing_Data_Analysis_on_a_Large_Dataset_using_PySpark.ipynb\" target=\"_parent\"><img src=\"https://colab.research.google.com/assets/colab-badge.svg\" alt=\"Open In Colab\"/></a>"
      ]
    },
    {
      "cell_type": "code",
      "execution_count": null,
      "metadata": {
        "id": "wxoJUXGWjJHi"
      },
      "outputs": [],
      "source": [
        "from pyspark.sql import SparkSession\n",
        "from pyspark.sql.functions import col, avg\n",
        "\n",
        "# Initialize a Spark session\n",
        "spark = SparkSession.builder.appName('BigDataExample').getOrCreate()\n",
        "\n",
        "# Load a large dataset (e.g., CSV file)\n",
        "df = spark.read.csv('large_dataset.csv', header=True, inferSchema=True)\n",
        "\n",
        "# Show the schema of the dataset\n",
        "df.printSchema()\n",
        "\n",
        "# Basic Data Analysis: Compute the average of a column\n",
        "average_value = df.select(avg(col('column_name'))).collect()[0][0]\n",
        "print(f\"Average Value: {average_value}\")\n",
        "\n",
        "# Perform a filtering operation on the dataset\n",
        "filtered_df = df.filter(col('column_name') > 50)\n",
        "\n",
        "# Show the results\n",
        "filtered_df.show()\n",
        "\n",
        "# Stop the Spark session\n",
        "spark.stop()"
      ]
    }
  ]
}