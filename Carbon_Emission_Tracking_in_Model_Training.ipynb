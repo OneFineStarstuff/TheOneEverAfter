{
  "nbformat": 4,
  "nbformat_minor": 0,
  "metadata": {
    "colab": {
      "private_outputs": true,
      "provenance": [],
      "authorship_tag": "ABX9TyMcbEd6BHUYc32BfaeECKjc",
      "include_colab_link": true
    },
    "kernelspec": {
      "name": "python3",
      "display_name": "Python 3"
    },
    "language_info": {
      "name": "python"
    }
  },
  "cells": [
    {
      "cell_type": "markdown",
      "metadata": {
        "id": "view-in-github",
        "colab_type": "text"
      },
      "source": [
        "<a href=\"https://colab.research.google.com/github/OneFineStarstuff/OneFineStarstuff/blob/main/Carbon_Emission_Tracking_in_Model_Training.ipynb\" target=\"_parent\"><img src=\"https://colab.research.google.com/assets/colab-badge.svg\" alt=\"Open In Colab\"/></a>"
      ]
    },
    {
      "cell_type": "code",
      "execution_count": null,
      "metadata": {
        "id": "teBi7VTNtIDE"
      },
      "outputs": [],
      "source": [
        "pip install codecarbon"
      ]
    },
    {
      "cell_type": "code",
      "source": [
        "from codecarbon import EmissionsTracker\n",
        "import time\n",
        "\n",
        "# Initialize EmissionsTracker\n",
        "tracker = EmissionsTracker()\n",
        "\n",
        "# Start tracking emissions\n",
        "tracker.start()\n",
        "\n",
        "# Dummy model training code (replace this with your actual model training code)\n",
        "for epoch in range(3):  # Example with 3 epochs\n",
        "    # Simulate model training with sleep\n",
        "    time.sleep(2)\n",
        "    print(f\"Epoch {epoch+1} completed.\")\n",
        "\n",
        "# Stop tracking emissions\n",
        "tracker.stop()\n",
        "\n",
        "# Print estimated CO2 emissions\n",
        "print(f\"Estimated CO2 emissions: {tracker.final_emissions} kg\")"
      ],
      "metadata": {
        "id": "sltA0tFztYLQ"
      },
      "execution_count": null,
      "outputs": []
    }
  ]
}