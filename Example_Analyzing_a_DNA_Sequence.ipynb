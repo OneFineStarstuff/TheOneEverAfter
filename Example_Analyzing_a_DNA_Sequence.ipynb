{
  "nbformat": 4,
  "nbformat_minor": 0,
  "metadata": {
    "colab": {
      "private_outputs": true,
      "provenance": [],
      "authorship_tag": "ABX9TyO0FqVSR06tFr00sgRru+rP",
      "include_colab_link": true
    },
    "kernelspec": {
      "name": "python3",
      "display_name": "Python 3"
    },
    "language_info": {
      "name": "python"
    }
  },
  "cells": [
    {
      "cell_type": "markdown",
      "metadata": {
        "id": "view-in-github",
        "colab_type": "text"
      },
      "source": [
        "<a href=\"https://colab.research.google.com/github/OneFineStarstuff/OneFineStarstuff/blob/main/Example_Analyzing_a_DNA_Sequence.ipynb\" target=\"_parent\"><img src=\"https://colab.research.google.com/assets/colab-badge.svg\" alt=\"Open In Colab\"/></a>"
      ]
    },
    {
      "cell_type": "code",
      "source": [
        "pip install Bio"
      ],
      "metadata": {
        "id": "Cc9paGTkc3PC"
      },
      "execution_count": null,
      "outputs": []
    },
    {
      "cell_type": "code",
      "execution_count": null,
      "metadata": {
        "id": "v6L7TIIPcuYH"
      },
      "outputs": [],
      "source": [
        "from Bio.Seq import Seq\n",
        "\n",
        "# Create a DNA sequence\n",
        "dna_seq = Seq(\"ATGCGTACGTTAG\")\n",
        "\n",
        "# Transcribe DNA to mRNA\n",
        "mrna_seq = dna_seq.transcribe()\n",
        "print(f\"mRNA Sequence: {mrna_seq}\")\n",
        "\n",
        "# Translate mRNA to protein sequence\n",
        "protein_seq = mrna_seq.translate()\n",
        "print(f\"Protein Sequence: {protein_seq}\")\n",
        "\n",
        "# Find complement and reverse complement\n",
        "complement = dna_seq.complement()\n",
        "reverse_complement = dna_seq.reverse_complement()\n",
        "print(f\"Complement: {complement}\")\n",
        "print(f\"Reverse Complement: {reverse_complement}\")\n",
        "\n",
        "# Handling partial codons by adding trailing 'N' to complete the codon\n",
        "trimmed_dna_seq = Seq(\"ATGCGTACGTTAGN\")\n",
        "mrna_seq_trimmed = trimmed_dna_seq.transcribe()\n",
        "protein_seq_trimmed = mrna_seq_trimmed.translate()\n",
        "print(f\"Trimmed mRNA Sequence: {mrna_seq_trimmed}\")\n",
        "print(f\"Trimmed Protein Sequence: {protein_seq_trimmed}\")"
      ]
    }
  ]
}