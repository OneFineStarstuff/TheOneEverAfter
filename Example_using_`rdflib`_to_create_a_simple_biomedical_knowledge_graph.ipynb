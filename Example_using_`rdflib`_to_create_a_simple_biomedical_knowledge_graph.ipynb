{
  "nbformat": 4,
  "nbformat_minor": 0,
  "metadata": {
    "colab": {
      "private_outputs": true,
      "provenance": [],
      "authorship_tag": "ABX9TyPYjsmGWxkN9HVF5WhHThMl",
      "include_colab_link": true
    },
    "kernelspec": {
      "name": "python3",
      "display_name": "Python 3"
    },
    "language_info": {
      "name": "python"
    }
  },
  "cells": [
    {
      "cell_type": "markdown",
      "metadata": {
        "id": "view-in-github",
        "colab_type": "text"
      },
      "source": [
        "<a href=\"https://colab.research.google.com/github/OneFineStarstuff/OneFineStarstuff/blob/main/Example_using_%60rdflib%60_to_create_a_simple_biomedical_knowledge_graph.ipynb\" target=\"_parent\"><img src=\"https://colab.research.google.com/assets/colab-badge.svg\" alt=\"Open In Colab\"/></a>"
      ]
    },
    {
      "cell_type": "code",
      "execution_count": null,
      "metadata": {
        "id": "IAuhfanr-Kr7"
      },
      "outputs": [],
      "source": [
        "pip install rdflib biopython"
      ]
    },
    {
      "cell_type": "code",
      "source": [
        "from rdflib import Graph, Literal, RDF, URIRef, Namespace\n",
        "from rdflib.namespace import DC, FOAF\n",
        "\n",
        "# Function to simulate getting biomedical data (e.g., from literature)\n",
        "def get_biomedical_data():\n",
        "    # Example data: Replace with actual biomedical data extraction\n",
        "    return [\n",
        "        {\"drug\": \"DrugA\", \"target\": \"ProteinX\", \"effect\": \"Inhibits\"},\n",
        "        {\"drug\": \"DrugB\", \"target\": \"ProteinY\", \"effect\": \"Activates\"},\n",
        "        {\"drug\": \"DrugA\", \"target\": \"ProteinY\", \"effect\": \"Inhibits\"}\n",
        "    ]\n",
        "\n",
        "# Initialize a graph\n",
        "g = Graph()\n",
        "\n",
        "# Define a namespace for our biomedical entities\n",
        "n = Namespace(\"http://example.org/biomedical/\")\n",
        "\n",
        "# Bind a few prefix, namespace pairs for more readable output\n",
        "g.bind(\"dc\", DC)\n",
        "g.bind(\"foaf\", FOAF)\n",
        "g.bind(\"bio\", n)\n",
        "\n",
        "# Get biomedical data\n",
        "biomedical_data = get_biomedical_data()\n",
        "\n",
        "# Add data to the graph\n",
        "for entry in biomedical_data:\n",
        "    drug = URIRef(n[entry[\"drug\"]])\n",
        "    target = URIRef(n[entry[\"target\"]])\n",
        "    effect = Literal(entry[\"effect\"])\n",
        "\n",
        "    g.add((drug, n.targets, target))\n",
        "    g.add((drug, n.effect, effect))\n",
        "\n",
        "# Serialize the graph in RDF/XML format\n",
        "graph_data = g.serialize(format=\"xml\")\n",
        "\n",
        "print(\"Generated Knowledge Graph:\", graph_data)"
      ],
      "metadata": {
        "id": "V_oAjVYW-TcT"
      },
      "execution_count": null,
      "outputs": []
    }
  ]
}