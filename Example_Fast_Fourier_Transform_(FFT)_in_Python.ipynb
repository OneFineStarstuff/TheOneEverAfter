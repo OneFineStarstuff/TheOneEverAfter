{
  "nbformat": 4,
  "nbformat_minor": 0,
  "metadata": {
    "colab": {
      "private_outputs": true,
      "provenance": [],
      "authorship_tag": "ABX9TyMDTg3ToAOpA9Qfh6pmLRSO",
      "include_colab_link": true
    },
    "kernelspec": {
      "name": "python3",
      "display_name": "Python 3"
    },
    "language_info": {
      "name": "python"
    }
  },
  "cells": [
    {
      "cell_type": "markdown",
      "metadata": {
        "id": "view-in-github",
        "colab_type": "text"
      },
      "source": [
        "<a href=\"https://colab.research.google.com/github/OneFineStarstuff/OneFineStardust/blob/main/Example_Fast_Fourier_Transform_(FFT)_in_Python.ipynb\" target=\"_parent\"><img src=\"https://colab.research.google.com/assets/colab-badge.svg\" alt=\"Open In Colab\"/></a>"
      ]
    },
    {
      "cell_type": "code",
      "execution_count": null,
      "metadata": {
        "id": "D8YDxGJRK7Sy"
      },
      "outputs": [],
      "source": [
        "import numpy as np\n",
        "import matplotlib.pyplot as plt\n",
        "\n",
        "# Generate a sample signal\n",
        "Fs = 1000  # Sampling frequency\n",
        "t = np.arange(0, 1.0, 1/Fs)  # Time vector\n",
        "f1 = 50   # Frequency of the first sine wave\n",
        "f2 = 120  # Frequency of the second sine wave\n",
        "signal = np.sin(2 * np.pi * f1 * t) + np.sin(2 * np.pi * f2 * t)\n",
        "\n",
        "# Compute FFT\n",
        "fft_result = np.fft.fft(signal)\n",
        "frequencies = np.fft.fftfreq(len(fft_result), d=1/Fs)\n",
        "\n",
        "# Plotting the results\n",
        "plt.plot(frequencies[:len(frequencies)//2], np.abs(fft_result)[:len(fft_result)//2])\n",
        "plt.title('FFT of Sample Signal')\n",
        "plt.xlabel('Frequency (Hz)')\n",
        "plt.ylabel('Magnitude')\n",
        "plt.grid(True)\n",
        "plt.show()"
      ]
    }
  ]
}