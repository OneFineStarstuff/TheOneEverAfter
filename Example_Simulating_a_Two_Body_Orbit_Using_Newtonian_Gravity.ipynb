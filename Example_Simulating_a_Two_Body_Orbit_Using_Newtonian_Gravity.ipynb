{
  "nbformat": 4,
  "nbformat_minor": 0,
  "metadata": {
    "colab": {
      "private_outputs": true,
      "provenance": [],
      "authorship_tag": "ABX9TyO40otlCHsmOhyyilpyOsUD",
      "include_colab_link": true
    },
    "kernelspec": {
      "name": "python3",
      "display_name": "Python 3"
    },
    "language_info": {
      "name": "python"
    }
  },
  "cells": [
    {
      "cell_type": "markdown",
      "metadata": {
        "id": "view-in-github",
        "colab_type": "text"
      },
      "source": [
        "<a href=\"https://colab.research.google.com/github/OneFineStarstuff/OneFineStarstuff/blob/main/Example_Simulating_a_Two_Body_Orbit_Using_Newtonian_Gravity.ipynb\" target=\"_parent\"><img src=\"https://colab.research.google.com/assets/colab-badge.svg\" alt=\"Open In Colab\"/></a>"
      ]
    },
    {
      "cell_type": "code",
      "execution_count": null,
      "metadata": {
        "id": "JS3We_HPY9s-"
      },
      "outputs": [],
      "source": [
        "import numpy as np\n",
        "import matplotlib.pyplot as plt\n",
        "from scipy.integrate import odeint\n",
        "\n",
        "# Define constants\n",
        "G = 6.67430e-11  # Gravitational constant (m^3 kg^-1 s^-2)\n",
        "m1 = 5.972e24  # Mass of the Earth (kg)\n",
        "m2 = 7.348e22  # Mass of the Moon (kg)\n",
        "r0 = 3.844e8  # Initial distance between Earth and Moon (m)\n",
        "\n",
        "# Define the system of equations for the two-body problem\n",
        "def orbit_derivatives(y, t):\n",
        "    r = np.sqrt(y[0]**2 + y[1]**2)\n",
        "    ax = -G * m1 * y[0] / r**3\n",
        "    ay = -G * m1 * y[1] / r**3\n",
        "    return [y[2], y[3], ax, ay]\n",
        "\n",
        "# Initial conditions: position and velocity vectors\n",
        "y0 = [r0, 0, 0, 1022]  # Moon's initial position and velocity\n",
        "\n",
        "# Time array for simulation\n",
        "t = np.linspace(0, 27.3 * 24 * 3600, 1000)  # One lunar orbit (27.3 days)\n",
        "\n",
        "# Solve the equations of motion\n",
        "solution = odeint(orbit_derivatives, y0, t)\n",
        "\n",
        "# Plot the orbit of the Moon around the Earth\n",
        "plt.plot(solution[:, 0], solution[:, 1])\n",
        "plt.plot(0, 0, 'ro', label=\"Earth\")\n",
        "plt.title(\"Moon's Orbit Around the Earth\")\n",
        "plt.xlabel(\"x (m)\")\n",
        "plt.ylabel(\"y (m)\")\n",
        "plt.legend()\n",
        "plt.grid(True)\n",
        "plt.show()"
      ]
    }
  ]
}