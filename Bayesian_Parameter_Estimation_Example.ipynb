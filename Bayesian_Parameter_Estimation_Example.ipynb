{
  "nbformat": 4,
  "nbformat_minor": 0,
  "metadata": {
    "colab": {
      "private_outputs": true,
      "provenance": [],
      "authorship_tag": "ABX9TyMbiTbbb+ZhKLm/85O1WGuR",
      "include_colab_link": true
    },
    "kernelspec": {
      "name": "python3",
      "display_name": "Python 3"
    },
    "language_info": {
      "name": "python"
    }
  },
  "cells": [
    {
      "cell_type": "markdown",
      "metadata": {
        "id": "view-in-github",
        "colab_type": "text"
      },
      "source": [
        "<a href=\"https://colab.research.google.com/github/OneFineStarstuff/OneFineStardust/blob/main/Bayesian_Parameter_Estimation_Example.ipynb\" target=\"_parent\"><img src=\"https://colab.research.google.com/assets/colab-badge.svg\" alt=\"Open In Colab\"/></a>"
      ]
    },
    {
      "cell_type": "code",
      "execution_count": null,
      "metadata": {
        "id": "AKg0pM4TDIY_"
      },
      "outputs": [],
      "source": [
        "# Install pymc3 and its dependencies\n",
        "!pip install pymc3\n",
        "\n",
        "import pymc3 as pm\n",
        "import numpy as np\n",
        "\n",
        "# Simulated data: observed luminosity values with some noise\n",
        "observed_luminosity = np.random.normal(loc=10, scale=2, size=100)\n",
        "\n",
        "# Bayesian model setup\n",
        "with pm.Model() as model:\n",
        "    mu = pm.Normal('mu', mu=10, sigma=5)\n",
        "    sigma = pm.HalfNormal('sigma', sigma=1)\n",
        "\n",
        "    # Likelihood of the observed data\n",
        "    likelihood = pm.Normal('likelihood', mu=mu, sigma=sigma, observed=observed_luminosity)\n",
        "\n",
        "    # Inference using MCMC\n",
        "    trace = pm.sample(2000, tune=1000)\n",
        "\n",
        "# Summarizing the results\n",
        "pm.summary(trace).round(2)"
      ]
    }
  ]
}