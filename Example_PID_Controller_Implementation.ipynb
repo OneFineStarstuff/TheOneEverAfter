{
  "nbformat": 4,
  "nbformat_minor": 0,
  "metadata": {
    "colab": {
      "private_outputs": true,
      "provenance": [],
      "authorship_tag": "ABX9TyMxima5adCye92dbKXzfLER",
      "include_colab_link": true
    },
    "kernelspec": {
      "name": "python3",
      "display_name": "Python 3"
    },
    "language_info": {
      "name": "python"
    }
  },
  "cells": [
    {
      "cell_type": "markdown",
      "metadata": {
        "id": "view-in-github",
        "colab_type": "text"
      },
      "source": [
        "<a href=\"https://colab.research.google.com/github/OneFineStarstuff/OneFineStardust/blob/main/Example_PID_Controller_Implementation.ipynb\" target=\"_parent\"><img src=\"https://colab.research.google.com/assets/colab-badge.svg\" alt=\"Open In Colab\"/></a>"
      ]
    },
    {
      "cell_type": "code",
      "execution_count": null,
      "metadata": {
        "id": "u-epdGMdgezl"
      },
      "outputs": [],
      "source": [
        "import numpy as np\n",
        "import matplotlib.pyplot as plt\n",
        "\n",
        "# PID controller parameters\n",
        "Kp = 1.0  # Proportional gain\n",
        "Ki = 0.1  # Integral gain\n",
        "Kd = 0.05 # Derivative gain\n",
        "\n",
        "# Simulation parameters\n",
        "dt = 0.1   # Time step\n",
        "time = np.arange(0, 10, dt)\n",
        "setpoint = 1.0  # Desired value\n",
        "\n",
        "# Initialize variables\n",
        "output = np.zeros_like(time)\n",
        "integral = 0.0\n",
        "previous_error = 0.0\n",
        "\n",
        "for i in range(len(time)):\n",
        "    error = setpoint - output[i-1] if i > 0 else setpoint\n",
        "    integral += error * dt\n",
        "    derivative = (error - previous_error) / dt if i > 0 else 0.0\n",
        "\n",
        "    # PID output calculation\n",
        "    output[i] = Kp * error + Ki * integral + Kd * derivative\n",
        "\n",
        "    previous_error = error\n",
        "\n",
        "# Plotting the results\n",
        "plt.plot(time, output)\n",
        "plt.axhline(setpoint, color='r', linestyle='--', label='Setpoint')\n",
        "plt.title('PID Controller Response')\n",
        "plt.xlabel('Time (s)')\n",
        "plt.ylabel('Output')\n",
        "plt.legend()\n",
        "plt.grid(True)\n",
        "plt.show()"
      ]
    }
  ]
}