{
  "nbformat": 4,
  "nbformat_minor": 0,
  "metadata": {
    "colab": {
      "private_outputs": true,
      "provenance": [],
      "authorship_tag": "ABX9TyMX3K/6MQhJx9exXxsN/Kd9",
      "include_colab_link": true
    },
    "kernelspec": {
      "name": "python3",
      "display_name": "Python 3"
    },
    "language_info": {
      "name": "python"
    }
  },
  "cells": [
    {
      "cell_type": "markdown",
      "metadata": {
        "id": "view-in-github",
        "colab_type": "text"
      },
      "source": [
        "<a href=\"https://colab.research.google.com/github/OneFineStarstuff/OneFineStardust/blob/main/Example_Energy_Consumption_Analysis_for_Sustainability.ipynb\" target=\"_parent\"><img src=\"https://colab.research.google.com/assets/colab-badge.svg\" alt=\"Open In Colab\"/></a>"
      ]
    },
    {
      "cell_type": "code",
      "execution_count": null,
      "metadata": {
        "id": "QCrV40mCiWiT"
      },
      "outputs": [],
      "source": [
        "import pandas as pd\n",
        "import matplotlib.pyplot as plt\n",
        "\n",
        "# Simulated energy consumption data (in kWh) over a month for different appliances\n",
        "data = {\n",
        "    'Appliance': ['Lighting', 'Heating', 'Cooling', 'Refrigeration'],\n",
        "    'Energy_Consumption': [150, 300, 200, 250]\n",
        "}\n",
        "df_energy = pd.DataFrame(data)\n",
        "\n",
        "# Calculate total energy consumption and percentage share of each appliance\n",
        "total_consumption = df_energy['Energy_Consumption'].sum()\n",
        "df_energy['Percentage'] = (df_energy['Energy_Consumption'] / total_consumption) * 100\n",
        "\n",
        "print(df_energy)\n",
        "\n",
        "# Plotting energy consumption distribution\n",
        "df_energy.plot(x='Appliance', y='Energy_Consumption', kind='bar', legend=False)\n",
        "plt.title('Energy Consumption by Appliance')\n",
        "plt.ylabel('Energy Consumption (kWh)')\n",
        "plt.grid(axis='y')\n",
        "plt.show()"
      ]
    }
  ]
}