{
  "nbformat": 4,
  "nbformat_minor": 0,
  "metadata": {
    "colab": {
      "private_outputs": true,
      "provenance": [],
      "authorship_tag": "ABX9TyNIsZX4JjSkndiXpWd8/HnH",
      "include_colab_link": true
    },
    "kernelspec": {
      "name": "python3",
      "display_name": "Python 3"
    },
    "language_info": {
      "name": "python"
    }
  },
  "cells": [
    {
      "cell_type": "markdown",
      "metadata": {
        "id": "view-in-github",
        "colab_type": "text"
      },
      "source": [
        "<a href=\"https://colab.research.google.com/github/OneFineStarstuff/OneFineStardust/blob/main/Example_SLAM_Using_Python.ipynb\" target=\"_parent\"><img src=\"https://colab.research.google.com/assets/colab-badge.svg\" alt=\"Open In Colab\"/></a>"
      ]
    },
    {
      "cell_type": "code",
      "source": [
        "import numpy as np\n",
        "import matplotlib.pyplot as plt\n",
        "\n",
        "class ParticleFilter:\n",
        "    def __init__(self, num_particles):\n",
        "        self.num_particles = num_particles\n",
        "        self.particles = np.random.rand(num_particles, 2) * 10  # Random initial positions\n",
        "\n",
        "    def move(self, delta):\n",
        "        # Move particles based on some control input\n",
        "        self.particles += delta + np.random.normal(0, 0.1, self.particles.shape)\n",
        "\n",
        "    def resample(self):\n",
        "        weights = np.random.rand(self.num_particles)  # Random weights for simplicity\n",
        "        indices = np.random.choice(range(self.num_particles), size=self.num_particles, p=weights/weights.sum())\n",
        "        self.particles = self.particles[indices]\n",
        "\n",
        "# Initialize particle filter\n",
        "pf = ParticleFilter(num_particles=100)\n",
        "\n",
        "# Simulate movement\n",
        "for _ in range(10):\n",
        "    pf.move(np.array([1, 1]))  # Move particles by (1, 1)\n",
        "    pf.resample()\n",
        "\n",
        "# Plotting the particles\n",
        "plt.scatter(pf.particles[:, 0], pf.particles[:, 1])\n",
        "plt.title('Particle Filter Simulation')\n",
        "plt.xlim(0, 10)\n",
        "plt.ylim(0, 10)\n",
        "plt.grid()\n",
        "plt.show()"
      ],
      "metadata": {
        "id": "aGDWXsZhQnW7"
      },
      "execution_count": null,
      "outputs": []
    }
  ]
}