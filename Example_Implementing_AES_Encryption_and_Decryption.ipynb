{
  "nbformat": 4,
  "nbformat_minor": 0,
  "metadata": {
    "colab": {
      "private_outputs": true,
      "provenance": [],
      "authorship_tag": "ABX9TyOi202v5oTIisWmhxRh0H4X",
      "include_colab_link": true
    },
    "kernelspec": {
      "name": "python3",
      "display_name": "Python 3"
    },
    "language_info": {
      "name": "python"
    }
  },
  "cells": [
    {
      "cell_type": "markdown",
      "metadata": {
        "id": "view-in-github",
        "colab_type": "text"
      },
      "source": [
        "<a href=\"https://colab.research.google.com/github/OneFineStarstuff/OneFineStarstuff/blob/main/Example_Implementing_AES_Encryption_and_Decryption.ipynb\" target=\"_parent\"><img src=\"https://colab.research.google.com/assets/colab-badge.svg\" alt=\"Open In Colab\"/></a>"
      ]
    },
    {
      "cell_type": "code",
      "execution_count": null,
      "metadata": {
        "id": "pxROGSCkZ2Dh"
      },
      "outputs": [],
      "source": [
        "from cryptography.hazmat.primitives.ciphers import Cipher, algorithms, modes\n",
        "from cryptography.hazmat.backends import default_backend\n",
        "import os\n",
        "\n",
        "# Generate a random key and initialization vector (IV)\n",
        "key = os.urandom(32)  # AES-256 requires a 32-byte key\n",
        "iv = os.urandom(16)   # 16-byte IV for AES\n",
        "\n",
        "# Create an AES cipher in CBC mode\n",
        "cipher = Cipher(algorithms.AES(key), modes.CBC(iv), backend=default_backend())\n",
        "\n",
        "# Encrypt the plaintext\n",
        "encryptor = cipher.encryptor()\n",
        "plaintext = b\"This is a secret message\"\n",
        "ciphertext = encryptor.update(plaintext.ljust(32)) + encryptor.finalize()\n",
        "\n",
        "print(f\"Ciphertext: {ciphertext}\")\n",
        "\n",
        "# Decrypt the ciphertext\n",
        "decryptor = cipher.decryptor()\n",
        "decrypted_message = decryptor.update(ciphertext) + decryptor.finalize()\n",
        "\n",
        "print(f\"Decrypted Message: {decrypted_message.strip()}\")"
      ]
    }
  ]
}