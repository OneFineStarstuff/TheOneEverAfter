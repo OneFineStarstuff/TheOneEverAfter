{
  "nbformat": 4,
  "nbformat_minor": 0,
  "metadata": {
    "colab": {
      "private_outputs": true,
      "provenance": [],
      "authorship_tag": "ABX9TyMHTg/iNDofHFeIqJDTc2Ki",
      "include_colab_link": true
    },
    "kernelspec": {
      "name": "python3",
      "display_name": "Python 3"
    },
    "language_info": {
      "name": "python"
    }
  },
  "cells": [
    {
      "cell_type": "markdown",
      "metadata": {
        "id": "view-in-github",
        "colab_type": "text"
      },
      "source": [
        "<a href=\"https://colab.research.google.com/github/OneFineStarstuff/OneFineStardust/blob/main/Sample_Code_to_Integrate_with_Amazon_Bedrock.ipynb\" target=\"_parent\"><img src=\"https://colab.research.google.com/assets/colab-badge.svg\" alt=\"Open In Colab\"/></a>"
      ]
    },
    {
      "cell_type": "code",
      "execution_count": null,
      "metadata": {
        "id": "r3VTltm5LFpV"
      },
      "outputs": [],
      "source": [
        "pip install boto3"
      ]
    },
    {
      "cell_type": "code",
      "source": [
        "import boto3\n",
        "import json\n",
        "\n",
        "# Initialize the Bedrock client\n",
        "def create_bedrock_client():\n",
        "    return boto3.client('bedrock', region_name='us-east-1')  # Change region as needed\n",
        "\n",
        "# Function to invoke the foundation model\n",
        "def invoke_foundation_model(client, model_id, prompt):\n",
        "    response = client.invoke_model(\n",
        "        modelId=model_id,\n",
        "        body=json.dumps({\"inputText\": prompt}),\n",
        "        contentType='application/json'\n",
        "    )\n",
        "    return json.loads(response['body'].read())\n",
        "\n",
        "# Main function to run the code\n",
        "if __name__ == \"__main__\":\n",
        "    # Create the Bedrock client\n",
        "    bedrock_client = create_bedrock_client()\n",
        "\n",
        "    # Define the model ID and prompt\n",
        "    model_id = 'anthropic.claude-v2'  # Example model ID; choose as per your needs\n",
        "    prompt = \"Hello, who are you?\"\n",
        "\n",
        "    # Invoke the model and get the response\n",
        "    try:\n",
        "        result = invoke_foundation_model(bedrock_client, model_id, prompt)\n",
        "        print(\"Model Response:\", result['results'][0]['outputText'])\n",
        "    except Exception as e:\n",
        "        print(\"Error invoking the model:\", str(e))"
      ],
      "metadata": {
        "id": "eq642Y1OLIhZ"
      },
      "execution_count": null,
      "outputs": []
    }
  ]
}