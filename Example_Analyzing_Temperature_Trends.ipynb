{
  "nbformat": 4,
  "nbformat_minor": 0,
  "metadata": {
    "colab": {
      "private_outputs": true,
      "provenance": [],
      "authorship_tag": "ABX9TyMZuDVmJmeBudskSpVpzGxa",
      "include_colab_link": true
    },
    "kernelspec": {
      "name": "python3",
      "display_name": "Python 3"
    },
    "language_info": {
      "name": "python"
    }
  },
  "cells": [
    {
      "cell_type": "markdown",
      "metadata": {
        "id": "view-in-github",
        "colab_type": "text"
      },
      "source": [
        "<a href=\"https://colab.research.google.com/github/OneFineStarstuff/OneFineStarstuff/blob/main/Example_Analyzing_Temperature_Trends.ipynb\" target=\"_parent\"><img src=\"https://colab.research.google.com/assets/colab-badge.svg\" alt=\"Open In Colab\"/></a>"
      ]
    },
    {
      "cell_type": "code",
      "execution_count": null,
      "metadata": {
        "id": "MA9A-XK2yM5j"
      },
      "outputs": [],
      "source": [
        "import pandas as pd\n",
        "import matplotlib.pyplot as plt\n",
        "\n",
        "# Load temperature data (e.g., from a CSV file)\n",
        "temperature_data = pd.read_csv('temperature_data.csv', parse_dates=['date'])\n",
        "\n",
        "# Group by year and calculate average temperature\n",
        "temperature_data['year'] = temperature_data['date'].dt.year\n",
        "annual_avg_temp = temperature_data.groupby('year')['temperature'].mean()\n",
        "\n",
        "# Plot the temperature trend\n",
        "plt.plot(annual_avg_temp.index, annual_avg_temp.values)\n",
        "plt.title('Annual Average Temperature Over Time')\n",
        "plt.xlabel('Year')\n",
        "plt.ylabel('Temperature (°C)')\n",
        "plt.grid(True)\n",
        "plt.show()"
      ]
    }
  ]
}