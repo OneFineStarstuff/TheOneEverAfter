{
  "nbformat": 4,
  "nbformat_minor": 0,
  "metadata": {
    "colab": {
      "private_outputs": true,
      "provenance": [],
      "authorship_tag": "ABX9TyOvGd/EIfe4/tc0bvlqVlnq",
      "include_colab_link": true
    },
    "kernelspec": {
      "name": "python3",
      "display_name": "Python 3"
    },
    "language_info": {
      "name": "python"
    }
  },
  "cells": [
    {
      "cell_type": "markdown",
      "metadata": {
        "id": "view-in-github",
        "colab_type": "text"
      },
      "source": [
        "<a href=\"https://colab.research.google.com/github/OneFineStarstuff/OneFineStardust/blob/main/Example_Edge_Detection_with_Canny_Algorithm.ipynb\" target=\"_parent\"><img src=\"https://colab.research.google.com/assets/colab-badge.svg\" alt=\"Open In Colab\"/></a>"
      ]
    },
    {
      "cell_type": "code",
      "execution_count": null,
      "metadata": {
        "id": "0xcibNABmDNZ"
      },
      "outputs": [],
      "source": [
        "import cv2\n",
        "import numpy as np\n",
        "from google.colab.patches import cv2_imshow\n",
        "\n",
        "# Load an image in grayscale\n",
        "image = cv2.imread('image.jpg', cv2.IMREAD_GRAYSCALE)\n",
        "\n",
        "# Apply Canny edge detection\n",
        "edges = cv2.Canny(image, threshold1=100, threshold2=200)\n",
        "\n",
        "# Display original and edge-detected images\n",
        "cv2_imshow(image)\n",
        "cv2_imshow(edges)"
      ]
    },
    {
      "cell_type": "code",
      "source": [
        "import cv2\n",
        "import numpy as np\n",
        "from google.colab.patches import cv2_imshow\n",
        "\n",
        "# Provide the full path to the image\n",
        "image_path = 'path/to/your/image.jpg'\n",
        "\n",
        "# Load an image in grayscale\n",
        "image = cv2.imread(image_path, cv2.IMREAD_GRAYSCALE)\n",
        "\n",
        "# Check if the image was loaded correctly\n",
        "if image is None:\n",
        "    raise FileNotFoundError(f\"Image not found: {image_path}\")\n",
        "\n",
        "# Apply Canny edge detection\n",
        "edges = cv2.Canny(image, threshold1=100, threshold2=200)\n",
        "\n",
        "# Display original and edge-detected images\n",
        "cv2_imshow(image)\n",
        "cv2_imshow(edges)"
      ],
      "metadata": {
        "id": "rTuELqBfnXRU"
      },
      "execution_count": null,
      "outputs": []
    }
  ]
}