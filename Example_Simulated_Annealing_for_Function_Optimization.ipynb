{
  "nbformat": 4,
  "nbformat_minor": 0,
  "metadata": {
    "colab": {
      "private_outputs": true,
      "provenance": [],
      "authorship_tag": "ABX9TyP0sV2KzAvG4g9jE5asfHdv",
      "include_colab_link": true
    },
    "kernelspec": {
      "name": "python3",
      "display_name": "Python 3"
    },
    "language_info": {
      "name": "python"
    }
  },
  "cells": [
    {
      "cell_type": "markdown",
      "metadata": {
        "id": "view-in-github",
        "colab_type": "text"
      },
      "source": [
        "<a href=\"https://colab.research.google.com/github/OneFineStarstuff/OneFineStardust/blob/main/Example_Simulated_Annealing_for_Function_Optimization.ipynb\" target=\"_parent\"><img src=\"https://colab.research.google.com/assets/colab-badge.svg\" alt=\"Open In Colab\"/></a>"
      ]
    },
    {
      "cell_type": "code",
      "execution_count": null,
      "metadata": {
        "id": "oDu4uSt0T0Yp"
      },
      "outputs": [],
      "source": [
        "import numpy as np\n",
        "\n",
        "def objective_function(x):\n",
        "    return x**2 + 4 * np.sin(x)  # Example function to minimize\n",
        "\n",
        "def simulated_annealing(starting_point, max_iterations):\n",
        "    current_solution = starting_point\n",
        "    current_energy = objective_function(current_solution)\n",
        "\n",
        "    for iteration in range(max_iterations):\n",
        "        # Generate new solution by perturbing the current solution\n",
        "        new_solution = current_solution + np.random.normal(0, 1)\n",
        "        new_energy = objective_function(new_solution)\n",
        "\n",
        "        # Acceptance probability based on energy difference\n",
        "        if new_energy < current_energy or np.random.rand() < np.exp((current_energy - new_energy) / (iteration + 1)):\n",
        "            current_solution = new_solution\n",
        "            current_energy = new_energy\n",
        "\n",
        "    return current_solution\n",
        "\n",
        "optimal_solution = simulated_annealing(starting_point=5.0, max_iterations=1000)\n",
        "print(f'Optimal solution found: {optimal_solution}')"
      ]
    }
  ]
}