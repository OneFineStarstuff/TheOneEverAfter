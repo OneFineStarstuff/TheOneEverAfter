{
  "nbformat": 4,
  "nbformat_minor": 0,
  "metadata": {
    "colab": {
      "private_outputs": true,
      "provenance": [],
      "authorship_tag": "ABX9TyMjXMPa5okHKvSE4OzB/UBZ",
      "include_colab_link": true
    },
    "kernelspec": {
      "name": "python3",
      "display_name": "Python 3"
    },
    "language_info": {
      "name": "python"
    }
  },
  "cells": [
    {
      "cell_type": "markdown",
      "metadata": {
        "id": "view-in-github",
        "colab_type": "text"
      },
      "source": [
        "<a href=\"https://colab.research.google.com/github/OneFineStarstuff/OneFineStarstuff/blob/main/Adding_Differential_Privacy_to_a_Model.ipynb\" target=\"_parent\"><img src=\"https://colab.research.google.com/assets/colab-badge.svg\" alt=\"Open In Colab\"/></a>"
      ]
    },
    {
      "cell_type": "code",
      "source": [
        "!pip uninstall tensorflow tensorflow_privacy tensorflow-estimator -y"
      ],
      "metadata": {
        "id": "Nj8HsE4hQ-sG"
      },
      "execution_count": null,
      "outputs": []
    },
    {
      "cell_type": "code",
      "source": [
        "!pip install tensorflow\n",
        "!pip install tensorflow_privacy\n",
        "!pip install tensorflow-estimator"
      ],
      "metadata": {
        "id": "lnA8_M6nPE8N"
      },
      "execution_count": null,
      "outputs": []
    },
    {
      "cell_type": "code",
      "execution_count": null,
      "metadata": {
        "id": "A6hlmRW0OGaP"
      },
      "outputs": [],
      "source": [
        "from tensorflow_privacy.privacy.optimizers.dp_optimizer import DPAdamGaussianOptimizer\n",
        "\n",
        "optimizer = DPAdamGaussianOptimizer(\n",
        "    l2_norm_clip=1.0,\n",
        "    noise_multiplier=0.5,\n",
        "    num_microbatches=1,\n",
        "    learning_rate=0.001)\n",
        "\n",
        "# Training loop\n",
        "for images, labels in train_loader:\n",
        "    with tf.GradientTape() as tape:\n",
        "        predictions = model(images)\n",
        "        loss = compute_loss(predictions, labels)\n",
        "    gradients = tape.gradient(loss, model.trainable_variables)\n",
        "    optimizer.apply_gradients(zip(gradients, model.trainable_variables))"
      ]
    }
  ]
}