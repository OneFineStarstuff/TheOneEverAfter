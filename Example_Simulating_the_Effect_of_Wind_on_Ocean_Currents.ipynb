{
  "nbformat": 4,
  "nbformat_minor": 0,
  "metadata": {
    "colab": {
      "private_outputs": true,
      "provenance": [],
      "authorship_tag": "ABX9TyPrlTjPVkpeTfNUXmJEbi72",
      "include_colab_link": true
    },
    "kernelspec": {
      "name": "python3",
      "display_name": "Python 3"
    },
    "language_info": {
      "name": "python"
    }
  },
  "cells": [
    {
      "cell_type": "markdown",
      "metadata": {
        "id": "view-in-github",
        "colab_type": "text"
      },
      "source": [
        "<a href=\"https://colab.research.google.com/github/OneFineStarstuff/OneFineStarstuff/blob/main/Example_Simulating_the_Effect_of_Wind_on_Ocean_Currents.ipynb\" target=\"_parent\"><img src=\"https://colab.research.google.com/assets/colab-badge.svg\" alt=\"Open In Colab\"/></a>"
      ]
    },
    {
      "cell_type": "code",
      "execution_count": null,
      "metadata": {
        "id": "vVtWkxFWLhqC"
      },
      "outputs": [],
      "source": [
        "import numpy as np\n",
        "import matplotlib.pyplot as plt\n",
        "\n",
        "# Define parameters for wind stress and Coriolis force\n",
        "wind_stress = 0.1  # Wind stress (N/m^2)\n",
        "rho = 1025  # Density of seawater (kg/m^3)\n",
        "f = 1e-4  # Coriolis parameter (s^-1)\n",
        "H = 50  # Depth of the ocean (m)\n",
        "\n",
        "# Compute the Ekman transport (m^2/s)\n",
        "u = wind_stress / (rho * f * H)\n",
        "\n",
        "# Generate time data\n",
        "time = np.linspace(0, 10, 100)\n",
        "\n",
        "# Compute displacement of water over time\n",
        "displacement = u * time\n",
        "\n",
        "# Plot the displacement of the water\n",
        "plt.plot(time, displacement)\n",
        "plt.title(\"Displacement of Water due to Wind\")\n",
        "plt.xlabel(\"Time (days)\")\n",
        "plt.ylabel(\"Displacement (m)\")\n",
        "plt.grid(True)\n",
        "plt.show()"
      ]
    }
  ]
}