{
  "nbformat": 4,
  "nbformat_minor": 0,
  "metadata": {
    "colab": {
      "private_outputs": true,
      "provenance": [],
      "authorship_tag": "ABX9TyN5mLHZmmr9DEquKiGXHlN6",
      "include_colab_link": true
    },
    "kernelspec": {
      "name": "python3",
      "display_name": "Python 3"
    },
    "language_info": {
      "name": "python"
    }
  },
  "cells": [
    {
      "cell_type": "markdown",
      "metadata": {
        "id": "view-in-github",
        "colab_type": "text"
      },
      "source": [
        "<a href=\"https://colab.research.google.com/github/OneFineStarstuff/OneFineStarstuff/blob/main/Task_Specific_Adapters_for_Transfer_Learning.ipynb\" target=\"_parent\"><img src=\"https://colab.research.google.com/assets/colab-badge.svg\" alt=\"Open In Colab\"/></a>"
      ]
    },
    {
      "cell_type": "code",
      "source": [
        "import torch\n",
        "import torch.nn as nn\n",
        "import torch.nn.functional as F\n",
        "from transformers import AutoModel, AutoTokenizer  # Ensure AutoTokenizer is imported\n",
        "\n",
        "# Define the adapter module\n",
        "class Adapter(nn.Module):\n",
        "    def __init__(self, hidden_size, bottleneck_size):\n",
        "        super().__init__()\n",
        "        self.down_proj = nn.Linear(hidden_size, bottleneck_size)\n",
        "        self.up_proj = nn.Linear(bottleneck_size, hidden_size)\n",
        "\n",
        "    def forward(self, x):\n",
        "        return x + self.up_proj(F.relu(self.down_proj(x)))\n",
        "\n",
        "# Adding adapters to a transformer layer\n",
        "class AdapterTransformer(nn.Module):\n",
        "    def __init__(self, base_model, hidden_size=768, bottleneck_size=64):\n",
        "        super().__init__()\n",
        "        self.model = base_model\n",
        "        self.adapter = Adapter(hidden_size, bottleneck_size)\n",
        "\n",
        "    def forward(self, input_ids, attention_mask):\n",
        "        outputs = self.model(input_ids=input_ids, attention_mask=attention_mask).last_hidden_state\n",
        "        adapted_output = self.adapter(outputs)\n",
        "        return adapted_output\n",
        "\n",
        "# Example usage\n",
        "# Load a base model from Hugging Face\n",
        "base_model = AutoModel.from_pretrained(\"bert-base-uncased\")\n",
        "\n",
        "# Initialize the AdapterTransformer with the base model\n",
        "adapter_model = AdapterTransformer(base_model)\n",
        "\n",
        "# Example input\n",
        "tokenizer = AutoTokenizer.from_pretrained(\"bert-base-uncased\")\n",
        "input_text = \"This is an example sentence.\"\n",
        "inputs = tokenizer(input_text, return_tensors=\"pt\")\n",
        "\n",
        "# Forward pass through the adapter model\n",
        "output = adapter_model(inputs[\"input_ids\"], inputs[\"attention_mask\"])\n",
        "\n",
        "print(output)"
      ],
      "metadata": {
        "id": "WpH5YsU_sMEf"
      },
      "execution_count": null,
      "outputs": []
    }
  ]
}