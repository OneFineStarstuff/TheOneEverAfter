{
  "nbformat": 4,
  "nbformat_minor": 0,
  "metadata": {
    "colab": {
      "private_outputs": true,
      "provenance": [],
      "authorship_tag": "ABX9TyMvokrlC9ARAbTp8Qyu/T8J",
      "include_colab_link": true
    },
    "kernelspec": {
      "name": "python3",
      "display_name": "Python 3"
    },
    "language_info": {
      "name": "python"
    }
  },
  "cells": [
    {
      "cell_type": "markdown",
      "metadata": {
        "id": "view-in-github",
        "colab_type": "text"
      },
      "source": [
        "<a href=\"https://colab.research.google.com/github/OneFineStarstuff/OneFineStarstuff/blob/main/Explainable_AI_(XAI)_with_SHAP_for_Model_Transparency.ipynb\" target=\"_parent\"><img src=\"https://colab.research.google.com/assets/colab-badge.svg\" alt=\"Open In Colab\"/></a>"
      ]
    },
    {
      "cell_type": "code",
      "execution_count": null,
      "metadata": {
        "id": "LBvmbb4xeWFl"
      },
      "outputs": [],
      "source": [
        "import shap\n",
        "import xgboost as xgb\n",
        "from sklearn.datasets import fetch_california_housing\n",
        "\n",
        "# Load data and train model\n",
        "X, y = fetch_california_housing(return_X_y=True)\n",
        "model = xgb.XGBRegressor().fit(X, y)\n",
        "\n",
        "# Initialize SHAP explainer\n",
        "explainer = shap.Explainer(model, X)\n",
        "shap_values = explainer(X)\n",
        "\n",
        "# Plot SHAP values for individual features\n",
        "shap.summary_plot(shap_values, X)"
      ]
    }
  ]
}