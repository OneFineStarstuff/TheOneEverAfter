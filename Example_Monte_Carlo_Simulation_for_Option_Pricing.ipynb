{
  "nbformat": 4,
  "nbformat_minor": 0,
  "metadata": {
    "colab": {
      "private_outputs": true,
      "provenance": [],
      "authorship_tag": "ABX9TyNHaiKnzuB9SrGaheeH3amL",
      "include_colab_link": true
    },
    "kernelspec": {
      "name": "python3",
      "display_name": "Python 3"
    },
    "language_info": {
      "name": "python"
    }
  },
  "cells": [
    {
      "cell_type": "markdown",
      "metadata": {
        "id": "view-in-github",
        "colab_type": "text"
      },
      "source": [
        "<a href=\"https://colab.research.google.com/github/OneFineStarstuff/OneFineStardust/blob/main/Example_Monte_Carlo_Simulation_for_Option_Pricing.ipynb\" target=\"_parent\"><img src=\"https://colab.research.google.com/assets/colab-badge.svg\" alt=\"Open In Colab\"/></a>"
      ]
    },
    {
      "cell_type": "code",
      "execution_count": null,
      "metadata": {
        "id": "mny_5QrqLoJZ"
      },
      "outputs": [],
      "source": [
        "import numpy as np\n",
        "\n",
        "def monte_carlo_option_pricing(S0, K, T, r, sigma, num_simulations):\n",
        "    payoffs = []\n",
        "\n",
        "    for _ in range(num_simulations):\n",
        "        # Simulate the stock price at maturity using Geometric Brownian Motion\n",
        "        ST = S0 * np.exp((r - 0.5 * sigma**2) * T + sigma * np.random.normal(0, np.sqrt(T)))\n",
        "        payoff = max(ST - K, 0)  # Call option payoff\n",
        "        payoffs.append(payoff)\n",
        "\n",
        "    return np.exp(-r * T) * np.mean(payoffs)  # Present value of expected payoff\n",
        "\n",
        "# Parameters for the option pricing model\n",
        "S0 = 100     # Current stock price\n",
        "K = 100      # Strike price\n",
        "T = 1        # Time to maturity (in years)\n",
        "r = 0.05     # Risk-free interest rate\n",
        "sigma = 0.2  # Volatility of the stock\n",
        "num_simulations = 10000\n",
        "\n",
        "option_price = monte_carlo_option_pricing(S0, K, T, r, sigma, num_simulations)\n",
        "print(f'Monte Carlo Option Price: {option_price}')"
      ]
    }
  ]
}