{
  "nbformat": 4,
  "nbformat_minor": 0,
  "metadata": {
    "colab": {
      "private_outputs": true,
      "provenance": [],
      "authorship_tag": "ABX9TyM2jKel7r0FMlmOm/09031f",
      "include_colab_link": true
    },
    "kernelspec": {
      "name": "python3",
      "display_name": "Python 3"
    },
    "language_info": {
      "name": "python"
    }
  },
  "cells": [
    {
      "cell_type": "markdown",
      "metadata": {
        "id": "view-in-github",
        "colab_type": "text"
      },
      "source": [
        "<a href=\"https://colab.research.google.com/github/OneFineStarstuff/OneFineStarstuff/blob/main/Example_Simulating_a_Star's_Evolution_Using_AstroPy.ipynb\" target=\"_parent\"><img src=\"https://colab.research.google.com/assets/colab-badge.svg\" alt=\"Open In Colab\"/></a>"
      ]
    },
    {
      "cell_type": "code",
      "execution_count": null,
      "metadata": {
        "id": "lJZuDGY1BQ4G"
      },
      "outputs": [],
      "source": [
        "import numpy as np\n",
        "import matplotlib.pyplot as plt\n",
        "from astropy import units as u\n",
        "from astropy.constants import M_sun, R_sun, L_sun\n",
        "\n",
        "# Define time period (billions of years)\n",
        "time = np.linspace(0, 10, 100)\n",
        "\n",
        "# Simple model for stellar luminosity over time (arbitrary units)\n",
        "luminosity = L_sun.value * (1 + 0.3 * np.sin(time / 2))\n",
        "\n",
        "# Plot the stellar evolution over time\n",
        "plt.plot(time, luminosity)\n",
        "plt.title('Stellar Luminosity Over Time')\n",
        "plt.xlabel('Time (billions of years)')\n",
        "plt.ylabel('Luminosity (L_sun)')\n",
        "plt.grid(True)\n",
        "plt.show()"
      ]
    }
  ]
}