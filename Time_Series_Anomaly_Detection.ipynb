{
  "nbformat": 4,
  "nbformat_minor": 0,
  "metadata": {
    "colab": {
      "private_outputs": true,
      "provenance": [],
      "authorship_tag": "ABX9TyMbMeGxl83IB54iHzTMZ/mc",
      "include_colab_link": true
    },
    "kernelspec": {
      "name": "python3",
      "display_name": "Python 3"
    },
    "language_info": {
      "name": "python"
    }
  },
  "cells": [
    {
      "cell_type": "markdown",
      "metadata": {
        "id": "view-in-github",
        "colab_type": "text"
      },
      "source": [
        "<a href=\"https://colab.research.google.com/github/OneFineStarstuff/OneFineStardust/blob/main/Time_Series_Anomaly_Detection.ipynb\" target=\"_parent\"><img src=\"https://colab.research.google.com/assets/colab-badge.svg\" alt=\"Open In Colab\"/></a>"
      ]
    },
    {
      "cell_type": "code",
      "execution_count": null,
      "metadata": {
        "id": "Siity1AroRd9"
      },
      "outputs": [],
      "source": [
        "import pandas as pd\n",
        "import numpy as np\n",
        "import matplotlib.pyplot as plt\n",
        "from sklearn.ensemble import IsolationForest\n",
        "\n",
        "# Load time series data\n",
        "data = pd.read_csv('time_series_data.csv', parse_dates=['date'], index_col='date')\n",
        "\n",
        "# Prepare the model for anomaly detection\n",
        "model = IsolationForest(contamination=0.05)  # Adjust contamination based on expected anomalies\n",
        "\n",
        "# Fit the model on the time series data (use only numerical features)\n",
        "model.fit(data[['value']])\n",
        "\n",
        "# Predict anomalies (-1 for outliers, 1 for inliers)\n",
        "data['anomaly'] = model.predict(data[['value']])\n",
        "\n",
        "# Plot results\n",
        "plt.figure(figsize=(12, 6))\n",
        "plt.plot(data.index, data['value'], label='Value')\n",
        "plt.scatter(data[data['anomaly'] == -1].index,\n",
        "            data[data['anomaly'] == -1]['value'],\n",
        "            color='red', label='Anomalies')\n",
        "plt.title('Time Series Anomaly Detection')\n",
        "plt.xlabel('Date')\n",
        "plt.ylabel('Value')\n",
        "plt.legend()\n",
        "plt.show()"
      ]
    }
  ]
}