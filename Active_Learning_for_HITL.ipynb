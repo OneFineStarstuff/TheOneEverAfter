{
  "nbformat": 4,
  "nbformat_minor": 0,
  "metadata": {
    "colab": {
      "private_outputs": true,
      "provenance": [],
      "authorship_tag": "ABX9TyNNWjJFWT3jt7LMmC7pCLt+",
      "include_colab_link": true
    },
    "kernelspec": {
      "name": "python3",
      "display_name": "Python 3"
    },
    "language_info": {
      "name": "python"
    }
  },
  "cells": [
    {
      "cell_type": "markdown",
      "metadata": {
        "id": "view-in-github",
        "colab_type": "text"
      },
      "source": [
        "<a href=\"https://colab.research.google.com/github/OneFineStarstuff/OneFineStarstuff/blob/main/Active_Learning_for_HITL.ipynb\" target=\"_parent\"><img src=\"https://colab.research.google.com/assets/colab-badge.svg\" alt=\"Open In Colab\"/></a>"
      ]
    },
    {
      "cell_type": "code",
      "source": [
        "pip install modAL"
      ],
      "metadata": {
        "id": "0nIWs0aYWj_f"
      },
      "execution_count": null,
      "outputs": []
    },
    {
      "cell_type": "code",
      "source": [
        "pip install --upgrade --force-reinstall modAL"
      ],
      "metadata": {
        "id": "9LMrtOxcXhiT"
      },
      "execution_count": null,
      "outputs": []
    },
    {
      "cell_type": "code",
      "source": [
        "!python -m venv myenv"
      ],
      "metadata": {
        "id": "1iJfHZ6iWqXQ"
      },
      "execution_count": null,
      "outputs": []
    },
    {
      "cell_type": "code",
      "source": [
        "!myenv\\Scripts\\activate"
      ],
      "metadata": {
        "id": "g15U2YriWz_w"
      },
      "execution_count": null,
      "outputs": []
    },
    {
      "cell_type": "code",
      "source": [
        "!source myenv/bin/activate"
      ],
      "metadata": {
        "id": "6ZZQXn1ZW3_g"
      },
      "execution_count": null,
      "outputs": []
    },
    {
      "cell_type": "code",
      "execution_count": null,
      "metadata": {
        "id": "OEe-NSY4U_0w"
      },
      "outputs": [],
      "source": [
        "pip install scikit-learn modAL"
      ]
    },
    {
      "cell_type": "code",
      "source": [
        "import numpy as np\n",
        "from sklearn.ensemble import RandomForestClassifier\n",
        "from modAL.models import ActiveLearner\n",
        "\n",
        "# Example initial training data\n",
        "X_initial = np.random.rand(5, 10)  # 5 samples, 10 features each\n",
        "y_initial = np.random.randint(0, 2, size=5)  # Binary labels for initial data\n",
        "\n",
        "# Example pool of unlabeled data\n",
        "X_pool = np.random.rand(20, 10)  # 20 samples, 10 features each\n",
        "\n",
        "# Initialize the Active Learner\n",
        "learner = ActiveLearner(\n",
        "    estimator=RandomForestClassifier(),\n",
        "    X_training=X_initial,\n",
        "    y_training=y_initial\n",
        ")\n",
        "\n",
        "# Query for new data point\n",
        "query_idx, query_instance = learner.query(X_pool)\n",
        "\n",
        "print(\"Query index:\", query_idx)\n",
        "print(\"Query instance:\", query_instance)"
      ],
      "metadata": {
        "id": "ii_JBaOJVUUb"
      },
      "execution_count": null,
      "outputs": []
    }
  ]
}