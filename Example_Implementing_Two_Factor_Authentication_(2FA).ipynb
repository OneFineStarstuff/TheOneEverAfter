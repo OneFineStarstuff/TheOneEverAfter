{
  "nbformat": 4,
  "nbformat_minor": 0,
  "metadata": {
    "colab": {
      "private_outputs": true,
      "provenance": [],
      "authorship_tag": "ABX9TyNeqmQaHDOQMD/VYnN8CSDM",
      "include_colab_link": true
    },
    "kernelspec": {
      "name": "python3",
      "display_name": "Python 3"
    },
    "language_info": {
      "name": "python"
    }
  },
  "cells": [
    {
      "cell_type": "markdown",
      "metadata": {
        "id": "view-in-github",
        "colab_type": "text"
      },
      "source": [
        "<a href=\"https://colab.research.google.com/github/OneFineStarstuff/OneFineStardust/blob/main/Example_Implementing_Two_Factor_Authentication_(2FA).ipynb\" target=\"_parent\"><img src=\"https://colab.research.google.com/assets/colab-badge.svg\" alt=\"Open In Colab\"/></a>"
      ]
    },
    {
      "cell_type": "code",
      "source": [
        "pip install pyotp"
      ],
      "metadata": {
        "id": "qOEinvfQIQPP"
      },
      "execution_count": null,
      "outputs": []
    },
    {
      "cell_type": "code",
      "execution_count": null,
      "metadata": {
        "id": "IPpDdj0NF81l"
      },
      "outputs": [],
      "source": [
        "from flask import Flask, request, jsonify\n",
        "import pyotp\n",
        "\n",
        "app = Flask(__name__)\n",
        "\n",
        "@app.route('/generate_otp', methods=['POST'])\n",
        "def generate_otp():\n",
        "    secret = pyotp.random_base32()  # Generate a random secret key\n",
        "    return jsonify({'secret': secret})\n",
        "\n",
        "@app.route('/verify_otp', methods=['POST'])\n",
        "def verify_otp():\n",
        "    data = request.json\n",
        "    totp = pyotp.TOTP(data['secret'])\n",
        "    if totp.verify(data['otp']):\n",
        "        return jsonify({'message': 'OTP is valid!'})\n",
        "    return jsonify({'message': 'Invalid OTP!'}), 401\n",
        "\n",
        "if __name__ == '__main__':\n",
        "    app.run(debug=True)"
      ]
    }
  ]
}