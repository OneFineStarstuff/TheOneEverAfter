{
  "nbformat": 4,
  "nbformat_minor": 0,
  "metadata": {
    "colab": {
      "private_outputs": true,
      "provenance": [],
      "authorship_tag": "ABX9TyOLquU8cAdhibjatz7j1Fe+",
      "include_colab_link": true
    },
    "kernelspec": {
      "name": "python3",
      "display_name": "Python 3"
    },
    "language_info": {
      "name": "python"
    }
  },
  "cells": [
    {
      "cell_type": "markdown",
      "metadata": {
        "id": "view-in-github",
        "colab_type": "text"
      },
      "source": [
        "<a href=\"https://colab.research.google.com/github/OneFineStarstuff/OneFineStarstuff/blob/main/Example_Simulating_Ball_Bounce_with_Gravity.ipynb\" target=\"_parent\"><img src=\"https://colab.research.google.com/assets/colab-badge.svg\" alt=\"Open In Colab\"/></a>"
      ]
    },
    {
      "cell_type": "code",
      "execution_count": null,
      "metadata": {
        "id": "uiP7QRV9Zm1V"
      },
      "outputs": [],
      "source": [
        "import numpy as np\n",
        "import matplotlib.pyplot as plt\n",
        "\n",
        "# Time parameters\n",
        "dt = 0.01\n",
        "t_total = 5\n",
        "time_steps = int(t_total / dt)\n",
        "\n",
        "# Ball properties\n",
        "g = 9.81  # Gravity (m/s^2)\n",
        "v0 = 10  # Initial velocity (m/s)\n",
        "y0 = 0  # Initial position (m)\n",
        "\n",
        "# Initialize position and velocity\n",
        "y = y0\n",
        "v = v0\n",
        "positions = [y]\n",
        "\n",
        "# Simulation loop\n",
        "for _ in range(time_steps):\n",
        "    v -= g * dt  # Update velocity (gravity)\n",
        "    y += v * dt  # Update position\n",
        "\n",
        "    if y < 0:  # Bounce condition\n",
        "        y = 0\n",
        "        v = -v * 0.9  # Reverse and dampen velocity (loss of energy)\n",
        "\n",
        "    positions.append(y)\n",
        "\n",
        "# Plot the bouncing ball\n",
        "plt.plot(np.linspace(0, t_total, len(positions)), positions)\n",
        "plt.title(\"Bouncing Ball Simulation\")\n",
        "plt.xlabel(\"Time (s)\")\n",
        "plt.ylabel(\"Height (m)\")\n",
        "plt.grid(True)\n",
        "plt.show()"
      ]
    }
  ]
}