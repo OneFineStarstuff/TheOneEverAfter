{
  "nbformat": 4,
  "nbformat_minor": 0,
  "metadata": {
    "colab": {
      "private_outputs": true,
      "provenance": [],
      "authorship_tag": "ABX9TyODr+bc/jKVjq9zc0qKe3fG",
      "include_colab_link": true
    },
    "kernelspec": {
      "name": "python3",
      "display_name": "Python 3"
    },
    "language_info": {
      "name": "python"
    }
  },
  "cells": [
    {
      "cell_type": "markdown",
      "metadata": {
        "id": "view-in-github",
        "colab_type": "text"
      },
      "source": [
        "<a href=\"https://colab.research.google.com/github/OneFineStarstuff/OneFineStarstuff/blob/main/Structural_Causal_Model_(SCM)_in_Pyro.ipynb\" target=\"_parent\"><img src=\"https://colab.research.google.com/assets/colab-badge.svg\" alt=\"Open In Colab\"/></a>"
      ]
    },
    {
      "cell_type": "code",
      "source": [
        "pip install pyro"
      ],
      "metadata": {
        "id": "pjo50D0RLVkf"
      },
      "execution_count": null,
      "outputs": []
    },
    {
      "cell_type": "code",
      "source": [
        "pip install --upgrade pip"
      ],
      "metadata": {
        "id": "b8Xc4gXaLqMP"
      },
      "execution_count": null,
      "outputs": []
    },
    {
      "cell_type": "code",
      "source": [
        "pip install pyro-ppl"
      ],
      "metadata": {
        "id": "2pbKit2vLsfw"
      },
      "execution_count": null,
      "outputs": []
    },
    {
      "cell_type": "code",
      "source": [
        "pip install torch"
      ],
      "metadata": {
        "id": "VO3BOHMVN9s5"
      },
      "execution_count": null,
      "outputs": []
    },
    {
      "cell_type": "code",
      "execution_count": null,
      "metadata": {
        "id": "zcuUEgJnK9nO"
      },
      "outputs": [],
      "source": [
        "import pyro\n",
        "import pyro.distributions as dist\n",
        "\n",
        "# Define a simple SCM\n",
        "def causal_model():\n",
        "    x = pyro.sample(\"x\", dist.Normal(0, 1))\n",
        "    y = pyro.sample(\"y\", dist.Normal(x, 1))\n",
        "    return x, y\n",
        "\n",
        "# Perform interventions\n",
        "def intervene_on_x(value):\n",
        "    intervened_model = pyro.condition(causal_model, data={\"x\": value})\n",
        "    x, y = intervened_model()\n",
        "    return x, y\n",
        "\n",
        "# Example usage\n",
        "pyro.set_rng_seed(0)\n",
        "intervened_x, intervened_y = intervene_on_x(2.0)\n",
        "print(f\"Intervened x: {intervened_x}, Intervened y: {intervened_y}\")"
      ]
    }
  ]
}