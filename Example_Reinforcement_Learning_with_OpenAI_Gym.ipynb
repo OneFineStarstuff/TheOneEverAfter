{
  "nbformat": 4,
  "nbformat_minor": 0,
  "metadata": {
    "colab": {
      "private_outputs": true,
      "provenance": [],
      "authorship_tag": "ABX9TyMKQasETlnCK4AObqceIZXU",
      "include_colab_link": true
    },
    "kernelspec": {
      "name": "python3",
      "display_name": "Python 3"
    },
    "language_info": {
      "name": "python"
    }
  },
  "cells": [
    {
      "cell_type": "markdown",
      "metadata": {
        "id": "view-in-github",
        "colab_type": "text"
      },
      "source": [
        "<a href=\"https://colab.research.google.com/github/OneFineStarstuff/OneFineStardust/blob/main/Example_Reinforcement_Learning_with_OpenAI_Gym.ipynb\" target=\"_parent\"><img src=\"https://colab.research.google.com/assets/colab-badge.svg\" alt=\"Open In Colab\"/></a>"
      ]
    },
    {
      "cell_type": "code",
      "execution_count": null,
      "metadata": {
        "id": "kBY3jDVfNs88"
      },
      "outputs": [],
      "source": [
        "import gym\n",
        "\n",
        "# Create the CartPole environment with the new render mode\n",
        "env = gym.make('CartPole-v1', render_mode='human')\n",
        "\n",
        "# Initialize variables\n",
        "num_episodes = 10\n",
        "\n",
        "for episode in range(num_episodes):\n",
        "    state = env.reset()\n",
        "    done = False\n",
        "\n",
        "    while not done:\n",
        "        env.render()  # Render the environment\n",
        "        action = env.action_space.sample()  # Random action\n",
        "        state, reward, done, info = env.step(action)  # Take action\n",
        "\n",
        "env.close()"
      ]
    }
  ]
}