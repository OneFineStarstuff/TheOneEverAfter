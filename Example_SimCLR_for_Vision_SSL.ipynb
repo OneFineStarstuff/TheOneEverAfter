{
  "nbformat": 4,
  "nbformat_minor": 0,
  "metadata": {
    "colab": {
      "private_outputs": true,
      "provenance": [],
      "authorship_tag": "ABX9TyO2iI2NkP48JAQ+FsU18kzw",
      "include_colab_link": true
    },
    "kernelspec": {
      "name": "python3",
      "display_name": "Python 3"
    },
    "language_info": {
      "name": "python"
    }
  },
  "cells": [
    {
      "cell_type": "markdown",
      "metadata": {
        "id": "view-in-github",
        "colab_type": "text"
      },
      "source": [
        "<a href=\"https://colab.research.google.com/github/OneFineStarstuff/OneFineStarstuff/blob/main/Example_SimCLR_for_Vision_SSL.ipynb\" target=\"_parent\"><img src=\"https://colab.research.google.com/assets/colab-badge.svg\" alt=\"Open In Colab\"/></a>"
      ]
    },
    {
      "cell_type": "code",
      "source": [
        "import torch\n",
        "import torch.nn as nn\n",
        "import torch.nn.functional as F\n",
        "import torchvision.models as models\n",
        "\n",
        "# Example encoder (ResNet)\n",
        "class ResNetEncoder(nn.Module):\n",
        "    def __init__(self):\n",
        "        super().__init__()\n",
        "        self.resnet = models.resnet18(weights=models.ResNet18_Weights.DEFAULT)\n",
        "        self.resnet.fc = nn.Identity()  # Remove final classification layer\n",
        "\n",
        "    def forward(self, x):\n",
        "        return self.resnet(x)\n",
        "\n",
        "# Define encoder output dimension\n",
        "encoder_output_dim = 512  # For ResNet18\n",
        "\n",
        "# SimCLR Model\n",
        "class SimCLRModel(nn.Module):\n",
        "    def __init__(self, encoder):\n",
        "        super().__init__()\n",
        "        self.encoder = encoder\n",
        "        self.projector = nn.Sequential(\n",
        "            nn.Linear(encoder_output_dim, 128),\n",
        "            nn.ReLU(),\n",
        "            nn.Linear(128, 128)\n",
        "        )\n",
        "\n",
        "    def forward(self, x):\n",
        "        h = self.encoder(x)\n",
        "        return F.normalize(self.projector(h), dim=1)\n",
        "\n",
        "# Contrastive loss calculation\n",
        "def contrastive_loss(out1, out2, temperature=0.5):\n",
        "    logits = torch.matmul(out1, out2.T) / temperature\n",
        "    labels = torch.arange(len(logits)).to(out1.device)\n",
        "    return F.cross_entropy(logits, labels)\n",
        "\n",
        "# Example usage\n",
        "encoder = ResNetEncoder()\n",
        "model = SimCLRModel(encoder)\n",
        "\n",
        "# Example data\n",
        "inputs = torch.randn(8, 3, 224, 224)  # Batch of images\n",
        "outputs = model(inputs)\n",
        "\n",
        "# Simulate two augmented views\n",
        "out1 = model(inputs)\n",
        "out2 = model(inputs)\n",
        "\n",
        "# Calculate contrastive loss\n",
        "loss = contrastive_loss(out1, out2)\n",
        "print(loss.item())"
      ],
      "metadata": {
        "id": "qC_Jx4R0I9x6"
      },
      "execution_count": null,
      "outputs": []
    }
  ]
}