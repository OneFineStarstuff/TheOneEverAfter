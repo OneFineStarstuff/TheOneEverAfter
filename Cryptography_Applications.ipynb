{
  "nbformat": 4,
  "nbformat_minor": 0,
  "metadata": {
    "colab": {
      "private_outputs": true,
      "provenance": [],
      "authorship_tag": "ABX9TyMPKCQ2bGzkG7MQNL2gzidH",
      "include_colab_link": true
    },
    "kernelspec": {
      "name": "python3",
      "display_name": "Python 3"
    },
    "language_info": {
      "name": "python"
    }
  },
  "cells": [
    {
      "cell_type": "markdown",
      "metadata": {
        "id": "view-in-github",
        "colab_type": "text"
      },
      "source": [
        "<a href=\"https://colab.research.google.com/github/OneFineStarstuff/OneFineStardust/blob/main/Cryptography_Applications.ipynb\" target=\"_parent\"><img src=\"https://colab.research.google.com/assets/colab-badge.svg\" alt=\"Open In Colab\"/></a>"
      ]
    },
    {
      "cell_type": "code",
      "execution_count": null,
      "metadata": {
        "id": "V5tVdv_MzQo8"
      },
      "outputs": [],
      "source": [
        "from cryptography.hazmat.primitives.ciphers.aead import AESGCM\n",
        "import os\n",
        "\n",
        "# Generate a random 256-bit key (32 bytes)\n",
        "key_bytes_object = os.urandom(32)  # This gives you a 256-bit key\n",
        "\n",
        "cipher = AESGCM(key=key_bytes_object)\n",
        "\n",
        "# Replace placeholder nonce bytes object with nonces typically randomly generated each invocation\n",
        "nonce_bytes_object = os.urandom(12)  # A typical nonce length is 12 bytes\n",
        "\n",
        "# Placeholder message intended to illustrate concept rather than production-ready implementation practice purposes alone\n",
        "plaintext_message = \"Sensitive Information...\"\n",
        "\n",
        "# Encrypt given plain-text message resulting in ciphertext form\n",
        "encrypted_message = cipher.encrypt(nonce_bytes_object, plaintext_message.encode(), None)\n",
        "\n",
        "# Decrypt previously encrypted ciphertext restoring original plain-text form\n",
        "decrypted_text_message = cipher.decrypt(nonce_bytes_object, encrypted_message, None)\n",
        "\n",
        "# Display hexadecimal representation of resulting ciphertext format for ease of verification purposes alone\n",
        "print(f\"Encrypted Message: {encrypted_message.hex()}\")\n",
        "print(f\"Decrypted Text Message: {decrypted_text_message.decode()}\")"
      ]
    }
  ]
}