{
  "nbformat": 4,
  "nbformat_minor": 0,
  "metadata": {
    "colab": {
      "private_outputs": true,
      "provenance": [],
      "authorship_tag": "ABX9TyOU6T01yGhYPWPemOKVJX/C",
      "include_colab_link": true
    },
    "kernelspec": {
      "name": "python3",
      "display_name": "Python 3"
    },
    "language_info": {
      "name": "python"
    }
  },
  "cells": [
    {
      "cell_type": "markdown",
      "metadata": {
        "id": "view-in-github",
        "colab_type": "text"
      },
      "source": [
        "<a href=\"https://colab.research.google.com/github/OneFineStarstuff/OneFineStardust/blob/main/Time_Series_Analysis_Example.ipynb\" target=\"_parent\"><img src=\"https://colab.research.google.com/assets/colab-badge.svg\" alt=\"Open In Colab\"/></a>"
      ]
    },
    {
      "cell_type": "code",
      "execution_count": null,
      "metadata": {
        "id": "QKhKltldAnch"
      },
      "outputs": [],
      "source": [
        "import pandas as pd\n",
        "import numpy as np\n",
        "import matplotlib.pyplot as plt\n",
        "from scipy.fft import fft\n",
        "\n",
        "# Generate synthetic light curve data\n",
        "time = np.linspace(0, 100, 500)\n",
        "flux = np.sin(0.1 * time) + np.random.normal(scale=0.1, size=time.shape)\n",
        "\n",
        "# Create a DataFrame\n",
        "data = pd.DataFrame({'Time': time, 'Flux': flux})\n",
        "\n",
        "# Plotting the light curve\n",
        "plt.plot(data['Time'], data['Flux'])\n",
        "plt.title('Synthetic Light Curve')\n",
        "plt.xlabel('Time (days)')\n",
        "plt.ylabel('Flux')\n",
        "plt.grid()\n",
        "plt.show()\n",
        "\n",
        "# Fourier Transform to find periodicity\n",
        "flux_fft = fft(data['Flux'].values)  # Convert to numpy array\n",
        "frequencies = np.fft.fftfreq(len(flux), d=(time[1] - time[0]))\n",
        "\n",
        "# Plotting the FFT results\n",
        "plt.plot(frequencies[:len(frequencies)//2], np.abs(flux_fft)[:len(frequencies)//2])\n",
        "plt.title('Fourier Transform of Light Curve')\n",
        "plt.xlabel('Frequency')\n",
        "plt.ylabel('Amplitude')\n",
        "plt.grid()\n",
        "plt.show()"
      ]
    }
  ]
}