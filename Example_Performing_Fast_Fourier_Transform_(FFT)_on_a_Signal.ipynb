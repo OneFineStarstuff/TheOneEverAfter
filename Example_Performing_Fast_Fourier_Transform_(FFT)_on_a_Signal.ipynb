{
  "nbformat": 4,
  "nbformat_minor": 0,
  "metadata": {
    "colab": {
      "private_outputs": true,
      "provenance": [],
      "authorship_tag": "ABX9TyP4xLltqbE/oRUUfQlZDEdw",
      "include_colab_link": true
    },
    "kernelspec": {
      "name": "python3",
      "display_name": "Python 3"
    },
    "language_info": {
      "name": "python"
    }
  },
  "cells": [
    {
      "cell_type": "markdown",
      "metadata": {
        "id": "view-in-github",
        "colab_type": "text"
      },
      "source": [
        "<a href=\"https://colab.research.google.com/github/OneFineStarstuff/OneFineStarstuff/blob/main/Example_Performing_Fast_Fourier_Transform_(FFT)_on_a_Signal.ipynb\" target=\"_parent\"><img src=\"https://colab.research.google.com/assets/colab-badge.svg\" alt=\"Open In Colab\"/></a>"
      ]
    },
    {
      "cell_type": "code",
      "execution_count": null,
      "metadata": {
        "id": "PFlD4C9Bvoa6"
      },
      "outputs": [],
      "source": [
        "import numpy as np\n",
        "import matplotlib.pyplot as plt\n",
        "from scipy.fftpack import fft\n",
        "\n",
        "# Generate a sample signal (sum of two sine waves)\n",
        "Fs = 1000  # Sampling frequency\n",
        "T = 1.0 / Fs  # Sampling interval\n",
        "t = np.linspace(0.0, 1.0, Fs)\n",
        "signal = np.sin(50.0 * 2.0 * np.pi * t) + 0.5 * np.sin(80.0 * 2.0 * np.pi * t)\n",
        "\n",
        "# Compute the FFT of the signal\n",
        "signal_fft = fft(signal)\n",
        "frequencies = np.fft.fftfreq(len(signal), T)\n",
        "\n",
        "# Plot the original signal and its FFT\n",
        "plt.subplot(2, 1, 1)\n",
        "plt.plot(t, signal)\n",
        "plt.title('Original Signal')\n",
        "\n",
        "plt.subplot(2, 1, 2)\n",
        "plt.plot(frequencies[:Fs//2], np.abs(signal_fft[:Fs//2]))\n",
        "plt.title('FFT of Signal')\n",
        "plt.show()"
      ]
    }
  ]
}