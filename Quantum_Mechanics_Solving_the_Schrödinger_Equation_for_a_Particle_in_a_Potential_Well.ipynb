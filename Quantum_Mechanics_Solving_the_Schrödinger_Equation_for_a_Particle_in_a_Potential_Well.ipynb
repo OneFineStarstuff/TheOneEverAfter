{
  "nbformat": 4,
  "nbformat_minor": 0,
  "metadata": {
    "colab": {
      "private_outputs": true,
      "provenance": [],
      "authorship_tag": "ABX9TyM0zmWUCC6YMptibzbSr5Ia",
      "include_colab_link": true
    },
    "kernelspec": {
      "name": "python3",
      "display_name": "Python 3"
    },
    "language_info": {
      "name": "python"
    }
  },
  "cells": [
    {
      "cell_type": "markdown",
      "metadata": {
        "id": "view-in-github",
        "colab_type": "text"
      },
      "source": [
        "<a href=\"https://colab.research.google.com/github/OneFineStarstuff/OneFineStarstuff/blob/main/Quantum_Mechanics_Solving_the_Schr%C3%B6dinger_Equation_for_a_Particle_in_a_Potential_Well.ipynb\" target=\"_parent\"><img src=\"https://colab.research.google.com/assets/colab-badge.svg\" alt=\"Open In Colab\"/></a>"
      ]
    },
    {
      "cell_type": "code",
      "execution_count": null,
      "metadata": {
        "id": "KXFLQ2zRktOr"
      },
      "outputs": [],
      "source": [
        "import numpy as np\n",
        "import matplotlib.pyplot as plt\n",
        "from scipy.linalg import eigh\n",
        "\n",
        "# Parameters\n",
        "L = 10.0       # Length of the potential well\n",
        "N = 1000       # Number of points in the grid\n",
        "m = 1.0        # Mass of the particle\n",
        "hbar = 1.0     # Planck's constant\n",
        "\n",
        "# Grid\n",
        "x = np.linspace(-L / 2, L / 2, N)\n",
        "dx = x[1] - x[0]\n",
        "\n",
        "# Potential (infinite square well)\n",
        "V = np.zeros(N)\n",
        "V[0], V[-1] = 1e6, 1e6  # High values to simulate infinity at boundaries\n",
        "\n",
        "# Hamiltonian matrix\n",
        "H = np.zeros((N, N))\n",
        "for i in range(1, N-1):\n",
        "    H[i, i] = hbar**2 / (m * dx**2) + V[i]\n",
        "    H[i, i-1] = -hbar**2 / (2 * m * dx**2)\n",
        "    H[i, i+1] = -hbar**2 / (2 * m * dx**2)\n",
        "\n",
        "# Solve for eigenvalues and eigenvectors\n",
        "eigenvalues, eigenvectors = eigh(H)\n",
        "\n",
        "# Plot the first three energy states\n",
        "plt.plot(x, eigenvectors[:, 0]**2, label=f'E1 = {eigenvalues[0]:.2f}')\n",
        "plt.plot(x, eigenvectors[:, 1]**2, label=f'E2 = {eigenvalues[1]:.2f}')\n",
        "plt.plot(x, eigenvectors[:, 2]**2, label=f'E3 = {eigenvalues[2]:.2f}')\n",
        "plt.title(\"Wavefunctions of a Particle in a Potential Well\")\n",
        "plt.xlabel(\"Position (x)\")\n",
        "plt.ylabel(\"Probability Density\")\n",
        "plt.legend()\n",
        "plt.show()"
      ]
    }
  ]
}