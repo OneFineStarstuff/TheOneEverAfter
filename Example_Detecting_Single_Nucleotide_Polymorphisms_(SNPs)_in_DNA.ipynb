{
  "nbformat": 4,
  "nbformat_minor": 0,
  "metadata": {
    "colab": {
      "private_outputs": true,
      "provenance": [],
      "authorship_tag": "ABX9TyMmD9cdr0MKkD+JS2A8pitG",
      "include_colab_link": true
    },
    "kernelspec": {
      "name": "python3",
      "display_name": "Python 3"
    },
    "language_info": {
      "name": "python"
    }
  },
  "cells": [
    {
      "cell_type": "markdown",
      "metadata": {
        "id": "view-in-github",
        "colab_type": "text"
      },
      "source": [
        "<a href=\"https://colab.research.google.com/github/OneFineStarstuff/OneFineStarstuff/blob/main/Example_Detecting_Single_Nucleotide_Polymorphisms_(SNPs)_in_DNA.ipynb\" target=\"_parent\"><img src=\"https://colab.research.google.com/assets/colab-badge.svg\" alt=\"Open In Colab\"/></a>"
      ]
    },
    {
      "cell_type": "code",
      "source": [
        "pip install Bio"
      ],
      "metadata": {
        "id": "ywIW4szzXUrx"
      },
      "execution_count": null,
      "outputs": []
    },
    {
      "cell_type": "code",
      "execution_count": null,
      "metadata": {
        "id": "twb-03RpXJNs"
      },
      "outputs": [],
      "source": [
        "from Bio.Seq import Seq\n",
        "from Bio import Align\n",
        "\n",
        "# Define two DNA sequences (reference and variant)\n",
        "reference_seq = Seq(\"ATGGCCATTGTAATGGGCCGCTGAAAGGGTGCCCGATAG\")\n",
        "variant_seq = Seq(\"ATGGCCATTGTAATGGGTCGCTGAAAGGGTGCCCGATAG\")\n",
        "\n",
        "# Initialize the aligner\n",
        "aligner = Align.PairwiseAligner()\n",
        "\n",
        "# Perform pairwise alignment to detect SNPs\n",
        "alignments = aligner.align(reference_seq, variant_seq)\n",
        "\n",
        "# Display the alignment\n",
        "for alignment in alignments:\n",
        "    print(alignment)"
      ]
    }
  ]
}