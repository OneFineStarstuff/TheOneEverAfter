{
  "nbformat": 4,
  "nbformat_minor": 0,
  "metadata": {
    "colab": {
      "private_outputs": true,
      "provenance": [],
      "authorship_tag": "ABX9TyMQLi6p1Y61t6+ABNmJSUWp",
      "include_colab_link": true
    },
    "kernelspec": {
      "name": "python3",
      "display_name": "Python 3"
    },
    "language_info": {
      "name": "python"
    }
  },
  "cells": [
    {
      "cell_type": "markdown",
      "metadata": {
        "id": "view-in-github",
        "colab_type": "text"
      },
      "source": [
        "<a href=\"https://colab.research.google.com/github/OneFineStarstuff/OneFineStarstuff/blob/main/Causal_Inference_with_DoWhy.ipynb\" target=\"_parent\"><img src=\"https://colab.research.google.com/assets/colab-badge.svg\" alt=\"Open In Colab\"/></a>"
      ]
    },
    {
      "cell_type": "code",
      "source": [
        "pip install dowhy"
      ],
      "metadata": {
        "id": "cZXqdT2siHF9"
      },
      "execution_count": null,
      "outputs": []
    },
    {
      "cell_type": "code",
      "execution_count": null,
      "metadata": {
        "id": "EbdZsZs0h6uh"
      },
      "outputs": [],
      "source": [
        "import pandas as pd\n",
        "from dowhy import CausalModel\n",
        "\n",
        "# Load your dataset\n",
        "data = pd.read_csv('path_to_your_data.csv')\n",
        "\n",
        "# Create a Causal Model\n",
        "model = CausalModel(\n",
        "    data=data,\n",
        "    treatment=\"treatment_variable\",\n",
        "    outcome=\"outcome_variable\",\n",
        "    common_causes=[\"confounder1\", \"confounder2\"]\n",
        ")\n",
        "\n",
        "# Identify the causal effect\n",
        "identified_estimand = model.identify_effect()\n",
        "\n",
        "# Estimate the causal effect\n",
        "estimate = model.estimate_effect(identified_estimand, method_name=\"backdoor.linear_regression\")\n",
        "\n",
        "print(estimate)"
      ]
    }
  ]
}