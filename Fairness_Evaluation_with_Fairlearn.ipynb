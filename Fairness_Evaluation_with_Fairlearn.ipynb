{
  "nbformat": 4,
  "nbformat_minor": 0,
  "metadata": {
    "colab": {
      "private_outputs": true,
      "provenance": [],
      "authorship_tag": "ABX9TyMYwryxCL2T8VCfoxbHGNGY",
      "include_colab_link": true
    },
    "kernelspec": {
      "name": "python3",
      "display_name": "Python 3"
    },
    "language_info": {
      "name": "python"
    }
  },
  "cells": [
    {
      "cell_type": "markdown",
      "metadata": {
        "id": "view-in-github",
        "colab_type": "text"
      },
      "source": [
        "<a href=\"https://colab.research.google.com/github/OneFineStarstuff/OneFineStarstuff/blob/main/Fairness_Evaluation_with_Fairlearn.ipynb\" target=\"_parent\"><img src=\"https://colab.research.google.com/assets/colab-badge.svg\" alt=\"Open In Colab\"/></a>"
      ]
    },
    {
      "cell_type": "code",
      "execution_count": null,
      "metadata": {
        "id": "C3myYbCBacAn"
      },
      "outputs": [],
      "source": [
        "pip install fairlearn"
      ]
    },
    {
      "cell_type": "code",
      "source": [
        "import pandas as pd\n",
        "from fairlearn.metrics import MetricFrame\n",
        "from sklearn.metrics import accuracy_score\n",
        "\n",
        "# Example data\n",
        "labels = pd.Series([0, 1, 0, 1, 1])\n",
        "predictions = pd.Series([0, 0, 0, 1, 1])\n",
        "demographic_data = pd.Series(['group_1', 'group_2', 'group_1', 'group_2', 'group_1'])\n",
        "\n",
        "# Evaluate accuracy across different demographic groups\n",
        "metric_frame = MetricFrame(metrics=accuracy_score,\n",
        "                           y_true=labels,\n",
        "                           y_pred=predictions,\n",
        "                           sensitive_features=demographic_data)\n",
        "\n",
        "# Display fairness report\n",
        "print(metric_frame.by_group)\n",
        "\n",
        "# Additional analysis (optional)\n",
        "# Overall metrics\n",
        "print(\"Overall accuracy:\", accuracy_score(labels, predictions))\n",
        "\n",
        "# Metrics for individual groups\n",
        "for group in demographic_data.unique():\n",
        "    group_mask = demographic_data == group\n",
        "    group_accuracy = accuracy_score(labels[group_mask], predictions[group_mask])\n",
        "    print(f\"Accuracy for {group}: {group_accuracy}\")"
      ],
      "metadata": {
        "id": "gCPoW8CJalp_"
      },
      "execution_count": null,
      "outputs": []
    }
  ]
}