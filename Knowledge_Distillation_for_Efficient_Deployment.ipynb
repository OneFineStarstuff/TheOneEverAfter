{
  "nbformat": 4,
  "nbformat_minor": 0,
  "metadata": {
    "colab": {
      "private_outputs": true,
      "provenance": [],
      "authorship_tag": "ABX9TyPzSN0/kwstmOYLaJUgqdud",
      "include_colab_link": true
    },
    "kernelspec": {
      "name": "python3",
      "display_name": "Python 3"
    },
    "language_info": {
      "name": "python"
    }
  },
  "cells": [
    {
      "cell_type": "markdown",
      "metadata": {
        "id": "view-in-github",
        "colab_type": "text"
      },
      "source": [
        "<a href=\"https://colab.research.google.com/github/OneFineStarstuff/OneFineStarstuff/blob/main/Knowledge_Distillation_for_Efficient_Deployment.ipynb\" target=\"_parent\"><img src=\"https://colab.research.google.com/assets/colab-badge.svg\" alt=\"Open In Colab\"/></a>"
      ]
    },
    {
      "cell_type": "code",
      "execution_count": null,
      "metadata": {
        "id": "GZjcqUUbfpUh"
      },
      "outputs": [],
      "source": [
        "import torch\n",
        "import torch.nn as nn\n",
        "import torch.optim as optim\n",
        "from transformers import GPT2Tokenizer, GPT2LMHeadModel\n",
        "\n",
        "# Example models (teacher and student)\n",
        "teacher_model = GPT2LMHeadModel.from_pretrained(\"gpt2\")\n",
        "student_model = GPT2LMHeadModel.from_pretrained(\"gpt2\")  # You can use a smaller model or a lighter version\n",
        "\n",
        "# Add pad token to tokenizer and resize model embeddings\n",
        "tokenizer = GPT2Tokenizer.from_pretrained(\"gpt2\")\n",
        "tokenizer.add_special_tokens({'pad_token': '[PAD]'})\n",
        "teacher_model.resize_token_embeddings(len(tokenizer))\n",
        "student_model.resize_token_embeddings(len(tokenizer))\n",
        "\n",
        "# Example training data\n",
        "texts = [\"Hello, how are you?\", \"This is an example text.\", \"Reinforcement learning with transformers.\"]\n",
        "inputs = tokenizer(texts, return_tensors=\"pt\", padding=True, truncation=True, max_length=50)\n",
        "\n",
        "# Distillation loss (KL Divergence Loss)\n",
        "distillation_criterion = nn.KLDivLoss(reduction='batchmean')\n",
        "\n",
        "# Optimizer for the student model\n",
        "optimizer = optim.Adam(student_model.parameters(), lr=1e-4)\n",
        "\n",
        "# Temperature for distillation\n",
        "temperature = 3.0\n",
        "\n",
        "# Knowledge distillation loop\n",
        "for epoch in range(3):  # Simulating 3 epochs\n",
        "    for data in inputs['input_ids']:  # Assuming inputs is your training dataset\n",
        "        data = data.unsqueeze(0)  # Add batch dimension\n",
        "        # Ensure data is on the correct device\n",
        "        data = data.to(student_model.device)\n",
        "\n",
        "        # Forward pass of the teacher model\n",
        "        with torch.no_grad():\n",
        "            teacher_output = teacher_model(data).logits / temperature\n",
        "\n",
        "        # Forward pass of the student model\n",
        "        student_output = student_model(data).logits / temperature\n",
        "\n",
        "        # Calculate the distillation loss\n",
        "        distillation_loss = distillation_criterion(\n",
        "            nn.functional.log_softmax(student_output, dim=-1),\n",
        "            nn.functional.softmax(teacher_output, dim=-1)\n",
        "        )\n",
        "\n",
        "        # Backward pass and optimization step\n",
        "        distillation_loss.backward()\n",
        "        optimizer.step()\n",
        "        optimizer.zero_grad()\n",
        "\n",
        "print(\"Knowledge distillation completed.\")"
      ]
    }
  ]
}