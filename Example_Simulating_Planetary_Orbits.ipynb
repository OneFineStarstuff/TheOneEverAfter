{
  "nbformat": 4,
  "nbformat_minor": 0,
  "metadata": {
    "colab": {
      "private_outputs": true,
      "provenance": [],
      "authorship_tag": "ABX9TyOv5tAC5cRI9Sq9zqrbKGgx",
      "include_colab_link": true
    },
    "kernelspec": {
      "name": "python3",
      "display_name": "Python 3"
    },
    "language_info": {
      "name": "python"
    }
  },
  "cells": [
    {
      "cell_type": "markdown",
      "metadata": {
        "id": "view-in-github",
        "colab_type": "text"
      },
      "source": [
        "<a href=\"https://colab.research.google.com/github/OneFineStarstuff/OneFineStarstuff/blob/main/Example_Simulating_Planetary_Orbits.ipynb\" target=\"_parent\"><img src=\"https://colab.research.google.com/assets/colab-badge.svg\" alt=\"Open In Colab\"/></a>"
      ]
    },
    {
      "cell_type": "code",
      "execution_count": null,
      "metadata": {
        "id": "NzN7UtZpYoQ7"
      },
      "outputs": [],
      "source": [
        "import numpy as np\n",
        "import matplotlib.pyplot as plt\n",
        "\n",
        "# Gravitational constant\n",
        "G = 6.67430e-11  # N(m/kg)^2\n",
        "M_sun = 1.989e30  # Mass of the Sun (kg)\n",
        "\n",
        "# Function to calculate gravitational force\n",
        "def gravitational_force(M, m, r):\n",
        "    return G * M * m / r**2\n",
        "\n",
        "# Time parameters\n",
        "dt = 0.001\n",
        "time_steps = 50000\n",
        "\n",
        "# Planet properties (mass, initial position, and velocity)\n",
        "m_earth = 5.972e24  # Earth mass (kg)\n",
        "r_earth = np.array([1.496e11, 0], dtype=float)  # Initial position (m)\n",
        "v_earth = np.array([0, 29780], dtype=float)  # Initial velocity (m/s)\n",
        "\n",
        "# Initialize position and velocity arrays\n",
        "r = r_earth\n",
        "v = v_earth\n",
        "positions = [r.copy()]\n",
        "\n",
        "# Simulation loop (Euler method)\n",
        "for _ in range(time_steps):\n",
        "    r_mag = np.linalg.norm(r)\n",
        "    F = gravitational_force(M_sun, m_earth, r_mag)\n",
        "    a = -F / m_earth * r / r_mag  # Acceleration\n",
        "    v += a * dt\n",
        "    r += v * dt\n",
        "    positions.append(r.copy())\n",
        "\n",
        "# Extract x and y positions\n",
        "positions = np.array(positions)\n",
        "x_positions = positions[:, 0]\n",
        "y_positions = positions[:, 1]\n",
        "\n",
        "# Plot the orbit\n",
        "plt.plot(x_positions, y_positions)\n",
        "plt.title(\"Earth's Orbit Around the Sun\")\n",
        "plt.xlabel(\"X Position (m)\")\n",
        "plt.ylabel(\"Y Position (m)\")\n",
        "plt.gca().set_aspect('equal', adjustable='box')\n",
        "plt.grid(True)\n",
        "plt.show()"
      ]
    }
  ]
}