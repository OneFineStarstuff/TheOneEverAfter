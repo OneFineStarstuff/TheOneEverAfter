{
  "nbformat": 4,
  "nbformat_minor": 0,
  "metadata": {
    "colab": {
      "private_outputs": true,
      "provenance": [],
      "authorship_tag": "ABX9TyMaZ56E7wxKSs+aN7RwoP9S",
      "include_colab_link": true
    },
    "kernelspec": {
      "name": "python3",
      "display_name": "Python 3"
    },
    "language_info": {
      "name": "python"
    }
  },
  "cells": [
    {
      "cell_type": "markdown",
      "metadata": {
        "id": "view-in-github",
        "colab_type": "text"
      },
      "source": [
        "<a href=\"https://colab.research.google.com/github/OneFineStarstuff/OneFineStardust/blob/main/Financial_Data_Analysis_with_Pandas.ipynb\" target=\"_parent\"><img src=\"https://colab.research.google.com/assets/colab-badge.svg\" alt=\"Open In Colab\"/></a>"
      ]
    },
    {
      "cell_type": "code",
      "execution_count": null,
      "metadata": {
        "id": "T2zTrBIUirlf"
      },
      "outputs": [],
      "source": [
        "import pandas as pd\n",
        "import matplotlib.pyplot as plt\n",
        "\n",
        "# Load financial data (CSV format)\n",
        "data = pd.read_csv('financial_data.csv', parse_dates=['Date'], index_col='Date')\n",
        "\n",
        "# Calculate moving averages\n",
        "data['SMA_20'] = data['Close'].rolling(window=20).mean()\n",
        "data['SMA_50'] = data['Close'].rolling(window=50).mean()\n",
        "\n",
        "# Plot closing prices and moving averages\n",
        "plt.figure(figsize=(12, 6))\n",
        "plt.plot(data['Close'], label='Close Price')\n",
        "plt.plot(data['SMA_20'], label='20-Day SMA', color='orange')\n",
        "plt.plot(data['SMA_50'], label='50-Day SMA', color='green')\n",
        "plt.title('Stock Price with Moving Averages')\n",
        "plt.xlabel('Date')\n",
        "plt.ylabel('Price')\n",
        "plt.legend()\n",
        "plt.show()"
      ]
    }
  ]
}