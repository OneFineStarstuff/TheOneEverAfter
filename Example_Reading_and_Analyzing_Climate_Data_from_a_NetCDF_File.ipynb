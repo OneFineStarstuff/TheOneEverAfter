{
  "nbformat": 4,
  "nbformat_minor": 0,
  "metadata": {
    "colab": {
      "private_outputs": true,
      "provenance": [],
      "authorship_tag": "ABX9TyOBy4KcWEzxJvP3tYF0hSwK",
      "include_colab_link": true
    },
    "kernelspec": {
      "name": "python3",
      "display_name": "Python 3"
    },
    "language_info": {
      "name": "python"
    }
  },
  "cells": [
    {
      "cell_type": "markdown",
      "metadata": {
        "id": "view-in-github",
        "colab_type": "text"
      },
      "source": [
        "<a href=\"https://colab.research.google.com/github/OneFineStarstuff/OneFineStarstuff/blob/main/Example_Reading_and_Analyzing_Climate_Data_from_a_NetCDF_File.ipynb\" target=\"_parent\"><img src=\"https://colab.research.google.com/assets/colab-badge.svg\" alt=\"Open In Colab\"/></a>"
      ]
    },
    {
      "cell_type": "code",
      "source": [
        "pip install netCDF4"
      ],
      "metadata": {
        "id": "YSBvLt8ayhNZ"
      },
      "execution_count": null,
      "outputs": []
    },
    {
      "cell_type": "code",
      "execution_count": null,
      "metadata": {
        "id": "VFoZ2QhKyZcb"
      },
      "outputs": [],
      "source": [
        "from netCDF4 import Dataset\n",
        "import numpy as np\n",
        "import matplotlib.pyplot as plt\n",
        "\n",
        "# Load the NetCDF file (example: global temperature data)\n",
        "nc_file = 'climate_data.nc'\n",
        "nc_data = Dataset(nc_file, mode='r')\n",
        "\n",
        "# Extract variables (e.g., temperature and time)\n",
        "temperature = nc_data.variables['temperature'][:]\n",
        "time = nc_data.variables['time'][:]\n",
        "\n",
        "# Close the NetCDF file\n",
        "nc_data.close()\n",
        "\n",
        "# Calculate global average temperature\n",
        "global_avg_temp = np.mean(temperature, axis=(1, 2))\n",
        "\n",
        "# Plot the global average temperature over time\n",
        "plt.plot(time, global_avg_temp)\n",
        "plt.title('Global Average Temperature Over Time')\n",
        "plt.xlabel('Time')\n",
        "plt.ylabel('Temperature (K)')\n",
        "plt.grid(True)\n",
        "plt.show()"
      ]
    }
  ]
}