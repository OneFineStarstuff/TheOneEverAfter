{
  "nbformat": 4,
  "nbformat_minor": 0,
  "metadata": {
    "colab": {
      "private_outputs": true,
      "provenance": [],
      "authorship_tag": "ABX9TyNMUYBYHDw7+f0TjB8OglAF",
      "include_colab_link": true
    },
    "kernelspec": {
      "name": "python3",
      "display_name": "Python 3"
    },
    "language_info": {
      "name": "python"
    }
  },
  "cells": [
    {
      "cell_type": "markdown",
      "metadata": {
        "id": "view-in-github",
        "colab_type": "text"
      },
      "source": [
        "<a href=\"https://colab.research.google.com/github/OneFineStarstuff/OneFineStarstuff/blob/main/Example_Implementing_Q_Learning_for_Gridworld.ipynb\" target=\"_parent\"><img src=\"https://colab.research.google.com/assets/colab-badge.svg\" alt=\"Open In Colab\"/></a>"
      ]
    },
    {
      "cell_type": "code",
      "execution_count": null,
      "metadata": {
        "id": "D8huWscDbtld"
      },
      "outputs": [],
      "source": [
        "import numpy as np\n",
        "import random\n",
        "\n",
        "# Environment grid dimensions (4x4 grid)\n",
        "grid_size = 4\n",
        "# Initialize Q-table (all zeros)\n",
        "Q_table = np.zeros((grid_size, grid_size, 4))  # 4 possible actions (up, down, left, right)\n",
        "\n",
        "# Parameters\n",
        "alpha = 0.1  # Learning rate\n",
        "gamma = 0.9  # Discount factor\n",
        "epsilon = 0.2  # Exploration factor\n",
        "actions = ['up', 'down', 'left', 'right']\n",
        "\n",
        "# Reward matrix (goal state at [3, 3])\n",
        "rewards = np.zeros((grid_size, grid_size))\n",
        "rewards[3, 3] = 100  # Goal\n",
        "\n",
        "# Define the movement based on action\n",
        "def move(state, action):\n",
        "    i, j = state\n",
        "    if action == 'up':\n",
        "        return max(0, i - 1), j\n",
        "    elif action == 'down':\n",
        "        return min(grid_size - 1, i + 1), j\n",
        "    elif action == 'left':\n",
        "        return i, max(0, j - 1)\n",
        "    elif action == 'right':\n",
        "        return i, min(grid_size - 1, j + 1)\n",
        "\n",
        "# Q-learning algorithm\n",
        "for episode in range(1000):\n",
        "    state = (0, 0)  # Start at top-left corner\n",
        "    while state != (3, 3):  # Until goal is reached\n",
        "        # Choose action (epsilon-greedy)\n",
        "        if random.uniform(0, 1) < epsilon:\n",
        "            action = random.choice(actions)\n",
        "        else:\n",
        "            action = actions[np.argmax(Q_table[state[0], state[1]])]\n",
        "\n",
        "        # Take action and observe new state and reward\n",
        "        new_state = move(state, action)\n",
        "        reward = rewards[new_state]\n",
        "\n",
        "        # Update Q-value using Bellman equation\n",
        "        Q_table[state[0], state[1], actions.index(action)] = (\n",
        "            Q_table[state[0], state[1], actions.index(action)] + alpha *\n",
        "            (reward + gamma * np.max(Q_table[new_state[0], new_state[1]]) -\n",
        "             Q_table[state[0], state[1], actions.index(action)])\n",
        "        )\n",
        "\n",
        "        # Move to new state\n",
        "        state = new_state\n",
        "\n",
        "# Display final Q-table\n",
        "print(\"Learned Q-table:\")\n",
        "print(Q_table)"
      ]
    }
  ]
}