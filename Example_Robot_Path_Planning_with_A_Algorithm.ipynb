{
  "nbformat": 4,
  "nbformat_minor": 0,
  "metadata": {
    "colab": {
      "private_outputs": true,
      "provenance": [],
      "authorship_tag": "ABX9TyMGW6aBYo8Rwd2wWHDsMxU4",
      "include_colab_link": true
    },
    "kernelspec": {
      "name": "python3",
      "display_name": "Python 3"
    },
    "language_info": {
      "name": "python"
    }
  },
  "cells": [
    {
      "cell_type": "markdown",
      "metadata": {
        "id": "view-in-github",
        "colab_type": "text"
      },
      "source": [
        "<a href=\"https://colab.research.google.com/github/OneFineStarstuff/OneFineStardust/blob/main/Example_Robot_Path_Planning_with_A_Algorithm.ipynb\" target=\"_parent\"><img src=\"https://colab.research.google.com/assets/colab-badge.svg\" alt=\"Open In Colab\"/></a>"
      ]
    },
    {
      "cell_type": "code",
      "execution_count": null,
      "metadata": {
        "id": "DlZRPsrTEu66"
      },
      "outputs": [],
      "source": [
        "import numpy as np\n",
        "import matplotlib.pyplot as plt\n",
        "\n",
        "def heuristic(a, b):\n",
        "    return np.linalg.norm(a - b)\n",
        "\n",
        "def astar(start, goal, grid):\n",
        "    open_set = {tuple(start)}\n",
        "    came_from = {}\n",
        "    g_score = {tuple(start): 0}\n",
        "    f_score = {tuple(start): heuristic(start, goal)}\n",
        "\n",
        "    while open_set:\n",
        "        current = min(open_set, key=lambda x: f_score.get(x, float('inf')))\n",
        "\n",
        "        if np.array_equal(current, goal):\n",
        "            return reconstruct_path(came_from, current)\n",
        "\n",
        "        open_set.remove(current)\n",
        "\n",
        "        for neighbor in get_neighbors(current, grid):\n",
        "            tentative_g_score = g_score[current] + 1\n",
        "\n",
        "            if tentative_g_score < g_score.get(neighbor, float('inf')):\n",
        "                came_from[neighbor] = current\n",
        "                g_score[neighbor] = tentative_g_score\n",
        "                f_score[neighbor] = tentative_g_score + heuristic(np.array(neighbor), goal)\n",
        "                open_set.add(neighbor)\n",
        "\n",
        "    return []\n",
        "\n",
        "def reconstruct_path(came_from, current):\n",
        "    total_path = [current]\n",
        "    while current in came_from:\n",
        "        current = came_from[current]\n",
        "        total_path.append(current)\n",
        "    total_path.reverse()\n",
        "    return total_path\n",
        "\n",
        "def get_neighbors(node, grid):\n",
        "    # Define the neighbor nodes (up, down, left, right)\n",
        "    neighbors = []\n",
        "    for dx, dy in [(-1, 0), (1, 0), (0, -1), (0, 1)]:\n",
        "        neighbor = (node[0] + dx, node[1] + dy)\n",
        "        if 0 <= neighbor[0] < grid.shape[0] and 0 <= neighbor[1] < grid.shape[1] and grid[neighbor] == 0:\n",
        "            neighbors.append(neighbor)\n",
        "    return neighbors\n",
        "\n",
        "# Example grid (0: free space; 1: obstacle)\n",
        "grid = np.array([[0, 0, 0, 1],\n",
        "                 [0, 1, 0, 0],\n",
        "                 [0, 0, 0, 1],\n",
        "                 [1, 0, 0, 0]])\n",
        "\n",
        "start = np.array([0, 0])\n",
        "goal = np.array([3, 3])\n",
        "path = astar(start, goal, grid)\n",
        "\n",
        "# Plotting the path\n",
        "plt.imshow(grid.T, origin='lower', cmap='Greys')\n",
        "if path:\n",
        "    plt.plot(*zip(*path), marker='o', color='red')\n",
        "plt.scatter(start[1], start[0], marker='o', color='blue', label='Start')\n",
        "plt.scatter(goal[1], goal[0], marker='o', color='green', label='Goal')\n",
        "plt.legend()\n",
        "plt.title('A* Path Planning')\n",
        "plt.show()"
      ]
    }
  ]
}