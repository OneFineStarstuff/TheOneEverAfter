{
  "nbformat": 4,
  "nbformat_minor": 0,
  "metadata": {
    "colab": {
      "private_outputs": true,
      "provenance": [],
      "authorship_tag": "ABX9TyOOm9WDVQbl9AzATbfs7ZyJ",
      "include_colab_link": true
    },
    "kernelspec": {
      "name": "python3",
      "display_name": "Python 3"
    },
    "language_info": {
      "name": "python"
    }
  },
  "cells": [
    {
      "cell_type": "markdown",
      "metadata": {
        "id": "view-in-github",
        "colab_type": "text"
      },
      "source": [
        "<a href=\"https://colab.research.google.com/github/OneFineStarstuff/OneFineStardust/blob/main/Example_Code_for_an_N_body_Simulation.ipynb\" target=\"_parent\"><img src=\"https://colab.research.google.com/assets/colab-badge.svg\" alt=\"Open In Colab\"/></a>"
      ]
    },
    {
      "cell_type": "code",
      "source": [
        "pip install rebound"
      ],
      "metadata": {
        "id": "bp5Ywsirvl2H"
      },
      "execution_count": null,
      "outputs": []
    },
    {
      "cell_type": "code",
      "execution_count": null,
      "metadata": {
        "id": "YxsZHNtUvTZB"
      },
      "outputs": [],
      "source": [
        "import rebound\n",
        "import numpy as np\n",
        "import matplotlib.pyplot as plt\n",
        "\n",
        "# Create a simulation\n",
        "sim = rebound.Simulation()\n",
        "\n",
        "# Add a star (the Sun)\n",
        "sim.add(m=1.0)  # mass of the Sun in solar masses\n",
        "\n",
        "# Add planets (e.g., Earth and Mars)\n",
        "sim.add(m=3.003e-6, a=1.0)  # Earth\n",
        "sim.add(m=3.227e-7, a=1.524)  # Mars\n",
        "\n",
        "# Set the initial conditions\n",
        "sim.move_to_com()  # Move to center of mass frame\n",
        "\n",
        "# Time parameters\n",
        "time_step = 0.01  # Time step in years\n",
        "total_time = 10    # Total time of simulation in years\n",
        "\n",
        "# Store positions for plotting\n",
        "positions = []\n",
        "\n",
        "# Run the simulation\n",
        "for i in range(int(total_time/time_step)):\n",
        "    sim.integrate(sim.t + time_step)\n",
        "    positions.append([sim.particles[1].x, sim.particles[1].y])  # Store Earth's position\n",
        "\n",
        "# Convert positions to numpy array for easier manipulation\n",
        "positions = np.array(positions)\n",
        "\n",
        "# Plotting the results\n",
        "plt.figure(figsize=(8, 8))\n",
        "plt.plot(positions[:, 0], positions[:, 1], label='Earth Orbit')\n",
        "plt.scatter(0, 0, color='yellow', s=200, label='Sun')  # Sun's position\n",
        "plt.title('N-body Simulation of Earth Orbiting the Sun')\n",
        "plt.xlabel('X Position (AU)')\n",
        "plt.ylabel('Y Position (AU)')\n",
        "plt.axis('equal')\n",
        "plt.grid()\n",
        "plt.legend()\n",
        "plt.show()"
      ]
    }
  ]
}