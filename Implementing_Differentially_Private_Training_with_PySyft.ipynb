{
  "nbformat": 4,
  "nbformat_minor": 0,
  "metadata": {
    "colab": {
      "private_outputs": true,
      "provenance": [],
      "authorship_tag": "ABX9TyP5g9YwGOYigv4EssH3UKB7",
      "include_colab_link": true
    },
    "kernelspec": {
      "name": "python3",
      "display_name": "Python 3"
    },
    "language_info": {
      "name": "python"
    }
  },
  "cells": [
    {
      "cell_type": "markdown",
      "metadata": {
        "id": "view-in-github",
        "colab_type": "text"
      },
      "source": [
        "<a href=\"https://colab.research.google.com/github/OneFineStarstuff/OneFineStarstuff/blob/main/Implementing_Differentially_Private_Training_with_PySyft.ipynb\" target=\"_parent\"><img src=\"https://colab.research.google.com/assets/colab-badge.svg\" alt=\"Open In Colab\"/></a>"
      ]
    },
    {
      "cell_type": "code",
      "source": [
        "pip install opacus"
      ],
      "metadata": {
        "id": "Tt_jSqCcRl6L"
      },
      "execution_count": null,
      "outputs": []
    },
    {
      "cell_type": "code",
      "source": [
        "import torch\n",
        "import torch.nn as nn\n",
        "from torch.utils.data import DataLoader, TensorDataset\n",
        "from opacus import PrivacyEngine\n",
        "\n",
        "# Define your model\n",
        "class MyModel(nn.Module):\n",
        "    def __init__(self):\n",
        "        super(MyModel, self).__init__()\n",
        "        self.fc = nn.Linear(10, 1)  # Example model\n",
        "\n",
        "    def forward(self, x):\n",
        "        return self.fc(x)\n",
        "\n",
        "# Create some dummy data\n",
        "data = torch.randn(1000, 10)\n",
        "labels = torch.randint(0, 2, (1000, 1)).float()\n",
        "dataset = TensorDataset(data, labels)\n",
        "\n",
        "# Initialize model and data\n",
        "model = MyModel()\n",
        "optimizer = torch.optim.SGD(model.parameters(), lr=0.01)\n",
        "dataloader = DataLoader(dataset, batch_size=32, shuffle=True)\n",
        "\n",
        "# Initialize the privacy engine\n",
        "privacy_engine = PrivacyEngine()\n",
        "\n",
        "# Attach privacy engine to the model and optimizer\n",
        "model, optimizer, dataloader = privacy_engine.make_private(\n",
        "    module=model,\n",
        "    optimizer=optimizer,\n",
        "    data_loader=dataloader,\n",
        "    noise_multiplier=1.1,\n",
        "    max_grad_norm=1.0\n",
        ")\n",
        "\n",
        "# Define the loss function\n",
        "loss_fn = nn.BCEWithLogitsLoss()\n",
        "\n",
        "# Training loop with differential privacy\n",
        "for epoch in range(10):  # Example for 10 epochs\n",
        "    total_loss = 0.0\n",
        "    for batch_data, labels in dataloader:\n",
        "        optimizer.zero_grad()\n",
        "        outputs = model(batch_data)\n",
        "        loss = loss_fn(outputs, labels)\n",
        "        loss.backward()\n",
        "        optimizer.step()\n",
        "        total_loss += loss.item()\n",
        "    avg_loss = total_loss / len(dataloader)\n",
        "    print(f\"Epoch [{epoch + 1}/10], Loss: {avg_loss:.4f}\")"
      ],
      "metadata": {
        "id": "B0RPA_ZrRUd-"
      },
      "execution_count": null,
      "outputs": []
    }
  ]
}