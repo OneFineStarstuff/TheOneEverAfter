{
  "nbformat": 4,
  "nbformat_minor": 0,
  "metadata": {
    "colab": {
      "private_outputs": true,
      "provenance": [],
      "authorship_tag": "ABX9TyOKGyEASsm31fXJlkcknpe5",
      "include_colab_link": true
    },
    "kernelspec": {
      "name": "python3",
      "display_name": "Python 3"
    },
    "language_info": {
      "name": "python"
    }
  },
  "cells": [
    {
      "cell_type": "markdown",
      "metadata": {
        "id": "view-in-github",
        "colab_type": "text"
      },
      "source": [
        "<a href=\"https://colab.research.google.com/github/OneFineStarstuff/OneFineStardust/blob/main/Implementing_K_Means_Clustering_for_Customer_Segmentation.ipynb\" target=\"_parent\"><img src=\"https://colab.research.google.com/assets/colab-badge.svg\" alt=\"Open In Colab\"/></a>"
      ]
    },
    {
      "cell_type": "code",
      "execution_count": null,
      "metadata": {
        "id": "puoROaOWKxc8"
      },
      "outputs": [],
      "source": [
        "import pandas as pd\n",
        "from sklearn.cluster import KMeans\n",
        "import matplotlib.pyplot as plt\n",
        "\n",
        "# Load customer data (e.g., spending habits)\n",
        "data = pd.read_csv('customer_data.csv')\n",
        "\n",
        "# Select relevant features for clustering\n",
        "X = data[['annual_income', 'spending_score']]  # Example features\n",
        "\n",
        "# Fit K-Means clustering model\n",
        "kmeans = KMeans(n_clusters=5)  # Choose number of clusters\n",
        "data['cluster'] = kmeans.fit_predict(X)\n",
        "\n",
        "# Plotting the clusters\n",
        "plt.scatter(data['annual_income'], data['spending_score'], c=data['cluster'], cmap='viridis')\n",
        "plt.xlabel('Annual Income')\n",
        "plt.ylabel('Spending Score')\n",
        "plt.title('Customer Segmentation using K-Means Clustering')\n",
        "plt.show()"
      ]
    }
  ]
}