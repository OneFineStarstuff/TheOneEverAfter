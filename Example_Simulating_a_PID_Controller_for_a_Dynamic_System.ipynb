{
  "nbformat": 4,
  "nbformat_minor": 0,
  "metadata": {
    "colab": {
      "private_outputs": true,
      "provenance": [],
      "authorship_tag": "ABX9TyODHzwtKb9GMgExIsjITrMF",
      "include_colab_link": true
    },
    "kernelspec": {
      "name": "python3",
      "display_name": "Python 3"
    },
    "language_info": {
      "name": "python"
    }
  },
  "cells": [
    {
      "cell_type": "markdown",
      "metadata": {
        "id": "view-in-github",
        "colab_type": "text"
      },
      "source": [
        "<a href=\"https://colab.research.google.com/github/OneFineStarstuff/OneFineStarstuff/blob/main/Example_Simulating_a_PID_Controller_for_a_Dynamic_System.ipynb\" target=\"_parent\"><img src=\"https://colab.research.google.com/assets/colab-badge.svg\" alt=\"Open In Colab\"/></a>"
      ]
    },
    {
      "cell_type": "code",
      "source": [
        "pip install control"
      ],
      "metadata": {
        "id": "kp1-_V8ikdoA"
      },
      "execution_count": null,
      "outputs": []
    },
    {
      "cell_type": "code",
      "execution_count": null,
      "metadata": {
        "id": "2McAXdHikPDw"
      },
      "outputs": [],
      "source": [
        "import matplotlib.pyplot as plt\n",
        "from control.matlab import *\n",
        "\n",
        "# Define the Laplace transform variable\n",
        "s = tf('s')\n",
        "\n",
        "# Define a transfer function for a dynamic system (example: mass-spring-damper system)\n",
        "numerator = [1]\n",
        "denominator = [1, 10, 20]  # Corresponds to 1/(s^2 + 10s + 20)\n",
        "system = tf(numerator, denominator)\n",
        "\n",
        "# Design a PID controller\n",
        "Kp = 300  # Proportional gain\n",
        "Ki = 700  # Integral gain\n",
        "Kd = 50   # Derivative gain\n",
        "pid = Kp + Ki/s + Kd*s\n",
        "\n",
        "# Closed-loop system (with PID controller)\n",
        "closed_loop_system = feedback(pid * system, 1)\n",
        "\n",
        "# Step response of the closed-loop system\n",
        "t, y = step(closed_loop_system)\n",
        "\n",
        "# Plot the response\n",
        "plt.plot(t, y)\n",
        "plt.title('Step Response of PID Controlled System')\n",
        "plt.xlabel('Time (s)')\n",
        "plt.ylabel('Amplitude')\n",
        "plt.grid(True)\n",
        "plt.show()"
      ]
    }
  ]
}