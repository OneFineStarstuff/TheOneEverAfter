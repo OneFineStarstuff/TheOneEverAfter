{
  "nbformat": 4,
  "nbformat_minor": 0,
  "metadata": {
    "colab": {
      "private_outputs": true,
      "provenance": [],
      "authorship_tag": "ABX9TyPZtaYF272faXvWUW9aJBq9",
      "include_colab_link": true
    },
    "kernelspec": {
      "name": "python3",
      "display_name": "Python 3"
    },
    "language_info": {
      "name": "python"
    }
  },
  "cells": [
    {
      "cell_type": "markdown",
      "metadata": {
        "id": "view-in-github",
        "colab_type": "text"
      },
      "source": [
        "<a href=\"https://colab.research.google.com/github/OneFineStarstuff/OneFineStardust/blob/main/Finance_Fairness_and_Bias_Testing.ipynb\" target=\"_parent\"><img src=\"https://colab.research.google.com/assets/colab-badge.svg\" alt=\"Open In Colab\"/></a>"
      ]
    },
    {
      "cell_type": "code",
      "source": [
        "!pip install 'aif360[Reductions]'\n",
        "!pip install 'aif360[inFairness]'"
      ],
      "metadata": {
        "id": "CWj8e7lyATnN"
      },
      "execution_count": null,
      "outputs": []
    },
    {
      "cell_type": "code",
      "execution_count": null,
      "metadata": {
        "id": "879iBia-AJj_"
      },
      "outputs": [],
      "source": [
        "import torch\n",
        "\n",
        "def normalized_discounted_cumulative_gain():\n",
        "    # Original function content here\n",
        "    pass\n",
        "\n",
        "# Using torch.vmap instead of functorch.vmap\n",
        "vect_normalized_discounted_cumulative_gain = torch.vmap(normalized_discounted_cumulative_gain)\n",
        "\n",
        "def monte_carlo_ndcg():\n",
        "    # Original function content here\n",
        "    pass\n",
        "\n",
        "# Using torch.vmap instead of functorch.vmap\n",
        "monte_carlo_vect_ndcg = torch.vmap(vect_normalized_discounted_cumulative_gain, in_dims=(0,))"
      ]
    }
  ]
}