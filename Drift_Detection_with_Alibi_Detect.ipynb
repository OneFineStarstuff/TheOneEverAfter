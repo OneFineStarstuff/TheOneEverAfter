{
  "nbformat": 4,
  "nbformat_minor": 0,
  "metadata": {
    "colab": {
      "private_outputs": true,
      "provenance": [],
      "authorship_tag": "ABX9TyNKXvLJL6Vx1W2cPcNNbery",
      "include_colab_link": true
    },
    "kernelspec": {
      "name": "python3",
      "display_name": "Python 3"
    },
    "language_info": {
      "name": "python"
    }
  },
  "cells": [
    {
      "cell_type": "markdown",
      "metadata": {
        "id": "view-in-github",
        "colab_type": "text"
      },
      "source": [
        "<a href=\"https://colab.research.google.com/github/OneFineStarstuff/OneFineStarstuff/blob/main/Drift_Detection_with_Alibi_Detect.ipynb\" target=\"_parent\"><img src=\"https://colab.research.google.com/assets/colab-badge.svg\" alt=\"Open In Colab\"/></a>"
      ]
    },
    {
      "cell_type": "code",
      "execution_count": null,
      "metadata": {
        "id": "cMHARk_ff4Gj"
      },
      "outputs": [],
      "source": [
        "pip install alibi-detect"
      ]
    },
    {
      "cell_type": "code",
      "source": [
        "import numpy as np\n",
        "import pandas as pd\n",
        "from alibi_detect.cd import KSDrift\n",
        "from sklearn.datasets import load_iris\n",
        "from sklearn.model_selection import train_test_split\n",
        "from sklearn.ensemble import RandomForestClassifier\n",
        "\n",
        "# Load dataset\n",
        "data = load_iris()\n",
        "X = pd.DataFrame(data.data, columns=data.feature_names)\n",
        "y = data.target\n",
        "\n",
        "# Split data into train and test sets\n",
        "X_train, X_test, y_train, y_test = train_test_split(X, y, test_size=0.3, random_state=42)\n",
        "\n",
        "# Train a model\n",
        "model = RandomForestClassifier()\n",
        "model.fit(X_train, y_train)\n",
        "\n",
        "# Fit drift detector on the training features\n",
        "cd = KSDrift(X_train.to_numpy(), p_val=0.05)\n",
        "\n",
        "# Detect drift in the test set features\n",
        "drift_preds = cd.predict(X_test.to_numpy())\n",
        "\n",
        "if drift_preds['data']['is_drift']:\n",
        "    print(\"Drift detected in the test set features.\")\n",
        "else:\n",
        "    print(\"No drift detected in the test set features.\")"
      ],
      "metadata": {
        "id": "HTtXRTg2gBjP"
      },
      "execution_count": null,
      "outputs": []
    }
  ]
}