{
  "nbformat": 4,
  "nbformat_minor": 0,
  "metadata": {
    "colab": {
      "private_outputs": true,
      "provenance": [],
      "authorship_tag": "ABX9TyMk6F9MqiJQHB6SE0L1cNuw",
      "include_colab_link": true
    },
    "kernelspec": {
      "name": "python3",
      "display_name": "Python 3"
    },
    "language_info": {
      "name": "python"
    }
  },
  "cells": [
    {
      "cell_type": "markdown",
      "metadata": {
        "id": "view-in-github",
        "colab_type": "text"
      },
      "source": [
        "<a href=\"https://colab.research.google.com/github/OneFineStarstuff/OneFineStarstuff/blob/main/Example_Sending_and_Receiving_Data_using_MQTT.ipynb\" target=\"_parent\"><img src=\"https://colab.research.google.com/assets/colab-badge.svg\" alt=\"Open In Colab\"/></a>"
      ]
    },
    {
      "cell_type": "code",
      "source": [
        "!pip install paho-mqtt"
      ],
      "metadata": {
        "id": "cLumaKEawt33"
      },
      "execution_count": null,
      "outputs": []
    },
    {
      "cell_type": "code",
      "execution_count": null,
      "metadata": {
        "id": "mp72wPCwvbJ6"
      },
      "outputs": [],
      "source": [
        "import paho.mqtt.client as mqtt\n",
        "\n",
        "# Define the MQTT client\n",
        "client = mqtt.Client()\n",
        "\n",
        "# Connect to an MQTT broker\n",
        "client.connect(\"mqtt.eclipseprojects.io\", 1883, 60)\n",
        "\n",
        "# Callback function for receiving messages\n",
        "def on_message(client, userdata, message):\n",
        "    print(f\"Received message: {message.payload.decode()} on topic {message.topic}\")\n",
        "\n",
        "# Subscribe to a topic and set callback\n",
        "client.on_message = on_message\n",
        "client.subscribe(\"sensor/temperature\")\n",
        "\n",
        "# Publish a message to the topic\n",
        "client.publish(\"sensor/temperature\", \"25.5\")\n",
        "\n",
        "# Start the loop to process messages\n",
        "client.loop_forever()"
      ]
    }
  ]
}