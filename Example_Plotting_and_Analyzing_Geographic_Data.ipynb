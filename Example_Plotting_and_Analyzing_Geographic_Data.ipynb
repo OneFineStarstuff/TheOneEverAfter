{
  "nbformat": 4,
  "nbformat_minor": 0,
  "metadata": {
    "colab": {
      "private_outputs": true,
      "provenance": [],
      "authorship_tag": "ABX9TyPQFxr4EvwrFqgEA3lNhjyH",
      "include_colab_link": true
    },
    "kernelspec": {
      "name": "python3",
      "display_name": "Python 3"
    },
    "language_info": {
      "name": "python"
    }
  },
  "cells": [
    {
      "cell_type": "markdown",
      "metadata": {
        "id": "view-in-github",
        "colab_type": "text"
      },
      "source": [
        "<a href=\"https://colab.research.google.com/github/OneFineStarstuff/OneFineStarstuff/blob/main/Example_Plotting_and_Analyzing_Geographic_Data.ipynb\" target=\"_parent\"><img src=\"https://colab.research.google.com/assets/colab-badge.svg\" alt=\"Open In Colab\"/></a>"
      ]
    },
    {
      "cell_type": "code",
      "execution_count": null,
      "metadata": {
        "id": "WGInSCDPfXI5"
      },
      "outputs": [],
      "source": [
        "import geopandas as gpd\n",
        "import matplotlib.pyplot as plt\n",
        "import requests, zipfile, io\n",
        "\n",
        "# Correct URL to the Natural Earth shapefile\n",
        "url = 'https://naturalearth.s3.amazonaws.com/50m_cultural/ne_50m_admin_0_countries.zip'\n",
        "r = requests.get(url)\n",
        "z = zipfile.ZipFile(io.BytesIO(r.content))\n",
        "z.extractall(\"natural_earth\")\n",
        "\n",
        "# Load the shapefile into GeoPandas\n",
        "world = gpd.read_file(\"natural_earth/ne_50m_admin_0_countries.shp\")\n",
        "\n",
        "# List the columns to inspect the DataFrame\n",
        "print(world.columns)\n",
        "\n",
        "# Plot the world map\n",
        "world.plot()\n",
        "plt.title('World Map')\n",
        "plt.show()\n",
        "\n",
        "# Ensure the correct key is used for filtering\n",
        "if 'POP_EST' in world.columns:\n",
        "    large_countries = world[world['POP_EST'] > 100e6]\n",
        "    # Plot the filtered result\n",
        "    large_countries.plot()\n",
        "    plt.title('Countries with Population > 100 Million')\n",
        "    plt.show()\n",
        "else:\n",
        "    print(\"Key 'POP_EST' not found in DataFrame columns.\")"
      ]
    }
  ]
}