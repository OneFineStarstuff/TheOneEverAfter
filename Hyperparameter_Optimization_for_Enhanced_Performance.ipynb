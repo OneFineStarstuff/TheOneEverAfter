{
  "nbformat": 4,
  "nbformat_minor": 0,
  "metadata": {
    "colab": {
      "private_outputs": true,
      "provenance": [],
      "authorship_tag": "ABX9TyNODiGZsneMe69Cnm1CQ49u",
      "include_colab_link": true
    },
    "kernelspec": {
      "name": "python3",
      "display_name": "Python 3"
    },
    "language_info": {
      "name": "python"
    }
  },
  "cells": [
    {
      "cell_type": "markdown",
      "metadata": {
        "id": "view-in-github",
        "colab_type": "text"
      },
      "source": [
        "<a href=\"https://colab.research.google.com/github/OneFineStarstuff/OneFineStarstuff/blob/main/Hyperparameter_Optimization_for_Enhanced_Performance.ipynb\" target=\"_parent\"><img src=\"https://colab.research.google.com/assets/colab-badge.svg\" alt=\"Open In Colab\"/></a>"
      ]
    },
    {
      "cell_type": "code",
      "source": [
        "pip install optuna"
      ],
      "metadata": {
        "id": "0yUnFoRHCjlN"
      },
      "execution_count": null,
      "outputs": []
    },
    {
      "cell_type": "code",
      "execution_count": null,
      "metadata": {
        "id": "2H_HmEnaCXSR"
      },
      "outputs": [],
      "source": [
        "import optuna\n",
        "import torch\n",
        "import torch.nn as nn\n",
        "import torch.optim as optim\n",
        "from sklearn.datasets import make_classification\n",
        "from sklearn.model_selection import train_test_split\n",
        "\n",
        "# Define a simple model\n",
        "class Net(nn.Module):\n",
        "    def __init__(self):\n",
        "        super(Net, self).__init__()\n",
        "        self.fc1 = nn.Linear(20, 10)\n",
        "        self.fc2 = nn.Linear(10, 2)\n",
        "\n",
        "    def forward(self, x):\n",
        "        x = torch.relu(self.fc1(x))\n",
        "        return self.fc2(x)\n",
        "\n",
        "# Objective function for Optuna\n",
        "def objective(trial):\n",
        "    learning_rate = trial.suggest_float(\"lr\", 1e-5, 1e-1, log=True)\n",
        "    model = Net()\n",
        "    optimizer = optim.Adam(model.parameters(), lr=learning_rate)\n",
        "    criterion = nn.CrossEntropyLoss()\n",
        "\n",
        "    X, y = make_classification(n_samples=500, n_features=20, n_classes=2)\n",
        "    X_train, X_test, y_train, y_test = train_test_split(X, y, test_size=0.2)\n",
        "\n",
        "    for epoch in range(100):\n",
        "        model.train()\n",
        "        inputs = torch.tensor(X_train, dtype=torch.float32)\n",
        "        labels = torch.tensor(y_train, dtype=torch.long)\n",
        "\n",
        "        optimizer.zero_grad()\n",
        "        outputs = model(inputs)\n",
        "        loss = criterion(outputs, labels)\n",
        "        loss.backward()\n",
        "        optimizer.step()\n",
        "\n",
        "    # Evaluation\n",
        "    model.eval()\n",
        "    inputs = torch.tensor(X_test, dtype=torch.float32)\n",
        "    labels = torch.tensor(y_test, dtype=torch.long)\n",
        "    with torch.no_grad():\n",
        "        outputs = model(inputs)\n",
        "    accuracy = (outputs.argmax(1) == labels).float().mean().item()\n",
        "    return accuracy\n",
        "\n",
        "# Run Optuna optimization\n",
        "study = optuna.create_study(direction=\"maximize\")\n",
        "study.optimize(objective, n_trials=20)\n",
        "print(\"Best hyperparameters:\", study.best_params)"
      ]
    }
  ]
}