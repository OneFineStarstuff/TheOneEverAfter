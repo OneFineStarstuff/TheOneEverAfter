{
  "nbformat": 4,
  "nbformat_minor": 0,
  "metadata": {
    "colab": {
      "private_outputs": true,
      "provenance": [],
      "authorship_tag": "ABX9TyMxk+yJIKVhH7oQMBI8DscQ",
      "include_colab_link": true
    },
    "kernelspec": {
      "name": "python3",
      "display_name": "Python 3"
    },
    "language_info": {
      "name": "python"
    }
  },
  "cells": [
    {
      "cell_type": "markdown",
      "metadata": {
        "id": "view-in-github",
        "colab_type": "text"
      },
      "source": [
        "<a href=\"https://colab.research.google.com/github/OneFineStarstuff/OneFineStarstuff/blob/main/Example_TrafficModel_using_mesa.ipynb\" target=\"_parent\"><img src=\"https://colab.research.google.com/assets/colab-badge.svg\" alt=\"Open In Colab\"/></a>"
      ]
    },
    {
      "cell_type": "code",
      "source": [
        "!pip install mesa\n",
        "!pip install --pre mesa[viz]"
      ],
      "metadata": {
        "id": "-q96UfLzpVa6"
      },
      "execution_count": null,
      "outputs": []
    },
    {
      "cell_type": "code",
      "execution_count": null,
      "metadata": {
        "id": "Tt9tmh88n5eO"
      },
      "outputs": [],
      "source": [
        "pip install --pre mesa"
      ]
    },
    {
      "cell_type": "code",
      "source": [
        "from mesa import Agent, Model\n",
        "from mesa.time import RandomActivation\n",
        "from mesa.space import MultiGrid\n",
        "import random\n",
        "\n",
        "class TrafficAgent(Agent):\n",
        "    def __init__(self, unique_id, model):\n",
        "        super().__init__(model)\n",
        "        self.unique_id = unique_id\n",
        "        self.state = 0\n",
        "\n",
        "    def step(self):\n",
        "        self.move()\n",
        "\n",
        "    def move(self):\n",
        "        possible_steps = self.model.grid.get_neighborhood(self.pos, moore=True, include_center=False)\n",
        "        new_position = self.model.random.choice(possible_steps)\n",
        "        self.model.grid.move_agent(self, new_position)\n",
        "\n",
        "class TrafficModel(Model):\n",
        "    def __init__(self, N, width, height):\n",
        "        super().__init__()\n",
        "        self.num_agents = N\n",
        "        self.grid = MultiGrid(width, height, True)\n",
        "        self.random = random.Random()\n",
        "        self.schedule = RandomActivation(self)\n",
        "\n",
        "        for i in range(self.num_agents):\n",
        "            agent = TrafficAgent(i, self)\n",
        "            self.schedule.add(agent)\n",
        "            x = self.random.randrange(self.grid.width)\n",
        "            y = self.random.randrange(self.grid.height)\n",
        "            self.grid.place_agent(agent, (x, y))\n",
        "\n",
        "    def step(self):\n",
        "        self.schedule.step()\n",
        "\n",
        "# Example usage\n",
        "model = TrafficModel(10, 10, 10)\n",
        "for i in range(100):\n",
        "    model.step()"
      ],
      "metadata": {
        "id": "IL4K-FtlsJeX"
      },
      "execution_count": null,
      "outputs": []
    }
  ]
}