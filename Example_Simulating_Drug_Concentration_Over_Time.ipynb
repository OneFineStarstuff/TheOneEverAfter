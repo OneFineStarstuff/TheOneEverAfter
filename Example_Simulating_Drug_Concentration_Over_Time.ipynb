{
  "nbformat": 4,
  "nbformat_minor": 0,
  "metadata": {
    "colab": {
      "private_outputs": true,
      "provenance": [],
      "authorship_tag": "ABX9TyNrKhooKEWe4CMGT2WiMRkM",
      "include_colab_link": true
    },
    "kernelspec": {
      "name": "python3",
      "display_name": "Python 3"
    },
    "language_info": {
      "name": "python"
    }
  },
  "cells": [
    {
      "cell_type": "markdown",
      "metadata": {
        "id": "view-in-github",
        "colab_type": "text"
      },
      "source": [
        "<a href=\"https://colab.research.google.com/github/OneFineStarstuff/OneFineStarstuff/blob/main/Example_Simulating_Drug_Concentration_Over_Time.ipynb\" target=\"_parent\"><img src=\"https://colab.research.google.com/assets/colab-badge.svg\" alt=\"Open In Colab\"/></a>"
      ]
    },
    {
      "cell_type": "code",
      "execution_count": null,
      "metadata": {
        "id": "V4erHPANaTh-"
      },
      "outputs": [],
      "source": [
        "import numpy as np\n",
        "import matplotlib.pyplot as plt\n",
        "\n",
        "# Time parameters\n",
        "t = np.linspace(0, 24, 1000)  # 24 hours\n",
        "\n",
        "# Drug concentration model (first-order elimination)\n",
        "def drug_concentration(t, dose, elimination_rate):\n",
        "    return dose * np.exp(-elimination_rate * t)\n",
        "\n",
        "# Parameters\n",
        "dose = 500  # mg\n",
        "elimination_rate = 0.2  # per hour\n",
        "\n",
        "# Calculate concentration over time\n",
        "concentration = drug_concentration(t, dose, elimination_rate)\n",
        "\n",
        "# Plot drug concentration in the bloodstream\n",
        "plt.plot(t, concentration)\n",
        "plt.title(\"Drug Concentration in the Bloodstream Over Time\")\n",
        "plt.xlabel(\"Time (hours)\")\n",
        "plt.ylabel(\"Concentration (mg/L)\")\n",
        "plt.grid(True)\n",
        "plt.show()"
      ]
    }
  ]
}