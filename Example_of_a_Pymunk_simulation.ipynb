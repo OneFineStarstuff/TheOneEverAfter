{
  "nbformat": 4,
  "nbformat_minor": 0,
  "metadata": {
    "colab": {
      "private_outputs": true,
      "provenance": [],
      "authorship_tag": "ABX9TyOYeJAgI2Fq4rJNVCG7DkYL",
      "include_colab_link": true
    },
    "kernelspec": {
      "name": "python3",
      "display_name": "Python 3"
    },
    "language_info": {
      "name": "python"
    }
  },
  "cells": [
    {
      "cell_type": "markdown",
      "metadata": {
        "id": "view-in-github",
        "colab_type": "text"
      },
      "source": [
        "<a href=\"https://colab.research.google.com/github/OneFineStarstuff/OneFineStardust/blob/main/Example_of_a_Pymunk_simulation.ipynb\" target=\"_parent\"><img src=\"https://colab.research.google.com/assets/colab-badge.svg\" alt=\"Open In Colab\"/></a>"
      ]
    },
    {
      "cell_type": "code",
      "execution_count": null,
      "metadata": {
        "id": "r5pInLgBIGyF"
      },
      "outputs": [],
      "source": [
        "pip install pymunk"
      ]
    },
    {
      "cell_type": "code",
      "source": [
        "import pymunk\n",
        "import pymunk.pygame_util\n",
        "import pygame\n",
        "\n",
        "# Initialize Pygame\n",
        "pygame.init()\n",
        "screen = pygame.display.set_mode((800, 600))\n",
        "clock = pygame.time.Clock()\n",
        "\n",
        "# Create a space for the simulation\n",
        "space = pymunk.Space()\n",
        "space.gravity = (0, -981)  # Set gravity (downward)\n",
        "\n",
        "# Function to create a box\n",
        "def create_box(position):\n",
        "    body = pymunk.Body(1, pymunk.moment_for_box(1, (50, 50)))  # Mass and moment of inertia\n",
        "    body.position = position\n",
        "    box_shape = pymunk.Poly.create_box(body)  # Create a box shape\n",
        "    box_shape.elasticity = 0.5  # Bounciness\n",
        "    space.add(body, box_shape)  # Add body and shape to the space\n",
        "    return body\n",
        "\n",
        "# Create ground\n",
        "ground_body = pymunk.Body(body_type=pymunk.Body.STATIC)\n",
        "ground_shape = pymunk.Segment(ground_body, (0, 50), (800, 50), 5)\n",
        "ground_shape.elasticity = 0.5\n",
        "space.add(ground_body, ground_shape)  # Add both body and shape to the space together\n",
        "\n",
        "# Create a box at the top of the screen\n",
        "box = create_box((400, 550))\n",
        "\n",
        "# Set up drawing options for Pygame\n",
        "draw_options = pymunk.pygame_util.DrawOptions(screen)\n",
        "\n",
        "# Main loop for the simulation\n",
        "running = True\n",
        "while running:\n",
        "    for event in pygame.event.get():\n",
        "        if event.type == pygame.QUIT:\n",
        "            running = False\n",
        "\n",
        "    # Step the simulation forward in time\n",
        "    space.step(1/60.0)\n",
        "\n",
        "    # Clear the screen and draw everything\n",
        "    screen.fill((255, 255, 255))  # White background\n",
        "    space.debug_draw(draw_options)\n",
        "\n",
        "    pygame.display.flip()  # Update the display\n",
        "    clock.tick(60)  # Maintain 60 FPS\n",
        "\n",
        "pygame.quit()"
      ],
      "metadata": {
        "id": "UDlaZHkhIMMu"
      },
      "execution_count": null,
      "outputs": []
    }
  ]
}