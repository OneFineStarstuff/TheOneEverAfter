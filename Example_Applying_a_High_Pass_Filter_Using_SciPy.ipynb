{
  "nbformat": 4,
  "nbformat_minor": 0,
  "metadata": {
    "colab": {
      "private_outputs": true,
      "provenance": [],
      "authorship_tag": "ABX9TyOuTRlJK3jw8yAZtYGEdJb/",
      "include_colab_link": true
    },
    "kernelspec": {
      "name": "python3",
      "display_name": "Python 3"
    },
    "language_info": {
      "name": "python"
    }
  },
  "cells": [
    {
      "cell_type": "markdown",
      "metadata": {
        "id": "view-in-github",
        "colab_type": "text"
      },
      "source": [
        "<a href=\"https://colab.research.google.com/github/OneFineStarstuff/OneFineStardust/blob/main/Example_Applying_a_High_Pass_Filter_Using_SciPy.ipynb\" target=\"_parent\"><img src=\"https://colab.research.google.com/assets/colab-badge.svg\" alt=\"Open In Colab\"/></a>"
      ]
    },
    {
      "cell_type": "code",
      "execution_count": null,
      "metadata": {
        "id": "kYdmO_kRc0-W"
      },
      "outputs": [],
      "source": [
        "import numpy as np\n",
        "import matplotlib.pyplot as plt\n",
        "from scipy.signal import butter, lfilter\n",
        "\n",
        "# Generate a sample signal with noise\n",
        "fs = 500  # Sampling frequency\n",
        "t = np.linspace(0, 1.0, fs)\n",
        "signal = np.sin(2 * np.pi * 50 * t) + np.random.normal(scale=0.5, size=t.shape)\n",
        "\n",
        "# Design a Butterworth high-pass filter\n",
        "def butter_highpass(cutoff, fs, order=5):\n",
        "    nyq = 0.5 * fs\n",
        "    normal_cutoff = cutoff / nyq\n",
        "    b, a = butter(order, normal_cutoff, btype='high', analog=False)\n",
        "    return b, a\n",
        "\n",
        "def highpass_filter(data, cutoff, fs):\n",
        "    b, a = butter_highpass(cutoff, fs)\n",
        "    y = lfilter(b, a, data)\n",
        "    return y\n",
        "\n",
        "# Apply the filter to the signal\n",
        "filtered_signal = highpass_filter(signal, cutoff=10, fs=fs)\n",
        "\n",
        "# Plotting the results\n",
        "plt.figure(figsize=(12, 6))\n",
        "plt.subplot(2, 1, 1)\n",
        "plt.plot(t, signal)\n",
        "plt.title('Noisy Signal')\n",
        "plt.subplot(2, 1, 2)\n",
        "plt.plot(t, filtered_signal)\n",
        "plt.title('Filtered Signal (High-Pass)')\n",
        "plt.xlabel('Time [s]')\n",
        "plt.tight_layout()\n",
        "plt.show()"
      ]
    }
  ]
}