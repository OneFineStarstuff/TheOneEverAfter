{
  "nbformat": 4,
  "nbformat_minor": 0,
  "metadata": {
    "colab": {
      "private_outputs": true,
      "provenance": [],
      "authorship_tag": "ABX9TyMVwfDsFBimI+U10TEsyBuY",
      "include_colab_link": true
    },
    "kernelspec": {
      "name": "python3",
      "display_name": "Python 3"
    },
    "language_info": {
      "name": "python"
    }
  },
  "cells": [
    {
      "cell_type": "markdown",
      "metadata": {
        "id": "view-in-github",
        "colab_type": "text"
      },
      "source": [
        "<a href=\"https://colab.research.google.com/github/OneFineStarstuff/OneFineStardust/blob/main/Example_PID_Controller_Tuning_Using_Ziegler_Nichols_Method.ipynb\" target=\"_parent\"><img src=\"https://colab.research.google.com/assets/colab-badge.svg\" alt=\"Open In Colab\"/></a>"
      ]
    },
    {
      "cell_type": "code",
      "execution_count": null,
      "metadata": {
        "id": "-zAi4zJrW5uZ"
      },
      "outputs": [],
      "source": [
        "import numpy as np\n",
        "import matplotlib.pyplot as plt\n",
        "\n",
        "def pid_controller(Kp, Ki, Kd, setpoint, process_variable):\n",
        "    error = setpoint - process_variable\n",
        "    integral = 0.0\n",
        "    derivative = 0.0\n",
        "\n",
        "    integral += error * dt  # Integrate error over time\n",
        "    derivative = (error - previous_error) / dt  # Calculate derivative of error\n",
        "\n",
        "    output = Kp * error + Ki * integral + Kd * derivative  # PID output\n",
        "    return output\n",
        "\n",
        "# Simulation parameters\n",
        "dt = 0.1   # Time step\n",
        "time_steps = 100\n",
        "setpoint = 1.0  # Desired value\n",
        "\n",
        "process_variable = 0.0  # Initial process variable\n",
        "previous_error = 0.0\n",
        "\n",
        "outputs = []\n",
        "\n",
        "for _ in range(time_steps):\n",
        "    output = pid_controller(1.0, 0.1, 0.01, setpoint, process_variable)\n",
        "    process_variable += output * dt  # Update process variable based on output\n",
        "    outputs.append(process_variable)\n",
        "\n",
        "# Plotting results\n",
        "plt.plot(outputs)\n",
        "plt.axhline(setpoint, color='r', linestyle='--', label='Setpoint')\n",
        "plt.title('PID Controller Response')\n",
        "plt.xlabel('Time Steps')\n",
        "plt.ylabel('Process Variable')\n",
        "plt.legend()\n",
        "plt.grid()\n",
        "plt.show()"
      ]
    }
  ]
}