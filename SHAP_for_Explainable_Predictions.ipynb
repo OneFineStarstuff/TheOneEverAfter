{
  "nbformat": 4,
  "nbformat_minor": 0,
  "metadata": {
    "colab": {
      "private_outputs": true,
      "provenance": [],
      "authorship_tag": "ABX9TyPyBrf9e4cn62PSOpOvoxBE",
      "include_colab_link": true
    },
    "kernelspec": {
      "name": "python3",
      "display_name": "Python 3"
    },
    "language_info": {
      "name": "python"
    }
  },
  "cells": [
    {
      "cell_type": "markdown",
      "metadata": {
        "id": "view-in-github",
        "colab_type": "text"
      },
      "source": [
        "<a href=\"https://colab.research.google.com/github/OneFineStarstuff/OneFineStarstuff/blob/main/SHAP_for_Explainable_Predictions.ipynb\" target=\"_parent\"><img src=\"https://colab.research.google.com/assets/colab-badge.svg\" alt=\"Open In Colab\"/></a>"
      ]
    },
    {
      "cell_type": "code",
      "execution_count": null,
      "metadata": {
        "id": "ncR4buiR9UWK"
      },
      "outputs": [],
      "source": [
        "import shap\n",
        "import xgboost\n",
        "import numpy as np\n",
        "import matplotlib.pyplot as plt\n",
        "\n",
        "# Load a dataset (for example purposes, let's use sklearn's breast cancer dataset)\n",
        "from sklearn.datasets import load_breast_cancer\n",
        "from sklearn.model_selection import train_test_split\n",
        "\n",
        "# Load and split the dataset\n",
        "data = load_breast_cancer()\n",
        "X_train, X_test, y_train, y_test = train_test_split(data.data, data.target, test_size=0.2, random_state=42)\n",
        "\n",
        "# Train an example model (e.g., XGBoost)\n",
        "model = xgboost.XGBClassifier()\n",
        "model.fit(X_train, y_train)\n",
        "\n",
        "# Create a SHAP explainer\n",
        "explainer = shap.Explainer(model, X_train)\n",
        "\n",
        "# Get SHAP values for an instance\n",
        "instance = X_test[0:1]\n",
        "shap_values = explainer(instance)\n",
        "\n",
        "# Plot SHAP values using waterfall plot\n",
        "shap.plots.waterfall(shap_values[0])\n",
        "\n",
        "# Optional: Show the plot\n",
        "plt.show()"
      ]
    }
  ]
}