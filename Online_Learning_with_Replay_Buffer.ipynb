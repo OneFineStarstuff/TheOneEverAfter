{
  "nbformat": 4,
  "nbformat_minor": 0,
  "metadata": {
    "colab": {
      "private_outputs": true,
      "provenance": [],
      "authorship_tag": "ABX9TyPk+L0QYE+0qisA+Mx01hrI",
      "include_colab_link": true
    },
    "kernelspec": {
      "name": "python3",
      "display_name": "Python 3"
    },
    "language_info": {
      "name": "python"
    }
  },
  "cells": [
    {
      "cell_type": "markdown",
      "metadata": {
        "id": "view-in-github",
        "colab_type": "text"
      },
      "source": [
        "<a href=\"https://colab.research.google.com/github/OneFineStarstuff/OneFineStarstuff/blob/main/Online_Learning_with_Replay_Buffer.ipynb\" target=\"_parent\"><img src=\"https://colab.research.google.com/assets/colab-badge.svg\" alt=\"Open In Colab\"/></a>"
      ]
    },
    {
      "cell_type": "code",
      "execution_count": null,
      "metadata": {
        "id": "oo5_gktdj-yj"
      },
      "outputs": [],
      "source": [
        "import random\n",
        "from collections import deque\n",
        "import numpy as np\n",
        "\n",
        "# Parameters\n",
        "buffer_size = 1000\n",
        "batch_size = 32\n",
        "\n",
        "# Initialize replay buffer\n",
        "replay_buffer = deque(maxlen=buffer_size)\n",
        "\n",
        "# Dummy online data stream\n",
        "stream = (np.random.rand(10) for _ in range(10000))\n",
        "\n",
        "# Dummy function to train on batch\n",
        "def train_on_batch(batch):\n",
        "    # Placeholder for training logic\n",
        "    print(f\"Training on batch with size: {len(batch)}\")\n",
        "\n",
        "# Online learning training loop\n",
        "for new_data in stream:\n",
        "    replay_buffer.append(new_data)\n",
        "    if len(replay_buffer) >= batch_size:\n",
        "        batch = random.sample(replay_buffer, batch_size)\n",
        "        # Train on batch\n",
        "        train_on_batch(batch)"
      ]
    }
  ]
}