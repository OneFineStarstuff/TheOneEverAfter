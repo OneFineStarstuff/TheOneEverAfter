{
  "nbformat": 4,
  "nbformat_minor": 0,
  "metadata": {
    "colab": {
      "private_outputs": true,
      "provenance": [],
      "authorship_tag": "ABX9TyOz/bIouaDGTr/haekuPeI7",
      "include_colab_link": true
    },
    "kernelspec": {
      "name": "python3",
      "display_name": "Python 3"
    },
    "language_info": {
      "name": "python"
    }
  },
  "cells": [
    {
      "cell_type": "markdown",
      "metadata": {
        "id": "view-in-github",
        "colab_type": "text"
      },
      "source": [
        "<a href=\"https://colab.research.google.com/github/OneFineStarstuff/OneFineStarstuff/blob/main/Example_Simulating_Simple_Pendulum_Motion.ipynb\" target=\"_parent\"><img src=\"https://colab.research.google.com/assets/colab-badge.svg\" alt=\"Open In Colab\"/></a>"
      ]
    },
    {
      "cell_type": "code",
      "execution_count": null,
      "metadata": {
        "id": "pGmy0qTshvCv"
      },
      "outputs": [],
      "source": [
        "import numpy as np\n",
        "import matplotlib.pyplot as plt\n",
        "from scipy.integrate import odeint\n",
        "\n",
        "# Parameters\n",
        "g = 9.81  # Gravitational acceleration (m/s^2)\n",
        "L = 1.0  # Length of pendulum (m)\n",
        "theta0 = np.pi / 4  # Initial angle (radians)\n",
        "omega0 = 0  # Initial angular velocity (rad/s)\n",
        "t = np.linspace(0, 10, 250)  # Time array\n",
        "\n",
        "# Differential equations for pendulum\n",
        "def pendulum_derivatives(y, t, L, g):\n",
        "    theta, omega = y\n",
        "    dtheta_dt = omega\n",
        "    domega_dt = -g / L * np.sin(theta)\n",
        "    return [dtheta_dt, domega_dt]\n",
        "\n",
        "# Initial state\n",
        "y0 = [theta0, omega0]\n",
        "\n",
        "# Solving the differential equations\n",
        "solution = odeint(pendulum_derivatives, y0, t, args=(L, g))\n",
        "theta = solution[:, 0]\n",
        "\n",
        "# Plotting the pendulum's angle over time\n",
        "plt.plot(t, theta)\n",
        "plt.title(\"Pendulum Motion\")\n",
        "plt.xlabel(\"Time (s)\")\n",
        "plt.ylabel(\"Angle (radians)\")\n",
        "plt.grid(True)\n",
        "plt.show()"
      ]
    }
  ]
}