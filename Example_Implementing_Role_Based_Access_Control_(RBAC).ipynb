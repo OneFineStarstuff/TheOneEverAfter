{
  "nbformat": 4,
  "nbformat_minor": 0,
  "metadata": {
    "colab": {
      "private_outputs": true,
      "provenance": [],
      "authorship_tag": "ABX9TyPfl8a/Zxpg915qGPqmNp2z",
      "include_colab_link": true
    },
    "kernelspec": {
      "name": "python3",
      "display_name": "Python 3"
    },
    "language_info": {
      "name": "python"
    }
  },
  "cells": [
    {
      "cell_type": "markdown",
      "metadata": {
        "id": "view-in-github",
        "colab_type": "text"
      },
      "source": [
        "<a href=\"https://colab.research.google.com/github/OneFineStarstuff/OneFineStardust/blob/main/Example_Implementing_Role_Based_Access_Control_(RBAC).ipynb\" target=\"_parent\"><img src=\"https://colab.research.google.com/assets/colab-badge.svg\" alt=\"Open In Colab\"/></a>"
      ]
    },
    {
      "cell_type": "code",
      "execution_count": null,
      "metadata": {
        "id": "qN7aLe6EPfRH"
      },
      "outputs": [],
      "source": [
        "from flask import Flask, request\n",
        "\n",
        "app = Flask(__name__)\n",
        "\n",
        "# Define user roles and permissions\n",
        "roles_permissions = {\n",
        "    'admin': ['view', 'edit', 'delete'],\n",
        "    'editor': ['view', 'edit'],\n",
        "    'viewer': ['view']\n",
        "}\n",
        "\n",
        "users_roles = {\n",
        "    'alice': 'admin',\n",
        "    'bob': 'editor',\n",
        "    'charlie': 'viewer'\n",
        "}\n",
        "\n",
        "@app.route('/resource', methods=['GET', 'POST', 'DELETE'])\n",
        "def resource():\n",
        "    username = request.args.get('username')\n",
        "    action = request.method.lower()  # Get action from HTTP method\n",
        "\n",
        "    role = users_roles.get(username)\n",
        "\n",
        "    if role and action in roles_permissions[role]:\n",
        "        return f'{action.capitalize()} action allowed for {username}!'\n",
        "\n",
        "    return f'Access denied for {username}!', 403\n",
        "\n",
        "if __name__ == '__main__':\n",
        "    app.run(debug=True)"
      ]
    }
  ]
}