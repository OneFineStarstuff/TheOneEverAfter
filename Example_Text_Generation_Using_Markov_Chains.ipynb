{
  "nbformat": 4,
  "nbformat_minor": 0,
  "metadata": {
    "colab": {
      "private_outputs": true,
      "provenance": [],
      "authorship_tag": "ABX9TyPtakSIdOMldfE4Kg8FJC7J",
      "include_colab_link": true
    },
    "kernelspec": {
      "name": "python3",
      "display_name": "Python 3"
    },
    "language_info": {
      "name": "python"
    }
  },
  "cells": [
    {
      "cell_type": "markdown",
      "metadata": {
        "id": "view-in-github",
        "colab_type": "text"
      },
      "source": [
        "<a href=\"https://colab.research.google.com/github/OneFineStarstuff/OneFineStarstuff/blob/main/Example_Text_Generation_Using_Markov_Chains.ipynb\" target=\"_parent\"><img src=\"https://colab.research.google.com/assets/colab-badge.svg\" alt=\"Open In Colab\"/></a>"
      ]
    },
    {
      "cell_type": "code",
      "execution_count": null,
      "metadata": {
        "id": "fD_nS6vtiXhL"
      },
      "outputs": [],
      "source": [
        "import numpy as np\n",
        "import random\n",
        "from collections import defaultdict\n",
        "\n",
        "# Sample text for training the Markov chain\n",
        "text = \"To be or not to be that is the question\"\n",
        "\n",
        "# Building the Markov chain\n",
        "words = text.split()\n",
        "markov_chain = defaultdict(list)\n",
        "\n",
        "for i in range(len(words) - 1):\n",
        "    markov_chain[words[i]].append(words[i + 1])\n",
        "\n",
        "# Function to generate text\n",
        "def generate_text(chain, start_word, length=10):\n",
        "    word = start_word\n",
        "    sentence = [word]\n",
        "    for _ in range(length - 1):\n",
        "        if word not in chain:\n",
        "            break\n",
        "        next_word = random.choice(chain[word])\n",
        "        sentence.append(next_word)\n",
        "        word = next_word\n",
        "    return ' '.join(sentence)\n",
        "\n",
        "# Generate a sentence\n",
        "print(generate_text(markov_chain, \"To\", 10))"
      ]
    }
  ]
}