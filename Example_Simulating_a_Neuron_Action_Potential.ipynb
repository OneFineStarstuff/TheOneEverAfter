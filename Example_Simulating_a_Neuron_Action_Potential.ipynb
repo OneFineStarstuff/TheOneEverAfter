{
  "nbformat": 4,
  "nbformat_minor": 0,
  "metadata": {
    "colab": {
      "private_outputs": true,
      "provenance": [],
      "authorship_tag": "ABX9TyNKgiD/CvI4d3D+RxPDfbtI",
      "include_colab_link": true
    },
    "kernelspec": {
      "name": "python3",
      "display_name": "Python 3"
    },
    "language_info": {
      "name": "python"
    }
  },
  "cells": [
    {
      "cell_type": "markdown",
      "metadata": {
        "id": "view-in-github",
        "colab_type": "text"
      },
      "source": [
        "<a href=\"https://colab.research.google.com/github/OneFineStarstuff/OneFineStarstuff/blob/main/Example_Simulating_a_Neuron_Action_Potential.ipynb\" target=\"_parent\"><img src=\"https://colab.research.google.com/assets/colab-badge.svg\" alt=\"Open In Colab\"/></a>"
      ]
    },
    {
      "cell_type": "code",
      "execution_count": null,
      "metadata": {
        "id": "glbTgkZAg-K1"
      },
      "outputs": [],
      "source": [
        "import numpy as np\n",
        "import matplotlib.pyplot as plt\n",
        "\n",
        "# Constants\n",
        "Cm = 1.0  # Membrane capacitance (uF/cm^2)\n",
        "gNa = 120  # Maximum sodium conductance (mS/cm^2)\n",
        "gK = 36  # Maximum potassium conductance (mS/cm^2)\n",
        "gL = 0.3  # Leak conductance (mS/cm^2)\n",
        "ENa = 50  # Sodium equilibrium potential (mV)\n",
        "EK = -77  # Potassium equilibrium potential (mV)\n",
        "EL = -54.387  # Leak equilibrium potential (mV)\n",
        "\n",
        "# Time parameters\n",
        "t = np.linspace(0, 50, 5000)  # Time array (ms)\n",
        "dt = t[1] - t[0]\n",
        "\n",
        "# Stimulus (current injection)\n",
        "I_stim = np.zeros(len(t))\n",
        "I_stim[1000:1500] = 10  # Inject current from t=10ms to t=15ms\n",
        "\n",
        "# Initialize membrane potential and gating variables\n",
        "V = -65.0  # Initial membrane potential (mV)\n",
        "n = 0.3177  # Initial potassium activation variable\n",
        "m = 0.0529  # Initial sodium activation variable\n",
        "h = 0.5961  # Initial sodium inactivation variable\n",
        "\n",
        "# Function to calculate gating variable rates\n",
        "def alpha_n(V): return 0.01 * (V + 55) / (1 - np.exp(-(V + 55) / 10))\n",
        "def beta_n(V): return 0.125 * np.exp(-(V + 65) / 80)\n",
        "def alpha_m(V): return 0.1 * (V + 40) / (1 - np.exp(-(V + 40) / 10))\n",
        "def beta_m(V): return 4.0 * np.exp(-(V + 65) / 18)\n",
        "def alpha_h(V): return 0.07 * np.exp(-(V + 65) / 20)\n",
        "def beta_h(V): return 1.0 / (1 + np.exp(-(V + 35) / 10))\n",
        "\n",
        "# Time-stepping loop for solving the Hodgkin-Huxley equations\n",
        "V_trace = []  # To store membrane potential over time\n",
        "for i in range(len(t)):\n",
        "    # Calculate current conductances\n",
        "    INa = gNa * m**3 * h * (V - ENa)  # Sodium current\n",
        "    IK = gK * n**4 * (V - EK)  # Potassium current\n",
        "    IL = gL * (V - EL)  # Leak current\n",
        "\n",
        "    # Update membrane potential\n",
        "    dVdt = (I_stim[i] - INa - IK - IL) / Cm\n",
        "    V += dVdt * dt\n",
        "\n",
        "    # Update gating variables using Euler's method\n",
        "    n += (alpha_n(V) * (1 - n) - beta_n(V) * n) * dt\n",
        "    m += (alpha_m(V) * (1 - m) - beta_m(V) * m) * dt\n",
        "    h += (alpha_h(V) * (1 - h) - beta_h(V) * h) * dt\n",
        "\n",
        "    # Store results\n",
        "    V_trace.append(V)\n",
        "\n",
        "# Plot the action potential\n",
        "plt.plot(t, V_trace)\n",
        "plt.title(\"Neuron Action Potential (Hodgkin-Huxley Model)\")\n",
        "plt.xlabel(\"Time (ms)\")\n",
        "plt.ylabel(\"Membrane Potential (mV)\")\n",
        "plt.grid(True)\n",
        "plt.show()"
      ]
    }
  ]
}