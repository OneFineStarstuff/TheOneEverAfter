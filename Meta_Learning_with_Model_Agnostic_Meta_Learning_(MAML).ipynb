{
  "nbformat": 4,
  "nbformat_minor": 0,
  "metadata": {
    "colab": {
      "private_outputs": true,
      "provenance": [],
      "authorship_tag": "ABX9TyMH8PxT79F+gNHLZYdi2XaA",
      "include_colab_link": true
    },
    "kernelspec": {
      "name": "python3",
      "display_name": "Python 3"
    },
    "language_info": {
      "name": "python"
    }
  },
  "cells": [
    {
      "cell_type": "markdown",
      "metadata": {
        "id": "view-in-github",
        "colab_type": "text"
      },
      "source": [
        "<a href=\"https://colab.research.google.com/github/OneFineStarstuff/OneFineStarstuff/blob/main/Meta_Learning_with_Model_Agnostic_Meta_Learning_(MAML).ipynb\" target=\"_parent\"><img src=\"https://colab.research.google.com/assets/colab-badge.svg\" alt=\"Open In Colab\"/></a>"
      ]
    },
    {
      "cell_type": "code",
      "source": [
        "import torch\n",
        "import torch.nn as nn\n",
        "import torch.optim as optim\n",
        "\n",
        "# Define a simple model class for demonstration\n",
        "class SimpleModel(nn.Module):\n",
        "    def __init__(self):\n",
        "        super(SimpleModel, self).__init__()\n",
        "        self.fc = nn.Linear(10, 2)\n",
        "\n",
        "    def forward(self, x):\n",
        "        return self.fc(x)\n",
        "\n",
        "def initialize_model():\n",
        "    return SimpleModel()\n",
        "\n",
        "def compute_task_loss(model, task_data):\n",
        "    inputs, labels = task_data\n",
        "    outputs = model(inputs)\n",
        "    loss = nn.CrossEntropyLoss()(outputs, labels)\n",
        "    return loss\n",
        "\n",
        "def compute_gradients(loss, parameters):\n",
        "    loss.backward(retain_graph=True)  # Ensure retain_graph=True to keep the computation graph\n",
        "    return [param.grad.clone() if param.grad is not None else torch.zeros_like(param) for param in parameters]\n",
        "\n",
        "def update_model(model, gradients, learning_rate):\n",
        "    with torch.no_grad():\n",
        "        for param, grad in zip(model.parameters(), gradients):\n",
        "            param -= learning_rate * grad\n",
        "\n",
        "def compute_meta_gradient(task_loss, task_model, meta_model):\n",
        "    task_loss.backward(retain_graph=True)  # Retain computation graph for subsequent backward calls\n",
        "    return [param.grad.clone() if param.grad is not None else torch.zeros_like(param) for param in meta_model.parameters()]\n",
        "\n",
        "def update_meta_model(meta_model, meta_gradient, learning_rate):\n",
        "    with torch.no_grad():\n",
        "        for param, grad in zip(meta_model.parameters(), meta_gradient):\n",
        "            param -= learning_rate * grad\n",
        "    return meta_model\n",
        "\n",
        "# Hyperparameters\n",
        "num_iterations = 10\n",
        "num_tasks = 5\n",
        "num_inner_updates = 1\n",
        "meta_learning_rate = 0.001\n",
        "inner_learning_rate = 0.01\n",
        "\n",
        "# Initialize the meta-model\n",
        "meta_model = initialize_model()\n",
        "\n",
        "# Dummy task data\n",
        "tasks = [ (torch.randn(10, 10), torch.randint(0, 2, (10,))) for _ in range(num_tasks) ]\n",
        "\n",
        "for iteration in range(num_iterations):\n",
        "    meta_gradient = [torch.zeros_like(param) for param in meta_model.parameters()]\n",
        "\n",
        "    # Iterate over tasks\n",
        "    for task_data in tasks:\n",
        "        # Initialize a copy of the meta-model for task-specific training\n",
        "        task_model = initialize_model()\n",
        "        task_model.load_state_dict(meta_model.state_dict())\n",
        "\n",
        "        # Perform task-specific updates\n",
        "        for step in range(num_inner_updates):\n",
        "            task_loss = compute_task_loss(task_model, task_data)\n",
        "            task_gradients = compute_gradients(task_loss, task_model.parameters())\n",
        "            update_model(task_model, task_gradients, inner_learning_rate)\n",
        "\n",
        "        # Compute gradient for meta-update\n",
        "        task_loss = compute_task_loss(task_model, task_data)\n",
        "        task_meta_gradient = compute_meta_gradient(task_loss, task_model, meta_model)\n",
        "        for i, grad in enumerate(task_meta_gradient):\n",
        "            meta_gradient[i] += grad\n",
        "\n",
        "    # Average the meta-gradient\n",
        "    meta_gradient = [grad / num_tasks for grad in meta_gradient]\n",
        "\n",
        "    # Update meta-model with aggregated meta-gradient\n",
        "    meta_model = update_meta_model(meta_model, meta_gradient, meta_learning_rate)\n",
        "\n",
        "print(\"MAML training completed.\")"
      ],
      "metadata": {
        "id": "c8JETalIow2i"
      },
      "execution_count": null,
      "outputs": []
    }
  ]
}