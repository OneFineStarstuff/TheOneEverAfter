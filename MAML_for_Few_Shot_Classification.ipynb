{
  "nbformat": 4,
  "nbformat_minor": 0,
  "metadata": {
    "colab": {
      "private_outputs": true,
      "provenance": [],
      "authorship_tag": "ABX9TyOC74VZfkZ6TQHc0twtK/qZ",
      "include_colab_link": true
    },
    "kernelspec": {
      "name": "python3",
      "display_name": "Python 3"
    },
    "language_info": {
      "name": "python"
    }
  },
  "cells": [
    {
      "cell_type": "markdown",
      "metadata": {
        "id": "view-in-github",
        "colab_type": "text"
      },
      "source": [
        "<a href=\"https://colab.research.google.com/github/OneFineStarstuff/OneFineStarstuff/blob/main/MAML_for_Few_Shot_Classification.ipynb\" target=\"_parent\"><img src=\"https://colab.research.google.com/assets/colab-badge.svg\" alt=\"Open In Colab\"/></a>"
      ]
    },
    {
      "cell_type": "code",
      "execution_count": null,
      "metadata": {
        "id": "KJwSQ13pB9nu"
      },
      "outputs": [],
      "source": [
        "import torch\n",
        "import torch.nn as nn\n",
        "import torch.optim as optim\n",
        "\n",
        "# Assuming a simple model for demonstration purposes\n",
        "class SimpleModel(nn.Module):\n",
        "    def __init__(self, input_dim, output_dim):\n",
        "        super(SimpleModel, self).__init__()\n",
        "        self.fc = nn.Linear(input_dim, output_dim)\n",
        "\n",
        "    def forward(self, x):\n",
        "        return self.fc(x)\n",
        "\n",
        "# Compute loss function (assume defined)\n",
        "def compute_loss(predictions, labels):\n",
        "    criterion = nn.CrossEntropyLoss()\n",
        "    return criterion(predictions, labels)\n",
        "\n",
        "# Define MAML training step\n",
        "def maml_train_step(model, task_batch, inner_steps=5, lr_inner=0.01):\n",
        "    optimizer = optim.Adam(model.parameters(), lr=lr_inner)\n",
        "\n",
        "    meta_loss = 0\n",
        "    for task in task_batch:\n",
        "        # Clone the model for the inner loop\n",
        "        cloned_model = SimpleModel(model.fc.in_features, model.fc.out_features)\n",
        "        cloned_model.load_state_dict(model.state_dict())\n",
        "        cloned_model.train()\n",
        "\n",
        "        inner_optimizer = optim.SGD(cloned_model.parameters(), lr=lr_inner)\n",
        "\n",
        "        # Inner loop: Fine-tune on each task\n",
        "        for _ in range(inner_steps):\n",
        "            inner_optimizer.zero_grad()\n",
        "            predictions = cloned_model(task['support_data'])\n",
        "            loss = compute_loss(predictions, task['support_labels'])\n",
        "            loss.backward()\n",
        "            inner_optimizer.step()\n",
        "\n",
        "        # Compute loss on query data\n",
        "        predictions = cloned_model(task['query_data'])\n",
        "        task_loss = compute_loss(predictions, task['query_labels'])\n",
        "        meta_loss += task_loss\n",
        "\n",
        "    # Outer loop: Update global parameters based on task performance\n",
        "    optimizer.zero_grad()\n",
        "    meta_loss.backward()\n",
        "    optimizer.step()\n",
        "\n",
        "    return meta_loss.item()\n",
        "\n",
        "# Example usage\n",
        "model = SimpleModel(input_dim=10, output_dim=2)\n",
        "task_batch = [\n",
        "    {\n",
        "        'support_data': torch.randn(5, 10), 'support_labels': torch.randint(0, 2, (5,)),\n",
        "        'query_data': torch.randn(5, 10), 'query_labels': torch.randint(0, 2, (5,))\n",
        "    }\n",
        "    # Add more tasks as needed\n",
        "]\n",
        "\n",
        "loss = maml_train_step(model, task_batch)\n",
        "print(f\"Meta Loss: {loss}\")"
      ]
    }
  ]
}