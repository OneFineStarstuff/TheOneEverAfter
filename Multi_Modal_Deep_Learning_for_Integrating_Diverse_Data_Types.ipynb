{
  "nbformat": 4,
  "nbformat_minor": 0,
  "metadata": {
    "colab": {
      "private_outputs": true,
      "provenance": [],
      "authorship_tag": "ABX9TyMCf0MzeizlUR94U30ZmBTt",
      "include_colab_link": true
    },
    "kernelspec": {
      "name": "python3",
      "display_name": "Python 3"
    },
    "language_info": {
      "name": "python"
    }
  },
  "cells": [
    {
      "cell_type": "markdown",
      "metadata": {
        "id": "view-in-github",
        "colab_type": "text"
      },
      "source": [
        "<a href=\"https://colab.research.google.com/github/OneFineStarstuff/OneFineStarstuff/blob/main/Multi_Modal_Deep_Learning_for_Integrating_Diverse_Data_Types.ipynb\" target=\"_parent\"><img src=\"https://colab.research.google.com/assets/colab-badge.svg\" alt=\"Open In Colab\"/></a>"
      ]
    },
    {
      "cell_type": "code",
      "execution_count": null,
      "metadata": {
        "id": "3qqrXypDk_-7"
      },
      "outputs": [],
      "source": [
        "import torch\n",
        "import torch.nn as nn\n",
        "from transformers import BertModel\n",
        "\n",
        "# Define multi-modal model (e.g., image and text)\n",
        "class MultiModalNet(nn.Module):\n",
        "    def __init__(self, text_dim, image_dim, hidden_dim, output_dim):\n",
        "        super(MultiModalNet, self).__init__()\n",
        "        self.text_model = BertModel.from_pretrained(\"bert-base-uncased\")  # Pretrained BERT model\n",
        "        self.image_model = nn.Sequential(nn.Linear(image_dim, hidden_dim), nn.ReLU())\n",
        "        self.fc = nn.Linear(text_dim + hidden_dim, output_dim)\n",
        "\n",
        "    def forward(self, text, image):\n",
        "        text_features = self.text_model(text).pooler_output  # Text embeddings\n",
        "        image_features = self.image_model(image)             # Image features\n",
        "        combined = torch.cat((text_features, image_features), dim=1)  # Concatenate\n",
        "        return self.fc(combined)\n",
        "\n",
        "# Example usage (dummy text and image tensors)\n",
        "text_input = torch.randint(0, 30522, (1, 16))  # Simulated token IDs\n",
        "image_input = torch.randn(1, 512)              # Dummy image features\n",
        "model = MultiModalNet(text_dim=768, image_dim=512, hidden_dim=256, output_dim=2)\n",
        "output = model(text_input, image_input)"
      ]
    }
  ]
}