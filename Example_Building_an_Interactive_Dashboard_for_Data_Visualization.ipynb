{
  "nbformat": 4,
  "nbformat_minor": 0,
  "metadata": {
    "colab": {
      "private_outputs": true,
      "provenance": [],
      "authorship_tag": "ABX9TyOIHi6d0VtjxD2nMEdRyg8i",
      "include_colab_link": true
    },
    "kernelspec": {
      "name": "python3",
      "display_name": "Python 3"
    },
    "language_info": {
      "name": "python"
    }
  },
  "cells": [
    {
      "cell_type": "markdown",
      "metadata": {
        "id": "view-in-github",
        "colab_type": "text"
      },
      "source": [
        "<a href=\"https://colab.research.google.com/github/OneFineStarstuff/OneFineStarstuff/blob/main/Example_Building_an_Interactive_Dashboard_for_Data_Visualization.ipynb\" target=\"_parent\"><img src=\"https://colab.research.google.com/assets/colab-badge.svg\" alt=\"Open In Colab\"/></a>"
      ]
    },
    {
      "cell_type": "code",
      "source": [
        "pip install dash"
      ],
      "metadata": {
        "id": "F5NsqYWoqEI9"
      },
      "execution_count": null,
      "outputs": []
    },
    {
      "cell_type": "code",
      "execution_count": null,
      "metadata": {
        "id": "FnikJ6lCp0O5"
      },
      "outputs": [],
      "source": [
        "import dash\n",
        "from dash import dcc, html\n",
        "import plotly.express as px\n",
        "import pandas as pd\n",
        "\n",
        "# Sample Data\n",
        "df = pd.DataFrame({\n",
        "    'Time': [1, 2, 3, 4, 5],\n",
        "    'Temperature': [100, 105, 110, 115, 120],\n",
        "    'Pressure': [30, 35, 32, 33, 36]\n",
        "})\n",
        "\n",
        "# Create Dash App\n",
        "app = dash.Dash(__name__)\n",
        "\n",
        "# Create interactive plot using Plotly\n",
        "fig = px.line(df, x='Time', y='Temperature', title='Temperature over Time')\n",
        "\n",
        "# Layout of the dashboard\n",
        "app.layout = html.Div(children=[\n",
        "    html.H1(children='Scientific Dashboard'),\n",
        "    dcc.Graph(id='temperature-graph', figure=fig)\n",
        "])\n",
        "\n",
        "# Run the Dash app\n",
        "if __name__ == '__main__':\n",
        "    app.run_server(debug=True)"
      ]
    }
  ]
}