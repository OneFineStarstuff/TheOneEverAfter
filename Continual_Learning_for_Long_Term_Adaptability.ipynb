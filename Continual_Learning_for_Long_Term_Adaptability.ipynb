{
  "nbformat": 4,
  "nbformat_minor": 0,
  "metadata": {
    "colab": {
      "private_outputs": true,
      "provenance": [],
      "authorship_tag": "ABX9TyOG+qRDIXN1jekPHoIfhzPh",
      "include_colab_link": true
    },
    "kernelspec": {
      "name": "python3",
      "display_name": "Python 3"
    },
    "language_info": {
      "name": "python"
    }
  },
  "cells": [
    {
      "cell_type": "markdown",
      "metadata": {
        "id": "view-in-github",
        "colab_type": "text"
      },
      "source": [
        "<a href=\"https://colab.research.google.com/github/OneFineStarstuff/OneFineStardust/blob/main/Continual_Learning_for_Long_Term_Adaptability.ipynb\" target=\"_parent\"><img src=\"https://colab.research.google.com/assets/colab-badge.svg\" alt=\"Open In Colab\"/></a>"
      ]
    },
    {
      "cell_type": "code",
      "execution_count": null,
      "metadata": {
        "id": "v7tTpu0bKYwN"
      },
      "outputs": [],
      "source": [
        "import torch\n",
        "import torch.nn as nn\n",
        "\n",
        "class EWC:\n",
        "    def __init__(self, model, old_data, importance=1e4):\n",
        "        self.model = model\n",
        "        self.importance = importance\n",
        "        self.old_params = {n: p.clone() for n, p in model.named_parameters()}\n",
        "        self.old_gradients = self.compute_gradients(old_data)\n",
        "\n",
        "    def compute_gradients(self, data):\n",
        "        self.model.eval()\n",
        "        data = data.to(next(self.model.parameters()).device)  # Ensure data is on the same device as the model\n",
        "        loss = self.model(data)\n",
        "        loss.backward()\n",
        "        return {n: p.grad.clone().detach() for n, p in self.model.named_parameters()}\n",
        "\n",
        "    def penalty(self):\n",
        "        self.model.train()\n",
        "        loss = 0\n",
        "        for n, p in self.model.named_parameters():\n",
        "            _loss = self.importance * (p - self.old_params[n]) ** 2 * self.old_gradients[n] ** 2\n",
        "            loss += _loss.sum()\n",
        "        return loss\n",
        "\n",
        "# Example usage\n",
        "class DummyModel(nn.Module):\n",
        "    def __init__(self):\n",
        "        super(DummyModel, self).__init__()\n",
        "        self.fc = nn.Linear(10, 1)\n",
        "\n",
        "    def forward(self, x):\n",
        "        return self.fc(x).sum()\n",
        "\n",
        "model = DummyModel()\n",
        "old_data = torch.randn(10, 10)\n",
        "\n",
        "ewc = EWC(model, old_data)\n",
        "penalty = ewc.penalty()\n",
        "print(f\"EWC Penalty: {penalty.item()}\")"
      ]
    }
  ]
}