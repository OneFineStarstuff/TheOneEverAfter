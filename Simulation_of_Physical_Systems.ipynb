{
  "nbformat": 4,
  "nbformat_minor": 0,
  "metadata": {
    "colab": {
      "private_outputs": true,
      "provenance": [],
      "authorship_tag": "ABX9TyORp3PQAel27Uc53fJcjhQy",
      "include_colab_link": true
    },
    "kernelspec": {
      "name": "python3",
      "display_name": "Python 3"
    },
    "language_info": {
      "name": "python"
    }
  },
  "cells": [
    {
      "cell_type": "markdown",
      "metadata": {
        "id": "view-in-github",
        "colab_type": "text"
      },
      "source": [
        "<a href=\"https://colab.research.google.com/github/OneFineStarstuff/OneFineStardust/blob/main/Simulation_of_Physical_Systems.ipynb\" target=\"_parent\"><img src=\"https://colab.research.google.com/assets/colab-badge.svg\" alt=\"Open In Colab\"/></a>"
      ]
    },
    {
      "cell_type": "code",
      "execution_count": null,
      "metadata": {
        "id": "v3LnCIZNjVVO"
      },
      "outputs": [],
      "source": [
        "import numpy as np\n",
        "import matplotlib.pyplot as plt\n",
        "\n",
        "# Constants\n",
        "g = 9.81  # Acceleration due to gravity (m/s^2)\n",
        "angle = 45  # Launch angle in degrees\n",
        "velocity = 20  # Initial velocity (m/s)\n",
        "\n",
        "# Convert angle to radians\n",
        "theta = np.radians(angle)\n",
        "\n",
        "# Time of flight calculation\n",
        "time_of_flight = (2 * velocity * np.sin(theta)) / g\n",
        "\n",
        "# Time intervals for simulation\n",
        "t_values = np.linspace(0, time_of_flight, num=100)\n",
        "\n",
        "# Calculate projectile motion coordinates\n",
        "x_values = velocity * np.cos(theta) * t_values\n",
        "y_values = velocity * np.sin(theta) * t_values - (0.5 * g * t_values**2)\n",
        "\n",
        "# Plot the trajectory\n",
        "plt.figure(figsize=(10, 5))\n",
        "plt.plot(x_values, y_values)\n",
        "plt.title('Projectile Motion')\n",
        "plt.xlabel('Distance (m)')\n",
        "plt.ylabel('Height (m)')\n",
        "plt.grid()\n",
        "plt.xlim(0, max(x_values) + 1)\n",
        "plt.ylim(0, max(y_values) + 1)\n",
        "plt.show()"
      ]
    }
  ]
}