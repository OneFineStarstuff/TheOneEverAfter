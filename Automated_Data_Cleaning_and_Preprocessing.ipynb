{
  "nbformat": 4,
  "nbformat_minor": 0,
  "metadata": {
    "colab": {
      "private_outputs": true,
      "provenance": [],
      "authorship_tag": "ABX9TyOHrTn2pcq2I6QYhyEvWdyX",
      "include_colab_link": true
    },
    "kernelspec": {
      "name": "python3",
      "display_name": "Python 3"
    },
    "language_info": {
      "name": "python"
    }
  },
  "cells": [
    {
      "cell_type": "markdown",
      "metadata": {
        "id": "view-in-github",
        "colab_type": "text"
      },
      "source": [
        "<a href=\"https://colab.research.google.com/github/OneFineStarstuff/OneFineStardust/blob/main/Automated_Data_Cleaning_and_Preprocessing.ipynb\" target=\"_parent\"><img src=\"https://colab.research.google.com/assets/colab-badge.svg\" alt=\"Open In Colab\"/></a>"
      ]
    },
    {
      "cell_type": "code",
      "execution_count": null,
      "metadata": {
        "id": "8Rs7rspsmDqw"
      },
      "outputs": [],
      "source": [
        "import pandas as pd\n",
        "\n",
        "# Load dataset\n",
        "data = pd.read_csv('raw_data.csv')\n",
        "\n",
        "# Display initial data info\n",
        "print(\"Initial Data Info:\")\n",
        "print(data.info())\n",
        "\n",
        "# Remove duplicates\n",
        "data.drop_duplicates(inplace=True)\n",
        "\n",
        "# Fill missing values\n",
        "data.fillna(method='ffill', inplace=True)  # Forward fill\n",
        "\n",
        "# Convert categorical variables to dummy/indicator variables\n",
        "data = pd.get_dummies(data, drop_first=True)\n",
        "\n",
        "# Display cleaned data info\n",
        "print(\"Cleaned Data Info:\")\n",
        "print(data.info())"
      ]
    }
  ]
}