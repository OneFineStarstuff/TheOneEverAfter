{
  "nbformat": 4,
  "nbformat_minor": 0,
  "metadata": {
    "colab": {
      "private_outputs": true,
      "provenance": [],
      "authorship_tag": "ABX9TyOGN+e+x+TBYdRHUncoCbAp",
      "include_colab_link": true
    },
    "kernelspec": {
      "name": "python3",
      "display_name": "Python 3"
    },
    "language_info": {
      "name": "python"
    }
  },
  "cells": [
    {
      "cell_type": "markdown",
      "metadata": {
        "id": "view-in-github",
        "colab_type": "text"
      },
      "source": [
        "<a href=\"https://colab.research.google.com/github/OneFineStarstuff/OneFineStarstuff/blob/main/Efficient_Training_with_Gradient_Checkpointing.ipynb\" target=\"_parent\"><img src=\"https://colab.research.google.com/assets/colab-badge.svg\" alt=\"Open In Colab\"/></a>"
      ]
    },
    {
      "cell_type": "code",
      "execution_count": null,
      "metadata": {
        "id": "8BiSESOzpk4s"
      },
      "outputs": [],
      "source": [
        "import torch\n",
        "import torch.nn as nn\n",
        "from torch.utils.checkpoint import checkpoint\n",
        "from transformers import AutoModelForCausalLM, AutoTokenizer\n",
        "\n",
        "class WrappedModel(nn.Module):\n",
        "    def __init__(self, model):\n",
        "        super(WrappedModel, self).__init__()\n",
        "        self.model = model\n",
        "\n",
        "    def forward(self, input_ids):\n",
        "        attention_mask = (input_ids != tokenizer.pad_token_id).to(dtype=torch.long) if tokenizer.pad_token_id is not None else torch.ones_like(input_ids)\n",
        "        # Use checkpointing on memory-intensive operations\n",
        "        outputs = checkpoint(self.model_forward, input_ids, attention_mask)\n",
        "        return outputs\n",
        "\n",
        "    def model_forward(self, input_ids, attention_mask):\n",
        "        return self.model(input_ids=input_ids, attention_mask=attention_mask).logits\n",
        "\n",
        "# Initialize student model and tokenizer\n",
        "student_model = AutoModelForCausalLM.from_pretrained(\"distilgpt2\")\n",
        "tokenizer = AutoTokenizer.from_pretrained(\"distilgpt2\")\n",
        "\n",
        "wrapped_model = WrappedModel(student_model)\n",
        "\n",
        "# Create a dummy input for testing\n",
        "dummy_input = tokenizer(\"This is a dummy input\", return_tensors=\"pt\")[\"input_ids\"]\n",
        "\n",
        "# Test the model with checkpointing\n",
        "outputs = wrapped_model(dummy_input)\n",
        "print(outputs)"
      ]
    }
  ]
}