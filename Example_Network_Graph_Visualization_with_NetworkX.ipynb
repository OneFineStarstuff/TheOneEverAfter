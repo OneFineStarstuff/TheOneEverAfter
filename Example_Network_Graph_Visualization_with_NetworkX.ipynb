{
  "nbformat": 4,
  "nbformat_minor": 0,
  "metadata": {
    "colab": {
      "private_outputs": true,
      "provenance": [],
      "authorship_tag": "ABX9TyOvFBbe/O3IprAFaWluQGYp",
      "include_colab_link": true
    },
    "kernelspec": {
      "name": "python3",
      "display_name": "Python 3"
    },
    "language_info": {
      "name": "python"
    }
  },
  "cells": [
    {
      "cell_type": "markdown",
      "metadata": {
        "id": "view-in-github",
        "colab_type": "text"
      },
      "source": [
        "<a href=\"https://colab.research.google.com/github/OneFineStarstuff/OneFineStardust/blob/main/Example_Network_Graph_Visualization_with_NetworkX.ipynb\" target=\"_parent\"><img src=\"https://colab.research.google.com/assets/colab-badge.svg\" alt=\"Open In Colab\"/></a>"
      ]
    },
    {
      "cell_type": "code",
      "execution_count": null,
      "metadata": {
        "id": "PuUO4C-SDMlB"
      },
      "outputs": [],
      "source": [
        "import networkx as nx\n",
        "import matplotlib.pyplot as plt\n",
        "\n",
        "# Create a graph object\n",
        "G = nx.Graph()\n",
        "\n",
        "# Add nodes and edges\n",
        "G.add_edges_from([(1, 2), (1, 3), (2, 4), (3, 4), (4, 5)])\n",
        "\n",
        "# Draw the graph\n",
        "pos = nx.spring_layout(G)  # positions for all nodes\n",
        "nx.draw(G, pos, with_labels=True)\n",
        "plt.title('Network Graph Visualization')\n",
        "plt.show()"
      ]
    }
  ]
}