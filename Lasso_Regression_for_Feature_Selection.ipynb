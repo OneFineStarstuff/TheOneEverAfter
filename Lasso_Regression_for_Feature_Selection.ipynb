{
  "nbformat": 4,
  "nbformat_minor": 0,
  "metadata": {
    "colab": {
      "private_outputs": true,
      "provenance": [],
      "authorship_tag": "ABX9TyMW4FJopiJKxM3E2GG47+UP",
      "include_colab_link": true
    },
    "kernelspec": {
      "name": "python3",
      "display_name": "Python 3"
    },
    "language_info": {
      "name": "python"
    }
  },
  "cells": [
    {
      "cell_type": "markdown",
      "metadata": {
        "id": "view-in-github",
        "colab_type": "text"
      },
      "source": [
        "<a href=\"https://colab.research.google.com/github/OneFineStarstuff/OneFineStardust/blob/main/Lasso_Regression_for_Feature_Selection.ipynb\" target=\"_parent\"><img src=\"https://colab.research.google.com/assets/colab-badge.svg\" alt=\"Open In Colab\"/></a>"
      ]
    },
    {
      "cell_type": "code",
      "execution_count": null,
      "metadata": {
        "id": "Tm3yrJEKGeEu"
      },
      "outputs": [],
      "source": [
        "import numpy as np\n",
        "import matplotlib.pyplot as plt\n",
        "from sklearn.linear_model import Lasso\n",
        "from sklearn.datasets import make_regression\n",
        "\n",
        "# Generate synthetic data\n",
        "X, y, coef = make_regression(n_samples=100, n_features=10, noise=0.1, coef=True)\n",
        "\n",
        "# Fit Lasso regression model\n",
        "lasso_model = Lasso(alpha=0.1)\n",
        "lasso_model.fit(X, y)\n",
        "\n",
        "# Print coefficients\n",
        "print(\"Lasso Coefficients:\", lasso_model.coef_)\n",
        "\n",
        "# Plot true vs. estimated coefficients\n",
        "plt.plot(coef, label='True Coefficients', marker='o')\n",
        "plt.plot(lasso_model.coef_, label='Lasso Coefficients', marker='x')\n",
        "plt.title('Lasso Regression Coefficients')\n",
        "plt.xlabel('Feature Index')\n",
        "plt.ylabel('Coefficient Value')\n",
        "plt.legend()\n",
        "plt.show()"
      ]
    }
  ]
}