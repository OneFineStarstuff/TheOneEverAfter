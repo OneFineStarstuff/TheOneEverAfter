{
  "nbformat": 4,
  "nbformat_minor": 0,
  "metadata": {
    "colab": {
      "private_outputs": true,
      "provenance": [],
      "authorship_tag": "ABX9TyMLZDxPfNIGUXE5FOhoxHnQ",
      "include_colab_link": true
    },
    "kernelspec": {
      "name": "python3",
      "display_name": "Python 3"
    },
    "language_info": {
      "name": "python"
    }
  },
  "cells": [
    {
      "cell_type": "markdown",
      "metadata": {
        "id": "view-in-github",
        "colab_type": "text"
      },
      "source": [
        "<a href=\"https://colab.research.google.com/github/OneFineStarstuff/OneFineStarstuff/blob/main/Continuous_Monitoring_with_TensorBoard_and_Prometheus.ipynb\" target=\"_parent\"><img src=\"https://colab.research.google.com/assets/colab-badge.svg\" alt=\"Open In Colab\"/></a>"
      ]
    },
    {
      "cell_type": "code",
      "execution_count": null,
      "metadata": {
        "id": "A3VNvnj3R0Lm"
      },
      "outputs": [],
      "source": [
        "pip install tensorboard"
      ]
    },
    {
      "cell_type": "code",
      "source": [
        "import torch\n",
        "import torch.nn as nn\n",
        "import torch.optim as optim\n",
        "from torch.utils.tensorboard import SummaryWriter\n",
        "import numpy as np\n",
        "\n",
        "# Create a simple model\n",
        "class SimpleModel(nn.Module):\n",
        "    def __init__(self):\n",
        "        super(SimpleModel, self).__init__()\n",
        "        self.fc1 = nn.Linear(10, 50)\n",
        "        self.fc2 = nn.Linear(50, 2)\n",
        "\n",
        "    def forward(self, x):\n",
        "        x = torch.relu(self.fc1(x))\n",
        "        x = self.fc2(x)\n",
        "        return x\n",
        "\n",
        "# Create data\n",
        "X_train = np.random.randn(100, 10).astype(np.float32)\n",
        "y_train = np.random.randint(0, 2, size=(100,)).astype(np.int64)\n",
        "\n",
        "# Convert data to torch tensors\n",
        "X_train = torch.tensor(X_train)\n",
        "y_train = torch.tensor(y_train)\n",
        "\n",
        "# Instantiate the model, loss function, and optimizer\n",
        "model = SimpleModel()\n",
        "criterion = nn.CrossEntropyLoss()\n",
        "optimizer = optim.Adam(model.parameters(), lr=0.001)\n",
        "\n",
        "# Set up TensorBoard writer\n",
        "writer = SummaryWriter()\n",
        "\n",
        "# Training loop\n",
        "epochs = 10\n",
        "for epoch in range(epochs):\n",
        "    model.train()\n",
        "    optimizer.zero_grad()\n",
        "\n",
        "    # Forward pass\n",
        "    outputs = model(X_train)\n",
        "    loss = criterion(outputs, y_train)\n",
        "\n",
        "    # Backward pass and optimization\n",
        "    loss.backward()\n",
        "    optimizer.step()\n",
        "\n",
        "    # Calculate accuracy\n",
        "    _, predicted = torch.max(outputs.data, 1)\n",
        "    accuracy = (predicted == y_train).sum().item() / y_train.size(0)\n",
        "\n",
        "    # Log metrics to TensorBoard\n",
        "    writer.add_scalar('Loss/train', loss.item(), epoch)\n",
        "    writer.add_scalar('Accuracy/train', accuracy, epoch)\n",
        "    print(f'Epoch [{epoch + 1}/{epochs}], Loss: {loss.item():.4f}, Accuracy: {accuracy:.4f}')\n",
        "\n",
        "# Close the writer\n",
        "writer.close()"
      ],
      "metadata": {
        "id": "GGg1g7SwSAcV"
      },
      "execution_count": null,
      "outputs": []
    }
  ]
}