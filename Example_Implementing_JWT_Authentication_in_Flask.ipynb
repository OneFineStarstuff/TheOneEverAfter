{
  "nbformat": 4,
  "nbformat_minor": 0,
  "metadata": {
    "colab": {
      "private_outputs": true,
      "provenance": [],
      "authorship_tag": "ABX9TyN2sAE8F6ZytECI2MY3dIjD",
      "include_colab_link": true
    },
    "kernelspec": {
      "name": "python3",
      "display_name": "Python 3"
    },
    "language_info": {
      "name": "python"
    }
  },
  "cells": [
    {
      "cell_type": "markdown",
      "metadata": {
        "id": "view-in-github",
        "colab_type": "text"
      },
      "source": [
        "<a href=\"https://colab.research.google.com/github/OneFineStarstuff/OneFineStardust/blob/main/Example_Implementing_JWT_Authentication_in_Flask.ipynb\" target=\"_parent\"><img src=\"https://colab.research.google.com/assets/colab-badge.svg\" alt=\"Open In Colab\"/></a>"
      ]
    },
    {
      "cell_type": "code",
      "execution_count": null,
      "metadata": {
        "id": "wrs26bqnMlEe"
      },
      "outputs": [],
      "source": [
        "from flask import Flask, request, jsonify\n",
        "import jwt\n",
        "import datetime\n",
        "\n",
        "app = Flask(__name__)\n",
        "app.config['SECRET_KEY'] = 'your_secret_key'\n",
        "\n",
        "@app.route('/login', methods=['POST'])\n",
        "def login():\n",
        "    auth = request.json\n",
        "    if auth and auth['password'] == 'password':\n",
        "        token = jwt.encode({'user': auth['username'], 'exp': datetime.datetime.utcnow() + datetime.timedelta(minutes=30)}, app.config['SECRET_KEY'])\n",
        "        return jsonify({'token': token})\n",
        "    return jsonify({'message': 'Invalid credentials'}), 401\n",
        "\n",
        "@app.route('/protected', methods=['GET'])\n",
        "def protected():\n",
        "    token = request.headers.get('x-access-token')\n",
        "    if not token:\n",
        "        return jsonify({'message': 'Token is missing!'}), 403\n",
        "\n",
        "    try:\n",
        "        data = jwt.decode(token, app.config['SECRET_KEY'], algorithms=[\"HS256\"])\n",
        "    except:\n",
        "        return jsonify({'message': 'Token is invalid!'}), 403\n",
        "\n",
        "    return jsonify({'message': 'Protected content accessed!'})\n",
        "\n",
        "if __name__ == '__main__':\n",
        "    app.run(debug=True)"
      ]
    }
  ]
}