{
  "nbformat": 4,
  "nbformat_minor": 0,
  "metadata": {
    "colab": {
      "private_outputs": true,
      "provenance": [],
      "authorship_tag": "ABX9TyMPgw/3dXuQjLyd4nvmC9/K",
      "include_colab_link": true
    },
    "kernelspec": {
      "name": "python3",
      "display_name": "Python 3"
    },
    "language_info": {
      "name": "python"
    }
  },
  "cells": [
    {
      "cell_type": "markdown",
      "metadata": {
        "id": "view-in-github",
        "colab_type": "text"
      },
      "source": [
        "<a href=\"https://colab.research.google.com/github/OneFineStarstuff/OneFineStarstuff/blob/main/Generative_Adversarial_Network_(GAN).ipynb\" target=\"_parent\"><img src=\"https://colab.research.google.com/assets/colab-badge.svg\" alt=\"Open In Colab\"/></a>"
      ]
    },
    {
      "cell_type": "code",
      "execution_count": null,
      "metadata": {
        "id": "CSVVqSoYtxf7"
      },
      "outputs": [],
      "source": [
        "import torch\n",
        "import torch.nn as nn\n",
        "import torch.optim as optim\n",
        "from torchvision import datasets, transforms\n",
        "from torch.utils.data import DataLoader\n",
        "\n",
        "class Generator(nn.Module):\n",
        "    def __init__(self, noise_dim, image_dim):\n",
        "        super(Generator, self).__init__()\n",
        "        self.fc = nn.Sequential(\n",
        "            nn.Linear(noise_dim, 128),\n",
        "            nn.ReLU(),\n",
        "            nn.Linear(128, image_dim),\n",
        "            nn.Tanh(),\n",
        "        )\n",
        "\n",
        "    def forward(self, x):\n",
        "        return self.fc(x)\n",
        "\n",
        "class Discriminator(nn.Module):\n",
        "    def __init__(self, image_dim):\n",
        "        super(Discriminator, self).__init__()\n",
        "        self.fc = nn.Sequential(\n",
        "            nn.Linear(image_dim, 128),\n",
        "            nn.LeakyReLU(0.2),\n",
        "            nn.Linear(128, 1),\n",
        "            nn.Sigmoid(),\n",
        "        )\n",
        "\n",
        "    def forward(self, x):\n",
        "        return self.fc(x)\n",
        "\n",
        "# Initialize models and hyperparameters\n",
        "noise_dim = 100\n",
        "image_dim = 28 * 28\n",
        "G = Generator(noise_dim, image_dim)\n",
        "D = Discriminator(image_dim)\n",
        "\n",
        "criterion = nn.BCELoss()\n",
        "G_optimizer = optim.Adam(G.parameters(), lr=0.0002)\n",
        "D_optimizer = optim.Adam(D.parameters(), lr=0.0002)\n",
        "\n",
        "# Data loading and preprocessing\n",
        "transform = transforms.Compose([\n",
        "    transforms.ToTensor(),\n",
        "    transforms.Normalize((0.5,), (0.5,))\n",
        "])\n",
        "\n",
        "train_dataset = datasets.MNIST(root='./data', train=True, download=True, transform=transform)\n",
        "dataloader = DataLoader(train_dataset, batch_size=64, shuffle=True)\n",
        "batch_size = 64\n",
        "\n",
        "# GAN training loop (simplified)\n",
        "for epoch in range(10):\n",
        "    for real_images, _ in dataloader:\n",
        "        # Train Discriminator on real and fake data\n",
        "        D_optimizer.zero_grad()\n",
        "        real_images = real_images.view(real_images.size(0), -1)  # Flatten the images\n",
        "        real_labels = torch.ones(real_images.size(0), 1)\n",
        "        fake_labels = torch.zeros(real_images.size(0), 1)\n",
        "        real_output = D(real_images)\n",
        "        real_loss = criterion(real_output, real_labels)\n",
        "\n",
        "        noise = torch.randn(real_images.size(0), noise_dim)\n",
        "        fake_images = G(noise)\n",
        "        fake_output = D(fake_images.detach())\n",
        "        fake_loss = criterion(fake_output, fake_labels)\n",
        "        D_loss = real_loss + fake_loss\n",
        "        D_loss.backward()\n",
        "        D_optimizer.step()\n",
        "\n",
        "        # Train Generator\n",
        "        G_optimizer.zero_grad()\n",
        "        fake_output = D(fake_images)\n",
        "        G_loss = criterion(fake_output, real_labels)\n",
        "        G_loss.backward()\n",
        "        G_optimizer.step()\n",
        "\n",
        "    print(f\"Epoch [{epoch+1}/10], D Loss: {D_loss.item():.4f}, G Loss: {G_loss.item():.4f}\")"
      ]
    }
  ]
}