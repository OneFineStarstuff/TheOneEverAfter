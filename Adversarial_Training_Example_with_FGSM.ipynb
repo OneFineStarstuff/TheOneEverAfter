{
  "nbformat": 4,
  "nbformat_minor": 0,
  "metadata": {
    "colab": {
      "private_outputs": true,
      "provenance": [],
      "authorship_tag": "ABX9TyMXFBH5fRy60tHVPVeavieL",
      "include_colab_link": true
    },
    "kernelspec": {
      "name": "python3",
      "display_name": "Python 3"
    },
    "language_info": {
      "name": "python"
    }
  },
  "cells": [
    {
      "cell_type": "markdown",
      "metadata": {
        "id": "view-in-github",
        "colab_type": "text"
      },
      "source": [
        "<a href=\"https://colab.research.google.com/github/OneFineStarstuff/OneFineStarstuff/blob/main/Adversarial_Training_Example_with_FGSM.ipynb\" target=\"_parent\"><img src=\"https://colab.research.google.com/assets/colab-badge.svg\" alt=\"Open In Colab\"/></a>"
      ]
    },
    {
      "cell_type": "code",
      "source": [
        "import torch\n",
        "import torch.nn.functional as F\n",
        "from torch.utils.data import DataLoader, TensorDataset\n",
        "\n",
        "# Example data (replace with your actual data)\n",
        "X_train = torch.randn(100, 3, 32, 32)  # 100 samples, 3 channels, 32x32 image\n",
        "y_train = torch.randint(0, 10, (100,))  # 100 labels, for 10 classes\n",
        "\n",
        "# Create dataset and dataloader\n",
        "dataset = TensorDataset(X_train, y_train)\n",
        "dataloader = DataLoader(dataset, batch_size=32, shuffle=True)\n",
        "\n",
        "# Define your model (example model)\n",
        "class MyModel(torch.nn.Module):\n",
        "    def __init__(self):\n",
        "        super(MyModel, self).__init__()\n",
        "        self.conv1 = torch.nn.Conv2d(3, 10, kernel_size=5)\n",
        "        self.fc1 = torch.nn.Linear(10*28*28, 10)  # Assuming input size 32x32\n",
        "\n",
        "    def forward(self, x):\n",
        "        x = F.relu(self.conv1(x))\n",
        "        x = x.view(-1, 10*28*28)\n",
        "        x = self.fc1(x)\n",
        "        return F.log_softmax(x, dim=1)\n",
        "\n",
        "model = MyModel()\n",
        "optimizer = torch.optim.Adam(model.parameters())\n",
        "\n",
        "def fgsm_attack(model, inputs, labels, epsilon=0.1):\n",
        "    inputs.requires_grad = True\n",
        "    outputs = model(inputs)\n",
        "    loss = F.nll_loss(outputs, labels)\n",
        "    model.zero_grad()\n",
        "    loss.backward()\n",
        "    perturbed_inputs = inputs + epsilon * inputs.grad.sign()\n",
        "    return perturbed_inputs\n",
        "\n",
        "# Train on adversarial examples\n",
        "for data, labels in dataloader:\n",
        "    optimizer.zero_grad()  # Clear gradients\n",
        "    adv_data = fgsm_attack(model, data, labels)\n",
        "    output = model(adv_data)\n",
        "    loss = F.cross_entropy(output, labels)\n",
        "    loss.backward()\n",
        "    optimizer.step()"
      ],
      "metadata": {
        "id": "QTQ2FI751RaW"
      },
      "execution_count": null,
      "outputs": []
    }
  ]
}