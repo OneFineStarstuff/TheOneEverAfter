{
  "nbformat": 4,
  "nbformat_minor": 0,
  "metadata": {
    "colab": {
      "private_outputs": true,
      "provenance": [],
      "authorship_tag": "ABX9TyPi/L9pfdIEaZMmNe+E3k4W",
      "include_colab_link": true
    },
    "kernelspec": {
      "name": "python3",
      "display_name": "Python 3"
    },
    "language_info": {
      "name": "python"
    }
  },
  "cells": [
    {
      "cell_type": "markdown",
      "metadata": {
        "id": "view-in-github",
        "colab_type": "text"
      },
      "source": [
        "<a href=\"https://colab.research.google.com/github/OneFineStarstuff/OneFineStarstuff/blob/main/Bioinformatics_DNA_Sequence_Analysis_with_k_mers.ipynb\" target=\"_parent\"><img src=\"https://colab.research.google.com/assets/colab-badge.svg\" alt=\"Open In Colab\"/></a>"
      ]
    },
    {
      "cell_type": "code",
      "execution_count": null,
      "metadata": {
        "id": "IJOQm8M7nTBe"
      },
      "outputs": [],
      "source": [
        "from collections import defaultdict\n",
        "\n",
        "# Example DNA sequence\n",
        "dna_sequence = \"ACGTACGTGACCTGACGT\"\n",
        "\n",
        "# Function to count k-mers\n",
        "def count_kmers(sequence, k):\n",
        "    kmer_counts = defaultdict(int)\n",
        "    for i in range(len(sequence) - k + 1):\n",
        "        kmer = sequence[i:i+k]\n",
        "        kmer_counts[kmer] += 1\n",
        "    return kmer_counts\n",
        "\n",
        "# Set k-mer size\n",
        "k = 3\n",
        "kmer_counts = count_kmers(dna_sequence, k)\n",
        "\n",
        "# Print k-mer counts\n",
        "print(\"k-mer counts:\")\n",
        "for kmer, count in kmer_counts.items():\n",
        "    print(f\"{kmer}: {count}\")"
      ]
    }
  ]
}