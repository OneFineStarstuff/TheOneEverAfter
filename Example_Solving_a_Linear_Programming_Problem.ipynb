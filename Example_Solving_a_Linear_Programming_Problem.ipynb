{
  "nbformat": 4,
  "nbformat_minor": 0,
  "metadata": {
    "colab": {
      "private_outputs": true,
      "provenance": [],
      "authorship_tag": "ABX9TyNMiqlCwEdDtnRE+iQ4HAEm",
      "include_colab_link": true
    },
    "kernelspec": {
      "name": "python3",
      "display_name": "Python 3"
    },
    "language_info": {
      "name": "python"
    }
  },
  "cells": [
    {
      "cell_type": "markdown",
      "metadata": {
        "id": "view-in-github",
        "colab_type": "text"
      },
      "source": [
        "<a href=\"https://colab.research.google.com/github/OneFineStarstuff/OneFineStarstuff/blob/main/Example_Solving_a_Linear_Programming_Problem.ipynb\" target=\"_parent\"><img src=\"https://colab.research.google.com/assets/colab-badge.svg\" alt=\"Open In Colab\"/></a>"
      ]
    },
    {
      "cell_type": "code",
      "source": [
        "pip install pulp"
      ],
      "metadata": {
        "id": "XrDYkEdevPG6"
      },
      "execution_count": null,
      "outputs": []
    },
    {
      "cell_type": "code",
      "execution_count": null,
      "metadata": {
        "id": "eg9siNbdvCK-"
      },
      "outputs": [],
      "source": [
        "from pulp import *\n",
        "\n",
        "# Create a linear programming problem\n",
        "prob = LpProblem(\"Maximize_Profit\", LpMaximize)\n",
        "\n",
        "# Decision variables\n",
        "x1 = LpVariable('x1', lowBound=0)\n",
        "x2 = LpVariable('x2', lowBound=0)\n",
        "\n",
        "# Objective function\n",
        "prob += 40 * x1 + 30 * x2, \"Profit\"\n",
        "\n",
        "# Constraints\n",
        "prob += 2 * x1 + x2 <= 12, \"Constraint1\"\n",
        "prob += x1 + 2 * x2 <= 10, \"Constraint2\"\n",
        "\n",
        "# Solve the problem\n",
        "prob.solve()\n",
        "\n",
        "# Print the results\n",
        "print(f\"Status: {LpStatus[prob.status]}\")\n",
        "print(f\"Optimal Solution: x1 = {x1.varValue}, x2 = {x2.varValue}\")\n",
        "print(f\"Maximum Profit: {value(prob.objective)}\")"
      ]
    }
  ]
}