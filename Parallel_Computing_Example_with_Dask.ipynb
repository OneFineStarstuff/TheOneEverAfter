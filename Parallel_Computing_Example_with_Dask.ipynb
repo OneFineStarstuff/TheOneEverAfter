{
  "nbformat": 4,
  "nbformat_minor": 0,
  "metadata": {
    "colab": {
      "private_outputs": true,
      "provenance": [],
      "authorship_tag": "ABX9TyPvu800RpnOGpgM2rGuWoCr",
      "include_colab_link": true
    },
    "kernelspec": {
      "name": "python3",
      "display_name": "Python 3"
    },
    "language_info": {
      "name": "python"
    }
  },
  "cells": [
    {
      "cell_type": "markdown",
      "metadata": {
        "id": "view-in-github",
        "colab_type": "text"
      },
      "source": [
        "<a href=\"https://colab.research.google.com/github/OneFineStarstuff/OneFineStardust/blob/main/Parallel_Computing_Example_with_Dask.ipynb\" target=\"_parent\"><img src=\"https://colab.research.google.com/assets/colab-badge.svg\" alt=\"Open In Colab\"/></a>"
      ]
    },
    {
      "cell_type": "code",
      "execution_count": null,
      "metadata": {
        "id": "Yrwv84zL9PwS"
      },
      "outputs": [],
      "source": [
        "import dask.array as da\n",
        "\n",
        "# Create a large Dask array\n",
        "x = da.random.random((10000, 10000), chunks=(1000, 1000))\n",
        "\n",
        "# Perform a computation (e.g., matrix multiplication)\n",
        "result = da.dot(x.T, x)\n",
        "\n",
        "# Compute the result (this triggers the actual computation)\n",
        "computed_result = result.compute()\n",
        "\n",
        "print(\"Shape of computed result:\", computed_result.shape)"
      ]
    }
  ]
}