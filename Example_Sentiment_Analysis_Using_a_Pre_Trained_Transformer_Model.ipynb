{
  "nbformat": 4,
  "nbformat_minor": 0,
  "metadata": {
    "colab": {
      "private_outputs": true,
      "provenance": [],
      "authorship_tag": "ABX9TyNCnL+Yy2Ocr1++JWJ3x2n2",
      "include_colab_link": true
    },
    "kernelspec": {
      "name": "python3",
      "display_name": "Python 3"
    },
    "language_info": {
      "name": "python"
    }
  },
  "cells": [
    {
      "cell_type": "markdown",
      "metadata": {
        "id": "view-in-github",
        "colab_type": "text"
      },
      "source": [
        "<a href=\"https://colab.research.google.com/github/OneFineStarstuff/OneFineStarstuff/blob/main/Example_Sentiment_Analysis_Using_a_Pre_Trained_Transformer_Model.ipynb\" target=\"_parent\"><img src=\"https://colab.research.google.com/assets/colab-badge.svg\" alt=\"Open In Colab\"/></a>"
      ]
    },
    {
      "cell_type": "code",
      "execution_count": null,
      "metadata": {
        "id": "uiimC7_6wKeC"
      },
      "outputs": [],
      "source": [
        "from transformers import pipeline\n",
        "\n",
        "# Load a pre-trained sentiment analysis pipeline\n",
        "nlp = pipeline(\"sentiment-analysis\")\n",
        "\n",
        "# Example sentences\n",
        "sentences = [\n",
        "    \"I love this new technology!\",\n",
        "    \"This is the worst day of my life.\"\n",
        "]\n",
        "\n",
        "# Perform sentiment analysis\n",
        "results = nlp(sentences)\n",
        "\n",
        "# Print the results\n",
        "for sentence, result in zip(sentences, results):\n",
        "    print(f\"Sentence: {sentence}\")\n",
        "    print(f\"Sentiment: {result['label']}, Confidence: {result['score']}\")"
      ]
    }
  ]
}