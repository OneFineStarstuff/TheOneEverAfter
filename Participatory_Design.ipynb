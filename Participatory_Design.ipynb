{
  "nbformat": 4,
  "nbformat_minor": 0,
  "metadata": {
    "colab": {
      "private_outputs": true,
      "provenance": [],
      "authorship_tag": "ABX9TyP2RmYRB8LCoscmGBIv6hL2",
      "include_colab_link": true
    },
    "kernelspec": {
      "name": "python3",
      "display_name": "Python 3"
    },
    "language_info": {
      "name": "python"
    }
  },
  "cells": [
    {
      "cell_type": "markdown",
      "metadata": {
        "id": "view-in-github",
        "colab_type": "text"
      },
      "source": [
        "<a href=\"https://colab.research.google.com/github/OneFineStarstuff/OneFineStardust/blob/main/Participatory_Design.ipynb\" target=\"_parent\"><img src=\"https://colab.research.google.com/assets/colab-badge.svg\" alt=\"Open In Colab\"/></a>"
      ]
    },
    {
      "cell_type": "code",
      "execution_count": null,
      "metadata": {
        "id": "HtVDL5XEC4jE"
      },
      "outputs": [],
      "source": [
        "class ParticipatoryDesign:\n",
        "    def __init__(self):\n",
        "        self.stakeholders = []\n",
        "\n",
        "    def add_stakeholder(self, stakeholder):\n",
        "        self.stakeholders.append(stakeholder)\n",
        "        return self.stakeholders\n",
        "\n",
        "    def collect_feedback(self, agi_design):\n",
        "        # Simulate collecting feedback from stakeholders\n",
        "        feedback = {}\n",
        "        for stakeholder in self.stakeholders:\n",
        "            feedback[stakeholder] = f\"Feedback from {stakeholder} on {agi_design}\"\n",
        "        return feedback\n",
        "\n",
        "# Example usage\n",
        "participatory_design = ParticipatoryDesign()\n",
        "participatory_design.add_stakeholder(\"Ethicist\")\n",
        "participatory_design.add_stakeholder(\"Computer Scientist\")\n",
        "participatory_design.add_stakeholder(\"Sociologist\")\n",
        "feedback = participatory_design.collect_feedback(\"AGI System v1.0\")\n",
        "print(f\"Stakeholder Feedback: {feedback}\")"
      ]
    }
  ]
}