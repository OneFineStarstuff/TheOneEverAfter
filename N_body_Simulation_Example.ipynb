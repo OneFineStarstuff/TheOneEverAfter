{
  "nbformat": 4,
  "nbformat_minor": 0,
  "metadata": {
    "colab": {
      "private_outputs": true,
      "provenance": [],
      "authorship_tag": "ABX9TyMRH7LD+6wVLXfOL2kAT7N1",
      "include_colab_link": true
    },
    "kernelspec": {
      "name": "python3",
      "display_name": "Python 3"
    },
    "language_info": {
      "name": "python"
    }
  },
  "cells": [
    {
      "cell_type": "markdown",
      "metadata": {
        "id": "view-in-github",
        "colab_type": "text"
      },
      "source": [
        "<a href=\"https://colab.research.google.com/github/OneFineStarstuff/OneFineStardust/blob/main/N_body_Simulation_Example.ipynb\" target=\"_parent\"><img src=\"https://colab.research.google.com/assets/colab-badge.svg\" alt=\"Open In Colab\"/></a>"
      ]
    },
    {
      "cell_type": "code",
      "execution_count": null,
      "metadata": {
        "id": "GQYai4qT3y2H"
      },
      "outputs": [],
      "source": [
        "import numpy as np\n",
        "import matplotlib.pyplot as plt\n",
        "\n",
        "def compute_gravitational_force(positions, masses):\n",
        "    G = 6.67430e-11\n",
        "    n = len(masses)\n",
        "    forces = np.zeros((n, 2))\n",
        "\n",
        "    for i in range(n):\n",
        "        for j in range(n):\n",
        "            if i != j:\n",
        "                r_vector = positions[j] - positions[i]\n",
        "                distance = np.linalg.norm(r_vector)\n",
        "                forces[i] += G * masses[j] * r_vector / distance**3\n",
        "\n",
        "    return forces\n",
        "\n",
        "# Initial conditions\n",
        "positions = np.array([[0, 0], [1e11, 0]])  # Two bodies at a distance\n",
        "masses = np.array([5.972e24, 7.348e22])     # Earth and Moon masses\n",
        "dt = 60 * 60 * 24  # One day in seconds\n",
        "\n",
        "# Simulate over time\n",
        "for _ in range(365):  # Simulate one year\n",
        "    forces = compute_gravitational_force(positions, masses)\n",
        "    positions += forces * dt / masses[:, None]\n",
        "\n",
        "# Plotting the results\n",
        "plt.plot(positions[:, 0], positions[:, 1], 'o')\n",
        "plt.title('N-body Simulation of Earth-Moon System')\n",
        "plt.xlabel('X Position (m)')\n",
        "plt.ylabel('Y Position (m)')\n",
        "plt.axis('equal')\n",
        "plt.grid()\n",
        "plt.show()"
      ]
    }
  ]
}