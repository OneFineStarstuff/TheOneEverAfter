{
  "nbformat": 4,
  "nbformat_minor": 0,
  "metadata": {
    "colab": {
      "private_outputs": true,
      "provenance": [],
      "authorship_tag": "ABX9TyNFDzzxaabMjADMIrmZHxCS",
      "include_colab_link": true
    },
    "kernelspec": {
      "name": "python3",
      "display_name": "Python 3"
    },
    "language_info": {
      "name": "python"
    }
  },
  "cells": [
    {
      "cell_type": "markdown",
      "metadata": {
        "id": "view-in-github",
        "colab_type": "text"
      },
      "source": [
        "<a href=\"https://colab.research.google.com/github/OneFineStarstuff/OneFineStarstuff/blob/main/Example_Building_a_Simple_Neural_Network_from_Scratch.ipynb\" target=\"_parent\"><img src=\"https://colab.research.google.com/assets/colab-badge.svg\" alt=\"Open In Colab\"/></a>"
      ]
    },
    {
      "cell_type": "code",
      "execution_count": null,
      "metadata": {
        "id": "vmJEbbEIUaiu"
      },
      "outputs": [],
      "source": [
        "import numpy as np\n",
        "\n",
        "# Sigmoid activation function\n",
        "def sigmoid(x):\n",
        "    return 1 / (1 + np.exp(-x))\n",
        "\n",
        "# Derivative of sigmoid for backpropagation\n",
        "def sigmoid_derivative(x):\n",
        "    return x * (1 - x)\n",
        "\n",
        "# Neural network class\n",
        "class NeuralNetwork:\n",
        "    def __init__(self, input_size, hidden_size, output_size):\n",
        "        # Initialize weights and biases\n",
        "        self.weights_input_hidden = np.random.randn(input_size, hidden_size)\n",
        "        self.weights_hidden_output = np.random.randn(hidden_size, output_size)\n",
        "        self.bias_hidden = np.zeros((1, hidden_size))\n",
        "        self.bias_output = np.zeros((1, output_size))\n",
        "\n",
        "    def feedforward(self, X):\n",
        "        # Hidden layer\n",
        "        self.hidden_input = np.dot(X, self.weights_input_hidden) + self.bias_hidden\n",
        "        self.hidden_output = sigmoid(self.hidden_input)\n",
        "\n",
        "        # Output layer\n",
        "        self.final_input = np.dot(self.hidden_output, self.weights_hidden_output) + self.bias_output\n",
        "        self.final_output = sigmoid(self.final_input)\n",
        "\n",
        "        return self.final_output\n",
        "\n",
        "    def backpropagate(self, X, y, learning_rate):\n",
        "        # Calculate output error\n",
        "        output_error = y - self.final_output\n",
        "        d_output = output_error * sigmoid_derivative(self.final_output)\n",
        "\n",
        "        # Calculate hidden layer error\n",
        "        hidden_error = np.dot(d_output, self.weights_hidden_output.T)\n",
        "        d_hidden = hidden_error * sigmoid_derivative(self.hidden_output)\n",
        "\n",
        "        # Update weights and biases\n",
        "        self.weights_hidden_output += np.dot(self.hidden_output.T, d_output) * learning_rate\n",
        "        self.weights_input_hidden += np.dot(X.T, d_hidden) * learning_rate\n",
        "        self.bias_output += np.sum(d_output, axis=0, keepdims=True) * learning_rate\n",
        "        self.bias_hidden += np.sum(d_hidden, axis=0, keepdims=True) * learning_rate\n",
        "\n",
        "    def train(self, X, y, iterations, learning_rate):\n",
        "        for _ in range(iterations):\n",
        "            self.feedforward(X)\n",
        "            self.backpropagate(X, y, learning_rate)\n",
        "\n",
        "# Example dataset (XOR problem)\n",
        "X = np.array([[0, 0], [0, 1], [1, 0], [1, 1]])\n",
        "y = np.array([[0], [1], [1], [0]])\n",
        "\n",
        "# Create and train the neural network\n",
        "nn = NeuralNetwork(input_size=2, hidden_size=2, output_size=1)\n",
        "nn.train(X, y, iterations=10000, learning_rate=0.1)\n",
        "\n",
        "# Test the neural network\n",
        "output = nn.feedforward(X)\n",
        "print(\"Predicted output for XOR problem:\\n\", output)"
      ]
    }
  ]
}