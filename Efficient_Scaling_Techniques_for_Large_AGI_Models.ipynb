{
  "nbformat": 4,
  "nbformat_minor": 0,
  "metadata": {
    "colab": {
      "private_outputs": true,
      "provenance": [],
      "authorship_tag": "ABX9TyMn6Jz4joVm2ortmB399xZJ",
      "include_colab_link": true
    },
    "kernelspec": {
      "name": "python3",
      "display_name": "Python 3"
    },
    "language_info": {
      "name": "python"
    }
  },
  "cells": [
    {
      "cell_type": "markdown",
      "metadata": {
        "id": "view-in-github",
        "colab_type": "text"
      },
      "source": [
        "<a href=\"https://colab.research.google.com/github/OneFineStarstuff/OneFineStardust/blob/main/Efficient_Scaling_Techniques_for_Large_AGI_Models.ipynb\" target=\"_parent\"><img src=\"https://colab.research.google.com/assets/colab-badge.svg\" alt=\"Open In Colab\"/></a>"
      ]
    },
    {
      "cell_type": "code",
      "execution_count": null,
      "metadata": {
        "id": "2wPYbfKqdV37"
      },
      "outputs": [],
      "source": [
        "import torch\n",
        "import torch.nn as nn\n",
        "import torch.nn.functional as F\n",
        "\n",
        "class TeacherModel(nn.Module):\n",
        "    def __init__(self, input_dim, hidden_dim):\n",
        "        super(TeacherModel, self).__init__()\n",
        "        self.fc = nn.Linear(input_dim, hidden_dim)\n",
        "\n",
        "    def forward(self, x):\n",
        "        return self.fc(x)\n",
        "\n",
        "class StudentModel(nn.Module):\n",
        "    def __init__(self, input_dim, hidden_dim):\n",
        "        super(StudentModel, self).__init__()\n",
        "        self.fc = nn.Linear(input_dim, hidden_dim)\n",
        "\n",
        "    def forward(self, x):\n",
        "        return self.fc(x)\n",
        "\n",
        "def distillation_loss(student_output, teacher_output, temperature=2.0):\n",
        "    student_probs = F.log_softmax(student_output / temperature, dim=1)\n",
        "    teacher_probs = F.softmax(teacher_output / temperature, dim=1)\n",
        "    return F.kl_div(student_probs, teacher_probs, reduction='batchmean') * (temperature ** 2)\n",
        "\n",
        "# Example usage\n",
        "input_data = torch.randn(10, 5)\n",
        "teacher_model = TeacherModel(5, 2)\n",
        "student_model = StudentModel(5, 2)\n",
        "\n",
        "teacher_output = teacher_model(input_data)\n",
        "student_output = student_model(input_data)\n",
        "\n",
        "loss = distillation_loss(student_output, teacher_output)\n",
        "print(f\"Distillation Loss: {loss.item()}\")"
      ]
    }
  ]
}