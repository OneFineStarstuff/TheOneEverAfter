{
  "nbformat": 4,
  "nbformat_minor": 0,
  "metadata": {
    "colab": {
      "private_outputs": true,
      "provenance": [],
      "authorship_tag": "ABX9TyOpHD74UTOaJd20ISjGVsKD",
      "include_colab_link": true
    },
    "kernelspec": {
      "name": "python3",
      "display_name": "Python 3"
    },
    "language_info": {
      "name": "python"
    }
  },
  "cells": [
    {
      "cell_type": "markdown",
      "metadata": {
        "id": "view-in-github",
        "colab_type": "text"
      },
      "source": [
        "<a href=\"https://colab.research.google.com/github/OneFineStarstuff/OneFineStardust/blob/main/Simulating_Orbital_Motion.ipynb\" target=\"_parent\"><img src=\"https://colab.research.google.com/assets/colab-badge.svg\" alt=\"Open In Colab\"/></a>"
      ]
    },
    {
      "cell_type": "code",
      "execution_count": null,
      "metadata": {
        "id": "nxy7H5oczWK5"
      },
      "outputs": [],
      "source": [
        "import numpy as np\n",
        "import matplotlib.pyplot as plt\n",
        "\n",
        "def simulate_orbit(G, M, r0, v0, dt, steps):\n",
        "    r = np.array(r0, dtype=np.float64)  # Ensure the position array is of type float64\n",
        "    v = np.array(v0, dtype=np.float64)  # Ensure the velocity array is of type float64\n",
        "    positions = []\n",
        "\n",
        "    for _ in range(steps):\n",
        "        positions.append(r.copy())\n",
        "        a = -G * M / np.linalg.norm(r)**3 * r  # Acceleration due to gravity\n",
        "        v += a * dt\n",
        "        r += v * dt\n",
        "\n",
        "    return np.array(positions)\n",
        "\n",
        "# Constants\n",
        "G = 6.67430e-11  # Gravitational constant\n",
        "M = 1.989e30     # Mass of the sun (kg)\n",
        "r0 = np.array([1.496e11, 0], dtype=np.float64)  # Initial position (1 AU)\n",
        "v0 = np.array([0, 29780], dtype=np.float64)      # Initial velocity (m/s)\n",
        "\n",
        "# Simulate orbit\n",
        "positions = simulate_orbit(G, M, r0, v0, dt=60*60*24, steps=365)\n",
        "\n",
        "# Plotting the orbit\n",
        "plt.plot(positions[:, 0], positions[:, 1])\n",
        "plt.title('Orbit Simulation')\n",
        "plt.xlabel('X Position (m)')\n",
        "plt.ylabel('Y Position (m)')\n",
        "plt.axis('equal')\n",
        "plt.grid()\n",
        "plt.show()"
      ]
    }
  ]
}