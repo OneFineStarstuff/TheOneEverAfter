{
  "nbformat": 4,
  "nbformat_minor": 0,
  "metadata": {
    "colab": {
      "private_outputs": true,
      "provenance": [],
      "authorship_tag": "ABX9TyMoRhT9WSrH0FW4qL/gN9PZ",
      "include_colab_link": true
    },
    "kernelspec": {
      "name": "python3",
      "display_name": "Python 3"
    },
    "language_info": {
      "name": "python"
    }
  },
  "cells": [
    {
      "cell_type": "markdown",
      "metadata": {
        "id": "view-in-github",
        "colab_type": "text"
      },
      "source": [
        "<a href=\"https://colab.research.google.com/github/OneFineStarstuff/OneFineStardust/blob/main/Example_Association_Rule_Learning_with_Apriori_Algorithm.ipynb\" target=\"_parent\"><img src=\"https://colab.research.google.com/assets/colab-badge.svg\" alt=\"Open In Colab\"/></a>"
      ]
    },
    {
      "cell_type": "code",
      "execution_count": null,
      "metadata": {
        "id": "m8LwGLMJGv6t"
      },
      "outputs": [],
      "source": [
        "from mlxtend.frequent_patterns import apriori, association_rules\n",
        "import pandas as pd\n",
        "\n",
        "# Sample transaction data\n",
        "data = {'Transaction': [['Milk', 'Bread', 'Beer'],\n",
        "                        ['Bread', 'Diaper', 'Beer', 'Cola'],\n",
        "                        ['Milk', 'Diaper', 'Beer'],\n",
        "                        ['Bread', 'Milk'],\n",
        "                        ['Milk', 'Diaper', 'Cola']],\n",
        "        }\n",
        "\n",
        "df = pd.DataFrame(data)\n",
        "\n",
        "# One-hot encoding of transactions\n",
        "onehot = df['Transaction'].str.join('|').str.get_dummies()\n",
        "\n",
        "# Apply Apriori algorithm\n",
        "frequent_itemsets = apriori(onehot, min_support=0.4, use_colnames=True)\n",
        "\n",
        "# Generate association rules\n",
        "rules = association_rules(frequent_itemsets, metric=\"lift\", min_threshold=1.0)\n",
        "\n",
        "print(rules)"
      ]
    }
  ]
}