{
  "nbformat": 4,
  "nbformat_minor": 0,
  "metadata": {
    "colab": {
      "private_outputs": true,
      "provenance": [],
      "authorship_tag": "ABX9TyMd0y+JcqEFFQQHHLAnftz8",
      "include_colab_link": true
    },
    "kernelspec": {
      "name": "python3",
      "display_name": "Python 3"
    },
    "language_info": {
      "name": "python"
    }
  },
  "cells": [
    {
      "cell_type": "markdown",
      "metadata": {
        "id": "view-in-github",
        "colab_type": "text"
      },
      "source": [
        "<a href=\"https://colab.research.google.com/github/OneFineStarstuff/OneFineStarstuff/blob/main/Example_Fairness_Regularization.ipynb\" target=\"_parent\"><img src=\"https://colab.research.google.com/assets/colab-badge.svg\" alt=\"Open In Colab\"/></a>"
      ]
    },
    {
      "cell_type": "code",
      "source": [
        "import torch\n",
        "import torch.nn as nn\n",
        "import torch.nn.functional as F\n",
        "\n",
        "class FairnessRegularizationLoss(nn.Module):\n",
        "    def __init__(self, lambda_fairness=0.1):\n",
        "        super().__init__()\n",
        "        self.lambda_fairness = lambda_fairness\n",
        "\n",
        "    def forward(self, predictions, labels, sensitive_attributes):\n",
        "        # Base loss\n",
        "        base_loss = F.cross_entropy(predictions, labels)\n",
        "\n",
        "        # Fairness penalty (example: correlation-based penalty)\n",
        "        pred_probs = torch.softmax(predictions, dim=1)\n",
        "        fairness_penalty = (pred_probs * sensitive_attributes).mean()\n",
        "\n",
        "        # Combined loss\n",
        "        loss = base_loss + self.lambda_fairness * fairness_penalty\n",
        "        return loss\n",
        "\n",
        "# Example usage:\n",
        "lambda_fairness = 0.1\n",
        "criterion = FairnessRegularizationLoss(lambda_fairness)\n",
        "\n",
        "predictions = torch.randn(8, 5)  # Example predictions for a 5-class problem\n",
        "labels = torch.randint(0, 5, (8,))  # Example labels\n",
        "sensitive_attributes = torch.randn(8, 5)  # Example sensitive attributes\n",
        "\n",
        "loss = criterion(predictions, labels, sensitive_attributes)\n",
        "print(loss.item())"
      ],
      "metadata": {
        "id": "l0KmCBt8DQJf"
      },
      "execution_count": null,
      "outputs": []
    }
  ]
}