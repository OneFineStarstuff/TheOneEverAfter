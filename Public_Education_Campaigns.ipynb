{
  "nbformat": 4,
  "nbformat_minor": 0,
  "metadata": {
    "colab": {
      "private_outputs": true,
      "provenance": [],
      "authorship_tag": "ABX9TyPU2QVHKk8XSekkHpImqX4d",
      "include_colab_link": true
    },
    "kernelspec": {
      "name": "python3",
      "display_name": "Python 3"
    },
    "language_info": {
      "name": "python"
    }
  },
  "cells": [
    {
      "cell_type": "markdown",
      "metadata": {
        "id": "view-in-github",
        "colab_type": "text"
      },
      "source": [
        "<a href=\"https://colab.research.google.com/github/OneFineStarstuff/OneFineStardust/blob/main/Public_Education_Campaigns.ipynb\" target=\"_parent\"><img src=\"https://colab.research.google.com/assets/colab-badge.svg\" alt=\"Open In Colab\"/></a>"
      ]
    },
    {
      "cell_type": "code",
      "execution_count": null,
      "metadata": {
        "id": "Sf_qHfLoFYiu"
      },
      "outputs": [],
      "source": [
        "class PublicEducationCampaign:\n",
        "    def __init__(self):\n",
        "        self.campaigns = []\n",
        "\n",
        "    def launch_campaign(self, topic, audience, start_date):\n",
        "        campaign = {\"topic\": topic, \"audience\": audience, \"start_date\": start_date}\n",
        "        self.campaigns.append(campaign)\n",
        "        return campaign\n",
        "\n",
        "    def get_campaigns(self):\n",
        "        return self.campaigns\n",
        "\n",
        "# Example usage\n",
        "education_campaign = PublicEducationCampaign()\n",
        "education_campaign.launch_campaign(\"AGI Benefits\", \"General Public\", \"2024-12-01\")\n",
        "education_campaign.launch_campaign(\"Ethical Challenges\", \"Students\", \"2024-12-10\")\n",
        "print(f\"Education Campaigns: {education_campaign.get_campaigns()}\")"
      ]
    }
  ]
}