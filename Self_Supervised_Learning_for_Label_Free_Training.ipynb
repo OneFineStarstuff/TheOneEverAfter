{
  "nbformat": 4,
  "nbformat_minor": 0,
  "metadata": {
    "colab": {
      "private_outputs": true,
      "provenance": [],
      "authorship_tag": "ABX9TyM8zMKh2M4Hrtg1xl7WkQxs",
      "include_colab_link": true
    },
    "kernelspec": {
      "name": "python3",
      "display_name": "Python 3"
    },
    "language_info": {
      "name": "python"
    }
  },
  "cells": [
    {
      "cell_type": "markdown",
      "metadata": {
        "id": "view-in-github",
        "colab_type": "text"
      },
      "source": [
        "<a href=\"https://colab.research.google.com/github/OneFineStarstuff/OneFineStarstuff/blob/main/Self_Supervised_Learning_for_Label_Free_Training.ipynb\" target=\"_parent\"><img src=\"https://colab.research.google.com/assets/colab-badge.svg\" alt=\"Open In Colab\"/></a>"
      ]
    },
    {
      "cell_type": "code",
      "execution_count": null,
      "metadata": {
        "id": "aTDn7jdFpPF1"
      },
      "outputs": [],
      "source": [
        "import torch\n",
        "import torch.nn as nn\n",
        "from torchvision import models, transforms\n",
        "from PIL import Image\n",
        "import numpy as np\n",
        "\n",
        "# Define self-supervised learning model using contrastive learning\n",
        "class SSLModel(nn.Module):\n",
        "    def __init__(self, base_model):\n",
        "        super(SSLModel, self).__init__()\n",
        "        self.encoder = base_model\n",
        "        self.projection = nn.Linear(self.encoder.fc.in_features, 128)\n",
        "        self.encoder.fc = nn.Identity()  # Remove final classifier layer\n",
        "\n",
        "    def forward(self, x1, x2):\n",
        "        z1 = self.projection(self.encoder(x1))\n",
        "        z2 = self.projection(self.encoder(x2))\n",
        "        return z1, z2\n",
        "\n",
        "# Contrastive loss for self-supervised learning\n",
        "def contrastive_loss(z1, z2, temperature=0.5):\n",
        "    sim = torch.nn.functional.cosine_similarity(z1.unsqueeze(1), z2.unsqueeze(0), dim=2)\n",
        "    loss = -torch.log(torch.exp(sim / temperature).diag() / torch.exp(sim / temperature).sum(1))\n",
        "    return loss.mean()\n",
        "\n",
        "# Example usage\n",
        "model = SSLModel(models.resnet18(pretrained=True))\n",
        "image_augmentations = transforms.Compose([transforms.RandomResizedCrop(224), transforms.ToTensor()])\n",
        "\n",
        "# Create dummy images as PIL images\n",
        "image1 = Image.fromarray(np.uint8(np.random.rand(224, 224, 3) * 255))\n",
        "image2 = Image.fromarray(np.uint8(np.random.rand(224, 224, 3) * 255))\n",
        "\n",
        "image1 = image_augmentations(image1)\n",
        "image2 = image_augmentations(image2)\n",
        "\n",
        "z1, z2 = model(image1.unsqueeze(0), image2.unsqueeze(0))\n",
        "loss = contrastive_loss(z1, z2)\n",
        "print(\"Self-supervised contrastive loss:\", loss.item())"
      ]
    }
  ]
}