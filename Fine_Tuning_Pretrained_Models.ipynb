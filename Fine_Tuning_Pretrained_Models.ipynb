{
  "nbformat": 4,
  "nbformat_minor": 0,
  "metadata": {
    "colab": {
      "private_outputs": true,
      "provenance": [],
      "authorship_tag": "ABX9TyPOck0qWueOj6aGfUbbdhRA",
      "include_colab_link": true
    },
    "kernelspec": {
      "name": "python3",
      "display_name": "Python 3"
    },
    "language_info": {
      "name": "python"
    }
  },
  "cells": [
    {
      "cell_type": "markdown",
      "metadata": {
        "id": "view-in-github",
        "colab_type": "text"
      },
      "source": [
        "<a href=\"https://colab.research.google.com/github/OneFineStarstuff/OneFineStarstuff/blob/main/Fine_Tuning_Pretrained_Models.ipynb\" target=\"_parent\"><img src=\"https://colab.research.google.com/assets/colab-badge.svg\" alt=\"Open In Colab\"/></a>"
      ]
    },
    {
      "cell_type": "code",
      "execution_count": null,
      "metadata": {
        "id": "IrNOJc1I76yE"
      },
      "outputs": [],
      "source": [
        "import torch\n",
        "from transformers import BertTokenizer, BertForSequenceClassification, AdamW, get_linear_schedule_with_warmup\n",
        "\n",
        "# Load pre-trained model tokenizer\n",
        "tokenizer = BertTokenizer.from_pretrained(\"bert-base-uncased\")\n",
        "\n",
        "# Example dataset (replace with your actual data)\n",
        "texts = [\"I love programming.\", \"Transformers are awesome!\", \"Hello, world!\"]\n",
        "labels = [1, 1, 0]  # Example binary labels\n",
        "\n",
        "# Tokenize the dataset\n",
        "inputs = tokenizer(texts, padding=True, truncation=True, return_tensors=\"pt\")\n",
        "input_ids = inputs[\"input_ids\"]\n",
        "attention_mask = inputs[\"attention_mask\"]\n",
        "labels = torch.tensor(labels)\n",
        "\n",
        "# Dataset and DataLoader\n",
        "dataset = torch.utils.data.TensorDataset(input_ids, attention_mask, labels)\n",
        "dataloader = torch.utils.data.DataLoader(dataset, batch_size=2, shuffle=True)\n",
        "\n",
        "# Initialize the BERT model\n",
        "model = BertForSequenceClassification.from_pretrained(\"bert-base-uncased\")\n",
        "for param in model.bert.parameters():\n",
        "    param.requires_grad = False  # Freeze BERT encoder\n",
        "\n",
        "optimizer = AdamW(model.classifier.parameters(), lr=2e-5)\n",
        "\n",
        "# Training setup\n",
        "device = torch.device(\"cuda\" if torch.cuda.is_available() else \"cpu\")\n",
        "model.to(device)\n",
        "criterion = torch.nn.CrossEntropyLoss()\n",
        "\n",
        "# Scheduler\n",
        "total_steps = len(dataloader) * 3  # Assuming 3 epochs\n",
        "scheduler = get_linear_schedule_with_warmup(optimizer, num_warmup_steps=0, num_training_steps=total_steps)\n",
        "\n",
        "# Training loop\n",
        "model.train()\n",
        "for epoch in range(3):  # Number of epochs\n",
        "    for batch in dataloader:\n",
        "        optimizer.zero_grad()\n",
        "\n",
        "        input_ids, attention_mask, labels = [x.to(device) for x in batch]\n",
        "\n",
        "        outputs = model(input_ids, attention_mask=attention_mask, labels=labels)\n",
        "        loss = outputs.loss\n",
        "        logits = outputs.logits\n",
        "\n",
        "        loss.backward()\n",
        "        optimizer.step()\n",
        "        scheduler.step()\n",
        "\n",
        "    print(f\"Epoch {epoch+1} completed.\")\n",
        "\n",
        "print(\"Fine-tuning completed!\")"
      ]
    }
  ]
}