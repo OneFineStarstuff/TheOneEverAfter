{
  "nbformat": 4,
  "nbformat_minor": 0,
  "metadata": {
    "colab": {
      "private_outputs": true,
      "provenance": [],
      "authorship_tag": "ABX9TyMOmS5MHdtmOi31epHHKMwY",
      "include_colab_link": true
    },
    "kernelspec": {
      "name": "python3",
      "display_name": "Python 3"
    },
    "language_info": {
      "name": "python"
    }
  },
  "cells": [
    {
      "cell_type": "markdown",
      "metadata": {
        "id": "view-in-github",
        "colab_type": "text"
      },
      "source": [
        "<a href=\"https://colab.research.google.com/github/OneFineStarstuff/OneFineStarstuff/blob/main/Example_code_for_logging_prediction_confidence.ipynb\" target=\"_parent\"><img src=\"https://colab.research.google.com/assets/colab-badge.svg\" alt=\"Open In Colab\"/></a>"
      ]
    },
    {
      "cell_type": "code",
      "execution_count": null,
      "metadata": {
        "id": "DG9b8PsMIUuh"
      },
      "outputs": [],
      "source": [
        "import prometheus_client\n",
        "from prometheus_client import start_http_server\n",
        "import torch\n",
        "\n",
        "# Define metrics\n",
        "prediction_confidence = prometheus_client.Histogram(\n",
        "    \"prediction_confidence\", \"Confidence in model predictions\",\n",
        "    buckets=[0.1, 0.2, 0.3, 0.4, 0.5, 0.6, 0.7, 0.8, 0.9, 1.0]\n",
        ")\n",
        "\n",
        "# Log confidence in a function\n",
        "def log_prediction_confidence(predictions):\n",
        "    confidences = predictions.softmax(dim=-1).max(dim=-1).values\n",
        "    for conf in confidences:\n",
        "        prediction_confidence.observe(conf.item())\n",
        "\n",
        "# Example usage\n",
        "if __name__ == \"__main__\":\n",
        "    # Start the Prometheus metrics server\n",
        "    start_http_server(8000)\n",
        "    print(\"Prometheus metrics server started at http://localhost:8000\")\n",
        "\n",
        "    # Example predictions tensor (assuming a batch size of 2 and 3 classes)\n",
        "    example_predictions = torch.tensor([[2.5, 1.0, 0.1], [0.3, 0.5, 2.0]])\n",
        "\n",
        "    # Log prediction confidences\n",
        "    log_prediction_confidence(example_predictions)"
      ]
    }
  ]
}