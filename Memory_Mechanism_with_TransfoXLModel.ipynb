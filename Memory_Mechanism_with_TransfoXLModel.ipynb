{
  "nbformat": 4,
  "nbformat_minor": 0,
  "metadata": {
    "colab": {
      "private_outputs": true,
      "provenance": [],
      "authorship_tag": "ABX9TyMntuOIsN/pWaW/2ouQPtRq",
      "include_colab_link": true
    },
    "kernelspec": {
      "name": "python3",
      "display_name": "Python 3"
    },
    "language_info": {
      "name": "python"
    }
  },
  "cells": [
    {
      "cell_type": "markdown",
      "metadata": {
        "id": "view-in-github",
        "colab_type": "text"
      },
      "source": [
        "<a href=\"https://colab.research.google.com/github/OneFineStarstuff/OneFineStarstuff/blob/main/Memory_Mechanism_with_TransfoXLModel.ipynb\" target=\"_parent\"><img src=\"https://colab.research.google.com/assets/colab-badge.svg\" alt=\"Open In Colab\"/></a>"
      ]
    },
    {
      "cell_type": "code",
      "execution_count": null,
      "metadata": {
        "id": "MbRkR37Pd_fY"
      },
      "outputs": [],
      "source": [
        "import torch\n",
        "from transformers import LongformerModel, LongformerTokenizer\n",
        "\n",
        "# Initialize a Longformer model\n",
        "model = LongformerModel.from_pretrained(\"allenai/longformer-base-4096\")\n",
        "tokenizer = LongformerTokenizer.from_pretrained(\"allenai/longformer-base-4096\")\n",
        "\n",
        "# Example input\n",
        "text = \"This is the start of a long conversation...\"\n",
        "inputs = tokenizer(text, return_tensors=\"pt\")\n",
        "\n",
        "# Longformer requires attention masks and global attention mask\n",
        "attention_mask = torch.ones(inputs[\"input_ids\"].shape, dtype=torch.long, device=inputs[\"input_ids\"].device)\n",
        "global_attention_mask = torch.zeros(inputs[\"input_ids\"].shape, dtype=torch.long, device=inputs[\"input_ids\"].device)\n",
        "\n",
        "# Set the CLS token to have global attention\n",
        "global_attention_mask[:, 0] = 1\n",
        "\n",
        "# Forward pass through the model\n",
        "outputs = model(input_ids=inputs[\"input_ids\"], attention_mask=attention_mask, global_attention_mask=global_attention_mask)\n",
        "last_hidden_state = outputs.last_hidden_state\n",
        "\n",
        "# Output the last hidden state\n",
        "print(last_hidden_state)"
      ]
    }
  ]
}