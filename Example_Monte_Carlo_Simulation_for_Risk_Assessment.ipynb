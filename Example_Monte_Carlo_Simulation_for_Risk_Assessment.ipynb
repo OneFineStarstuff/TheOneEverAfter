{
  "nbformat": 4,
  "nbformat_minor": 0,
  "metadata": {
    "colab": {
      "private_outputs": true,
      "provenance": [],
      "authorship_tag": "ABX9TyN/dRU4yBhOs954omji5j/i",
      "include_colab_link": true
    },
    "kernelspec": {
      "name": "python3",
      "display_name": "Python 3"
    },
    "language_info": {
      "name": "python"
    }
  },
  "cells": [
    {
      "cell_type": "markdown",
      "metadata": {
        "id": "view-in-github",
        "colab_type": "text"
      },
      "source": [
        "<a href=\"https://colab.research.google.com/github/OneFineStarstuff/OneFineStardust/blob/main/Example_Monte_Carlo_Simulation_for_Risk_Assessment.ipynb\" target=\"_parent\"><img src=\"https://colab.research.google.com/assets/colab-badge.svg\" alt=\"Open In Colab\"/></a>"
      ]
    },
    {
      "cell_type": "code",
      "execution_count": null,
      "metadata": {
        "id": "IETWCJ3AcASh"
      },
      "outputs": [],
      "source": [
        "import numpy as np\n",
        "import matplotlib.pyplot as plt\n",
        "\n",
        "# Parameters for the simulation\n",
        "num_simulations = 10000\n",
        "mean_return = 0.05\n",
        "std_dev = 0.1\n",
        "initial_investment = 1000\n",
        "\n",
        "# Simulate random returns\n",
        "random_returns = np.random.normal(mean_return, std_dev, num_simulations)\n",
        "\n",
        "# Calculate final investment values\n",
        "final_values = initial_investment * (1 + random_returns)\n",
        "\n",
        "# Plotting the distribution of final values\n",
        "plt.hist(final_values, bins=50)\n",
        "plt.title('Monte Carlo Simulation of Investment Returns')\n",
        "plt.xlabel('Final Value')\n",
        "plt.ylabel('Frequency')\n",
        "plt.grid(axis='y')\n",
        "plt.show()"
      ]
    }
  ]
}