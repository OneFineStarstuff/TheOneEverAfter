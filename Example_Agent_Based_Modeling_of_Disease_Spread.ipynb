{
  "nbformat": 4,
  "nbformat_minor": 0,
  "metadata": {
    "colab": {
      "private_outputs": true,
      "provenance": [],
      "authorship_tag": "ABX9TyPByJHVH+by/9KiVW2B0592",
      "include_colab_link": true
    },
    "kernelspec": {
      "name": "python3",
      "display_name": "Python 3"
    },
    "language_info": {
      "name": "python"
    }
  },
  "cells": [
    {
      "cell_type": "markdown",
      "metadata": {
        "id": "view-in-github",
        "colab_type": "text"
      },
      "source": [
        "<a href=\"https://colab.research.google.com/github/OneFineStarstuff/OneFineStardust/blob/main/Example_Agent_Based_Modeling_of_Disease_Spread.ipynb\" target=\"_parent\"><img src=\"https://colab.research.google.com/assets/colab-badge.svg\" alt=\"Open In Colab\"/></a>"
      ]
    },
    {
      "cell_type": "code",
      "execution_count": null,
      "metadata": {
        "id": "zCePpPpFfJRG"
      },
      "outputs": [],
      "source": [
        "import numpy as np\n",
        "import matplotlib.pyplot as plt\n",
        "\n",
        "class Population:\n",
        "    def __init__(self, size):\n",
        "        self.size = size\n",
        "        self.infected = np.zeros(size)  # Track infected individuals\n",
        "        self.infected[np.random.randint(0, size)] = 1  # Infect one individual randomly\n",
        "\n",
        "    def step(self):\n",
        "        for i in range(self.size):\n",
        "            if self.infected[i] == 1:\n",
        "                # Infect neighbors (simple model)\n",
        "                if i > 0:\n",
        "                    self.infected[i - 1] = np.random.choice([self.infected[i - 1], 1], p=[0.9, 0.1])\n",
        "                if i < self.size - 1:\n",
        "                    self.infected[i + 1] = np.random.choice([self.infected[i + 1], 1], p=[0.9, 0.1])\n",
        "\n",
        "# Initialize population\n",
        "population_size = 100\n",
        "population = Population(population_size)\n",
        "\n",
        "# Simulate over time steps\n",
        "time_steps = 50\n",
        "infected_counts = []\n",
        "\n",
        "for _ in range(time_steps):\n",
        "    population.step()\n",
        "    infected_counts.append(np.sum(population.infected))\n",
        "\n",
        "# Plotting results\n",
        "plt.plot(infected_counts)\n",
        "plt.title('Spread of Infection Over Time')\n",
        "plt.xlabel('Time Steps')\n",
        "plt.ylabel('Number of Infected Individuals')\n",
        "plt.grid()\n",
        "plt.show()"
      ]
    }
  ]
}