{
  "nbformat": 4,
  "nbformat_minor": 0,
  "metadata": {
    "colab": {
      "private_outputs": true,
      "provenance": [],
      "authorship_tag": "ABX9TyP/xY84cp5iXhiiuYn8obdy",
      "include_colab_link": true
    },
    "kernelspec": {
      "name": "python3",
      "display_name": "Python 3"
    },
    "language_info": {
      "name": "python"
    }
  },
  "cells": [
    {
      "cell_type": "markdown",
      "metadata": {
        "id": "view-in-github",
        "colab_type": "text"
      },
      "source": [
        "<a href=\"https://colab.research.google.com/github/OneFineStarstuff/OneFineStardust/blob/main/Building_a_Recommendation_System_with_Collaborative_Filtering.ipynb\" target=\"_parent\"><img src=\"https://colab.research.google.com/assets/colab-badge.svg\" alt=\"Open In Colab\"/></a>"
      ]
    },
    {
      "cell_type": "code",
      "execution_count": null,
      "metadata": {
        "id": "9VvznXTOpG0R"
      },
      "outputs": [],
      "source": [
        "import pandas as pd\n",
        "from sklearn.metrics.pairwise import cosine_similarity\n",
        "\n",
        "# Load user-item interaction data (e.g., ratings)\n",
        "ratings = pd.read_csv('ratings.csv')\n",
        "\n",
        "# Create a user-item matrix\n",
        "user_item_matrix = ratings.pivot(index='userId', columns='itemId', values='rating').fillna(0)\n",
        "\n",
        "# Calculate cosine similarity between users\n",
        "similarity_matrix = cosine_similarity(user_item_matrix)\n",
        "\n",
        "def recommend_items(user_id):\n",
        "    user_index = user_id - 1  # Adjust for zero-based indexing\n",
        "    similar_users = list(enumerate(similarity_matrix[user_index]))\n",
        "    similar_users_sorted = sorted(similar_users, key=lambda x: x[1], reverse=True)[1:6]  # Top 5 similar users\n",
        "\n",
        "    recommended_items = []\n",
        "    for i in similar_users_sorted:\n",
        "        similar_user_id = i[0] + 1  # Adjust back to original user ID scale\n",
        "        items_rated_by_similar_user = ratings[ratings['userId'] == similar_user_id]['itemId'].tolist()\n",
        "        recommended_items.extend(items_rated_by_similar_user)\n",
        "\n",
        "    return set(recommended_items)  # Return unique item recommendations\n",
        "\n",
        "recommendations = recommend_items(1)  # Replace '1' with the user ID you want recommendations for.\n",
        "print(f'Recommended Items: {recommendations}')"
      ]
    }
  ]
}