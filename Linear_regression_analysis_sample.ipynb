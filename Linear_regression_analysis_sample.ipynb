{
  "nbformat": 4,
  "nbformat_minor": 0,
  "metadata": {
    "colab": {
      "private_outputs": true,
      "provenance": [],
      "authorship_tag": "ABX9TyNGNGEUoAHTf3t1eLzYNwSD",
      "include_colab_link": true
    },
    "kernelspec": {
      "name": "python3",
      "display_name": "Python 3"
    },
    "language_info": {
      "name": "python"
    }
  },
  "cells": [
    {
      "cell_type": "markdown",
      "metadata": {
        "id": "view-in-github",
        "colab_type": "text"
      },
      "source": [
        "<a href=\"https://colab.research.google.com/github/OneFineStarstuff/OneFineStardust/blob/main/Linear_regression_analysis_sample.ipynb\" target=\"_parent\"><img src=\"https://colab.research.google.com/assets/colab-badge.svg\" alt=\"Open In Colab\"/></a>"
      ]
    },
    {
      "cell_type": "code",
      "execution_count": null,
      "metadata": {
        "id": "ayTc1tKpF_SR"
      },
      "outputs": [],
      "source": [
        "import numpy as np\n",
        "import pandas as pd\n",
        "import matplotlib.pyplot as plt\n",
        "from sklearn.linear_model import LinearRegression\n",
        "\n",
        "# Simulated data\n",
        "num_stars = 1000\n",
        "temperatures = np.random.uniform(low=3000, high=10000, size=num_stars)\n",
        "luminosities = np.random.uniform(low=0.1, high=100, size=num_stars)\n",
        "\n",
        "# Classify stars based on temperature\n",
        "star_types = np.where(temperatures > 6000, 'Hot', 'Cool')\n",
        "\n",
        "# Prepare data for regression\n",
        "data = pd.DataFrame({'Temperature': temperatures, 'Luminosity': luminosities})\n",
        "X = data[['Temperature']]\n",
        "y = data['Luminosity']\n",
        "\n",
        "# Fit linear regression model\n",
        "model = LinearRegression()\n",
        "model.fit(X, y)\n",
        "\n",
        "# Predict values\n",
        "predicted_luminosity = model.predict(X)\n",
        "\n",
        "# Plotting results\n",
        "plt.figure(figsize=(10, 6))\n",
        "plt.scatter(temperatures[star_types == 'Cool'], luminosities[star_types == 'Cool'], c='blue', alpha=0.5, label='Cool Stars')\n",
        "plt.scatter(temperatures[star_types == 'Hot'], luminosities[star_types == 'Hot'], c='red', alpha=0.5, label='Hot Stars')\n",
        "plt.plot(temperatures, predicted_luminosity, color='green', linewidth=2, label='Linear Fit')\n",
        "plt.title('Luminosity vs Temperature of Stars with Linear Regression')\n",
        "plt.xlabel('Temperature (K)')\n",
        "plt.ylabel('Luminosity (Solar Units)')\n",
        "plt.legend()\n",
        "plt.grid()\n",
        "plt.show()"
      ]
    }
  ]
}