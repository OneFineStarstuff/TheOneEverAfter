{
  "nbformat": 4,
  "nbformat_minor": 0,
  "metadata": {
    "colab": {
      "private_outputs": true,
      "provenance": [],
      "authorship_tag": "ABX9TyO69Ory0OCPzFwsavHD3RfP",
      "include_colab_link": true
    },
    "kernelspec": {
      "name": "python3",
      "display_name": "Python 3"
    },
    "language_info": {
      "name": "python"
    }
  },
  "cells": [
    {
      "cell_type": "markdown",
      "metadata": {
        "id": "view-in-github",
        "colab_type": "text"
      },
      "source": [
        "<a href=\"https://colab.research.google.com/github/OneFineStarstuff/OneFineStardust/blob/main/Financial_Portfolio_Optimization_Using_Markowitz_Model.ipynb\" target=\"_parent\"><img src=\"https://colab.research.google.com/assets/colab-badge.svg\" alt=\"Open In Colab\"/></a>"
      ]
    },
    {
      "cell_type": "code",
      "execution_count": null,
      "metadata": {
        "id": "wCvF7jtD5BOA"
      },
      "outputs": [],
      "source": [
        "import pandas as pd\n",
        "import numpy as np\n",
        "\n",
        "# Create a sample dataset\n",
        "dates = pd.date_range(start='2022-01-01', end='2022-12-31')\n",
        "stock_prices = pd.DataFrame(np.random.randn(len(dates), 5), index=dates, columns=['Stock_A', 'Stock_B', 'Stock_C', 'Stock_D', 'Stock_E'])\n",
        "\n",
        "# Save the dataset to a CSV file\n",
        "stock_prices.to_csv('stock_prices.csv')"
      ]
    },
    {
      "cell_type": "code",
      "source": [
        "import numpy as np\n",
        "import pandas as pd\n",
        "\n",
        "# Load historical stock price data\n",
        "file_path = 'path/to/your/stock_prices.csv'  # Replace with the actual file path\n",
        "data = pd.read_csv(file_path, index_col=0)\n",
        "\n",
        "# Calculate daily returns\n",
        "returns = data.pct_change().dropna()\n",
        "\n",
        "# Calculate expected returns and covariance matrix\n",
        "expected_returns = returns.mean()\n",
        "cov_matrix = returns.cov()\n",
        "\n",
        "# Portfolio optimization function\n",
        "def portfolio_optimization(num_portfolios=10000):\n",
        "    results = np.zeros((3,num_portfolios))\n",
        "\n",
        "    for i in range(num_portfolios):\n",
        "        weights = np.random.random(len(data.columns))\n",
        "        weights /= np.sum(weights)  # Normalize weights\n",
        "\n",
        "        portfolio_return = np.dot(weights, expected_returns) * 252  # Annualize return\n",
        "        portfolio_std_dev = np.sqrt(np.dot(weights.T, np.dot(cov_matrix * 252, weights)))  # Annualize risk\n",
        "\n",
        "        results[0,i] = portfolio_return\n",
        "        results[1,i] = portfolio_std_dev\n",
        "        results[2,i] = results[0,i] / results[1,i]  # Sharpe ratio\n",
        "\n",
        "    return results\n",
        "\n",
        "results = portfolio_optimization()\n",
        "print(f\"Optimal Portfolio Return: {results[0].max()}\")\n",
        "print(f\"Optimal Portfolio Risk: {results[1].min()}\")"
      ],
      "metadata": {
        "id": "LxodwUvS6XfW"
      },
      "execution_count": null,
      "outputs": []
    }
  ]
}